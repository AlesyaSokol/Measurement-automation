{
 "cells": [
  {
   "cell_type": "code",
   "execution_count": 1,
   "metadata": {
    "collapsed": false
   },
   "outputs": [
    {
     "name": "stdout",
     "output_type": "stream",
     "text": [
      "Populating the interactive namespace from numpy and matplotlib\n"
     ]
    }
   ],
   "source": [
    "%pylab inline"
   ]
  },
  {
   "cell_type": "code",
   "execution_count": 2,
   "metadata": {
    "collapsed": true
   },
   "outputs": [],
   "source": [
    "from importlib import reload"
   ]
  },
  {
   "cell_type": "code",
   "execution_count": 3,
   "metadata": {
    "collapsed": true
   },
   "outputs": [],
   "source": [
    "import drivers\n",
    "from time import sleep\n",
    "import pickle"
   ]
  },
  {
   "cell_type": "code",
   "execution_count": 4,
   "metadata": {
    "collapsed": true
   },
   "outputs": [],
   "source": [
    "from drivers.KeysightAWG import *\n",
    "from drivers.Agilent_PNA_L import *"
   ]
  },
  {
   "cell_type": "code",
   "execution_count": 16,
   "metadata": {
    "collapsed": true
   },
   "outputs": [],
   "source": [
    "from scipy.optimize import minimize"
   ]
  },
  {
   "cell_type": "code",
   "execution_count": null,
   "metadata": {
    "collapsed": false
   },
   "outputs": [],
   "source": [
    "rc(\"font\", size=15)"
   ]
  },
  {
   "cell_type": "markdown",
   "metadata": {},
   "source": [
    "## DC offset calibration"
   ]
  },
  {
   "cell_type": "code",
   "execution_count": null,
   "metadata": {
    "collapsed": false
   },
   "outputs": [],
   "source": [
    "pna_l.set_nop(100)\n",
    "pna_l.set_xlim(4.5e9, 9e9)\n",
    "pna_l.set_bandwidth(1000)"
   ]
  },
  {
   "cell_type": "code",
   "execution_count": null,
   "metadata": {
    "collapsed": false
   },
   "outputs": [],
   "source": []
  },
  {
   "cell_type": "code",
   "execution_count": null,
   "metadata": {
    "collapsed": false
   },
   "outputs": [],
   "source": [
    "plt.plot(*get_vna_trace(pna_l))\n",
    "awg.apply_waveform(WaveformType.dc,0,0,1,1)\n",
    "plt.plot(*get_vna_trace(pna_l))\n",
    "awg.apply_waveform(WaveformType.dc,0,0,0,1)\n",
    "# plt.plot(*get_vna_trace(pna_l))\n",
    "# awg.set_outp2(0)\n",
    "# awg.set_outp2_compl(0)\n",
    "# awg.set_outp2(1)\n",
    "# awg.apply_waveform(WaveformType.dc,0,0,1,2)\n",
    "# plt.plot(*get_vna_trace(pna_l))"
   ]
  },
  {
   "cell_type": "code",
   "execution_count": null,
   "metadata": {
    "collapsed": false
   },
   "outputs": [],
   "source": [
    "def get_transmission_data(N=101):\n",
    "    transmission_data = []\n",
    "    V_vals =  linspace(-0.1,0.1,N)\n",
    "    for V_dc1 in V_vals:\n",
    "        for V_dc2 in V_vals:\n",
    "            print(\"\\r\", V_dc1, V_dc2, end=\"\", flush=True)\n",
    "            awg.apply_waveform(WaveformType.dc,0,0,V_dc1,1)\n",
    "            awg.apply_waveform(WaveformType.dc,0,0,V_dc2,2)\n",
    "            transmission_data.append(get_vna_trace(pna_l)[1])\n",
    "    return V_vals, array(transmission_data)"
   ]
  },
  {
   "cell_type": "code",
   "execution_count": null,
   "metadata": {
    "collapsed": false
   },
   "outputs": [],
   "source": [
    "V_vals, transmission_data=get_transmission_data(201)"
   ]
  },
  {
   "cell_type": "code",
   "execution_count": null,
   "metadata": {
    "collapsed": false
   },
   "outputs": [],
   "source": [
    "with open(\"marki_iq_4509_cal_data.pkl\", \"wb\") as f:\n",
    "    pickle.dump((V_vals, transmission_data.reshape(V_vals.shape*2+(100,)), 2), f)"
   ]
  },
  {
   "cell_type": "code",
   "execution_count": null,
   "metadata": {
    "collapsed": false
   },
   "outputs": [],
   "source": [
    "# pcolormesh(V_vals, V_vals, 20*log10(np.min(transmission_data.reshape(V_vals.shape*2+(pna_l.get_nop(),)), 2)), cmap=\"RdBu_r\")\n",
    "# pcolormesh(V_vals, V_vals, 20*log10(transmission_data.reshape(V_vals.shape*2+(5,)))[:,:,3], cmap=\"RdBu_r\")\n",
    "pcolormesh(V_vals, V_vals, 20*log10(transmission_data.reshape(V_vals.shape*2+(100,)))[:,:,10], cmap=\"RdBu_r\")\n",
    "\n",
    "# plt.xlim(-5,5)\n",
    "# plt.ylim(-5,5)\n",
    "plt.axis(\"tight\")\n",
    "plt.gcf().set_size_inches(12,6)\n",
    "cb = plt.colorbar()\n",
    "plt.grid()\n",
    "cb.set_label(\"$|S_{21}|$\", fontsize=18)"
   ]
  },
  {
   "cell_type": "code",
   "execution_count": null,
   "metadata": {
    "collapsed": false
   },
   "outputs": [],
   "source": [
    "data = 20*log10(transmission_data.reshape(V_vals.shape*2+(100,)))[:,:,10]"
   ]
  },
  {
   "cell_type": "code",
   "execution_count": null,
   "metadata": {
    "collapsed": false
   },
   "outputs": [],
   "source": [
    "x,y = np.unravel_index(np.argmin(data),data.shape)\n",
    "V_vals[x], V_vals[y]"
   ]
  },
  {
   "cell_type": "markdown",
   "metadata": {},
   "source": [
    "## Full calibration with EXA spectrum analyzer"
   ]
  },
  {
   "cell_type": "markdown",
   "metadata": {},
   "source": [
    "### DC with no pulse (DC$^0$)"
   ]
  },
  {
   "cell_type": "code",
   "execution_count": 9,
   "metadata": {
    "collapsed": false
   },
   "outputs": [],
   "source": [
    "reload(drivers.Agilent_EXA)\n",
    "from drivers.Agilent_EXA import *\n",
    "reload(drivers.KeysightAWG)\n",
    "from drivers.KeysightAWG import KeysightAWG, WaveformType\n",
    "from drivers.E8257D import E8257D"
   ]
  },
  {
   "cell_type": "code",
   "execution_count": 10,
   "metadata": {
    "collapsed": true
   },
   "outputs": [],
   "source": [
    "def loss_function(voltages):\n",
    "    vdc1, vdc2 = voltages\n",
    "    awg.output_continuous_wave(frequency=100e6, amplitude=0, phase=0, offset=vdc1, channel=1)\n",
    "    awg.output_continuous_wave(frequency=100e6, amplitude=0, phase=0, offset=vdc2, channel=2)\n",
    "    exa.prepare_for_stb()\n",
    "    exa.sweep_single()\n",
    "    exa.wait_for_stb()\n",
    "    answer = exa.get_tracedata()\n",
    "    exa.set_averages(1+int(exp((-answer-51)/10)))\n",
    "    print(\"\\r\", voltages, answer, end=\", \", flush=True)\n",
    "    return answer"
   ]
  },
  {
   "cell_type": "code",
   "execution_count": 12,
   "metadata": {
    "collapsed": false
   },
   "outputs": [],
   "source": [
    "exa = Agilent_EXA_N9010A(\"SA\", \"EXA\")\n",
    "awg = KeysightAWG(\"AWG2\")\n",
    "mwsrc = E8257D(\"MXG\")"
   ]
  },
  {
   "cell_type": "code",
   "execution_count": 13,
   "metadata": {
    "collapsed": true
   },
   "outputs": [],
   "source": [
    "mwsrc.set_frequency(5e9)\n",
    "mwsrc.set_power(10)"
   ]
  },
  {
   "cell_type": "code",
   "execution_count": 14,
   "metadata": {
    "collapsed": false
   },
   "outputs": [
    {
     "data": {
      "text/plain": [
       "True"
      ]
     },
     "execution_count": 14,
     "metadata": {},
     "output_type": "execute_result"
    }
   ],
   "source": [
    "exa.set_nop(1)\n",
    "exa.set_span(0e6)\n",
    "exa.set_bandwidth(50)"
   ]
  },
  {
   "cell_type": "code",
   "execution_count": 18,
   "metadata": {
    "collapsed": false
   },
   "outputs": [
    {
     "name": "stdout",
     "output_type": "stream",
     "text": [
      " [-0.006411   -0.01100238] [-64.59459686], Warning: Maximum number of iterations has been exceeded.\n",
      "  status: 2\n",
      " message: 'Maximum number of iterations has been exceeded.'\n",
      "    nfev: 105\n",
      " success: False\n",
      "     nit: 50\n",
      "     fun: -71.87890625\n",
      "       x: array([-0.00641219, -0.01100209])\n",
      "Wall time: 1min 1s\n"
     ]
    },
    {
     "name": "stderr",
     "output_type": "stream",
     "text": [
      "C:\\Anaconda3\\lib\\site-packages\\ipykernel\\__main__.py:1: OptimizeWarning: Unknown solver options: fatol, xatol\n",
      "  if __name__ == '__main__':\n"
     ]
    }
   ],
   "source": [
    "%%time\n",
    "res = minimize(loss_function, (.1,.1), method=\"Nelder-Mead\", options={\"disp\":True, \"maxiter\":50, \"xatol\":0.1, \"fatol\":10})\n",
    "print(res)"
   ]
  },
  {
   "cell_type": "code",
   "execution_count": null,
   "metadata": {
    "collapsed": false,
    "scrolled": true
   },
   "outputs": [],
   "source": [
    "loss_function(res.x)"
   ]
  },
  {
   "cell_type": "code",
   "execution_count": null,
   "metadata": {
    "collapsed": true
   },
   "outputs": [],
   "source": [
    "exa.sweep_single()"
   ]
  },
  {
   "cell_type": "markdown",
   "metadata": {},
   "source": [
    "### Continuous IF wave calibration"
   ]
  },
  {
   "cell_type": "code",
   "execution_count": null,
   "metadata": {
    "collapsed": true
   },
   "outputs": [],
   "source": [
    "f_lo = 5e9\n",
    "f_if = 1e8"
   ]
  },
  {
   "cell_type": "code",
   "execution_count": null,
   "metadata": {
    "collapsed": true
   },
   "outputs": [],
   "source": [
    "def loss_function_if_dc(voltages, args):\n",
    "    vdc1, vdc2 = voltages\n",
    "    amp1, amp2 = args[0]\n",
    "    phase = args[1]\n",
    "    awg.output_continuous_wave(frequency=100e6, amplitude=amp1, phase=phase, offset=vdc1, channel=1)\n",
    "    awg.output_continuous_wave(frequency=100e6, amplitude=amp2, phase=0, offset=vdc2, channel=2)\n",
    "    exa.prepare_for_stb();exa.sweep_single();exa.wait_for_stb()\n",
    "    data = exa.get_tracedata()\n",
    "    answer =  data[1]\n",
    "    print(\"\\rDC offsets: \", voltages, data, end=\", \", flush=True)\n",
    "    return answer\n",
    "def loss_function_if_amps(amplitudes, args):\n",
    "    amp1, amp2 = amplitudes\n",
    "    vdc1, vdc2 = args[0]\n",
    "    phase = args[1]\n",
    "    awg.output_continuous_wave(frequency=100e6, amplitude=amp1, phase=phase, offset=vdc1, channel=1)\n",
    "    awg.output_continuous_wave(frequency=100e6, amplitude=amp2, phase=0, offset=vdc2, channel=2)\n",
    "    exa.prepare_for_stb();exa.sweep_single();exa.wait_for_stb()\n",
    "    data = exa.get_tracedata()\n",
    "    answer =  data[2] + abs(-15 - data[0])*10\n",
    "    print(\"\\rAmplitudes: \", amplitudes, data, end=\", \", flush=True)\n",
    "    return answer\n",
    "def loss_function_if_phase(phase, args):\n",
    "    vdc1, vdc2 = args[0]\n",
    "    amp1, amp2 = args[1]\n",
    "    awg.output_continuous_wave(frequency=100e6, amplitude=amp1, phase=phase, offset=vdc1, channel=1)\n",
    "    awg.output_continuous_wave(frequency=100e6, amplitude=amp2, phase=0, offset=vdc2, channel=2)\n",
    "    exa.prepare_for_stb();exa.sweep_single();exa.wait_for_stb()\n",
    "    data = exa.get_tracedata()\n",
    "    answer =  data[2] - data[0]\n",
    "    print(\"\\rPhase: \", phase/pi, data, end=\", \", flush=True)\n",
    "    return answer"
   ]
  },
  {
   "cell_type": "code",
   "execution_count": null,
   "metadata": {
    "collapsed": true
   },
   "outputs": [],
   "source": [
    "def iterate_minimization(prev_results, n=2):\n",
    "    exa.setup_list_sweep([f_lo-f_if, f_lo, f_lo+f_if], [200]*3)\n",
    "    res_dc = minimize(loss_function_if_dc, prev_results[\"if_dc\"], args=[prev_results[\"if_amps\"], prev_results[\"if_phase\"]],\n",
    "                      method=\"Nelder-Mead\", options={\"maxiter\":30})\n",
    "    res_amps = minimize(loss_function_if_amps, prev_results[\"if_amps\"], args=[res_dc.x, prev_results[\"if_phase\"]],\n",
    "                        method=\"Nelder-Mead\", options={\"maxiter\":20})\n",
    "    res_phase = minimize(loss_function_if_phase, prev_results[\"if_phase\"], args=[res_dc.x, res_amps.x],\n",
    "                         method=\"Nelder-Mead\", options={\"maxiter\":20})\n",
    "    results[\"if_dc\"] = res_dc.x\n",
    "    results[\"if_amps\"] = res_amps.x\n",
    "    results[\"if_phase\"] = res_phase.x\n",
    "    if(n-1==0):\n",
    "        return\n",
    "    iterate_minimization(results, n-1)"
   ]
  },
  {
   "cell_type": "code",
   "execution_count": null,
   "metadata": {
    "collapsed": true
   },
   "outputs": [],
   "source": [
    "results = {\"if_dc\":(0.1, 0.1), \"if_amps\":(0.5,0.5), \"if_phase\":-pi*0.54}"
   ]
  },
  {
   "cell_type": "code",
   "execution_count": null,
   "metadata": {
    "collapsed": false
   },
   "outputs": [],
   "source": [
    "iterate_minimization(results)"
   ]
  },
  {
   "cell_type": "code",
   "execution_count": null,
   "metadata": {
    "collapsed": false,
    "scrolled": true
   },
   "outputs": [],
   "source": [
    "exa.prepare_for_stb();exa.sweep_single();exa.wait_for_stb()\n",
    "exa.get_tracedata()"
   ]
  },
  {
   "cell_type": "markdown",
   "metadata": {},
   "source": [
    "Check results"
   ]
  },
  {
   "cell_type": "code",
   "execution_count": null,
   "metadata": {
    "collapsed": true
   },
   "outputs": [],
   "source": [
    "exa.setup_swept_sa(4.9e9, 800e6, nop=501, rbw=10e3)\n",
    "exa.prepare_for_stb()\n",
    "exa.sweep_single()\n",
    "exa.wait_for_stb()"
   ]
  },
  {
   "cell_type": "code",
   "execution_count": null,
   "metadata": {
    "collapsed": false
   },
   "outputs": [],
   "source": [
    "plt.plot(exa.get_freqpoints(), exa.get_tracedata())\n",
    "plt.grid()\n",
    "plt.gcf().set_size_inches(15,5)"
   ]
  },
  {
   "cell_type": "code",
   "execution_count": null,
   "metadata": {
    "collapsed": false
   },
   "outputs": [],
   "source": [
    "try:\n",
    "    with open(\"LOL\") as f:\n",
    "        pass\n",
    "except FileNotFoundError:\n",
    "    print(\"LOL\")"
   ]
  },
  {
   "cell_type": "code",
   "execution_count": null,
   "metadata": {
    "collapsed": true
   },
   "outputs": [],
   "source": []
  }
 ],
 "metadata": {
  "kernelspec": {
   "display_name": "Python 3",
   "language": "python",
   "name": "python3"
  },
  "language_info": {
   "codemirror_mode": {
    "name": "ipython",
    "version": 3
   },
   "file_extension": ".py",
   "mimetype": "text/x-python",
   "name": "python",
   "nbconvert_exporter": "python",
   "pygments_lexer": "ipython3",
   "version": "3.6.0"
  }
 },
 "nbformat": 4,
 "nbformat_minor": 0
}
