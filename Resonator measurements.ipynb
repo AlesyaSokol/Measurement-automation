{
 "cells": [
  {
   "cell_type": "markdown",
   "metadata": {},
   "source": [
    "# Notebook for getting S$_{14}$s of resonators vs "
   ]
  },
  {
   "cell_type": "markdown",
   "metadata": {},
   "source": [
    "Loading libraries requred below:"
   ]
  },
  {
   "cell_type": "code",
   "execution_count": 13,
   "metadata": {},
   "outputs": [
    {
     "name": "stdout",
     "output_type": "stream",
     "text": [
      "Populating the interactive namespace from numpy and matplotlib\n"
     ]
    }
   ],
   "source": [
    "%pylab notebook"
   ]
  },
  {
   "cell_type": "code",
   "execution_count": 14,
   "metadata": {},
   "outputs": [],
   "source": [
    "import time\n",
    "import pickle\n",
    "import sys\n",
    "from scipy.signal import argrelextrema\n",
    "from scipy.optimize import curve_fit\n",
    "import os"
   ]
  },
  {
   "cell_type": "code",
   "execution_count": 15,
   "metadata": {},
   "outputs": [],
   "source": [
    "from drivers.Agilent_PNA_L import *\n",
    "from drivers.znb import *"
   ]
  },
  {
   "cell_type": "markdown",
   "metadata": {},
   "source": [
    "### Setting the name for the sample"
   ]
  },
  {
   "cell_type": "code",
   "execution_count": 16,
   "metadata": {},
   "outputs": [],
   "source": [
    "#sample_name = \"Xmon_2Q_holes(1808_068-3)\" #sample name will be used in the filenames\n",
    "sample_name = \"Xmon-1810-008-2\"\n",
    "s_param = \"S14\" # specify where the sample is connected"
   ]
  },
  {
   "cell_type": "markdown",
   "metadata": {},
   "source": [
    "### Getting the general view S$_{21}$ scan of the sample and detect resonator positions"
   ]
  },
  {
   "cell_type": "code",
   "execution_count": 17,
   "metadata": {
    "scrolled": true
   },
   "outputs": [
    {
     "name": "stderr",
     "output_type": "stream",
     "text": [
      "Exception ignored in: <object repr() failed>\n",
      "Traceback (most recent call last):\n",
      "  File \"C:\\Users\\lab128\\AppData\\Local\\conda\\conda\\envs\\qubit-measurements\\lib\\site-packages\\pyvisa\\resources\\resource.py\", line 108, in __del__\n",
      "    self.close()\n",
      "  File \"C:\\Users\\lab128\\AppData\\Local\\conda\\conda\\envs\\qubit-measurements\\lib\\site-packages\\pyvisa\\resources\\resource.py\", line 244, in close\n",
      "    self.visalib.close(self.session)\n",
      "  File \"C:\\Users\\lab128\\AppData\\Local\\conda\\conda\\envs\\qubit-measurements\\lib\\site-packages\\pyvisa\\ctwrapper\\functions.py\", line 394, in close\n",
      "    return library.viClose(session)\n",
      "  File \"C:\\Users\\lab128\\AppData\\Local\\conda\\conda\\envs\\qubit-measurements\\lib\\site-packages\\pyvisa\\ctwrapper\\highlevel.py\", line 188, in _return_handler\n",
      "    raise errors.VisaIOError(ret_value)\n",
      "pyvisa.errors.VisaIOError: VI_ERROR_CLOSING_FAILED (-1073807338): The VISA driver failed to properly close the session or object reference. This might be due to an error freeing internal or OS resources, a failed network connection, or a lower-level driver or OS error.\n"
     ]
    }
   ],
   "source": [
    "# vna = Agilent_PNA_L(\"PNA-L2\") # loading the vector network analyser object from the driver\n",
    "vna = Znb(\"ZNB\")"
   ]
  },
  {
   "cell_type": "code",
   "execution_count": 18,
   "metadata": {},
   "outputs": [],
   "source": [
    "vna.select_S_param(s_param)"
   ]
  },
  {
   "cell_type": "code",
   "execution_count": 19,
   "metadata": {},
   "outputs": [],
   "source": [
    "vna.sweep_hold()"
   ]
  },
  {
   "cell_type": "code",
   "execution_count": 20,
   "metadata": {},
   "outputs": [],
   "source": [
    "vna.set_average_mode(\"REDUCE\")"
   ]
  },
  {
   "cell_type": "markdown",
   "metadata": {},
   "source": [
    "Setting the parameters of the scan:"
   ]
  },
  {
   "cell_type": "code",
   "execution_count": 21,
   "metadata": {},
   "outputs": [],
   "source": [
    "vna.set_xlim(5e9, 8e9) # setting the scan area\n",
    "vna.set_bandwidth(1000)\n",
    "vna.set_nop(10001)\n",
    "vna.set_averages(1)\n",
    "vna.set_power(0)"
   ]
  },
  {
   "cell_type": "code",
   "execution_count": 22,
   "metadata": {},
   "outputs": [],
   "source": [
    "vna.prepare_for_stb()\n",
    "vna.sweep_single() # triggering the sweep\n",
    "vna.wait_for_stb()\n",
    "vna.autoscale_all()"
   ]
  },
  {
   "cell_type": "code",
   "execution_count": 11,
   "metadata": {},
   "outputs": [],
   "source": [
    "def guess_scan_areas(freqs, sdata, area_size, depth):\n",
    "    '''\n",
    "    Function to get the approximate positions of the resonator dips and return small areas around them\n",
    "    Parameters:\n",
    "    -----------\n",
    "        area_size : double\n",
    "        Sets the diams of the returned scan areas (Hz)\n",
    "        \n",
    "        depth : double\n",
    "        Count everything deeper than median transmission depth near a minimum as a resonator dip. \n",
    "        Should be chosen manually each time\n",
    "    Returns:\n",
    "        scan_areas : list\n",
    "        A list of tuples each representing an area in frequency presumably around the resonator dips\n",
    "    '''\n",
    "    freqs, amps = vna.get_frequencies(), 20*log10(abs(vna.get_sdata()))\n",
    "    window = 100\n",
    "    extrema = argrelextrema(amps, np.less, order=window)[0]\n",
    "    deep_minima = []\n",
    "    for extremum in extrema:\n",
    "        mean_transmission = median(amps[extremum-window//2:extremum+window//2])\n",
    "        if amps[extremum]<mean_transmission-depth:\n",
    "            deep_minima.append(freqs[extremum])\n",
    "    return [(m-area_size/2, m+area_size/2) for m in deep_minima]"
   ]
  },
  {
   "cell_type": "code",
   "execution_count": 24,
   "metadata": {},
   "outputs": [
    {
     "data": {
      "text/plain": [
       "([(6452800000.0, 6502800000.0),\n",
       "  (6547900000.0, 6597900000.0),\n",
       "  (6639700000.0, 6689700000.0),\n",
       "  (6731800000.0, 6781800000.0),\n",
       "  (6820000000.0, 6870000000.0),\n",
       "  (6911800000.0, 6961800000.0),\n",
       "  (7432000000.0, 7482000000.0),\n",
       "  (7626400000.0, 7676400000.0)],\n",
       " 8)"
      ]
     },
     "execution_count": 24,
     "metadata": {},
     "output_type": "execute_result"
    }
   ],
   "source": [
    "scan_areas = guess_scan_areas(1e6, 0, 50e6, 3)[:]\n",
    "#scan_areas[:10], len(scan_areas)\n",
    "scan_areas, len(scan_areas)"
   ]
  },
  {
   "cell_type": "code",
   "execution_count": 15,
   "metadata": {
    "collapsed": true
   },
   "outputs": [],
   "source": [
    "# manual override for the scan areas, don't use if guessing succeeded\n",
    "# scan_areas = [(8.09e9, 8.096e9),(8357650000.0, 8362650000.0)] \n",
    "# scan_areas.append((7.7e9, 7.8e9))\n",
    "# scan_areas[7] = (7.737e9, 7.741e9)\n",
    "# scan_areas.insert(-1, (7.48e9, 7.488e9))\n",
    "# del scan_areas[-2:]\n",
    "#scan_areas, len(scan_areas)\n",
    "\n",
    "#([(7502280000.0, 7522280000.0),\n",
    "#  (7598880000.0, 7618880000.0),\n",
    "#  (7679520000.0, 7699520000.0),\n",
    "#  (7783120000.0, 7803120000.0),\n",
    "#  (7868520000.0, 7888520000.0),\n",
    "#  (7969880000.0, 7989880000.0),\n",
    "#  (8468280000.0, 8488280000.0),\n",
    "#  (8717200000.0, 8737200000.0)],\n",
    "# 8)"
   ]
  },
  {
   "cell_type": "code",
   "execution_count": 25,
   "metadata": {
    "scrolled": false
   },
   "outputs": [
    {
     "data": {
      "application/javascript": [
       "/* Put everything inside the global mpl namespace */\n",
       "window.mpl = {};\n",
       "\n",
       "\n",
       "mpl.get_websocket_type = function() {\n",
       "    if (typeof(WebSocket) !== 'undefined') {\n",
       "        return WebSocket;\n",
       "    } else if (typeof(MozWebSocket) !== 'undefined') {\n",
       "        return MozWebSocket;\n",
       "    } else {\n",
       "        alert('Your browser does not have WebSocket support. ' +\n",
       "              'Please try Chrome, Safari or Firefox ≥ 6. ' +\n",
       "              'Firefox 4 and 5 are also supported but you ' +\n",
       "              'have to enable WebSockets in about:config.');\n",
       "    };\n",
       "}\n",
       "\n",
       "mpl.figure = function(figure_id, websocket, ondownload, parent_element) {\n",
       "    this.id = figure_id;\n",
       "\n",
       "    this.ws = websocket;\n",
       "\n",
       "    this.supports_binary = (this.ws.binaryType != undefined);\n",
       "\n",
       "    if (!this.supports_binary) {\n",
       "        var warnings = document.getElementById(\"mpl-warnings\");\n",
       "        if (warnings) {\n",
       "            warnings.style.display = 'block';\n",
       "            warnings.textContent = (\n",
       "                \"This browser does not support binary websocket messages. \" +\n",
       "                    \"Performance may be slow.\");\n",
       "        }\n",
       "    }\n",
       "\n",
       "    this.imageObj = new Image();\n",
       "\n",
       "    this.context = undefined;\n",
       "    this.message = undefined;\n",
       "    this.canvas = undefined;\n",
       "    this.rubberband_canvas = undefined;\n",
       "    this.rubberband_context = undefined;\n",
       "    this.format_dropdown = undefined;\n",
       "\n",
       "    this.image_mode = 'full';\n",
       "\n",
       "    this.root = $('<div/>');\n",
       "    this._root_extra_style(this.root)\n",
       "    this.root.attr('style', 'display: inline-block');\n",
       "\n",
       "    $(parent_element).append(this.root);\n",
       "\n",
       "    this._init_header(this);\n",
       "    this._init_canvas(this);\n",
       "    this._init_toolbar(this);\n",
       "\n",
       "    var fig = this;\n",
       "\n",
       "    this.waiting = false;\n",
       "\n",
       "    this.ws.onopen =  function () {\n",
       "            fig.send_message(\"supports_binary\", {value: fig.supports_binary});\n",
       "            fig.send_message(\"send_image_mode\", {});\n",
       "            if (mpl.ratio != 1) {\n",
       "                fig.send_message(\"set_dpi_ratio\", {'dpi_ratio': mpl.ratio});\n",
       "            }\n",
       "            fig.send_message(\"refresh\", {});\n",
       "        }\n",
       "\n",
       "    this.imageObj.onload = function() {\n",
       "            if (fig.image_mode == 'full') {\n",
       "                // Full images could contain transparency (where diff images\n",
       "                // almost always do), so we need to clear the canvas so that\n",
       "                // there is no ghosting.\n",
       "                fig.context.clearRect(0, 0, fig.canvas.width, fig.canvas.height);\n",
       "            }\n",
       "            fig.context.drawImage(fig.imageObj, 0, 0);\n",
       "        };\n",
       "\n",
       "    this.imageObj.onunload = function() {\n",
       "        fig.ws.close();\n",
       "    }\n",
       "\n",
       "    this.ws.onmessage = this._make_on_message_function(this);\n",
       "\n",
       "    this.ondownload = ondownload;\n",
       "}\n",
       "\n",
       "mpl.figure.prototype._init_header = function() {\n",
       "    var titlebar = $(\n",
       "        '<div class=\"ui-dialog-titlebar ui-widget-header ui-corner-all ' +\n",
       "        'ui-helper-clearfix\"/>');\n",
       "    var titletext = $(\n",
       "        '<div class=\"ui-dialog-title\" style=\"width: 100%; ' +\n",
       "        'text-align: center; padding: 3px;\"/>');\n",
       "    titlebar.append(titletext)\n",
       "    this.root.append(titlebar);\n",
       "    this.header = titletext[0];\n",
       "}\n",
       "\n",
       "\n",
       "\n",
       "mpl.figure.prototype._canvas_extra_style = function(canvas_div) {\n",
       "\n",
       "}\n",
       "\n",
       "\n",
       "mpl.figure.prototype._root_extra_style = function(canvas_div) {\n",
       "\n",
       "}\n",
       "\n",
       "mpl.figure.prototype._init_canvas = function() {\n",
       "    var fig = this;\n",
       "\n",
       "    var canvas_div = $('<div/>');\n",
       "\n",
       "    canvas_div.attr('style', 'position: relative; clear: both; outline: 0');\n",
       "\n",
       "    function canvas_keyboard_event(event) {\n",
       "        return fig.key_event(event, event['data']);\n",
       "    }\n",
       "\n",
       "    canvas_div.keydown('key_press', canvas_keyboard_event);\n",
       "    canvas_div.keyup('key_release', canvas_keyboard_event);\n",
       "    this.canvas_div = canvas_div\n",
       "    this._canvas_extra_style(canvas_div)\n",
       "    this.root.append(canvas_div);\n",
       "\n",
       "    var canvas = $('<canvas/>');\n",
       "    canvas.addClass('mpl-canvas');\n",
       "    canvas.attr('style', \"left: 0; top: 0; z-index: 0; outline: 0\")\n",
       "\n",
       "    this.canvas = canvas[0];\n",
       "    this.context = canvas[0].getContext(\"2d\");\n",
       "\n",
       "    var backingStore = this.context.backingStorePixelRatio ||\n",
       "\tthis.context.webkitBackingStorePixelRatio ||\n",
       "\tthis.context.mozBackingStorePixelRatio ||\n",
       "\tthis.context.msBackingStorePixelRatio ||\n",
       "\tthis.context.oBackingStorePixelRatio ||\n",
       "\tthis.context.backingStorePixelRatio || 1;\n",
       "\n",
       "    mpl.ratio = (window.devicePixelRatio || 1) / backingStore;\n",
       "\n",
       "    var rubberband = $('<canvas/>');\n",
       "    rubberband.attr('style', \"position: absolute; left: 0; top: 0; z-index: 1;\")\n",
       "\n",
       "    var pass_mouse_events = true;\n",
       "\n",
       "    canvas_div.resizable({\n",
       "        start: function(event, ui) {\n",
       "            pass_mouse_events = false;\n",
       "        },\n",
       "        resize: function(event, ui) {\n",
       "            fig.request_resize(ui.size.width, ui.size.height);\n",
       "        },\n",
       "        stop: function(event, ui) {\n",
       "            pass_mouse_events = true;\n",
       "            fig.request_resize(ui.size.width, ui.size.height);\n",
       "        },\n",
       "    });\n",
       "\n",
       "    function mouse_event_fn(event) {\n",
       "        if (pass_mouse_events)\n",
       "            return fig.mouse_event(event, event['data']);\n",
       "    }\n",
       "\n",
       "    rubberband.mousedown('button_press', mouse_event_fn);\n",
       "    rubberband.mouseup('button_release', mouse_event_fn);\n",
       "    // Throttle sequential mouse events to 1 every 20ms.\n",
       "    rubberband.mousemove('motion_notify', mouse_event_fn);\n",
       "\n",
       "    rubberband.mouseenter('figure_enter', mouse_event_fn);\n",
       "    rubberband.mouseleave('figure_leave', mouse_event_fn);\n",
       "\n",
       "    canvas_div.on(\"wheel\", function (event) {\n",
       "        event = event.originalEvent;\n",
       "        event['data'] = 'scroll'\n",
       "        if (event.deltaY < 0) {\n",
       "            event.step = 1;\n",
       "        } else {\n",
       "            event.step = -1;\n",
       "        }\n",
       "        mouse_event_fn(event);\n",
       "    });\n",
       "\n",
       "    canvas_div.append(canvas);\n",
       "    canvas_div.append(rubberband);\n",
       "\n",
       "    this.rubberband = rubberband;\n",
       "    this.rubberband_canvas = rubberband[0];\n",
       "    this.rubberband_context = rubberband[0].getContext(\"2d\");\n",
       "    this.rubberband_context.strokeStyle = \"#000000\";\n",
       "\n",
       "    this._resize_canvas = function(width, height) {\n",
       "        // Keep the size of the canvas, canvas container, and rubber band\n",
       "        // canvas in synch.\n",
       "        canvas_div.css('width', width)\n",
       "        canvas_div.css('height', height)\n",
       "\n",
       "        canvas.attr('width', width * mpl.ratio);\n",
       "        canvas.attr('height', height * mpl.ratio);\n",
       "        canvas.attr('style', 'width: ' + width + 'px; height: ' + height + 'px;');\n",
       "\n",
       "        rubberband.attr('width', width);\n",
       "        rubberband.attr('height', height);\n",
       "    }\n",
       "\n",
       "    // Set the figure to an initial 600x600px, this will subsequently be updated\n",
       "    // upon first draw.\n",
       "    this._resize_canvas(600, 600);\n",
       "\n",
       "    // Disable right mouse context menu.\n",
       "    $(this.rubberband_canvas).bind(\"contextmenu\",function(e){\n",
       "        return false;\n",
       "    });\n",
       "\n",
       "    function set_focus () {\n",
       "        canvas.focus();\n",
       "        canvas_div.focus();\n",
       "    }\n",
       "\n",
       "    window.setTimeout(set_focus, 100);\n",
       "}\n",
       "\n",
       "mpl.figure.prototype._init_toolbar = function() {\n",
       "    var fig = this;\n",
       "\n",
       "    var nav_element = $('<div/>');\n",
       "    nav_element.attr('style', 'width: 100%');\n",
       "    this.root.append(nav_element);\n",
       "\n",
       "    // Define a callback function for later on.\n",
       "    function toolbar_event(event) {\n",
       "        return fig.toolbar_button_onclick(event['data']);\n",
       "    }\n",
       "    function toolbar_mouse_event(event) {\n",
       "        return fig.toolbar_button_onmouseover(event['data']);\n",
       "    }\n",
       "\n",
       "    for(var toolbar_ind in mpl.toolbar_items) {\n",
       "        var name = mpl.toolbar_items[toolbar_ind][0];\n",
       "        var tooltip = mpl.toolbar_items[toolbar_ind][1];\n",
       "        var image = mpl.toolbar_items[toolbar_ind][2];\n",
       "        var method_name = mpl.toolbar_items[toolbar_ind][3];\n",
       "\n",
       "        if (!name) {\n",
       "            // put a spacer in here.\n",
       "            continue;\n",
       "        }\n",
       "        var button = $('<button/>');\n",
       "        button.addClass('ui-button ui-widget ui-state-default ui-corner-all ' +\n",
       "                        'ui-button-icon-only');\n",
       "        button.attr('role', 'button');\n",
       "        button.attr('aria-disabled', 'false');\n",
       "        button.click(method_name, toolbar_event);\n",
       "        button.mouseover(tooltip, toolbar_mouse_event);\n",
       "\n",
       "        var icon_img = $('<span/>');\n",
       "        icon_img.addClass('ui-button-icon-primary ui-icon');\n",
       "        icon_img.addClass(image);\n",
       "        icon_img.addClass('ui-corner-all');\n",
       "\n",
       "        var tooltip_span = $('<span/>');\n",
       "        tooltip_span.addClass('ui-button-text');\n",
       "        tooltip_span.html(tooltip);\n",
       "\n",
       "        button.append(icon_img);\n",
       "        button.append(tooltip_span);\n",
       "\n",
       "        nav_element.append(button);\n",
       "    }\n",
       "\n",
       "    var fmt_picker_span = $('<span/>');\n",
       "\n",
       "    var fmt_picker = $('<select/>');\n",
       "    fmt_picker.addClass('mpl-toolbar-option ui-widget ui-widget-content');\n",
       "    fmt_picker_span.append(fmt_picker);\n",
       "    nav_element.append(fmt_picker_span);\n",
       "    this.format_dropdown = fmt_picker[0];\n",
       "\n",
       "    for (var ind in mpl.extensions) {\n",
       "        var fmt = mpl.extensions[ind];\n",
       "        var option = $(\n",
       "            '<option/>', {selected: fmt === mpl.default_extension}).html(fmt);\n",
       "        fmt_picker.append(option);\n",
       "    }\n",
       "\n",
       "    // Add hover states to the ui-buttons\n",
       "    $( \".ui-button\" ).hover(\n",
       "        function() { $(this).addClass(\"ui-state-hover\");},\n",
       "        function() { $(this).removeClass(\"ui-state-hover\");}\n",
       "    );\n",
       "\n",
       "    var status_bar = $('<span class=\"mpl-message\"/>');\n",
       "    nav_element.append(status_bar);\n",
       "    this.message = status_bar[0];\n",
       "}\n",
       "\n",
       "mpl.figure.prototype.request_resize = function(x_pixels, y_pixels) {\n",
       "    // Request matplotlib to resize the figure. Matplotlib will then trigger a resize in the client,\n",
       "    // which will in turn request a refresh of the image.\n",
       "    this.send_message('resize', {'width': x_pixels, 'height': y_pixels});\n",
       "}\n",
       "\n",
       "mpl.figure.prototype.send_message = function(type, properties) {\n",
       "    properties['type'] = type;\n",
       "    properties['figure_id'] = this.id;\n",
       "    this.ws.send(JSON.stringify(properties));\n",
       "}\n",
       "\n",
       "mpl.figure.prototype.send_draw_message = function() {\n",
       "    if (!this.waiting) {\n",
       "        this.waiting = true;\n",
       "        this.ws.send(JSON.stringify({type: \"draw\", figure_id: this.id}));\n",
       "    }\n",
       "}\n",
       "\n",
       "\n",
       "mpl.figure.prototype.handle_save = function(fig, msg) {\n",
       "    var format_dropdown = fig.format_dropdown;\n",
       "    var format = format_dropdown.options[format_dropdown.selectedIndex].value;\n",
       "    fig.ondownload(fig, format);\n",
       "}\n",
       "\n",
       "\n",
       "mpl.figure.prototype.handle_resize = function(fig, msg) {\n",
       "    var size = msg['size'];\n",
       "    if (size[0] != fig.canvas.width || size[1] != fig.canvas.height) {\n",
       "        fig._resize_canvas(size[0], size[1]);\n",
       "        fig.send_message(\"refresh\", {});\n",
       "    };\n",
       "}\n",
       "\n",
       "mpl.figure.prototype.handle_rubberband = function(fig, msg) {\n",
       "    var x0 = msg['x0'] / mpl.ratio;\n",
       "    var y0 = (fig.canvas.height - msg['y0']) / mpl.ratio;\n",
       "    var x1 = msg['x1'] / mpl.ratio;\n",
       "    var y1 = (fig.canvas.height - msg['y1']) / mpl.ratio;\n",
       "    x0 = Math.floor(x0) + 0.5;\n",
       "    y0 = Math.floor(y0) + 0.5;\n",
       "    x1 = Math.floor(x1) + 0.5;\n",
       "    y1 = Math.floor(y1) + 0.5;\n",
       "    var min_x = Math.min(x0, x1);\n",
       "    var min_y = Math.min(y0, y1);\n",
       "    var width = Math.abs(x1 - x0);\n",
       "    var height = Math.abs(y1 - y0);\n",
       "\n",
       "    fig.rubberband_context.clearRect(\n",
       "        0, 0, fig.canvas.width, fig.canvas.height);\n",
       "\n",
       "    fig.rubberband_context.strokeRect(min_x, min_y, width, height);\n",
       "}\n",
       "\n",
       "mpl.figure.prototype.handle_figure_label = function(fig, msg) {\n",
       "    // Updates the figure title.\n",
       "    fig.header.textContent = msg['label'];\n",
       "}\n",
       "\n",
       "mpl.figure.prototype.handle_cursor = function(fig, msg) {\n",
       "    var cursor = msg['cursor'];\n",
       "    switch(cursor)\n",
       "    {\n",
       "    case 0:\n",
       "        cursor = 'pointer';\n",
       "        break;\n",
       "    case 1:\n",
       "        cursor = 'default';\n",
       "        break;\n",
       "    case 2:\n",
       "        cursor = 'crosshair';\n",
       "        break;\n",
       "    case 3:\n",
       "        cursor = 'move';\n",
       "        break;\n",
       "    }\n",
       "    fig.rubberband_canvas.style.cursor = cursor;\n",
       "}\n",
       "\n",
       "mpl.figure.prototype.handle_message = function(fig, msg) {\n",
       "    fig.message.textContent = msg['message'];\n",
       "}\n",
       "\n",
       "mpl.figure.prototype.handle_draw = function(fig, msg) {\n",
       "    // Request the server to send over a new figure.\n",
       "    fig.send_draw_message();\n",
       "}\n",
       "\n",
       "mpl.figure.prototype.handle_image_mode = function(fig, msg) {\n",
       "    fig.image_mode = msg['mode'];\n",
       "}\n",
       "\n",
       "mpl.figure.prototype.updated_canvas_event = function() {\n",
       "    // Called whenever the canvas gets updated.\n",
       "    this.send_message(\"ack\", {});\n",
       "}\n",
       "\n",
       "// A function to construct a web socket function for onmessage handling.\n",
       "// Called in the figure constructor.\n",
       "mpl.figure.prototype._make_on_message_function = function(fig) {\n",
       "    return function socket_on_message(evt) {\n",
       "        if (evt.data instanceof Blob) {\n",
       "            /* FIXME: We get \"Resource interpreted as Image but\n",
       "             * transferred with MIME type text/plain:\" errors on\n",
       "             * Chrome.  But how to set the MIME type?  It doesn't seem\n",
       "             * to be part of the websocket stream */\n",
       "            evt.data.type = \"image/png\";\n",
       "\n",
       "            /* Free the memory for the previous frames */\n",
       "            if (fig.imageObj.src) {\n",
       "                (window.URL || window.webkitURL).revokeObjectURL(\n",
       "                    fig.imageObj.src);\n",
       "            }\n",
       "\n",
       "            fig.imageObj.src = (window.URL || window.webkitURL).createObjectURL(\n",
       "                evt.data);\n",
       "            fig.updated_canvas_event();\n",
       "            fig.waiting = false;\n",
       "            return;\n",
       "        }\n",
       "        else if (typeof evt.data === 'string' && evt.data.slice(0, 21) == \"data:image/png;base64\") {\n",
       "            fig.imageObj.src = evt.data;\n",
       "            fig.updated_canvas_event();\n",
       "            fig.waiting = false;\n",
       "            return;\n",
       "        }\n",
       "\n",
       "        var msg = JSON.parse(evt.data);\n",
       "        var msg_type = msg['type'];\n",
       "\n",
       "        // Call the  \"handle_{type}\" callback, which takes\n",
       "        // the figure and JSON message as its only arguments.\n",
       "        try {\n",
       "            var callback = fig[\"handle_\" + msg_type];\n",
       "        } catch (e) {\n",
       "            console.log(\"No handler for the '\" + msg_type + \"' message type: \", msg);\n",
       "            return;\n",
       "        }\n",
       "\n",
       "        if (callback) {\n",
       "            try {\n",
       "                // console.log(\"Handling '\" + msg_type + \"' message: \", msg);\n",
       "                callback(fig, msg);\n",
       "            } catch (e) {\n",
       "                console.log(\"Exception inside the 'handler_\" + msg_type + \"' callback:\", e, e.stack, msg);\n",
       "            }\n",
       "        }\n",
       "    };\n",
       "}\n",
       "\n",
       "// from http://stackoverflow.com/questions/1114465/getting-mouse-location-in-canvas\n",
       "mpl.findpos = function(e) {\n",
       "    //this section is from http://www.quirksmode.org/js/events_properties.html\n",
       "    var targ;\n",
       "    if (!e)\n",
       "        e = window.event;\n",
       "    if (e.target)\n",
       "        targ = e.target;\n",
       "    else if (e.srcElement)\n",
       "        targ = e.srcElement;\n",
       "    if (targ.nodeType == 3) // defeat Safari bug\n",
       "        targ = targ.parentNode;\n",
       "\n",
       "    // jQuery normalizes the pageX and pageY\n",
       "    // pageX,Y are the mouse positions relative to the document\n",
       "    // offset() returns the position of the element relative to the document\n",
       "    var x = e.pageX - $(targ).offset().left;\n",
       "    var y = e.pageY - $(targ).offset().top;\n",
       "\n",
       "    return {\"x\": x, \"y\": y};\n",
       "};\n",
       "\n",
       "/*\n",
       " * return a copy of an object with only non-object keys\n",
       " * we need this to avoid circular references\n",
       " * http://stackoverflow.com/a/24161582/3208463\n",
       " */\n",
       "function simpleKeys (original) {\n",
       "  return Object.keys(original).reduce(function (obj, key) {\n",
       "    if (typeof original[key] !== 'object')\n",
       "        obj[key] = original[key]\n",
       "    return obj;\n",
       "  }, {});\n",
       "}\n",
       "\n",
       "mpl.figure.prototype.mouse_event = function(event, name) {\n",
       "    var canvas_pos = mpl.findpos(event)\n",
       "\n",
       "    if (name === 'button_press')\n",
       "    {\n",
       "        this.canvas.focus();\n",
       "        this.canvas_div.focus();\n",
       "    }\n",
       "\n",
       "    var x = canvas_pos.x * mpl.ratio;\n",
       "    var y = canvas_pos.y * mpl.ratio;\n",
       "\n",
       "    this.send_message(name, {x: x, y: y, button: event.button,\n",
       "                             step: event.step,\n",
       "                             guiEvent: simpleKeys(event)});\n",
       "\n",
       "    /* This prevents the web browser from automatically changing to\n",
       "     * the text insertion cursor when the button is pressed.  We want\n",
       "     * to control all of the cursor setting manually through the\n",
       "     * 'cursor' event from matplotlib */\n",
       "    event.preventDefault();\n",
       "    return false;\n",
       "}\n",
       "\n",
       "mpl.figure.prototype._key_event_extra = function(event, name) {\n",
       "    // Handle any extra behaviour associated with a key event\n",
       "}\n",
       "\n",
       "mpl.figure.prototype.key_event = function(event, name) {\n",
       "\n",
       "    // Prevent repeat events\n",
       "    if (name == 'key_press')\n",
       "    {\n",
       "        if (event.which === this._key)\n",
       "            return;\n",
       "        else\n",
       "            this._key = event.which;\n",
       "    }\n",
       "    if (name == 'key_release')\n",
       "        this._key = null;\n",
       "\n",
       "    var value = '';\n",
       "    if (event.ctrlKey && event.which != 17)\n",
       "        value += \"ctrl+\";\n",
       "    if (event.altKey && event.which != 18)\n",
       "        value += \"alt+\";\n",
       "    if (event.shiftKey && event.which != 16)\n",
       "        value += \"shift+\";\n",
       "\n",
       "    value += 'k';\n",
       "    value += event.which.toString();\n",
       "\n",
       "    this._key_event_extra(event, name);\n",
       "\n",
       "    this.send_message(name, {key: value,\n",
       "                             guiEvent: simpleKeys(event)});\n",
       "    return false;\n",
       "}\n",
       "\n",
       "mpl.figure.prototype.toolbar_button_onclick = function(name) {\n",
       "    if (name == 'download') {\n",
       "        this.handle_save(this, null);\n",
       "    } else {\n",
       "        this.send_message(\"toolbar_button\", {name: name});\n",
       "    }\n",
       "};\n",
       "\n",
       "mpl.figure.prototype.toolbar_button_onmouseover = function(tooltip) {\n",
       "    this.message.textContent = tooltip;\n",
       "};\n",
       "mpl.toolbar_items = [[\"Home\", \"Reset original view\", \"fa fa-home icon-home\", \"home\"], [\"Back\", \"Back to previous view\", \"fa fa-arrow-left icon-arrow-left\", \"back\"], [\"Forward\", \"Forward to next view\", \"fa fa-arrow-right icon-arrow-right\", \"forward\"], [\"\", \"\", \"\", \"\"], [\"Pan\", \"Pan axes with left mouse, zoom with right\", \"fa fa-arrows icon-move\", \"pan\"], [\"Zoom\", \"Zoom to rectangle\", \"fa fa-square-o icon-check-empty\", \"zoom\"], [\"\", \"\", \"\", \"\"], [\"Download\", \"Download plot\", \"fa fa-floppy-o icon-save\", \"download\"]];\n",
       "\n",
       "mpl.extensions = [\"eps\", \"pdf\", \"png\", \"ps\", \"raw\", \"svg\"];\n",
       "\n",
       "mpl.default_extension = \"png\";var comm_websocket_adapter = function(comm) {\n",
       "    // Create a \"websocket\"-like object which calls the given IPython comm\n",
       "    // object with the appropriate methods. Currently this is a non binary\n",
       "    // socket, so there is still some room for performance tuning.\n",
       "    var ws = {};\n",
       "\n",
       "    ws.close = function() {\n",
       "        comm.close()\n",
       "    };\n",
       "    ws.send = function(m) {\n",
       "        //console.log('sending', m);\n",
       "        comm.send(m);\n",
       "    };\n",
       "    // Register the callback with on_msg.\n",
       "    comm.on_msg(function(msg) {\n",
       "        //console.log('receiving', msg['content']['data'], msg);\n",
       "        // Pass the mpl event to the overridden (by mpl) onmessage function.\n",
       "        ws.onmessage(msg['content']['data'])\n",
       "    });\n",
       "    return ws;\n",
       "}\n",
       "\n",
       "mpl.mpl_figure_comm = function(comm, msg) {\n",
       "    // This is the function which gets called when the mpl process\n",
       "    // starts-up an IPython Comm through the \"matplotlib\" channel.\n",
       "\n",
       "    var id = msg.content.data.id;\n",
       "    // Get hold of the div created by the display call when the Comm\n",
       "    // socket was opened in Python.\n",
       "    var element = $(\"#\" + id);\n",
       "    var ws_proxy = comm_websocket_adapter(comm)\n",
       "\n",
       "    function ondownload(figure, format) {\n",
       "        window.open(figure.imageObj.src);\n",
       "    }\n",
       "\n",
       "    var fig = new mpl.figure(id, ws_proxy,\n",
       "                           ondownload,\n",
       "                           element.get(0));\n",
       "\n",
       "    // Call onopen now - mpl needs it, as it is assuming we've passed it a real\n",
       "    // web socket which is closed, not our websocket->open comm proxy.\n",
       "    ws_proxy.onopen();\n",
       "\n",
       "    fig.parent_element = element.get(0);\n",
       "    fig.cell_info = mpl.find_output_cell(\"<div id='\" + id + \"'></div>\");\n",
       "    if (!fig.cell_info) {\n",
       "        console.error(\"Failed to find cell for figure\", id, fig);\n",
       "        return;\n",
       "    }\n",
       "\n",
       "    var output_index = fig.cell_info[2]\n",
       "    var cell = fig.cell_info[0];\n",
       "\n",
       "};\n",
       "\n",
       "mpl.figure.prototype.handle_close = function(fig, msg) {\n",
       "    var width = fig.canvas.width/mpl.ratio\n",
       "    fig.root.unbind('remove')\n",
       "\n",
       "    // Update the output cell to use the data from the current canvas.\n",
       "    fig.push_to_output();\n",
       "    var dataURL = fig.canvas.toDataURL();\n",
       "    // Re-enable the keyboard manager in IPython - without this line, in FF,\n",
       "    // the notebook keyboard shortcuts fail.\n",
       "    IPython.keyboard_manager.enable()\n",
       "    $(fig.parent_element).html('<img src=\"' + dataURL + '\" width=\"' + width + '\">');\n",
       "    fig.close_ws(fig, msg);\n",
       "}\n",
       "\n",
       "mpl.figure.prototype.close_ws = function(fig, msg){\n",
       "    fig.send_message('closing', msg);\n",
       "    // fig.ws.close()\n",
       "}\n",
       "\n",
       "mpl.figure.prototype.push_to_output = function(remove_interactive) {\n",
       "    // Turn the data on the canvas into data in the output cell.\n",
       "    var width = this.canvas.width/mpl.ratio\n",
       "    var dataURL = this.canvas.toDataURL();\n",
       "    this.cell_info[1]['text/html'] = '<img src=\"' + dataURL + '\" width=\"' + width + '\">';\n",
       "}\n",
       "\n",
       "mpl.figure.prototype.updated_canvas_event = function() {\n",
       "    // Tell IPython that the notebook contents must change.\n",
       "    IPython.notebook.set_dirty(true);\n",
       "    this.send_message(\"ack\", {});\n",
       "    var fig = this;\n",
       "    // Wait a second, then push the new image to the DOM so\n",
       "    // that it is saved nicely (might be nice to debounce this).\n",
       "    setTimeout(function () { fig.push_to_output() }, 1000);\n",
       "}\n",
       "\n",
       "mpl.figure.prototype._init_toolbar = function() {\n",
       "    var fig = this;\n",
       "\n",
       "    var nav_element = $('<div/>');\n",
       "    nav_element.attr('style', 'width: 100%');\n",
       "    this.root.append(nav_element);\n",
       "\n",
       "    // Define a callback function for later on.\n",
       "    function toolbar_event(event) {\n",
       "        return fig.toolbar_button_onclick(event['data']);\n",
       "    }\n",
       "    function toolbar_mouse_event(event) {\n",
       "        return fig.toolbar_button_onmouseover(event['data']);\n",
       "    }\n",
       "\n",
       "    for(var toolbar_ind in mpl.toolbar_items){\n",
       "        var name = mpl.toolbar_items[toolbar_ind][0];\n",
       "        var tooltip = mpl.toolbar_items[toolbar_ind][1];\n",
       "        var image = mpl.toolbar_items[toolbar_ind][2];\n",
       "        var method_name = mpl.toolbar_items[toolbar_ind][3];\n",
       "\n",
       "        if (!name) { continue; };\n",
       "\n",
       "        var button = $('<button class=\"btn btn-default\" href=\"#\" title=\"' + name + '\"><i class=\"fa ' + image + ' fa-lg\"></i></button>');\n",
       "        button.click(method_name, toolbar_event);\n",
       "        button.mouseover(tooltip, toolbar_mouse_event);\n",
       "        nav_element.append(button);\n",
       "    }\n",
       "\n",
       "    // Add the status bar.\n",
       "    var status_bar = $('<span class=\"mpl-message\" style=\"text-align:right; float: right;\"/>');\n",
       "    nav_element.append(status_bar);\n",
       "    this.message = status_bar[0];\n",
       "\n",
       "    // Add the close button to the window.\n",
       "    var buttongrp = $('<div class=\"btn-group inline pull-right\"></div>');\n",
       "    var button = $('<button class=\"btn btn-mini btn-primary\" href=\"#\" title=\"Stop Interaction\"><i class=\"fa fa-power-off icon-remove icon-large\"></i></button>');\n",
       "    button.click(function (evt) { fig.handle_close(fig, {}); } );\n",
       "    button.mouseover('Stop Interaction', toolbar_mouse_event);\n",
       "    buttongrp.append(button);\n",
       "    var titlebar = this.root.find($('.ui-dialog-titlebar'));\n",
       "    titlebar.prepend(buttongrp);\n",
       "}\n",
       "\n",
       "mpl.figure.prototype._root_extra_style = function(el){\n",
       "    var fig = this\n",
       "    el.on(\"remove\", function(){\n",
       "\tfig.close_ws(fig, {});\n",
       "    });\n",
       "}\n",
       "\n",
       "mpl.figure.prototype._canvas_extra_style = function(el){\n",
       "    // this is important to make the div 'focusable\n",
       "    el.attr('tabindex', 0)\n",
       "    // reach out to IPython and tell the keyboard manager to turn it's self\n",
       "    // off when our div gets focus\n",
       "\n",
       "    // location in version 3\n",
       "    if (IPython.notebook.keyboard_manager) {\n",
       "        IPython.notebook.keyboard_manager.register_events(el);\n",
       "    }\n",
       "    else {\n",
       "        // location in version 2\n",
       "        IPython.keyboard_manager.register_events(el);\n",
       "    }\n",
       "\n",
       "}\n",
       "\n",
       "mpl.figure.prototype._key_event_extra = function(event, name) {\n",
       "    var manager = IPython.notebook.keyboard_manager;\n",
       "    if (!manager)\n",
       "        manager = IPython.keyboard_manager;\n",
       "\n",
       "    // Check for shift+enter\n",
       "    if (event.shiftKey && event.which == 13) {\n",
       "        this.canvas_div.blur();\n",
       "        event.shiftKey = false;\n",
       "        // Send a \"J\" for go to next cell\n",
       "        event.which = 74;\n",
       "        event.keyCode = 74;\n",
       "        manager.command_mode();\n",
       "        manager.handle_keydown(event);\n",
       "    }\n",
       "}\n",
       "\n",
       "mpl.figure.prototype.handle_save = function(fig, msg) {\n",
       "    fig.ondownload(fig, null);\n",
       "}\n",
       "\n",
       "\n",
       "mpl.find_output_cell = function(html_output) {\n",
       "    // Return the cell and output element which can be found *uniquely* in the notebook.\n",
       "    // Note - this is a bit hacky, but it is done because the \"notebook_saving.Notebook\"\n",
       "    // IPython event is triggered only after the cells have been serialised, which for\n",
       "    // our purposes (turning an active figure into a static one), is too late.\n",
       "    var cells = IPython.notebook.get_cells();\n",
       "    var ncells = cells.length;\n",
       "    for (var i=0; i<ncells; i++) {\n",
       "        var cell = cells[i];\n",
       "        if (cell.cell_type === 'code'){\n",
       "            for (var j=0; j<cell.output_area.outputs.length; j++) {\n",
       "                var data = cell.output_area.outputs[j];\n",
       "                if (data.data) {\n",
       "                    // IPython >= 3 moved mimebundle to data attribute of output\n",
       "                    data = data.data;\n",
       "                }\n",
       "                if (data['text/html'] == html_output) {\n",
       "                    return [cell, data, j];\n",
       "                }\n",
       "            }\n",
       "        }\n",
       "    }\n",
       "}\n",
       "\n",
       "// Register the function which deals with the matplotlib target/channel.\n",
       "// The kernel may be null if the page has been refreshed.\n",
       "if (IPython.notebook.kernel != null) {\n",
       "    IPython.notebook.kernel.comm_manager.register_target('matplotlib', mpl.mpl_figure_comm);\n",
       "}\n"
      ],
      "text/plain": [
       "<IPython.core.display.Javascript object>"
      ]
     },
     "metadata": {},
     "output_type": "display_data"
    },
    {
     "data": {
      "text/html": [
       "<img src=\"data:image/png;base64,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\" width=\"999.4166666666666\">"
      ],
      "text/plain": [
       "<IPython.core.display.HTML object>"
      ]
     },
     "metadata": {},
     "output_type": "display_data"
    }
   ],
   "source": [
    "save_graph = True\n",
    "\n",
    "plt.plot(vna.get_frequencies(), 20*log10(abs(vna.get_sdata())))\n",
    "# plt.plot(vna.get_frequencies(), unwrap(angle(vna.get_sdata())))\n",
    "\n",
    "for scan_area in scan_areas:\n",
    "    plt.plot(scan_area, ones(2)*min(20*log10(abs(vna.get_sdata()))), marker=\"+\")\n",
    "        \n",
    "# plt.xlim(scan_areas[1]) # the x-axis limits may are set to a certain scan area to check whether it was guessed correctly\n",
    "plt.ylim(min(20*log10(abs(vna.get_sdata())))-5,max(20*log10(abs(vna.get_sdata())))+5)\n",
    "# plt.xlim(5.0e9, 8.0e9)\n",
    "plt.minorticks_on()\n",
    "plt.grid(which=\"both\")\n",
    "plt.gcf().set_size_inches(10, 3)\n",
    "\n",
    "# Here the first datafile is created. It is placed in a folder with current date which is also created below.\n",
    "\n",
    "if save_graph:\n",
    "    try:\n",
    "        os.mkdir(\"./data/\"+str(datetime.datetime.now().date()))\n",
    "    except FileExistsError:\n",
    "        pass\n",
    "    with open(\"./data/\"+str(datetime.datetime.now().date())+\"/\"+sample_name+\".pkl\", \"wb\") as f:\n",
    "        pickle.dump((vna.get_frequencies(), vna.get_sdata()), f)\n",
    "        \n",
    "    plt.savefig(\"./data/\"+str(datetime.datetime.now().date())+\"/\"+sample_name+'.pdf')    \n",
    "    plt.savefig(\"./data/\"+str(datetime.datetime.now().date())+\"/\"+sample_name+'.png')         "
   ]
  },
  {
   "cell_type": "markdown",
   "metadata": {},
   "source": [
    "# Recording a zoomed scan inside each scan area at each power"
   ]
  },
  {
   "cell_type": "code",
   "execution_count": 61,
   "metadata": {},
   "outputs": [],
   "source": [
    "power_scans = {}\n",
    "vna.set_nop(1001)\n",
    "vna.set_bandwidth(1000)\n",
    "powers = linspace(-40, 10, 51) # the powers we are using to scan through"
   ]
  },
  {
   "cell_type": "markdown",
   "metadata": {},
   "source": [
    "First we make noise calibration to make sure we will not perform redundant averaging:"
   ]
  },
  {
   "cell_type": "code",
   "execution_count": 62,
   "metadata": {},
   "outputs": [],
   "source": [
    "def theory_noise_amps_pow(power, exponent, max_noise):\n",
    "    return max_noise*exp(-power*exponent)\n",
    "# def theory_noise_amps_avg(average, max_noise):\n",
    "#     return max_noise/sqrt(average)\n",
    "def calibrate_noise(scan_area, powers):\n",
    "    noises = []\n",
    "    powers = powers[::]\n",
    "    vna.set_center(mean(scan_area)+10e6)\n",
    "    vna.set_span(1)\n",
    "    vna.set_averages(1)\n",
    "    for power in powers:\n",
    "        vna.set_power(power)\n",
    "        vna.prepare_for_stb()\n",
    "        vna.sweep_single()\n",
    "        vna.wait_for_stb()\n",
    "        noises.append(vna.get_sdata())\n",
    "        print(\"\\rPower:\", power, end=\"\")\n",
    "    noise_amps = [sqrt(mean((abs(noise) - mean(abs(noise)))**2))/mean(abs(noise)) for noise in noises] \n",
    "    opt_params = curve_fit(theory_noise_amps_pow, powers, noise_amps, p0=(0.01,0.1))[0]\n",
    "    return opt_params, noise_amps"
   ]
  },
  {
   "cell_type": "code",
   "execution_count": 63,
   "metadata": {},
   "outputs": [
    {
     "name": "stdout",
     "output_type": "stream",
     "text": [
      "Power: 10.00"
     ]
    }
   ],
   "source": [
    "opt_params, noise_amps = calibrate_noise(scan_areas[0], powers[5::5])"
   ]
  },
  {
   "cell_type": "code",
   "execution_count": 64,
   "metadata": {},
   "outputs": [
    {
     "data": {
      "text/plain": [
       "[<matplotlib.lines.Line2D at 0x23a15495ba8>]"
      ]
     },
     "execution_count": 64,
     "metadata": {},
     "output_type": "execute_result"
    }
   ],
   "source": [
    "plot(theory_noise_amps_pow(powers[5::5], *opt_params))\n",
    "plot(noise_amps, '--o')"
   ]
  },
  {
   "cell_type": "code",
   "execution_count": 60,
   "metadata": {
    "collapsed": true
   },
   "outputs": [],
   "source": [
    "vna.sweep_hold() #если лазил руками в VNA"
   ]
  },
  {
   "cell_type": "code",
   "execution_count": 65,
   "metadata": {
    "scrolled": false
   },
   "outputs": [
    {
     "name": "stdout",
     "output_type": "stream",
     "text": [
      "Started at: 2019-01-16 16:12:58.410409\n",
      "[-40. -39. -38. -37. -36.]\n",
      "(2559000000.0, 2609000000.0) avg: 1.0 power:10.0   Done!\n",
      "(2671000000.0, 2721000000.0) avg: 1.0 power:10.0   Done!\n",
      "(2926000000.0, 2976000000.0) avg: 1.0 power:10.0  Done!\n",
      "(3180000000.0, 3230000000.0) avg: 1.0 power:10.0  Done!\n",
      "(3434000000.0, 3484000000.0) avg: 1.0 power:10.0  Done!\n",
      "(3687000000.0, 3737000000.0) avg: 1.0 power:10.0  Done!\n",
      "(3939000000.0, 3989000000.0) avg: 1.0 power:10.0  Done!\n",
      "(4188000000.0, 4238000000.0) avg: 1.0 power:10.0  Done!\n",
      "(4436000000.0, 4486000000.0) avg: 1.0 power:10.0  Done!\n",
      "(4683000000.0, 4733000000.0) avg: 1.0 power:10.0  Done!\n",
      "(4927000000.0, 4977000000.0) avg: 1.0 power:10.0  Done!\n",
      "(5171000000.0, 5221000000.0) avg: 1.0 power:10.0  Done!\n",
      "(5416000000.0, 5466000000.0) avg: 1.0 power:10.0  Done!\n",
      "(5662000000.0, 5712000000.0) avg: 1.0 power:10.0  Done!\n",
      "(5908000000.0, 5958000000.0) avg: 1.0 power:10.0  Done!\n",
      "(6155000000.0, 6205000000.0) avg: 1.0 power:10.0  Done!\n",
      "(6400000000.0, 6450000000.0) avg: 1.0 power:10.0  Done!\n",
      "(6657000000.0, 6707000000.0) avg: 1.0 power:10.0  Done!\n",
      "(6900000000.0, 6950000000.0) avg: 1.0 power:10.0  Done!\n",
      "(7182000000.0, 7232000000.0) avg: 1.0 power:10.0  Done!\n",
      "(7420000000.0, 7470000000.0) avg: 1.0 power:10.0  Done!\n",
      "(7952000000.0, 8002000000.0) avg: 1.0 power:10.0  Done!\n",
      "(8197000000.0, 8247000000.0) avg: 1.0 power:10.0  Done!\n",
      "(8424000000.0, 8474000000.0) avg: 1.0 power:10.0    Done!\n"
     ]
    }
   ],
   "source": [
    "time_start = datetime.datetime.now()\n",
    "print(\"Started at:\", time_start)\n",
    "\n",
    "print(powers[:5]) # to check the powers are nice whole numbers\n",
    "\n",
    "# Beginning the scan here             \n",
    "for scan_area in scan_areas[:]:\n",
    "    S21s = []\n",
    "    \n",
    "    opt_params, noise_amps = calibrate_noise(scan_area, powers[5::10])\n",
    "    averages_arr = around(500*theory_noise_amps_pow(powers, *opt_params)**2)\n",
    "    averages_arr[averages_arr==0]=1\n",
    "    vna.set_xlim(*scan_area)\n",
    "    \n",
    "    for power, averages in zip(powers, averages_arr):\n",
    "        vna.set_power(power)\n",
    "        vna.set_averages(averages)\n",
    "        print(\"\\r\"+str(scan_area), \"avg: \"+str(averages), \"power:\"+str(power), end=\" \", flush=True)\n",
    "        \n",
    "        vna.prepare_for_stb()\n",
    "        vna.sweep_single()\n",
    "        vna.wait_for_stb()\n",
    "        \n",
    "        vna.autoscale_all()\n",
    "        S21s.append((vna.get_frequencies(), vna.get_sdata()))\n",
    "    power_scans[scan_area] = S21s\n",
    "    print(\"Done!\")\n",
    "with open(\"./data/\"\n",
    "          +str(time_start.date())\\\n",
    "          +\"/\"+sample_name+\"_resonators_on_power.pkl\", \"wb\") as f:\n",
    "    pickle.dump((scan_areas, powers, power_scans), f)"
   ]
  },
  {
   "cell_type": "markdown",
   "metadata": {},
   "source": [
    "## Dependence from bandwith"
   ]
  },
  {
   "cell_type": "code",
   "execution_count": 66,
   "metadata": {},
   "outputs": [],
   "source": [
    "scan_area = scan_areas[-1]\n",
    "bw_list = [1e4,1e3,1e2,1e1]\n",
    "powers = linspace(-40,0,11)"
   ]
  },
  {
   "cell_type": "code",
   "execution_count": 67,
   "metadata": {
    "scrolled": false
   },
   "outputs": [
    {
     "name": "stdout",
     "output_type": "stream",
     "text": [
      "Started at: 2019-01-16 17:23:33.577294\n",
      "[-40. -36. -32. -28. -24.]\n",
      "(8424000000.0, 8474000000.0) avg: 1.0 power:0.0    Done!\n",
      "(8424000000.0, 8474000000.0) avg: 1.0 power:0.0    Done!\n",
      "(8424000000.0, 8474000000.0) avg: 1.0 power:0.0    Done!\n",
      "(8424000000.0, 8474000000.0) avg: 1.0 power:0.0   Done!\n"
     ]
    }
   ],
   "source": [
    "time_start = datetime.datetime.now()\n",
    "print(\"Started at:\", time_start)\n",
    "\n",
    "print(powers[:5]) # to check the powers are nice whole numbers\n",
    "\n",
    "# Beginning the scan here             \n",
    "for bw in bw_list:\n",
    "    \n",
    "    S21s = []\n",
    "    vna.set_bandwidth(bw)\n",
    "    opt_params, noise_amps = calibrate_noise(scan_area, powers[2::3])\n",
    "    averages_arr = around(50*theory_noise_amps_pow(powers, *opt_params)**2)\n",
    "    averages_arr[averages_arr==0]=1\n",
    "    vna.set_xlim(*scan_area)\n",
    "    \n",
    "    for power, averages in zip(powers, averages_arr):\n",
    "        vna.set_power(power)\n",
    "        \n",
    "        vna.set_averages(averages)\n",
    "        print(\"\\r\"+str(scan_area), \"avg: \"+str(averages), \"power:\"+str(power), end=\" \", flush=True)\n",
    "        \n",
    "        vna.prepare_for_stb()\n",
    "        vna.sweep_single()\n",
    "        vna.wait_for_stb()\n",
    "        \n",
    "        vna.autoscale_all()\n",
    "        S21s.append((vna.get_frequencies(), vna.get_sdata()))\n",
    "    power_scans[bw] = S21s\n",
    "    print(\"Done!\")\n",
    "with open(\"./data/\"\n",
    "          +str(time_start.date())\\\n",
    "          +\"/\"+sample_name+\"TII_resonator_on_bw.pkl\", \"wb\") as f:\n",
    "    pickle.dump((scan_areas, powers, bw_list, power_scans), f)"
   ]
  },
  {
   "cell_type": "code",
   "execution_count": null,
   "metadata": {
    "collapsed": true
   },
   "outputs": [],
   "source": []
  },
  {
   "cell_type": "code",
   "execution_count": 57,
   "metadata": {
    "collapsed": true
   },
   "outputs": [],
   "source": [
    "#with open(\"./data/\"\\\n",
    "#          +str(time_start.date())\\\n",
    "#          +\"/\"+sample_name+\"_resonators_on_power.pkl\", \"wb\") as f:\n",
    "#    pickle.dump((scan_areas, powers, power_scans), f)"
   ]
  },
  {
   "cell_type": "code",
   "execution_count": 26,
   "metadata": {},
   "outputs": [
    {
     "data": {
      "image/png": "[encoded data removed]",
      "text/plain": [
       "<matplotlib.figure.Figure at 0x29992469c50>"
      ]
     },
     "metadata": {},
     "output_type": "display_data"
    }
   ],
   "source": [
    "scan_area = scan_areas[7]\n",
    "plt.plot(power_scans[scan_area][0][0], 20*log10(abs(power_scans[scan_area][0][1])))\n",
    "plt.plot(power_scans[scan_area][-1][0], 20*log10(abs(power_scans[scan_area][-1][1])))\n",
    "plt.gcf().set_size_inches(13,5)"
   ]
  },
  {
   "cell_type": "markdown",
   "metadata": {},
   "source": [
    "До сих пор"
   ]
  },
  {
   "cell_type": "code",
   "execution_count": null,
   "metadata": {
    "collapsed": true
   },
   "outputs": [],
   "source": []
  },
  {
   "cell_type": "code",
   "execution_count": null,
   "metadata": {
    "collapsed": true
   },
   "outputs": [],
   "source": []
  },
  {
   "cell_type": "code",
   "execution_count": null,
   "metadata": {
    "collapsed": true
   },
   "outputs": [],
   "source": [
    "vna.set_xlim(*scan_areas[1])"
   ]
  },
  {
   "cell_type": "markdown",
   "metadata": {},
   "source": [
    "##  Noise calibration"
   ]
  },
  {
   "cell_type": "code",
   "execution_count": null,
   "metadata": {
    "collapsed": true
   },
   "outputs": [],
   "source": [
    "peak_vicinity = mean(scan_areas[0])+linspace(-1, 1, 2)"
   ]
  },
  {
   "cell_type": "code",
   "execution_count": null,
   "metadata": {
    "collapsed": true
   },
   "outputs": [],
   "source": [
    "power_scans = {}\n",
    "vna.set_nop(1000)\n",
    "vna.set_bandwidth(500)\n",
    "vna.set_averages(1)"
   ]
  },
  {
   "cell_type": "code",
   "execution_count": null,
   "metadata": {
    "collapsed": true
   },
   "outputs": [],
   "source": [
    "powers = linspace(-60, -30, 31)"
   ]
  },
  {
   "cell_type": "code",
   "execution_count": null,
   "metadata": {
    "collapsed": true
   },
   "outputs": [],
   "source": [
    "noises_pow = []\n",
    "vna.set_xlim(*peak_vicinity)\n",
    "    \n",
    "for power in powers:\n",
    "    vna.set_power(power)\n",
    "    vna.prepare_for_stb()\n",
    "    vna.sweep_single()\n",
    "    vna.wait_for_stb()\n",
    "    noises_pow.append(vna.get_sdata())\n",
    "    print(\"\\rPower:\", power, end=\"\")"
   ]
  },
  {
   "cell_type": "code",
   "execution_count": null,
   "metadata": {
    "collapsed": true
   },
   "outputs": [],
   "source": [
    "noise_amps = [sqrt(sum(abs(noise - mean(noise))**2)) for noise in noises_pow] \n",
    "opt_params = curve_fit(theory_noise_amps_pow, powers, noise_amps, p0=(0.01,0.6))[0]"
   ]
  },
  {
   "cell_type": "code",
   "execution_count": null,
   "metadata": {
    "collapsed": true
   },
   "outputs": [],
   "source": [
    "opt_params"
   ]
  },
  {
   "cell_type": "code",
   "execution_count": null,
   "metadata": {
    "collapsed": true
   },
   "outputs": [],
   "source": [
    "plt.plot(powers, noise_amps)\n",
    "plt.plot(powers, theory_noise_amps_pow(powers, *opt_params))"
   ]
  },
  {
   "cell_type": "code",
   "execution_count": null,
   "metadata": {
    "collapsed": true
   },
   "outputs": [],
   "source": [
    "averages = linspace(1, 50, 50)"
   ]
  },
  {
   "cell_type": "code",
   "execution_count": null,
   "metadata": {
    "collapsed": true
   },
   "outputs": [],
   "source": [
    "noises = []\n",
    "vna.set_xlim(*peak_vicinity)\n",
    "vna.set_power(-60)\n",
    "for average in averages:\n",
    "    vna.set_averages(average)\n",
    "    vna.prepare_for_stb()\n",
    "    vna.sweep_single()\n",
    "    vna.wait_for_stb()\n",
    "    noises.append(vna.get_sdata())\n",
    "    print(\"\\rAverage:\", average, end=\"\")"
   ]
  },
  {
   "cell_type": "code",
   "execution_count": null,
   "metadata": {
    "collapsed": true
   },
   "outputs": [],
   "source": [
    "noise_amps = [sqrt(sum(abs(noise - mean(noise))**2)) for noise in noises] "
   ]
  },
  {
   "cell_type": "code",
   "execution_count": null,
   "metadata": {
    "collapsed": true
   },
   "outputs": [],
   "source": [
    "opt_params = curve_fit(theory_noise_amps_avg, averages[:25], noise_amps, p0=(1))[0]"
   ]
  },
  {
   "cell_type": "code",
   "execution_count": null,
   "metadata": {
    "collapsed": true
   },
   "outputs": [],
   "source": [
    "plt.plot(averages[:25], noise_amps)\n",
    "plt.plot(averages[:25], theory_noise_amps_avg(averages[:25], *opt_params))"
   ]
  },
  {
   "cell_type": "code",
   "execution_count": null,
   "metadata": {
    "collapsed": true
   },
   "outputs": [],
   "source": [
    "X = linspace(1, 25)\n",
    "Y_pow = exp(-X)\n",
    "Y_avg = 1/sqrt(X)"
   ]
  },
  {
   "cell_type": "code",
   "execution_count": null,
   "metadata": {
    "collapsed": true
   },
   "outputs": [],
   "source": [
    "plt.plot(X, Y_pow, X, Y_avg)"
   ]
  },
  {
   "cell_type": "code",
   "execution_count": null,
   "metadata": {
    "collapsed": true
   },
   "outputs": [],
   "source": [
    "mxg"
   ]
  },
  {
   "cell_type": "code",
   "execution_count": null,
   "metadata": {
    "collapsed": true
   },
   "outputs": [],
   "source": [
    "from importlib import reload"
   ]
  },
  {
   "cell_type": "code",
   "execution_count": null,
   "metadata": {
    "collapsed": true
   },
   "outputs": [],
   "source": [
    "reload(Measurement_AD_1)"
   ]
  },
  {
   "cell_type": "code",
   "execution_count": null,
   "metadata": {
    "collapsed": true
   },
   "outputs": [],
   "source": [
    "import Measurement_AD_1"
   ]
  },
  {
   "cell_type": "code",
   "execution_count": null,
   "metadata": {
    "collapsed": true
   },
   "outputs": [],
   "source": [
    "from Measurement_AD_1 import *\n"
   ]
  },
  {
   "cell_type": "code",
   "execution_count": null,
   "metadata": {
    "collapsed": true
   },
   "outputs": [],
   "source": [
    "meas = Measurement(['exa'])"
   ]
  },
  {
   "cell_type": "code",
   "execution_count": null,
   "metadata": {
    "collapsed": true
   },
   "outputs": [],
   "source": [
    "meas._exa"
   ]
  },
  {
   "cell_type": "code",
   "execution_count": null,
   "metadata": {
    "collapsed": true
   },
   "outputs": [],
   "source": [
    "meas._exa"
   ]
  },
  {
   "cell_type": "code",
   "execution_count": null,
   "metadata": {
    "collapsed": true
   },
   "outputs": [],
   "source": []
  }
 ],
 "metadata": {
  "anaconda-cloud": {},
  "kernelspec": {
   "display_name": "Python 3",
   "language": "python",
   "name": "python3"
  },
  "language_info": {
   "codemirror_mode": {
    "name": "ipython",
    "version": 3
   },
   "file_extension": ".py",
   "mimetype": "text/x-python",
   "name": "python",
   "nbconvert_exporter": "python",
   "pygments_lexer": "ipython3",
   "version": "3.6.8"
  }
 },
 "nbformat": 4,
 "nbformat_minor": 1
}
