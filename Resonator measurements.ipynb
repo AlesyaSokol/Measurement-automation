{
 "cells": [
  {
   "cell_type": "markdown",
   "metadata": {},
   "source": [
    "# Notebook for getting S$_{21}$s of resonators vs power"
   ]
  },
  {
   "cell_type": "markdown",
   "metadata": {},
   "source": [
    "Loading libraries requred below:"
   ]
  },
  {
   "cell_type": "code",
   "execution_count": 1,
   "metadata": {
    "collapsed": false
   },
   "outputs": [
    {
     "name": "stdout",
     "output_type": "stream",
     "text": [
      "Populating the interactive namespace from numpy and matplotlib\n"
     ]
    }
   ],
   "source": [
    "%pylab inline"
   ]
  },
  {
   "cell_type": "code",
   "execution_count": 2,
   "metadata": {
    "collapsed": false
   },
   "outputs": [],
   "source": [
    "import time\n",
    "import pickle\n",
    "import sys\n",
    "from scipy.signal import argrelextrema\n",
    "from scipy.optimize import curve_fit\n",
    "import os"
   ]
  },
  {
   "cell_type": "code",
   "execution_count": 3,
   "metadata": {
    "collapsed": false
   },
   "outputs": [],
   "source": [
    "from drivers.Agilent_PNA_L import Agilent_PNA_L"
   ]
  },
  {
   "cell_type": "code",
   "execution_count": 4,
   "metadata": {
    "collapsed": false
   },
   "outputs": [],
   "source": [
    "from importlib import reload"
   ]
  },
  {
   "cell_type": "code",
   "execution_count": 5,
   "metadata": {
    "collapsed": true
   },
   "outputs": [],
   "source": [
    "import drivers"
   ]
  },
  {
   "cell_type": "markdown",
   "metadata": {},
   "source": [
    "### Setting the name for the sample"
   ]
  },
  {
   "cell_type": "code",
   "execution_count": 6,
   "metadata": {
    "collapsed": false
   },
   "outputs": [],
   "source": [
    "sample_name = \"TEST\""
   ]
  },
  {
   "cell_type": "markdown",
   "metadata": {},
   "source": [
    "### Getting the general view S$_{21}$ scan of the sample and detect resonator positions"
   ]
  },
  {
   "cell_type": "code",
   "execution_count": 7,
   "metadata": {
    "collapsed": false
   },
   "outputs": [
    {
     "data": {
      "text/plain": [
       "<module 'drivers.Agilent_PNA_L' from 'C:\\\\Users\\\\labiks\\\\Documents\\\\Gleb scripts\\\\drivers\\\\Agilent_PNA_L.py'>"
      ]
     },
     "execution_count": 7,
     "metadata": {},
     "output_type": "execute_result"
    }
   ],
   "source": [
    "reload(drivers.Agilent_PNA_L)"
   ]
  },
  {
   "cell_type": "code",
   "execution_count": 8,
   "metadata": {
    "collapsed": false,
    "scrolled": true
   },
   "outputs": [],
   "source": [
    "pna_l = Agilent_PNA_L(\"PNA-L\", \"PNA-L\") # loading the vector network analyser object from the driver"
   ]
  },
  {
   "cell_type": "code",
   "execution_count": 9,
   "metadata": {
    "collapsed": true
   },
   "outputs": [],
   "source": [
    "pna_l.sweep_hold()"
   ]
  },
  {
   "cell_type": "markdown",
   "metadata": {},
   "source": [
    "Setting the parameters of the scan:"
   ]
  },
  {
   "cell_type": "code",
   "execution_count": 23,
   "metadata": {
    "collapsed": false
   },
   "outputs": [],
   "source": [
    "pna_l.set_xlim(2e9, 12e9) # setting the scan area"
   ]
  },
  {
   "cell_type": "code",
   "execution_count": 11,
   "metadata": {
    "collapsed": false
   },
   "outputs": [
    {
     "data": {
      "text/plain": [
       "True"
      ]
     },
     "execution_count": 11,
     "metadata": {},
     "output_type": "execute_result"
    }
   ],
   "source": [
    "pna_l.set_bandwidth(5000)"
   ]
  },
  {
   "cell_type": "code",
   "execution_count": 22,
   "metadata": {
    "collapsed": false
   },
   "outputs": [
    {
     "data": {
      "text/plain": [
       "True"
      ]
     },
     "execution_count": 22,
     "metadata": {},
     "output_type": "execute_result"
    }
   ],
   "source": [
    "pna_l.set_nop(10001)\n",
    "pna_l.set_averages(1)"
   ]
  },
  {
   "cell_type": "code",
   "execution_count": 21,
   "metadata": {
    "collapsed": false
   },
   "outputs": [
    {
     "data": {
      "text/plain": [
       "True"
      ]
     },
     "execution_count": 21,
     "metadata": {},
     "output_type": "execute_result"
    }
   ],
   "source": [
    "pna_l.set_power(0)"
   ]
  },
  {
   "cell_type": "code",
   "execution_count": 25,
   "metadata": {
    "collapsed": false
   },
   "outputs": [],
   "source": [
    "pna_l.prepare_for_stb()\n",
    "pna_l.sweep_single() # triggering the sweep\n",
    "pna_l.wait_for_stb()\n",
    "pna_l.autoscale_all()"
   ]
  },
  {
   "cell_type": "code",
   "execution_count": 94,
   "metadata": {
    "collapsed": false
   },
   "outputs": [],
   "source": [
    "def guess_scan_areas(area_size, depth):\n",
    "    '''\n",
    "    Function to get the approximate positions of the resonator dips and return small areas around them\n",
    "    Parameters:\n",
    "    -----------\n",
    "        area_size : double\n",
    "        Sets the diams of the returned scan areas (Hz)\n",
    "        \n",
    "        depth : double\n",
    "        Count everything deeper than median transmission depth near a minimum as a resonator dip. \n",
    "        Should be chosen manually each time\n",
    "    Returns:\n",
    "        scan_areas : list\n",
    "        A list of tuples each representing an area in frequency presumably around the resonator dips\n",
    "    '''\n",
    "    freqs, amps = pna_l.get_frequencies(), 20*log10(abs(pna_l.get_sdata()))\n",
    "    window = 1000\n",
    "    extrema = argrelextrema(amps, np.less, order=window)[0]\n",
    "    deep_minima = []\n",
    "    for extremum in extrema:\n",
    "        mean_transmission = median(amps[extremum-window/2:extremum+window/2])\n",
    "        if amps[extremum]<mean_transmission-depth:\n",
    "            deep_minima.append(freqs[extremum])\n",
    "    return [(m-area_size/2, m+area_size/2) for m in deep_minima]"
   ]
  },
  {
   "cell_type": "code",
   "execution_count": 98,
   "metadata": {
    "collapsed": false
   },
   "outputs": [
    {
     "name": "stderr",
     "output_type": "stream",
     "text": [
      "C:\\Anaconda3\\lib\\site-packages\\ipykernel\\__main__.py:21: VisibleDeprecationWarning: using a non-integer number instead of an integer will result in an error in the future\n"
     ]
    },
    {
     "data": {
      "text/plain": [
       "([(6397800000.0, 6547800000.0)], 1)"
      ]
     },
     "execution_count": 98,
     "metadata": {},
     "output_type": "execute_result"
    }
   ],
   "source": [
    "scan_areas = guess_scan_areas(150e6, 1)[:]\n",
    "scan_areas[:10], len(scan_areas)"
   ]
  },
  {
   "cell_type": "code",
   "execution_count": 96,
   "metadata": {
    "collapsed": false
   },
   "outputs": [],
   "source": [
    "# scan_areas_prepend = [(5563624000.0, 5564624000.0)]"
   ]
  },
  {
   "cell_type": "code",
   "execution_count": 151,
   "metadata": {
    "collapsed": false
   },
   "outputs": [],
   "source": [
    "# manual override for the scan areas, don't use if guessing succeeded\n",
    "# scan_areas = [(4.91e9,4.95e9), (6.22e9, 6.26e9)] \n",
    "# scan_areas.append((7.7e9, 7.8e9))\n",
    "# scan_areas[7] = (7.737e9, 7.741e9)\n",
    "# scan_areas.insert(-1, (7.48e9, 7.488e9))\n",
    "del scan_areas[-2]"
   ]
  },
  {
   "cell_type": "code",
   "execution_count": 97,
   "metadata": {
    "collapsed": true
   },
   "outputs": [],
   "source": [
    "# scan_areas = scan_areas+scan_areas_prepend"
   ]
  },
  {
   "cell_type": "code",
   "execution_count": 99,
   "metadata": {
    "collapsed": false
   },
   "outputs": [
    {
     "data": {
      "image/png": "[encoded data removed]",
      "text/plain": [
       "<matplotlib.figure.Figure at 0x939fe80>"
      ]
     },
     "metadata": {},
     "output_type": "display_data"
    }
   ],
   "source": [
    "save_graph = False\n",
    "\n",
    "plt.plot(pna_l.get_frequencies(), 20*log10(abs(pna_l.get_sdata())))\n",
    "\n",
    "if not save_graph:\n",
    "    for scan_area in scan_areas:\n",
    "        plt.plot(scan_area, ones(2)*min(20*log10(abs(pna_l.get_sdata()))), marker=\"+\")\n",
    "        \n",
    "# plt.xlim(scan_areas[10]) # the x-axis limits may are set to a certain scan area to check whether it was guessed correctly\n",
    "plt.ylim(min(20*log10(abs(pna_l.get_sdata())))-5,max(20*log10(abs(pna_l.get_sdata())))+5)\n",
    "# plt.xlim(6.5e9, 8e9)\n",
    "plt.minorticks_on()\n",
    "plt.grid(which=\"both\")\n",
    "plt.gcf().set_size_inches(15, 3)\n",
    "\n",
    "# Here the first datafile is created. It is placed in a folder with current date which is also created below.\n",
    "\n",
    "if save_graph:\n",
    "    try:\n",
    "        os.mkdir(\"./data/\"+str(datetime.datetime.now().date()))\n",
    "    except FileExistsError:\n",
    "        pass\n",
    "    with open(\"./data/\"+str(datetime.datetime.now().date())+\"/\"+sample_name+\".pkl\", \"wb\") as f:\n",
    "        pickle.dump((znb.get_frequencies(), znb.get_sdata()), f)"
   ]
  },
  {
   "cell_type": "markdown",
   "metadata": {},
   "source": [
    "### Recording a zoomed scan inside each scan area at each power"
   ]
  },
  {
   "cell_type": "code",
   "execution_count": 100,
   "metadata": {
    "collapsed": false
   },
   "outputs": [
    {
     "data": {
      "text/plain": [
       "True"
      ]
     },
     "execution_count": 100,
     "metadata": {},
     "output_type": "execute_result"
    }
   ],
   "source": [
    "power_scans = {}\n",
    "pna_l.set_nop(1000)\n",
    "pna_l.set_bandwidth(1000)"
   ]
  },
  {
   "cell_type": "markdown",
   "metadata": {},
   "source": [
    "First we make noise calibration to make sure we will not perform redundant averaging:"
   ]
  },
  {
   "cell_type": "code",
   "execution_count": 101,
   "metadata": {
    "collapsed": true
   },
   "outputs": [],
   "source": [
    "def theory_noise_amps_pow(power, exponent, max_noise):\n",
    "    return max_noise*exp(-power*exponent)\n",
    "# def theory_noise_amps_avg(average, max_noise):\n",
    "#     return max_noise/sqrt(average)\n",
    "def calibrate_noise(scan_area, powers):\n",
    "    noises = []\n",
    "    powers = powers[::]\n",
    "    pna_l.set_xlim(*(mean(scan_area)+10e6+linspace(-1,1,2)))\n",
    "    pna_l.set_averages(1)\n",
    "    for power in powers:\n",
    "        pna_l.set_power(power)\n",
    "        pna_l.prepare_for_stb()\n",
    "        pna_l.sweep_single()\n",
    "        pna_l.wait_for_stb()\n",
    "        noises.append(pna_l.get_sdata())\n",
    "        print(\"\\rPower:\", power, end=\"\")\n",
    "    noise_amps = [sqrt(sum(abs(noise - mean(noise))**2)) for noise in noises] \n",
    "    opt_params = curve_fit(theory_noise_amps_pow, powers, noise_amps, p0=(0.01,0.1))[0]\n",
    "    return opt_params, noise_amps"
   ]
  },
  {
   "cell_type": "code",
   "execution_count": 102,
   "metadata": {
    "collapsed": false
   },
   "outputs": [
    {
     "name": "stdout",
     "output_type": "stream",
     "text": [
      "Started at: 2017-01-01 15:42:50.531935\n",
      "[-60. -58. -56. -54. -52.]\n",
      "(6397800000.0, 6547800000.0) avg: 1.0 power:0.0 Done!\n"
     ]
    }
   ],
   "source": [
    "time_start = datetime.datetime.now()\n",
    "print(\"Started at:\", time_start)\n",
    "\n",
    "powers = linspace(-60, 0, 31) # the powers we are using to scan through\n",
    "print(powers[:5]) # to check the powers are nice whole numbers\n",
    "\n",
    "# Beginning the scan here             \n",
    "for scan_area in scan_areas[:]:\n",
    "    S21s = []\n",
    "    \n",
    "    opt_params, noise_amps = calibrate_noise(scan_area, powers[::5])\n",
    "    averages_arr = around(250*theory_noise_amps_pow(powers, *opt_params)**2)\n",
    "    averages_arr[averages_arr==0]=1\n",
    "    pna_l.set_xlim(*scan_area)\n",
    "    \n",
    "    for power, averages in zip(powers, averages_arr):\n",
    "        pna_l.set_power(power)\n",
    "        pna_l.set_averages(averages)\n",
    "        print(\"\\r\"+str(scan_area), \"avg: \"+str(averages), \"power:\"+str(power), end=\" \", flush=True)\n",
    "        \n",
    "        pna_l.prepare_for_stb()\n",
    "        pna_l.sweep_single()\n",
    "        pna_l.wait_for_stb()\n",
    "        \n",
    "        pna_l.autoscale_all()\n",
    "        S21s.append((pna_l.get_frequencies(), pna_l.get_sdata()))\n",
    "    power_scans[scan_area] = S21s\n",
    "    print(\"Done!\")\n",
    "# with open(\"./data/\"\\\n",
    "#           +str(time_start.date())\\\n",
    "#           +\"/\"+sample_name+\"_resonators_on_power.pkl\", \"wb\") as f:\n",
    "#     pickle.dump((scan_areas, powers, power_scans), f)"
   ]
  },
  {
   "cell_type": "code",
   "execution_count": 103,
   "metadata": {
    "collapsed": false
   },
   "outputs": [
    {
     "data": {
      "image/png": "[encoded data removed]",
      "text/plain": [
       "<matplotlib.figure.Figure at 0x999e748>"
      ]
     },
     "metadata": {},
     "output_type": "display_data"
    }
   ],
   "source": [
    "# scan_area = scan_areas[21]\n",
    "plt.plot(power_scans[scan_area][0][0], 20*log10(abs(power_scans[scan_area][0][1])))\n",
    "plt.plot(power_scans[scan_area][-1][0], 20*log10(abs(power_scans[scan_area][-1][1])))\n",
    "plt.gcf().set_size_inches(13,5)"
   ]
  },
  {
   "cell_type": "markdown",
   "metadata": {},
   "source": [
    "##  Noise calibration"
   ]
  },
  {
   "cell_type": "code",
   "execution_count": 147,
   "metadata": {
    "collapsed": true
   },
   "outputs": [],
   "source": [
    "peak_vicinity = mean(scan_areas[0])+linspace(-1, 1, 2)"
   ]
  },
  {
   "cell_type": "code",
   "execution_count": 178,
   "metadata": {
    "collapsed": true
   },
   "outputs": [],
   "source": [
    "power_scans = {}\n",
    "znb.set_nop(1000)\n",
    "znb.set_bandwidth(500)\n",
    "znb.set_averages(1)"
   ]
  },
  {
   "cell_type": "code",
   "execution_count": 179,
   "metadata": {
    "collapsed": true
   },
   "outputs": [],
   "source": [
    "powers = linspace(-60, -30, 31)"
   ]
  },
  {
   "cell_type": "code",
   "execution_count": 180,
   "metadata": {
    "collapsed": false
   },
   "outputs": [
    {
     "name": "stdout",
     "output_type": "stream",
     "text": [
      "Power: -30.0"
     ]
    }
   ],
   "source": [
    "noises_pow = []\n",
    "znb.set_xlim(*peak_vicinity)\n",
    "    \n",
    "for power in powers:\n",
    "    znb.set_power(power)\n",
    "    znb.prepare_for_stb()\n",
    "    znb.sweep_single()\n",
    "    znb.wait_for_stb()\n",
    "    noises_pow.append(znb.get_sdata())\n",
    "    print(\"\\rPower:\", power, end=\"\")"
   ]
  },
  {
   "cell_type": "code",
   "execution_count": 199,
   "metadata": {
    "collapsed": false
   },
   "outputs": [],
   "source": [
    "noise_amps = [sqrt(sum(abs(noise - mean(noise))**2)) for noise in noises_pow] \n",
    "opt_params = curve_fit(theory_noise_amps_pow, powers, noise_amps, p0=(0.01,0.6))[0]"
   ]
  },
  {
   "cell_type": "code",
   "execution_count": 201,
   "metadata": {
    "collapsed": false
   },
   "outputs": [
    {
     "data": {
      "text/plain": [
       "array([ 0.11579542,  0.00053619])"
      ]
     },
     "execution_count": 201,
     "metadata": {},
     "output_type": "execute_result"
    }
   ],
   "source": [
    "opt_params"
   ]
  },
  {
   "cell_type": "code",
   "execution_count": 200,
   "metadata": {
    "collapsed": false
   },
   "outputs": [
    {
     "data": {
      "text/plain": [
       "[<matplotlib.lines.Line2D at 0xdcdc208>]"
      ]
     },
     "execution_count": 200,
     "metadata": {},
     "output_type": "execute_result"
    },
    {
     "data": {
      "image/png": "[encoded data removed]",
      "text/plain": [
       "<matplotlib.figure.Figure at 0xd53cfd0>"
      ]
     },
     "metadata": {},
     "output_type": "display_data"
    }
   ],
   "source": [
    "plt.plot(powers, noise_amps)\n",
    "plt.plot(powers, theory_noise_amps_pow(powers, *opt_params))"
   ]
  },
  {
   "cell_type": "code",
   "execution_count": 166,
   "metadata": {
    "collapsed": true
   },
   "outputs": [],
   "source": [
    "averages = linspace(1, 50, 50)"
   ]
  },
  {
   "cell_type": "code",
   "execution_count": 168,
   "metadata": {
    "collapsed": true
   },
   "outputs": [
    {
     "name": "stdout",
     "output_type": "stream",
     "text": [
      "Average: 25.0"
     ]
    },
    {
     "ename": "KeyboardInterrupt",
     "evalue": "",
     "output_type": "error",
     "traceback": [
      "\u001b[0;31m---------------------------------------------------------------------------\u001b[0m",
      "\u001b[0;31mKeyboardInterrupt\u001b[0m                         Traceback (most recent call last)",
      "\u001b[0;32m<ipython-input-168-bcd968cc8ce3>\u001b[0m in \u001b[0;36m<module>\u001b[0;34m()\u001b[0m\n\u001b[1;32m      6\u001b[0m     \u001b[0mznb\u001b[0m\u001b[1;33m.\u001b[0m\u001b[0mprepare_for_stb\u001b[0m\u001b[1;33m(\u001b[0m\u001b[1;33m)\u001b[0m\u001b[1;33m\u001b[0m\u001b[0m\n\u001b[1;32m      7\u001b[0m     \u001b[0mznb\u001b[0m\u001b[1;33m.\u001b[0m\u001b[0msweep_single\u001b[0m\u001b[1;33m(\u001b[0m\u001b[1;33m)\u001b[0m\u001b[1;33m\u001b[0m\u001b[0m\n\u001b[0;32m----> 8\u001b[0;31m     \u001b[0mznb\u001b[0m\u001b[1;33m.\u001b[0m\u001b[0mwait_for_stb\u001b[0m\u001b[1;33m(\u001b[0m\u001b[1;33m)\u001b[0m\u001b[1;33m\u001b[0m\u001b[0m\n\u001b[0m\u001b[1;32m      9\u001b[0m     \u001b[0mnoises\u001b[0m\u001b[1;33m.\u001b[0m\u001b[0mappend\u001b[0m\u001b[1;33m(\u001b[0m\u001b[0mznb\u001b[0m\u001b[1;33m.\u001b[0m\u001b[0mget_sdata\u001b[0m\u001b[1;33m(\u001b[0m\u001b[1;33m)\u001b[0m\u001b[1;33m)\u001b[0m\u001b[1;33m\u001b[0m\u001b[0m\n\u001b[1;32m     10\u001b[0m     \u001b[0mprint\u001b[0m\u001b[1;33m(\u001b[0m\u001b[1;34m\"\\rAverage:\"\u001b[0m\u001b[1;33m,\u001b[0m \u001b[0maverage\u001b[0m\u001b[1;33m,\u001b[0m \u001b[0mend\u001b[0m\u001b[1;33m=\u001b[0m\u001b[1;34m\"\"\u001b[0m\u001b[1;33m)\u001b[0m\u001b[1;33m\u001b[0m\u001b[0m\n",
      "\u001b[0;32mC:\\Users\\RQC128\\Documents\\Measurement\\drivers\\instr.py\u001b[0m in \u001b[0;36mwait_for_stb\u001b[0;34m(self)\u001b[0m\n\u001b[1;32m     98\u001b[0m             \u001b[1;32melse\u001b[0m\u001b[1;33m:\u001b[0m\u001b[1;33m\u001b[0m\u001b[0m\n\u001b[1;32m     99\u001b[0m                 \u001b[0mdone\u001b[0m \u001b[1;33m=\u001b[0m \u001b[1;33m(\u001b[0m\u001b[1;36m2\u001b[0m\u001b[1;33m**\u001b[0m\u001b[1;36m5\u001b[0m \u001b[1;33m==\u001b[0m \u001b[1;33m(\u001b[0m\u001b[1;36m2\u001b[0m\u001b[1;33m**\u001b[0m\u001b[1;36m5\u001b[0m \u001b[1;33m&\u001b[0m \u001b[0mstb_value\u001b[0m\u001b[1;33m)\u001b[0m\u001b[1;33m)\u001b[0m\u001b[1;33m\u001b[0m\u001b[0m\n\u001b[0;32m--> 100\u001b[0;31m                 \u001b[0msleep\u001b[0m\u001b[1;33m(\u001b[0m\u001b[1;36m0.01\u001b[0m\u001b[1;33m)\u001b[0m\u001b[1;33m\u001b[0m\u001b[0m\n\u001b[0m\u001b[1;32m    101\u001b[0m \u001b[1;33m\u001b[0m\u001b[0m\n\u001b[1;32m    102\u001b[0m     \u001b[1;32mdef\u001b[0m \u001b[0mwait_for_srq\u001b[0m\u001b[1;33m(\u001b[0m\u001b[0mself\u001b[0m\u001b[1;33m)\u001b[0m\u001b[1;33m:\u001b[0m \u001b[1;31m# ONLY WORKS WITH GPIB ! NOT TESTED !\u001b[0m\u001b[1;33m\u001b[0m\u001b[0m\n",
      "\u001b[0;31mKeyboardInterrupt\u001b[0m: "
     ]
    }
   ],
   "source": [
    "noises = []\n",
    "znb.set_xlim(*peak_vicinity)\n",
    "znb.set_power(-60)\n",
    "for average in averages:\n",
    "    znb.set_averages(average)\n",
    "    znb.prepare_for_stb()\n",
    "    znb.sweep_single()\n",
    "    znb.wait_for_stb()\n",
    "    noises.append(znb.get_sdata())\n",
    "    print(\"\\rAverage:\", average, end=\"\")"
   ]
  },
  {
   "cell_type": "code",
   "execution_count": 205,
   "metadata": {
    "collapsed": true
   },
   "outputs": [],
   "source": [
    "noise_amps = [sqrt(sum(abs(noise - mean(noise))**2)) for noise in noises] "
   ]
  },
  {
   "cell_type": "code",
   "execution_count": 221,
   "metadata": {
    "collapsed": false
   },
   "outputs": [],
   "source": [
    "opt_params = curve_fit(theory_noise_amps_avg, averages[:25], noise_amps, p0=(1))[0]"
   ]
  },
  {
   "cell_type": "code",
   "execution_count": 223,
   "metadata": {
    "collapsed": false
   },
   "outputs": [
    {
     "data": {
      "text/plain": [
       "[<matplotlib.lines.Line2D at 0xd66f3c8>]"
      ]
     },
     "execution_count": 223,
     "metadata": {},
     "output_type": "execute_result"
    },
    {
     "data": {
      "image/png": "[encoded data removed]",
      "text/plain": [
       "<matplotlib.figure.Figure at 0xd70b470>"
      ]
     },
     "metadata": {},
     "output_type": "display_data"
    }
   ],
   "source": [
    "plt.plot(averages[:25], noise_amps)\n",
    "plt.plot(averages[:25], theory_noise_amps_avg(averages[:25], *opt_params))"
   ]
  },
  {
   "cell_type": "code",
   "execution_count": 183,
   "metadata": {
    "collapsed": true
   },
   "outputs": [],
   "source": [
    "X = linspace(1, 25)\n",
    "Y_pow = exp(-X)\n",
    "Y_avg = 1/sqrt(X)"
   ]
  },
  {
   "cell_type": "code",
   "execution_count": 184,
   "metadata": {
    "collapsed": false
   },
   "outputs": [
    {
     "data": {
      "text/plain": [
       "[<matplotlib.lines.Line2D at 0xd611f98>,\n",
       " <matplotlib.lines.Line2D at 0xd6199e8>]"
      ]
     },
     "execution_count": 184,
     "metadata": {},
     "output_type": "execute_result"
    },
    {
     "data": {
      "image/png": "[encoded data removed]",
      "text/plain": [
       "<matplotlib.figure.Figure at 0x9922eb8>"
      ]
     },
     "metadata": {},
     "output_type": "display_data"
    }
   ],
   "source": [
    "plt.plot(X, Y_pow, X, Y_avg)"
   ]
  },
  {
   "cell_type": "code",
   "execution_count": null,
   "metadata": {
    "collapsed": true
   },
   "outputs": [],
   "source": []
  }
 ],
 "metadata": {
  "anaconda-cloud": {},
  "kernelspec": {
   "display_name": "Python 3",
   "language": "python",
   "name": "python3"
  },
  "language_info": {
   "codemirror_mode": {
    "name": "ipython",
    "version": 3
   },
   "file_extension": ".py",
   "mimetype": "text/x-python",
   "name": "python",
   "nbconvert_exporter": "python",
   "pygments_lexer": "ipython3",
   "version": "3.5.2"
  }
 },
 "nbformat": 4,
 "nbformat_minor": 0
}
