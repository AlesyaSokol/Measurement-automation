{
 "cells": [
  {
   "cell_type": "markdown",
   "metadata": {},
   "source": [
    "# Notebook for getting S$_{14}$s of resonators vs "
   ]
  },
  {
   "cell_type": "markdown",
   "metadata": {},
   "source": [
    "Loading libraries requred below:"
   ]
  },
  {
   "cell_type": "code",
   "execution_count": 3,
   "metadata": {},
   "outputs": [
    {
     "name": "stdout",
     "output_type": "stream",
     "text": [
      "Populating the interactive namespace from numpy and matplotlib\n"
     ]
    }
   ],
   "source": [
    "%pylab notebook"
   ]
  },
  {
   "cell_type": "code",
   "execution_count": 4,
   "metadata": {},
   "outputs": [],
   "source": [
    "import time\n",
    "import pickle\n",
    "import sys\n",
    "from scipy.signal import argrelextrema\n",
    "from scipy.optimize import curve_fit\n",
    "import os"
   ]
  },
  {
   "cell_type": "code",
   "execution_count": 5,
   "metadata": {},
   "outputs": [],
   "source": [
    "from drivers.agilent_PNA_L import *\n",
    "from drivers.znb import *"
   ]
  },
  {
   "cell_type": "markdown",
   "metadata": {},
   "source": [
    "### Setting the name for the sample"
   ]
  },
  {
   "cell_type": "code",
   "execution_count": 34,
   "metadata": {},
   "outputs": [],
   "source": [
    "#sample_name = \"Xmon_2Q_holes(1808_068-3)\" #sample name will be used in the filenames\n",
    "sample_name = \"1901 2Q-2 016-1\"\n",
    "s_param = \"S21\" # specify where the sample is connected"
   ]
  },
  {
   "cell_type": "markdown",
   "metadata": {},
   "source": [
    "### Getting the general view S$_{21}$ scan of the sample and detect resonator positions"
   ]
  },
  {
   "cell_type": "code",
   "execution_count": 6,
   "metadata": {
    "scrolled": true
   },
   "outputs": [],
   "source": [
    "vna = Agilent_PNA_L(\"PNA-L2\") # loading the vector network analyser object from the driver\n",
    "# vna = Znb(\"ZNB\")"
   ]
  },
  {
   "cell_type": "code",
   "execution_count": 7,
   "metadata": {},
   "outputs": [],
   "source": [
    "vna.select_S_param(s_param)"
   ]
  },
  {
   "cell_type": "code",
   "execution_count": 8,
   "metadata": {},
   "outputs": [],
   "source": [
    "vna.sweep_hold()"
   ]
  },
  {
   "cell_type": "code",
   "execution_count": 9,
   "metadata": {},
   "outputs": [
    {
     "ename": "AttributeError",
     "evalue": "'Agilent_PNA_L' object has no attribute 'set_average_mode'",
     "output_type": "error",
     "traceback": [
      "\u001b[1;31m---------------------------------------------------------------------------\u001b[0m",
      "\u001b[1;31mAttributeError\u001b[0m                            Traceback (most recent call last)",
      "\u001b[1;32m<ipython-input-9-d072059aa4ec>\u001b[0m in \u001b[0;36m<module>\u001b[1;34m\u001b[0m\n\u001b[1;32m----> 1\u001b[1;33m \u001b[0mvna\u001b[0m\u001b[1;33m.\u001b[0m\u001b[0mset_average_mode\u001b[0m\u001b[1;33m(\u001b[0m\u001b[1;34m\"REDUCE\"\u001b[0m\u001b[1;33m)\u001b[0m\u001b[1;33m\u001b[0m\u001b[1;33m\u001b[0m\u001b[0m\n\u001b[0m",
      "\u001b[1;31mAttributeError\u001b[0m: 'Agilent_PNA_L' object has no attribute 'set_average_mode'"
     ]
    }
   ],
   "source": [
    "vna.set_average_mode(\"REDUCE\")"
   ]
  },
  {
   "cell_type": "markdown",
   "metadata": {},
   "source": [
    "Setting the parameters of the scan:"
   ]
  },
  {
   "cell_type": "code",
   "execution_count": 45,
   "metadata": {},
   "outputs": [
    {
     "data": {
      "text/plain": [
       "True"
      ]
     },
     "execution_count": 45,
     "metadata": {},
     "output_type": "execute_result"
    }
   ],
   "source": [
    "vna.set_xlim(6e9, 8e9) # setting the scan area\n",
    "vna.set_bandwidth(1000)\n",
    "vna.set_nop(10001)\n",
    "vna.set_averages(1)\n",
    "vna.set_power(-5)"
   ]
  },
  {
   "cell_type": "code",
   "execution_count": 46,
   "metadata": {},
   "outputs": [],
   "source": [
    "vna.prepare_for_stb()\n",
    "vna.sweep_single() # triggering the sweep\n",
    "vna.wait_for_stb()\n",
    "vna.autoscale_all()"
   ]
  },
  {
   "cell_type": "code",
   "execution_count": 12,
   "metadata": {},
   "outputs": [],
   "source": [
    "def guess_scan_areas(freqs, sdata, area_size, depth):\n",
    "    '''\n",
    "    Function to get the approximate positions of the resonator dips and return small areas around them\n",
    "    Parameters:\n",
    "    -----------\n",
    "        area_size : double\n",
    "        Sets the diams of the returned scan areas (Hz)\n",
    "        \n",
    "        depth : double\n",
    "        Count everything deeper than median transmission depth near a minimum as a resonator dip. \n",
    "        Should be chosen manually each time\n",
    "    Returns:\n",
    "        scan_areas : list\n",
    "        A list of tuples each representing an area in frequency presumably around the resonator dips\n",
    "    '''\n",
    "    freqs, amps = vna.get_frequencies(), 20*log10(abs(vna.get_sdata()))\n",
    "    window = 100\n",
    "    extrema = argrelextrema(amps, np.less, order=window)[0]\n",
    "    deep_minima = []\n",
    "    for extremum in extrema:\n",
    "        mean_transmission = median(amps[extremum-window//2:extremum+window//2])\n",
    "        if amps[extremum]<mean_transmission-depth:\n",
    "            deep_minima.append(freqs[extremum])\n",
    "    return [(m-area_size/2, m+area_size/2) for m in deep_minima]"
   ]
  },
  {
   "cell_type": "code",
   "execution_count": 47,
   "metadata": {},
   "outputs": [
    {
     "data": {
      "text/plain": [
       "([(6830200000.0, 6880200000.0),\n",
       "  (7320400000.0, 7370400000.0),\n",
       "  (7688000000.0, 7738000000.0),\n",
       "  (7786200000.0, 7836200000.0)],\n",
       " 4)"
      ]
     },
     "execution_count": 47,
     "metadata": {},
     "output_type": "execute_result"
    }
   ],
   "source": [
    "scan_areas = guess_scan_areas(1e6, 0, 50e6, 1)[:]\n",
    "#scan_areas[:10], len(scan_areas)\n",
    "scan_areas, len(scan_areas)"
   ]
  },
  {
   "cell_type": "code",
   "execution_count": 15,
   "metadata": {
    "collapsed": true
   },
   "outputs": [],
   "source": [
    "# manual override for the scan areas, don't use if guessing succeeded\n",
    "# scan_areas = [(8.09e9, 8.096e9),(8357650000.0, 8362650000.0)] \n",
    "# scan_areas.append((7.7e9, 7.8e9))\n",
    "# scan_areas[7] = (7.737e9, 7.741e9)\n",
    "# scan_areas.insert(-1, (7.48e9, 7.488e9))\n",
    "# del scan_areas[-2:]\n",
    "#scan_areas, len(scan_areas)\n",
    "\n",
    "#([(7502280000.0, 7522280000.0),\n",
    "#  (7598880000.0, 7618880000.0),\n",
    "#  (7679520000.0, 7699520000.0),\n",
    "#  (7783120000.0, 7803120000.0),\n",
    "#  (7868520000.0, 7888520000.0),\n",
    "#  (7969880000.0, 7989880000.0),\n",
    "#  (8468280000.0, 8488280000.0),\n",
    "#  (8717200000.0, 8737200000.0)],\n",
    "# 8)"
   ]
  },
  {
   "cell_type": "code",
   "execution_count": 48,
   "metadata": {
    "scrolled": false
   },
   "outputs": [
    {
     "data": {
      "application/javascript": [
       "/* Put everything inside the global mpl namespace */\n",
       "window.mpl = {};\n",
       "\n",
       "\n",
       "mpl.get_websocket_type = function() {\n",
       "    if (typeof(WebSocket) !== 'undefined') {\n",
       "        return WebSocket;\n",
       "    } else if (typeof(MozWebSocket) !== 'undefined') {\n",
       "        return MozWebSocket;\n",
       "    } else {\n",
       "        alert('Your browser does not have WebSocket support. ' +\n",
       "              'Please try Chrome, Safari or Firefox ≥ 6. ' +\n",
       "              'Firefox 4 and 5 are also supported but you ' +\n",
       "              'have to enable WebSockets in about:config.');\n",
       "    };\n",
       "}\n",
       "\n",
       "mpl.figure = function(figure_id, websocket, ondownload, parent_element) {\n",
       "    this.id = figure_id;\n",
       "\n",
       "    this.ws = websocket;\n",
       "\n",
       "    this.supports_binary = (this.ws.binaryType != undefined);\n",
       "\n",
       "    if (!this.supports_binary) {\n",
       "        var warnings = document.getElementById(\"mpl-warnings\");\n",
       "        if (warnings) {\n",
       "            warnings.style.display = 'block';\n",
       "            warnings.textContent = (\n",
       "                \"This browser does not support binary websocket messages. \" +\n",
       "                    \"Performance may be slow.\");\n",
       "        }\n",
       "    }\n",
       "\n",
       "    this.imageObj = new Image();\n",
       "\n",
       "    this.context = undefined;\n",
       "    this.message = undefined;\n",
       "    this.canvas = undefined;\n",
       "    this.rubberband_canvas = undefined;\n",
       "    this.rubberband_context = undefined;\n",
       "    this.format_dropdown = undefined;\n",
       "\n",
       "    this.image_mode = 'full';\n",
       "\n",
       "    this.root = $('<div/>');\n",
       "    this._root_extra_style(this.root)\n",
       "    this.root.attr('style', 'display: inline-block');\n",
       "\n",
       "    $(parent_element).append(this.root);\n",
       "\n",
       "    this._init_header(this);\n",
       "    this._init_canvas(this);\n",
       "    this._init_toolbar(this);\n",
       "\n",
       "    var fig = this;\n",
       "\n",
       "    this.waiting = false;\n",
       "\n",
       "    this.ws.onopen =  function () {\n",
       "            fig.send_message(\"supports_binary\", {value: fig.supports_binary});\n",
       "            fig.send_message(\"send_image_mode\", {});\n",
       "            if (mpl.ratio != 1) {\n",
       "                fig.send_message(\"set_dpi_ratio\", {'dpi_ratio': mpl.ratio});\n",
       "            }\n",
       "            fig.send_message(\"refresh\", {});\n",
       "        }\n",
       "\n",
       "    this.imageObj.onload = function() {\n",
       "            if (fig.image_mode == 'full') {\n",
       "                // Full images could contain transparency (where diff images\n",
       "                // almost always do), so we need to clear the canvas so that\n",
       "                // there is no ghosting.\n",
       "                fig.context.clearRect(0, 0, fig.canvas.width, fig.canvas.height);\n",
       "            }\n",
       "            fig.context.drawImage(fig.imageObj, 0, 0);\n",
       "        };\n",
       "\n",
       "    this.imageObj.onunload = function() {\n",
       "        fig.ws.close();\n",
       "    }\n",
       "\n",
       "    this.ws.onmessage = this._make_on_message_function(this);\n",
       "\n",
       "    this.ondownload = ondownload;\n",
       "}\n",
       "\n",
       "mpl.figure.prototype._init_header = function() {\n",
       "    var titlebar = $(\n",
       "        '<div class=\"ui-dialog-titlebar ui-widget-header ui-corner-all ' +\n",
       "        'ui-helper-clearfix\"/>');\n",
       "    var titletext = $(\n",
       "        '<div class=\"ui-dialog-title\" style=\"width: 100%; ' +\n",
       "        'text-align: center; padding: 3px;\"/>');\n",
       "    titlebar.append(titletext)\n",
       "    this.root.append(titlebar);\n",
       "    this.header = titletext[0];\n",
       "}\n",
       "\n",
       "\n",
       "\n",
       "mpl.figure.prototype._canvas_extra_style = function(canvas_div) {\n",
       "\n",
       "}\n",
       "\n",
       "\n",
       "mpl.figure.prototype._root_extra_style = function(canvas_div) {\n",
       "\n",
       "}\n",
       "\n",
       "mpl.figure.prototype._init_canvas = function() {\n",
       "    var fig = this;\n",
       "\n",
       "    var canvas_div = $('<div/>');\n",
       "\n",
       "    canvas_div.attr('style', 'position: relative; clear: both; outline: 0');\n",
       "\n",
       "    function canvas_keyboard_event(event) {\n",
       "        return fig.key_event(event, event['data']);\n",
       "    }\n",
       "\n",
       "    canvas_div.keydown('key_press', canvas_keyboard_event);\n",
       "    canvas_div.keyup('key_release', canvas_keyboard_event);\n",
       "    this.canvas_div = canvas_div\n",
       "    this._canvas_extra_style(canvas_div)\n",
       "    this.root.append(canvas_div);\n",
       "\n",
       "    var canvas = $('<canvas/>');\n",
       "    canvas.addClass('mpl-canvas');\n",
       "    canvas.attr('style', \"left: 0; top: 0; z-index: 0; outline: 0\")\n",
       "\n",
       "    this.canvas = canvas[0];\n",
       "    this.context = canvas[0].getContext(\"2d\");\n",
       "\n",
       "    var backingStore = this.context.backingStorePixelRatio ||\n",
       "\tthis.context.webkitBackingStorePixelRatio ||\n",
       "\tthis.context.mozBackingStorePixelRatio ||\n",
       "\tthis.context.msBackingStorePixelRatio ||\n",
       "\tthis.context.oBackingStorePixelRatio ||\n",
       "\tthis.context.backingStorePixelRatio || 1;\n",
       "\n",
       "    mpl.ratio = (window.devicePixelRatio || 1) / backingStore;\n",
       "\n",
       "    var rubberband = $('<canvas/>');\n",
       "    rubberband.attr('style', \"position: absolute; left: 0; top: 0; z-index: 1;\")\n",
       "\n",
       "    var pass_mouse_events = true;\n",
       "\n",
       "    canvas_div.resizable({\n",
       "        start: function(event, ui) {\n",
       "            pass_mouse_events = false;\n",
       "        },\n",
       "        resize: function(event, ui) {\n",
       "            fig.request_resize(ui.size.width, ui.size.height);\n",
       "        },\n",
       "        stop: function(event, ui) {\n",
       "            pass_mouse_events = true;\n",
       "            fig.request_resize(ui.size.width, ui.size.height);\n",
       "        },\n",
       "    });\n",
       "\n",
       "    function mouse_event_fn(event) {\n",
       "        if (pass_mouse_events)\n",
       "            return fig.mouse_event(event, event['data']);\n",
       "    }\n",
       "\n",
       "    rubberband.mousedown('button_press', mouse_event_fn);\n",
       "    rubberband.mouseup('button_release', mouse_event_fn);\n",
       "    // Throttle sequential mouse events to 1 every 20ms.\n",
       "    rubberband.mousemove('motion_notify', mouse_event_fn);\n",
       "\n",
       "    rubberband.mouseenter('figure_enter', mouse_event_fn);\n",
       "    rubberband.mouseleave('figure_leave', mouse_event_fn);\n",
       "\n",
       "    canvas_div.on(\"wheel\", function (event) {\n",
       "        event = event.originalEvent;\n",
       "        event['data'] = 'scroll'\n",
       "        if (event.deltaY < 0) {\n",
       "            event.step = 1;\n",
       "        } else {\n",
       "            event.step = -1;\n",
       "        }\n",
       "        mouse_event_fn(event);\n",
       "    });\n",
       "\n",
       "    canvas_div.append(canvas);\n",
       "    canvas_div.append(rubberband);\n",
       "\n",
       "    this.rubberband = rubberband;\n",
       "    this.rubberband_canvas = rubberband[0];\n",
       "    this.rubberband_context = rubberband[0].getContext(\"2d\");\n",
       "    this.rubberband_context.strokeStyle = \"#000000\";\n",
       "\n",
       "    this._resize_canvas = function(width, height) {\n",
       "        // Keep the size of the canvas, canvas container, and rubber band\n",
       "        // canvas in synch.\n",
       "        canvas_div.css('width', width)\n",
       "        canvas_div.css('height', height)\n",
       "\n",
       "        canvas.attr('width', width * mpl.ratio);\n",
       "        canvas.attr('height', height * mpl.ratio);\n",
       "        canvas.attr('style', 'width: ' + width + 'px; height: ' + height + 'px;');\n",
       "\n",
       "        rubberband.attr('width', width);\n",
       "        rubberband.attr('height', height);\n",
       "    }\n",
       "\n",
       "    // Set the figure to an initial 600x600px, this will subsequently be updated\n",
       "    // upon first draw.\n",
       "    this._resize_canvas(600, 600);\n",
       "\n",
       "    // Disable right mouse context menu.\n",
       "    $(this.rubberband_canvas).bind(\"contextmenu\",function(e){\n",
       "        return false;\n",
       "    });\n",
       "\n",
       "    function set_focus () {\n",
       "        canvas.focus();\n",
       "        canvas_div.focus();\n",
       "    }\n",
       "\n",
       "    window.setTimeout(set_focus, 100);\n",
       "}\n",
       "\n",
       "mpl.figure.prototype._init_toolbar = function() {\n",
       "    var fig = this;\n",
       "\n",
       "    var nav_element = $('<div/>');\n",
       "    nav_element.attr('style', 'width: 100%');\n",
       "    this.root.append(nav_element);\n",
       "\n",
       "    // Define a callback function for later on.\n",
       "    function toolbar_event(event) {\n",
       "        return fig.toolbar_button_onclick(event['data']);\n",
       "    }\n",
       "    function toolbar_mouse_event(event) {\n",
       "        return fig.toolbar_button_onmouseover(event['data']);\n",
       "    }\n",
       "\n",
       "    for(var toolbar_ind in mpl.toolbar_items) {\n",
       "        var name = mpl.toolbar_items[toolbar_ind][0];\n",
       "        var tooltip = mpl.toolbar_items[toolbar_ind][1];\n",
       "        var image = mpl.toolbar_items[toolbar_ind][2];\n",
       "        var method_name = mpl.toolbar_items[toolbar_ind][3];\n",
       "\n",
       "        if (!name) {\n",
       "            // put a spacer in here.\n",
       "            continue;\n",
       "        }\n",
       "        var button = $('<button/>');\n",
       "        button.addClass('ui-button ui-widget ui-state-default ui-corner-all ' +\n",
       "                        'ui-button-icon-only');\n",
       "        button.attr('role', 'button');\n",
       "        button.attr('aria-disabled', 'false');\n",
       "        button.click(method_name, toolbar_event);\n",
       "        button.mouseover(tooltip, toolbar_mouse_event);\n",
       "\n",
       "        var icon_img = $('<span/>');\n",
       "        icon_img.addClass('ui-button-icon-primary ui-icon');\n",
       "        icon_img.addClass(image);\n",
       "        icon_img.addClass('ui-corner-all');\n",
       "\n",
       "        var tooltip_span = $('<span/>');\n",
       "        tooltip_span.addClass('ui-button-text');\n",
       "        tooltip_span.html(tooltip);\n",
       "\n",
       "        button.append(icon_img);\n",
       "        button.append(tooltip_span);\n",
       "\n",
       "        nav_element.append(button);\n",
       "    }\n",
       "\n",
       "    var fmt_picker_span = $('<span/>');\n",
       "\n",
       "    var fmt_picker = $('<select/>');\n",
       "    fmt_picker.addClass('mpl-toolbar-option ui-widget ui-widget-content');\n",
       "    fmt_picker_span.append(fmt_picker);\n",
       "    nav_element.append(fmt_picker_span);\n",
       "    this.format_dropdown = fmt_picker[0];\n",
       "\n",
       "    for (var ind in mpl.extensions) {\n",
       "        var fmt = mpl.extensions[ind];\n",
       "        var option = $(\n",
       "            '<option/>', {selected: fmt === mpl.default_extension}).html(fmt);\n",
       "        fmt_picker.append(option);\n",
       "    }\n",
       "\n",
       "    // Add hover states to the ui-buttons\n",
       "    $( \".ui-button\" ).hover(\n",
       "        function() { $(this).addClass(\"ui-state-hover\");},\n",
       "        function() { $(this).removeClass(\"ui-state-hover\");}\n",
       "    );\n",
       "\n",
       "    var status_bar = $('<span class=\"mpl-message\"/>');\n",
       "    nav_element.append(status_bar);\n",
       "    this.message = status_bar[0];\n",
       "}\n",
       "\n",
       "mpl.figure.prototype.request_resize = function(x_pixels, y_pixels) {\n",
       "    // Request matplotlib to resize the figure. Matplotlib will then trigger a resize in the client,\n",
       "    // which will in turn request a refresh of the image.\n",
       "    this.send_message('resize', {'width': x_pixels, 'height': y_pixels});\n",
       "}\n",
       "\n",
       "mpl.figure.prototype.send_message = function(type, properties) {\n",
       "    properties['type'] = type;\n",
       "    properties['figure_id'] = this.id;\n",
       "    this.ws.send(JSON.stringify(properties));\n",
       "}\n",
       "\n",
       "mpl.figure.prototype.send_draw_message = function() {\n",
       "    if (!this.waiting) {\n",
       "        this.waiting = true;\n",
       "        this.ws.send(JSON.stringify({type: \"draw\", figure_id: this.id}));\n",
       "    }\n",
       "}\n",
       "\n",
       "\n",
       "mpl.figure.prototype.handle_save = function(fig, msg) {\n",
       "    var format_dropdown = fig.format_dropdown;\n",
       "    var format = format_dropdown.options[format_dropdown.selectedIndex].value;\n",
       "    fig.ondownload(fig, format);\n",
       "}\n",
       "\n",
       "\n",
       "mpl.figure.prototype.handle_resize = function(fig, msg) {\n",
       "    var size = msg['size'];\n",
       "    if (size[0] != fig.canvas.width || size[1] != fig.canvas.height) {\n",
       "        fig._resize_canvas(size[0], size[1]);\n",
       "        fig.send_message(\"refresh\", {});\n",
       "    };\n",
       "}\n",
       "\n",
       "mpl.figure.prototype.handle_rubberband = function(fig, msg) {\n",
       "    var x0 = msg['x0'] / mpl.ratio;\n",
       "    var y0 = (fig.canvas.height - msg['y0']) / mpl.ratio;\n",
       "    var x1 = msg['x1'] / mpl.ratio;\n",
       "    var y1 = (fig.canvas.height - msg['y1']) / mpl.ratio;\n",
       "    x0 = Math.floor(x0) + 0.5;\n",
       "    y0 = Math.floor(y0) + 0.5;\n",
       "    x1 = Math.floor(x1) + 0.5;\n",
       "    y1 = Math.floor(y1) + 0.5;\n",
       "    var min_x = Math.min(x0, x1);\n",
       "    var min_y = Math.min(y0, y1);\n",
       "    var width = Math.abs(x1 - x0);\n",
       "    var height = Math.abs(y1 - y0);\n",
       "\n",
       "    fig.rubberband_context.clearRect(\n",
       "        0, 0, fig.canvas.width, fig.canvas.height);\n",
       "\n",
       "    fig.rubberband_context.strokeRect(min_x, min_y, width, height);\n",
       "}\n",
       "\n",
       "mpl.figure.prototype.handle_figure_label = function(fig, msg) {\n",
       "    // Updates the figure title.\n",
       "    fig.header.textContent = msg['label'];\n",
       "}\n",
       "\n",
       "mpl.figure.prototype.handle_cursor = function(fig, msg) {\n",
       "    var cursor = msg['cursor'];\n",
       "    switch(cursor)\n",
       "    {\n",
       "    case 0:\n",
       "        cursor = 'pointer';\n",
       "        break;\n",
       "    case 1:\n",
       "        cursor = 'default';\n",
       "        break;\n",
       "    case 2:\n",
       "        cursor = 'crosshair';\n",
       "        break;\n",
       "    case 3:\n",
       "        cursor = 'move';\n",
       "        break;\n",
       "    }\n",
       "    fig.rubberband_canvas.style.cursor = cursor;\n",
       "}\n",
       "\n",
       "mpl.figure.prototype.handle_message = function(fig, msg) {\n",
       "    fig.message.textContent = msg['message'];\n",
       "}\n",
       "\n",
       "mpl.figure.prototype.handle_draw = function(fig, msg) {\n",
       "    // Request the server to send over a new figure.\n",
       "    fig.send_draw_message();\n",
       "}\n",
       "\n",
       "mpl.figure.prototype.handle_image_mode = function(fig, msg) {\n",
       "    fig.image_mode = msg['mode'];\n",
       "}\n",
       "\n",
       "mpl.figure.prototype.updated_canvas_event = function() {\n",
       "    // Called whenever the canvas gets updated.\n",
       "    this.send_message(\"ack\", {});\n",
       "}\n",
       "\n",
       "// A function to construct a web socket function for onmessage handling.\n",
       "// Called in the figure constructor.\n",
       "mpl.figure.prototype._make_on_message_function = function(fig) {\n",
       "    return function socket_on_message(evt) {\n",
       "        if (evt.data instanceof Blob) {\n",
       "            /* FIXME: We get \"Resource interpreted as Image but\n",
       "             * transferred with MIME type text/plain:\" errors on\n",
       "             * Chrome.  But how to set the MIME type?  It doesn't seem\n",
       "             * to be part of the websocket stream */\n",
       "            evt.data.type = \"image/png\";\n",
       "\n",
       "            /* Free the memory for the previous frames */\n",
       "            if (fig.imageObj.src) {\n",
       "                (window.URL || window.webkitURL).revokeObjectURL(\n",
       "                    fig.imageObj.src);\n",
       "            }\n",
       "\n",
       "            fig.imageObj.src = (window.URL || window.webkitURL).createObjectURL(\n",
       "                evt.data);\n",
       "            fig.updated_canvas_event();\n",
       "            fig.waiting = false;\n",
       "            return;\n",
       "        }\n",
       "        else if (typeof evt.data === 'string' && evt.data.slice(0, 21) == \"data:image/png;base64\") {\n",
       "            fig.imageObj.src = evt.data;\n",
       "            fig.updated_canvas_event();\n",
       "            fig.waiting = false;\n",
       "            return;\n",
       "        }\n",
       "\n",
       "        var msg = JSON.parse(evt.data);\n",
       "        var msg_type = msg['type'];\n",
       "\n",
       "        // Call the  \"handle_{type}\" callback, which takes\n",
       "        // the figure and JSON message as its only arguments.\n",
       "        try {\n",
       "            var callback = fig[\"handle_\" + msg_type];\n",
       "        } catch (e) {\n",
       "            console.log(\"No handler for the '\" + msg_type + \"' message type: \", msg);\n",
       "            return;\n",
       "        }\n",
       "\n",
       "        if (callback) {\n",
       "            try {\n",
       "                // console.log(\"Handling '\" + msg_type + \"' message: \", msg);\n",
       "                callback(fig, msg);\n",
       "            } catch (e) {\n",
       "                console.log(\"Exception inside the 'handler_\" + msg_type + \"' callback:\", e, e.stack, msg);\n",
       "            }\n",
       "        }\n",
       "    };\n",
       "}\n",
       "\n",
       "// from http://stackoverflow.com/questions/1114465/getting-mouse-location-in-canvas\n",
       "mpl.findpos = function(e) {\n",
       "    //this section is from http://www.quirksmode.org/js/events_properties.html\n",
       "    var targ;\n",
       "    if (!e)\n",
       "        e = window.event;\n",
       "    if (e.target)\n",
       "        targ = e.target;\n",
       "    else if (e.srcElement)\n",
       "        targ = e.srcElement;\n",
       "    if (targ.nodeType == 3) // defeat Safari bug\n",
       "        targ = targ.parentNode;\n",
       "\n",
       "    // jQuery normalizes the pageX and pageY\n",
       "    // pageX,Y are the mouse positions relative to the document\n",
       "    // offset() returns the position of the element relative to the document\n",
       "    var x = e.pageX - $(targ).offset().left;\n",
       "    var y = e.pageY - $(targ).offset().top;\n",
       "\n",
       "    return {\"x\": x, \"y\": y};\n",
       "};\n",
       "\n",
       "/*\n",
       " * return a copy of an object with only non-object keys\n",
       " * we need this to avoid circular references\n",
       " * http://stackoverflow.com/a/24161582/3208463\n",
       " */\n",
       "function simpleKeys (original) {\n",
       "  return Object.keys(original).reduce(function (obj, key) {\n",
       "    if (typeof original[key] !== 'object')\n",
       "        obj[key] = original[key]\n",
       "    return obj;\n",
       "  }, {});\n",
       "}\n",
       "\n",
       "mpl.figure.prototype.mouse_event = function(event, name) {\n",
       "    var canvas_pos = mpl.findpos(event)\n",
       "\n",
       "    if (name === 'button_press')\n",
       "    {\n",
       "        this.canvas.focus();\n",
       "        this.canvas_div.focus();\n",
       "    }\n",
       "\n",
       "    var x = canvas_pos.x * mpl.ratio;\n",
       "    var y = canvas_pos.y * mpl.ratio;\n",
       "\n",
       "    this.send_message(name, {x: x, y: y, button: event.button,\n",
       "                             step: event.step,\n",
       "                             guiEvent: simpleKeys(event)});\n",
       "\n",
       "    /* This prevents the web browser from automatically changing to\n",
       "     * the text insertion cursor when the button is pressed.  We want\n",
       "     * to control all of the cursor setting manually through the\n",
       "     * 'cursor' event from matplotlib */\n",
       "    event.preventDefault();\n",
       "    return false;\n",
       "}\n",
       "\n",
       "mpl.figure.prototype._key_event_extra = function(event, name) {\n",
       "    // Handle any extra behaviour associated with a key event\n",
       "}\n",
       "\n",
       "mpl.figure.prototype.key_event = function(event, name) {\n",
       "\n",
       "    // Prevent repeat events\n",
       "    if (name == 'key_press')\n",
       "    {\n",
       "        if (event.which === this._key)\n",
       "            return;\n",
       "        else\n",
       "            this._key = event.which;\n",
       "    }\n",
       "    if (name == 'key_release')\n",
       "        this._key = null;\n",
       "\n",
       "    var value = '';\n",
       "    if (event.ctrlKey && event.which != 17)\n",
       "        value += \"ctrl+\";\n",
       "    if (event.altKey && event.which != 18)\n",
       "        value += \"alt+\";\n",
       "    if (event.shiftKey && event.which != 16)\n",
       "        value += \"shift+\";\n",
       "\n",
       "    value += 'k';\n",
       "    value += event.which.toString();\n",
       "\n",
       "    this._key_event_extra(event, name);\n",
       "\n",
       "    this.send_message(name, {key: value,\n",
       "                             guiEvent: simpleKeys(event)});\n",
       "    return false;\n",
       "}\n",
       "\n",
       "mpl.figure.prototype.toolbar_button_onclick = function(name) {\n",
       "    if (name == 'download') {\n",
       "        this.handle_save(this, null);\n",
       "    } else {\n",
       "        this.send_message(\"toolbar_button\", {name: name});\n",
       "    }\n",
       "};\n",
       "\n",
       "mpl.figure.prototype.toolbar_button_onmouseover = function(tooltip) {\n",
       "    this.message.textContent = tooltip;\n",
       "};\n",
       "mpl.toolbar_items = [[\"Home\", \"Reset original view\", \"fa fa-home icon-home\", \"home\"], [\"Back\", \"Back to previous view\", \"fa fa-arrow-left icon-arrow-left\", \"back\"], [\"Forward\", \"Forward to next view\", \"fa fa-arrow-right icon-arrow-right\", \"forward\"], [\"\", \"\", \"\", \"\"], [\"Pan\", \"Pan axes with left mouse, zoom with right\", \"fa fa-arrows icon-move\", \"pan\"], [\"Zoom\", \"Zoom to rectangle\", \"fa fa-square-o icon-check-empty\", \"zoom\"], [\"\", \"\", \"\", \"\"], [\"Download\", \"Download plot\", \"fa fa-floppy-o icon-save\", \"download\"]];\n",
       "\n",
       "mpl.extensions = [\"eps\", \"jpeg\", \"pdf\", \"png\", \"ps\", \"raw\", \"svg\", \"tif\"];\n",
       "\n",
       "mpl.default_extension = \"png\";var comm_websocket_adapter = function(comm) {\n",
       "    // Create a \"websocket\"-like object which calls the given IPython comm\n",
       "    // object with the appropriate methods. Currently this is a non binary\n",
       "    // socket, so there is still some room for performance tuning.\n",
       "    var ws = {};\n",
       "\n",
       "    ws.close = function() {\n",
       "        comm.close()\n",
       "    };\n",
       "    ws.send = function(m) {\n",
       "        //console.log('sending', m);\n",
       "        comm.send(m);\n",
       "    };\n",
       "    // Register the callback with on_msg.\n",
       "    comm.on_msg(function(msg) {\n",
       "        //console.log('receiving', msg['content']['data'], msg);\n",
       "        // Pass the mpl event to the overridden (by mpl) onmessage function.\n",
       "        ws.onmessage(msg['content']['data'])\n",
       "    });\n",
       "    return ws;\n",
       "}\n",
       "\n",
       "mpl.mpl_figure_comm = function(comm, msg) {\n",
       "    // This is the function which gets called when the mpl process\n",
       "    // starts-up an IPython Comm through the \"matplotlib\" channel.\n",
       "\n",
       "    var id = msg.content.data.id;\n",
       "    // Get hold of the div created by the display call when the Comm\n",
       "    // socket was opened in Python.\n",
       "    var element = $(\"#\" + id);\n",
       "    var ws_proxy = comm_websocket_adapter(comm)\n",
       "\n",
       "    function ondownload(figure, format) {\n",
       "        window.open(figure.imageObj.src);\n",
       "    }\n",
       "\n",
       "    var fig = new mpl.figure(id, ws_proxy,\n",
       "                           ondownload,\n",
       "                           element.get(0));\n",
       "\n",
       "    // Call onopen now - mpl needs it, as it is assuming we've passed it a real\n",
       "    // web socket which is closed, not our websocket->open comm proxy.\n",
       "    ws_proxy.onopen();\n",
       "\n",
       "    fig.parent_element = element.get(0);\n",
       "    fig.cell_info = mpl.find_output_cell(\"<div id='\" + id + \"'></div>\");\n",
       "    if (!fig.cell_info) {\n",
       "        console.error(\"Failed to find cell for figure\", id, fig);\n",
       "        return;\n",
       "    }\n",
       "\n",
       "    var output_index = fig.cell_info[2]\n",
       "    var cell = fig.cell_info[0];\n",
       "\n",
       "};\n",
       "\n",
       "mpl.figure.prototype.handle_close = function(fig, msg) {\n",
       "    var width = fig.canvas.width/mpl.ratio\n",
       "    fig.root.unbind('remove')\n",
       "\n",
       "    // Update the output cell to use the data from the current canvas.\n",
       "    fig.push_to_output();\n",
       "    var dataURL = fig.canvas.toDataURL();\n",
       "    // Re-enable the keyboard manager in IPython - without this line, in FF,\n",
       "    // the notebook keyboard shortcuts fail.\n",
       "    IPython.keyboard_manager.enable()\n",
       "    $(fig.parent_element).html('<img src=\"' + dataURL + '\" width=\"' + width + '\">');\n",
       "    fig.close_ws(fig, msg);\n",
       "}\n",
       "\n",
       "mpl.figure.prototype.close_ws = function(fig, msg){\n",
       "    fig.send_message('closing', msg);\n",
       "    // fig.ws.close()\n",
       "}\n",
       "\n",
       "mpl.figure.prototype.push_to_output = function(remove_interactive) {\n",
       "    // Turn the data on the canvas into data in the output cell.\n",
       "    var width = this.canvas.width/mpl.ratio\n",
       "    var dataURL = this.canvas.toDataURL();\n",
       "    this.cell_info[1]['text/html'] = '<img src=\"' + dataURL + '\" width=\"' + width + '\">';\n",
       "}\n",
       "\n",
       "mpl.figure.prototype.updated_canvas_event = function() {\n",
       "    // Tell IPython that the notebook contents must change.\n",
       "    IPython.notebook.set_dirty(true);\n",
       "    this.send_message(\"ack\", {});\n",
       "    var fig = this;\n",
       "    // Wait a second, then push the new image to the DOM so\n",
       "    // that it is saved nicely (might be nice to debounce this).\n",
       "    setTimeout(function () { fig.push_to_output() }, 1000);\n",
       "}\n",
       "\n",
       "mpl.figure.prototype._init_toolbar = function() {\n",
       "    var fig = this;\n",
       "\n",
       "    var nav_element = $('<div/>');\n",
       "    nav_element.attr('style', 'width: 100%');\n",
       "    this.root.append(nav_element);\n",
       "\n",
       "    // Define a callback function for later on.\n",
       "    function toolbar_event(event) {\n",
       "        return fig.toolbar_button_onclick(event['data']);\n",
       "    }\n",
       "    function toolbar_mouse_event(event) {\n",
       "        return fig.toolbar_button_onmouseover(event['data']);\n",
       "    }\n",
       "\n",
       "    for(var toolbar_ind in mpl.toolbar_items){\n",
       "        var name = mpl.toolbar_items[toolbar_ind][0];\n",
       "        var tooltip = mpl.toolbar_items[toolbar_ind][1];\n",
       "        var image = mpl.toolbar_items[toolbar_ind][2];\n",
       "        var method_name = mpl.toolbar_items[toolbar_ind][3];\n",
       "\n",
       "        if (!name) { continue; };\n",
       "\n",
       "        var button = $('<button class=\"btn btn-default\" href=\"#\" title=\"' + name + '\"><i class=\"fa ' + image + ' fa-lg\"></i></button>');\n",
       "        button.click(method_name, toolbar_event);\n",
       "        button.mouseover(tooltip, toolbar_mouse_event);\n",
       "        nav_element.append(button);\n",
       "    }\n",
       "\n",
       "    // Add the status bar.\n",
       "    var status_bar = $('<span class=\"mpl-message\" style=\"text-align:right; float: right;\"/>');\n",
       "    nav_element.append(status_bar);\n",
       "    this.message = status_bar[0];\n",
       "\n",
       "    // Add the close button to the window.\n",
       "    var buttongrp = $('<div class=\"btn-group inline pull-right\"></div>');\n",
       "    var button = $('<button class=\"btn btn-mini btn-primary\" href=\"#\" title=\"Stop Interaction\"><i class=\"fa fa-power-off icon-remove icon-large\"></i></button>');\n",
       "    button.click(function (evt) { fig.handle_close(fig, {}); } );\n",
       "    button.mouseover('Stop Interaction', toolbar_mouse_event);\n",
       "    buttongrp.append(button);\n",
       "    var titlebar = this.root.find($('.ui-dialog-titlebar'));\n",
       "    titlebar.prepend(buttongrp);\n",
       "}\n",
       "\n",
       "mpl.figure.prototype._root_extra_style = function(el){\n",
       "    var fig = this\n",
       "    el.on(\"remove\", function(){\n",
       "\tfig.close_ws(fig, {});\n",
       "    });\n",
       "}\n",
       "\n",
       "mpl.figure.prototype._canvas_extra_style = function(el){\n",
       "    // this is important to make the div 'focusable\n",
       "    el.attr('tabindex', 0)\n",
       "    // reach out to IPython and tell the keyboard manager to turn it's self\n",
       "    // off when our div gets focus\n",
       "\n",
       "    // location in version 3\n",
       "    if (IPython.notebook.keyboard_manager) {\n",
       "        IPython.notebook.keyboard_manager.register_events(el);\n",
       "    }\n",
       "    else {\n",
       "        // location in version 2\n",
       "        IPython.keyboard_manager.register_events(el);\n",
       "    }\n",
       "\n",
       "}\n",
       "\n",
       "mpl.figure.prototype._key_event_extra = function(event, name) {\n",
       "    var manager = IPython.notebook.keyboard_manager;\n",
       "    if (!manager)\n",
       "        manager = IPython.keyboard_manager;\n",
       "\n",
       "    // Check for shift+enter\n",
       "    if (event.shiftKey && event.which == 13) {\n",
       "        this.canvas_div.blur();\n",
       "        event.shiftKey = false;\n",
       "        // Send a \"J\" for go to next cell\n",
       "        event.which = 74;\n",
       "        event.keyCode = 74;\n",
       "        manager.command_mode();\n",
       "        manager.handle_keydown(event);\n",
       "    }\n",
       "}\n",
       "\n",
       "mpl.figure.prototype.handle_save = function(fig, msg) {\n",
       "    fig.ondownload(fig, null);\n",
       "}\n",
       "\n",
       "\n",
       "mpl.find_output_cell = function(html_output) {\n",
       "    // Return the cell and output element which can be found *uniquely* in the notebook.\n",
       "    // Note - this is a bit hacky, but it is done because the \"notebook_saving.Notebook\"\n",
       "    // IPython event is triggered only after the cells have been serialised, which for\n",
       "    // our purposes (turning an active figure into a static one), is too late.\n",
       "    var cells = IPython.notebook.get_cells();\n",
       "    var ncells = cells.length;\n",
       "    for (var i=0; i<ncells; i++) {\n",
       "        var cell = cells[i];\n",
       "        if (cell.cell_type === 'code'){\n",
       "            for (var j=0; j<cell.output_area.outputs.length; j++) {\n",
       "                var data = cell.output_area.outputs[j];\n",
       "                if (data.data) {\n",
       "                    // IPython >= 3 moved mimebundle to data attribute of output\n",
       "                    data = data.data;\n",
       "                }\n",
       "                if (data['text/html'] == html_output) {\n",
       "                    return [cell, data, j];\n",
       "                }\n",
       "            }\n",
       "        }\n",
       "    }\n",
       "}\n",
       "\n",
       "// Register the function which deals with the matplotlib target/channel.\n",
       "// The kernel may be null if the page has been refreshed.\n",
       "if (IPython.notebook.kernel != null) {\n",
       "    IPython.notebook.kernel.comm_manager.register_target('matplotlib', mpl.mpl_figure_comm);\n",
       "}\n"
      ],
      "text/plain": [
       "<IPython.core.display.Javascript object>"
      ]
     },
     "metadata": {},
     "output_type": "display_data"
    },
    {
     "data": {
      "text/html": [
       "<img src=\"data:image/png;base64,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\" width=\"999.9999783255842\">"
      ],
      "text/plain": [
       "<IPython.core.display.HTML object>"
      ]
     },
     "metadata": {},
     "output_type": "display_data"
    }
   ],
   "source": [
    "save_graph = True\n",
    "\n",
    "plt.plot(vna.get_frequencies(), 20*log10(abs(vna.get_sdata())))\n",
    "# plt.plot(vna.get_frequencies(), unwrap(angle(vna.get_sdata())))\n",
    "\n",
    "for scan_area in scan_areas:\n",
    "    plt.plot(scan_area, ones(2)*min(20*log10(abs(vna.get_sdata()))), marker=\"+\")\n",
    "        \n",
    "# plt.xlim(scan_areas[1]) # the x-axis limits may are set to a certain scan area to check whether it was guessed correctly\n",
    "plt.ylim(min(20*log10(abs(vna.get_sdata())))-5,max(20*log10(abs(vna.get_sdata())))+5)\n",
    "# plt.xlim(5.0e9, 8.0e9)\n",
    "plt.minorticks_on()\n",
    "plt.grid(which=\"both\")\n",
    "plt.gcf().set_size_inches(10, 3)\n",
    "\n",
    "# Here the first datafile is created. It is placed in a folder with current date which is also created below.\n",
    "\n",
    "if save_graph:\n",
    "    try:\n",
    "        os.mkdir(\"./data/\"+str(datetime.datetime.now().date()))\n",
    "    except FileExistsError:\n",
    "        pass\n",
    "    with open(\"./data/\"+str(datetime.datetime.now().date())+\"/\"+sample_name+\".pkl\", \"wb\") as f:\n",
    "        pickle.dump((vna.get_frequencies(), vna.get_sdata()), f)\n",
    "        \n",
    "    plt.savefig(\"./data/\"+str(datetime.datetime.now().date())+\"/\"+sample_name+'.pdf')    \n",
    "    plt.savefig(\"./data/\"+str(datetime.datetime.now().date())+\"/\"+sample_name+'.png')         "
   ]
  },
  {
   "cell_type": "markdown",
   "metadata": {},
   "source": [
    "# Recording a zoomed scan inside each scan area at each power"
   ]
  },
  {
   "cell_type": "code",
   "execution_count": 49,
   "metadata": {},
   "outputs": [],
   "source": [
    "power_scans = {}\n",
    "vna.set_nop(1001)\n",
    "vna.set_bandwidth(1000)\n",
    "powers = linspace(-30, 0, 31) # the powers we are using to scan through"
   ]
  },
  {
   "cell_type": "markdown",
   "metadata": {},
   "source": [
    "First we make noise calibration to make sure we will not perform redundant averaging:"
   ]
  },
  {
   "cell_type": "code",
   "execution_count": 50,
   "metadata": {},
   "outputs": [],
   "source": [
    "def theory_noise_amps_pow(power, exponent, max_noise):\n",
    "    return max_noise*exp(-power*exponent)\n",
    "# def theory_noise_amps_avg(average, max_noise):\n",
    "#     return max_noise/sqrt(average)\n",
    "def calibrate_noise(scan_area, powers):\n",
    "    noises = []\n",
    "    powers = powers[::]\n",
    "    vna.set_center(mean(scan_area)+10e6)\n",
    "    vna.set_span(1)\n",
    "    vna.set_averages(1)\n",
    "    for power in powers:\n",
    "        vna.set_power(power)\n",
    "        vna.prepare_for_stb()\n",
    "        vna.sweep_single()\n",
    "        vna.wait_for_stb()\n",
    "        noises.append(vna.get_sdata())\n",
    "        print(\"\\rPower:\", power, end=\"\")\n",
    "    noise_amps = [sqrt(mean((abs(noise) - mean(abs(noise)))**2))/mean(abs(noise)) for noise in noises] \n",
    "    opt_params = curve_fit(theory_noise_amps_pow, powers, noise_amps, p0=(0.01,0.1))[0]\n",
    "    return opt_params, noise_amps"
   ]
  },
  {
   "cell_type": "code",
   "execution_count": 51,
   "metadata": {},
   "outputs": [
    {
     "name": "stdout",
     "output_type": "stream",
     "text": [
      "Power: 0.000"
     ]
    }
   ],
   "source": [
    "opt_params, noise_amps = calibrate_noise(scan_areas[0], powers[5::5])"
   ]
  },
  {
   "cell_type": "code",
   "execution_count": 64,
   "metadata": {},
   "outputs": [
    {
     "data": {
      "text/plain": [
       "[<matplotlib.lines.Line2D at 0x23a15495ba8>]"
      ]
     },
     "execution_count": 64,
     "metadata": {},
     "output_type": "execute_result"
    }
   ],
   "source": [
    "plot(theory_noise_amps_pow(powers[5::5], *opt_params))\n",
    "plot(noise_amps, '--o')"
   ]
  },
  {
   "cell_type": "code",
   "execution_count": 32,
   "metadata": {},
   "outputs": [],
   "source": [
    "vna.sweep_hold() #если лазил руками в VNA"
   ]
  },
  {
   "cell_type": "code",
   "execution_count": 52,
   "metadata": {
    "scrolled": false
   },
   "outputs": [
    {
     "name": "stdout",
     "output_type": "stream",
     "text": [
      "Started at: 2019-05-17 17:51:53.740568\n",
      "[-30. -29. -28. -27. -26.]\n",
      "(6830200000.0, 6880200000.0) avg: 1.0 power:0.0   Done!\n",
      "(7320400000.0, 7370400000.0) avg: 1.0 power:0.0    Done!\n",
      "(7688000000.0, 7738000000.0) avg: 1.0 power:0.0    Done!\n",
      "(7786200000.0, 7836200000.0) avg: 1.0 power:0.0    Done!\n"
     ]
    }
   ],
   "source": [
    "time_start = datetime.datetime.now()\n",
    "print(\"Started at:\", time_start)\n",
    "\n",
    "print(powers[:5]) # to check the powers are nice whole numbers\n",
    "\n",
    "# Beginning the scan here             \n",
    "for scan_area in scan_areas[:]:\n",
    "    S21s = []\n",
    "    \n",
    "    opt_params, noise_amps = calibrate_noise(scan_area, powers[5::10])\n",
    "    averages_arr = around(500*theory_noise_amps_pow(powers, *opt_params)**2)\n",
    "    averages_arr[averages_arr==0]=1\n",
    "    vna.set_xlim(*scan_area)\n",
    "    \n",
    "    for power, averages in zip(powers, averages_arr):\n",
    "        vna.set_power(power)\n",
    "        vna.set_averages(averages)\n",
    "        print(\"\\r\"+str(scan_area), \"avg: \"+str(averages), \"power:\"+str(power), end=\" \", flush=True)\n",
    "        \n",
    "        vna.prepare_for_stb()\n",
    "        vna.sweep_single()\n",
    "        vna.wait_for_stb()\n",
    "        \n",
    "        vna.autoscale_all()\n",
    "        S21s.append((vna.get_frequencies(), vna.get_sdata()))\n",
    "    power_scans[scan_area] = S21s\n",
    "    print(\"Done!\")\n",
    "with open(\"./data/\"\n",
    "          +str(time_start.date())\\\n",
    "          +\"/\"+sample_name+\"_resonators_on_power.pkl\", \"wb\") as f:\n",
    "    pickle.dump((scan_areas, powers, power_scans), f)"
   ]
  },
  {
   "cell_type": "markdown",
   "metadata": {},
   "source": [
    "## Dependence from bandwidth"
   ]
  },
  {
   "cell_type": "code",
   "execution_count": 66,
   "metadata": {},
   "outputs": [],
   "source": [
    "scan_area = scan_areas[-1]\n",
    "bw_list = [1e4,1e3,1e2,1e1]\n",
    "powers = linspace(-40,0,11)"
   ]
  },
  {
   "cell_type": "code",
   "execution_count": 67,
   "metadata": {
    "scrolled": false
   },
   "outputs": [
    {
     "name": "stdout",
     "output_type": "stream",
     "text": [
      "Started at: 2019-01-16 17:23:33.577294\n",
      "[-40. -36. -32. -28. -24.]\n",
      "(8424000000.0, 8474000000.0) avg: 1.0 power:0.0    Done!\n",
      "(8424000000.0, 8474000000.0) avg: 1.0 power:0.0    Done!\n",
      "(8424000000.0, 8474000000.0) avg: 1.0 power:0.0    Done!\n",
      "(8424000000.0, 8474000000.0) avg: 1.0 power:0.0   Done!\n"
     ]
    }
   ],
   "source": [
    "time_start = datetime.datetime.now()\n",
    "print(\"Started at:\", time_start)\n",
    "\n",
    "print(powers[:5]) # to check the powers are nice whole numbers\n",
    "\n",
    "# Beginning the scan here             \n",
    "for bw in bw_list:\n",
    "    \n",
    "    S21s = []\n",
    "    vna.set_bandwidth(bw)\n",
    "    opt_params, noise_amps = calibrate_noise(scan_area, powers[2::3])\n",
    "    averages_arr = around(50*theory_noise_amps_pow(powers, *opt_params)**2)\n",
    "    averages_arr[averages_arr==0]=1\n",
    "    vna.set_xlim(*scan_area)\n",
    "    \n",
    "    for power, averages in zip(powers, averages_arr):\n",
    "        vna.set_power(power)\n",
    "        \n",
    "        vna.set_averages(averages)\n",
    "        print(\"\\r\"+str(scan_area), \"avg: \"+str(averages), \"power:\"+str(power), end=\" \", flush=True)\n",
    "        \n",
    "        vna.prepare_for_stb()\n",
    "        vna.sweep_single()\n",
    "        vna.wait_for_stb()\n",
    "        \n",
    "        vna.autoscale_all()\n",
    "        S21s.append((vna.get_frequencies(), vna.get_sdata()))\n",
    "    power_scans[bw] = S21s\n",
    "    print(\"Done!\")\n",
    "with open(\"./data/\"\n",
    "          +str(time_start.date())\\\n",
    "          +\"/\"+sample_name+\"TII_resonator_on_bw.pkl\", \"wb\") as f:\n",
    "    pickle.dump((scan_areas, powers, bw_list, power_scans), f)"
   ]
  },
  {
   "cell_type": "code",
   "execution_count": null,
   "metadata": {
    "collapsed": true
   },
   "outputs": [],
   "source": []
  },
  {
   "cell_type": "code",
   "execution_count": 57,
   "metadata": {
    "collapsed": true
   },
   "outputs": [],
   "source": [
    "#with open(\"./data/\"\\\n",
    "#          +str(time_start.date())\\\n",
    "#          +\"/\"+sample_name+\"_resonators_on_power.pkl\", \"wb\") as f:\n",
    "#    pickle.dump((scan_areas, powers, power_scans), f)"
   ]
  },
  {
   "cell_type": "code",
   "execution_count": 26,
   "metadata": {},
   "outputs": [
    {
     "data": {
      "image/png": "[encoded data removed]",
      "text/plain": [
       "<matplotlib.figure.Figure at 0x29992469c50>"
      ]
     },
     "metadata": {},
     "output_type": "display_data"
    }
   ],
   "source": [
    "scan_area = scan_areas[7]\n",
    "plt.plot(power_scans[scan_area][0][0], 20*log10(abs(power_scans[scan_area][0][1])))\n",
    "plt.plot(power_scans[scan_area][-1][0], 20*log10(abs(power_scans[scan_area][-1][1])))\n",
    "plt.gcf().set_size_inches(13,5)"
   ]
  },
  {
   "cell_type": "markdown",
   "metadata": {},
   "source": [
    "До сих пор"
   ]
  },
  {
   "cell_type": "code",
   "execution_count": null,
   "metadata": {
    "collapsed": true
   },
   "outputs": [],
   "source": []
  },
  {
   "cell_type": "code",
   "execution_count": null,
   "metadata": {
    "collapsed": true
   },
   "outputs": [],
   "source": []
  },
  {
   "cell_type": "code",
   "execution_count": null,
   "metadata": {
    "collapsed": true
   },
   "outputs": [],
   "source": [
    "vna.set_xlim(*scan_areas[1])"
   ]
  },
  {
   "cell_type": "markdown",
   "metadata": {},
   "source": [
    "##  Noise calibration"
   ]
  },
  {
   "cell_type": "code",
   "execution_count": null,
   "metadata": {
    "collapsed": true
   },
   "outputs": [],
   "source": [
    "peak_vicinity = mean(scan_areas[0])+linspace(-1, 1, 2)"
   ]
  },
  {
   "cell_type": "code",
   "execution_count": null,
   "metadata": {
    "collapsed": true
   },
   "outputs": [],
   "source": [
    "power_scans = {}\n",
    "vna.set_nop(1000)\n",
    "vna.set_bandwidth(500)\n",
    "vna.set_averages(1)"
   ]
  },
  {
   "cell_type": "code",
   "execution_count": null,
   "metadata": {
    "collapsed": true
   },
   "outputs": [],
   "source": [
    "powers = linspace(-60, -30, 31)"
   ]
  },
  {
   "cell_type": "code",
   "execution_count": null,
   "metadata": {
    "collapsed": true
   },
   "outputs": [],
   "source": [
    "noises_pow = []\n",
    "vna.set_xlim(*peak_vicinity)\n",
    "    \n",
    "for power in powers:\n",
    "    vna.set_power(power)\n",
    "    vna.prepare_for_stb()\n",
    "    vna.sweep_single()\n",
    "    vna.wait_for_stb()\n",
    "    noises_pow.append(vna.get_sdata())\n",
    "    print(\"\\rPower:\", power, end=\"\")"
   ]
  },
  {
   "cell_type": "code",
   "execution_count": null,
   "metadata": {
    "collapsed": true
   },
   "outputs": [],
   "source": [
    "noise_amps = [sqrt(sum(abs(noise - mean(noise))**2)) for noise in noises_pow] \n",
    "opt_params = curve_fit(theory_noise_amps_pow, powers, noise_amps, p0=(0.01,0.6))[0]"
   ]
  },
  {
   "cell_type": "code",
   "execution_count": null,
   "metadata": {
    "collapsed": true
   },
   "outputs": [],
   "source": [
    "opt_params"
   ]
  },
  {
   "cell_type": "code",
   "execution_count": null,
   "metadata": {
    "collapsed": true
   },
   "outputs": [],
   "source": [
    "plt.plot(powers, noise_amps)\n",
    "plt.plot(powers, theory_noise_amps_pow(powers, *opt_params))"
   ]
  },
  {
   "cell_type": "code",
   "execution_count": null,
   "metadata": {
    "collapsed": true
   },
   "outputs": [],
   "source": [
    "averages = linspace(1, 50, 50)"
   ]
  },
  {
   "cell_type": "code",
   "execution_count": null,
   "metadata": {
    "collapsed": true
   },
   "outputs": [],
   "source": [
    "noises = []\n",
    "vna.set_xlim(*peak_vicinity)\n",
    "vna.set_power(-60)\n",
    "for average in averages:\n",
    "    vna.set_averages(average)\n",
    "    vna.prepare_for_stb()\n",
    "    vna.sweep_single()\n",
    "    vna.wait_for_stb()\n",
    "    noises.append(vna.get_sdata())\n",
    "    print(\"\\rAverage:\", average, end=\"\")"
   ]
  },
  {
   "cell_type": "code",
   "execution_count": null,
   "metadata": {
    "collapsed": true
   },
   "outputs": [],
   "source": [
    "noise_amps = [sqrt(sum(abs(noise - mean(noise))**2)) for noise in noises] "
   ]
  },
  {
   "cell_type": "code",
   "execution_count": null,
   "metadata": {
    "collapsed": true
   },
   "outputs": [],
   "source": [
    "opt_params = curve_fit(theory_noise_amps_avg, averages[:25], noise_amps, p0=(1))[0]"
   ]
  },
  {
   "cell_type": "code",
   "execution_count": null,
   "metadata": {
    "collapsed": true
   },
   "outputs": [],
   "source": [
    "plt.plot(averages[:25], noise_amps)\n",
    "plt.plot(averages[:25], theory_noise_amps_avg(averages[:25], *opt_params))"
   ]
  },
  {
   "cell_type": "code",
   "execution_count": null,
   "metadata": {
    "collapsed": true
   },
   "outputs": [],
   "source": [
    "X = linspace(1, 25)\n",
    "Y_pow = exp(-X)\n",
    "Y_avg = 1/sqrt(X)"
   ]
  },
  {
   "cell_type": "code",
   "execution_count": null,
   "metadata": {
    "collapsed": true
   },
   "outputs": [],
   "source": [
    "plt.plot(X, Y_pow, X, Y_avg)"
   ]
  },
  {
   "cell_type": "code",
   "execution_count": null,
   "metadata": {
    "collapsed": true
   },
   "outputs": [],
   "source": [
    "mxg"
   ]
  },
  {
   "cell_type": "code",
   "execution_count": null,
   "metadata": {
    "collapsed": true
   },
   "outputs": [],
   "source": [
    "from importlib import reload"
   ]
  },
  {
   "cell_type": "code",
   "execution_count": null,
   "metadata": {
    "collapsed": true
   },
   "outputs": [],
   "source": [
    "reload(Measurement_AD_1)"
   ]
  },
  {
   "cell_type": "code",
   "execution_count": null,
   "metadata": {
    "collapsed": true
   },
   "outputs": [],
   "source": [
    "import Measurement_AD_1"
   ]
  },
  {
   "cell_type": "code",
   "execution_count": null,
   "metadata": {
    "collapsed": true
   },
   "outputs": [],
   "source": [
    "from Measurement_AD_1 import *\n"
   ]
  },
  {
   "cell_type": "code",
   "execution_count": null,
   "metadata": {
    "collapsed": true
   },
   "outputs": [],
   "source": [
    "meas = Measurement(['exa'])"
   ]
  },
  {
   "cell_type": "code",
   "execution_count": null,
   "metadata": {
    "collapsed": true
   },
   "outputs": [],
   "source": [
    "meas._exa"
   ]
  },
  {
   "cell_type": "code",
   "execution_count": null,
   "metadata": {
    "collapsed": true
   },
   "outputs": [],
   "source": [
    "meas._exa"
   ]
  },
  {
   "cell_type": "code",
   "execution_count": null,
   "metadata": {
    "collapsed": true
   },
   "outputs": [],
   "source": []
  }
 ],
 "metadata": {
  "anaconda-cloud": {},
  "kernelspec": {
   "display_name": "Python 3",
   "language": "python",
   "name": "python3"
  },
  "language_info": {
   "codemirror_mode": {
    "name": "ipython",
    "version": 3
   },
   "file_extension": ".py",
   "mimetype": "text/x-python",
   "name": "python",
   "nbconvert_exporter": "python",
   "pygments_lexer": "ipython3",
   "version": "3.7.1"
  },
  "toc": {
   "base_numbering": 1,
   "nav_menu": {},
   "number_sections": true,
   "sideBar": true,
   "skip_h1_title": false,
   "title_cell": "Table of Contents",
   "title_sidebar": "Contents",
   "toc_cell": false,
   "toc_position": {},
   "toc_section_display": true,
   "toc_window_display": true
  }
 },
 "nbformat": 4,
 "nbformat_minor": 1
}
