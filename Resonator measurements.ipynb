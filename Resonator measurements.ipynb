{
 "cells": [
  {
   "cell_type": "markdown",
   "metadata": {},
   "source": [
    "# Notebook for getting S$_{14}$s of resonators vs "
   ]
  },
  {
   "cell_type": "markdown",
   "metadata": {},
   "source": [
    "Loading libraries requred below:"
   ]
  },
  {
   "cell_type": "code",
   "execution_count": 1,
   "metadata": {},
   "outputs": [
    {
     "name": "stdout",
     "output_type": "stream",
     "text": [
      "Populating the interactive namespace from numpy and matplotlib\n"
     ]
    }
   ],
   "source": [
    "%pylab notebook"
   ]
  },
  {
   "cell_type": "code",
   "execution_count": 2,
   "metadata": {},
   "outputs": [],
   "source": [
    "import time\n",
    "import pickle\n",
    "import sys\n",
    "from scipy.signal import argrelextrema\n",
    "from scipy.optimize import curve_fit\n",
    "import os"
   ]
  },
  {
   "cell_type": "code",
   "execution_count": 3,
   "metadata": {},
   "outputs": [],
   "source": [
    "from drivers.Agilent_PNA_L import *\n",
    "from drivers.znb import *"
   ]
  },
  {
   "cell_type": "markdown",
   "metadata": {},
   "source": [
    "### Setting the name for the sample"
   ]
  },
  {
   "cell_type": "code",
   "execution_count": 4,
   "metadata": {},
   "outputs": [],
   "source": [
    "#sample_name = \"Xmon_2Q_holes(1808_068-3)\" #sample name will be used in the filenames\n",
    "sample_name = \"MS_Test\"\n",
    "s_param = \"S14\" # specify where the sample is connected"
   ]
  },
  {
   "cell_type": "markdown",
   "metadata": {},
   "source": [
    "### Getting the general view S$_{21}$ scan of the sample and detect resonator positions"
   ]
  },
  {
   "cell_type": "code",
   "execution_count": 5,
   "metadata": {
    "scrolled": true
   },
   "outputs": [],
   "source": [
    "# vna = Agilent_PNA_L(\"PNA-L2\") # loading the vector network analyser object from the driver\n",
    "vna = Znb(\"ZNB\")"
   ]
  },
  {
   "cell_type": "code",
   "execution_count": 6,
   "metadata": {},
   "outputs": [],
   "source": [
    "vna.select_S_param(s_param)"
   ]
  },
  {
   "cell_type": "code",
   "execution_count": 7,
   "metadata": {},
   "outputs": [],
   "source": [
    "vna.sweep_hold()"
   ]
  },
  {
   "cell_type": "code",
   "execution_count": 8,
   "metadata": {},
   "outputs": [],
   "source": [
    "vna.set_average_mode(\"REDUCE\")"
   ]
  },
  {
   "cell_type": "markdown",
   "metadata": {},
   "source": [
    "Setting the parameters of the scan:"
   ]
  },
  {
   "cell_type": "code",
   "execution_count": 9,
   "metadata": {},
   "outputs": [],
   "source": [
    "vna.set_xlim(2.5e9, 8.5e9) # setting the scan area\n",
    "vna.set_bandwidth(100)\n",
    "vna.set_nop(6001)\n",
    "vna.set_averages(1)\n",
    "vna.set_power(0)"
   ]
  },
  {
   "cell_type": "code",
   "execution_count": 10,
   "metadata": {},
   "outputs": [],
   "source": [
    "vna.prepare_for_stb()\n",
    "vna.sweep_single() # triggering the sweep\n",
    "vna.wait_for_stb()\n",
    "vna.autoscale_all()"
   ]
  },
  {
   "cell_type": "code",
   "execution_count": 11,
   "metadata": {},
   "outputs": [],
   "source": [
    "def guess_scan_areas(freqs, sdata, area_size, depth):\n",
    "    '''\n",
    "    Function to get the approximate positions of the resonator dips and return small areas around them\n",
    "    Parameters:\n",
    "    -----------\n",
    "        area_size : double\n",
    "        Sets the diams of the returned scan areas (Hz)\n",
    "        \n",
    "        depth : double\n",
    "        Count everything deeper than median transmission depth near a minimum as a resonator dip. \n",
    "        Should be chosen manually each time\n",
    "    Returns:\n",
    "        scan_areas : list\n",
    "        A list of tuples each representing an area in frequency presumably around the resonator dips\n",
    "    '''\n",
    "    freqs, amps = vna.get_frequencies(), 20*log10(abs(vna.get_sdata()))\n",
    "    window = 100\n",
    "    extrema = argrelextrema(amps, np.less, order=window)[0]\n",
    "    deep_minima = []\n",
    "    for extremum in extrema:\n",
    "        mean_transmission = median(amps[extremum-window//2:extremum+window//2])\n",
    "        if amps[extremum]<mean_transmission-depth:\n",
    "            deep_minima.append(freqs[extremum])\n",
    "    return [(m-area_size/2, m+area_size/2) for m in deep_minima]"
   ]
  },
  {
   "cell_type": "code",
   "execution_count": 12,
   "metadata": {},
   "outputs": [
    {
     "data": {
      "text/plain": [
       "([(2761000000.0, 2811000000.0),\n",
       "  (2865000000.0, 2915000000.0),\n",
       "  (3387000000.0, 3437000000.0),\n",
       "  (6096000000.0, 6146000000.0),\n",
       "  (6340000000.0, 6390000000.0),\n",
       "  (6548000000.0, 6598000000.0),\n",
       "  (6679000000.0, 6729000000.0),\n",
       "  (6953000000.0, 7003000000.0),\n",
       "  (7199000000.0, 7249000000.0),\n",
       "  (7453000000.0, 7503000000.0),\n",
       "  (7648000000.0, 7698000000.0),\n",
       "  (8172000000.0, 8222000000.0),\n",
       "  (8446000000.0, 8496000000.0)],\n",
       " 13)"
      ]
     },
     "execution_count": 12,
     "metadata": {},
     "output_type": "execute_result"
    }
   ],
   "source": [
    "scan_areas = guess_scan_areas(1e6, 0, 50e6, 7)[:]\n",
    "#scan_areas[:10], len(scan_areas)\n",
    "scan_areas, len(scan_areas)"
   ]
  },
  {
   "cell_type": "code",
   "execution_count": 15,
   "metadata": {
    "collapsed": true
   },
   "outputs": [],
   "source": [
    "# manual override for the scan areas, don't use if guessing succeeded\n",
    "# scan_areas = [(8.09e9, 8.096e9),(8357650000.0, 8362650000.0)] \n",
    "# scan_areas.append((7.7e9, 7.8e9))\n",
    "# scan_areas[7] = (7.737e9, 7.741e9)\n",
    "# scan_areas.insert(-1, (7.48e9, 7.488e9))\n",
    "# del scan_areas[-2:]\n",
    "#scan_areas, len(scan_areas)\n",
    "\n",
    "#([(7502280000.0, 7522280000.0),\n",
    "#  (7598880000.0, 7618880000.0),\n",
    "#  (7679520000.0, 7699520000.0),\n",
    "#  (7783120000.0, 7803120000.0),\n",
    "#  (7868520000.0, 7888520000.0),\n",
    "#  (7969880000.0, 7989880000.0),\n",
    "#  (8468280000.0, 8488280000.0),\n",
    "#  (8717200000.0, 8737200000.0)],\n",
    "# 8)"
   ]
  },
  {
   "cell_type": "code",
   "execution_count": 55,
   "metadata": {
    "scrolled": false
   },
   "outputs": [
    {
     "data": {
      "application/javascript": [
       "/* Put everything inside the global mpl namespace */\n",
       "window.mpl = {};\n",
       "\n",
       "\n",
       "mpl.get_websocket_type = function() {\n",
       "    if (typeof(WebSocket) !== 'undefined') {\n",
       "        return WebSocket;\n",
       "    } else if (typeof(MozWebSocket) !== 'undefined') {\n",
       "        return MozWebSocket;\n",
       "    } else {\n",
       "        alert('Your browser does not have WebSocket support.' +\n",
       "              'Please try Chrome, Safari or Firefox ≥ 6. ' +\n",
       "              'Firefox 4 and 5 are also supported but you ' +\n",
       "              'have to enable WebSockets in about:config.');\n",
       "    };\n",
       "}\n",
       "\n",
       "mpl.figure = function(figure_id, websocket, ondownload, parent_element) {\n",
       "    this.id = figure_id;\n",
       "\n",
       "    this.ws = websocket;\n",
       "\n",
       "    this.supports_binary = (this.ws.binaryType != undefined);\n",
       "\n",
       "    if (!this.supports_binary) {\n",
       "        var warnings = document.getElementById(\"mpl-warnings\");\n",
       "        if (warnings) {\n",
       "            warnings.style.display = 'block';\n",
       "            warnings.textContent = (\n",
       "                \"This browser does not support binary websocket messages. \" +\n",
       "                    \"Performance may be slow.\");\n",
       "        }\n",
       "    }\n",
       "\n",
       "    this.imageObj = new Image();\n",
       "\n",
       "    this.context = undefined;\n",
       "    this.message = undefined;\n",
       "    this.canvas = undefined;\n",
       "    this.rubberband_canvas = undefined;\n",
       "    this.rubberband_context = undefined;\n",
       "    this.format_dropdown = undefined;\n",
       "\n",
       "    this.image_mode = 'full';\n",
       "\n",
       "    this.root = $('<div/>');\n",
       "    this._root_extra_style(this.root)\n",
       "    this.root.attr('style', 'display: inline-block');\n",
       "\n",
       "    $(parent_element).append(this.root);\n",
       "\n",
       "    this._init_header(this);\n",
       "    this._init_canvas(this);\n",
       "    this._init_toolbar(this);\n",
       "\n",
       "    var fig = this;\n",
       "\n",
       "    this.waiting = false;\n",
       "\n",
       "    this.ws.onopen =  function () {\n",
       "            fig.send_message(\"supports_binary\", {value: fig.supports_binary});\n",
       "            fig.send_message(\"send_image_mode\", {});\n",
       "            if (mpl.ratio != 1) {\n",
       "                fig.send_message(\"set_dpi_ratio\", {'dpi_ratio': mpl.ratio});\n",
       "            }\n",
       "            fig.send_message(\"refresh\", {});\n",
       "        }\n",
       "\n",
       "    this.imageObj.onload = function() {\n",
       "            if (fig.image_mode == 'full') {\n",
       "                // Full images could contain transparency (where diff images\n",
       "                // almost always do), so we need to clear the canvas so that\n",
       "                // there is no ghosting.\n",
       "                fig.context.clearRect(0, 0, fig.canvas.width, fig.canvas.height);\n",
       "            }\n",
       "            fig.context.drawImage(fig.imageObj, 0, 0);\n",
       "        };\n",
       "\n",
       "    this.imageObj.onunload = function() {\n",
       "        this.ws.close();\n",
       "    }\n",
       "\n",
       "    this.ws.onmessage = this._make_on_message_function(this);\n",
       "\n",
       "    this.ondownload = ondownload;\n",
       "}\n",
       "\n",
       "mpl.figure.prototype._init_header = function() {\n",
       "    var titlebar = $(\n",
       "        '<div class=\"ui-dialog-titlebar ui-widget-header ui-corner-all ' +\n",
       "        'ui-helper-clearfix\"/>');\n",
       "    var titletext = $(\n",
       "        '<div class=\"ui-dialog-title\" style=\"width: 100%; ' +\n",
       "        'text-align: center; padding: 3px;\"/>');\n",
       "    titlebar.append(titletext)\n",
       "    this.root.append(titlebar);\n",
       "    this.header = titletext[0];\n",
       "}\n",
       "\n",
       "\n",
       "\n",
       "mpl.figure.prototype._canvas_extra_style = function(canvas_div) {\n",
       "\n",
       "}\n",
       "\n",
       "\n",
       "mpl.figure.prototype._root_extra_style = function(canvas_div) {\n",
       "\n",
       "}\n",
       "\n",
       "mpl.figure.prototype._init_canvas = function() {\n",
       "    var fig = this;\n",
       "\n",
       "    var canvas_div = $('<div/>');\n",
       "\n",
       "    canvas_div.attr('style', 'position: relative; clear: both; outline: 0');\n",
       "\n",
       "    function canvas_keyboard_event(event) {\n",
       "        return fig.key_event(event, event['data']);\n",
       "    }\n",
       "\n",
       "    canvas_div.keydown('key_press', canvas_keyboard_event);\n",
       "    canvas_div.keyup('key_release', canvas_keyboard_event);\n",
       "    this.canvas_div = canvas_div\n",
       "    this._canvas_extra_style(canvas_div)\n",
       "    this.root.append(canvas_div);\n",
       "\n",
       "    var canvas = $('<canvas/>');\n",
       "    canvas.addClass('mpl-canvas');\n",
       "    canvas.attr('style', \"left: 0; top: 0; z-index: 0; outline: 0\")\n",
       "\n",
       "    this.canvas = canvas[0];\n",
       "    this.context = canvas[0].getContext(\"2d\");\n",
       "\n",
       "    var backingStore = this.context.backingStorePixelRatio ||\n",
       "\tthis.context.webkitBackingStorePixelRatio ||\n",
       "\tthis.context.mozBackingStorePixelRatio ||\n",
       "\tthis.context.msBackingStorePixelRatio ||\n",
       "\tthis.context.oBackingStorePixelRatio ||\n",
       "\tthis.context.backingStorePixelRatio || 1;\n",
       "\n",
       "    mpl.ratio = (window.devicePixelRatio || 1) / backingStore;\n",
       "\n",
       "    var rubberband = $('<canvas/>');\n",
       "    rubberband.attr('style', \"position: absolute; left: 0; top: 0; z-index: 1;\")\n",
       "\n",
       "    var pass_mouse_events = true;\n",
       "\n",
       "    canvas_div.resizable({\n",
       "        start: function(event, ui) {\n",
       "            pass_mouse_events = false;\n",
       "        },\n",
       "        resize: function(event, ui) {\n",
       "            fig.request_resize(ui.size.width, ui.size.height);\n",
       "        },\n",
       "        stop: function(event, ui) {\n",
       "            pass_mouse_events = true;\n",
       "            fig.request_resize(ui.size.width, ui.size.height);\n",
       "        },\n",
       "    });\n",
       "\n",
       "    function mouse_event_fn(event) {\n",
       "        if (pass_mouse_events)\n",
       "            return fig.mouse_event(event, event['data']);\n",
       "    }\n",
       "\n",
       "    rubberband.mousedown('button_press', mouse_event_fn);\n",
       "    rubberband.mouseup('button_release', mouse_event_fn);\n",
       "    // Throttle sequential mouse events to 1 every 20ms.\n",
       "    rubberband.mousemove('motion_notify', mouse_event_fn);\n",
       "\n",
       "    rubberband.mouseenter('figure_enter', mouse_event_fn);\n",
       "    rubberband.mouseleave('figure_leave', mouse_event_fn);\n",
       "\n",
       "    canvas_div.on(\"wheel\", function (event) {\n",
       "        event = event.originalEvent;\n",
       "        event['data'] = 'scroll'\n",
       "        if (event.deltaY < 0) {\n",
       "            event.step = 1;\n",
       "        } else {\n",
       "            event.step = -1;\n",
       "        }\n",
       "        mouse_event_fn(event);\n",
       "    });\n",
       "\n",
       "    canvas_div.append(canvas);\n",
       "    canvas_div.append(rubberband);\n",
       "\n",
       "    this.rubberband = rubberband;\n",
       "    this.rubberband_canvas = rubberband[0];\n",
       "    this.rubberband_context = rubberband[0].getContext(\"2d\");\n",
       "    this.rubberband_context.strokeStyle = \"#000000\";\n",
       "\n",
       "    this._resize_canvas = function(width, height) {\n",
       "        // Keep the size of the canvas, canvas container, and rubber band\n",
       "        // canvas in synch.\n",
       "        canvas_div.css('width', width)\n",
       "        canvas_div.css('height', height)\n",
       "\n",
       "        canvas.attr('width', width * mpl.ratio);\n",
       "        canvas.attr('height', height * mpl.ratio);\n",
       "        canvas.attr('style', 'width: ' + width + 'px; height: ' + height + 'px;');\n",
       "\n",
       "        rubberband.attr('width', width);\n",
       "        rubberband.attr('height', height);\n",
       "    }\n",
       "\n",
       "    // Set the figure to an initial 600x600px, this will subsequently be updated\n",
       "    // upon first draw.\n",
       "    this._resize_canvas(600, 600);\n",
       "\n",
       "    // Disable right mouse context menu.\n",
       "    $(this.rubberband_canvas).bind(\"contextmenu\",function(e){\n",
       "        return false;\n",
       "    });\n",
       "\n",
       "    function set_focus () {\n",
       "        canvas.focus();\n",
       "        canvas_div.focus();\n",
       "    }\n",
       "\n",
       "    window.setTimeout(set_focus, 100);\n",
       "}\n",
       "\n",
       "mpl.figure.prototype._init_toolbar = function() {\n",
       "    var fig = this;\n",
       "\n",
       "    var nav_element = $('<div/>')\n",
       "    nav_element.attr('style', 'width: 100%');\n",
       "    this.root.append(nav_element);\n",
       "\n",
       "    // Define a callback function for later on.\n",
       "    function toolbar_event(event) {\n",
       "        return fig.toolbar_button_onclick(event['data']);\n",
       "    }\n",
       "    function toolbar_mouse_event(event) {\n",
       "        return fig.toolbar_button_onmouseover(event['data']);\n",
       "    }\n",
       "\n",
       "    for(var toolbar_ind in mpl.toolbar_items) {\n",
       "        var name = mpl.toolbar_items[toolbar_ind][0];\n",
       "        var tooltip = mpl.toolbar_items[toolbar_ind][1];\n",
       "        var image = mpl.toolbar_items[toolbar_ind][2];\n",
       "        var method_name = mpl.toolbar_items[toolbar_ind][3];\n",
       "\n",
       "        if (!name) {\n",
       "            // put a spacer in here.\n",
       "            continue;\n",
       "        }\n",
       "        var button = $('<button/>');\n",
       "        button.addClass('ui-button ui-widget ui-state-default ui-corner-all ' +\n",
       "                        'ui-button-icon-only');\n",
       "        button.attr('role', 'button');\n",
       "        button.attr('aria-disabled', 'false');\n",
       "        button.click(method_name, toolbar_event);\n",
       "        button.mouseover(tooltip, toolbar_mouse_event);\n",
       "\n",
       "        var icon_img = $('<span/>');\n",
       "        icon_img.addClass('ui-button-icon-primary ui-icon');\n",
       "        icon_img.addClass(image);\n",
       "        icon_img.addClass('ui-corner-all');\n",
       "\n",
       "        var tooltip_span = $('<span/>');\n",
       "        tooltip_span.addClass('ui-button-text');\n",
       "        tooltip_span.html(tooltip);\n",
       "\n",
       "        button.append(icon_img);\n",
       "        button.append(tooltip_span);\n",
       "\n",
       "        nav_element.append(button);\n",
       "    }\n",
       "\n",
       "    var fmt_picker_span = $('<span/>');\n",
       "\n",
       "    var fmt_picker = $('<select/>');\n",
       "    fmt_picker.addClass('mpl-toolbar-option ui-widget ui-widget-content');\n",
       "    fmt_picker_span.append(fmt_picker);\n",
       "    nav_element.append(fmt_picker_span);\n",
       "    this.format_dropdown = fmt_picker[0];\n",
       "\n",
       "    for (var ind in mpl.extensions) {\n",
       "        var fmt = mpl.extensions[ind];\n",
       "        var option = $(\n",
       "            '<option/>', {selected: fmt === mpl.default_extension}).html(fmt);\n",
       "        fmt_picker.append(option)\n",
       "    }\n",
       "\n",
       "    // Add hover states to the ui-buttons\n",
       "    $( \".ui-button\" ).hover(\n",
       "        function() { $(this).addClass(\"ui-state-hover\");},\n",
       "        function() { $(this).removeClass(\"ui-state-hover\");}\n",
       "    );\n",
       "\n",
       "    var status_bar = $('<span class=\"mpl-message\"/>');\n",
       "    nav_element.append(status_bar);\n",
       "    this.message = status_bar[0];\n",
       "}\n",
       "\n",
       "mpl.figure.prototype.request_resize = function(x_pixels, y_pixels) {\n",
       "    // Request matplotlib to resize the figure. Matplotlib will then trigger a resize in the client,\n",
       "    // which will in turn request a refresh of the image.\n",
       "    this.send_message('resize', {'width': x_pixels, 'height': y_pixels});\n",
       "}\n",
       "\n",
       "mpl.figure.prototype.send_message = function(type, properties) {\n",
       "    properties['type'] = type;\n",
       "    properties['figure_id'] = this.id;\n",
       "    this.ws.send(JSON.stringify(properties));\n",
       "}\n",
       "\n",
       "mpl.figure.prototype.send_draw_message = function() {\n",
       "    if (!this.waiting) {\n",
       "        this.waiting = true;\n",
       "        this.ws.send(JSON.stringify({type: \"draw\", figure_id: this.id}));\n",
       "    }\n",
       "}\n",
       "\n",
       "\n",
       "mpl.figure.prototype.handle_save = function(fig, msg) {\n",
       "    var format_dropdown = fig.format_dropdown;\n",
       "    var format = format_dropdown.options[format_dropdown.selectedIndex].value;\n",
       "    fig.ondownload(fig, format);\n",
       "}\n",
       "\n",
       "\n",
       "mpl.figure.prototype.handle_resize = function(fig, msg) {\n",
       "    var size = msg['size'];\n",
       "    if (size[0] != fig.canvas.width || size[1] != fig.canvas.height) {\n",
       "        fig._resize_canvas(size[0], size[1]);\n",
       "        fig.send_message(\"refresh\", {});\n",
       "    };\n",
       "}\n",
       "\n",
       "mpl.figure.prototype.handle_rubberband = function(fig, msg) {\n",
       "    var x0 = msg['x0'] / mpl.ratio;\n",
       "    var y0 = (fig.canvas.height - msg['y0']) / mpl.ratio;\n",
       "    var x1 = msg['x1'] / mpl.ratio;\n",
       "    var y1 = (fig.canvas.height - msg['y1']) / mpl.ratio;\n",
       "    x0 = Math.floor(x0) + 0.5;\n",
       "    y0 = Math.floor(y0) + 0.5;\n",
       "    x1 = Math.floor(x1) + 0.5;\n",
       "    y1 = Math.floor(y1) + 0.5;\n",
       "    var min_x = Math.min(x0, x1);\n",
       "    var min_y = Math.min(y0, y1);\n",
       "    var width = Math.abs(x1 - x0);\n",
       "    var height = Math.abs(y1 - y0);\n",
       "\n",
       "    fig.rubberband_context.clearRect(\n",
       "        0, 0, fig.canvas.width, fig.canvas.height);\n",
       "\n",
       "    fig.rubberband_context.strokeRect(min_x, min_y, width, height);\n",
       "}\n",
       "\n",
       "mpl.figure.prototype.handle_figure_label = function(fig, msg) {\n",
       "    // Updates the figure title.\n",
       "    fig.header.textContent = msg['label'];\n",
       "}\n",
       "\n",
       "mpl.figure.prototype.handle_cursor = function(fig, msg) {\n",
       "    var cursor = msg['cursor'];\n",
       "    switch(cursor)\n",
       "    {\n",
       "    case 0:\n",
       "        cursor = 'pointer';\n",
       "        break;\n",
       "    case 1:\n",
       "        cursor = 'default';\n",
       "        break;\n",
       "    case 2:\n",
       "        cursor = 'crosshair';\n",
       "        break;\n",
       "    case 3:\n",
       "        cursor = 'move';\n",
       "        break;\n",
       "    }\n",
       "    fig.rubberband_canvas.style.cursor = cursor;\n",
       "}\n",
       "\n",
       "mpl.figure.prototype.handle_message = function(fig, msg) {\n",
       "    fig.message.textContent = msg['message'];\n",
       "}\n",
       "\n",
       "mpl.figure.prototype.handle_draw = function(fig, msg) {\n",
       "    // Request the server to send over a new figure.\n",
       "    fig.send_draw_message();\n",
       "}\n",
       "\n",
       "mpl.figure.prototype.handle_image_mode = function(fig, msg) {\n",
       "    fig.image_mode = msg['mode'];\n",
       "}\n",
       "\n",
       "mpl.figure.prototype.updated_canvas_event = function() {\n",
       "    // Called whenever the canvas gets updated.\n",
       "    this.send_message(\"ack\", {});\n",
       "}\n",
       "\n",
       "// A function to construct a web socket function for onmessage handling.\n",
       "// Called in the figure constructor.\n",
       "mpl.figure.prototype._make_on_message_function = function(fig) {\n",
       "    return function socket_on_message(evt) {\n",
       "        if (evt.data instanceof Blob) {\n",
       "            /* FIXME: We get \"Resource interpreted as Image but\n",
       "             * transferred with MIME type text/plain:\" errors on\n",
       "             * Chrome.  But how to set the MIME type?  It doesn't seem\n",
       "             * to be part of the websocket stream */\n",
       "            evt.data.type = \"image/png\";\n",
       "\n",
       "            /* Free the memory for the previous frames */\n",
       "            if (fig.imageObj.src) {\n",
       "                (window.URL || window.webkitURL).revokeObjectURL(\n",
       "                    fig.imageObj.src);\n",
       "            }\n",
       "\n",
       "            fig.imageObj.src = (window.URL || window.webkitURL).createObjectURL(\n",
       "                evt.data);\n",
       "            fig.updated_canvas_event();\n",
       "            fig.waiting = false;\n",
       "            return;\n",
       "        }\n",
       "        else if (typeof evt.data === 'string' && evt.data.slice(0, 21) == \"data:image/png;base64\") {\n",
       "            fig.imageObj.src = evt.data;\n",
       "            fig.updated_canvas_event();\n",
       "            fig.waiting = false;\n",
       "            return;\n",
       "        }\n",
       "\n",
       "        var msg = JSON.parse(evt.data);\n",
       "        var msg_type = msg['type'];\n",
       "\n",
       "        // Call the  \"handle_{type}\" callback, which takes\n",
       "        // the figure and JSON message as its only arguments.\n",
       "        try {\n",
       "            var callback = fig[\"handle_\" + msg_type];\n",
       "        } catch (e) {\n",
       "            console.log(\"No handler for the '\" + msg_type + \"' message type: \", msg);\n",
       "            return;\n",
       "        }\n",
       "\n",
       "        if (callback) {\n",
       "            try {\n",
       "                // console.log(\"Handling '\" + msg_type + \"' message: \", msg);\n",
       "                callback(fig, msg);\n",
       "            } catch (e) {\n",
       "                console.log(\"Exception inside the 'handler_\" + msg_type + \"' callback:\", e, e.stack, msg);\n",
       "            }\n",
       "        }\n",
       "    };\n",
       "}\n",
       "\n",
       "// from http://stackoverflow.com/questions/1114465/getting-mouse-location-in-canvas\n",
       "mpl.findpos = function(e) {\n",
       "    //this section is from http://www.quirksmode.org/js/events_properties.html\n",
       "    var targ;\n",
       "    if (!e)\n",
       "        e = window.event;\n",
       "    if (e.target)\n",
       "        targ = e.target;\n",
       "    else if (e.srcElement)\n",
       "        targ = e.srcElement;\n",
       "    if (targ.nodeType == 3) // defeat Safari bug\n",
       "        targ = targ.parentNode;\n",
       "\n",
       "    // jQuery normalizes the pageX and pageY\n",
       "    // pageX,Y are the mouse positions relative to the document\n",
       "    // offset() returns the position of the element relative to the document\n",
       "    var x = e.pageX - $(targ).offset().left;\n",
       "    var y = e.pageY - $(targ).offset().top;\n",
       "\n",
       "    return {\"x\": x, \"y\": y};\n",
       "};\n",
       "\n",
       "/*\n",
       " * return a copy of an object with only non-object keys\n",
       " * we need this to avoid circular references\n",
       " * http://stackoverflow.com/a/24161582/3208463\n",
       " */\n",
       "function simpleKeys (original) {\n",
       "  return Object.keys(original).reduce(function (obj, key) {\n",
       "    if (typeof original[key] !== 'object')\n",
       "        obj[key] = original[key]\n",
       "    return obj;\n",
       "  }, {});\n",
       "}\n",
       "\n",
       "mpl.figure.prototype.mouse_event = function(event, name) {\n",
       "    var canvas_pos = mpl.findpos(event)\n",
       "\n",
       "    if (name === 'button_press')\n",
       "    {\n",
       "        this.canvas.focus();\n",
       "        this.canvas_div.focus();\n",
       "    }\n",
       "\n",
       "    var x = canvas_pos.x * mpl.ratio;\n",
       "    var y = canvas_pos.y * mpl.ratio;\n",
       "\n",
       "    this.send_message(name, {x: x, y: y, button: event.button,\n",
       "                             step: event.step,\n",
       "                             guiEvent: simpleKeys(event)});\n",
       "\n",
       "    /* This prevents the web browser from automatically changing to\n",
       "     * the text insertion cursor when the button is pressed.  We want\n",
       "     * to control all of the cursor setting manually through the\n",
       "     * 'cursor' event from matplotlib */\n",
       "    event.preventDefault();\n",
       "    return false;\n",
       "}\n",
       "\n",
       "mpl.figure.prototype._key_event_extra = function(event, name) {\n",
       "    // Handle any extra behaviour associated with a key event\n",
       "}\n",
       "\n",
       "mpl.figure.prototype.key_event = function(event, name) {\n",
       "\n",
       "    // Prevent repeat events\n",
       "    if (name == 'key_press')\n",
       "    {\n",
       "        if (event.which === this._key)\n",
       "            return;\n",
       "        else\n",
       "            this._key = event.which;\n",
       "    }\n",
       "    if (name == 'key_release')\n",
       "        this._key = null;\n",
       "\n",
       "    var value = '';\n",
       "    if (event.ctrlKey && event.which != 17)\n",
       "        value += \"ctrl+\";\n",
       "    if (event.altKey && event.which != 18)\n",
       "        value += \"alt+\";\n",
       "    if (event.shiftKey && event.which != 16)\n",
       "        value += \"shift+\";\n",
       "\n",
       "    value += 'k';\n",
       "    value += event.which.toString();\n",
       "\n",
       "    this._key_event_extra(event, name);\n",
       "\n",
       "    this.send_message(name, {key: value,\n",
       "                             guiEvent: simpleKeys(event)});\n",
       "    return false;\n",
       "}\n",
       "\n",
       "mpl.figure.prototype.toolbar_button_onclick = function(name) {\n",
       "    if (name == 'download') {\n",
       "        this.handle_save(this, null);\n",
       "    } else {\n",
       "        this.send_message(\"toolbar_button\", {name: name});\n",
       "    }\n",
       "};\n",
       "\n",
       "mpl.figure.prototype.toolbar_button_onmouseover = function(tooltip) {\n",
       "    this.message.textContent = tooltip;\n",
       "};\n",
       "mpl.toolbar_items = [[\"Home\", \"Reset original view\", \"fa fa-home icon-home\", \"home\"], [\"Back\", \"Back to  previous view\", \"fa fa-arrow-left icon-arrow-left\", \"back\"], [\"Forward\", \"Forward to next view\", \"fa fa-arrow-right icon-arrow-right\", \"forward\"], [\"\", \"\", \"\", \"\"], [\"Pan\", \"Pan axes with left mouse, zoom with right\", \"fa fa-arrows icon-move\", \"pan\"], [\"Zoom\", \"Zoom to rectangle\", \"fa fa-square-o icon-check-empty\", \"zoom\"], [\"\", \"\", \"\", \"\"], [\"Download\", \"Download plot\", \"fa fa-floppy-o icon-save\", \"download\"]];\n",
       "\n",
       "mpl.extensions = [\"eps\", \"jpeg\", \"pdf\", \"png\", \"ps\", \"raw\", \"svg\", \"tif\"];\n",
       "\n",
       "mpl.default_extension = \"png\";var comm_websocket_adapter = function(comm) {\n",
       "    // Create a \"websocket\"-like object which calls the given IPython comm\n",
       "    // object with the appropriate methods. Currently this is a non binary\n",
       "    // socket, so there is still some room for performance tuning.\n",
       "    var ws = {};\n",
       "\n",
       "    ws.close = function() {\n",
       "        comm.close()\n",
       "    };\n",
       "    ws.send = function(m) {\n",
       "        //console.log('sending', m);\n",
       "        comm.send(m);\n",
       "    };\n",
       "    // Register the callback with on_msg.\n",
       "    comm.on_msg(function(msg) {\n",
       "        //console.log('receiving', msg['content']['data'], msg);\n",
       "        // Pass the mpl event to the overriden (by mpl) onmessage function.\n",
       "        ws.onmessage(msg['content']['data'])\n",
       "    });\n",
       "    return ws;\n",
       "}\n",
       "\n",
       "mpl.mpl_figure_comm = function(comm, msg) {\n",
       "    // This is the function which gets called when the mpl process\n",
       "    // starts-up an IPython Comm through the \"matplotlib\" channel.\n",
       "\n",
       "    var id = msg.content.data.id;\n",
       "    // Get hold of the div created by the display call when the Comm\n",
       "    // socket was opened in Python.\n",
       "    var element = $(\"#\" + id);\n",
       "    var ws_proxy = comm_websocket_adapter(comm)\n",
       "\n",
       "    function ondownload(figure, format) {\n",
       "        window.open(figure.imageObj.src);\n",
       "    }\n",
       "\n",
       "    var fig = new mpl.figure(id, ws_proxy,\n",
       "                           ondownload,\n",
       "                           element.get(0));\n",
       "\n",
       "    // Call onopen now - mpl needs it, as it is assuming we've passed it a real\n",
       "    // web socket which is closed, not our websocket->open comm proxy.\n",
       "    ws_proxy.onopen();\n",
       "\n",
       "    fig.parent_element = element.get(0);\n",
       "    fig.cell_info = mpl.find_output_cell(\"<div id='\" + id + \"'></div>\");\n",
       "    if (!fig.cell_info) {\n",
       "        console.error(\"Failed to find cell for figure\", id, fig);\n",
       "        return;\n",
       "    }\n",
       "\n",
       "    var output_index = fig.cell_info[2]\n",
       "    var cell = fig.cell_info[0];\n",
       "\n",
       "};\n",
       "\n",
       "mpl.figure.prototype.handle_close = function(fig, msg) {\n",
       "    var width = fig.canvas.width/mpl.ratio\n",
       "    fig.root.unbind('remove')\n",
       "\n",
       "    // Update the output cell to use the data from the current canvas.\n",
       "    fig.push_to_output();\n",
       "    var dataURL = fig.canvas.toDataURL();\n",
       "    // Re-enable the keyboard manager in IPython - without this line, in FF,\n",
       "    // the notebook keyboard shortcuts fail.\n",
       "    IPython.keyboard_manager.enable()\n",
       "    $(fig.parent_element).html('<img src=\"' + dataURL + '\" width=\"' + width + '\">');\n",
       "    fig.close_ws(fig, msg);\n",
       "}\n",
       "\n",
       "mpl.figure.prototype.close_ws = function(fig, msg){\n",
       "    fig.send_message('closing', msg);\n",
       "    // fig.ws.close()\n",
       "}\n",
       "\n",
       "mpl.figure.prototype.push_to_output = function(remove_interactive) {\n",
       "    // Turn the data on the canvas into data in the output cell.\n",
       "    var width = this.canvas.width/mpl.ratio\n",
       "    var dataURL = this.canvas.toDataURL();\n",
       "    this.cell_info[1]['text/html'] = '<img src=\"' + dataURL + '\" width=\"' + width + '\">';\n",
       "}\n",
       "\n",
       "mpl.figure.prototype.updated_canvas_event = function() {\n",
       "    // Tell IPython that the notebook contents must change.\n",
       "    IPython.notebook.set_dirty(true);\n",
       "    this.send_message(\"ack\", {});\n",
       "    var fig = this;\n",
       "    // Wait a second, then push the new image to the DOM so\n",
       "    // that it is saved nicely (might be nice to debounce this).\n",
       "    setTimeout(function () { fig.push_to_output() }, 1000);\n",
       "}\n",
       "\n",
       "mpl.figure.prototype._init_toolbar = function() {\n",
       "    var fig = this;\n",
       "\n",
       "    var nav_element = $('<div/>')\n",
       "    nav_element.attr('style', 'width: 100%');\n",
       "    this.root.append(nav_element);\n",
       "\n",
       "    // Define a callback function for later on.\n",
       "    function toolbar_event(event) {\n",
       "        return fig.toolbar_button_onclick(event['data']);\n",
       "    }\n",
       "    function toolbar_mouse_event(event) {\n",
       "        return fig.toolbar_button_onmouseover(event['data']);\n",
       "    }\n",
       "\n",
       "    for(var toolbar_ind in mpl.toolbar_items){\n",
       "        var name = mpl.toolbar_items[toolbar_ind][0];\n",
       "        var tooltip = mpl.toolbar_items[toolbar_ind][1];\n",
       "        var image = mpl.toolbar_items[toolbar_ind][2];\n",
       "        var method_name = mpl.toolbar_items[toolbar_ind][3];\n",
       "\n",
       "        if (!name) { continue; };\n",
       "\n",
       "        var button = $('<button class=\"btn btn-default\" href=\"#\" title=\"' + name + '\"><i class=\"fa ' + image + ' fa-lg\"></i></button>');\n",
       "        button.click(method_name, toolbar_event);\n",
       "        button.mouseover(tooltip, toolbar_mouse_event);\n",
       "        nav_element.append(button);\n",
       "    }\n",
       "\n",
       "    // Add the status bar.\n",
       "    var status_bar = $('<span class=\"mpl-message\" style=\"text-align:right; float: right;\"/>');\n",
       "    nav_element.append(status_bar);\n",
       "    this.message = status_bar[0];\n",
       "\n",
       "    // Add the close button to the window.\n",
       "    var buttongrp = $('<div class=\"btn-group inline pull-right\"></div>');\n",
       "    var button = $('<button class=\"btn btn-mini btn-primary\" href=\"#\" title=\"Stop Interaction\"><i class=\"fa fa-power-off icon-remove icon-large\"></i></button>');\n",
       "    button.click(function (evt) { fig.handle_close(fig, {}); } );\n",
       "    button.mouseover('Stop Interaction', toolbar_mouse_event);\n",
       "    buttongrp.append(button);\n",
       "    var titlebar = this.root.find($('.ui-dialog-titlebar'));\n",
       "    titlebar.prepend(buttongrp);\n",
       "}\n",
       "\n",
       "mpl.figure.prototype._root_extra_style = function(el){\n",
       "    var fig = this\n",
       "    el.on(\"remove\", function(){\n",
       "\tfig.close_ws(fig, {});\n",
       "    });\n",
       "}\n",
       "\n",
       "mpl.figure.prototype._canvas_extra_style = function(el){\n",
       "    // this is important to make the div 'focusable\n",
       "    el.attr('tabindex', 0)\n",
       "    // reach out to IPython and tell the keyboard manager to turn it's self\n",
       "    // off when our div gets focus\n",
       "\n",
       "    // location in version 3\n",
       "    if (IPython.notebook.keyboard_manager) {\n",
       "        IPython.notebook.keyboard_manager.register_events(el);\n",
       "    }\n",
       "    else {\n",
       "        // location in version 2\n",
       "        IPython.keyboard_manager.register_events(el);\n",
       "    }\n",
       "\n",
       "}\n",
       "\n",
       "mpl.figure.prototype._key_event_extra = function(event, name) {\n",
       "    var manager = IPython.notebook.keyboard_manager;\n",
       "    if (!manager)\n",
       "        manager = IPython.keyboard_manager;\n",
       "\n",
       "    // Check for shift+enter\n",
       "    if (event.shiftKey && event.which == 13) {\n",
       "        this.canvas_div.blur();\n",
       "        // select the cell after this one\n",
       "        var index = IPython.notebook.find_cell_index(this.cell_info[0]);\n",
       "        IPython.notebook.select(index + 1);\n",
       "    }\n",
       "}\n",
       "\n",
       "mpl.figure.prototype.handle_save = function(fig, msg) {\n",
       "    fig.ondownload(fig, null);\n",
       "}\n",
       "\n",
       "\n",
       "mpl.find_output_cell = function(html_output) {\n",
       "    // Return the cell and output element which can be found *uniquely* in the notebook.\n",
       "    // Note - this is a bit hacky, but it is done because the \"notebook_saving.Notebook\"\n",
       "    // IPython event is triggered only after the cells have been serialised, which for\n",
       "    // our purposes (turning an active figure into a static one), is too late.\n",
       "    var cells = IPython.notebook.get_cells();\n",
       "    var ncells = cells.length;\n",
       "    for (var i=0; i<ncells; i++) {\n",
       "        var cell = cells[i];\n",
       "        if (cell.cell_type === 'code'){\n",
       "            for (var j=0; j<cell.output_area.outputs.length; j++) {\n",
       "                var data = cell.output_area.outputs[j];\n",
       "                if (data.data) {\n",
       "                    // IPython >= 3 moved mimebundle to data attribute of output\n",
       "                    data = data.data;\n",
       "                }\n",
       "                if (data['text/html'] == html_output) {\n",
       "                    return [cell, data, j];\n",
       "                }\n",
       "            }\n",
       "        }\n",
       "    }\n",
       "}\n",
       "\n",
       "// Register the function which deals with the matplotlib target/channel.\n",
       "// The kernel may be null if the page has been refreshed.\n",
       "if (IPython.notebook.kernel != null) {\n",
       "    IPython.notebook.kernel.comm_manager.register_target('matplotlib', mpl.mpl_figure_comm);\n",
       "}\n"
      ],
      "text/plain": [
       "<IPython.core.display.Javascript object>"
      ]
     },
     "metadata": {},
     "output_type": "display_data"
    },
    {
     "data": {
      "text/html": [
       "<img src=\"data:image/png;base64,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\" width=\"999.4166666666666\">"
      ],
      "text/plain": [
       "<IPython.core.display.HTML object>"
      ]
     },
     "metadata": {},
     "output_type": "display_data"
    }
   ],
   "source": [
    "save_graph = True\n",
    "\n",
    "plt.plot(vna.get_frequencies(), 20*log10(abs(vna.get_sdata())))\n",
    "# plt.plot(vna.get_frequencies(), unwrap(angle(vna.get_sdata())))\n",
    "\n",
    "for scan_area in scan_areas:\n",
    "    plt.plot(scan_area, ones(2)*min(20*log10(abs(vna.get_sdata()))), marker=\"+\")\n",
    "        \n",
    "# plt.xlim(scan_areas[1]) # the x-axis limits may are set to a certain scan area to check whether it was guessed correctly\n",
    "plt.ylim(min(20*log10(abs(vna.get_sdata())))-5,max(20*log10(abs(vna.get_sdata())))+5)\n",
    "# plt.xlim(5.0e9, 8.0e9)\n",
    "plt.minorticks_on()\n",
    "plt.grid(which=\"both\")\n",
    "plt.gcf().set_size_inches(10, 3)\n",
    "\n",
    "# Here the first datafile is created. It is placed in a folder with current date which is also created below.\n",
    "\n",
    "if save_graph:\n",
    "    try:\n",
    "        os.mkdir(\"./data/\"+str(datetime.datetime.now().date()))\n",
    "    except FileExistsError:\n",
    "        pass\n",
    "    with open(\"./data/\"+str(datetime.datetime.now().date())+\"/\"+sample_name+\".pkl\", \"wb\") as f:\n",
    "        pickle.dump((vna.get_frequencies(), vna.get_sdata()), f)\n",
    "        \n",
    "    plt.savefig(\"./data/\"+str(datetime.datetime.now().date())+\"/\"+sample_name+'.pdf')    \n",
    "    plt.savefig(\"./data/\"+str(datetime.datetime.now().date())+\"/\"+sample_name+'.png')         "
   ]
  },
  {
   "cell_type": "markdown",
   "metadata": {},
   "source": [
    "# Recording a zoomed scan inside each scan area at each power"
   ]
  },
  {
   "cell_type": "code",
   "execution_count": 61,
   "metadata": {},
   "outputs": [],
   "source": [
    "power_scans = {}\n",
    "vna.set_nop(1001)\n",
    "vna.set_bandwidth(1000)\n",
    "powers = linspace(-40, 10, 51) # the powers we are using to scan through"
   ]
  },
  {
   "cell_type": "markdown",
   "metadata": {},
   "source": [
    "First we make noise calibration to make sure we will not perform redundant averaging:"
   ]
  },
  {
   "cell_type": "code",
   "execution_count": 62,
   "metadata": {},
   "outputs": [],
   "source": [
    "def theory_noise_amps_pow(power, exponent, max_noise):\n",
    "    return max_noise*exp(-power*exponent)\n",
    "# def theory_noise_amps_avg(average, max_noise):\n",
    "#     return max_noise/sqrt(average)\n",
    "def calibrate_noise(scan_area, powers):\n",
    "    noises = []\n",
    "    powers = powers[::]\n",
    "    vna.set_center(mean(scan_area)+10e6)\n",
    "    vna.set_span(1)\n",
    "    vna.set_averages(1)\n",
    "    for power in powers:\n",
    "        vna.set_power(power)\n",
    "        vna.prepare_for_stb()\n",
    "        vna.sweep_single()\n",
    "        vna.wait_for_stb()\n",
    "        noises.append(vna.get_sdata())\n",
    "        print(\"\\rPower:\", power, end=\"\")\n",
    "    noise_amps = [sqrt(mean((abs(noise) - mean(abs(noise)))**2))/mean(abs(noise)) for noise in noises] \n",
    "    opt_params = curve_fit(theory_noise_amps_pow, powers, noise_amps, p0=(0.01,0.1))[0]\n",
    "    return opt_params, noise_amps"
   ]
  },
  {
   "cell_type": "code",
   "execution_count": 63,
   "metadata": {},
   "outputs": [
    {
     "name": "stdout",
     "output_type": "stream",
     "text": [
      "Power: 10.00"
     ]
    }
   ],
   "source": [
    "opt_params, noise_amps = calibrate_noise(scan_areas[0], powers[5::5])"
   ]
  },
  {
   "cell_type": "code",
   "execution_count": 64,
   "metadata": {},
   "outputs": [
    {
     "data": {
      "text/plain": [
       "[<matplotlib.lines.Line2D at 0x23a15495ba8>]"
      ]
     },
     "execution_count": 64,
     "metadata": {},
     "output_type": "execute_result"
    }
   ],
   "source": [
    "plot(theory_noise_amps_pow(powers[5::5], *opt_params))\n",
    "plot(noise_amps, '--o')"
   ]
  },
  {
   "cell_type": "code",
   "execution_count": 60,
   "metadata": {
    "collapsed": true
   },
   "outputs": [],
   "source": [
    "vna.sweep_hold() #если лазил руками в VNA"
   ]
  },
  {
   "cell_type": "code",
   "execution_count": 65,
   "metadata": {
    "scrolled": false
   },
   "outputs": [
    {
     "name": "stdout",
     "output_type": "stream",
     "text": [
      "Started at: 2019-01-16 16:12:58.410409\n",
      "[-40. -39. -38. -37. -36.]\n",
      "(2559000000.0, 2609000000.0) avg: 1.0 power:10.0   Done!\n",
      "(2671000000.0, 2721000000.0) avg: 1.0 power:10.0   Done!\n",
      "(2926000000.0, 2976000000.0) avg: 1.0 power:10.0  Done!\n",
      "(3180000000.0, 3230000000.0) avg: 1.0 power:10.0  Done!\n",
      "(3434000000.0, 3484000000.0) avg: 1.0 power:10.0  Done!\n",
      "(3687000000.0, 3737000000.0) avg: 1.0 power:10.0  Done!\n",
      "(3939000000.0, 3989000000.0) avg: 1.0 power:10.0  Done!\n",
      "(4188000000.0, 4238000000.0) avg: 1.0 power:10.0  Done!\n",
      "(4436000000.0, 4486000000.0) avg: 1.0 power:10.0  Done!\n",
      "(4683000000.0, 4733000000.0) avg: 1.0 power:10.0  Done!\n",
      "(4927000000.0, 4977000000.0) avg: 1.0 power:10.0  Done!\n",
      "(5171000000.0, 5221000000.0) avg: 1.0 power:10.0  Done!\n",
      "(5416000000.0, 5466000000.0) avg: 1.0 power:10.0  Done!\n",
      "(5662000000.0, 5712000000.0) avg: 1.0 power:10.0  Done!\n",
      "(5908000000.0, 5958000000.0) avg: 1.0 power:10.0  Done!\n",
      "(6155000000.0, 6205000000.0) avg: 1.0 power:10.0  Done!\n",
      "(6400000000.0, 6450000000.0) avg: 1.0 power:10.0  Done!\n",
      "(6657000000.0, 6707000000.0) avg: 1.0 power:10.0  Done!\n",
      "(6900000000.0, 6950000000.0) avg: 1.0 power:10.0  Done!\n",
      "(7182000000.0, 7232000000.0) avg: 1.0 power:10.0  Done!\n",
      "(7420000000.0, 7470000000.0) avg: 1.0 power:10.0  Done!\n",
      "(7952000000.0, 8002000000.0) avg: 1.0 power:10.0  Done!\n",
      "(8197000000.0, 8247000000.0) avg: 1.0 power:10.0  Done!\n",
      "(8424000000.0, 8474000000.0) avg: 1.0 power:10.0    Done!\n"
     ]
    }
   ],
   "source": [
    "time_start = datetime.datetime.now()\n",
    "print(\"Started at:\", time_start)\n",
    "\n",
    "print(powers[:5]) # to check the powers are nice whole numbers\n",
    "\n",
    "# Beginning the scan here             \n",
    "for scan_area in scan_areas[:]:\n",
    "    S21s = []\n",
    "    \n",
    "    opt_params, noise_amps = calibrate_noise(scan_area, powers[5::10])\n",
    "    averages_arr = around(500*theory_noise_amps_pow(powers, *opt_params)**2)\n",
    "    averages_arr[averages_arr==0]=1\n",
    "    vna.set_xlim(*scan_area)\n",
    "    \n",
    "    for power, averages in zip(powers, averages_arr):\n",
    "        vna.set_power(power)\n",
    "        vna.set_averages(averages)\n",
    "        print(\"\\r\"+str(scan_area), \"avg: \"+str(averages), \"power:\"+str(power), end=\" \", flush=True)\n",
    "        \n",
    "        vna.prepare_for_stb()\n",
    "        vna.sweep_single()\n",
    "        vna.wait_for_stb()\n",
    "        \n",
    "        vna.autoscale_all()\n",
    "        S21s.append((vna.get_frequencies(), vna.get_sdata()))\n",
    "    power_scans[scan_area] = S21s\n",
    "    print(\"Done!\")\n",
    "with open(\"./data/\"\n",
    "          +str(time_start.date())\\\n",
    "          +\"/\"+sample_name+\"_resonators_on_power.pkl\", \"wb\") as f:\n",
    "    pickle.dump((scan_areas, powers, power_scans), f)"
   ]
  },
  {
   "cell_type": "markdown",
   "metadata": {},
   "source": [
    "## Dependence from bandwith"
   ]
  },
  {
   "cell_type": "code",
   "execution_count": 66,
   "metadata": {},
   "outputs": [],
   "source": [
    "scan_area = scan_areas[-1]\n",
    "bw_list = [1e4,1e3,1e2,1e1]\n",
    "powers = linspace(-40,0,11)"
   ]
  },
  {
   "cell_type": "code",
   "execution_count": 67,
   "metadata": {
    "scrolled": false
   },
   "outputs": [
    {
     "name": "stdout",
     "output_type": "stream",
     "text": [
      "Started at: 2019-01-16 17:23:33.577294\n",
      "[-40. -36. -32. -28. -24.]\n",
      "(8424000000.0, 8474000000.0) avg: 1.0 power:0.0    Done!\n",
      "(8424000000.0, 8474000000.0) avg: 1.0 power:0.0    Done!\n",
      "(8424000000.0, 8474000000.0) avg: 1.0 power:0.0    Done!\n",
      "(8424000000.0, 8474000000.0) avg: 1.0 power:0.0   Done!\n"
     ]
    }
   ],
   "source": [
    "time_start = datetime.datetime.now()\n",
    "print(\"Started at:\", time_start)\n",
    "\n",
    "print(powers[:5]) # to check the powers are nice whole numbers\n",
    "\n",
    "# Beginning the scan here             \n",
    "for bw in bw_list:\n",
    "    \n",
    "    S21s = []\n",
    "    vna.set_bandwidth(bw)\n",
    "    opt_params, noise_amps = calibrate_noise(scan_area, powers[2::3])\n",
    "    averages_arr = around(50*theory_noise_amps_pow(powers, *opt_params)**2)\n",
    "    averages_arr[averages_arr==0]=1\n",
    "    vna.set_xlim(*scan_area)\n",
    "    \n",
    "    for power, averages in zip(powers, averages_arr):\n",
    "        vna.set_power(power)\n",
    "        \n",
    "        vna.set_averages(averages)\n",
    "        print(\"\\r\"+str(scan_area), \"avg: \"+str(averages), \"power:\"+str(power), end=\" \", flush=True)\n",
    "        \n",
    "        vna.prepare_for_stb()\n",
    "        vna.sweep_single()\n",
    "        vna.wait_for_stb()\n",
    "        \n",
    "        vna.autoscale_all()\n",
    "        S21s.append((vna.get_frequencies(), vna.get_sdata()))\n",
    "    power_scans[bw] = S21s\n",
    "    print(\"Done!\")\n",
    "with open(\"./data/\"\n",
    "          +str(time_start.date())\\\n",
    "          +\"/\"+sample_name+\"TII_resonator_on_bw.pkl\", \"wb\") as f:\n",
    "    pickle.dump((scan_areas, powers, bw_list, power_scans), f)"
   ]
  },
  {
   "cell_type": "code",
   "execution_count": null,
   "metadata": {
    "collapsed": true
   },
   "outputs": [],
   "source": []
  },
  {
   "cell_type": "code",
   "execution_count": 57,
   "metadata": {
    "collapsed": true
   },
   "outputs": [],
   "source": [
    "#with open(\"./data/\"\\\n",
    "#          +str(time_start.date())\\\n",
    "#          +\"/\"+sample_name+\"_resonators_on_power.pkl\", \"wb\") as f:\n",
    "#    pickle.dump((scan_areas, powers, power_scans), f)"
   ]
  },
  {
   "cell_type": "code",
   "execution_count": 26,
   "metadata": {},
   "outputs": [
    {
     "data": {
      "image/png": "[encoded data removed]",
      "text/plain": [
       "<matplotlib.figure.Figure at 0x29992469c50>"
      ]
     },
     "metadata": {},
     "output_type": "display_data"
    }
   ],
   "source": [
    "scan_area = scan_areas[7]\n",
    "plt.plot(power_scans[scan_area][0][0], 20*log10(abs(power_scans[scan_area][0][1])))\n",
    "plt.plot(power_scans[scan_area][-1][0], 20*log10(abs(power_scans[scan_area][-1][1])))\n",
    "plt.gcf().set_size_inches(13,5)"
   ]
  },
  {
   "cell_type": "markdown",
   "metadata": {},
   "source": [
    "До сих пор"
   ]
  },
  {
   "cell_type": "code",
   "execution_count": null,
   "metadata": {
    "collapsed": true
   },
   "outputs": [],
   "source": []
  },
  {
   "cell_type": "code",
   "execution_count": null,
   "metadata": {
    "collapsed": true
   },
   "outputs": [],
   "source": []
  },
  {
   "cell_type": "code",
   "execution_count": null,
   "metadata": {
    "collapsed": true
   },
   "outputs": [],
   "source": [
    "vna.set_xlim(*scan_areas[1])"
   ]
  },
  {
   "cell_type": "markdown",
   "metadata": {},
   "source": [
    "##  Noise calibration"
   ]
  },
  {
   "cell_type": "code",
   "execution_count": null,
   "metadata": {
    "collapsed": true
   },
   "outputs": [],
   "source": [
    "peak_vicinity = mean(scan_areas[0])+linspace(-1, 1, 2)"
   ]
  },
  {
   "cell_type": "code",
   "execution_count": null,
   "metadata": {
    "collapsed": true
   },
   "outputs": [],
   "source": [
    "power_scans = {}\n",
    "vna.set_nop(1000)\n",
    "vna.set_bandwidth(500)\n",
    "vna.set_averages(1)"
   ]
  },
  {
   "cell_type": "code",
   "execution_count": null,
   "metadata": {
    "collapsed": true
   },
   "outputs": [],
   "source": [
    "powers = linspace(-60, -30, 31)"
   ]
  },
  {
   "cell_type": "code",
   "execution_count": null,
   "metadata": {
    "collapsed": true
   },
   "outputs": [],
   "source": [
    "noises_pow = []\n",
    "vna.set_xlim(*peak_vicinity)\n",
    "    \n",
    "for power in powers:\n",
    "    vna.set_power(power)\n",
    "    vna.prepare_for_stb()\n",
    "    vna.sweep_single()\n",
    "    vna.wait_for_stb()\n",
    "    noises_pow.append(vna.get_sdata())\n",
    "    print(\"\\rPower:\", power, end=\"\")"
   ]
  },
  {
   "cell_type": "code",
   "execution_count": null,
   "metadata": {
    "collapsed": true
   },
   "outputs": [],
   "source": [
    "noise_amps = [sqrt(sum(abs(noise - mean(noise))**2)) for noise in noises_pow] \n",
    "opt_params = curve_fit(theory_noise_amps_pow, powers, noise_amps, p0=(0.01,0.6))[0]"
   ]
  },
  {
   "cell_type": "code",
   "execution_count": null,
   "metadata": {
    "collapsed": true
   },
   "outputs": [],
   "source": [
    "opt_params"
   ]
  },
  {
   "cell_type": "code",
   "execution_count": null,
   "metadata": {
    "collapsed": true
   },
   "outputs": [],
   "source": [
    "plt.plot(powers, noise_amps)\n",
    "plt.plot(powers, theory_noise_amps_pow(powers, *opt_params))"
   ]
  },
  {
   "cell_type": "code",
   "execution_count": null,
   "metadata": {
    "collapsed": true
   },
   "outputs": [],
   "source": [
    "averages = linspace(1, 50, 50)"
   ]
  },
  {
   "cell_type": "code",
   "execution_count": null,
   "metadata": {
    "collapsed": true
   },
   "outputs": [],
   "source": [
    "noises = []\n",
    "vna.set_xlim(*peak_vicinity)\n",
    "vna.set_power(-60)\n",
    "for average in averages:\n",
    "    vna.set_averages(average)\n",
    "    vna.prepare_for_stb()\n",
    "    vna.sweep_single()\n",
    "    vna.wait_for_stb()\n",
    "    noises.append(vna.get_sdata())\n",
    "    print(\"\\rAverage:\", average, end=\"\")"
   ]
  },
  {
   "cell_type": "code",
   "execution_count": null,
   "metadata": {
    "collapsed": true
   },
   "outputs": [],
   "source": [
    "noise_amps = [sqrt(sum(abs(noise - mean(noise))**2)) for noise in noises] "
   ]
  },
  {
   "cell_type": "code",
   "execution_count": null,
   "metadata": {
    "collapsed": true
   },
   "outputs": [],
   "source": [
    "opt_params = curve_fit(theory_noise_amps_avg, averages[:25], noise_amps, p0=(1))[0]"
   ]
  },
  {
   "cell_type": "code",
   "execution_count": null,
   "metadata": {
    "collapsed": true
   },
   "outputs": [],
   "source": [
    "plt.plot(averages[:25], noise_amps)\n",
    "plt.plot(averages[:25], theory_noise_amps_avg(averages[:25], *opt_params))"
   ]
  },
  {
   "cell_type": "code",
   "execution_count": null,
   "metadata": {
    "collapsed": true
   },
   "outputs": [],
   "source": [
    "X = linspace(1, 25)\n",
    "Y_pow = exp(-X)\n",
    "Y_avg = 1/sqrt(X)"
   ]
  },
  {
   "cell_type": "code",
   "execution_count": null,
   "metadata": {
    "collapsed": true
   },
   "outputs": [],
   "source": [
    "plt.plot(X, Y_pow, X, Y_avg)"
   ]
  },
  {
   "cell_type": "code",
   "execution_count": null,
   "metadata": {
    "collapsed": true
   },
   "outputs": [],
   "source": [
    "mxg"
   ]
  },
  {
   "cell_type": "code",
   "execution_count": null,
   "metadata": {
    "collapsed": true
   },
   "outputs": [],
   "source": [
    "from importlib import reload"
   ]
  },
  {
   "cell_type": "code",
   "execution_count": null,
   "metadata": {
    "collapsed": true
   },
   "outputs": [],
   "source": [
    "reload(Measurement_AD_1)"
   ]
  },
  {
   "cell_type": "code",
   "execution_count": null,
   "metadata": {
    "collapsed": true
   },
   "outputs": [],
   "source": [
    "import Measurement_AD_1"
   ]
  },
  {
   "cell_type": "code",
   "execution_count": null,
   "metadata": {
    "collapsed": true
   },
   "outputs": [],
   "source": [
    "from Measurement_AD_1 import *\n"
   ]
  },
  {
   "cell_type": "code",
   "execution_count": null,
   "metadata": {
    "collapsed": true
   },
   "outputs": [],
   "source": [
    "meas = Measurement(['exa'])"
   ]
  },
  {
   "cell_type": "code",
   "execution_count": null,
   "metadata": {
    "collapsed": true
   },
   "outputs": [],
   "source": [
    "meas._exa"
   ]
  },
  {
   "cell_type": "code",
   "execution_count": null,
   "metadata": {
    "collapsed": true
   },
   "outputs": [],
   "source": [
    "meas._exa"
   ]
  },
  {
   "cell_type": "code",
   "execution_count": null,
   "metadata": {
    "collapsed": true
   },
   "outputs": [],
   "source": []
  }
 ],
 "metadata": {
  "anaconda-cloud": {},
  "kernelspec": {
   "display_name": "Python 3",
   "language": "python",
   "name": "python3"
  },
  "language_info": {
   "codemirror_mode": {
    "name": "ipython",
    "version": 3
   },
   "file_extension": ".py",
   "mimetype": "text/x-python",
   "name": "python",
   "nbconvert_exporter": "python",
   "pygments_lexer": "ipython3",
   "version": "3.6.8"
  }
 },
 "nbformat": 4,
 "nbformat_minor": 1
}
