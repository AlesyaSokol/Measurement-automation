{
 "cells": [
  {
   "cell_type": "code",
   "execution_count": 1,
   "metadata": {
    "collapsed": false
   },
   "outputs": [
    {
     "name": "stdout",
     "output_type": "stream",
     "text": [
      "Populating the interactive namespace from numpy and matplotlib\n"
     ]
    }
   ],
   "source": [
    "%pylab qt5"
   ]
  },
  {
   "cell_type": "code",
   "execution_count": 2,
   "metadata": {
    "collapsed": false
   },
   "outputs": [],
   "source": [
    "from drivers.Agilent_PNA_L import *\n",
    "from drivers.Yokogawa_GS200 import *\n",
    "from drivers.KeysightAWG import *\n",
    "from drivers.E8257D import MXG"
   ]
  },
  {
   "cell_type": "code",
   "execution_count": 3,
   "metadata": {
    "collapsed": true
   },
   "outputs": [],
   "source": [
    "from lib2.MeasurementResult import MeasurementResult"
   ]
  },
  {
   "cell_type": "code",
   "execution_count": 4,
   "metadata": {
    "collapsed": false
   },
   "outputs": [],
   "source": [
    "vna = Agilent_PNA_L(\"PNA-L2\")\n",
    "current_src = Yokogawa_GS210(\"GS210_3\")\n",
    "current_src.set_current_limits(-12e-3, 12e-3)\n",
    "ro_awg = KeysightAWG(\"AWG3\")\n",
    "q_awg = KeysightAWG(\"AWG2\")\n",
    "mxg = MXG(\"MXG\")"
   ]
  },
  {
   "cell_type": "code",
   "execution_count": 13,
   "metadata": {
    "collapsed": true
   },
   "outputs": [],
   "source": [
    "from importlib import reload\n",
    "import lib2"
   ]
  },
  {
   "cell_type": "code",
   "execution_count": 6,
   "metadata": {
    "collapsed": false
   },
   "outputs": [],
   "source": [
    "# vna._visainstrument.write(\"CALC:PAR:DEL:ALL\")\n",
    "# vna._visainstrument.write(\"CALC:PAR:DEF:EXT 'CH1_S43_1',S43\")\n",
    "# vna._visainstrument.write(\"CALC:PAR:SEL 'CH1_S43_1'\")"
   ]
  },
  {
   "cell_type": "markdown",
   "metadata": {},
   "source": [
    "## Single-tone spectroscopy"
   ]
  },
  {
   "cell_type": "code",
   "execution_count": 29,
   "metadata": {
    "collapsed": false
   },
   "outputs": [],
   "source": [
    "# reload(lib2.SingleToneSpectroscopy)\n",
    "from lib2.SingleToneSpectroscopy import *"
   ]
  },
  {
   "cell_type": "markdown",
   "metadata": {},
   "source": [
    "#### No mixer "
   ]
  },
  {
   "cell_type": "code",
   "execution_count": 17,
   "metadata": {
    "collapsed": false
   },
   "outputs": [
    {
     "name": "stdout",
     "output_type": "stream",
     "text": [
      "Started at:  Fri Apr 21 16:23:38 2017\n",
      "Time left: 0 h 0 m 46.14 s, parameter value: 1.600e-03, average cycle time: 0.47 s          "
     ]
    },
    {
     "name": "stderr",
     "output_type": "stream",
     "text": [
      "C:\\ProgramData\\Anaconda3\\lib\\site-packages\\matplotlib\\backend_bases.py:2445: MatplotlibDeprecationWarning: Using default event loop until function specific to this GUI is implemented\n",
      "  warnings.warn(str, mplDeprecation)\n"
     ]
    },
    {
     "name": "stdout",
     "output_type": "stream",
     "text": [
      "Time left: 0 h 0 m 25.07 s, parameter value: 2.253e-03, average cycle time: 0.41 s          "
     ]
    }
   ],
   "source": [
    "STS = SingleToneSpectroscopy(\"VI-anticrossing\", \"Xmon Al BMSTU S444 2\", vna, \"current\", current.set_current, 0)\n",
    "vna_parameters = {\"bandwidth\":250, \"freq_limits\":(7030e6, 7070e6), \"nop\":101, \"power\":-40, \"averages\":1}\n",
    "STS.setup_control_parameters(vna_parameters, linspace(1.6e-3, 3.3e-3, 100))\n",
    "result = STS.launch()\n",
    "result.visualize()"
   ]
  },
  {
   "cell_type": "code",
   "execution_count": 10,
   "metadata": {
    "collapsed": true
   },
   "outputs": [],
   "source": [
    "result.visualize()"
   ]
  },
  {
   "cell_type": "code",
   "execution_count": 18,
   "metadata": {
    "collapsed": false
   },
   "outputs": [],
   "source": [
    "result.save()"
   ]
  },
  {
   "cell_type": "markdown",
   "metadata": {},
   "source": [
    "#### Through mixer"
   ]
  },
  {
   "cell_type": "code",
   "execution_count": 23,
   "metadata": {
    "collapsed": true
   },
   "outputs": [],
   "source": [
    "ro_awg.output_continuous_wave(0,0,0,5)"
   ]
  },
  {
   "cell_type": "code",
   "execution_count": 31,
   "metadata": {
    "collapsed": false
   },
   "outputs": [
    {
     "name": "stdout",
     "output_type": "stream",
     "text": [
      "Started at:  Sat Apr 22 00:43:20 2017\n",
      "Time left: 0 h 0 m 44.65 s, parameter value: 1.600e-03, average cycle time: 0.45 s          "
     ]
    },
    {
     "name": "stderr",
     "output_type": "stream",
     "text": [
      "C:\\ProgramData\\Anaconda3\\lib\\site-packages\\matplotlib\\backend_bases.py:2445: MatplotlibDeprecationWarning: Using default event loop until function specific to this GUI is implemented\n",
      "  warnings.warn(str, mplDeprecation)\n"
     ]
    },
    {
     "name": "stdout",
     "output_type": "stream",
     "text": [
      "Time left: 0 h 0 m 0.0 s, parameter value: 3.100e-03, average cycle time: 0.41 s            "
     ]
    }
   ],
   "source": [
    "STS = SingleToneSpectroscopy(\"VI-anticrossing-through-mixer\", \"Xmon Al BMSTU S444 2\", vna, \"current\", current.set_current, 0)\n",
    "vna_parameters = {\"bandwidth\":250, \"freq_limits\":(7040e6, 7060e6), \"nop\":101, \"power\":-30, \"averages\":1}\n",
    "currents = linspace(1.6e-3, 3.1e-3, 100)\n",
    "STS.setup_control_parameters(vna_parameters, currents)\n",
    "result = STS.launch()\n",
    "result.visualize()"
   ]
  },
  {
   "cell_type": "markdown",
   "metadata": {},
   "source": [
    "## Two-tone spectroscopy"
   ]
  },
  {
   "cell_type": "code",
   "execution_count": 70,
   "metadata": {
    "collapsed": false
   },
   "outputs": [],
   "source": [
    "reload(lib2.TwoToneSpectroscopyBase)\n",
    "reload(lib2.TwoToneSpectroscopy)\n",
    "from lib2.TwoToneSpectroscopy import *"
   ]
  },
  {
   "cell_type": "code",
   "execution_count": 5,
   "metadata": {
    "collapsed": true
   },
   "outputs": [],
   "source": [
    "q_awg.output_continuous_wave(0,0,0,5)"
   ]
  },
  {
   "cell_type": "markdown",
   "metadata": {},
   "source": [
    "##### Qubit spectrum"
   ]
  },
  {
   "cell_type": "code",
   "execution_count": 6,
   "metadata": {
    "collapsed": true
   },
   "outputs": [
    {
     "name": "stdout",
     "output_type": "stream",
     "text": [
      "Detecting a resonator within provided frequency range of the VNA (7040000000.0, 7052500000.0)                    at qubit's sweet spot (2.30 mA)\n"
     ]
    },
    {
     "ename": "KeyboardInterrupt",
     "evalue": "",
     "output_type": "error",
     "traceback": [
      "\u001b[0;31m---------------------------------------------------------------------------\u001b[0m",
      "\u001b[0;31mKeyboardInterrupt\u001b[0m                         Traceback (most recent call last)",
      "\u001b[0;32m<ipython-input-6-bdce270f2922>\u001b[0m in \u001b[0;36m<module>\u001b[0;34m()\u001b[0m\n\u001b[1;32m      5\u001b[0m \u001b[0mmw_src_frequencies\u001b[0m \u001b[1;33m=\u001b[0m \u001b[0mlinspace\u001b[0m\u001b[1;33m(\u001b[0m\u001b[1;36m7e9\u001b[0m\u001b[1;33m,\u001b[0m \u001b[1;36m8.5e9\u001b[0m\u001b[1;33m,\u001b[0m \u001b[1;36m100\u001b[0m\u001b[1;33m)\u001b[0m\u001b[1;33m\u001b[0m\u001b[0m\n\u001b[1;32m      6\u001b[0m \u001b[0mcurrents\u001b[0m \u001b[1;33m=\u001b[0m \u001b[0mlinspace\u001b[0m\u001b[1;33m(\u001b[0m\u001b[1;36m2.0e-3\u001b[0m\u001b[1;33m,\u001b[0m \u001b[1;36m2.6e-3\u001b[0m\u001b[1;33m,\u001b[0m \u001b[1;36m25\u001b[0m\u001b[1;33m)\u001b[0m\u001b[1;33m\u001b[0m\u001b[0m\n\u001b[0;32m----> 7\u001b[0;31m \u001b[0mTTS\u001b[0m\u001b[1;33m.\u001b[0m\u001b[0msetup_control_parameters\u001b[0m\u001b[1;33m(\u001b[0m\u001b[0mvna_parameters\u001b[0m\u001b[1;33m,\u001b[0m \u001b[0mmw_src_parameters\u001b[0m\u001b[1;33m,\u001b[0m \u001b[0mmw_src_frequencies\u001b[0m\u001b[1;33m,\u001b[0m \u001b[0mcurrents\u001b[0m\u001b[1;33m)\u001b[0m\u001b[1;33m\u001b[0m\u001b[0m\n\u001b[0m",
      "\u001b[0;32mC:\\Users\\PAINMASTER\\Measurement\\lib2\\TwoToneSpectroscopy.py\u001b[0m in \u001b[0;36msetup_control_parameters\u001b[0;34m(self, vna_parameters, mw_src_parameters, mw_src_frequencies, current_values, sweet_spot_current)\u001b[0m\n\u001b[1;32m     32\u001b[0m                     at qubit's sweet spot (%.2f mA)\"%(str(vna_parameters[\"freq_limits\"]),\n\u001b[1;32m     33\u001b[0m                         sweet_spot_current*1e3), flush=True)\n\u001b[0;32m---> 34\u001b[0;31m         \u001b[0mres_freq\u001b[0m\u001b[1;33m,\u001b[0m \u001b[0mres_amp\u001b[0m\u001b[1;33m,\u001b[0m \u001b[0mres_phase\u001b[0m \u001b[1;33m=\u001b[0m \u001b[0mself\u001b[0m\u001b[1;33m.\u001b[0m\u001b[0m_detect_resonator\u001b[0m\u001b[1;33m(\u001b[0m\u001b[1;33m)\u001b[0m\u001b[1;33m\u001b[0m\u001b[0m\n\u001b[0m\u001b[1;32m     35\u001b[0m         \u001b[0mprint\u001b[0m\u001b[1;33m(\u001b[0m\u001b[1;34m\"Detected frequency is %.5f GHz, at %.2f dB and %.2f degrees\"\u001b[0m\u001b[1;33m%\u001b[0m\u001b[1;33m(\u001b[0m\u001b[0mres_freq\u001b[0m\u001b[1;33m/\u001b[0m\u001b[1;36m1e9\u001b[0m\u001b[1;33m,\u001b[0m \u001b[0mres_amp\u001b[0m\u001b[1;33m,\u001b[0m \u001b[0mres_phase\u001b[0m\u001b[1;33m/\u001b[0m\u001b[0mpi\u001b[0m\u001b[1;33m*\u001b[0m\u001b[1;36m180\u001b[0m\u001b[1;33m)\u001b[0m\u001b[1;33m)\u001b[0m\u001b[1;33m\u001b[0m\u001b[0m\n\u001b[1;32m     36\u001b[0m         \u001b[0mself\u001b[0m\u001b[1;33m.\u001b[0m\u001b[0m_vna_parameters\u001b[0m\u001b[1;33m[\u001b[0m\u001b[1;34m\"freq_limits\"\u001b[0m\u001b[1;33m]\u001b[0m \u001b[1;33m=\u001b[0m \u001b[1;33m(\u001b[0m\u001b[0mres_freq\u001b[0m\u001b[1;33m,\u001b[0m \u001b[0mres_freq\u001b[0m\u001b[1;33m)\u001b[0m\u001b[1;33m\u001b[0m\u001b[0m\n",
      "\u001b[0;32mC:\\Users\\PAINMASTER\\Measurement\\lib2\\TwoToneSpectroscopyBase.py\u001b[0m in \u001b[0;36m_detect_resonator\u001b[0;34m(self)\u001b[0m\n\u001b[1;32m     43\u001b[0m         \u001b[0mself\u001b[0m\u001b[1;33m.\u001b[0m\u001b[0m_vna\u001b[0m\u001b[1;33m.\u001b[0m\u001b[0mset_bandwidth\u001b[0m\u001b[1;33m(\u001b[0m\u001b[0mself\u001b[0m\u001b[1;33m.\u001b[0m\u001b[0m_vna_parameters\u001b[0m\u001b[1;33m[\u001b[0m\u001b[1;34m\"bandwidth\"\u001b[0m\u001b[1;33m]\u001b[0m\u001b[1;33m)\u001b[0m\u001b[1;33m\u001b[0m\u001b[0m\n\u001b[1;32m     44\u001b[0m         \u001b[0mself\u001b[0m\u001b[1;33m.\u001b[0m\u001b[0m_vna\u001b[0m\u001b[1;33m.\u001b[0m\u001b[0mset_averages\u001b[0m\u001b[1;33m(\u001b[0m\u001b[0mself\u001b[0m\u001b[1;33m.\u001b[0m\u001b[0m_vna_parameters\u001b[0m\u001b[1;33m[\u001b[0m\u001b[1;34m\"averages\"\u001b[0m\u001b[1;33m]\u001b[0m\u001b[1;33m)\u001b[0m\u001b[1;33m\u001b[0m\u001b[0m\n\u001b[0;32m---> 45\u001b[0;31m         \u001b[1;32mreturn\u001b[0m \u001b[0msuper\u001b[0m\u001b[1;33m(\u001b[0m\u001b[1;33m)\u001b[0m\u001b[1;33m.\u001b[0m\u001b[0m_detect_resonator\u001b[0m\u001b[1;33m(\u001b[0m\u001b[1;33m)\u001b[0m\u001b[1;33m\u001b[0m\u001b[0m\n\u001b[0m\u001b[1;32m     46\u001b[0m \u001b[1;33m\u001b[0m\u001b[0m\n\u001b[1;32m     47\u001b[0m     \u001b[1;32mdef\u001b[0m \u001b[0m_record_data\u001b[0m\u001b[1;33m(\u001b[0m\u001b[0mself\u001b[0m\u001b[1;33m)\u001b[0m\u001b[1;33m:\u001b[0m\u001b[1;33m\u001b[0m\u001b[0m\n",
      "\u001b[0;32mC:\\Users\\PAINMASTER\\Measurement\\lib2\\SingleToneSpectroscopy.py\u001b[0m in \u001b[0;36m_detect_resonator\u001b[0;34m(self)\u001b[0m\n\u001b[1;32m    108\u001b[0m         \"\"\"\n\u001b[1;32m    109\u001b[0m         \u001b[0mvna\u001b[0m \u001b[1;33m=\u001b[0m \u001b[0mself\u001b[0m\u001b[1;33m.\u001b[0m\u001b[0m_vna\u001b[0m\u001b[1;33m\u001b[0m\u001b[0m\n\u001b[0;32m--> 110\u001b[0;31m         \u001b[0mvna\u001b[0m\u001b[1;33m.\u001b[0m\u001b[0mavg_clear\u001b[0m\u001b[1;33m(\u001b[0m\u001b[1;33m)\u001b[0m\u001b[1;33m;\u001b[0m \u001b[0mvna\u001b[0m\u001b[1;33m.\u001b[0m\u001b[0mprepare_for_stb\u001b[0m\u001b[1;33m(\u001b[0m\u001b[1;33m)\u001b[0m\u001b[1;33m;\u001b[0m \u001b[0mvna\u001b[0m\u001b[1;33m.\u001b[0m\u001b[0msweep_single\u001b[0m\u001b[1;33m(\u001b[0m\u001b[1;33m)\u001b[0m\u001b[1;33m;\u001b[0m \u001b[0mvna\u001b[0m\u001b[1;33m.\u001b[0m\u001b[0mwait_for_stb\u001b[0m\u001b[1;33m(\u001b[0m\u001b[1;33m)\u001b[0m\u001b[1;33m\u001b[0m\u001b[0m\n\u001b[0m\u001b[1;32m    111\u001b[0m         \u001b[0mport\u001b[0m \u001b[1;33m=\u001b[0m \u001b[0mcircuit\u001b[0m\u001b[1;33m.\u001b[0m\u001b[0mnotch_port\u001b[0m\u001b[1;33m(\u001b[0m\u001b[0mvna\u001b[0m\u001b[1;33m.\u001b[0m\u001b[0mget_frequencies\u001b[0m\u001b[1;33m(\u001b[0m\u001b[1;33m)\u001b[0m\u001b[1;33m,\u001b[0m \u001b[0mvna\u001b[0m\u001b[1;33m.\u001b[0m\u001b[0mget_sdata\u001b[0m\u001b[1;33m(\u001b[0m\u001b[1;33m)\u001b[0m\u001b[1;33m)\u001b[0m\u001b[1;33m\u001b[0m\u001b[0m\n\u001b[1;32m    112\u001b[0m         \u001b[0mport\u001b[0m\u001b[1;33m.\u001b[0m\u001b[0mautofit\u001b[0m\u001b[1;33m(\u001b[0m\u001b[1;33m)\u001b[0m\u001b[1;33m\u001b[0m\u001b[0m\n",
      "\u001b[0;32mC:\\Users\\PAINMASTER\\Measurement\\drivers\\Agilent_PNA_L.py\u001b[0m in \u001b[0;36mwait_for_stb\u001b[0;34m(self)\u001b[0m\n\u001b[1;32m    801\u001b[0m             \u001b[1;32melse\u001b[0m\u001b[1;33m:\u001b[0m\u001b[1;33m\u001b[0m\u001b[0m\n\u001b[1;32m    802\u001b[0m                 \u001b[0mdone\u001b[0m \u001b[1;33m=\u001b[0m \u001b[1;33m(\u001b[0m\u001b[1;36m2\u001b[0m\u001b[1;33m**\u001b[0m\u001b[1;36m5\u001b[0m \u001b[1;33m==\u001b[0m \u001b[1;33m(\u001b[0m\u001b[1;36m2\u001b[0m\u001b[1;33m**\u001b[0m\u001b[1;36m5\u001b[0m \u001b[1;33m&\u001b[0m \u001b[0mstb_value\u001b[0m\u001b[1;33m)\u001b[0m\u001b[1;33m)\u001b[0m\u001b[1;33m\u001b[0m\u001b[0m\n\u001b[0;32m--> 803\u001b[0;31m                 \u001b[0msleep\u001b[0m\u001b[1;33m(\u001b[0m\u001b[1;36m0.02\u001b[0m\u001b[1;33m)\u001b[0m\u001b[1;33m\u001b[0m\u001b[0m\n\u001b[0m\u001b[1;32m    804\u001b[0m \u001b[1;33m\u001b[0m\u001b[0m\n\u001b[1;32m    805\u001b[0m \u001b[1;33m\u001b[0m\u001b[0m\n",
      "\u001b[0;31mKeyboardInterrupt\u001b[0m: "
     ]
    }
   ],
   "source": [
    "mxg.set_output_state(\"OFF\")\n",
    "TTS = FluxTwoToneSpectroscopy(\"VI-2tone\", \"Xmon Al BMSTU S444 2\", vna, mxg, current_src.set_current)\n",
    "vna_parameters = {\"bandwidth\":20, \"freq_limits\":(7040e6, 7052.5e6), \"nop\":1, \"power\":-40, \"averages\":1}\n",
    "mw_src_parameters = {\"power\":-5, \"frequency\":None}\n",
    "mw_src_frequencies = linspace(7e9, 8.5e9, 100)\n",
    "currents = linspace(2.0e-3, 2.6e-3, 25)\n",
    "TTS.setup_control_parameters(vna_parameters, mw_src_parameters, mw_src_frequencies, currents)"
   ]
  },
  {
   "cell_type": "code",
   "execution_count": 28,
   "metadata": {
    "collapsed": false,
    "scrolled": true
   },
   "outputs": [
    {
     "name": "stdout",
     "output_type": "stream",
     "text": [
      "Started at:  Sat Apr 22 12:39:45 2017\n",
      "Time left: 5 h 42 m 48.96 s, parameter value: 2.000e-03, average cycle time: 8.24 s            "
     ]
    },
    {
     "name": "stderr",
     "output_type": "stream",
     "text": [
      "C:\\ProgramData\\Anaconda3\\lib\\site-packages\\matplotlib\\backend_bases.py:2445: MatplotlibDeprecationWarning: Using default event loop until function specific to this GUI is implemented\n",
      "  warnings.warn(str, mplDeprecation)\n"
     ]
    },
    {
     "name": "stdout",
     "output_type": "stream",
     "text": [
      "Time left: 0 h 2 m 21.03 s, parameter value: 2.350e-03, average cycle time: 0.14 s           "
     ]
    }
   ],
   "source": [
    "mxg.set_output_state(\"ON\")\n",
    "result = TTS.launch()"
   ]
  },
  {
   "cell_type": "code",
   "execution_count": 25,
   "metadata": {
    "collapsed": false
   },
   "outputs": [],
   "source": [
    "result.visualize()"
   ]
  },
  {
   "cell_type": "code",
   "execution_count": 37,
   "metadata": {
    "collapsed": false
   },
   "outputs": [],
   "source": [
    "result.save()"
   ]
  },
  {
   "cell_type": "markdown",
   "metadata": {},
   "source": [
    "##### Linewidth from excitation power"
   ]
  },
  {
   "cell_type": "code",
   "execution_count": 75,
   "metadata": {
    "collapsed": false
   },
   "outputs": [
    {
     "name": "stdout",
     "output_type": "stream",
     "text": [
      "Detecting a resonator within provided frequency range of the VNA (7040000000.0, 7052500000.0)                    at current of 2.30 mA\n",
      "Detected frequency is 7.04707 GHz, at 2.34 mU and 36.81 degrees\n"
     ]
    }
   ],
   "source": [
    "mxg.set_output_state(\"OFF\")\n",
    "PTS = PowerTwoToneSpectroscopy(\"VI-powerscan\", \"Xmon Al BMSTU S444 2\", vna, mxg, current_src.set_current, mxg.set_power)\n",
    "vna_parameters = {\"bandwidth\":1, \"freq_limits\":(7040e6, 7052.5e6), \"nop\":1, \"power\":-40, \"averages\":5}\n",
    "mw_src_parameters = {\"power\":-1, \"frequency\":-1}\n",
    "mw_src_frequencies = linspace(7.88e9, 7.92e9,200)\n",
    "mw_src_powers = linspace(-50, -10, 41)\n",
    "current = 2.3e-3\n",
    "PTS.setup_control_parameters(vna_parameters, mw_src_parameters, mw_src_frequencies, mw_src_powers, current)\n",
    "PTS._measurement_result.set_phase_units(\"deg\")"
   ]
  },
  {
   "cell_type": "code",
   "execution_count": null,
   "metadata": {
    "collapsed": false
   },
   "outputs": [
    {
     "name": "stdout",
     "output_type": "stream",
     "text": [
      "Started at:  Sun Apr 23 00:51:46 2017\n"
     ]
    },
    {
     "name": "stderr",
     "output_type": "stream",
     "text": [
      "C:\\ProgramData\\Anaconda3\\lib\\site-packages\\matplotlib\\backend_bases.py:2445: MatplotlibDeprecationWarning: Using default event loop until function specific to this GUI is implemented\n",
      "  warnings.warn(str, mplDeprecation)\n"
     ]
    },
    {
     "name": "stdout",
     "output_type": "stream",
     "text": [
      "Time left: 0 h 53 m 0.23 s, parameter value: -1.300e+01, average cycle time: 4.54 s              "
     ]
    }
   ],
   "source": [
    "mxg.set_output_state(\"ON\")\n",
    "result = PTS.launch()"
   ]
  },
  {
   "cell_type": "code",
   "execution_count": 48,
   "metadata": {
    "collapsed": true
   },
   "outputs": [],
   "source": [
    "vna.set_parameters(PTS._pre_measurement_vna_parameters)"
   ]
  },
  {
   "cell_type": "code",
   "execution_count": 46,
   "metadata": {
    "collapsed": true
   },
   "outputs": [],
   "source": [
    "result.visualize()"
   ]
  },
  {
   "cell_type": "code",
   "execution_count": 20,
   "metadata": {
    "collapsed": true
   },
   "outputs": [],
   "source": [
    "result.save()"
   ]
  },
  {
   "cell_type": "code",
   "execution_count": 63,
   "metadata": {
    "collapsed": true
   },
   "outputs": [],
   "source": [
    "mxg.set_frequency(7.898e9)\n",
    "mxg.set_power(-30)\n",
    "mxg.set_output_state(\"OFF\")\n",
    "vna.prepare_for_stb(); vna.sweep_single(); vna.wait_for_stb()\n",
    "ground_state_sdata = vna.get_sdata()\n",
    "\n",
    "mxg.set_output_state(\"ON\")\n",
    "vna.prepare_for_stb(); vna.sweep_single(); vna.wait_for_stb()\n",
    "mixed_state_sdata = vna.get_sdata()"
   ]
  },
  {
   "cell_type": "code",
   "execution_count": 64,
   "metadata": {
    "collapsed": false
   },
   "outputs": [
    {
     "data": {
      "text/plain": [
       "[<matplotlib.lines.Line2D at 0xb1d44a8>]"
      ]
     },
     "execution_count": 64,
     "metadata": {},
     "output_type": "execute_result"
    }
   ],
   "source": [
    "plot(abs(ground_state_sdata))\n",
    "plot(abs(mixed_state_sdata))\n",
    "plot((abs(ground_state_sdata)[10:]+abs(ground_state_sdata)[:-10])/2)"
   ]
  },
  {
   "cell_type": "markdown",
   "metadata": {},
   "source": [
    "##### AC Stark"
   ]
  },
  {
   "cell_type": "code",
   "execution_count": 30,
   "metadata": {
    "collapsed": false
   },
   "outputs": [
    {
     "name": "stdout",
     "output_type": "stream",
     "text": [
      "Detecting a resonator within provided frequency range of the VNA (7040000000.0, 7052500000.0)                    at current of 2.30 mA\n"
     ]
    },
    {
     "name": "stderr",
     "output_type": "stream",
     "text": [
      "WARNING:root:Conversion of None to type <class 'float'> failed\n"
     ]
    },
    {
     "name": "stdout",
     "output_type": "stream",
     "text": [
      "Detected frequency is 7.04710 GHz, at 2.43 mU and 41.46 degrees\n"
     ]
    }
   ],
   "source": [
    "mxg.set_output_state(\"OFF\")\n",
    "ASTS = AcStarkTwoToneSpectroscopy(\"VI-ac-stark\", \"Xmon Al BMSTU S444 2\", vna, mxg, current_src.set_current, mxg.set_power)\n",
    "vna_parameters = {\"bandwidth\":10, \"freq_limits\":(7040e6, 7052.5e6), \"nop\":1, \"power\":None, \"averages\":1}\n",
    "mw_src_parameters = {\"power\":-30, \"frequency\":None}\n",
    "mw_src_frequencies = linspace(7.88e9, 7.9e9, 100)\n",
    "vna_powers = linspace(-50, -20, 31)\n",
    "current = 2.3e-3\n",
    "ASTS.setup_control_parameters(vna_parameters, mw_src_parameters, mw_src_frequencies, vna_powers, current)"
   ]
  },
  {
   "cell_type": "code",
   "execution_count": 31,
   "metadata": {
    "collapsed": false
   },
   "outputs": [
    {
     "name": "stderr",
     "output_type": "stream",
     "text": [
      "WARNING:root:Conversion of None to type <class 'float'> failed\n"
     ]
    },
    {
     "name": "stdout",
     "output_type": "stream",
     "text": [
      "Started at:  Sat Apr 22 22:57:48 2017\n",
      "Time left: 25 h 28 m 58.39 s, parameter value: -5.000e+01, average cycle time: 29.62 s          "
     ]
    },
    {
     "name": "stderr",
     "output_type": "stream",
     "text": [
      "C:\\ProgramData\\Anaconda3\\lib\\site-packages\\matplotlib\\backend_bases.py:2445: MatplotlibDeprecationWarning: Using default event loop until function specific to this GUI is implemented\n",
      "  warnings.warn(str, mplDeprecation)\n"
     ]
    },
    {
     "name": "stdout",
     "output_type": "stream",
     "text": [
      "Time left: 0 h 0 m 0.0 s, parameter value: -2.000e+01, average cycle time: 0.17 s               "
     ]
    },
    {
     "data": {
      "text/plain": [
       "<lib2.TwoToneSpectroscopyBase.TwoToneSpectroscopyResult at 0xb93b7b8>"
      ]
     },
     "execution_count": 31,
     "metadata": {},
     "output_type": "execute_result"
    }
   ],
   "source": [
    "mxg.set_output_state(\"ON\")\n",
    "result = ASTS.launch()"
   ]
  },
  {
   "cell_type": "code",
   "execution_count": 37,
   "metadata": {
    "collapsed": false
   },
   "outputs": [],
   "source": [
    "result.visualize()"
   ]
  },
  {
   "cell_type": "code",
   "execution_count": 34,
   "metadata": {
    "collapsed": true
   },
   "outputs": [],
   "source": [
    "result.save()"
   ]
  },
  {
   "cell_type": "markdown",
   "metadata": {},
   "source": [
    "## Loading"
   ]
  },
  {
   "cell_type": "code",
   "execution_count": 5,
   "metadata": {
    "collapsed": false
   },
   "outputs": [
    {
     "name": "stdout",
     "output_type": "stream",
     "text": [
      "0 data/Xmon Al BMSTU S444 2\\Apr 22 2017\\12-49-52 - VI-powerscan\\VI-powerscan.pkl\n",
      "1 data/Xmon Al BMSTU S444 2\\Apr 22 2017\\13-23-30 - VI-powerscan\\VI-powerscan.pkl\n",
      "2 data/Xmon Al BMSTU S444 2\\Apr 22 2017\\18-39-20 - VI-powerscan\\VI-powerscan.pkl\n",
      "More than one file found. Enter an index from listed above:\n",
      "2\n"
     ]
    }
   ],
   "source": [
    "result = MeasurementResult.load(\"Xmon Al BMSTU S444 2\", \"VI-powerscan\")"
   ]
  },
  {
   "cell_type": "code",
   "execution_count": 7,
   "metadata": {
    "collapsed": true
   },
   "outputs": [],
   "source": [
    "result.set_phase_units(\"deg\")"
   ]
  },
  {
   "cell_type": "code",
   "execution_count": 8,
   "metadata": {
    "collapsed": false
   },
   "outputs": [],
   "source": [
    "result.visualize()"
   ]
  },
  {
   "cell_type": "code",
   "execution_count": null,
   "metadata": {
    "collapsed": true
   },
   "outputs": [],
   "source": []
  }
 ],
 "metadata": {
  "kernelspec": {
   "display_name": "Python 3",
   "language": "python",
   "name": "python3"
  },
  "language_info": {
   "codemirror_mode": {
    "name": "ipython",
    "version": 3
   },
   "file_extension": ".py",
   "mimetype": "text/x-python",
   "name": "python",
   "nbconvert_exporter": "python",
   "pygments_lexer": "ipython3",
   "version": "3.6.0"
  }
 },
 "nbformat": 4,
 "nbformat_minor": 2
}
