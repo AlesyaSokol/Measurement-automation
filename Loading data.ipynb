{
 "cells": [
  {
   "cell_type": "code",
   "execution_count": 1,
   "metadata": {},
   "outputs": [
    {
     "name": "stdout",
     "output_type": "stream",
     "text": [
      "Populating the interactive namespace from numpy and matplotlib\n"
     ]
    }
   ],
   "source": [
    "%pylab qt"
   ]
  },
  {
   "cell_type": "code",
   "execution_count": 2,
   "metadata": {},
   "outputs": [],
   "source": [
    "mpl.rcParams['grid.color'] = 'k'\n",
    "mpl.rcParams['grid.linestyle'] = ':'\n",
    "mpl.rcParams['grid.linewidth'] = 0.5"
   ]
  },
  {
   "cell_type": "code",
   "execution_count": 3,
   "metadata": {},
   "outputs": [],
   "source": [
    "from lib2.MeasurementResult import *"
   ]
  },
  {
   "cell_type": "code",
   "execution_count": 11,
   "metadata": {},
   "outputs": [
    {
     "name": "stdout",
     "output_type": "stream",
     "text": [
      "0 data\\XMON-2Q-holes-(1808-068-5)\\Sep 06 2018\\22-19-35 - IV-two-tone\\IV-two-tone.pkl\n",
      "1 data\\XMON-2Q-holes-(1808-068-5)\\Sep 06 2018\\22-47-48 - IV-two-tone\\IV-two-tone.pkl\n",
      "2 data\\XMON-2Q-holes-(1808-068-5)\\Sep 07 2018\\00-28-47 - IV-two-tone\\IV-two-tone.pkl\n",
      "3 data\\XMON-2Q-holes-(1808-068-5)\\Sep 07 2018\\01-04-49 - IV-two-tone\\IV-two-tone.pkl\n",
      "4 data\\XMON-2Q-holes-(1808-068-5)\\Sep 07 2018\\01-50-40 - IV-two-tone\\IV-two-tone.pkl\n",
      "5 data\\XMON-2Q-holes-(1808-068-5)\\Sep 07 2018\\08-35-18 - IV-two-tone\\IV-two-tone.pkl\n",
      "6 data\\XMON-2Q-holes-(1808-068-5)\\Sep 07 2018\\09-01-31 - IV-two-tone\\IV-two-tone.pkl\n",
      "7 data\\XMON-2Q-holes-(1808-068-5)\\Sep 07 2018\\09-43-35 - IV-two-tone\\IV-two-tone.pkl\n",
      "8 data\\XMON-2Q-holes-(1808-068-5)\\Sep 07 2018\\10-08-08 - IV-two-tone\\IV-two-tone.pkl\n",
      "9 data\\XMON-2Q-holes-(1808-068-5)\\Sep 07 2018\\11-25-32 - IV-two-tone\\IV-two-tone.pkl\n",
      "10 data\\XMON-2Q-holes-(1808-068-5)\\Sep 07 2018\\17-00-25 - IV-two-tone\\IV-two-tone.pkl\n",
      "11 data\\XMON-2Q-holes-(1808-068-5)\\Sep 08 2018\\09-12-49 - IV-two-tone\\IV-two-tone.pkl\n",
      "12 data\\XMON-2Q-holes-(1808-068-5)\\Sep 08 2018\\11-28-06 - IV-two-tone\\IV-two-tone.pkl\n",
      "13 data\\XMON-2Q-holes-(1808-068-5)\\Sep 08 2018\\12-14-40 - IV-two-tone\\IV-two-tone.pkl\n",
      "14 data\\XMON-2Q-holes-(1808-068-5)\\Sep 08 2018\\12-42-31 - IV-two-tone\\IV-two-tone.pkl\n",
      "15 data\\XMON-2Q-holes-(1808-068-5)\\Sep 08 2018\\19-26-31 - IV-two-tone\\IV-two-tone.pkl\n",
      "More than one file found. Enter an index from listed above:\n",
      "9\n"
     ]
    }
   ],
   "source": [
    "# result = MeasurementResult.load(\"Xmon BMSTU clean 3\", \"I-ramsey\")\n",
    "# result = MeasurementResult.load(\"Mixed_fb-1809-043-5\", \"III-two-tone\")\n",
    "result = MeasurementResult.load(\"XMON-2Q-holes-(1808-068-5)\", \"IV-two-tone\")"
   ]
  },
  {
   "cell_type": "code",
   "execution_count": 12,
   "metadata": {},
   "outputs": [
    {
     "data": {
      "text/plain": [
       "(<matplotlib.figure.Figure at 0x1da79776a58>,\n",
       " array([<matplotlib.axes._subplots.AxesSubplot object at 0x000001DA7989C518>,\n",
       "        <matplotlib.axes._subplots.AxesSubplot object at 0x000001DA00E34128>],\n",
       "       dtype=object),\n",
       " (<matplotlib.axes._axes.Axes at 0x1da00ea6c18>,\n",
       "  <matplotlib.axes._axes.Axes at 0x1da00f43898>))"
      ]
     },
     "execution_count": 12,
     "metadata": {},
     "output_type": "execute_result"
    }
   ],
   "source": [
    "result.visualize()"
   ]
  },
  {
   "cell_type": "code",
   "execution_count": 26,
   "metadata": {
    "collapsed": true
   },
   "outputs": [],
   "source": [
    "result._data_points_marker_size = 4\n",
    "result._annotation_v_pos = \"bottom\"\n",
    "fig, axes, caxes = result.visualize(False);\n",
    "axes[1].set_xlabel(\"Задержка считывания [мкс]\")\n",
    "axes[0].set_ylabel(\"$\\mathfrak{Re}[S_{21}]$\")\n",
    "axes[1].set_ylabel(\"$\\mathfrak{Im}[S_{21}]$\")\n",
    "plt.gcf().set_size_inches(5,4)\n",
    "plt.tight_layout()\n",
    "# plt.xlim(0, 1)\n",
    "plt.savefig(\"C:/Users/lab128/Documents/\"+result._name+\".pdf\", bbox_inches=\"tight\")"
   ]
  },
  {
   "cell_type": "code",
   "execution_count": 10,
   "metadata": {},
   "outputs": [
    {
     "data": {
      "text/plain": [
       "dict_keys(['excitation_duration', 'data'])"
      ]
     },
     "execution_count": 10,
     "metadata": {},
     "output_type": "execute_result"
    }
   ],
   "source": [
    "data = result.get_data()\n",
    "data.keys()"
   ]
  },
  {
   "cell_type": "code",
   "execution_count": 49,
   "metadata": {
    "collapsed": true
   },
   "outputs": [],
   "source": [
    "x, y = data[\"Current [A]\"], data[\"Frequency [Hz]\"]"
   ]
  },
  {
   "cell_type": "code",
   "execution_count": 70,
   "metadata": {
    "collapsed": true
   },
   "outputs": [],
   "source": [
    "pcolormesh(x*1e6, y/1e9, abs(result.remove_background(\"avg_freq\")).T, cmap=\"RdBu_r\", rasterized=True)\n",
    "plt.xlim(-81, -45)\n",
    "plt.grid()\n",
    "plt.ylim(7.6, 8.3)\n",
    "plt.ylabel(\"Частота возбуждения [ГГц]\")\n",
    "plt.xlabel(\"Ток катушки [мкА]\")\n",
    "plt.gcf().set_size_inches(4,4)\n",
    "plt.tight_layout()"
   ]
  },
  {
   "cell_type": "code",
   "execution_count": 80,
   "metadata": {
    "collapsed": true
   },
   "outputs": [],
   "source": [
    "x, y = data[\"ramsey_delay\"], data[\"data\"]"
   ]
  },
  {
   "cell_type": "code",
   "execution_count": 27,
   "metadata": {
    "collapsed": true
   },
   "outputs": [],
   "source": [
    "with open(\"C:/Users/lab128/Measurement-automation/data/2018-09-14/Xmon chain 5-1808-066-3.pkl\", \"rb\") as f:\n",
    "    data = pickle.load(f)"
   ]
  },
  {
   "cell_type": "code",
   "execution_count": 39,
   "metadata": {},
   "outputs": [
    {
     "data": {
      "text/plain": [
       "[<matplotlib.lines.Line2D at 0x29c328a9748>]"
      ]
     },
     "execution_count": 39,
     "metadata": {},
     "output_type": "execute_result"
    }
   ],
   "source": [
    "plot(data[0], 20*log10(abs(data[1])))"
   ]
  },
  {
   "cell_type": "code",
   "execution_count": 38,
   "metadata": {
    "collapsed": true
   },
   "outputs": [],
   "source": [
    "with open(\"C:/Users/lab128/Measurement-automation/data/2018-09-14/Xmon chain 10Q-1808-066-4.pkl\", \"rb\") as f:\n",
    "    data = pickle.load(f)"
   ]
  },
  {
   "cell_type": "code",
   "execution_count": null,
   "metadata": {
    "collapsed": true
   },
   "outputs": [],
   "source": []
  }
 ],
 "metadata": {
  "kernelspec": {
   "display_name": "Python 3",
   "language": "python",
   "name": "python3"
  },
  "language_info": {
   "codemirror_mode": {
    "name": "ipython",
    "version": 3
   },
   "file_extension": ".py",
   "mimetype": "text/x-python",
   "name": "python",
   "nbconvert_exporter": "python",
   "pygments_lexer": "ipython3",
   "version": "3.6.4"
  }
 },
 "nbformat": 4,
 "nbformat_minor": 2
}
