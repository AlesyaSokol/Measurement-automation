{
 "cells": [
  {
   "cell_type": "code",
   "execution_count": 1,
   "metadata": {},
   "outputs": [
    {
     "name": "stdout",
     "output_type": "stream",
     "text": [
      "Populating the interactive namespace from numpy and matplotlib\n"
     ]
    }
   ],
   "source": [
    "%pylab qt5"
   ]
  },
  {
   "cell_type": "code",
   "execution_count": 2,
   "metadata": {},
   "outputs": [],
   "source": [
    "mpl.rcParams['grid.color'] = 'k'\n",
    "mpl.rcParams['grid.linestyle'] = ':'\n",
    "mpl.rcParams['grid.linewidth'] = 0.5"
   ]
  },
  {
   "cell_type": "code",
   "execution_count": 3,
   "metadata": {},
   "outputs": [],
   "source": [
    "from lib2.MeasurementResult import *"
   ]
  },
  {
   "cell_type": "code",
   "execution_count": 9,
   "metadata": {},
   "outputs": [],
   "source": [
    "# result = MeasurementResult.load(\"Xmon BMSTU clean 3\", \"I-ramsey\")\n",
    "# result = MeasurementResult.load(\"Mixed_fb-1809-043-5\", \"III-two-tone\")\n",
    "results = MeasurementResult.load(\"Xmon-1811-067-2\", \"VI-ramsey\", return_all=True)\n",
    "plt.close(\"all\")"
   ]
  },
  {
   "cell_type": "code",
   "execution_count": 12,
   "metadata": {},
   "outputs": [
    {
     "data": {
      "text/plain": [
       "<lib2.DispersiveRamsey.DispersiveRamseyResult at 0x2df1fc07710>"
      ]
     },
     "execution_count": 12,
     "metadata": {},
     "output_type": "execute_result"
    }
   ],
   "source": [
    "results[0]"
   ]
  },
  {
   "cell_type": "code",
   "execution_count": 13,
   "metadata": {},
   "outputs": [
    {
     "data": {
      "text/plain": [
       "<lib2.VNATimeResolvedDispersiveMeasurement.VNATimeResolvedDispersiveMeasurementContext at 0x2df20460c18>"
      ]
     },
     "execution_count": 13,
     "metadata": {},
     "output_type": "execute_result"
    }
   ],
   "source": [
    "_.get_context()"
   ]
  },
  {
   "cell_type": "code",
   "execution_count": 14,
   "metadata": {},
   "outputs": [
    {
     "data": {
      "text/plain": [
       "{'vna': [{'bandwidth': 10,\n",
       "   'freq_limits': (6969776953.277828, 6969776953.277828),\n",
       "   'nop': 50,\n",
       "   'averages': 1,\n",
       "   'res_find_nop': 401,\n",
       "   'power': 0,\n",
       "   'trigger_type': 'single'}],\n",
       " 'ro_awg': [{'calibration': <lib.iq_mixer_calibration.IQCalibrationData at 0x2df204c9240>}],\n",
       " 'q_awg': [{'calibration': <lib.iq_mixer_calibration.IQCalibrationData at 0x2df1dddaef0>}],\n",
       " 'q_lo': [{'power': 14, 'frequency': 5421065892.193783}]}"
      ]
     },
     "execution_count": 14,
     "metadata": {},
     "output_type": "execute_result"
    }
   ],
   "source": [
    "_.get_equipment()"
   ]
  },
  {
   "cell_type": "code",
   "execution_count": 11,
   "metadata": {},
   "outputs": [
    {
     "data": {
      "text/plain": [
       "<matplotlib.image.AxesImage at 0x2afa99bbb00>"
      ]
     },
     "execution_count": 11,
     "metadata": {},
     "output_type": "execute_result"
    }
   ],
   "source": [
    "result._amps_map"
   ]
  },
  {
   "cell_type": "code",
   "execution_count": 8,
   "metadata": {},
   "outputs": [],
   "source": [
    "result._dynamic = False"
   ]
  },
  {
   "cell_type": "code",
   "execution_count": 9,
   "metadata": {},
   "outputs": [
    {
     "data": {
      "text/plain": [
       "(<Figure size 1500x700 with 2 Axes>,\n",
       " array([<matplotlib.axes._subplots.AxesSubplot object at 0x00000239AB020208>,\n",
       "        <matplotlib.axes._subplots.AxesSubplot object at 0x00000239AAC90128>],\n",
       "       dtype=object),\n",
       " (None, None))"
      ]
     },
     "execution_count": 9,
     "metadata": {},
     "output_type": "execute_result"
    }
   ],
   "source": [
    "result.visualize()"
   ]
  },
  {
   "cell_type": "code",
   "execution_count": 26,
   "metadata": {
    "collapsed": true
   },
   "outputs": [],
   "source": [
    "result._data_points_marker_size = 4\n",
    "result._annotation_v_pos = \"bottom\"\n",
    "fig, axes, caxes = result.visualize(False);\n",
    "axes[1].set_xlabel(\"Задержка считывания [мкс]\")\n",
    "axes[0].set_ylabel(\"$\\mathfrak{Re}[S_{21}]$\")\n",
    "axes[1].set_ylabel(\"$\\mathfrak{Im}[S_{21}]$\")\n",
    "plt.gcf().set_size_inches(5,4)\n",
    "plt.tight_layout()\n",
    "# plt.xlim(0, 1)\n",
    "plt.savefig(\"C:/Users/lab128/Documents/\"+result._name+\".pdf\", bbox_inches=\"tight\")"
   ]
  },
  {
   "cell_type": "code",
   "execution_count": 10,
   "metadata": {},
   "outputs": [
    {
     "data": {
      "text/plain": [
       "dict_keys(['excitation_duration', 'data'])"
      ]
     },
     "execution_count": 10,
     "metadata": {},
     "output_type": "execute_result"
    }
   ],
   "source": [
    "data = result.get_data()\n",
    "data.keys()"
   ]
  },
  {
   "cell_type": "code",
   "execution_count": 49,
   "metadata": {
    "collapsed": true
   },
   "outputs": [],
   "source": [
    "x, y = data[\"Current [A]\"], data[\"Frequency [Hz]\"]"
   ]
  },
  {
   "cell_type": "code",
   "execution_count": 70,
   "metadata": {
    "collapsed": true
   },
   "outputs": [],
   "source": [
    "pcolormesh(x*1e6, y/1e9, abs(result.remove_background(\"avg_freq\")).T, cmap=\"RdBu_r\", rasterized=True)\n",
    "plt.xlim(-81, -45)\n",
    "plt.grid()\n",
    "plt.ylim(7.6, 8.3)\n",
    "plt.ylabel(\"Частота возбуждения [ГГц]\")\n",
    "plt.xlabel(\"Ток катушки [мкА]\")\n",
    "plt.gcf().set_size_inches(4,4)\n",
    "plt.tight_layout()"
   ]
  },
  {
   "cell_type": "code",
   "execution_count": 80,
   "metadata": {
    "collapsed": true
   },
   "outputs": [],
   "source": [
    "x, y = data[\"ramsey_delay\"], data[\"data\"]"
   ]
  },
  {
   "cell_type": "code",
   "execution_count": 27,
   "metadata": {
    "collapsed": true
   },
   "outputs": [],
   "source": [
    "with open(\"C:/Users/lab128/Measurement-automation/data/2018-09-14/Xmon chain 5-1808-066-3.pkl\", \"rb\") as f:\n",
    "    data = pickle.load(f)"
   ]
  },
  {
   "cell_type": "code",
   "execution_count": 39,
   "metadata": {},
   "outputs": [
    {
     "data": {
      "text/plain": [
       "[<matplotlib.lines.Line2D at 0x29c328a9748>]"
      ]
     },
     "execution_count": 39,
     "metadata": {},
     "output_type": "execute_result"
    }
   ],
   "source": [
    "plot(data[0], 20*log10(abs(data[1])))"
   ]
  },
  {
   "cell_type": "code",
   "execution_count": 38,
   "metadata": {
    "collapsed": true
   },
   "outputs": [],
   "source": [
    "with open(\"C:/Users/lab128/Measurement-automation/data/2018-09-14/Xmon chain 10Q-1808-066-4.pkl\", \"rb\") as f:\n",
    "    data = pickle.load(f)"
   ]
  },
  {
   "cell_type": "code",
   "execution_count": null,
   "metadata": {
    "collapsed": true
   },
   "outputs": [],
   "source": []
  }
 ],
 "metadata": {
  "kernelspec": {
   "display_name": "Python 3",
   "language": "python",
   "name": "python3"
  },
  "language_info": {
   "codemirror_mode": {
    "name": "ipython",
    "version": 3
   },
   "file_extension": ".py",
   "mimetype": "text/x-python",
   "name": "python",
   "nbconvert_exporter": "python",
   "pygments_lexer": "ipython3",
   "version": "3.6.8"
  }
 },
 "nbformat": 4,
 "nbformat_minor": 2
}
