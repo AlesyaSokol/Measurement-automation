{
 "cells": [
  {
   "cell_type": "code",
   "execution_count": 1,
   "metadata": {},
   "outputs": [
    {
     "name": "stdout",
     "output_type": "stream",
     "text": [
      "Populating the interactive namespace from numpy and matplotlib\n"
     ]
    }
   ],
   "source": [
    "%pylab qt5\n",
    "from unittest.mock import MagicMock, Mock\n",
    "from time import sleep\n",
    "class DataGen:\n",
    "    \n",
    "    def __init__(self):\n",
    "        self._counter = 0\n",
    "        self._nop = 1\n",
    "        \n",
    "    def fun(self, x):\n",
    "        return [cos(0.05*x) + 1j*cos(0.05*x)]*self._nop\n",
    "     #   return 33\n",
    "    def get_sdata(self):\n",
    "        retval = self.fun(self._counter)\n",
    "        self._counter += 1\n",
    "        sleep(0.1)\n",
    "        return retval\n",
    "    \n",
    "    def get_frequencies(self):\n",
    "        return linspace(self._freq_limits[0], self._freq_limits[1], self._nop)\n",
    "    \n",
    "    def set_parameters(self, params):\n",
    "        self._nop = params[\"nop\"]\n",
    "        self._freq_limits = params[\"freq_limits\"]\n",
    "    \n",
    "    def set_freq_limits(self, *limits):\n",
    "        self._freq_limits = limits\n",
    "        \n",
    "    def set_nop(self, nop):\n",
    "        self._nop = nop\n",
    "        \n",
    "    def detect(self):\n",
    "        return 5.9e9, 0, 0\n",
    "\n",
    "\n",
    "    \n",
    "dg = DataGen()\n",
    "vna = Mock()\n",
    "cur_src = Mock()\n",
    "q_lo = Mock()\n",
    "q_awg = Mock()\n",
    "ro_awg = MagicMock()\n",
    "q_lo_2 = Mock()\n",
    "q_awg_2 = Mock()\n",
    "ro_awg_2 = MagicMock()\n",
    "mw_src = Mock()\n",
    "RD = Mock()\n",
    "RD.detect = dg.detect\n",
    "vna.get_sdata = dg.get_sdata\n",
    "vna.set_parameters = dg.set_parameters\n",
    "vna.get_frequencies = dg.get_frequencies\n",
    "vna.set_freq_limits = dg.set_freq_limits\n",
    "vna.set_nop = dg.set_nop\n"
   ]
  },
  {
   "cell_type": "markdown",
   "metadata": {},
   "source": [
    "# Echo"
   ]
  },
  {
   "cell_type": "code",
   "execution_count": 2,
   "metadata": {},
   "outputs": [],
   "source": [
    "from lib2.DispersiveHahnEcho import *\n",
    "DHE = DispersiveHahnEcho(\"hahn-echo\", 'lol',\n",
    "                         vna=[vna], q_lo=[q_lo], q_awg=[q_awg], ro_awg=[ro_awg])\n",
    "vna_parameters= {\"bandwidth\":10, \"freq_limits\":[6e9]*2, \"nop\":10, \"averages\":1}\n",
    "q_freq = 5e9\n",
    "echo_delays = linspace(0, 20000, 201)\n",
    "sequence_parameters = {\"awg_trigger_reaction_delay\":0, \"readout_duration\":3000, \n",
    "                            \"repetition_period\":30000, \"half_pi_pulse_duration\":100/2}\n",
    "ro_awg_params =  {\"calibration\":MagicMock()}\n",
    "q_awg_params = {\"calibration\":MagicMock()}\n",
    "q_lo_params = {'power':-10, 'frequency':q_freq + 100e6}\n",
    "dev_params = {'vna':[vna_parameters], \n",
    "              'ro_awg':[ro_awg_params], \n",
    "              'q_awg':[q_awg_params],\n",
    "              'q_lo':[q_lo_params]}\n",
    "DHE.set_fixed_parameters(sequence_parameters, **dev_params)\n",
    "DHE.set_swept_parameters(echo_delays)\n",
    "# DHE.set_ult_calib(True)\n",
    "# DHE.set_basis(basis)"
   ]
  },
  {
   "cell_type": "code",
   "execution_count": 3,
   "metadata": {},
   "outputs": [
    {
     "name": "stdout",
     "output_type": "stream",
     "text": [
      "Started at:  2018-11-21 17:08:05.858142\n",
      "Time left: 0 h 0 m 14.42 s, [echo_delay: 6.90e+03], average cycle time: 0.11 s       "
     ]
    },
    {
     "name": "stderr",
     "output_type": "stream",
     "text": [
      "C:\\Users\\pogor\\YandexDisk\\Ustinov internship\\Measurement-automation\\lib2\\VNATimeResolvedDispersiveMeasurement1D.py:81: RuntimeWarning: invalid value encountered in sqrt\n",
      "  return result, sqrt(diag(sigma ** 2 * inv(result.jac.T.dot(result.jac))))\n"
     ]
    },
    {
     "name": "stdout",
     "output_type": "stream",
     "text": [
      "Time left: 0 h 0 m 0.0 s, [echo_delay: 2.00e+04], average cycle time: 0.11 s       \n",
      "Elapsed time: 0 h 0 m 22.25 s\n"
     ]
    }
   ],
   "source": [
    "dhe_result = DHE.launch()"
   ]
  },
  {
   "cell_type": "markdown",
   "metadata": {},
   "source": [
    "# Decay"
   ]
  },
  {
   "cell_type": "code",
   "execution_count": 3,
   "metadata": {},
   "outputs": [],
   "source": [
    "from lib2.DispersiveDecay import *\n",
    "DD = DispersiveDecay(\"decay\", 'lol',\n",
    "                     vna=[vna], q_lo=[q_lo], q_awg=[q_awg], ro_awg=[ro_awg])\n",
    "vna_parameters= {\"bandwidth\":10, \"freq_limits\":[6e9]*2, \"nop\":10, \"averages\":1}\n",
    "q_freq = 5e9\n",
    "readout_delays = linspace(0, 20000, 51)\n",
    "decay_sequence_parameters = {\"awg_trigger_reaction_delay\":0, \"readout_duration\":3000, \n",
    "                            \"repetition_period\":30000, \"pi_pulse_duration\":100}\n",
    "ro_awg_params =  {\"calibration\":MagicMock()}\n",
    "q_awg_params = {\"calibration\":MagicMock()}\n",
    "q_lo_params = {'power':-10, 'frequency':q_freq + 100e6}\n",
    "dev_params = {'vna':[vna_parameters], \n",
    "              'ro_awg':[ro_awg_params], \n",
    "              'q_awg':[q_awg_params],\n",
    "              'q_lo':[q_lo_params]}\n",
    "DD.set_fixed_parameters(decay_sequence_parameters, **dev_params)\n",
    "DD.set_swept_parameters(readout_delays)\n",
    "#DD.set_basis(basis)"
   ]
  },
  {
   "cell_type": "code",
   "execution_count": 4,
   "metadata": {},
   "outputs": [
    {
     "name": "stdout",
     "output_type": "stream",
     "text": [
      "Started at:  2018-11-20 18:03:04.460196\n",
      "Time left: 0 h 0 m 2.27 s, [readout_delay: 1.56e+04], average cycle time: 0.21 s       "
     ]
    },
    {
     "name": "stderr",
     "output_type": "stream",
     "text": [
      "C:\\Users\\pogor\\YandexDisk\\Ustinov internship\\Measurement-automation\\lib2\\VNATimeResolvedDispersiveMeasurement1D.py:81: RuntimeWarning: invalid value encountered in sqrt\n",
      "  return result, sqrt(diag(sigma**2*inv(result.jac.T.dot(result.jac))))\n"
     ]
    },
    {
     "name": "stdout",
     "output_type": "stream",
     "text": [
      "Time left: 0 h 0 m 0.0 s, [readout_delay: 2.00e+04], average cycle time: 0.21 s       \n",
      "Elapsed time: 0 h 0 m 10.51 s\n"
     ]
    }
   ],
   "source": [
    "dd_result = DD.launch()"
   ]
  },
  {
   "cell_type": "code",
   "execution_count": 878,
   "metadata": {},
   "outputs": [],
   "source": [
    "dd_result.visualize();"
   ]
  },
  {
   "cell_type": "markdown",
   "metadata": {},
   "source": [
    "# Ramsey"
   ]
  },
  {
   "cell_type": "code",
   "execution_count": 2,
   "metadata": {},
   "outputs": [],
   "source": [
    "from lib2.DispersiveRamsey import *\n",
    "DR = DispersiveRamsey(\"ramsey\", \"lol\", \n",
    "                      vna=[vna], q_lo=[q_lo], q_awg=[q_awg], ro_awg=[ro_awg])\n",
    "vna_parameters= {\"bandwidth\":10, \"freq_limits\":[6e9]*2, \"nop\":10, \"averages\":1}\n",
    "ramsey_delays = linspace(0, 10000, 201)\n",
    "q_freq = 5e9\n",
    "exc_frequency = q_freq - 1e6\n",
    "pulse_sequence_parameters = {\"awg_trigger_reaction_delay\":0, \"readout_duration\":3000, \n",
    "                                \"repetition_period\":15000, \"half_pi_pulse_duration\":100/2}\n",
    "\n",
    "ro_awg_params =  {\"calibration\":MagicMock()}\n",
    "q_awg_params = {\"calibration\":MagicMock()}\n",
    "q_lo_params = {'power':-10, 'frequency':exc_frequency + 100e6}\n",
    "dev_params = {'vna':[vna_parameters], \n",
    "              'ro_awg':[ro_awg_params], \n",
    "              'q_awg':[q_awg_params],\n",
    "              'q_lo':[q_lo_params]}\n",
    "\n",
    "DR.set_fixed_parameters(pulse_sequence_parameters, **dev_params)\n",
    "DR.set_swept_parameters(ramsey_delays)\n",
    "DR.set_basis((1 + 1j,-1 - 1j))\n",
    "# DR.set_ult_calib(True)"
   ]
  },
  {
   "cell_type": "code",
   "execution_count": 3,
   "metadata": {},
   "outputs": [
    {
     "name": "stdout",
     "output_type": "stream",
     "text": [
      "Started at:  2018-11-21 16:53:19.454638\n",
      "Time left: 0 h 0 m 21.47 s, [ramsey_delay: 5.50e+02], average cycle time: 0.11 s       "
     ]
    },
    {
     "name": "stderr",
     "output_type": "stream",
     "text": [
      "C:\\Users\\pogor\\AppData\\Local\\Continuum\\anaconda3\\lib\\site-packages\\scipy\\optimize\\minpack.py:794: OptimizeWarning: Covariance of the parameters could not be estimated\n",
      "  category=OptimizeWarning)\n"
     ]
    },
    {
     "name": "stdout",
     "output_type": "stream",
     "text": [
      "Time left: 0 h 0 m 0.0 s, [ramsey_delay: 1.00e+04], average cycle time: 0.11 s       \n",
      "Elapsed time: 0 h 0 m 21.41 s\n"
     ]
    }
   ],
   "source": [
    "dr_result = DR.launch()"
   ]
  },
  {
   "cell_type": "markdown",
   "metadata": {},
   "source": [
    "# TTS"
   ]
  },
  {
   "cell_type": "code",
   "execution_count": 2,
   "metadata": {},
   "outputs": [
    {
     "name": "stdout",
     "output_type": "stream",
     "text": [
      "Detecting a resonator within provided frequency range of the VNA [4000000000.0, 6000000000.0]                             at 0.00 mA\n",
      "Detected frequency is 5.90000 GHz, at 0.00 mU and 0.00 degrees\n"
     ]
    }
   ],
   "source": [
    "from lib2.TwoToneSpectroscopy import *\n",
    "TTS = FluxTwoToneSpectroscopy('TTS', 'lol', \n",
    "                              vna =[vna], mw_src=[mw_src], current_src=[cur_src])\n",
    "TTS._resonator_detector = RD\n",
    "res_limits = [4e9, 6e9]\n",
    "vna_parameters = {\"bandwidth\":250, \"freq_limits\":res_limits, \"nop\":10, \"power\":-15, \"averages\":1}\n",
    "mw_src_parameters = {\"power\":0}\n",
    "mw_src_frequencies = linspace(8.5e9, 9.2e9, 51)\n",
    "center = 0\n",
    "sweet_spot = 0\n",
    "period = 1\n",
    "currents = linspace(sweet_spot - period/8, sweet_spot + period/8, 51) # comment out to use fluxes from STS\n",
    "#voltages = linspace(0, 0.9, 51) # comment out to use voltages from STS\n",
    "#sweet_spot_current = None\n",
    "dev_params = {'vna': [vna_parameters],\n",
    "              'mw_src': [mw_src_parameters]}\n",
    "TTS.set_fixed_parameters(sweet_spot_current=mean(currents), adaptive=False, **dev_params)\n",
    "#TTS.set_swept_parameters(mw_src_frequencies, voltage_values = voltages)\n",
    "TTS.set_swept_parameters(mw_src_frequencies, current_values = currents)\n",
    "TTS._measurement_result._unwrap_phase = True"
   ]
  },
  {
   "cell_type": "code",
   "execution_count": null,
   "metadata": {},
   "outputs": [
    {
     "name": "stdout",
     "output_type": "stream",
     "text": [
      "Started at:  2018-11-19 12:28:55.079793\n",
      "Time left: 0 h 7 m 7.56 s, [Current [A]: -8.00e-02, Frequency [Hz]: 8.81e+09], average cycle time: 0.2 s       "
     ]
    }
   ],
   "source": [
    "tts_result = TTS.launch()"
   ]
  },
  {
   "cell_type": "markdown",
   "metadata": {},
   "source": [
    "# STS"
   ]
  },
  {
   "cell_type": "code",
   "execution_count": 4,
   "metadata": {},
   "outputs": [
    {
     "name": "stdout",
     "output_type": "stream",
     "text": [
      "Started at:  2018-11-21 16:59:45.332811\n",
      "Time left: 0 h 0 m 0.0 s, [Current [A]: 7.50e-05], average cycle time: 0.1 s       \n",
      "Elapsed time: 0 h 0 m 10.44 s\n"
     ]
    }
   ],
   "source": [
    "from lib2.SingleToneSpectroscopy import *\n",
    "currents = linspace(-.75e-4, .75e-4, 101)\n",
    "voltages = linspace(-.75,1, 101)\n",
    "res_limits = [4e9, 6e9]\n",
    "\n",
    "STS = SingleToneSpectroscopy('STS', 'lol', plot_update_interval = 1, vna = [vna], src = [cur_src])\n",
    "vna_parameters = {\"bandwidth\":500, \"freq_limits\":res_limits, \"nop\":101, \"power\":-20, \"averages\":1}\n",
    "dev_params = {'vna': [vna_parameters]}\n",
    "\n",
    "STS.set_fixed_parameters(**dev_params)\n",
    "STS._src[0].set_current(currents[0])\n",
    "sleep(1)\n",
    "STS.set_swept_parameters({'Current [A]': (STS._src[0].set_current, currents)})\n",
    "# STS.set_swept_parameters({'AWG voltage [V]': (voltage_awg.set_voltage, voltages)})\n",
    "\n",
    "sts_result = STS.launch()"
   ]
  },
  {
   "cell_type": "code",
   "execution_count": 3,
   "metadata": {},
   "outputs": [
    {
     "name": "stdout",
     "output_type": "stream",
     "text": [
      "Measurement was interrupted! \n",
      "\n",
      "Time left: 0 h 1 m 6.54 s, [Current [A]: -1.77e-05], average cycle time: 0.11 s       "
     ]
    }
   ],
   "source": [
    "STS.stop()"
   ]
  },
  {
   "cell_type": "code",
   "execution_count": 5,
   "metadata": {},
   "outputs": [
    {
     "data": {
      "text/plain": [
       "(<Figure size 1500x700 with 4 Axes>,\n",
       " array([<matplotlib.axes._subplots.AxesSubplot object at 0x00000239EC0D05F8>,\n",
       "        <matplotlib.axes._subplots.AxesSubplot object at 0x0000023980105D30>],\n",
       "       dtype=object),\n",
       " (<matplotlib.axes._axes.Axes at 0x23980134358>,\n",
       "  <matplotlib.axes._axes.Axes at 0x23980598f28>))"
      ]
     },
     "execution_count": 5,
     "metadata": {},
     "output_type": "execute_result"
    }
   ],
   "source": [
    "sts_result.visualize()"
   ]
  },
  {
   "cell_type": "code",
   "execution_count": 21,
   "metadata": {},
   "outputs": [
    {
     "ename": "ValueError",
     "evalue": "x and y must have same first dimension, but have shapes (3,) and (2,)",
     "output_type": "error",
     "traceback": [
      "\u001b[1;31m---------------------------------------------------------------------------\u001b[0m",
      "\u001b[1;31mValueError\u001b[0m                                Traceback (most recent call last)",
      "\u001b[1;32m<ipython-input-21-9fe610ffebef>\u001b[0m in \u001b[0;36m<module>\u001b[1;34m()\u001b[0m\n\u001b[1;32m----> 1\u001b[1;33m \u001b[0mplt\u001b[0m\u001b[1;33m.\u001b[0m\u001b[0mplot\u001b[0m\u001b[1;33m(\u001b[0m\u001b[1;33m[\u001b[0m\u001b[1;36m1\u001b[0m\u001b[1;33m,\u001b[0m\u001b[1;36m2\u001b[0m\u001b[1;33m,\u001b[0m\u001b[1;36m3\u001b[0m\u001b[1;33m]\u001b[0m\u001b[1;33m,\u001b[0m\u001b[1;33m[\u001b[0m\u001b[1;36m1\u001b[0m\u001b[1;33m,\u001b[0m\u001b[1;36m2\u001b[0m\u001b[1;33m]\u001b[0m\u001b[1;33m)\u001b[0m\u001b[1;33m\u001b[0m\u001b[0m\n\u001b[0m",
      "\u001b[1;32m~\\AppData\\Local\\Continuum\\anaconda3\\lib\\site-packages\\matplotlib\\pyplot.py\u001b[0m in \u001b[0;36mplot\u001b[1;34m(*args, **kwargs)\u001b[0m\n\u001b[0;32m   3361\u001b[0m                       mplDeprecation)\n\u001b[0;32m   3362\u001b[0m     \u001b[1;32mtry\u001b[0m\u001b[1;33m:\u001b[0m\u001b[1;33m\u001b[0m\u001b[0m\n\u001b[1;32m-> 3363\u001b[1;33m         \u001b[0mret\u001b[0m \u001b[1;33m=\u001b[0m \u001b[0max\u001b[0m\u001b[1;33m.\u001b[0m\u001b[0mplot\u001b[0m\u001b[1;33m(\u001b[0m\u001b[1;33m*\u001b[0m\u001b[0margs\u001b[0m\u001b[1;33m,\u001b[0m \u001b[1;33m**\u001b[0m\u001b[0mkwargs\u001b[0m\u001b[1;33m)\u001b[0m\u001b[1;33m\u001b[0m\u001b[0m\n\u001b[0m\u001b[0;32m   3364\u001b[0m     \u001b[1;32mfinally\u001b[0m\u001b[1;33m:\u001b[0m\u001b[1;33m\u001b[0m\u001b[0m\n\u001b[0;32m   3365\u001b[0m         \u001b[0max\u001b[0m\u001b[1;33m.\u001b[0m\u001b[0m_hold\u001b[0m \u001b[1;33m=\u001b[0m \u001b[0mwashold\u001b[0m\u001b[1;33m\u001b[0m\u001b[0m\n",
      "\u001b[1;32m~\\AppData\\Local\\Continuum\\anaconda3\\lib\\site-packages\\matplotlib\\__init__.py\u001b[0m in \u001b[0;36minner\u001b[1;34m(ax, *args, **kwargs)\u001b[0m\n\u001b[0;32m   1865\u001b[0m                         \u001b[1;34m\"the Matplotlib list!)\"\u001b[0m \u001b[1;33m%\u001b[0m \u001b[1;33m(\u001b[0m\u001b[0mlabel_namer\u001b[0m\u001b[1;33m,\u001b[0m \u001b[0mfunc\u001b[0m\u001b[1;33m.\u001b[0m\u001b[0m__name__\u001b[0m\u001b[1;33m)\u001b[0m\u001b[1;33m,\u001b[0m\u001b[1;33m\u001b[0m\u001b[0m\n\u001b[0;32m   1866\u001b[0m                         RuntimeWarning, stacklevel=2)\n\u001b[1;32m-> 1867\u001b[1;33m             \u001b[1;32mreturn\u001b[0m \u001b[0mfunc\u001b[0m\u001b[1;33m(\u001b[0m\u001b[0max\u001b[0m\u001b[1;33m,\u001b[0m \u001b[1;33m*\u001b[0m\u001b[0margs\u001b[0m\u001b[1;33m,\u001b[0m \u001b[1;33m**\u001b[0m\u001b[0mkwargs\u001b[0m\u001b[1;33m)\u001b[0m\u001b[1;33m\u001b[0m\u001b[0m\n\u001b[0m\u001b[0;32m   1868\u001b[0m \u001b[1;33m\u001b[0m\u001b[0m\n\u001b[0;32m   1869\u001b[0m         inner.__doc__ = _add_data_doc(inner.__doc__,\n",
      "\u001b[1;32m~\\AppData\\Local\\Continuum\\anaconda3\\lib\\site-packages\\matplotlib\\axes\\_axes.py\u001b[0m in \u001b[0;36mplot\u001b[1;34m(self, *args, **kwargs)\u001b[0m\n\u001b[0;32m   1526\u001b[0m         \u001b[0mkwargs\u001b[0m \u001b[1;33m=\u001b[0m \u001b[0mcbook\u001b[0m\u001b[1;33m.\u001b[0m\u001b[0mnormalize_kwargs\u001b[0m\u001b[1;33m(\u001b[0m\u001b[0mkwargs\u001b[0m\u001b[1;33m,\u001b[0m \u001b[0m_alias_map\u001b[0m\u001b[1;33m)\u001b[0m\u001b[1;33m\u001b[0m\u001b[0m\n\u001b[0;32m   1527\u001b[0m \u001b[1;33m\u001b[0m\u001b[0m\n\u001b[1;32m-> 1528\u001b[1;33m         \u001b[1;32mfor\u001b[0m \u001b[0mline\u001b[0m \u001b[1;32min\u001b[0m \u001b[0mself\u001b[0m\u001b[1;33m.\u001b[0m\u001b[0m_get_lines\u001b[0m\u001b[1;33m(\u001b[0m\u001b[1;33m*\u001b[0m\u001b[0margs\u001b[0m\u001b[1;33m,\u001b[0m \u001b[1;33m**\u001b[0m\u001b[0mkwargs\u001b[0m\u001b[1;33m)\u001b[0m\u001b[1;33m:\u001b[0m\u001b[1;33m\u001b[0m\u001b[0m\n\u001b[0m\u001b[0;32m   1529\u001b[0m             \u001b[0mself\u001b[0m\u001b[1;33m.\u001b[0m\u001b[0madd_line\u001b[0m\u001b[1;33m(\u001b[0m\u001b[0mline\u001b[0m\u001b[1;33m)\u001b[0m\u001b[1;33m\u001b[0m\u001b[0m\n\u001b[0;32m   1530\u001b[0m             \u001b[0mlines\u001b[0m\u001b[1;33m.\u001b[0m\u001b[0mappend\u001b[0m\u001b[1;33m(\u001b[0m\u001b[0mline\u001b[0m\u001b[1;33m)\u001b[0m\u001b[1;33m\u001b[0m\u001b[0m\n",
      "\u001b[1;32m~\\AppData\\Local\\Continuum\\anaconda3\\lib\\site-packages\\matplotlib\\axes\\_base.py\u001b[0m in \u001b[0;36m_grab_next_args\u001b[1;34m(self, *args, **kwargs)\u001b[0m\n\u001b[0;32m    404\u001b[0m                 \u001b[0mthis\u001b[0m \u001b[1;33m+=\u001b[0m \u001b[0margs\u001b[0m\u001b[1;33m[\u001b[0m\u001b[1;36m0\u001b[0m\u001b[1;33m]\u001b[0m\u001b[1;33m,\u001b[0m\u001b[1;33m\u001b[0m\u001b[0m\n\u001b[0;32m    405\u001b[0m                 \u001b[0margs\u001b[0m \u001b[1;33m=\u001b[0m \u001b[0margs\u001b[0m\u001b[1;33m[\u001b[0m\u001b[1;36m1\u001b[0m\u001b[1;33m:\u001b[0m\u001b[1;33m]\u001b[0m\u001b[1;33m\u001b[0m\u001b[0m\n\u001b[1;32m--> 406\u001b[1;33m             \u001b[1;32mfor\u001b[0m \u001b[0mseg\u001b[0m \u001b[1;32min\u001b[0m \u001b[0mself\u001b[0m\u001b[1;33m.\u001b[0m\u001b[0m_plot_args\u001b[0m\u001b[1;33m(\u001b[0m\u001b[0mthis\u001b[0m\u001b[1;33m,\u001b[0m \u001b[0mkwargs\u001b[0m\u001b[1;33m)\u001b[0m\u001b[1;33m:\u001b[0m\u001b[1;33m\u001b[0m\u001b[0m\n\u001b[0m\u001b[0;32m    407\u001b[0m                 \u001b[1;32myield\u001b[0m \u001b[0mseg\u001b[0m\u001b[1;33m\u001b[0m\u001b[0m\n\u001b[0;32m    408\u001b[0m \u001b[1;33m\u001b[0m\u001b[0m\n",
      "\u001b[1;32m~\\AppData\\Local\\Continuum\\anaconda3\\lib\\site-packages\\matplotlib\\axes\\_base.py\u001b[0m in \u001b[0;36m_plot_args\u001b[1;34m(self, tup, kwargs)\u001b[0m\n\u001b[0;32m    381\u001b[0m             \u001b[0mx\u001b[0m\u001b[1;33m,\u001b[0m \u001b[0my\u001b[0m \u001b[1;33m=\u001b[0m \u001b[0mindex_of\u001b[0m\u001b[1;33m(\u001b[0m\u001b[0mtup\u001b[0m\u001b[1;33m[\u001b[0m\u001b[1;33m-\u001b[0m\u001b[1;36m1\u001b[0m\u001b[1;33m]\u001b[0m\u001b[1;33m)\u001b[0m\u001b[1;33m\u001b[0m\u001b[0m\n\u001b[0;32m    382\u001b[0m \u001b[1;33m\u001b[0m\u001b[0m\n\u001b[1;32m--> 383\u001b[1;33m         \u001b[0mx\u001b[0m\u001b[1;33m,\u001b[0m \u001b[0my\u001b[0m \u001b[1;33m=\u001b[0m \u001b[0mself\u001b[0m\u001b[1;33m.\u001b[0m\u001b[0m_xy_from_xy\u001b[0m\u001b[1;33m(\u001b[0m\u001b[0mx\u001b[0m\u001b[1;33m,\u001b[0m \u001b[0my\u001b[0m\u001b[1;33m)\u001b[0m\u001b[1;33m\u001b[0m\u001b[0m\n\u001b[0m\u001b[0;32m    384\u001b[0m \u001b[1;33m\u001b[0m\u001b[0m\n\u001b[0;32m    385\u001b[0m         \u001b[1;32mif\u001b[0m \u001b[0mself\u001b[0m\u001b[1;33m.\u001b[0m\u001b[0mcommand\u001b[0m \u001b[1;33m==\u001b[0m \u001b[1;34m'plot'\u001b[0m\u001b[1;33m:\u001b[0m\u001b[1;33m\u001b[0m\u001b[0m\n",
      "\u001b[1;32m~\\AppData\\Local\\Continuum\\anaconda3\\lib\\site-packages\\matplotlib\\axes\\_base.py\u001b[0m in \u001b[0;36m_xy_from_xy\u001b[1;34m(self, x, y)\u001b[0m\n\u001b[0;32m    240\u001b[0m         \u001b[1;32mif\u001b[0m \u001b[0mx\u001b[0m\u001b[1;33m.\u001b[0m\u001b[0mshape\u001b[0m\u001b[1;33m[\u001b[0m\u001b[1;36m0\u001b[0m\u001b[1;33m]\u001b[0m \u001b[1;33m!=\u001b[0m \u001b[0my\u001b[0m\u001b[1;33m.\u001b[0m\u001b[0mshape\u001b[0m\u001b[1;33m[\u001b[0m\u001b[1;36m0\u001b[0m\u001b[1;33m]\u001b[0m\u001b[1;33m:\u001b[0m\u001b[1;33m\u001b[0m\u001b[0m\n\u001b[0;32m    241\u001b[0m             raise ValueError(\"x and y must have same first dimension, but \"\n\u001b[1;32m--> 242\u001b[1;33m                              \"have shapes {} and {}\".format(x.shape, y.shape))\n\u001b[0m\u001b[0;32m    243\u001b[0m         \u001b[1;32mif\u001b[0m \u001b[0mx\u001b[0m\u001b[1;33m.\u001b[0m\u001b[0mndim\u001b[0m \u001b[1;33m>\u001b[0m \u001b[1;36m2\u001b[0m \u001b[1;32mor\u001b[0m \u001b[0my\u001b[0m\u001b[1;33m.\u001b[0m\u001b[0mndim\u001b[0m \u001b[1;33m>\u001b[0m \u001b[1;36m2\u001b[0m\u001b[1;33m:\u001b[0m\u001b[1;33m\u001b[0m\u001b[0m\n\u001b[0;32m    244\u001b[0m             raise ValueError(\"x and y can be no greater than 2-D, but have \"\n",
      "\u001b[1;31mValueError\u001b[0m: x and y must have same first dimension, but have shapes (3,) and (2,)"
     ]
    }
   ],
   "source": [
    "plt.plot([1,2,3],[1,2])"
   ]
  },
  {
   "cell_type": "code",
   "execution_count": 15,
   "metadata": {},
   "outputs": [],
   "source": [
    "from lib2.DispersiveRabiOscillations import *\n",
    "\n",
    "DRO = DispersiveRabiOscillations(\"rabi\", \"lol\", plot_update_interval=0.5,\n",
    "            vna=[vna], q_lo=[q_lo], q_awg=[q_awg], ro_awg=[ro_awg])\n",
    "vna_parameters = {\"bandwidth\":10, \"freq_limits\":[5e9]*2, \"nop\":10, \"averages\":1}\n",
    "exc_frequency = 6e9\n",
    "excitation_durations = linspace(0, 2000, 201)\n",
    "\n",
    "rabi_sequence_parameters = pulse_sequence_parameters= {\"awg_trigger_reaction_delay\":0, \"excitation_amplitude\":1,\n",
    "                                                \"readout_duration\":3000, \"repetition_period\":15000}\n",
    "ro_awg_params =  {\"calibration\":MagicMock()}\n",
    "q_awg_params = {\"calibration\":MagicMock()}\n",
    "q_lo_params = {'power':-10, 'frequency':exc_frequency + 100e6}\n",
    "dev_params = {'vna':[vna_parameters], \n",
    "              'ro_awg':[ro_awg_params], \n",
    "              'q_awg':[q_awg_params],\n",
    "              'q_lo':[q_lo_params]}\n",
    "DRO.set_fixed_parameters(rabi_sequence_parameters, **dev_params)\n",
    "DRO.set_swept_parameters(excitation_durations)\n",
    "#DRO.set_basis(basis)\n",
    "DRO.set_ult_calib(False)"
   ]
  },
  {
   "cell_type": "code",
   "execution_count": 16,
   "metadata": {},
   "outputs": [
    {
     "name": "stdout",
     "output_type": "stream",
     "text": [
      "Started at:  2018-11-20 17:46:46.153761\n",
      "Time left: 0 h 0 m 39.97 s, [excitation_duration: 6.00e+01], average cycle time: 0.21 s       "
     ]
    },
    {
     "name": "stderr",
     "output_type": "stream",
     "text": [
      "C:\\Users\\pogor\\AppData\\Local\\Continuum\\anaconda3\\lib\\site-packages\\scipy\\optimize\\minpack.py:794: OptimizeWarning: Covariance of the parameters could not be estimated\n",
      "  category=OptimizeWarning)\n"
     ]
    },
    {
     "name": "stdout",
     "output_type": "stream",
     "text": [
      "Time left: 0 h 0 m 0.0 s, [excitation_duration: 2.00e+03], average cycle time: 0.21 s       \n",
      "Elapsed time: 0 h 0 m 41.53 s\n"
     ]
    }
   ],
   "source": [
    "result = DRO.launch()"
   ]
  },
  {
   "cell_type": "code",
   "execution_count": 18,
   "metadata": {},
   "outputs": [],
   "source": [
    "basis = result.get_basis()"
   ]
  },
  {
   "cell_type": "markdown",
   "metadata": {},
   "source": [
    "# Joint Rabi"
   ]
  },
  {
   "cell_type": "code",
   "execution_count": 6,
   "metadata": {},
   "outputs": [],
   "source": [
    "from lib2.DispersiveRabiOscillationsJoint import *\n",
    "\n",
    "DROJ = DispersiveRabiOscillationsJoint(\"rabi\", \"lol\",\n",
    "            vna=[vna], q_lo=[q_lo, q_lo_2], q_awg=[q_awg, q_awg_2], ro_awg=[ro_awg], plot_update_interval=0.5)\n",
    "vna_parameters = {\"bandwidth\":10, \"freq_limits\":[5e9]*2, \"nop\":10, \"averages\":1}\n",
    "exc_frequency = 6e9\n",
    "excitation_durations = linspace(0, 2000, 201)\n",
    "\n",
    "rabi_sequence_parameters = pulse_sequence_parameters= {\"awg_trigger_reaction_delay\":0, \"excitation_amplitude\":1,\n",
    "                                                \"readout_duration\":3000, \"repetition_period\":15000}\n",
    "ro_awg_params =  {\"calibration\":MagicMock()}\n",
    "q_awg_params = {\"calibration\":MagicMock()}\n",
    "q_lo_params = {'power':-10, 'frequency':exc_frequency + 100e6}\n",
    "dev_params = {'vna':[vna_parameters], \n",
    "              'ro_awg':[ro_awg_params], \n",
    "              'q_awg':[q_awg_params, q_awg_params],\n",
    "              'q_lo':[q_lo_params, q_lo_params]}\n",
    "DROJ.set_fixed_parameters(rabi_sequence_parameters, **dev_params)\n",
    "DROJ.set_swept_parameters(excitation_durations)\n",
    "#DRO.set_basis(basis)\n",
    "DROJ.set_ult_calib(False)"
   ]
  },
  {
   "cell_type": "code",
   "execution_count": 7,
   "metadata": {},
   "outputs": [
    {
     "name": "stdout",
     "output_type": "stream",
     "text": [
      "Started at:  2018-11-16 16:03:58.127108\n",
      "Time left: 0 h 0 m 42.96 s, [excitation_duration: 7.00e+01], average cycle time: 0.22 s       "
     ]
    },
    {
     "name": "stderr",
     "output_type": "stream",
     "text": [
      "C:\\Users\\pogor\\AppData\\Local\\Continuum\\anaconda3\\lib\\site-packages\\scipy\\optimize\\minpack.py:794: OptimizeWarning: Covariance of the parameters could not be estimated\n",
      "  category=OptimizeWarning)\n",
      "C:\\Users\\pogor\\YandexDisk\\Ustinov internship\\Measurement-automation\\lib2\\VNATimeResolvedDispersiveMeasurement1D.py:81: RuntimeWarning: invalid value encountered in sqrt\n",
      "  return result, sqrt(diag(sigma**2*inv(result.jac.T.dot(result.jac))))\n"
     ]
    },
    {
     "name": "stdout",
     "output_type": "stream",
     "text": [
      "Time left: 0 h 0 m 0.0 s, [excitation_duration: 2.00e+03], average cycle time: 0.22 s       \n",
      "Elapsed time: 0 h 0 m 45.12 s\n"
     ]
    },
    {
     "data": {
      "text/plain": [
       "<lib2.DispersiveRabiOscillationsJoint.DispersiveRabiOscillationsJointResult at 0x22d6df874a8>"
      ]
     },
     "execution_count": 7,
     "metadata": {},
     "output_type": "execute_result"
    }
   ],
   "source": [
    "DROJ.launch()"
   ]
  }
 ],
 "metadata": {
  "kernelspec": {
   "display_name": "Python 3",
   "language": "python",
   "name": "python3"
  },
  "language_info": {
   "codemirror_mode": {
    "name": "ipython",
    "version": 3
   },
   "file_extension": ".py",
   "mimetype": "text/x-python",
   "name": "python",
   "nbconvert_exporter": "python",
   "pygments_lexer": "ipython3",
   "version": "3.7.0"
  }
 },
 "nbformat": 4,
 "nbformat_minor": 2
}
