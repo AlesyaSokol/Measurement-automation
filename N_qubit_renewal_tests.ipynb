{
 "cells": [
  {
   "cell_type": "code",
   "execution_count": 1,
   "metadata": {},
   "outputs": [
    {
     "name": "stdout",
     "output_type": "stream",
     "text": [
      "Populating the interactive namespace from numpy and matplotlib\n"
     ]
    }
   ],
   "source": [
    "%pylab qt5\n",
    "from unittest.mock import MagicMock, Mock\n",
    "from time import sleep\n",
    "from qutip import *\n",
    "class DataGen:\n",
    "    \n",
    "    def __init__(self):\n",
    "        self._counter = 0\n",
    "        self._nop = 1\n",
    "        self._freq = 0.1\n",
    "        \n",
    "    def fun(self, x):\n",
    "        return [cos(self._freq*x) + 1j*cos(self._freq*x)]*self._nop\n",
    "    \n",
    "    def get_sdata(self):\n",
    "        retval = self.fun(self._counter)\n",
    "        self._counter += 1\n",
    "        sleep(0.2)\n",
    "        return retval\n",
    "    \n",
    "    def get_frequencies(self):\n",
    "        return linspace(self._freq_limits[0], self._freq_limits[1], self._nop)\n",
    "    \n",
    "    def set_parameters(self, params):\n",
    "        self._nop = params[\"nop\"]\n",
    "        self._freq_limits = params[\"freq_limits\"]\n",
    "    \n",
    "    def set_freq_limits(self, *limits):\n",
    "        self._freq_limits = limits\n",
    "        \n",
    "    def set_nop(self, nop):\n",
    "        self._nop = nop\n",
    "        \n",
    "    def detect(self):\n",
    "        return 5.9e9, 0, 0\n",
    "    \n",
    "dg = DataGen()\n",
    "vna = Mock()\n",
    "cur_src = Mock()\n",
    "q_lo = Mock()\n",
    "q_awg = Mock()\n",
    "ro_awg = MagicMock()\n",
    "q_z_awg = Mock()\n",
    "q_lo_2 = Mock()\n",
    "q_awg_2 = Mock()\n",
    "ro_awg_2 = MagicMock()\n",
    "mw_src = Mock()\n",
    "RD = Mock()\n",
    "RD.detect = dg.detect\n",
    "vna.get_sdata = dg.get_sdata\n",
    "vna.set_parameters = dg.set_parameters\n",
    "vna.get_frequencies = dg.get_frequencies\n",
    "vna.set_freq_limits = dg.set_freq_limits\n",
    "vna.set_nop = dg.set_nop\n"
   ]
  },
  {
   "cell_type": "markdown",
   "metadata": {
    "toc-hr-collapsed": false
   },
   "source": [
    "# Tomo Joint"
   ]
  },
  {
   "cell_type": "code",
   "execution_count": 2,
   "metadata": {},
   "outputs": [],
   "source": [
    "from lib2.DispersiveJointTomography import *\n",
    "prep_pulses = [[\"-X/2\",\"-X/2\",\"+Z/2\"],\n",
    "               [\"-X/2\",\"-X/2\",\"+Z/2\"]\n",
    "              ]\n",
    "DJT = DispersiveJointTomography('tomo joint', 'lol', \n",
    "                        vna=[vna], q_lo=[q_lo, q_lo], q_awg=[q_awg, q_awg], ro_awg=[ro_awg], q_z_awg=[q_z_awg, q_z_awg])\n",
    "vna_parameters = {\"bandwidth\":10, \"freq_limits\":[6e9]*2, \"nop\":20, \"averages\":1}\n",
    "exc_frequency = 5e9\n",
    "q_freq = 5e9\n",
    "hpi = 1\n",
    "sequence_parameters = {\"awg_trigger_reaction_delay\":0, \"readout_duration\":3e3,\n",
    "                       \"repetition_period\": 15000, \"modulating_window\":\"rectangular\", \"pulse_length\": 200,\n",
    "                       \"pulse_pi_amplitudes\": [hpi*2, hpi*2], 'padding':10, \"tomo_delay\": 10,\n",
    "                       \"prep_pulses\":prep_pulses, \"z_pulse_offset_voltages\": [.1, .1], \"z_pulse_duration\": 17.4, \n",
    "                       \"z_smoothing_coefficient\":2}\n",
    "ro_awg_params =  {\"calibration\":MagicMock()}\n",
    "q_awg_params = {\"calibration\":MagicMock()}\n",
    "q_z_awg_params = {\"calibration\":MagicMock()}\n",
    "q_lo_params = {'power':-10, 'frequency':q_freq + 100e6}\n",
    "dev_params = {'vna':[vna_parameters], \n",
    "              'ro_awg':[ro_awg_params], \n",
    "              'q_awg':[q_awg_params, q_awg_params],\n",
    "              'q_z_awg':[q_z_awg_params, q_z_awg_params],\n",
    "              'q_lo':[q_lo_params, q_lo_params]}\n",
    "\n",
    "tomo_local_rotations = [('+I', '+I'),\n",
    "                        ('+I', '+X/2'),\n",
    "                        ('+I', '+Y/2'),\n",
    "                        ('+I', '+X'),\n",
    "                        ('+X/2', '+X/2'),\n",
    "                        ('+Y/2', '+Y/2'),\n",
    "                        ('+X', '+X')\n",
    "                       ]\n",
    "betas = (10,2,2,7)\n",
    "\n",
    "DJT.set_fixed_parameters(sequence_parameters, betas, **dev_params)\n",
    "DJT.set_swept_parameters(tomo_local_rotations)\n",
    "DJT.set_basis((1 + 1j,-1 - 1j))"
   ]
  },
  {
   "cell_type": "code",
   "execution_count": 3,
   "metadata": {},
   "outputs": [
    {
     "name": "stdout",
     "output_type": "stream",
     "text": [
      "Started at:  2018-12-05 19:17:05.119231\n",
      "Time left: 0 h 0 m 0.0 s, [tomo_local_rotations: ('+X', '+X')], average cycle time: 0.21 s       \n",
      "Elapsed time: 0 h 0 m 1.48 s\n"
     ]
    }
   ],
   "source": [
    "djt_result = DJT.launch()"
   ]
  },
  {
   "cell_type": "code",
   "execution_count": 4,
   "metadata": {},
   "outputs": [
    {
     "data": {
      "text/plain": [
       "(<Figure size 1500x700 with 4 Axes>,\n",
       " array([<matplotlib.axes._subplots.AxesSubplot object at 0x00000130B56A7C50>,\n",
       "        <matplotlib.axes._subplots.AxesSubplot object at 0x00000130B5ED72E8>],\n",
       "       dtype=object),\n",
       " (<matplotlib.axes._axes.Axes at 0x130b5eff908>,\n",
       "  <matplotlib.axes._axes.Axes at 0x130b5f27f60>))"
      ]
     },
     "execution_count": 4,
     "metadata": {},
     "output_type": "execute_result"
    }
   ],
   "source": [
    "djt_result.visualize()"
   ]
  },
  {
   "cell_type": "code",
   "execution_count": 11,
   "metadata": {},
   "outputs": [
    {
     "data": {
      "application/vnd.jupyter.widget-view+json": {
       "model_id": "47a2dfaf76f14e8ea659316c1436fd48",
       "version_major": 2,
       "version_minor": 0
      },
      "text/plain": [
       "HBox(children=(IntProgress(value=0, description='Tomography: Likelihood minimization', layout=Layout(flex='2')…"
      ]
     },
     "metadata": {},
     "output_type": "display_data"
    },
    {
     "name": "stdout",
     "output_type": "stream",
     "text": [
      "\n"
     ]
    },
    {
     "data": {
      "text/latex": [
       "Quantum object: dims = [[2, 2], [2, 2]], shape = (4, 4), type = oper, isherm = True\\begin{equation*}\\left(\\begin{array}{*{11}c}0.035 & (-7.881\\times10^{-04}+0.033j) & (-0.076-0.013j) & (-0.011+0.004j)\\\\(-7.881\\times10^{-04}-0.033j) & 0.204 & (0.087+0.077j) & (-0.066+0.194j)\\\\(-0.076+0.013j) & (0.087-0.077j) & 0.266 & (-0.086+0.046j)\\\\(-0.011-0.004j) & (-0.066-0.194j) & (-0.086-0.046j) & 0.495\\\\\\end{array}\\right)\\end{equation*}"
      ],
      "text/plain": [
       "Quantum object: dims = [[2, 2], [2, 2]], shape = (4, 4), type = oper, isherm = True\n",
       "Qobj data =\n",
       "[[ 0.03474309+0.j         -0.00078813+0.03291715j -0.07628549-0.01346798j\n",
       "  -0.01066615+0.00357484j]\n",
       " [-0.00078813-0.03291715j  0.20392174+0.j          0.08702681+0.07749248j\n",
       "  -0.06620155+0.19367289j]\n",
       " [-0.07628549+0.01346798j  0.08702681-0.07749248j  0.2662626 +0.j\n",
       "  -0.08641199+0.04556166j]\n",
       " [-0.01066615-0.00357484j -0.06620155-0.19367289j -0.08641199-0.04556166j\n",
       "   0.49507257+0.j        ]]"
      ]
     },
     "execution_count": 11,
     "metadata": {},
     "output_type": "execute_result"
    }
   ],
   "source": [
    "djt_result.find_density_matrix()"
   ]
  },
  {
   "cell_type": "markdown",
   "metadata": {},
   "source": [
    "## plotting tests"
   ]
  },
  {
   "cell_type": "code",
   "execution_count": 4,
   "metadata": {},
   "outputs": [
    {
     "data": {
      "text/plain": [
       "{'+I': {'+I': (-0+0j),\n",
       "  '+X/2': (0.0006248698025168586+0.0006248698025168586j),\n",
       "  '+Y/2': (0.002497917360987034+0.002497917360987034j),\n",
       "  '+X': (0.005614461031978879+0.005614461031978879j)},\n",
       " '+X/2': {'+I': None,\n",
       "  '+X/2': (0.009966711079379187+0.009966711079379187j),\n",
       "  '+Y/2': None,\n",
       "  '+X': None},\n",
       " '+Y/2': {'+I': None,\n",
       "  '+X/2': None,\n",
       "  '+Y/2': (0.015543789144677578+0.015543789144677578j),\n",
       "  '+X': None},\n",
       " '+X': {'+I': None,\n",
       "  '+X/2': None,\n",
       "  '+Y/2': None,\n",
       "  '+X': (0.02233175543719701+0.02233175543719701j)}}"
      ]
     },
     "execution_count": 4,
     "metadata": {},
     "output_type": "execute_result"
    }
   ],
   "source": [
    "all_data = djt_result.get_data()\n",
    "keys1 = [x[0] for x in all_data['tomo_local_rotations']]\n",
    "keys2 = [x[1] for x in all_data['tomo_local_rotations']]\n",
    "data_dict = dict.fromkeys(keys1)\n",
    "for key in data_dict.keys():\n",
    "    data_dict[key] = dict.fromkeys(keys2)\n",
    "keys1 = list(data_dict.keys())\n",
    "keys2 = list(data_dict[keys1[0]].keys())\n",
    "list(zip(all_data['tomo_local_rotations'], all_data['data']))\n",
    "for ((rot1, rot2), res) in zip(all_data['tomo_local_rotations'], all_data['data']):\n",
    "    data_dict[rot1][rot2] = res\n",
    "data_dict"
   ]
  },
  {
   "cell_type": "code",
   "execution_count": 10,
   "metadata": {},
   "outputs": [],
   "source": [
    "fig, axes = plt.subplots(1,2)\n",
    "data_matrix = [[data_dict[k1][k2] if data_dict[k1][k2] is not None else 0\n",
    "                                      for k2 in keys2] for k1 in keys1]\n",
    "axes[0].imshow(abs(data_matrix))\n",
    "axes[0].set_title('Real')\n",
    "axes[1].imshow(angle(data_matrix))\n",
    "axes[1].set_title('Imag')\n",
    "for ax in axes:\n",
    "    ax.set_xlabel('Qubit 1 local rotations')\n",
    "    ax.set_ylabel('Qubit 2 local rotations')\n",
    "    ax.set_xticks(range(len(keys1)))\n",
    "    ax.set_yticks(range(len(keys2)))\n",
    "    ax.set_xticklabels(keys1)\n",
    "    ax.set_yticklabels(keys1)\n",
    "    for i in range(len(keys1)):\n",
    "        for j in range(len(keys1)):\n",
    "            if data_dict[keys1[i]][keys2[j]] is None:\n",
    "                ax.text(j, i, 'No data', ha=\"center\", va=\"center\", color=\"w\")"
   ]
  },
  {
   "cell_type": "markdown",
   "metadata": {},
   "source": [
    "# Tomo 1q"
   ]
  },
  {
   "cell_type": "code",
   "execution_count": 2,
   "metadata": {},
   "outputs": [],
   "source": [
    "from lib2.DispersiveRadialTomography import *\n",
    "prep_pulse = [\"-X/2\",\"-X/2\",\"+Z/2\"]\n",
    "s_prep = [pulse.replace('/','_') for pulse in prep_pulse]\n",
    "DRT = DispersiveRadialTomography('tomo 1q'.join(s_prep), 'lol', \n",
    "                        vna=[vna], q_lo=[q_lo], q_awg=[q_awg], ro_awg=[ro_awg], q_z_awg=[q_z_awg])\n",
    "vna_parameters = {\"bandwidth\":10, \"freq_limits\":[6e9]*2, \"nop\":20, \"averages\":1}\n",
    "exc_frequency = 5e9\n",
    "q_freq = 5e9\n",
    "hpi = 1\n",
    "exc_amplitudes = linspace(0, 1, 11)*hpi\n",
    "tomo_phases = linspace(0, 2*pi, 22, endpoint=False)\n",
    "sequence_parameters = {\"awg_trigger_reaction_delay\":0, \"readout_duration\":3e3,\n",
    "                       \"repetition_period\": 15000, \"modulating_window\":\"rectangular\", \"pulse_length\": 200,\n",
    "                       \"prep_pulse_pi_amplitude\": hpi*2, 'padding':10, \"tomo_delay\": 10,\n",
    "                       \"prep_pulse\":prep_pulse, \"z_pulse_offset_voltage\": .1, \"z_pulse_duration\": 17.4, \n",
    "                       \"z_smoothing_coefficient\":2}\n",
    "ro_awg_params =  {\"calibration\":MagicMock()}\n",
    "q_awg_params = {\"calibration\":MagicMock()}\n",
    "q_z_awg_params = {\"calibration\":MagicMock()}\n",
    "q_lo_params = {'power':-10, 'frequency':q_freq + 100e6}\n",
    "dev_params = {'vna':[vna_parameters], \n",
    "              'ro_awg':[ro_awg_params], \n",
    "              'q_awg':[q_awg_params],\n",
    "              'q_z_awg':[q_z_awg_params],\n",
    "              'q_lo':[q_lo_params]}\n",
    "\n",
    "DRT.set_fixed_parameters(sequence_parameters, **dev_params)\n",
    "DRT.set_swept_parameters(tomo_phases, exc_amplitudes)\n",
    "DRT.set_basis((1 + 1j,-1 - 1j))"
   ]
  },
  {
   "cell_type": "code",
   "execution_count": 3,
   "metadata": {},
   "outputs": [
    {
     "name": "stdout",
     "output_type": "stream",
     "text": [
      "Started at:  2018-11-24 14:07:43.408387\n",
      "Time left: 0 h 0 m 0.0 s, [tomo_pulse_amplitude: 1.00e+00, tomo_phase: 6.00e+00], average cycle time: 0.11 s       \n",
      "Elapsed time: 0 h 0 m 26.64 s\n"
     ]
    }
   ],
   "source": [
    "drt_result = DRT.launch()"
   ]
  },
  {
   "cell_type": "code",
   "execution_count": null,
   "metadata": {},
   "outputs": [],
   "source": []
  },
  {
   "cell_type": "markdown",
   "metadata": {},
   "source": [
    "# Tomo 1q"
   ]
  },
  {
   "cell_type": "code",
   "execution_count": 5,
   "metadata": {},
   "outputs": [],
   "source": [
    "from lib2.DispersiveRadialTomography import *\n",
    "prep_pulse = [\"-X/2\",\"-X/2\",\"+Z/2\"]\n",
    "s_prep = [pulse.replace('/','_') for pulse in prep_pulse]\n",
    "DRT = DispersiveRadialTomography('tomo 1q'.join(s_prep), 'lol', \n",
    "                        vna=[vna], q_lo=[q_lo], q_awg=[q_awg], ro_awg=[ro_awg], q_z_awg=[q_z_awg])\n",
    "vna_parameters = {\"bandwidth\":10, \"freq_limits\":[6e9]*2, \"nop\":20, \"averages\":1}\n",
    "exc_frequency = 5e9\n",
    "q_freq = 5e9\n",
    "hpi = 1\n",
    "exc_amplitudes = linspace(0, 1, 11)*hpi\n",
    "tomo_phases = linspace(0, 2*pi, 22, endpoint=False)\n",
    "sequence_parameters = {\"awg_trigger_reaction_delay\":0, \"readout_duration\":3e3,\n",
    "                       \"repetition_period\": 15000, \"modulating_window\":\"rectangular\", \"pulse_length\": 200,\n",
    "                       \"prep_pulse_pi_amplitude\": hpi*2, 'padding':10, \"tomo_delay\": 10,\n",
    "                       \"prep_pulse\":prep_pulse, \"z_pulse_offset_voltage\": .1, \"z_pulse_duration\": 17.4, \n",
    "                       \"z_smoothing_coefficient\":2}\n",
    "ro_awg_params =  {\"calibration\":MagicMock()}\n",
    "q_awg_params = {\"calibration\":MagicMock()}\n",
    "q_z_awg_params = {\"calibration\":MagicMock()}\n",
    "q_lo_params = {'power':-10, 'frequency':q_freq + 100e6}\n",
    "dev_params = {'vna':[vna_parameters], \n",
    "              'ro_awg':[ro_awg_params], \n",
    "              'q_awg':[q_awg_params],\n",
    "              'q_z_awg':[q_z_awg_params],\n",
    "              'q_lo':[q_lo_params]}\n",
    "\n",
    "DRT.set_fixed_parameters(sequence_parameters, **dev_params)\n",
    "DRT.set_swept_parameters(tomo_phases, exc_amplitudes)\n",
    "DRT.set_basis((1 + 1j,-1 - 1j))"
   ]
  },
  {
   "cell_type": "code",
   "execution_count": 6,
   "metadata": {},
   "outputs": [
    {
     "name": "stdout",
     "output_type": "stream",
     "text": [
      "Started at:  2018-11-26 18:29:22.466149\n",
      "Time left: 0 h 0 m 22.21 s, [tomo_pulse_amplitude: 1.00e-01, tomo_phase: 3.14e+00], average cycle time: 0.11 s       "
     ]
    }
   ],
   "source": [
    "drt_result = DRT.launch()"
   ]
  },
  {
   "cell_type": "code",
   "execution_count": 7,
   "metadata": {},
   "outputs": [
    {
     "name": "stdout",
     "output_type": "stream",
     "text": [
      "Measurement was interrupted! \n",
      "\n",
      "Time left: 0 h 0 m 22.07 s, [tomo_pulse_amplitude: 1.00e-01, tomo_phase: 3.43e+00], average cycle time: 0.11 s       "
     ]
    }
   ],
   "source": [
    "DRT.stop()"
   ]
  },
  {
   "cell_type": "markdown",
   "metadata": {},
   "source": [
    "# Echo"
   ]
  },
  {
   "cell_type": "code",
   "execution_count": 2,
   "metadata": {},
   "outputs": [],
   "source": [
    "from lib2.DispersiveHahnEcho import *\n",
    "DHE = DispersiveHahnEcho(\"hahn-echo\", 'lol',\n",
    "                         vna=[vna], q_lo=[q_lo], q_awg=[q_awg], ro_awg=[ro_awg])\n",
    "vna_parameters= {\"bandwidth\":10, \"freq_limits\":[6e9]*2, \"nop\":10, \"averages\":1}\n",
    "q_freq = 5e9\n",
    "echo_delays = linspace(0, 20000, 201)\n",
    "sequence_parameters = {\"awg_trigger_reaction_delay\":0, \"readout_duration\":3000, \n",
    "                            \"repetition_period\":30000, \"half_pi_pulse_duration\":100/2}\n",
    "ro_awg_params =  {\"calibration\":MagicMock()}\n",
    "q_awg_params = {\"calibration\":MagicMock()}\n",
    "q_lo_params = {'power':-10, 'frequency':q_freq + 100e6}\n",
    "dev_params = {'vna':[vna_parameters], \n",
    "              'ro_awg':[ro_awg_params], \n",
    "              'q_awg':[q_awg_params],\n",
    "              'q_lo':[q_lo_params]}\n",
    "DHE.set_fixed_parameters(sequence_parameters, **dev_params)\n",
    "DHE.set_swept_parameters(echo_delays)\n",
    "# DHE.set_ult_calib(True)\n",
    "# DHE.set_basis(basis)"
   ]
  },
  {
   "cell_type": "code",
   "execution_count": 3,
   "metadata": {},
   "outputs": [
    {
     "name": "stdout",
     "output_type": "stream",
     "text": [
      "Started at:  2018-11-26 18:36:56.214881\n",
      "Time left: 0 h 0 m 8.78 s, [echo_delay: 1.15e+04], average cycle time: 0.1 s       "
     ]
    }
   ],
   "source": [
    "dhe_result = DHE.launch()"
   ]
  },
  {
   "cell_type": "markdown",
   "metadata": {},
   "source": [
    "# Decay"
   ]
  },
  {
   "cell_type": "code",
   "execution_count": 3,
   "metadata": {},
   "outputs": [],
   "source": [
    "from lib2.DispersiveDecay import *\n",
    "DD = DispersiveDecay(\"decay\", 'lol',\n",
    "                     vna=[vna], q_lo=[q_lo], q_awg=[q_awg], ro_awg=[ro_awg])\n",
    "vna_parameters= {\"bandwidth\":10, \"freq_limits\":[6e9]*2, \"nop\":10, \"averages\":1}\n",
    "q_freq = 5e9\n",
    "readout_delays = linspace(0, 20000, 51)\n",
    "decay_sequence_parameters = {\"awg_trigger_reaction_delay\":0, \"readout_duration\":3000, \n",
    "                            \"repetition_period\":30000, \"pi_pulse_duration\":100}\n",
    "ro_awg_params =  {\"calibration\":MagicMock()}\n",
    "q_awg_params = {\"calibration\":MagicMock()}\n",
    "q_lo_params = {'power':-10, 'frequency':q_freq + 100e6}\n",
    "dev_params = {'vna':[vna_parameters], \n",
    "              'ro_awg':[ro_awg_params], \n",
    "              'q_awg':[q_awg_params],\n",
    "              'q_lo':[q_lo_params]}\n",
    "DD.set_fixed_parameters(decay_sequence_parameters, **dev_params)\n",
    "DD.set_swept_parameters(readout_delays)\n",
    "#DD.set_basis(basis)"
   ]
  },
  {
   "cell_type": "code",
   "execution_count": 4,
   "metadata": {},
   "outputs": [
    {
     "name": "stdout",
     "output_type": "stream",
     "text": [
      "Started at:  2018-11-20 18:03:04.460196\n",
      "Time left: 0 h 0 m 2.27 s, [readout_delay: 1.56e+04], average cycle time: 0.21 s       "
     ]
    },
    {
     "name": "stderr",
     "output_type": "stream",
     "text": [
      "C:\\Users\\pogor\\YandexDisk\\Ustinov internship\\Measurement-automation\\lib2\\VNATimeResolvedDispersiveMeasurement1D.py:81: RuntimeWarning: invalid value encountered in sqrt\n",
      "  return result, sqrt(diag(sigma**2*inv(result.jac.T.dot(result.jac))))\n"
     ]
    },
    {
     "name": "stdout",
     "output_type": "stream",
     "text": [
      "Time left: 0 h 0 m 0.0 s, [readout_delay: 2.00e+04], average cycle time: 0.21 s       \n",
      "Elapsed time: 0 h 0 m 10.51 s\n"
     ]
    }
   ],
   "source": [
    "dd_result = DD.launch()"
   ]
  },
  {
   "cell_type": "code",
   "execution_count": 878,
   "metadata": {},
   "outputs": [],
   "source": [
    "dd_result.visualize();"
   ]
  },
  {
   "cell_type": "markdown",
   "metadata": {},
   "source": [
    "# Ramsey"
   ]
  },
  {
   "cell_type": "code",
   "execution_count": 2,
   "metadata": {},
   "outputs": [],
   "source": [
    "from lib2.DispersiveRamsey import *\n",
    "DR = DispersiveRamsey(\"ramsey\", \"lol\", \n",
    "                      vna=[vna], q_lo=[q_lo], q_awg=[q_awg], ro_awg=[ro_awg])\n",
    "vna_parameters= {\"bandwidth\":10, \"freq_limits\":[6e9]*2, \"nop\":10, \"averages\":1}\n",
    "ramsey_delays = linspace(0, 10000, 201)\n",
    "q_freq = 5e9\n",
    "exc_frequency = q_freq - 1e6\n",
    "pulse_sequence_parameters = {\"awg_trigger_reaction_delay\":0, \"readout_duration\":3000, \n",
    "                                \"repetition_period\":15000, \"half_pi_pulse_duration\":100/2}\n",
    "\n",
    "ro_awg_params =  {\"calibration\":MagicMock()}\n",
    "q_awg_params = {\"calibration\":MagicMock()}\n",
    "q_lo_params = {'power':-10, 'frequency':exc_frequency + 100e6}\n",
    "dev_params = {'vna':[vna_parameters], \n",
    "              'ro_awg':[ro_awg_params], \n",
    "              'q_awg':[q_awg_params],\n",
    "              'q_lo':[q_lo_params]}\n",
    "\n",
    "DR.set_fixed_parameters(pulse_sequence_parameters, **dev_params)\n",
    "DR.set_swept_parameters(ramsey_delays)\n",
    "DR.set_basis((1 + 1j,-1 - 1j))\n",
    "# DR.set_ult_calib(True)"
   ]
  },
  {
   "cell_type": "code",
   "execution_count": 3,
   "metadata": {},
   "outputs": [
    {
     "name": "stdout",
     "output_type": "stream",
     "text": [
      "Started at:  2018-11-21 16:53:19.454638\n",
      "Time left: 0 h 0 m 21.47 s, [ramsey_delay: 5.50e+02], average cycle time: 0.11 s       "
     ]
    },
    {
     "name": "stderr",
     "output_type": "stream",
     "text": [
      "C:\\Users\\pogor\\AppData\\Local\\Continuum\\anaconda3\\lib\\site-packages\\scipy\\optimize\\minpack.py:794: OptimizeWarning: Covariance of the parameters could not be estimated\n",
      "  category=OptimizeWarning)\n"
     ]
    },
    {
     "name": "stdout",
     "output_type": "stream",
     "text": [
      "Time left: 0 h 0 m 0.0 s, [ramsey_delay: 1.00e+04], average cycle time: 0.11 s       \n",
      "Elapsed time: 0 h 0 m 21.41 s\n"
     ]
    }
   ],
   "source": [
    "dr_result = DR.launch()"
   ]
  },
  {
   "cell_type": "markdown",
   "metadata": {},
   "source": [
    "# TTS"
   ]
  },
  {
   "cell_type": "code",
   "execution_count": 2,
   "metadata": {},
   "outputs": [
    {
     "name": "stdout",
     "output_type": "stream",
     "text": [
      "Detecting a resonator within provided frequency range of the VNA [4000000000.0, 6000000000.0]                             at 0.00 mA\n",
      "Detected frequency is 5.90000 GHz, at 0.00 mU and 0.00 degrees\n"
     ]
    }
   ],
   "source": [
    "from lib2.TwoToneSpectroscopy import *\n",
    "TTS = FluxTwoToneSpectroscopy('TTS', 'lol', \n",
    "                              vna =[vna], mw_src=[mw_src], current_src=[cur_src])\n",
    "TTS._resonator_detector = RD\n",
    "res_limits = [4e9, 6e9]\n",
    "vna_parameters = {\"bandwidth\":250, \"freq_limits\":res_limits, \"nop\":10, \"power\":-15, \"averages\":1}\n",
    "mw_src_parameters = {\"power\":0}\n",
    "mw_src_frequencies = linspace(8.5e9, 9.2e9, 51)\n",
    "center = 0\n",
    "sweet_spot = 0\n",
    "period = 1\n",
    "currents = linspace(sweet_spot - period/8, sweet_spot + period/8, 51) # comment out to use fluxes from STS\n",
    "#voltages = linspace(0, 0.9, 51) # comment out to use voltages from STS\n",
    "#sweet_spot_current = None\n",
    "dev_params = {'vna': [vna_parameters],\n",
    "              'mw_src': [mw_src_parameters]}\n",
    "TTS.set_fixed_parameters(sweet_spot_current=mean(currents), adaptive=False, **dev_params)\n",
    "#TTS.set_swept_parameters(mw_src_frequencies, voltage_values = voltages)\n",
    "TTS.set_swept_parameters(mw_src_frequencies, current_values = currents)\n",
    "TTS._measurement_result._unwrap_phase = True"
   ]
  },
  {
   "cell_type": "code",
   "execution_count": null,
   "metadata": {},
   "outputs": [
    {
     "name": "stdout",
     "output_type": "stream",
     "text": [
      "Started at:  2018-11-19 12:28:55.079793\n",
      "Time left: 0 h 7 m 7.56 s, [Current [A]: -8.00e-02, Frequency [Hz]: 8.81e+09], average cycle time: 0.2 s       "
     ]
    }
   ],
   "source": [
    "tts_result = TTS.launch()"
   ]
  },
  {
   "cell_type": "markdown",
   "metadata": {},
   "source": [
    "# STS"
   ]
  },
  {
   "cell_type": "code",
   "execution_count": 2,
   "metadata": {},
   "outputs": [
    {
     "name": "stdout",
     "output_type": "stream",
     "text": [
      "Started at:  2018-11-26 18:30:35.102341\n",
      "Time left: 0 h 0 m 2.29 s, [Current [A]: 4.20e-05], average cycle time: 0.1 s       "
     ]
    }
   ],
   "source": [
    "from lib2.SingleToneSpectroscopy import *\n",
    "currents = linspace(-.75e-4, .75e-4, 101)\n",
    "voltages = linspace(-.75,1, 101)\n",
    "res_limits = [4e9, 6e9]\n",
    "\n",
    "STS = SingleToneSpectroscopy('STS', 'lol', plot_update_interval = 1, vna = [vna], src = [cur_src])\n",
    "vna_parameters = {\"bandwidth\":500, \"freq_limits\":res_limits, \"nop\":101, \"power\":-20, \"averages\":1}\n",
    "dev_params = {'vna': [vna_parameters]}\n",
    "\n",
    "STS.set_fixed_parameters(**dev_params)\n",
    "STS._src[0].set_current(currents[0])\n",
    "sleep(1)\n",
    "STS.set_swept_parameters({'Current [A]': (STS._src[0].set_current, currents)})\n",
    "# STS.set_swept_parameters({'AWG voltage [V]': (voltage_awg.set_voltage, voltages)})\n",
    "\n",
    "sts_result = STS.launch()"
   ]
  },
  {
   "cell_type": "code",
   "execution_count": 3,
   "metadata": {},
   "outputs": [
    {
     "name": "stdout",
     "output_type": "stream",
     "text": [
      "Measurement was interrupted! \n",
      "\n",
      "Time left: 0 h 0 m 2.18 s, [Current [A]: 4.35e-05], average cycle time: 0.1 s       "
     ]
    }
   ],
   "source": [
    "STS.stop()"
   ]
  },
  {
   "cell_type": "code",
   "execution_count": 5,
   "metadata": {},
   "outputs": [
    {
     "data": {
      "text/plain": [
       "(<Figure size 1500x700 with 4 Axes>,\n",
       " array([<matplotlib.axes._subplots.AxesSubplot object at 0x00000239EC0D05F8>,\n",
       "        <matplotlib.axes._subplots.AxesSubplot object at 0x0000023980105D30>],\n",
       "       dtype=object),\n",
       " (<matplotlib.axes._axes.Axes at 0x23980134358>,\n",
       "  <matplotlib.axes._axes.Axes at 0x23980598f28>))"
      ]
     },
     "execution_count": 5,
     "metadata": {},
     "output_type": "execute_result"
    }
   ],
   "source": [
    "sts_result.visualize()"
   ]
  },
  {
   "cell_type": "code",
   "execution_count": 15,
   "metadata": {},
   "outputs": [],
   "source": [
    "from lib2.DispersiveRabiOscillations import *\n",
    "\n",
    "DRO = DispersiveRabiOscillations(\"rabi\", \"lol\", plot_update_interval=0.5,\n",
    "            vna=[vna], q_lo=[q_lo], q_awg=[q_awg], ro_awg=[ro_awg])\n",
    "vna_parameters = {\"bandwidth\":10, \"freq_limits\":[5e9]*2, \"nop\":10, \"averages\":1}\n",
    "exc_frequency = 6e9\n",
    "excitation_durations = linspace(0, 2000, 201)\n",
    "\n",
    "rabi_sequence_parameters = pulse_sequence_parameters= {\"awg_trigger_reaction_delay\":0, \"excitation_amplitude\":1,\n",
    "                                                \"readout_duration\":3000, \"repetition_period\":15000}\n",
    "ro_awg_params =  {\"calibration\":MagicMock()}\n",
    "q_awg_params = {\"calibration\":MagicMock()}\n",
    "q_lo_params = {'power':-10, 'frequency':exc_frequency + 100e6}\n",
    "dev_params = {'vna':[vna_parameters], \n",
    "              'ro_awg':[ro_awg_params], \n",
    "              'q_awg':[q_awg_params],\n",
    "              'q_lo':[q_lo_params]}\n",
    "DRO.set_fixed_parameters(rabi_sequence_parameters, **dev_params)\n",
    "DRO.set_swept_parameters(excitation_durations)\n",
    "#DRO.set_basis(basis)\n",
    "DRO.set_ult_calib(False)"
   ]
  },
  {
   "cell_type": "code",
   "execution_count": 16,
   "metadata": {},
   "outputs": [
    {
     "name": "stdout",
     "output_type": "stream",
     "text": [
      "Started at:  2018-11-20 17:46:46.153761\n",
      "Time left: 0 h 0 m 39.97 s, [excitation_duration: 6.00e+01], average cycle time: 0.21 s       "
     ]
    },
    {
     "name": "stderr",
     "output_type": "stream",
     "text": [
      "C:\\Users\\pogor\\AppData\\Local\\Continuum\\anaconda3\\lib\\site-packages\\scipy\\optimize\\minpack.py:794: OptimizeWarning: Covariance of the parameters could not be estimated\n",
      "  category=OptimizeWarning)\n"
     ]
    },
    {
     "name": "stdout",
     "output_type": "stream",
     "text": [
      "Time left: 0 h 0 m 0.0 s, [excitation_duration: 2.00e+03], average cycle time: 0.21 s       \n",
      "Elapsed time: 0 h 0 m 41.53 s\n"
     ]
    }
   ],
   "source": [
    "result = DRO.launch()"
   ]
  },
  {
   "cell_type": "code",
   "execution_count": 18,
   "metadata": {},
   "outputs": [],
   "source": [
    "basis = result.get_basis()"
   ]
  },
  {
   "cell_type": "markdown",
   "metadata": {},
   "source": [
    "# Joint Rabi"
   ]
  },
  {
   "cell_type": "code",
   "execution_count": 2,
   "metadata": {},
   "outputs": [],
   "source": [
    "from lib2.DispersiveRabiOscillationsJoint import *\n",
    "\n",
    "DROJ = DispersiveRabiOscillationsJoint(\"rabi\", \"lol\",\n",
    "            vna=[vna], q_lo=[q_lo, q_lo_2], q_awg=[q_awg, q_awg_2], ro_awg=[ro_awg], plot_update_interval=0.5, easy_fit=True)\n",
    "vna_parameters = {\"bandwidth\":10, \"freq_limits\":[5e9]*2, \"nop\":10, \"averages\":1}\n",
    "exc_frequency = 6e9\n",
    "excitation_durations = linspace(0, 2000, 201)\n",
    "\n",
    "rabi_sequence_parameters = pulse_sequence_parameters= {\"awg_trigger_reaction_delay\":0, \"excitation_amplitude\":1,\n",
    "                                                \"readout_duration\":3000, \"repetition_period\":15000}\n",
    "ro_awg_params =  {\"calibration\":MagicMock()}\n",
    "q_awg_params = {\"calibration\":MagicMock()}\n",
    "q_lo_params = {'power':-10, 'frequency':exc_frequency + 100e6}\n",
    "dev_params = {'vna':[vna_parameters], \n",
    "              'ro_awg':[ro_awg_params], \n",
    "              'q_awg':[q_awg_params, q_awg_params],\n",
    "              'q_lo':[q_lo_params, q_lo_params]}\n",
    "DROJ.set_fixed_parameters(rabi_sequence_parameters, **dev_params)\n",
    "DROJ.set_swept_parameters(excitation_durations)\n",
    "#DRO.set_basis(basis)\n",
    "DROJ.set_ult_calib(False)"
   ]
  },
  {
   "cell_type": "code",
   "execution_count": 4,
   "metadata": {},
   "outputs": [
    {
     "data": {
      "text/plain": [
       "((4.790935413073718e-09-5.807663458470066e-09j),\n",
       " (0.4996513596937032+0.49963101453408515j),\n",
       " (0.5003487301029174+0.5003690817114393j),\n",
       " (-4.9338901338982414e-09+1.1922090517258988e-09j))"
      ]
     },
     "execution_count": 4,
     "metadata": {},
     "output_type": "execute_result"
    }
   ],
   "source": [
    "droj_result.get_betas()"
   ]
  },
  {
   "cell_type": "code",
   "execution_count": null,
   "metadata": {},
   "outputs": [],
   "source": [
    "DROJ.stop()"
   ]
  },
  {
   "cell_type": "code",
   "execution_count": 5,
   "metadata": {},
   "outputs": [
    {
     "data": {
      "text/plain": [
       "(<Figure size 1500x700 with 2 Axes>,\n",
       " array([<matplotlib.axes._subplots.AxesSubplot object at 0x000002BC61E36668>,\n",
       "        <matplotlib.axes._subplots.AxesSubplot object at 0x000002BC61E4FBA8>],\n",
       "       dtype=object),\n",
       " (None, None))"
      ]
     },
     "execution_count": 5,
     "metadata": {},
     "output_type": "execute_result"
    },
    {
     "name": "stderr",
     "output_type": "stream",
     "text": [
      "Traceback (most recent call last):\n",
      "  File \"C:\\Users\\Ultmessia\\Anaconda3\\lib\\site-packages\\matplotlib\\mathtext.py\", line 2515, in parse\n",
      "    result = self._expression.parseString(s)\n",
      "  File \"C:\\Users\\Ultmessia\\Anaconda3\\lib\\site-packages\\pyparsing.py\", line 1632, in parseString\n",
      "    raise exc\n",
      "  File \"C:\\Users\\Ultmessia\\Anaconda3\\lib\\site-packages\\pyparsing.py\", line 1622, in parseString\n",
      "    loc, tokens = self._parse( instring, 0 )\n",
      "  File \"C:\\Users\\Ultmessia\\Anaconda3\\lib\\site-packages\\pyparsing.py\", line 1529, in _parseCache\n",
      "    value = self._parseNoCache(instring, loc, doActions, callPreParse)\n",
      "  File \"C:\\Users\\Ultmessia\\Anaconda3\\lib\\site-packages\\pyparsing.py\", line 1379, in _parseNoCache\n",
      "    loc,tokens = self.parseImpl( instring, preloc, doActions )\n",
      "  File \"C:\\Users\\Ultmessia\\Anaconda3\\lib\\site-packages\\pyparsing.py\", line 3717, in parseImpl\n",
      "    return self.expr._parse( instring, loc, doActions, callPreParse=False )\n",
      "  File \"C:\\Users\\Ultmessia\\Anaconda3\\lib\\site-packages\\pyparsing.py\", line 1529, in _parseCache\n",
      "    value = self._parseNoCache(instring, loc, doActions, callPreParse)\n",
      "  File \"C:\\Users\\Ultmessia\\Anaconda3\\lib\\site-packages\\pyparsing.py\", line 1379, in _parseNoCache\n",
      "    loc,tokens = self.parseImpl( instring, preloc, doActions )\n",
      "  File \"C:\\Users\\Ultmessia\\Anaconda3\\lib\\site-packages\\pyparsing.py\", line 3395, in parseImpl\n",
      "    loc, exprtokens = e._parse( instring, loc, doActions )\n",
      "  File \"C:\\Users\\Ultmessia\\Anaconda3\\lib\\site-packages\\pyparsing.py\", line 1529, in _parseCache\n",
      "    value = self._parseNoCache(instring, loc, doActions, callPreParse)\n",
      "  File \"C:\\Users\\Ultmessia\\Anaconda3\\lib\\site-packages\\pyparsing.py\", line 1383, in _parseNoCache\n",
      "    loc,tokens = self.parseImpl( instring, preloc, doActions )\n",
      "  File \"C:\\Users\\Ultmessia\\Anaconda3\\lib\\site-packages\\pyparsing.py\", line 3183, in parseImpl\n",
      "    raise ParseException(instring, loc, self.errmsg, self)\n",
      "pyparsing.ParseException: Expected end of text (at char 0), (line:1, col:1)\n",
      "\n",
      "During handling of the above exception, another exception occurred:\n",
      "\n",
      "Traceback (most recent call last):\n",
      "  File \"C:\\Users\\Ultmessia\\Anaconda3\\lib\\site-packages\\matplotlib\\backends\\backend_qt5.py\", line 519, in _draw_idle\n",
      "    self.draw()\n",
      "  File \"C:\\Users\\Ultmessia\\Anaconda3\\lib\\site-packages\\matplotlib\\backends\\backend_agg.py\", line 437, in draw\n",
      "    self.figure.draw(self.renderer)\n",
      "  File \"C:\\Users\\Ultmessia\\Anaconda3\\lib\\site-packages\\matplotlib\\artist.py\", line 55, in draw_wrapper\n",
      "    return draw(artist, renderer, *args, **kwargs)\n",
      "  File \"C:\\Users\\Ultmessia\\Anaconda3\\lib\\site-packages\\matplotlib\\figure.py\", line 1493, in draw\n",
      "    renderer, self, artists, self.suppressComposite)\n",
      "  File \"C:\\Users\\Ultmessia\\Anaconda3\\lib\\site-packages\\matplotlib\\image.py\", line 141, in _draw_list_compositing_images\n",
      "    a.draw(renderer)\n",
      "  File \"C:\\Users\\Ultmessia\\Anaconda3\\lib\\site-packages\\matplotlib\\artist.py\", line 55, in draw_wrapper\n",
      "    return draw(artist, renderer, *args, **kwargs)\n",
      "  File \"C:\\Users\\Ultmessia\\Anaconda3\\lib\\site-packages\\matplotlib\\axes\\_base.py\", line 2635, in draw\n",
      "    mimage._draw_list_compositing_images(renderer, self, artists)\n",
      "  File \"C:\\Users\\Ultmessia\\Anaconda3\\lib\\site-packages\\matplotlib\\image.py\", line 141, in _draw_list_compositing_images\n",
      "    a.draw(renderer)\n",
      "  File \"C:\\Users\\Ultmessia\\Anaconda3\\lib\\site-packages\\matplotlib\\artist.py\", line 55, in draw_wrapper\n",
      "    return draw(artist, renderer, *args, **kwargs)\n",
      "  File \"C:\\Users\\Ultmessia\\Anaconda3\\lib\\site-packages\\matplotlib\\text.py\", line 2292, in draw\n",
      "    self.update_bbox_position_size(renderer)\n",
      "  File \"C:\\Users\\Ultmessia\\Anaconda3\\lib\\site-packages\\matplotlib\\text.py\", line 499, in update_bbox_position_size\n",
      "    x_box, y_box, w_box, h_box = _get_textbox(self, renderer)\n",
      "  File \"C:\\Users\\Ultmessia\\Anaconda3\\lib\\site-packages\\matplotlib\\text.py\", line 97, in _get_textbox\n",
      "    _, parts, d = text._get_layout(renderer)\n",
      "  File \"C:\\Users\\Ultmessia\\Anaconda3\\lib\\site-packages\\matplotlib\\text.py\", line 309, in _get_layout\n",
      "    ismath=ismath)\n",
      "  File \"C:\\Users\\Ultmessia\\Anaconda3\\lib\\site-packages\\matplotlib\\backends\\backend_agg.py\", line 241, in get_text_width_height_descent\n",
      "    self.mathtext_parser.parse(s, self.dpi, prop)\n",
      "  File \"C:\\Users\\Ultmessia\\Anaconda3\\lib\\site-packages\\matplotlib\\mathtext.py\", line 3293, in parse\n",
      "    box = self._parser.parse(s, font_output, fontsize, dpi)\n",
      "  File \"C:\\Users\\Ultmessia\\Anaconda3\\lib\\site-packages\\matplotlib\\mathtext.py\", line 2521, in parse\n",
      "    six.text_type(err)]))\n",
      "ValueError: \n",
      "eta_{II} = 0.00 + -0.00 i$\n",
      "^\n",
      "Expected end of text (at char 0), (line:1, col:1)\n",
      "Traceback (most recent call last):\n",
      "  File \"C:\\Users\\Ultmessia\\Anaconda3\\lib\\site-packages\\matplotlib\\mathtext.py\", line 2515, in parse\n",
      "    result = self._expression.parseString(s)\n",
      "  File \"C:\\Users\\Ultmessia\\Anaconda3\\lib\\site-packages\\pyparsing.py\", line 1632, in parseString\n",
      "    raise exc\n",
      "  File \"C:\\Users\\Ultmessia\\Anaconda3\\lib\\site-packages\\pyparsing.py\", line 1622, in parseString\n",
      "    loc, tokens = self._parse( instring, 0 )\n",
      "  File \"C:\\Users\\Ultmessia\\Anaconda3\\lib\\site-packages\\pyparsing.py\", line 1529, in _parseCache\n",
      "    value = self._parseNoCache(instring, loc, doActions, callPreParse)\n",
      "  File \"C:\\Users\\Ultmessia\\Anaconda3\\lib\\site-packages\\pyparsing.py\", line 1379, in _parseNoCache\n",
      "    loc,tokens = self.parseImpl( instring, preloc, doActions )\n",
      "  File \"C:\\Users\\Ultmessia\\Anaconda3\\lib\\site-packages\\pyparsing.py\", line 3717, in parseImpl\n",
      "    return self.expr._parse( instring, loc, doActions, callPreParse=False )\n",
      "  File \"C:\\Users\\Ultmessia\\Anaconda3\\lib\\site-packages\\pyparsing.py\", line 1529, in _parseCache\n",
      "    value = self._parseNoCache(instring, loc, doActions, callPreParse)\n",
      "  File \"C:\\Users\\Ultmessia\\Anaconda3\\lib\\site-packages\\pyparsing.py\", line 1379, in _parseNoCache\n",
      "    loc,tokens = self.parseImpl( instring, preloc, doActions )\n",
      "  File \"C:\\Users\\Ultmessia\\Anaconda3\\lib\\site-packages\\pyparsing.py\", line 3395, in parseImpl\n",
      "    loc, exprtokens = e._parse( instring, loc, doActions )\n",
      "  File \"C:\\Users\\Ultmessia\\Anaconda3\\lib\\site-packages\\pyparsing.py\", line 1529, in _parseCache\n",
      "    value = self._parseNoCache(instring, loc, doActions, callPreParse)\n",
      "  File \"C:\\Users\\Ultmessia\\Anaconda3\\lib\\site-packages\\pyparsing.py\", line 1383, in _parseNoCache\n",
      "    loc,tokens = self.parseImpl( instring, preloc, doActions )\n",
      "  File \"C:\\Users\\Ultmessia\\Anaconda3\\lib\\site-packages\\pyparsing.py\", line 3183, in parseImpl\n",
      "    raise ParseException(instring, loc, self.errmsg, self)\n",
      "pyparsing.ParseException: Expected end of text (at char 0), (line:1, col:1)\n",
      "\n",
      "During handling of the above exception, another exception occurred:\n",
      "\n",
      "Traceback (most recent call last):\n",
      "  File \"C:\\Users\\Ultmessia\\Anaconda3\\lib\\site-packages\\matplotlib\\backends\\backend_qt5.py\", line 519, in _draw_idle\n",
      "    self.draw()\n",
      "  File \"C:\\Users\\Ultmessia\\Anaconda3\\lib\\site-packages\\matplotlib\\backends\\backend_agg.py\", line 437, in draw\n",
      "    self.figure.draw(self.renderer)\n",
      "  File \"C:\\Users\\Ultmessia\\Anaconda3\\lib\\site-packages\\matplotlib\\artist.py\", line 55, in draw_wrapper\n",
      "    return draw(artist, renderer, *args, **kwargs)\n",
      "  File \"C:\\Users\\Ultmessia\\Anaconda3\\lib\\site-packages\\matplotlib\\figure.py\", line 1493, in draw\n",
      "    renderer, self, artists, self.suppressComposite)\n",
      "  File \"C:\\Users\\Ultmessia\\Anaconda3\\lib\\site-packages\\matplotlib\\image.py\", line 141, in _draw_list_compositing_images\n",
      "    a.draw(renderer)\n",
      "  File \"C:\\Users\\Ultmessia\\Anaconda3\\lib\\site-packages\\matplotlib\\artist.py\", line 55, in draw_wrapper\n",
      "    return draw(artist, renderer, *args, **kwargs)\n",
      "  File \"C:\\Users\\Ultmessia\\Anaconda3\\lib\\site-packages\\matplotlib\\axes\\_base.py\", line 2635, in draw\n",
      "    mimage._draw_list_compositing_images(renderer, self, artists)\n",
      "  File \"C:\\Users\\Ultmessia\\Anaconda3\\lib\\site-packages\\matplotlib\\image.py\", line 141, in _draw_list_compositing_images\n",
      "    a.draw(renderer)\n",
      "  File \"C:\\Users\\Ultmessia\\Anaconda3\\lib\\site-packages\\matplotlib\\artist.py\", line 55, in draw_wrapper\n",
      "    return draw(artist, renderer, *args, **kwargs)\n",
      "  File \"C:\\Users\\Ultmessia\\Anaconda3\\lib\\site-packages\\matplotlib\\text.py\", line 2292, in draw\n",
      "    self.update_bbox_position_size(renderer)\n",
      "  File \"C:\\Users\\Ultmessia\\Anaconda3\\lib\\site-packages\\matplotlib\\text.py\", line 499, in update_bbox_position_size\n",
      "    x_box, y_box, w_box, h_box = _get_textbox(self, renderer)\n",
      "  File \"C:\\Users\\Ultmessia\\Anaconda3\\lib\\site-packages\\matplotlib\\text.py\", line 97, in _get_textbox\n",
      "    _, parts, d = text._get_layout(renderer)\n",
      "  File \"C:\\Users\\Ultmessia\\Anaconda3\\lib\\site-packages\\matplotlib\\text.py\", line 309, in _get_layout\n",
      "    ismath=ismath)\n",
      "  File \"C:\\Users\\Ultmessia\\Anaconda3\\lib\\site-packages\\matplotlib\\backends\\backend_agg.py\", line 241, in get_text_width_height_descent\n",
      "    self.mathtext_parser.parse(s, self.dpi, prop)\n",
      "  File \"C:\\Users\\Ultmessia\\Anaconda3\\lib\\site-packages\\matplotlib\\mathtext.py\", line 3293, in parse\n",
      "    box = self._parser.parse(s, font_output, fontsize, dpi)\n",
      "  File \"C:\\Users\\Ultmessia\\Anaconda3\\lib\\site-packages\\matplotlib\\mathtext.py\", line 2521, in parse\n",
      "    six.text_type(err)]))\n",
      "ValueError: \n",
      "eta_{II} = 0.00 + -0.00 i$\n",
      "^\n",
      "Expected end of text (at char 0), (line:1, col:1)\n"
     ]
    }
   ],
   "source": [
    "droj_result.visualize()"
   ]
  },
  {
   "cell_type": "code",
   "execution_count": 3,
   "metadata": {},
   "outputs": [
    {
     "name": "stdout",
     "output_type": "stream",
     "text": [
      "Started at:  2018-11-27 11:34:44.533152\n",
      "Time left: 0 h 0 m 36.55 s, [excitation_duration: 2.50e+02], average cycle time: 0.21 s       Fit failed unexpectedly: Singular matrix\n",
      "[0.04946950299855734, 0.04946950299855734, 0.04946950299855734, 0.04946950299855734, 0.04946950299855734, 0.04946950299855734, 0.04946950299855734, 0.04946950299855734, 0.694336181258136, 0.694336181258136, 43.62642892324302, 0.694336181258136, 0.694336181258136, 43.62642892324302] ([-0.09893900599711468, -0.09893900599711468, -0.09893900599711468, -0.09893900599711468, -0.09893900599711468, -0.09893900599711468, -0.09893900599711468, -0.09893900599711468, 1e-07, 1e-07, 6.283185307179586e-06, 1e-07, 1e-07, 6.283185307179586e-06], [0.09893900599711468, 0.09893900599711468, 0.09893900599711468, 0.09893900599711468, 0.09893900599711468, 0.09893900599711468, 0.09893900599711468, 0.09893900599711468, 1.0, 1.0, 62.83185307179586, 1.0, 1.0, 62.83185307179586])\n",
      "Fit failed unexpectedly: Singular matrix\n",
      "Time left: 0 h 0 m 36.32 s, [excitation_duration: 2.60e+02], average cycle time: 0.21 s       "
     ]
    },
    {
     "name": "stderr",
     "output_type": "stream",
     "text": [
      "C:\\Users\\Ultmessia\\YandexDisk\\Ustinov internship\\Measurement-automation\\lib2\\DispersiveRabiOscillationsJoint.py:45: RuntimeWarning: invalid value encountered in sqrt\n",
      "  omega_r_2 = sqrt(omega_r ** 2 - (1 / tau_r) ** 2)\n"
     ]
    },
    {
     "name": "stdout",
     "output_type": "stream",
     "text": [
      "Time left: 0 h 0 m 35.53 s, [excitation_duration: 3.00e+02], average cycle time: 0.21 s       Fit failed unexpectedly: Singular matrix\n",
      "[-3.19057948e-06 -3.19057969e-06  4.99774346e-01  4.99743006e-01\n",
      "  5.00257901e-01  5.00233091e-01 -6.94113676e-07 -1.25732020e-06\n",
      "  8.68854367e-06  8.68854367e-06  9.98929075e+00  6.61440319e-06\n",
      "  6.61440319e-06  1.00106679e+01] ([-1.8768887533689473, -1.8768887533689473, -1.8768887533689473, -1.8768887533689473, -1.8768887533689473, -1.8768887533689473, -1.8768887533689473, -1.8768887533689473, 1e-07, 1e-07, 6.283185307179586e-06, 1e-07, 1e-07, 6.283185307179586e-06], [1.8768887533689473, 1.8768887533689473, 1.8768887533689473, 1.8768887533689473, 1.8768887533689473, 1.8768887533689473, 1.8768887533689473, 1.8768887533689473, 1.0, 1.0, 62.83185307179586, 1.0, 1.0, 62.83185307179586])\n",
      "Fit failed unexpectedly: Singular matrix\n",
      "Time left: 0 h 0 m 35.05 s, [excitation_duration: 3.30e+02], average cycle time: 0.21 s       "
     ]
    },
    {
     "name": "stderr",
     "output_type": "stream",
     "text": [
      "C:\\Users\\Ultmessia\\YandexDisk\\Ustinov internship\\Measurement-automation\\lib2\\VNATimeResolvedDispersiveMeasurement1D.py:81: RuntimeWarning: invalid value encountered in sqrt\n",
      "  return result, sqrt(diag(sigma ** 2 * inv(result.jac.T.dot(result.jac))))\n"
     ]
    },
    {
     "name": "stdout",
     "output_type": "stream",
     "text": [
      "Time left: 0 h 0 m 34.66 s, [excitation_duration: 3.50e+02], average cycle time: 0.21 s       Fit failed unexpectedly: Singular matrix\n",
      "[ 1.89284096e-02  1.89284097e-02 -2.89581527e-02 -2.89773889e-02\n",
      "  8.18422959e-03  8.20184647e-03  1.02920639e+00  1.02710016e+00\n",
      "  7.29211197e-07  7.29211197e-07  5.96979830e+01  1.06669802e-07\n",
      "  1.06669802e-07  4.89012691e+01] ([-2.0191351502732795, -2.0191351502732795, -2.0191351502732795, -2.0191351502732795, -2.0191351502732795, -2.0191351502732795, -2.0191351502732795, -2.0191351502732795, 1e-07, 1e-07, 6.283185307179586e-06, 1e-07, 1e-07, 6.283185307179586e-06], [2.0191351502732795, 2.0191351502732795, 2.0191351502732795, 2.0191351502732795, 2.0191351502732795, 2.0191351502732795, 2.0191351502732795, 2.0191351502732795, 1.0, 1.0, 62.83185307179586, 1.0, 1.0, 62.83185307179586])\n",
      "Fit failed unexpectedly: Singular matrix\n",
      "Time left: 0 h 0 m 29.07 s, [excitation_duration: 6.20e+02], average cycle time: 0.21 s       Fit failed unexpectedly: Singular matrix\n",
      "[1.0095675751366397, 1.0095675751366397, 1.0095675751366397, 1.0095675751366397, 1.0095675751366397, 1.0095675751366397, 1.0095675751366397, 1.0095675751366397, 0.40368507313255647, 0.40368507313255647, 25.364281202341957, 0.40368507313255647, 0.40368507313255647, 25.364281202341957] ([-2.0191351502732795, -2.0191351502732795, -2.0191351502732795, -2.0191351502732795, -2.0191351502732795, -2.0191351502732795, -2.0191351502732795, -2.0191351502732795, 1e-07, 1e-07, 6.283185307179586e-06, 1e-07, 1e-07, 6.283185307179586e-06], [2.0191351502732795, 2.0191351502732795, 2.0191351502732795, 2.0191351502732795, 2.0191351502732795, 2.0191351502732795, 2.0191351502732795, 2.0191351502732795, 1.0, 1.0, 62.83185307179586, 1.0, 1.0, 62.83185307179586])\n",
      "Fit failed unexpectedly: Singular matrix\n",
      "Time left: 0 h 0 m 27.22 s, [excitation_duration: 7.10e+02], average cycle time: 0.21 s       Fit failed unexpectedly: Singular matrix\n",
      "[-8.87033630e-09 -7.21833734e-09  4.99919593e-01  4.99919600e-01\n",
      "  5.00080400e-01  5.00080467e-01  1.93277003e-09  8.22948723e-09\n",
      "  1.05982385e-07  1.05982385e-07  9.99998970e+00  1.05952645e-07\n",
      "  1.05952645e-07  1.00000104e+01] ([-2.0191351502732795, -2.0191351502732795, -2.0191351502732795, -2.0191351502732795, -2.0191351502732795, -2.0191351502732795, -2.0191351502732795, -2.0191351502732795, 1e-07, 1e-07, 6.283185307179586e-06, 1e-07, 1e-07, 6.283185307179586e-06], [2.0191351502732795, 2.0191351502732795, 2.0191351502732795, 2.0191351502732795, 2.0191351502732795, 2.0191351502732795, 2.0191351502732795, 2.0191351502732795, 1.0, 1.0, 62.83185307179586, 1.0, 1.0, 62.83185307179586])\n",
      "Fit failed unexpectedly: Singular matrix\n",
      "Time left: 0 h 0 m 26.58 s, [excitation_duration: 7.40e+02], average cycle time: 0.21 s       Fit failed unexpectedly: Singular matrix\n",
      "[ 1.59069547e-01  1.59069549e-01  1.39477960e-02  1.38824036e-02\n",
      "  2.67286155e-03  2.45910197e-03 -3.26252219e-01 -3.20445740e-01\n",
      "  1.00000000e-07  1.00000000e-07  6.15778685e+01  1.00000000e-07\n",
      "  1.00000000e-07  5.81463516e+01] ([-2.0191351502732795, -2.0191351502732795, -2.0191351502732795, -2.0191351502732795, -2.0191351502732795, -2.0191351502732795, -2.0191351502732795, -2.0191351502732795, 1e-07, 1e-07, 6.283185307179586e-06, 1e-07, 1e-07, 6.283185307179586e-06], [2.0191351502732795, 2.0191351502732795, 2.0191351502732795, 2.0191351502732795, 2.0191351502732795, 2.0191351502732795, 2.0191351502732795, 2.0191351502732795, 1.0, 1.0, 62.83185307179586, 1.0, 1.0, 62.83185307179586])\n",
      "Fit failed unexpectedly: Singular matrix\n",
      "Time left: 0 h 0 m 25.74 s, [excitation_duration: 7.80e+02], average cycle time: 0.21 s       Fit failed unexpectedly: Singular matrix\n",
      "[ 1.65998954e-01  1.65998951e-01  8.59694961e-03  9.73045835e-03\n",
      "  2.06473408e-02  2.09339690e-02 -3.25955840e-01 -3.28788138e-01\n",
      "  1.00000000e-07  1.00000000e-07  5.20242392e+01  1.00000000e-07\n",
      "  1.00000000e-07  5.54579640e+01] ([-2.0191351502732795, -2.0191351502732795, -2.0191351502732795, -2.0191351502732795, -2.0191351502732795, -2.0191351502732795, -2.0191351502732795, -2.0191351502732795, 1e-07, 1e-07, 6.283185307179586e-06, 1e-07, 1e-07, 6.283185307179586e-06], [2.0191351502732795, 2.0191351502732795, 2.0191351502732795, 2.0191351502732795, 2.0191351502732795, 2.0191351502732795, 2.0191351502732795, 2.0191351502732795, 1.0, 1.0, 62.83185307179586, 1.0, 1.0, 62.83185307179586])\n",
      "Fit failed unexpectedly: Singular matrix\n",
      "Time left: 0 h 0 m 25.53 s, [excitation_duration: 7.90e+02], average cycle time: 0.21 s       Fit failed unexpectedly: Singular matrix\n",
      "[-9.99999604e-01 -1.00000093e+00 -2.05464952e-01 -2.05460059e-01\n",
      "  2.05462502e-01  2.05461230e-01  2.00000096e+00  2.00000091e+00\n",
      "  6.83179979e-07  6.83179979e-07  5.00000200e+00  3.20679078e-07\n",
      "  3.20679078e-07  4.99999746e+00] ([-2.0191351502732795, -2.0191351502732795, -2.0191351502732795, -2.0191351502732795, -2.0191351502732795, -2.0191351502732795, -2.0191351502732795, -2.0191351502732795, 1e-07, 1e-07, 6.283185307179586e-06, 1e-07, 1e-07, 6.283185307179586e-06], [2.0191351502732795, 2.0191351502732795, 2.0191351502732795, 2.0191351502732795, 2.0191351502732795, 2.0191351502732795, 2.0191351502732795, 2.0191351502732795, 1.0, 1.0, 62.83185307179586, 1.0, 1.0, 62.83185307179586])\n",
      "Fit failed unexpectedly: Singular matrix\n",
      "Time left: 0 h 0 m 24.07 s, [excitation_duration: 8.60e+02], average cycle time: 0.21 s       Fit failed unexpectedly: Singular matrix\n",
      "[ 1.51851947e-01  1.51851947e-01  3.91294326e-02  3.91294479e-02\n",
      " -7.45191246e-03 -7.45181991e-03 -3.01861506e-01 -3.01861536e-01\n",
      "  7.55108738e-06  7.55108738e-06  4.53703021e+01  2.90977694e-06\n",
      "  2.90977694e-06  4.19301148e+01] ([-2.0191351502732795, -2.0191351502732795, -2.0191351502732795, -2.0191351502732795, -2.0191351502732795, -2.0191351502732795, -2.0191351502732795, -2.0191351502732795, 1e-07, 1e-07, 6.283185307179586e-06, 1e-07, 1e-07, 6.283185307179586e-06], [2.0191351502732795, 2.0191351502732795, 2.0191351502732795, 2.0191351502732795, 2.0191351502732795, 2.0191351502732795, 2.0191351502732795, 2.0191351502732795, 1.0, 1.0, 62.83185307179586, 1.0, 1.0, 62.83185307179586])\n",
      "Fit failed unexpectedly: Singular matrix\n",
      "Time left: 0 h 0 m 23.23 s, [excitation_duration: 9.00e+02], average cycle time: 0.21 s       Fit failed unexpectedly: Singular matrix\n",
      "[ 4.38640844e-02  4.38639857e-02  1.61440809e-02  1.71828714e-02\n",
      " -2.19269654e-03 -3.27018432e-03  8.82292645e-01  1.22405881e+00\n",
      "  1.00000000e-07  1.00000000e-07  4.80483190e+01  2.09279787e-01\n",
      "  2.09279787e-01  5.80908336e+01] ([-2.0191351502732795, -2.0191351502732795, -2.0191351502732795, -2.0191351502732795, -2.0191351502732795, -2.0191351502732795, -2.0191351502732795, -2.0191351502732795, 1e-07, 1e-07, 6.283185307179586e-06, 1e-07, 1e-07, 6.283185307179586e-06], [2.0191351502732795, 2.0191351502732795, 2.0191351502732795, 2.0191351502732795, 2.0191351502732795, 2.0191351502732795, 2.0191351502732795, 2.0191351502732795, 1.0, 1.0, 62.83185307179586, 1.0, 1.0, 62.83185307179586])\n",
      "Fit failed unexpectedly: Singular matrix\n",
      "Time left: 0 h 0 m 22.37 s, [excitation_duration: 9.40e+02], average cycle time: 0.21 s       Fit failed unexpectedly: Singular matrix\n",
      "[ 2.50427415e-02  2.50427569e-02 -4.59895638e-03 -8.13649565e-03\n",
      "  1.84039679e-02  1.73072968e-02  1.08529750e+00  9.62267425e-01\n",
      "  9.02413537e-02  9.02413537e-02  4.89395238e+01  1.00000000e-07\n",
      "  1.00000000e-07  3.88454990e+01] ([-2.0191351502732795, -2.0191351502732795, -2.0191351502732795, -2.0191351502732795, -2.0191351502732795, -2.0191351502732795, -2.0191351502732795, -2.0191351502732795, 1e-07, 1e-07, 6.283185307179586e-06, 1e-07, 1e-07, 6.283185307179586e-06], [2.0191351502732795, 2.0191351502732795, 2.0191351502732795, 2.0191351502732795, 2.0191351502732795, 2.0191351502732795, 2.0191351502732795, 2.0191351502732795, 1.0, 1.0, 62.83185307179586, 1.0, 1.0, 62.83185307179586])\n",
      "Fit failed unexpectedly: Singular matrix\n",
      "Time left: 0 h 0 m 21.94 s, [excitation_duration: 9.60e+02], average cycle time: 0.21 s       Fit failed unexpectedly: Singular matrix\n",
      "[-0.08819607 -0.08819607 -1.97903594 -1.9793455   2.01968969  2.01968975\n",
      "  0.36441452  0.36268856  1.          1.         39.17744285  1.\n",
      "  1.         39.06326444] ([-2.0196930420352066, -2.0196930420352066, -2.0196930420352066, -2.0196930420352066, -2.0196930420352066, -2.0196930420352066, -2.0196930420352066, -2.0196930420352066, 1e-07, 1e-07, 6.283185307179586e-06, 1e-07, 1e-07, 6.283185307179586e-06], [2.0196930420352066, 2.0196930420352066, 2.0196930420352066, 2.0196930420352066, 2.0196930420352066, 2.0196930420352066, 2.0196930420352066, 2.0196930420352066, 1.0, 1.0, 62.83185307179586, 1.0, 1.0, 62.83185307179586])\n",
      "Fit failed unexpectedly: Singular matrix\n",
      "Time left: 0 h 0 m 21.51 s, [excitation_duration: 9.80e+02], average cycle time: 0.21 s       Fit failed unexpectedly: Singular matrix\n",
      "[-0.112195   -0.112195    0.16708333  0.16720048 -0.13298728 -0.13301576\n",
      "  0.41305899  0.41303377  1.          1.         50.62933065  1.\n",
      "  1.         51.56084584] ([-2.0196930420352066, -2.0196930420352066, -2.0196930420352066, -2.0196930420352066, -2.0196930420352066, -2.0196930420352066, -2.0196930420352066, -2.0196930420352066, 1e-07, 1e-07, 6.283185307179586e-06, 1e-07, 1e-07, 6.283185307179586e-06], [2.0196930420352066, 2.0196930420352066, 2.0196930420352066, 2.0196930420352066, 2.0196930420352066, 2.0196930420352066, 2.0196930420352066, 2.0196930420352066, 1.0, 1.0, 62.83185307179586, 1.0, 1.0, 62.83185307179586])\n",
      "Fit failed unexpectedly: Singular matrix\n",
      "Time left: 0 h 0 m 21.29 s, [excitation_duration: 9.90e+02], average cycle time: 0.21 s       Fit failed unexpectedly: Singular matrix\n",
      "[-0.13620146 -0.13620146  0.28722549  0.28722318 -0.28267916 -0.28267903\n",
      "  0.46165845  0.46165197  1.          1.         28.8738856   1.\n",
      "  1.         27.9429975 ] ([-2.0196930420352066, -2.0196930420352066, -2.0196930420352066, -2.0196930420352066, -2.0196930420352066, -2.0196930420352066, -2.0196930420352066, -2.0196930420352066, 1e-07, 1e-07, 6.283185307179586e-06, 1e-07, 1e-07, 6.283185307179586e-06], [2.0196930420352066, 2.0196930420352066, 2.0196930420352066, 2.0196930420352066, 2.0196930420352066, 2.0196930420352066, 2.0196930420352066, 2.0196930420352066, 1.0, 1.0, 62.83185307179586, 1.0, 1.0, 62.83185307179586])\n",
      "Fit failed unexpectedly: Singular matrix\n",
      "Time left: 0 h 0 m 20.22 s, [excitation_duration: 1.04e+03], average cycle time: 0.21 s       Fit failed unexpectedly: Singular matrix\n",
      "[-2.66534022e-02 -2.66534019e-02 -5.31497009e-03 -7.15783106e-03\n",
      " -5.53438399e-03 -4.09371576e-03  9.70881522e-01  1.07308298e+00\n",
      "  1.00000000e-07  1.00000000e-07  5.70343032e+01  1.00000000e-07\n",
      "  1.00000000e-07  4.70206183e+01] ([-2.0196930420352066, -2.0196930420352066, -2.0196930420352066, -2.0196930420352066, -2.0196930420352066, -2.0196930420352066, -2.0196930420352066, -2.0196930420352066, 1e-07, 1e-07, 6.283185307179586e-06, 1e-07, 1e-07, 6.283185307179586e-06], [2.0196930420352066, 2.0196930420352066, 2.0196930420352066, 2.0196930420352066, 2.0196930420352066, 2.0196930420352066, 2.0196930420352066, 2.0196930420352066, 1.0, 1.0, 62.83185307179586, 1.0, 1.0, 62.83185307179586])\n",
      "Fit failed unexpectedly: Singular matrix\n",
      "Time left: 0 h 0 m 19.39 s, [excitation_duration: 1.08e+03], average cycle time: 0.21 s       Fit failed unexpectedly: Singular matrix\n",
      "[-3.55802444e-02 -3.55802447e-02 -1.20836000e-02 -1.02046892e-02\n",
      " -5.44238328e-03 -3.76152287e-03  1.01512517e+00  1.01944524e+00\n",
      "  1.00000000e-07  1.00000000e-07  3.95905878e+01  1.00000000e-07\n",
      "  1.00000000e-07  4.95709477e+01] ([-2.0196930420352066, -2.0196930420352066, -2.0196930420352066, -2.0196930420352066, -2.0196930420352066, -2.0196930420352066, -2.0196930420352066, -2.0196930420352066, 1e-07, 1e-07, 6.283185307179586e-06, 1e-07, 1e-07, 6.283185307179586e-06], [2.0196930420352066, 2.0196930420352066, 2.0196930420352066, 2.0196930420352066, 2.0196930420352066, 2.0196930420352066, 2.0196930420352066, 2.0196930420352066, 1.0, 1.0, 62.83185307179586, 1.0, 1.0, 62.83185307179586])\n",
      "Fit failed unexpectedly: Singular matrix\n",
      "Time left: 0 h 0 m 18.34 s, [excitation_duration: 1.13e+03], average cycle time: 0.21 s       Fit failed unexpectedly: Singular matrix\n",
      "[-5.25528218e-02 -5.25528220e-02 -6.31155717e-03 -1.25869779e-02\n",
      "  5.90386455e-03 -8.36360081e-04  9.97615725e-01  1.05863281e+00\n",
      "  5.63329054e-02  5.63329054e-02  4.60207795e+01  1.00000000e-07\n",
      "  1.00000000e-07  3.61127429e+01] ([-2.0196930420352066, -2.0196930420352066, -2.0196930420352066, -2.0196930420352066, -2.0196930420352066, -2.0196930420352066, -2.0196930420352066, -2.0196930420352066, 1e-07, 1e-07, 6.283185307179586e-06, 1e-07, 1e-07, 6.283185307179586e-06], [2.0196930420352066, 2.0196930420352066, 2.0196930420352066, 2.0196930420352066, 2.0196930420352066, 2.0196930420352066, 2.0196930420352066, 2.0196930420352066, 1.0, 1.0, 62.83185307179586, 1.0, 1.0, 62.83185307179586])\n",
      "Fit failed unexpectedly: Singular matrix\n",
      "Time left: 0 h 0 m 17.91 s, [excitation_duration: 1.15e+03], average cycle time: 0.21 s       Fit failed unexpectedly: Singular matrix\n",
      "[-0.17364191 -0.17364191  0.23519585  0.23519222 -0.19925705 -0.19925763\n",
      "  0.53220394  0.53221783  1.          1.         22.34473239  0.99999993\n",
      "  0.99999993 21.19696938] ([-2.0196930420352066, -2.0196930420352066, -2.0196930420352066, -2.0196930420352066, -2.0196930420352066, -2.0196930420352066, -2.0196930420352066, -2.0196930420352066, 1e-07, 1e-07, 6.283185307179586e-06, 1e-07, 1e-07, 6.283185307179586e-06], [2.0196930420352066, 2.0196930420352066, 2.0196930420352066, 2.0196930420352066, 2.0196930420352066, 2.0196930420352066, 2.0196930420352066, 2.0196930420352066, 1.0, 1.0, 62.83185307179586, 1.0, 1.0, 62.83185307179586])\n",
      "Fit failed unexpectedly: Singular matrix\n",
      "Time left: 0 h 0 m 17.28 s, [excitation_duration: 1.18e+03], average cycle time: 0.21 s       Fit failed unexpectedly: Singular matrix\n",
      "[ 8.47456180e-08  8.47453138e-08 -4.82887948e-01 -4.82885825e-01\n",
      "  1.48288921e+00  1.48288336e+00 -1.88949162e-06  1.82906196e-06\n",
      "  4.58160859e-03  4.58160859e-03  1.00007613e+01  1.48954367e-03\n",
      "  1.48954367e-03  1.00002471e+01] ([-2.0196930420352066, -2.0196930420352066, -2.0196930420352066, -2.0196930420352066, -2.0196930420352066, -2.0196930420352066, -2.0196930420352066, -2.0196930420352066, 1e-07, 1e-07, 6.283185307179586e-06, 1e-07, 1e-07, 6.283185307179586e-06], [2.0196930420352066, 2.0196930420352066, 2.0196930420352066, 2.0196930420352066, 2.0196930420352066, 2.0196930420352066, 2.0196930420352066, 2.0196930420352066, 1.0, 1.0, 62.83185307179586, 1.0, 1.0, 62.83185307179586])\n",
      "Fit failed unexpectedly: Singular matrix\n",
      "Time left: 0 h 0 m 14.95 s, [excitation_duration: 1.29e+03], average cycle time: 0.21 s       Fit failed unexpectedly: Singular matrix\n",
      "[-1.00005236e+00 -9.99947683e-01 -6.07223103e-02 -6.08830202e-02\n",
      "  6.12186211e-02  6.03865526e-02  2.00000041e+00  1.99999999e+00\n",
      "  1.02028015e-07  1.02028015e-07  4.99999939e+00  1.01988281e-07\n",
      "  1.01988281e-07  5.00000075e+00] ([-2.0196930420352066, -2.0196930420352066, -2.0196930420352066, -2.0196930420352066, -2.0196930420352066, -2.0196930420352066, -2.0196930420352066, -2.0196930420352066, 1e-07, 1e-07, 6.283185307179586e-06, 1e-07, 1e-07, 6.283185307179586e-06], [2.0196930420352066, 2.0196930420352066, 2.0196930420352066, 2.0196930420352066, 2.0196930420352066, 2.0196930420352066, 2.0196930420352066, 2.0196930420352066, 1.0, 1.0, 62.83185307179586, 1.0, 1.0, 62.83185307179586])\n",
      "Fit failed unexpectedly: Singular matrix\n",
      "Time left: 0 h 0 m 14.52 s, [excitation_duration: 1.31e+03], average cycle time: 0.21 s       Fit failed unexpectedly: Singular matrix\n",
      "[ 1.97642907e-02  1.97642907e-02 -1.92222538e+00 -1.92220668e+00\n",
      "  2.01968526e+00  2.01969216e+00  9.48726590e-02  9.48839440e-02\n",
      "  8.78184886e-01  8.78184886e-01  5.65552813e+01  1.00000000e+00\n",
      "  1.00000000e+00  5.65526592e+01] ([-2.0196930420352066, -2.0196930420352066, -2.0196930420352066, -2.0196930420352066, -2.0196930420352066, -2.0196930420352066, -2.0196930420352066, -2.0196930420352066, 1e-07, 1e-07, 6.283185307179586e-06, 1e-07, 1e-07, 6.283185307179586e-06], [2.0196930420352066, 2.0196930420352066, 2.0196930420352066, 2.0196930420352066, 2.0196930420352066, 2.0196930420352066, 2.0196930420352066, 2.0196930420352066, 1.0, 1.0, 62.83185307179586, 1.0, 1.0, 62.83185307179586])\n",
      "Fit failed unexpectedly: Singular matrix\n",
      "Time left: 0 h 0 m 12.21 s, [excitation_duration: 1.42e+03], average cycle time: 0.21 s       Fit failed unexpectedly: Singular matrix\n",
      "[ 2.32730588e-07  2.32729816e-07  1.39681940e+00  1.39681772e+00\n",
      " -3.96821750e-01 -3.96821156e-01  4.55961487e-06 -3.14152488e-06\n",
      "  2.43739535e-03  2.43739535e-03  1.00004184e+01  8.61409416e-03\n",
      "  8.61409416e-03  1.00014830e+01] ([-2.0196930420352066, -2.0196930420352066, -2.0196930420352066, -2.0196930420352066, -2.0196930420352066, -2.0196930420352066, -2.0196930420352066, -2.0196930420352066, 1e-07, 1e-07, 6.283185307179586e-06, 1e-07, 1e-07, 6.283185307179586e-06], [2.0196930420352066, 2.0196930420352066, 2.0196930420352066, 2.0196930420352066, 2.0196930420352066, 2.0196930420352066, 2.0196930420352066, 2.0196930420352066, 1.0, 1.0, 62.83185307179586, 1.0, 1.0, 62.83185307179586])\n",
      "Fit failed unexpectedly: Singular matrix\n",
      "Time left: 0 h 0 m 8.64 s, [excitation_duration: 1.59e+03], average cycle time: 0.21 s       Fit failed unexpectedly: Singular matrix\n",
      "[ 9.16919004e-02  9.16919004e-02  2.67696647e-02  2.67695330e-02\n",
      " -3.74476324e-03 -3.74464371e-03 -1.66154281e-01 -1.66153699e-01\n",
      "  4.33825504e-05  4.33825504e-05  2.96107128e+01  2.54632301e-05\n",
      "  2.54632301e-05  2.78401058e+01] ([-2.0196930420352066, -2.0196930420352066, -2.0196930420352066, -2.0196930420352066, -2.0196930420352066, -2.0196930420352066, -2.0196930420352066, -2.0196930420352066, 1e-07, 1e-07, 6.283185307179586e-06, 1e-07, 1e-07, 6.283185307179586e-06], [2.0196930420352066, 2.0196930420352066, 2.0196930420352066, 2.0196930420352066, 2.0196930420352066, 2.0196930420352066, 2.0196930420352066, 2.0196930420352066, 1.0, 1.0, 62.83185307179586, 1.0, 1.0, 62.83185307179586])\n",
      "Fit failed unexpectedly: Singular matrix\n",
      "Time left: 0 h 0 m 7.8 s, [excitation_duration: 1.63e+03], average cycle time: 0.21 s       Fit failed unexpectedly: Singular matrix\n",
      "[-2.92485877e-03 -2.92485875e-03  3.23989966e-03  2.99474884e-03\n",
      " -6.09642626e-03 -2.50963675e-03  1.02300991e+00  9.92039267e-01\n",
      "  1.00000000e-07  1.00000000e-07  4.57901400e+01  1.00000000e-07\n",
      "  1.00000000e-07  5.58183558e+01] ([-2.01996829334934, -2.01996829334934, -2.01996829334934, -2.01996829334934, -2.01996829334934, -2.01996829334934, -2.01996829334934, -2.01996829334934, 1e-07, 1e-07, 6.283185307179586e-06, 1e-07, 1e-07, 6.283185307179586e-06], [2.01996829334934, 2.01996829334934, 2.01996829334934, 2.01996829334934, 2.01996829334934, 2.01996829334934, 2.01996829334934, 2.01996829334934, 1.0, 1.0, 62.83185307179586, 1.0, 1.0, 62.83185307179586])\n",
      "Fit failed unexpectedly: Singular matrix\n",
      "Time left: 0 h 0 m 5.06 s, [excitation_duration: 1.76e+03], average cycle time: 0.21 s       Fit failed unexpectedly: Singular matrix\n",
      "[-7.61638603e-01 -7.61638603e-01  1.33314321e+00  1.33314362e+00\n",
      "  1.36100517e+00  1.36100432e+00 -2.01944749e+00 -2.01944749e+00\n",
      "  1.00000000e-07  1.00000000e-07  9.30081757e-01  1.00000000e-07\n",
      "  1.00000000e-07  9.27045753e-01] ([-2.01996829334934, -2.01996829334934, -2.01996829334934, -2.01996829334934, -2.01996829334934, -2.01996829334934, -2.01996829334934, -2.01996829334934, 1e-07, 1e-07, 6.283185307179586e-06, 1e-07, 1e-07, 6.283185307179586e-06], [2.01996829334934, 2.01996829334934, 2.01996829334934, 2.01996829334934, 2.01996829334934, 2.01996829334934, 2.01996829334934, 2.01996829334934, 1.0, 1.0, 62.83185307179586, 1.0, 1.0, 62.83185307179586])\n",
      "Fit failed unexpectedly: Singular matrix\n",
      "Time left: 0 h 0 m 4.64 s, [excitation_duration: 1.78e+03], average cycle time: 0.21 s       Fit failed unexpectedly: Singular matrix\n",
      "[ 5.98162610e-01  5.98162610e-01 -1.83180033e+00 -1.83181439e+00\n",
      " -6.85700428e-01 -6.86313914e-01  2.01996829e+00  2.01996829e+00\n",
      "  1.00079955e-07  1.00079955e-07  3.68472283e+00  1.05074414e-07\n",
      "  1.05074414e-07  5.52174275e-01] ([-2.01996829334934, -2.01996829334934, -2.01996829334934, -2.01996829334934, -2.01996829334934, -2.01996829334934, -2.01996829334934, -2.01996829334934, 1e-07, 1e-07, 6.283185307179586e-06, 1e-07, 1e-07, 6.283185307179586e-06], [2.01996829334934, 2.01996829334934, 2.01996829334934, 2.01996829334934, 2.01996829334934, 2.01996829334934, 2.01996829334934, 2.01996829334934, 1.0, 1.0, 62.83185307179586, 1.0, 1.0, 62.83185307179586])\n",
      "Fit failed unexpectedly: Singular matrix\n",
      "Time left: 0 h 0 m 0.0 s, [excitation_duration: 2.00e+03], average cycle time: 0.21 s       \n",
      "Elapsed time: 0 h 0 m 42.36 s\n",
      "Fit failed unexpectedly: Singular matrix\n",
      "[-1.00014251e+00 -9.99857491e-01 -3.28836055e-01 -3.38059405e-01\n",
      "  3.34906976e-01  3.31988512e-01  1.99997915e+00  2.00002148e+00\n",
      "  1.00000000e-07  1.00000000e-07  5.00000008e+00  1.00000000e-07\n",
      "  1.00000000e-07  4.99999998e+00] ([-2.01996829334934, -2.01996829334934, -2.01996829334934, -2.01996829334934, -2.01996829334934, -2.01996829334934, -2.01996829334934, -2.01996829334934, 1e-07, 1e-07, 6.283185307179586e-06, 1e-07, 1e-07, 6.283185307179586e-06], [2.01996829334934, 2.01996829334934, 2.01996829334934, 2.01996829334934, 2.01996829334934, 2.01996829334934, 2.01996829334934, 2.01996829334934, 1.0, 1.0, 62.83185307179586, 1.0, 1.0, 62.83185307179586])\n",
      "Fit failed unexpectedly: Singular matrix\n"
     ]
    }
   ],
   "source": [
    "droj_result = DROJ.launch()"
   ]
  },
  {
   "cell_type": "code",
   "execution_count": 17,
   "metadata": {},
   "outputs": [
    {
     "name": "stdout",
     "output_type": "stream",
     "text": [
      "Measurement was interrupted! \n",
      "\n",
      "Time left: 0 h 5 m 40.08 s, [excitation_duration: 3.20e+02], average cycle time: 2.02 s       "
     ]
    }
   ],
   "source": []
  }
 ],
 "metadata": {
  "kernelspec": {
   "display_name": "Python 3",
   "language": "python",
   "name": "python3"
  },
  "language_info": {
   "codemirror_mode": {
    "name": "ipython",
    "version": 3
   },
   "file_extension": ".py",
   "mimetype": "text/x-python",
   "name": "python",
   "nbconvert_exporter": "python",
   "pygments_lexer": "ipython3",
   "version": "3.7.0"
  }
 },
 "nbformat": 4,
 "nbformat_minor": 2
}
