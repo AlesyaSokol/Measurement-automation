{
 "cells": [
  {
   "cell_type": "code",
   "execution_count": 1,
   "metadata": {
    "collapsed": false
   },
   "outputs": [
    {
     "name": "stdout",
     "output_type": "stream",
     "text": [
      "Populating the interactive namespace from numpy and matplotlib\n"
     ]
    }
   ],
   "source": [
    "%pylab qt\n",
    "import datetime\n",
    "import time\n",
    "import pickle\n",
    "from importlib import reload\n",
    "import lib.ResonatorDetector as RD\n",
    "from drivers.znb import Znb\n",
    "from drivers.k6220 import K6220\n",
    "from drivers.E8257D import E8257D"
   ]
  },
  {
   "cell_type": "code",
   "execution_count": 9,
   "metadata": {
    "collapsed": false
   },
   "outputs": [
    {
     "data": {
      "text/plain": [
       "<module 'lib.ResonatorDetector' from 'C:\\\\Users\\\\RQC128\\\\Documents\\\\Measurement\\\\lib\\\\ResonatorDetector.py'>"
      ]
     },
     "execution_count": 9,
     "metadata": {},
     "output_type": "execute_result"
    }
   ],
   "source": [
    "reload(RD)"
   ]
  },
  {
   "cell_type": "code",
   "execution_count": 2,
   "metadata": {
    "collapsed": true
   },
   "outputs": [],
   "source": [
    "import warnings\n",
    "warnings.filterwarnings('ignore')"
   ]
  },
  {
   "cell_type": "code",
   "execution_count": 3,
   "metadata": {
    "collapsed": true
   },
   "outputs": [],
   "source": [
    "from resonator_tools import circuit"
   ]
  },
  {
   "cell_type": "code",
   "execution_count": 4,
   "metadata": {
    "collapsed": true
   },
   "outputs": [],
   "source": [
    "matplotlib.rc(\"font\", **{\"size\":25})"
   ]
  },
  {
   "cell_type": "markdown",
   "metadata": {},
   "source": [
    "### Recording"
   ]
  },
  {
   "cell_type": "code",
   "execution_count": 5,
   "metadata": {
    "collapsed": false
   },
   "outputs": [],
   "source": [
    "znb = Znb(\"ZNB\")\n",
    "current = K6220(\"K6220\")\n",
    "mw_src = E8257D(\"mwsrc\")"
   ]
  },
  {
   "cell_type": "code",
   "execution_count": 6,
   "metadata": {
    "collapsed": false
   },
   "outputs": [],
   "source": [
    "znb.autoscale_all()"
   ]
  },
  {
   "cell_type": "code",
   "execution_count": 7,
   "metadata": {
    "collapsed": true
   },
   "outputs": [
    {
     "name": "stdout",
     "output_type": "stream",
     "text": [
      "Adapting settlement frequencies...\n"
     ]
    },
    {
     "ename": "KeyboardInterrupt",
     "evalue": "",
     "output_type": "error",
     "traceback": [
      "\u001b[0;31m---------------------------------------------------------------------------\u001b[0m",
      "\u001b[0;31mKeyboardInterrupt\u001b[0m                         Traceback (most recent call last)",
      "\u001b[0;32m<ipython-input-7-a4ff72dc5999>\u001b[0m in \u001b[0;36m<module>\u001b[0;34m()\u001b[0m\n\u001b[0;32m----> 1\u001b[0;31m \u001b[0mexec\u001b[0m\u001b[1;33m(\u001b[0m\u001b[0mopen\u001b[0m\u001b[1;33m(\u001b[0m\u001b[1;34m\"./scripts/script_adapt_center_freqs_for_2tone.py\"\u001b[0m\u001b[1;33m)\u001b[0m\u001b[1;33m.\u001b[0m\u001b[0mread\u001b[0m\u001b[1;33m(\u001b[0m\u001b[1;33m)\u001b[0m\u001b[1;33m)\u001b[0m\u001b[1;33m\u001b[0m\u001b[0m\n\u001b[0m",
      "\u001b[0;32m<string>\u001b[0m in \u001b[0;36m<module>\u001b[0;34m()\u001b[0m\n",
      "\u001b[0;32mC:\\Users\\RQC128\\Documents\\Measurement\\drivers\\instr.py\u001b[0m in \u001b[0;36mwait_for_stb\u001b[0;34m(self)\u001b[0m\n\u001b[1;32m     98\u001b[0m             \u001b[1;32melse\u001b[0m\u001b[1;33m:\u001b[0m\u001b[1;33m\u001b[0m\u001b[0m\n\u001b[1;32m     99\u001b[0m                 \u001b[0mdone\u001b[0m \u001b[1;33m=\u001b[0m \u001b[1;33m(\u001b[0m\u001b[1;36m2\u001b[0m\u001b[1;33m**\u001b[0m\u001b[1;36m5\u001b[0m \u001b[1;33m==\u001b[0m \u001b[1;33m(\u001b[0m\u001b[1;36m2\u001b[0m\u001b[1;33m**\u001b[0m\u001b[1;36m5\u001b[0m \u001b[1;33m&\u001b[0m \u001b[0mstb_value\u001b[0m\u001b[1;33m)\u001b[0m\u001b[1;33m)\u001b[0m\u001b[1;33m\u001b[0m\u001b[0m\n\u001b[0;32m--> 100\u001b[0;31m                 \u001b[0msleep\u001b[0m\u001b[1;33m(\u001b[0m\u001b[1;36m0.01\u001b[0m\u001b[1;33m)\u001b[0m\u001b[1;33m\u001b[0m\u001b[0m\n\u001b[0m\u001b[1;32m    101\u001b[0m \u001b[1;33m\u001b[0m\u001b[0m\n\u001b[1;32m    102\u001b[0m     \u001b[1;32mdef\u001b[0m \u001b[0mwait_for_srq\u001b[0m\u001b[1;33m(\u001b[0m\u001b[0mself\u001b[0m\u001b[1;33m)\u001b[0m\u001b[1;33m:\u001b[0m \u001b[1;31m# ONLY WORKS WITH GPIB ! NOT TESTED !\u001b[0m\u001b[1;33m\u001b[0m\u001b[0m\n",
      "\u001b[0;31mKeyboardInterrupt\u001b[0m: "
     ]
    }
   ],
   "source": [
    "exec(open(\"./scripts/script_adapt_center_freqs_for_2tone.py\").read())"
   ]
  },
  {
   "cell_type": "code",
   "execution_count": 24,
   "metadata": {
    "collapsed": false
   },
   "outputs": [
    {
     "name": "stdout",
     "output_type": "stream",
     "text": [
      "Idle cetnter freq 6619229355.0 vs fitresult: 6618654332.44\n",
      "[  6.61926768e+09] [-40.63297295]\n",
      "Started at:  Thu Nov 10 10:26:07 2016\n",
      "Averages: 5, bandwidth: 10, power:-40.0\n",
      "Sweeping total: 40000 sweeps (200x200), each of 1 point(s)\n",
      "Time left: 0 h 0 m 0.0 s, parameter values (1,2): ('6.500e-04', '9.700e+09'), average cycle time: 0.47 s          \n",
      "Elapsed time: 5 h 11 m 1.46 s\n"
     ]
    }
   ],
   "source": [
    "exec(open(\"./scripts/script_two_tone.py\").read())"
   ]
  },
  {
   "cell_type": "code",
   "execution_count": 18,
   "metadata": {
    "collapsed": false
   },
   "outputs": [
    {
     "name": "stdout",
     "output_type": "stream",
     "text": [
      "Started at:  Thu Nov 10 09:45:15 2016\n",
      "Averages: 2, bandwidth: 100, power: -60.0\n",
      "Sweeping total: 50 sweeps, each of 50 point(s)\n",
      "Time left: 0 h 0 m 0.0 s, parameter value: 5.500e-03, average cycle time: 0.99 s          \n",
      "Elapsed time: 0 h 0 m 49.29 s\n"
     ]
    }
   ],
   "source": [
    "exec(open(\"./scripts/script.py\").read())"
   ]
  },
  {
   "cell_type": "code",
   "execution_count": 31,
   "metadata": {
    "collapsed": false
   },
   "outputs": [
    {
     "name": "stdout",
     "output_type": "stream",
     "text": [
      "[  6.61922899e+09] [-40.71648363]\n",
      "Started at:  Fri Nov 11 11:09:11 2016\n",
      "Averages: 5, bandwidth: 1, power:-50.0\n",
      "Sweeping total: 3500 sweeps (35x100), each of 1 point(s)\n",
      "Time left: 0 h 0 m 0.0 s, parameter values (1,2): ('1.400e+01', '9.500e+09'), average cycle time: 4.21 s          \n",
      "Elapsed time: 4 h 5 m 38.51 s\n"
     ]
    }
   ],
   "source": [
    "exec(open(\"./scripts/script_powerscan.py\").read())"
   ]
  },
  {
   "cell_type": "markdown",
   "metadata": {},
   "source": [
    "### Plotting"
   ]
  },
  {
   "cell_type": "code",
   "execution_count": 16,
   "metadata": {
    "collapsed": false,
    "scrolled": true
   },
   "outputs": [
    {
     "data": {
      "text/plain": [
       "<module 'lib.plotting' from 'C:\\\\Users\\\\RQC128\\\\Documents\\\\Measurement\\\\lib\\\\plotting.py'>"
      ]
     },
     "execution_count": 16,
     "metadata": {},
     "output_type": "execute_result"
    }
   ],
   "source": [
    "from lib import plotting as pl\n",
    "reload(pl)"
   ]
  },
  {
   "cell_type": "code",
   "execution_count": 32,
   "metadata": {
    "collapsed": false
   },
   "outputs": [
    {
     "data": {
      "text/plain": [
       "(<matplotlib.figure.Figure at 0x172be48>,\n",
       " <matplotlib.figure.Figure at 0xd66e8d0>)"
      ]
     },
     "execution_count": 32,
     "metadata": {},
     "output_type": "execute_result"
    }
   ],
   "source": [
    "pl.plot_measurement(measurement, unwrap_phase=True)"
   ]
  },
  {
   "cell_type": "code",
   "execution_count": 18,
   "metadata": {
    "collapsed": false
   },
   "outputs": [
    {
     "data": {
      "text/plain": [
       "(<matplotlib.figure.Figure at 0xe25b6d8>,\n",
       " <matplotlib.figure.Figure at 0x16f5b3c8>)"
      ]
     },
     "execution_count": 18,
     "metadata": {},
     "output_type": "execute_result"
    }
   ],
   "source": [
    "pl.plot_measurement(measurement.remove_background(-1, axis=\"x\"), kwargs_phas={\"vmax\":0.6}, \n",
    "                    unwrap_phase=False, kwargs_amp={\"vmax\":3, \"vmin\":-10})"
   ]
  },
  {
   "cell_type": "code",
   "execution_count": 169,
   "metadata": {
    "collapsed": false
   },
   "outputs": [
    {
     "data": {
      "text/plain": [
       "(<matplotlib.figure.Figure at 0x5c476710>,\n",
       " <matplotlib.figure.Figure at 0x5c4ff390>)"
      ]
     },
     "execution_count": 169,
     "metadata": {},
     "output_type": "execute_result"
    }
   ],
   "source": [
    "pl.plot_measurement(measurement.remove_background(-1, axis=\"x\"))#, {\"vmin\":-.5, \"vmax\":.5},  {\"vmin\":-.1, \"vmax\":.1})"
   ]
  },
  {
   "cell_type": "code",
   "execution_count": 23,
   "metadata": {
    "collapsed": false
   },
   "outputs": [
    {
     "data": {
      "text/plain": [
       "<matplotlib.collections.QuadMesh at 0xb5d2048>"
      ]
     },
     "execution_count": 23,
     "metadata": {},
     "output_type": "execute_result"
    }
   ],
   "source": [
    "fig = figure()\n",
    "ax = fig.add_axes([0.1,0.1,.8,.8])"
   ]
  },
  {
   "cell_type": "code",
   "execution_count": 9,
   "metadata": {
    "collapsed": false
   },
   "outputs": [
    {
     "data": {
      "text/plain": [
       "[<matplotlib.lines.Line2D at 0x902fcf8>]"
      ]
     },
     "execution_count": 9,
     "metadata": {},
     "output_type": "execute_result"
    }
   ],
   "source": [
    "plt.plot(center_freqs, \".\")"
   ]
  },
  {
   "cell_type": "markdown",
   "metadata": {},
   "source": [
    "### Saving"
   ]
  },
  {
   "cell_type": "code",
   "execution_count": 29,
   "metadata": {
    "collapsed": false
   },
   "outputs": [
    {
     "data": {
      "text/plain": [
       "<module 'lib.data_management' from 'C:\\\\Users\\\\RQC128\\\\Documents\\\\Measurement\\\\lib\\\\data_management.py'>"
      ]
     },
     "execution_count": 29,
     "metadata": {},
     "output_type": "execute_result"
    }
   ],
   "source": [
    "from lib import data_management as dm\n",
    "reload(dm)"
   ]
  },
  {
   "cell_type": "code",
   "execution_count": 33,
   "metadata": {
    "collapsed": false
   },
   "outputs": [
    {
     "data": {
      "text/plain": [
       "'Data\\\\Nov 11 2016\\\\11-09-11 - xmon_al_bmstu_1-I-01-best-line-width\\\\'"
      ]
     },
     "execution_count": 33,
     "metadata": {},
     "output_type": "execute_result"
    }
   ],
   "source": [
    "dm.save_measurement(measurement,  'xmon_al_bmstu_1-I-01-best-line-width', plot_kwargs={\"unwrap_phase\":True})"
   ]
  },
  {
   "cell_type": "markdown",
   "metadata": {
    "collapsed": true
   },
   "source": [
    "#  Loading"
   ]
  },
  {
   "cell_type": "code",
   "execution_count": 23,
   "metadata": {
    "collapsed": false
   },
   "outputs": [
    {
     "data": {
      "text/plain": [
       "<module 'lib.data_management' from 'C:\\\\Users\\\\RQC128\\\\Documents\\\\Measurement\\\\lib\\\\data_management.py'>"
      ]
     },
     "execution_count": 23,
     "metadata": {},
     "output_type": "execute_result"
    }
   ],
   "source": [
    "from lib import data_management as dm\n",
    "reload(dm)"
   ]
  },
  {
   "cell_type": "code",
   "execution_count": 186,
   "metadata": {
    "collapsed": false
   },
   "outputs": [],
   "source": [
    "measurement3 = dm.load_measurement(\"data\\\\Oct 08 2016\\\\21-12-34\\\\xmon_al_bmstu_1-II-anticrossing_(One_big)\")"
   ]
  }
 ],
 "metadata": {
  "anaconda-cloud": {},
  "kernelspec": {
   "display_name": "Python 3",
   "language": "python",
   "name": "python3"
  },
  "language_info": {
   "codemirror_mode": {
    "name": "ipython",
    "version": 3
   },
   "file_extension": ".py",
   "mimetype": "text/x-python",
   "name": "python",
   "nbconvert_exporter": "python",
   "pygments_lexer": "ipython3",
   "version": "3.4.5"
  }
 },
 "nbformat": 4,
 "nbformat_minor": 0
}
