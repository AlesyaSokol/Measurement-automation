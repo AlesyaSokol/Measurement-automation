{
 "cells": [
  {
   "cell_type": "code",
   "execution_count": 1,
   "metadata": {},
   "outputs": [
    {
     "name": "stdout",
     "output_type": "stream",
     "text": [
      "Populating the interactive namespace from numpy and matplotlib\n"
     ]
    }
   ],
   "source": [
    "%pylab qt5\n",
    "import datetime\n",
    "import time\n",
    "import pickle\n",
    "from importlib import reload\n",
    "import lib.ResonatorDetector as RD\n",
    "from drivers.Agilent_PNA_L import Agilent_PNA_L\n",
    "from drivers.Yokogawa_GS200 import Yokogawa_GS210\n",
    "from drivers.E8257D import MXG"
   ]
  },
  {
   "cell_type": "code",
   "execution_count": 2,
   "metadata": {
    "collapsed": true
   },
   "outputs": [],
   "source": [
    "from resonator_tools.circuit import notch_port"
   ]
  },
  {
   "cell_type": "code",
   "execution_count": 3,
   "metadata": {
    "collapsed": true
   },
   "outputs": [],
   "source": [
    "import warnings\n",
    "warnings.filterwarnings('ignore')"
   ]
  },
  {
   "cell_type": "code",
   "execution_count": 4,
   "metadata": {
    "collapsed": true
   },
   "outputs": [],
   "source": [
    "matplotlib.rc(\"font\", **{\"size\":15})"
   ]
  },
  {
   "cell_type": "code",
   "execution_count": 5,
   "metadata": {
    "collapsed": true
   },
   "outputs": [],
   "source": [
    "from lib import measurement"
   ]
  },
  {
   "cell_type": "code",
   "execution_count": 78,
   "metadata": {},
   "outputs": [
    {
     "data": {
      "text/plain": [
       "<module 'lib.parametric_sweep_with_plot' from 'C:\\\\Users\\\\PAINMASTER\\\\Measurement\\\\lib\\\\parametric_sweep_with_plot.py'>"
      ]
     },
     "execution_count": 78,
     "metadata": {},
     "output_type": "execute_result"
    }
   ],
   "source": [
    "reload(ps)"
   ]
  },
  {
   "cell_type": "markdown",
   "metadata": {},
   "source": [
    "### Recording"
   ]
  },
  {
   "cell_type": "code",
   "execution_count": 6,
   "metadata": {
    "collapsed": true
   },
   "outputs": [],
   "source": [
    "vna = Agilent_PNA_L(\"PNA-L2\")\n",
    "current = Yokogawa_GS210(\"GS210_1\")\n",
    "current.set_src_mode_curr(5)\n",
    "mw_src = MXG(\"MXG\")"
   ]
  },
  {
   "cell_type": "code",
   "execution_count": 8,
   "metadata": {},
   "outputs": [
    {
     "name": "stdout",
     "output_type": "stream",
     "text": [
      "Too low mincurrent asked to set.\n",
      "Too high maxcurrent asked to set.\n"
     ]
    }
   ],
   "source": [
    "current.set_current_limits(-10e-3, 10e-3)"
   ]
  },
  {
   "cell_type": "code",
   "execution_count": 45,
   "metadata": {
    "collapsed": true
   },
   "outputs": [
    {
     "name": "stdout",
     "output_type": "stream",
     "text": [
      "Started at:  Wed Mar 29 16:59:31 2017\n",
      "Averages: 1, bandwidth: 50.0, power: -35.0\n",
      "Sweeping total: 50 sweeps, each of 50 point(s)\n",
      "Time left: 0 h 0 m 23.89 s, parameter value: 2.857e-04, average cycle time: 1.14 s          \n",
      "Unexpected error: None\n"
     ]
    },
    {
     "name": "stderr",
     "output_type": "stream",
     "text": [
      "Traceback (most recent call last):\n",
      "  File \"C:\\Users\\PAINMASTER\\Measurement\\lib\\parametric_sweep_with_plot.py\", line 163, in sweep1D\n",
      "    update_2D_plot(param_vals, vna.get_frequencies(), measurement.get_data()[2:], ax_amps, ax_phas)\n",
      "  File \"C:\\Users\\PAINMASTER\\Measurement\\lib\\parametric_sweep_with_plot.py\", line 22, in update_2D_plot\n",
      "    plt.pause(0.01)\n",
      "  File \"C:\\ProgramData\\Anaconda3\\lib\\site-packages\\matplotlib\\pyplot.py\", line 298, in pause\n",
      "    canvas.draw()\n",
      "  File \"C:\\ProgramData\\Anaconda3\\lib\\site-packages\\matplotlib\\backends\\backend_qt5agg.py\", line 176, in draw\n",
      "    FigureCanvasAgg.draw(self)\n",
      "  File \"C:\\ProgramData\\Anaconda3\\lib\\site-packages\\matplotlib\\backends\\backend_agg.py\", line 464, in draw\n",
      "    self.figure.draw(self.renderer)\n",
      "  File \"C:\\ProgramData\\Anaconda3\\lib\\site-packages\\matplotlib\\artist.py\", line 63, in draw_wrapper\n",
      "    draw(artist, renderer, *args, **kwargs)\n",
      "  File \"C:\\ProgramData\\Anaconda3\\lib\\site-packages\\matplotlib\\figure.py\", line 1143, in draw\n",
      "    renderer, self, dsu, self.suppressComposite)\n",
      "  File \"C:\\ProgramData\\Anaconda3\\lib\\site-packages\\matplotlib\\image.py\", line 139, in _draw_list_compositing_images\n",
      "    a.draw(renderer)\n",
      "  File \"C:\\ProgramData\\Anaconda3\\lib\\site-packages\\matplotlib\\artist.py\", line 63, in draw_wrapper\n",
      "    draw(artist, renderer, *args, **kwargs)\n",
      "  File \"C:\\ProgramData\\Anaconda3\\lib\\site-packages\\matplotlib\\axes\\_base.py\", line 2402, in draw\n",
      "    self.patch.draw(renderer)\n",
      "  File \"C:\\ProgramData\\Anaconda3\\lib\\site-packages\\matplotlib\\artist.py\", line 63, in draw_wrapper\n",
      "    draw(artist, renderer, *args, **kwargs)\n",
      "  File \"C:\\ProgramData\\Anaconda3\\lib\\site-packages\\matplotlib\\patches.py\", line 553, in draw\n",
      "    transform = self.get_transform()\n",
      "  File \"C:\\ProgramData\\Anaconda3\\lib\\site-packages\\matplotlib\\patches.py\", line 219, in get_transform\n",
      "    return self.get_patch_transform() + artist.Artist.get_transform(self)\n",
      "  File \"C:\\ProgramData\\Anaconda3\\lib\\site-packages\\matplotlib\\patches.py\", line 708, in get_patch_transform\n",
      "    self._update_patch_transform()\n",
      "  File \"C:\\ProgramData\\Anaconda3\\lib\\site-packages\\matplotlib\\patches.py\", line 703, in _update_patch_transform\n",
      "    rot_trans.rotate_deg_around(x, y, self._angle)\n",
      "  File \"C:\\ProgramData\\Anaconda3\\lib\\site-packages\\matplotlib\\transforms.py\", line 1955, in rotate_deg_around\n",
      "    return self.translate(-x, -y).rotate_deg(degrees).translate(x, y)\n",
      "  File \"C:\\ProgramData\\Anaconda3\\lib\\site-packages\\matplotlib\\transforms.py\", line 1968, in translate\n",
      "    self._mtx = np.dot(translate_mtx, self._mtx)\n",
      "KeyboardInterrupt\n"
     ]
    }
   ],
   "source": [
    "exec(open(\"./scripts/script.py\").read())"
   ]
  },
  {
   "cell_type": "code",
   "execution_count": 95,
   "metadata": {
    "scrolled": false
   },
   "outputs": [
    {
     "name": "stdout",
     "output_type": "stream",
     "text": [
      "Idle amplitude center freq 6623015202.27 vs fitresult center frequency: (6623040327.9003515, -53.54643330787286)\n",
      "[  6.62133610e+09] [-53.70698432]\n",
      "Started at:  Thu Mar 30 11:08:44 2017\n",
      "Averages: 1, bandwidth: 30.0, power:-30.0\n",
      "Sweeping total: 5000 sweeps (50x100), each of 1 point(s)\n",
      "Time left: 0 h 0 m 0.0 s, parameter values (1,2): ('3.000e-04', '9.300e+09'), average cycle time: 0.08 s            \n",
      "Elapsed time: 0 h 6 m 59.95 s\n"
     ]
    }
   ],
   "source": [
    "exec(open(\"./scripts/script_two_tone.py\").read())"
   ]
  },
  {
   "cell_type": "code",
   "execution_count": 24,
   "metadata": {
    "collapsed": true
   },
   "outputs": [
    {
     "ename": "AttributeError",
     "evalue": "'Yokogawa_GS210' object has no attribute 'output_off'",
     "output_type": "error",
     "traceback": [
      "\u001b[1;31m---------------------------------------------------------------------------\u001b[0m",
      "\u001b[1;31mNameError\u001b[0m                                 Traceback (most recent call last)",
      "\u001b[1;32m<string>\u001b[0m in \u001b[0;36m<module>\u001b[1;34m()\u001b[0m\n",
      "\u001b[1;31mNameError\u001b[0m: name 'znb' is not defined",
      "\nDuring handling of the above exception, another exception occurred:\n",
      "\u001b[1;31mAttributeError\u001b[0m                            Traceback (most recent call last)",
      "\u001b[1;32m<ipython-input-24-a4ff72dc5999>\u001b[0m in \u001b[0;36m<module>\u001b[1;34m()\u001b[0m\n\u001b[1;32m----> 1\u001b[1;33m \u001b[0mexec\u001b[0m\u001b[1;33m(\u001b[0m\u001b[0mopen\u001b[0m\u001b[1;33m(\u001b[0m\u001b[1;34m\"./scripts/script_adapt_center_freqs_for_2tone.py\"\u001b[0m\u001b[1;33m)\u001b[0m\u001b[1;33m.\u001b[0m\u001b[0mread\u001b[0m\u001b[1;33m(\u001b[0m\u001b[1;33m)\u001b[0m\u001b[1;33m)\u001b[0m\u001b[1;33m\u001b[0m\u001b[0m\n\u001b[0m",
      "\u001b[1;32m<string>\u001b[0m in \u001b[0;36m<module>\u001b[1;34m()\u001b[0m\n",
      "\u001b[1;31mAttributeError\u001b[0m: 'Yokogawa_GS210' object has no attribute 'output_off'"
     ]
    }
   ],
   "source": [
    "exec(open(\"./scripts/script_adapt_center_freqs_for_2tone.py\").read())"
   ]
  },
  {
   "cell_type": "code",
   "execution_count": 9,
   "metadata": {
    "scrolled": true
   },
   "outputs": [
    {
     "name": "stdout",
     "output_type": "stream",
     "text": [
      "[  6.62134003e+09] [-52.8846497]\n",
      "Started at:  Thu Mar 23 15:56:21 2017\n",
      "Averages: 10, bandwidth: 10.0, power:-35.0\n",
      "Sweeping total: 200 sweeps (2x100), each of 1 point(s)\n",
      "Time left: 0 h 0 m 0.0 s, parameter values (1,2): ('-1.100e+01', '9.226e+09'), average cycle time: 0.98 s            \n",
      "Elapsed time: 0 h 3 m 16.89 s\n"
     ]
    }
   ],
   "source": [
    "exec(open(\"./scripts/script_powerscan.py\").read())"
   ]
  },
  {
   "cell_type": "code",
   "execution_count": 92,
   "metadata": {},
   "outputs": [
    {
     "name": "stdout",
     "output_type": "stream",
     "text": [
      "Using center frequencies from 6.62136 to 6.62136\n",
      "Started at:  Tue Mar 21 21:43:53 2017\n",
      "Averages: 6, bandwidth: 30.0, power:-20.0\n",
      "Sweeping total: 3100 sweeps (31x100), each of 1 point(s)\n",
      "Time left: 0 h 0 m 0.0 s, parameter values (1,2): ('-2.000e+01', '9.230e+09'), average cycle time: 1.26 s             \n",
      "Elapsed time: 1 h 5 m 20.79 s\n"
     ]
    }
   ],
   "source": [
    "exec(open(\"./scripts/script_ac_stark.py\").read())"
   ]
  },
  {
   "cell_type": "markdown",
   "metadata": {},
   "source": [
    "### Plotting"
   ]
  },
  {
   "cell_type": "code",
   "execution_count": 83,
   "metadata": {
    "scrolled": true
   },
   "outputs": [
    {
     "data": {
      "text/plain": [
       "<module 'lib.plotting' from 'C:\\\\Users\\\\PAINMASTER\\\\Measurement\\\\lib\\\\plotting.py'>"
      ]
     },
     "execution_count": 83,
     "metadata": {},
     "output_type": "execute_result"
    }
   ],
   "source": [
    "from lib import plotting as pl\n",
    "reload(pl)"
   ]
  },
  {
   "cell_type": "code",
   "execution_count": 98,
   "metadata": {
    "collapsed": true
   },
   "outputs": [],
   "source": [
    "curs, freqs, freq, amps, phas = measurement.get_data()"
   ]
  },
  {
   "cell_type": "code",
   "execution_count": 99,
   "metadata": {
    "collapsed": true
   },
   "outputs": [],
   "source": [
    "measurement.set_data((curs, freqs, freq, real(amps), real(phas)))"
   ]
  },
  {
   "cell_type": "code",
   "execution_count": 100,
   "metadata": {},
   "outputs": [
    {
     "data": {
      "text/plain": [
       "(<matplotlib.figure.Figure at 0x12777860>,\n",
       " <matplotlib.figure.Figure at 0xea7fe10>)"
      ]
     },
     "execution_count": 100,
     "metadata": {},
     "output_type": "execute_result"
    }
   ],
   "source": [
    "pl.plot_measurement(measurement, unwrap_phase=True, figsize=(10,7))"
   ]
  },
  {
   "cell_type": "code",
   "execution_count": 29,
   "metadata": {},
   "outputs": [
    {
     "data": {
      "text/plain": [
       "<matplotlib.collections.QuadMesh at 0x13ac4e10>"
      ]
     },
     "execution_count": 29,
     "metadata": {},
     "output_type": "execute_result"
    }
   ],
   "source": [
    "pcolormesh(measurement.get_data()[4].T)"
   ]
  },
  {
   "cell_type": "code",
   "execution_count": 64,
   "metadata": {},
   "outputs": [
    {
     "data": {
      "text/plain": [
       "(<matplotlib.figure.Figure at 0x120b5a20>,\n",
       " <matplotlib.figure.Figure at 0x12108ef0>)"
      ]
     },
     "execution_count": 64,
     "metadata": {},
     "output_type": "execute_result"
    }
   ],
   "source": [
    "pl.plot_measurement(measurement.remove_background(-1,\"x\"), unwrap_phase=True, figsize=(10,7))"
   ]
  },
  {
   "cell_type": "code",
   "execution_count": 113,
   "metadata": {},
   "outputs": [
    {
     "data": {
      "text/plain": [
       "(<matplotlib.figure.Figure at 0x175c0390>,\n",
       " <matplotlib.figure.Figure at 0x1c9360b8>)"
      ]
     },
     "execution_count": 113,
     "metadata": {},
     "output_type": "execute_result"
    }
   ],
   "source": [
    "pl.plot_measurement(measurement.remove_background(-1,\"x\").remove_background(-1,\"y\"),cmap = 'RdBu_r', unwrap_phase=True)"
   ]
  },
  {
   "cell_type": "code",
   "execution_count": 94,
   "metadata": {},
   "outputs": [
    {
     "data": {
      "text/plain": [
       "(<matplotlib.figure.Figure at 0x31164208>,\n",
       " <matplotlib.figure.Figure at 0x2f9c73c8>)"
      ]
     },
     "execution_count": 94,
     "metadata": {},
     "output_type": "execute_result"
    }
   ],
   "source": [
    "pl.plot_measurement(measurement, kwargs_phas={\"vmax\":-0.1, \"vmin\":-2}, \n",
    "                    unwrap_phase=False, kwargs_amp={\"vmax\":-30, \"vmin\":-50})"
   ]
  },
  {
   "cell_type": "code",
   "execution_count": 169,
   "metadata": {},
   "outputs": [
    {
     "data": {
      "text/plain": [
       "(<matplotlib.figure.Figure at 0x5c476710>,\n",
       " <matplotlib.figure.Figure at 0x5c4ff390>)"
      ]
     },
     "execution_count": 169,
     "metadata": {},
     "output_type": "execute_result"
    }
   ],
   "source": [
    "pl.plot_measurement(measurement.remove_background(-1, axis=\"x\"))#, {\"vmin\":-.5, \"vmax\":.5},  {\"vmin\":-.1, \"vmax\":.1})"
   ]
  },
  {
   "cell_type": "code",
   "execution_count": 23,
   "metadata": {},
   "outputs": [
    {
     "data": {
      "text/plain": [
       "<matplotlib.collections.QuadMesh at 0xb5d2048>"
      ]
     },
     "execution_count": 23,
     "metadata": {},
     "output_type": "execute_result"
    }
   ],
   "source": [
    "fig = figure()\n",
    "ax = fig.add_axes([0.1,0.1,.8,.8])"
   ]
  },
  {
   "cell_type": "code",
   "execution_count": 9,
   "metadata": {},
   "outputs": [
    {
     "data": {
      "text/plain": [
       "[<matplotlib.lines.Line2D at 0x902fcf8>]"
      ]
     },
     "execution_count": 9,
     "metadata": {},
     "output_type": "execute_result"
    }
   ],
   "source": [
    "plt.plot(center_freqs, \".\")"
   ]
  },
  {
   "cell_type": "markdown",
   "metadata": {},
   "source": [
    "### Saving"
   ]
  },
  {
   "cell_type": "code",
   "execution_count": 102,
   "metadata": {},
   "outputs": [
    {
     "data": {
      "text/plain": [
       "<module 'lib.data_management' from 'C:\\\\Users\\\\PAINMASTER\\\\Measurement\\\\lib\\\\data_management.py'>"
      ]
     },
     "execution_count": 102,
     "metadata": {},
     "output_type": "execute_result"
    }
   ],
   "source": [
    "from lib import data_management as dm\n",
    "reload(dm)"
   ]
  },
  {
   "cell_type": "code",
   "execution_count": 103,
   "metadata": {
    "scrolled": true
   },
   "outputs": [
    {
     "data": {
      "text/plain": [
       "'Data\\\\Mar 30 2017\\\\11-08-44 - xmon_al_bmstu_1-I-lines2\\\\'"
      ]
     },
     "execution_count": 103,
     "metadata": {},
     "output_type": "execute_result"
    }
   ],
   "source": [
    "dm.save_measurement(measurement, 'xmon_al_bmstu_1-I-lines2', plot_kwargs={\"unwrap_phase\":True})"
   ]
  },
  {
   "cell_type": "code",
   "execution_count": 113,
   "metadata": {
    "scrolled": true
   },
   "outputs": [
    {
     "data": {
      "text/plain": [
       "'Data\\\\Mar 21 2017\\\\23-32-58 - xmon_al_bmstu_1-I-spectrum-highres\\\\'"
      ]
     },
     "execution_count": 113,
     "metadata": {},
     "output_type": "execute_result"
    }
   ],
   "source": [
    "dm.save_measurement(measurement.remove_background(-1,\"x\"), 'xmon_al_bmstu_1-I-spectrum-highres', plot_kwargs={\"unwrap_phase\":True})"
   ]
  },
  {
   "cell_type": "markdown",
   "metadata": {
    "collapsed": true
   },
   "source": [
    "###  Loading"
   ]
  },
  {
   "cell_type": "code",
   "execution_count": 31,
   "metadata": {},
   "outputs": [
    {
     "data": {
      "text/plain": [
       "<module 'lib.data_management' from 'C:\\\\Users\\\\PAINMASTER\\\\Measurement\\\\lib\\\\data_management.py'>"
      ]
     },
     "execution_count": 31,
     "metadata": {},
     "output_type": "execute_result"
    }
   ],
   "source": [
    "from lib import data_management as dm\n",
    "reload(dm)"
   ]
  },
  {
   "cell_type": "code",
   "execution_count": 32,
   "metadata": {
    "collapsed": true
   },
   "outputs": [],
   "source": [
    "measurement3 = dm.load_measurement(\"data\\\\Mar 22 2017\\\\21-36-52 - xmon_al_bmstu_1-I-ge-linewidth-highres\\\\xmon_al_bmstu_1-I-ge-linewidth-highres\")"
   ]
  },
  {
   "cell_type": "code",
   "execution_count": 34,
   "metadata": {},
   "outputs": [
    {
     "data": {
      "text/plain": [
       "(<matplotlib.figure.Figure at 0x13a74048>,\n",
       " <matplotlib.figure.Figure at 0x13abc8d0>)"
      ]
     },
     "execution_count": 34,
     "metadata": {},
     "output_type": "execute_result"
    }
   ],
   "source": [
    "pl.plot_measurement(measurement3.remove_background(-1, \"x\"))"
   ]
  },
  {
   "cell_type": "code",
   "execution_count": 1,
   "metadata": {},
   "outputs": [
    {
     "ename": "NameError",
     "evalue": "name 'os' is not defined",
     "output_type": "error",
     "traceback": [
      "\u001b[1;31m---------------------------------------------------------------------------\u001b[0m",
      "\u001b[1;31mNameError\u001b[0m                                 Traceback (most recent call last)",
      "\u001b[1;32m<ipython-input-1-19d5095bb6ff>\u001b[0m in \u001b[0;36m<module>\u001b[1;34m()\u001b[0m\n\u001b[1;32m----> 1\u001b[1;33m \u001b[0mos\u001b[0m\u001b[1;33m.\u001b[0m\u001b[0mgetcwd\u001b[0m\u001b[1;33m(\u001b[0m\u001b[1;33m)\u001b[0m\u001b[1;33m\u001b[0m\u001b[0m\n\u001b[0m",
      "\u001b[1;31mNameError\u001b[0m: name 'os' is not defined"
     ]
    }
   ],
   "source": [
    "\n",
    "os.getcwd()"
   ]
  },
  {
   "cell_type": "code",
   "execution_count": null,
   "metadata": {
    "collapsed": true
   },
   "outputs": [],
   "source": []
  }
 ],
 "metadata": {
  "anaconda-cloud": {},
  "kernelspec": {
   "display_name": "Python 3",
   "language": "python",
   "name": "python3"
  },
  "language_info": {
   "codemirror_mode": {
    "name": "ipython",
    "version": 3
   },
   "file_extension": ".py",
   "mimetype": "text/x-python",
   "name": "python",
   "nbconvert_exporter": "python",
   "pygments_lexer": "ipython3",
   "version": "3.6.1"
  }
 },
 "nbformat": 4,
 "nbformat_minor": 1
}
