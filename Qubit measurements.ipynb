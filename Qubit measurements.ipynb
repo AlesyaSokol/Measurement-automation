{
 "cells": [
  {
   "cell_type": "code",
   "execution_count": 1,
   "metadata": {
    "collapsed": false
   },
   "outputs": [
    {
     "name": "stdout",
     "output_type": "stream",
     "text": [
      "Populating the interactive namespace from numpy and matplotlib\n"
     ]
    }
   ],
   "source": [
    "%pylab qt\n",
    "import datetime\n",
    "import time\n",
    "import pickle\n",
    "from importlib import reload\n",
    "import lib.ResonatorDetector as RD\n",
    "from drivers.Agilent_PNA_L import Agilent_PNA_L\n",
    "from drivers.Yokogawa_GS200 import Yokogawa_GS210\n",
    "from drivers.E8257D import MXG"
   ]
  },
  {
   "cell_type": "code",
   "execution_count": 2,
   "metadata": {
    "collapsed": true
   },
   "outputs": [],
   "source": [
    "from resonator_tools.circuit import notch_port"
   ]
  },
  {
   "cell_type": "code",
   "execution_count": 3,
   "metadata": {
    "collapsed": true
   },
   "outputs": [],
   "source": [
    "import warnings\n",
    "warnings.filterwarnings('ignore')"
   ]
  },
  {
   "cell_type": "code",
   "execution_count": 4,
   "metadata": {
    "collapsed": true
   },
   "outputs": [],
   "source": [
    "matplotlib.rc(\"font\", **{\"size\":25})"
   ]
  },
  {
   "cell_type": "code",
   "execution_count": 16,
   "metadata": {
    "collapsed": true
   },
   "outputs": [],
   "source": [
    "from lib import measurement"
   ]
  },
  {
   "cell_type": "markdown",
   "metadata": {},
   "source": [
    "### Recording"
   ]
  },
  {
   "cell_type": "code",
   "execution_count": 5,
   "metadata": {
    "collapsed": false
   },
   "outputs": [],
   "source": [
    "vna = Agilent_PNA_L(\"PNA-L\")\n",
    "current = Yokogawa_GS210(\"GPIB0::4::INSTR\")\n",
    "current.set_src_mode_curr(5)\n",
    "mw_src = MXG(\"MXG\")"
   ]
  },
  {
   "cell_type": "code",
   "execution_count": 39,
   "metadata": {
    "collapsed": false
   },
   "outputs": [],
   "source": [
    "current.set_current_limits(-20e-3, 15e-3)"
   ]
  },
  {
   "cell_type": "code",
   "execution_count": 6,
   "metadata": {
    "collapsed": false
   },
   "outputs": [],
   "source": [
    "vna.autoscale_all()"
   ]
  },
  {
   "cell_type": "code",
   "execution_count": 54,
   "metadata": {
    "collapsed": false
   },
   "outputs": [
    {
     "name": "stdout",
     "output_type": "stream",
     "text": [
      "Started at:  Wed Feb  1 14:32:44 2017\n",
      "Averages: 1, bandwidth: 200.0, power: -50.0\n",
      "Sweeping total: 50 sweeps, each of 100 point(s)\n",
      "Time left: 0 h 0 m 0.0 s, parameter value: 5.000e-03, average cycle time: 0.54 s          \n",
      "Elapsed time: 0 h 0 m 27.24 s\n"
     ]
    }
   ],
   "source": [
    "exec(open(\"./scripts/script.py\").read())"
   ]
  },
  {
   "cell_type": "code",
   "execution_count": 50,
   "metadata": {
    "collapsed": false
   },
   "outputs": [
    {
     "name": "stdout",
     "output_type": "stream",
     "text": [
      "Idle amplitude center freq 5115547180.34 vs fitresult center frequency: (5115547180.3430147, -45.080460356480145)\n",
      "[  5.11607660e+09] [-45.00797328]\n",
      "Started at:  Wed Feb  1 14:28:26 2017\n",
      "Averages: 1, bandwidth: 50.0, power:-20.0\n",
      "Sweeping total: 400 sweeps (20x20), each of 1 point(s)\n",
      "Time left: 0 h 0 m 0.0 s, parameter values (1,2): ('7.500e-03', '8.000e+09'), average cycle time: 0.07 s          \n",
      "Elapsed time: 0 h 0 m 26.24 s\n"
     ]
    }
   ],
   "source": [
    "exec(open(\"./scripts/script_two_tone.py\").read())"
   ]
  },
  {
   "cell_type": "code",
   "execution_count": 24,
   "metadata": {
    "collapsed": true
   },
   "outputs": [
    {
     "ename": "AttributeError",
     "evalue": "'Yokogawa_GS210' object has no attribute 'output_off'",
     "output_type": "error",
     "traceback": [
      "\u001b[1;31m---------------------------------------------------------------------------\u001b[0m",
      "\u001b[1;31mNameError\u001b[0m                                 Traceback (most recent call last)",
      "\u001b[1;32m<string>\u001b[0m in \u001b[0;36m<module>\u001b[1;34m()\u001b[0m\n",
      "\u001b[1;31mNameError\u001b[0m: name 'znb' is not defined",
      "\nDuring handling of the above exception, another exception occurred:\n",
      "\u001b[1;31mAttributeError\u001b[0m                            Traceback (most recent call last)",
      "\u001b[1;32m<ipython-input-24-a4ff72dc5999>\u001b[0m in \u001b[0;36m<module>\u001b[1;34m()\u001b[0m\n\u001b[1;32m----> 1\u001b[1;33m \u001b[0mexec\u001b[0m\u001b[1;33m(\u001b[0m\u001b[0mopen\u001b[0m\u001b[1;33m(\u001b[0m\u001b[1;34m\"./scripts/script_adapt_center_freqs_for_2tone.py\"\u001b[0m\u001b[1;33m)\u001b[0m\u001b[1;33m.\u001b[0m\u001b[0mread\u001b[0m\u001b[1;33m(\u001b[0m\u001b[1;33m)\u001b[0m\u001b[1;33m)\u001b[0m\u001b[1;33m\u001b[0m\u001b[0m\n\u001b[0m",
      "\u001b[1;32m<string>\u001b[0m in \u001b[0;36m<module>\u001b[1;34m()\u001b[0m\n",
      "\u001b[1;31mAttributeError\u001b[0m: 'Yokogawa_GS210' object has no attribute 'output_off'"
     ]
    }
   ],
   "source": [
    "exec(open(\"./scripts/script_adapt_center_freqs_for_2tone.py\").read())"
   ]
  },
  {
   "cell_type": "code",
   "execution_count": 7,
   "metadata": {
    "collapsed": false
   },
   "outputs": [
    {
     "name": "stdout",
     "output_type": "stream",
     "text": [
      "[  7.51872278e+09] [-43.23183264]\n",
      "Started at:  Tue Jan 31 23:53:45 2017\n",
      "Averages: 15, bandwidth: 1.0, power:-20.0\n",
      "Sweeping total: 3100 sweeps (31x100), each of 1 point(s)\n",
      "Time left: 0 h 0 m 0.0 s, parameter values (1,2): ('0.000e+00', '1.046e+10'), average cycle time: 13.35 s          \n",
      "Elapsed time: 11 h 29 m 48.85 s\n"
     ]
    }
   ],
   "source": [
    "exec(open(\"./scripts/script_powerscan.py\").read())"
   ]
  },
  {
   "cell_type": "markdown",
   "metadata": {},
   "source": [
    "### Plotting"
   ]
  },
  {
   "cell_type": "code",
   "execution_count": 9,
   "metadata": {
    "collapsed": false,
    "scrolled": true
   },
   "outputs": [
    {
     "data": {
      "text/plain": [
       "<module 'lib.plotting' from 'C:\\\\Users\\\\labiks\\\\Documents\\\\Gleb scripts\\\\lib\\\\plotting.py'>"
      ]
     },
     "execution_count": 9,
     "metadata": {},
     "output_type": "execute_result"
    }
   ],
   "source": [
    "from lib import plotting as pl\n",
    "reload(pl)"
   ]
  },
  {
   "cell_type": "code",
   "execution_count": 55,
   "metadata": {
    "collapsed": false
   },
   "outputs": [
    {
     "data": {
      "text/plain": [
       "(<matplotlib.figure.Figure at 0x137d0438>,\n",
       " <matplotlib.figure.Figure at 0x13673828>)"
      ]
     },
     "execution_count": 55,
     "metadata": {},
     "output_type": "execute_result"
    }
   ],
   "source": [
    "pl.plot_measurement(measurement, unwrap_phase=True)"
   ]
  },
  {
   "cell_type": "code",
   "execution_count": 18,
   "metadata": {
    "collapsed": false
   },
   "outputs": [
    {
     "data": {
      "text/plain": [
       "(<matplotlib.figure.Figure at 0xe25b6d8>,\n",
       " <matplotlib.figure.Figure at 0x16f5b3c8>)"
      ]
     },
     "execution_count": 18,
     "metadata": {},
     "output_type": "execute_result"
    }
   ],
   "source": [
    "pl.plot_measurement(measurement.remove_background(-1, axis=\"x\"), kwargs_phas={\"vmax\":0.6}, \n",
    "                    unwrap_phase=False, kwargs_amp={\"vmax\":3, \"vmin\":-10})"
   ]
  },
  {
   "cell_type": "code",
   "execution_count": 169,
   "metadata": {
    "collapsed": false
   },
   "outputs": [
    {
     "data": {
      "text/plain": [
       "(<matplotlib.figure.Figure at 0x5c476710>,\n",
       " <matplotlib.figure.Figure at 0x5c4ff390>)"
      ]
     },
     "execution_count": 169,
     "metadata": {},
     "output_type": "execute_result"
    }
   ],
   "source": [
    "pl.plot_measurement(measurement.remove_background(-1, axis=\"x\"))#, {\"vmin\":-.5, \"vmax\":.5},  {\"vmin\":-.1, \"vmax\":.1})"
   ]
  },
  {
   "cell_type": "code",
   "execution_count": 23,
   "metadata": {
    "collapsed": false
   },
   "outputs": [
    {
     "data": {
      "text/plain": [
       "<matplotlib.collections.QuadMesh at 0xb5d2048>"
      ]
     },
     "execution_count": 23,
     "metadata": {},
     "output_type": "execute_result"
    }
   ],
   "source": [
    "fig = figure()\n",
    "ax = fig.add_axes([0.1,0.1,.8,.8])"
   ]
  },
  {
   "cell_type": "code",
   "execution_count": 9,
   "metadata": {
    "collapsed": false
   },
   "outputs": [
    {
     "data": {
      "text/plain": [
       "[<matplotlib.lines.Line2D at 0x902fcf8>]"
      ]
     },
     "execution_count": 9,
     "metadata": {},
     "output_type": "execute_result"
    }
   ],
   "source": [
    "plt.plot(center_freqs, \".\")"
   ]
  },
  {
   "cell_type": "markdown",
   "metadata": {},
   "source": [
    "### Saving"
   ]
  },
  {
   "cell_type": "code",
   "execution_count": 25,
   "metadata": {
    "collapsed": false
   },
   "outputs": [
    {
     "data": {
      "text/plain": [
       "<module 'lib.data_management' from 'C:\\\\Users\\\\labiks\\\\Documents\\\\Gleb scripts\\\\lib\\\\data_management.py'>"
      ]
     },
     "execution_count": 25,
     "metadata": {},
     "output_type": "execute_result"
    }
   ],
   "source": [
    "from lib import data_management as dm\n",
    "reload(dm)"
   ]
  },
  {
   "cell_type": "code",
   "execution_count": 47,
   "metadata": {
    "collapsed": false
   },
   "outputs": [
    {
     "data": {
      "text/plain": [
       "'Data\\\\Jan 31 2017\\\\19-23-55 - xmon_al_mipt_3_I_2tone\\\\'"
      ]
     },
     "execution_count": 47,
     "metadata": {},
     "output_type": "execute_result"
    }
   ],
   "source": [
    "dm.save_measurement(measurement,  'xmon_al_mipt_3_I_2tone', plot_kwargs={\"unwrap_phase\":True})"
   ]
  },
  {
   "cell_type": "markdown",
   "metadata": {
    "collapsed": true
   },
   "source": [
    "#  Loading"
   ]
  },
  {
   "cell_type": "code",
   "execution_count": 23,
   "metadata": {
    "collapsed": false
   },
   "outputs": [
    {
     "data": {
      "text/plain": [
       "<module 'lib.data_management' from 'C:\\\\Users\\\\RQC128\\\\Documents\\\\Measurement\\\\lib\\\\data_management.py'>"
      ]
     },
     "execution_count": 23,
     "metadata": {},
     "output_type": "execute_result"
    }
   ],
   "source": [
    "from lib import data_management as dm\n",
    "reload(dm)"
   ]
  },
  {
   "cell_type": "code",
   "execution_count": 186,
   "metadata": {
    "collapsed": false
   },
   "outputs": [],
   "source": [
    "measurement3 = dm.load_measurement(\"data\\\\Oct 08 2016\\\\21-12-34\\\\xmon_al_bmstu_1-II-anticrossing_(One_big)\")"
   ]
  }
 ],
 "metadata": {
  "anaconda-cloud": {},
  "kernelspec": {
   "display_name": "Python 3",
   "language": "python",
   "name": "python3"
  },
  "language_info": {
   "codemirror_mode": {
    "name": "ipython",
    "version": 3
   },
   "file_extension": ".py",
   "mimetype": "text/x-python",
   "name": "python",
   "nbconvert_exporter": "python",
   "pygments_lexer": "ipython3",
   "version": "3.5.2"
  }
 },
 "nbformat": 4,
 "nbformat_minor": 0
}
