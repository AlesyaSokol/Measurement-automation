{
 "cells": [
  {
   "cell_type": "code",
   "execution_count": 1,
   "metadata": {
    "collapsed": false
   },
   "outputs": [
    {
     "name": "stdout",
     "output_type": "stream",
     "text": [
      "Populating the interactive namespace from numpy and matplotlib\n"
     ]
    }
   ],
   "source": [
    "%pylab inline"
   ]
  },
  {
   "cell_type": "code",
   "execution_count": 2,
   "metadata": {
    "collapsed": true
   },
   "outputs": [],
   "source": [
    "from importlib import reload"
   ]
  },
  {
   "cell_type": "code",
   "execution_count": 3,
   "metadata": {
    "collapsed": true
   },
   "outputs": [],
   "source": [
    "import drivers, lib\n",
    "from time import sleep\n",
    "import pickle"
   ]
  },
  {
   "cell_type": "code",
   "execution_count": 4,
   "metadata": {
    "collapsed": false
   },
   "outputs": [],
   "source": [
    "from lib import data_management as dm"
   ]
  },
  {
   "cell_type": "code",
   "execution_count": 5,
   "metadata": {
    "collapsed": false
   },
   "outputs": [],
   "source": [
    "# reload(drivers.Agilent_EXA)\n",
    "from drivers.Agilent_EXA import *\n",
    "from drivers.Agilent_PNA_L import *\n",
    "# reload(drivers.KeysightAWG)\n",
    "from drivers.KeysightAWG import KeysightAWG, WaveformType\n",
    "from drivers.E8257D import MXG, EXG"
   ]
  },
  {
   "cell_type": "code",
   "execution_count": 41,
   "metadata": {
    "collapsed": false,
    "scrolled": true
   },
   "outputs": [],
   "source": [
    "exa = Agilent_EXA_N9010A(\"EXA\")\n",
    "ro_awg = KeysightAWG(\"AWG3\")\n",
    "q_awg = KeysightAWG(\"AWG2\")\n",
    "ro_lo = EXG(\"EXG\")"
   ]
  },
  {
   "cell_type": "code",
   "execution_count": 39,
   "metadata": {
    "collapsed": false
   },
   "outputs": [],
   "source": [
    "q_lo = MXG(\"MXG\")"
   ]
  },
  {
   "cell_type": "code",
   "execution_count": 42,
   "metadata": {
    "collapsed": true
   },
   "outputs": [],
   "source": [
    "ro_lo = Agilent_PNA_L(\"PNA-L2\")"
   ]
  },
  {
   "cell_type": "code",
   "execution_count": 26,
   "metadata": {
    "collapsed": false
   },
   "outputs": [],
   "source": [
    "reload(lib.iq_mixer_calibration)\n",
    "from lib.iq_mixer_calibration import *"
   ]
  },
  {
   "cell_type": "markdown",
   "metadata": {},
   "source": [
    "##  Readout resonator"
   ]
  },
  {
   "cell_type": "code",
   "execution_count": 10,
   "metadata": {
    "collapsed": true
   },
   "outputs": [],
   "source": [
    "ro_resonator_frequency = 7.047e9\n",
    "if_offset = 50e6"
   ]
  },
  {
   "cell_type": "code",
   "execution_count": 11,
   "metadata": {
    "collapsed": false
   },
   "outputs": [
    {
     "data": {
      "text/plain": [
       "True"
      ]
     },
     "execution_count": 11,
     "metadata": {},
     "output_type": "execute_result"
    }
   ],
   "source": [
    "ro_lo.set_output_state = lambda x: x\n",
    "ro_lo.set_frequency = ro_lo.set_center\n",
    "ro_lo.set_span(0)"
   ]
  },
  {
   "cell_type": "code",
   "execution_count": 12,
   "metadata": {
    "collapsed": false
   },
   "outputs": [
    {
     "data": {
      "text/plain": [
       "True"
      ]
     },
     "execution_count": 12,
     "metadata": {},
     "output_type": "execute_result"
    }
   ],
   "source": [
    "ro_lo.set_center(ro_resonator_frequency)"
   ]
  },
  {
   "cell_type": "code",
   "execution_count": 14,
   "metadata": {
    "collapsed": false,
    "scrolled": true
   },
   "outputs": [
    {
     "name": "stdout",
     "output_type": "stream",
     "text": [
      "Phase:  0.5534 [ -70.012 -102.440 -109.476 ]      115.817 ]       Calibration data for mixer TEST\n",
      "Mixer parameters: {'mixer_id': 'TEST', 'iq_attenuation': -20}\n",
      "Radiation parameters: {'lo_frequency': 7047000000.0, 'lo_power': 0, 'if_frequency': 50000000.0, 'ssb_power': -70, 'waveform_resolution': 0.1}\n",
      "Optimization results: {'dc': -106.69306945800781, 'if': [-70.01216125488281, -102.44039154052734, -109.4761962890625]}\n",
      "Optimization parameters {'dc_offsets': array([ 0.06928289, -0.09399985]), 'if_offsets': array([ 0.06900207, -0.09600268]), 'if_amplitudes': array([-0.02473116,  0.04114605]), 'if_phase': array([ 1.73792908])}\n",
      "Optimization time: 0 h 0 m 56.84 s\n",
      "Finished at: 2017-04-24 12:09:37.619379\n"
     ]
    }
   ],
   "source": [
    "cal = IQCalibrator(ro_awg, exa, ro_lo, \"TEST\", -20)\n",
    "res = cal.calibrate(lo_frequency=ro_resonator_frequency, if_frequency=if_offset, lo_power=0,\n",
    "                    ssb_power=-70, waveform_resolution=0.1, iterations=3, minimize_iterlimit=20,sa_res_bandwidth=500,)\n",
    "#                     initial_guess=res.get_optimization_results()[0])\n",
    "print(res)"
   ]
  },
  {
   "cell_type": "code",
   "execution_count": 15,
   "metadata": {
    "collapsed": false
   },
   "outputs": [],
   "source": [
    "dm.save_IQMX_calibration(res)"
   ]
  },
  {
   "cell_type": "code",
   "execution_count": 7,
   "metadata": {
    "collapsed": true
   },
   "outputs": [],
   "source": [
    "calibrations=dm.load_IQMX_calibration_database(\"TEST\", -20)\n",
    "res = calibrations.get(frozenset(dict(lo_power=10, ssb_power=-30, lo_frequency=7e9, \n",
    "                                      if_frequency=10e6, waveform_resolution=0.1).items()))"
   ]
  },
  {
   "cell_type": "markdown",
   "metadata": {},
   "source": [
    "## Qubit"
   ]
  },
  {
   "cell_type": "code",
   "execution_count": 31,
   "metadata": {
    "collapsed": true
   },
   "outputs": [],
   "source": [
    "qubit_frequency = 7.9e9\n",
    "if_frequency = 50e6"
   ]
  },
  {
   "cell_type": "code",
   "execution_count": 44,
   "metadata": {
    "collapsed": false
   },
   "outputs": [
    {
     "name": "stdout",
     "output_type": "stream",
     "text": [
      "Phase:  1.4804 [ -19.907 -67.896 -90.877 ]             ]          Calibration data for mixer TESTQ\n",
      "Mixer parameters: {'mixer_id': 'TESTQ', 'iq_attenuation': -6}\n",
      "Radiation parameters: {'lo_frequency': 7950000000.0, 'lo_power': 15, 'if_frequency': 50000000.0, 'ssb_power': -20, 'waveform_resolution': 0.1}\n",
      "Optimization results: {'dc': -81.5372314453125, 'if': [-19.906503677368164, -67.89619445800781, -90.87674713134766]}\n",
      "Optimization parameters {'dc_offsets': array([ 0.04307401, -0.09063471]), 'if_offsets': array([ 0.04425181, -0.0921925 ]), 'if_amplitudes': array([ 0.28466617,  0.28035364]), 'if_phase': array([ 4.65071566])}\n",
      "Optimization time: 0 h 1 m 4.93 s\n",
      "Finished at: 2017-04-24 17:20:37.125641\n"
     ]
    }
   ],
   "source": [
    "cal = IQCalibrator(q_awg, exa, q_lo, \"TESTQ\", -6)\n",
    "res = cal.calibrate(lo_frequency=qubit_frequency+if_frequency, if_frequency=if_frequency, lo_power=15,\n",
    "                    ssb_power=-20, waveform_resolution=.1, iterations=3, minimize_iterlimit=20,sa_res_bandwidth=100,\n",
    "                    initial_guess=res.get_optimization_results()[0])\n",
    "print(res)"
   ]
  },
  {
   "cell_type": "code",
   "execution_count": 45,
   "metadata": {
    "collapsed": true
   },
   "outputs": [],
   "source": [
    "dm.save_IQMX_calibration(res)"
   ]
  },
  {
   "cell_type": "code",
   "execution_count": 46,
   "metadata": {
    "collapsed": true
   },
   "outputs": [],
   "source": [
    "q_lo.visa_instr.close()"
   ]
  },
  {
   "cell_type": "code",
   "execution_count": 57,
   "metadata": {
    "collapsed": true
   },
   "outputs": [],
   "source": [
    "q_lo.set_power(15)"
   ]
  },
  {
   "cell_type": "code",
   "execution_count": 75,
   "metadata": {
    "collapsed": true
   },
   "outputs": [],
   "source": [
    "calibrations = (dm.load_IQMX_calibration_database(\"TESTQ\", -20))\n",
    "cal = calibrations.get(frozenset(dict(lo_power=15, ssb_power=-40, lo_frequency=qubit_frequency+if_frequency, \n",
    "                                      if_frequency=if_frequency, waveform_resolution=0.1).items()))"
   ]
  },
  {
   "cell_type": "code",
   "execution_count": 76,
   "metadata": {
    "collapsed": false
   },
   "outputs": [
    {
     "name": "stdout",
     "output_type": "stream",
     "text": [
      "Calibration data for mixer TESTQ\n",
      "Mixer parameters: {'mixer_id': 'TESTQ', 'iq_attenuation': -20}\n",
      "Radiation parameters: {'lo_frequency': 9250000000.0, 'lo_power': 15, 'if_frequency': 50000000.0, 'ssb_power': -40, 'waveform_resolution': 0.1}\n",
      "Optimization results: {'dc': -111.25095367431641, 'if': [-39.540977478027344, -83.05058288574219, -98.06412506103516]}\n",
      "Optimization parameters {'dc_offsets': array([-0.4119494 ,  0.51782169]), 'if_offsets': array([-0.48734834,  0.68734449]), 'if_amplitudes': array([ 5.17142139,  5.58796915]), 'if_phase': array([ 1.6731673])}\n",
      "Optimization time: 0 h 1 m 26.33 s\n",
      "Finished at: 2017-03-27 21:10:28.338740\n"
     ]
    }
   ],
   "source": [
    "print(cal)"
   ]
  },
  {
   "cell_type": "code",
   "execution_count": 30,
   "metadata": {
    "collapsed": false
   },
   "outputs": [],
   "source": [
    "q_lo.visa_instr.close()"
   ]
  },
  {
   "cell_type": "code",
   "execution_count": null,
   "metadata": {
    "collapsed": true
   },
   "outputs": [],
   "source": []
  }
 ],
 "metadata": {
  "kernelspec": {
   "display_name": "Python 3",
   "language": "python",
   "name": "python3"
  },
  "language_info": {
   "codemirror_mode": {
    "name": "ipython",
    "version": 3
   },
   "file_extension": ".py",
   "mimetype": "text/x-python",
   "name": "python",
   "nbconvert_exporter": "python",
   "pygments_lexer": "ipython3",
   "version": "3.6.0"
  }
 },
 "nbformat": 4,
 "nbformat_minor": 0
}
