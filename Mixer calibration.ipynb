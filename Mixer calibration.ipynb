{
 "cells": [
  {
   "cell_type": "code",
   "execution_count": 2,
   "metadata": {
    "collapsed": false
   },
   "outputs": [
    {
     "name": "stdout",
     "output_type": "stream",
     "text": [
      "Populating the interactive namespace from numpy and matplotlib\n"
     ]
    }
   ],
   "source": [
    "%pylab inline"
   ]
  },
  {
   "cell_type": "code",
   "execution_count": 3,
   "metadata": {
    "collapsed": true
   },
   "outputs": [],
   "source": [
    "from importlib import reload"
   ]
  },
  {
   "cell_type": "code",
   "execution_count": 4,
   "metadata": {
    "collapsed": true
   },
   "outputs": [],
   "source": [
    "import drivers, lib\n",
    "from time import sleep\n",
    "import pickle"
   ]
  },
  {
   "cell_type": "code",
   "execution_count": 5,
   "metadata": {
    "collapsed": false
   },
   "outputs": [],
   "source": [
    "from lib import data_management as dm"
   ]
  },
  {
   "cell_type": "code",
   "execution_count": 6,
   "metadata": {
    "collapsed": false
   },
   "outputs": [],
   "source": [
    "# reload(drivers.Agilent_EXA)\n",
    "from drivers.Agilent_EXA import *\n",
    "from drivers.Agilent_PNA_L import *\n",
    "# reload(drivers.KeysightAWG)\n",
    "from drivers.KeysightAWG import KeysightAWG, WaveformType\n",
    "from drivers.E8257D import MXG, EXG"
   ]
  },
  {
   "cell_type": "code",
   "execution_count": 7,
   "metadata": {
    "collapsed": false,
    "scrolled": true
   },
   "outputs": [],
   "source": [
    "exa = Agilent_EXA_N9010A(\"EXA\")\n",
    "ro_awg = KeysightAWG(\"AWG3\")\n",
    "q_awg = KeysightAWG(\"AWG2\")\n",
    "#ro_lo = EXG(\"EXG\")"
   ]
  },
  {
   "cell_type": "code",
   "execution_count": 11,
   "metadata": {
    "collapsed": false
   },
   "outputs": [],
   "source": [
    "q_lo = MXG(\"MXG\")"
   ]
  },
  {
   "cell_type": "code",
   "execution_count": 61,
   "metadata": {
    "collapsed": false
   },
   "outputs": [],
   "source": [
    "ro_lo = Agilent_PNA_L(\"PNA-L2\")\n",
    "ro_lo.set_frequency = ro_lo.set_center\n",
    "ro_lo.set_output_state = lambda x: x\n",
    "ro_lo.set_span(0)\n",
    "ro_lo.set_nop(1)\n",
    "ro_lo.sweep_continuous()"
   ]
  },
  {
   "cell_type": "code",
   "execution_count": 48,
   "metadata": {
    "collapsed": false
   },
   "outputs": [],
   "source": [
    "reload(lib.iq_mixer_calibration)\n",
    "from lib.iq_mixer_calibration import *"
   ]
  },
  {
   "cell_type": "markdown",
   "metadata": {},
   "source": [
    "##  Readout resonator"
   ]
  },
  {
   "cell_type": "code",
   "execution_count": 16,
   "metadata": {
    "collapsed": true
   },
   "outputs": [],
   "source": [
    "ro_resonator_frequency = 7.047e9\n",
    "if_offset = 0"
   ]
  },
  {
   "cell_type": "code",
   "execution_count": 62,
   "metadata": {
    "collapsed": false,
    "scrolled": true
   },
   "outputs": [
    {
     "name": "stdout",
     "output_type": "stream",
     "text": [
      "Calibration data for mixer TEST\n",
      "Mixer parameters: {'mixer_id': 'TEST', 'iq_attenuation': -6}\n",
      "Radiation parameters: {'lo_frequency': 7047000000.0, 'lo_power': 0, 'if_frequency': 0, 'ssb_power': -30, 'waveform_resolution': 1}\n",
      "Optimization results: {'dc': -96.343833923339844, 'dc_open': [-29.989290237426758]}\n",
      "Optimization parameters {'dc_offsets': array([ 0.01168432, -0.06140434]), 'dc_offsets_open': array([ 0.34890039,  0.34914089]), 'if_offsets': None, 'if_amplitudes': None, 'if_phase': None}\n",
      "Optimization time: 0 h 0 m 20.52 s\n",
      "Finished at: 2017-05-10 21:34:20.236870\n"
     ]
    }
   ],
   "source": [
    "cal = IQCalibrator(ro_awg, exa, ro_lo, \"TEST\", -6)\n",
    "res = cal.calibrate(lo_frequency=ro_resonator_frequency, if_frequency=if_offset, lo_power=0,\n",
    "                    ssb_power=-30, waveform_resolution=1, iterations=3, minimize_iterlimit=20,sa_res_bandwidth=500,)\n",
    "#                     initial_guess=res.get_optimization_results()[0])\n",
    "print(res)"
   ]
  },
  {
   "cell_type": "code",
   "execution_count": 63,
   "metadata": {
    "collapsed": false
   },
   "outputs": [],
   "source": [
    "dm.save_IQMX_calibration(res)"
   ]
  },
  {
   "cell_type": "code",
   "execution_count": 7,
   "metadata": {
    "collapsed": true
   },
   "outputs": [],
   "source": [
    "calibrations=dm.load_IQMX_calibration_database(\"TEST\", -20)\n",
    "res = calibrations.get(frozenset(dict(lo_power=10, ssb_power=-30, lo_frequency=7e9, \n",
    "                                      if_frequency=10e6, waveform_resolution=0.1).items()))"
   ]
  },
  {
   "cell_type": "markdown",
   "metadata": {},
   "source": [
    "## Qubit"
   ]
  },
  {
   "cell_type": "code",
   "execution_count": 20,
   "metadata": {
    "collapsed": true
   },
   "outputs": [],
   "source": [
    "qubit_frequency = 7.9e9\n",
    "if_frequency = 50e6"
   ]
  },
  {
   "cell_type": "code",
   "execution_count": 43,
   "metadata": {
    "collapsed": false
   },
   "outputs": [
    {
     "name": "stdout",
     "output_type": "stream",
     "text": [
      "Phase:  1.4779 [ -11.723 -68.401 -77.051 ]             ] loss: -59.476388931274414          Calibration data for mixer TESTQ\n",
      "Mixer parameters: {'mixer_id': 'TESTQ', 'iq_attenuation': -6}\n",
      "Radiation parameters: {'lo_frequency': 7950000000.0, 'lo_power': 15, 'if_frequency': 50000000.0, 'ssb_power': -10, 'waveform_resolution': 0.1}\n",
      "Optimization results: {'dc': -80.430526733398438, 'if': [-11.723274230957031, -68.40145874023438, -77.05072784423828]}\n",
      "Optimization parameters {'dc_offsets': array([ 0.04308032, -0.08657295]), 'dc_offsets_open': None, 'if_offsets': array([ 0.05021537, -0.09219981]), 'if_amplitudes': array([ 0.73356198,  0.72048027]), 'if_phase': array([ 4.64386468])}\n",
      "Optimization time: 0 h 1 m 13.31 s\n",
      "Finished at: 2017-05-10 20:32:57.958256\n"
     ]
    }
   ],
   "source": [
    "cal = IQCalibrator(q_awg, exa, q_lo, \"TESTQ\", -6)\n",
    "res = cal.calibrate(lo_frequency=qubit_frequency+if_frequency, if_frequency=if_frequency, lo_power=15,\n",
    "                    ssb_power=-10, waveform_resolution=.1, iterations=3, minimize_iterlimit=20,sa_res_bandwidth=500,)\n",
    "#                     initial_guess=res.get_optimization_results()[0])}\n",
    "print(res)"
   ]
  },
  {
   "cell_type": "code",
   "execution_count": 44,
   "metadata": {
    "collapsed": true
   },
   "outputs": [],
   "source": [
    "dm.save_IQMX_calibration(res)"
   ]
  },
  {
   "cell_type": "code",
   "execution_count": 53,
   "metadata": {
    "collapsed": true
   },
   "outputs": [],
   "source": [
    "q_lo.visa_instr.close()"
   ]
  },
  {
   "cell_type": "code",
   "execution_count": null,
   "metadata": {
    "collapsed": true
   },
   "outputs": [],
   "source": []
  }
 ],
 "metadata": {
  "kernelspec": {
   "display_name": "Python 3",
   "language": "python",
   "name": "python3"
  },
  "language_info": {
   "codemirror_mode": {
    "name": "ipython",
    "version": 3
   },
   "file_extension": ".py",
   "mimetype": "text/x-python",
   "name": "python",
   "nbconvert_exporter": "python",
   "pygments_lexer": "ipython3",
   "version": "3.6.0"
  }
 },
 "nbformat": 4,
 "nbformat_minor": 0
}
