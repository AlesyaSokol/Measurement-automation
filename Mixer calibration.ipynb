{
 "cells": [
  {
   "cell_type": "code",
   "execution_count": 1,
   "metadata": {
    "collapsed": false
   },
   "outputs": [
    {
     "name": "stdout",
     "output_type": "stream",
     "text": [
      "Populating the interactive namespace from numpy and matplotlib\n"
     ]
    }
   ],
   "source": [
    "%pylab inline"
   ]
  },
  {
   "cell_type": "code",
   "execution_count": 2,
   "metadata": {
    "collapsed": true
   },
   "outputs": [],
   "source": [
    "from importlib import reload"
   ]
  },
  {
   "cell_type": "code",
   "execution_count": 3,
   "metadata": {
    "collapsed": true
   },
   "outputs": [],
   "source": [
    "import drivers, lib\n",
    "from time import sleep\n",
    "import pickle"
   ]
  },
  {
   "cell_type": "code",
   "execution_count": 4,
   "metadata": {
    "collapsed": false
   },
   "outputs": [],
   "source": [
    "from lib import data_management as dm"
   ]
  },
  {
   "cell_type": "code",
   "execution_count": 5,
   "metadata": {
    "collapsed": false
   },
   "outputs": [],
   "source": [
    "# reload(drivers.Agilent_EXA)\n",
    "from drivers.Agilent_EXA import *\n",
    "from drivers.Agilent_PNA_L import *\n",
    "# reload(drivers.KeysightAWG)\n",
    "from drivers.KeysightAWG import KeysightAWG, WaveformType\n",
    "from drivers.E8257D import MXG, EXG"
   ]
  },
  {
   "cell_type": "code",
   "execution_count": 6,
   "metadata": {
    "collapsed": false,
    "scrolled": true
   },
   "outputs": [],
   "source": [
    "exa = Agilent_EXA_N9010A(\"EXA\")\n",
    "ro_awg = KeysightAWG(\"AWG3\")\n",
    "q_awg = KeysightAWG(\"AWG2\")\n",
    "#ro_lo = EXG(\"EXG\")"
   ]
  },
  {
   "cell_type": "code",
   "execution_count": 13,
   "metadata": {
    "collapsed": false
   },
   "outputs": [],
   "source": [
    "q_lo = MXG(\"MXG\")"
   ]
  },
  {
   "cell_type": "code",
   "execution_count": 7,
   "metadata": {
    "collapsed": false
   },
   "outputs": [],
   "source": [
    "ro_lo = Agilent_PNA_L(\"PNA-L2\")\n",
    "ro_lo.set_frequency = ro_lo.set_center\n",
    "ro_lo.set_output_state = lambda x: x\n",
    "ro_lo.set_span(0)\n",
    "ro_lo.set_nop(1)\n",
    "ro_lo.sweep_continuous()"
   ]
  },
  {
   "cell_type": "code",
   "execution_count": 8,
   "metadata": {
    "collapsed": false
   },
   "outputs": [],
   "source": [
    "# reload(lib.iq_mixer_calibration)\n",
    "from lib.iq_mixer_calibration import *"
   ]
  },
  {
   "cell_type": "markdown",
   "metadata": {},
   "source": [
    "##  Readout resonator"
   ]
  },
  {
   "cell_type": "code",
   "execution_count": 9,
   "metadata": {
    "collapsed": true
   },
   "outputs": [],
   "source": [
    "ro_resonator_frequency = 7.047e9\n",
    "if_offset = 0"
   ]
  },
  {
   "cell_type": "code",
   "execution_count": 10,
   "metadata": {
    "collapsed": false,
    "scrolled": true
   },
   "outputs": [
    {
     "name": "stdout",
     "output_type": "stream",
     "text": [
      "Calibration data for mixer TEST\n",
      "Mixer parameters: {'mixer_id': 'TEST', 'iq_attenuation': -6}\n",
      "Radiation parameters: {'lo_frequency': 7047000000.0, 'lo_power': 0, 'if_frequency': 0, 'ssb_power': -30, 'waveform_resolution': 1}\n",
      "Optimization results: {'dc': -91.583229064941406, 'dc_open': [-29.993877410888672]}\n",
      "Optimization parameters {'dc_offsets': array([ 0.00531541, -0.06928231]), 'dc_offsets_open': array([ 0.33584961,  0.33543945]), 'if_offsets': None, 'if_amplitudes': None, 'if_phase': None}\n",
      "Optimization time: 0 h 0 m 17.55 s\n",
      "Finished at: 2017-05-19 10:45:38.947612\n"
     ]
    }
   ],
   "source": [
    "cal = IQCalibrator(ro_awg, exa, ro_lo, \"TEST\", -6)\n",
    "res = cal.calibrate(lo_frequency=ro_resonator_frequency, if_frequency=if_offset, lo_power=0,\n",
    "                    ssb_power=-30, waveform_resolution=1, iterations=3, minimize_iterlimit=20,sa_res_bandwidth=500,)\n",
    "#                     initial_guess=res.get_optimization_results()[0])\n",
    "print(res)"
   ]
  },
  {
   "cell_type": "code",
   "execution_count": 11,
   "metadata": {
    "collapsed": false
   },
   "outputs": [],
   "source": [
    "dm.save_IQMX_calibration(res)"
   ]
  },
  {
   "cell_type": "code",
   "execution_count": 7,
   "metadata": {
    "collapsed": true
   },
   "outputs": [],
   "source": [
    "calibrations=dm.load_IQMX_calibration_database(\"TEST\", -20)\n",
    "res = calibrations.get(frozenset(dict(lo_power=10, ssb_power=-30, lo_frequency=7e9, \n",
    "                                      if_frequency=10e6, waveform_resolution=0.1).items()))"
   ]
  },
  {
   "cell_type": "markdown",
   "metadata": {},
   "source": [
    "## Qubit"
   ]
  },
  {
   "cell_type": "code",
   "execution_count": 12,
   "metadata": {
    "collapsed": true
   },
   "outputs": [],
   "source": [
    "qubit_frequency = 7.9e9\n",
    "if_frequency = 50e6"
   ]
  },
  {
   "cell_type": "code",
   "execution_count": 16,
   "metadata": {
    "collapsed": false
   },
   "outputs": [
    {
     "name": "stdout",
     "output_type": "stream",
     "text": [
      "Calibration data for mixer TESTQ\n",
      "Mixer parameters: {'mixer_id': 'TESTQ', 'iq_attenuation': -6}\n",
      "Radiation parameters: {'lo_frequency': 7950000000.0, 'lo_power': 15, 'if_frequency': 50000000.0, 'ssb_power': -10, 'waveform_resolution': 0.1}\n",
      "Optimization results: {'dc': -73.562828063964844, 'if': [-10.065738677978516, -67.21025085449219, -78.24851989746094]}\n",
      "Optimization parameters {'dc_offsets': array([ 0.04401699, -0.08346383]), 'dc_offsets_open': None, 'if_offsets': array([ 0.04466019, -0.0829837 ]), 'if_amplitudes': array([ 0.89104038,  0.87332281]), 'if_phase': array([ 4.64330198])}\n",
      "Optimization time: 0 h 1 m 49.79 s\n",
      "Finished at: 2017-05-19 10:59:37.566579\n"
     ]
    }
   ],
   "source": [
    "cal = IQCalibrator(q_awg, exa, q_lo, \"TESTQ\", -6)\n",
    "res = cal.calibrate(lo_frequency=qubit_frequency+if_frequency, if_frequency=if_frequency, lo_power=15,\n",
    "                    ssb_power=-10, waveform_resolution=.1, iterations=5, minimize_iterlimit=20,sa_res_bandwidth=500,)\n",
    "#                     initial_guess=res.get_optimization_results()[0])}\n",
    "print(res)"
   ]
  },
  {
   "cell_type": "code",
   "execution_count": 17,
   "metadata": {
    "collapsed": true
   },
   "outputs": [],
   "source": [
    "dm.save_IQMX_calibration(res)"
   ]
  },
  {
   "cell_type": "code",
   "execution_count": 18,
   "metadata": {
    "collapsed": true
   },
   "outputs": [],
   "source": [
    "q_lo.visa_instr.close()"
   ]
  },
  {
   "cell_type": "code",
   "execution_count": null,
   "metadata": {
    "collapsed": true
   },
   "outputs": [],
   "source": []
  }
 ],
 "metadata": {
  "kernelspec": {
   "display_name": "Python 3",
   "language": "python",
   "name": "python3"
  },
  "language_info": {
   "codemirror_mode": {
    "name": "ipython",
    "version": 3
   },
   "file_extension": ".py",
   "mimetype": "text/x-python",
   "name": "python",
   "nbconvert_exporter": "python",
   "pygments_lexer": "ipython3",
   "version": "3.6.0"
  }
 },
 "nbformat": 4,
 "nbformat_minor": 0
}
