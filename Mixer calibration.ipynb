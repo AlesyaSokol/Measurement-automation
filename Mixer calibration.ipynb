{
 "cells": [
  {
   "cell_type": "code",
   "execution_count": 1,
   "metadata": {
    "collapsed": false
   },
   "outputs": [
    {
     "name": "stdout",
     "output_type": "stream",
     "text": [
      "Populating the interactive namespace from numpy and matplotlib\n"
     ]
    }
   ],
   "source": [
    "%pylab inline"
   ]
  },
  {
   "cell_type": "code",
   "execution_count": 2,
   "metadata": {
    "collapsed": true
   },
   "outputs": [],
   "source": [
    "from importlib import reload"
   ]
  },
  {
   "cell_type": "code",
   "execution_count": 3,
   "metadata": {
    "collapsed": true
   },
   "outputs": [],
   "source": [
    "import drivers, lib\n",
    "from time import sleep\n",
    "import pickle"
   ]
  },
  {
   "cell_type": "code",
   "execution_count": 4,
   "metadata": {
    "collapsed": false
   },
   "outputs": [],
   "source": [
    "from lib import data_management as dm"
   ]
  },
  {
   "cell_type": "code",
   "execution_count": 61,
   "metadata": {
    "collapsed": false
   },
   "outputs": [],
   "source": [
    "# reload(drivers.Agilent_EXA)\n",
    "from drivers.Agilent_EXA import *\n",
    "# reload(drivers.KeysightAWG)\n",
    "from drivers.KeysightAWG import KeysightAWG, WaveformType\n",
    "from drivers.E8257D import E8257D"
   ]
  },
  {
   "cell_type": "code",
   "execution_count": 48,
   "metadata": {
    "collapsed": false
   },
   "outputs": [],
   "source": [
    "exa = Agilent_EXA_N9010A(\"SA\", \"EXA\")\n",
    "awg = KeysightAWG(\"AWG2\")\n",
    "mwsrc = E8257D(\"MXG\")"
   ]
  },
  {
   "cell_type": "code",
   "execution_count": 55,
   "metadata": {
    "collapsed": false
   },
   "outputs": [],
   "source": [
    "reload(lib.iq_mixer_calibration)\n",
    "from lib.iq_mixer_calibration import *"
   ]
  },
  {
   "cell_type": "code",
   "execution_count": 63,
   "metadata": {
    "collapsed": false,
    "scrolled": true
   },
   "outputs": [
    {
     "name": "stdout",
     "output_type": "stream",
     "text": [
      "Phase:  [-1.96471537] [-15.593219757080078, -81.66436767578125, -104.99742126464844], "
     ]
    }
   ],
   "source": [
    "cal = IQCalibrator(awg, exa, mwsrc, \"TEST\", -20)\n",
    "res = cal.calibrate(lo_frequency=5e9, if_frequency=100e6, lo_power=10,\n",
    "                    ssb_power=-20, iterations=5, minimize_iterlimit=20,sa_res_bandwidth=1000,\n",
    "                    initial_guess=res.get_optimization_results()[0])"
   ]
  },
  {
   "cell_type": "code",
   "execution_count": 44,
   "metadata": {
    "collapsed": false
   },
   "outputs": [
    {
     "name": "stdout",
     "output_type": "stream",
     "text": [
      "Calibration data for mixer TEST\n",
      "Mixer parameters: {'mixer_id': 'TEST', 'iq_attenuation': -20}\n",
      "Radiation parameters: {'if_frequency': 100000000.0, 'lo_power': 10, 'ssb_power': -20, 'lo_frequency': 5000000000.0}\n",
      "Optimization results: {'dc': -103.53374481201172, 'if': [-19.828022003173828, -84.92497253417969, -104.45783996582031]}\n",
      "Optimization time: 0 h 4 m 10.82 s\n"
     ]
    }
   ],
   "source": [
    "print(res)"
   ]
  },
  {
   "cell_type": "code",
   "execution_count": 11,
   "metadata": {
    "collapsed": false
   },
   "outputs": [
    {
     "data": {
      "text/plain": [
       "({'dc_offsets': array([-0.08081103, -0.03753255]),\n",
       "  'if_amplitudes': array([ 1.34394893,  1.47900162]),\n",
       "  'if_offsets': array([-0.09390972, -0.04513448]),\n",
       "  'if_phase': array([-3.90144169])},\n",
       " {'dc': -96.877677917480469,\n",
       "  'if': [-20.11989402770996, -91.63507080078125, -112.01741790771484]})"
      ]
     },
     "execution_count": 11,
     "metadata": {},
     "output_type": "execute_result"
    }
   ],
   "source": [
    "res.get_optimization_results()"
   ]
  },
  {
   "cell_type": "code",
   "execution_count": 71,
   "metadata": {
    "collapsed": true
   },
   "outputs": [],
   "source": [
    "exa.setup_swept_sa(4.9e9, 500e6, nop=1001, rbw=1e5)\n",
    "exa.set_continuous()"
   ]
  },
  {
   "cell_type": "code",
   "execution_count": 39,
   "metadata": {
    "collapsed": false
   },
   "outputs": [
    {
     "data": {
      "text/plain": [
       "<module 'lib.data_management' from 'C:\\\\Users\\\\labiks\\\\Documents\\\\Gleb scripts\\\\lib\\\\data_management.py'>"
      ]
     },
     "execution_count": 39,
     "metadata": {},
     "output_type": "execute_result"
    }
   ],
   "source": [
    "reload(dm)"
   ]
  },
  {
   "cell_type": "code",
   "execution_count": 69,
   "metadata": {
    "collapsed": false
   },
   "outputs": [],
   "source": [
    "dm.save_IQMX_calibration(res)"
   ]
  },
  {
   "cell_type": "code",
   "execution_count": 16,
   "metadata": {
    "collapsed": false
   },
   "outputs": [
    {
     "data": {
      "text/plain": [
       "{'if_frequency': 100000000.0,\n",
       " 'lo_frequency': 5000000000.0,\n",
       " 'lo_power': 10,\n",
       " 'ssb_power': -20}"
      ]
     },
     "execution_count": 16,
     "metadata": {},
     "output_type": "execute_result"
    }
   ],
   "source": [
    "res.get_radiation_parameters()"
   ]
  },
  {
   "cell_type": "code",
   "execution_count": 28,
   "metadata": {
    "collapsed": false
   },
   "outputs": [
    {
     "data": {
      "text/plain": [
       "({'dc_offsets': array([-0.08081103, -0.03753255]),\n",
       "  'if_amplitudes': array([ 1.34394893,  1.47900162]),\n",
       "  'if_offsets': array([-0.09390972, -0.04513448]),\n",
       "  'if_phase': array([-3.90144169])},\n",
       " {'dc': -96.877677917480469,\n",
       "  'if': [-20.11989402770996, -91.63507080078125, -112.01741790771484]})"
      ]
     },
     "execution_count": 28,
     "metadata": {},
     "output_type": "execute_result"
    }
   ],
   "source": [
    "list(dm.load_IQMX_calibration_database(\"TEST\", -20).values())[0].get_optimization_results()"
   ]
  },
  {
   "cell_type": "code",
   "execution_count": 41,
   "metadata": {
    "collapsed": false
   },
   "outputs": [
    {
     "data": {
      "text/plain": [
       "[frozenset({('if_frequency', 100000000.0),\n",
       "            ('lo_frequency', 5000000000.0),\n",
       "            ('lo_power', 10),\n",
       "            ('ssb_power', -20)})]"
      ]
     },
     "execution_count": 41,
     "metadata": {},
     "output_type": "execute_result"
    }
   ],
   "source": [
    "list(dm.load_IQMX_calibration_database(\"TEST\", -20).keys())"
   ]
  },
  {
   "cell_type": "code",
   "execution_count": null,
   "metadata": {
    "collapsed": true
   },
   "outputs": [],
   "source": []
  }
 ],
 "metadata": {
  "kernelspec": {
   "display_name": "Python 3",
   "language": "python",
   "name": "python3"
  },
  "language_info": {
   "codemirror_mode": {
    "name": "ipython",
    "version": 3
   },
   "file_extension": ".py",
   "mimetype": "text/x-python",
   "name": "python",
   "nbconvert_exporter": "python",
   "pygments_lexer": "ipython3",
   "version": "3.5.2"
  }
 },
 "nbformat": 4,
 "nbformat_minor": 0
}
