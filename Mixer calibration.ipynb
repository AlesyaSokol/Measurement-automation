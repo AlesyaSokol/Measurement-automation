{
 "cells": [
  {
   "cell_type": "code",
   "execution_count": 1,
   "metadata": {
    "collapsed": false
   },
   "outputs": [
    {
     "name": "stdout",
     "output_type": "stream",
     "text": [
      "Populating the interactive namespace from numpy and matplotlib\n"
     ]
    }
   ],
   "source": [
    "%pylab inline"
   ]
  },
  {
   "cell_type": "code",
   "execution_count": 2,
   "metadata": {
    "collapsed": true
   },
   "outputs": [],
   "source": [
    "from time import sleep"
   ]
  },
  {
   "cell_type": "code",
   "execution_count": 3,
   "metadata": {
    "collapsed": true
   },
   "outputs": [],
   "source": [
    "from importlib import reload"
   ]
  },
  {
   "cell_type": "code",
   "execution_count": 4,
   "metadata": {
    "collapsed": true
   },
   "outputs": [],
   "source": [
    "import drivers, lib\n",
    "from time import sleep\n",
    "import pickle"
   ]
  },
  {
   "cell_type": "code",
   "execution_count": 5,
   "metadata": {
    "collapsed": true
   },
   "outputs": [],
   "source": [
    "from lib import data_management as dm"
   ]
  },
  {
   "cell_type": "code",
   "execution_count": 6,
   "metadata": {
    "collapsed": true
   },
   "outputs": [],
   "source": [
    "# reload(drivers.IQAWG)"
   ]
  },
  {
   "cell_type": "code",
   "execution_count": 7,
   "metadata": {
    "collapsed": true
   },
   "outputs": [],
   "source": [
    "# reload(drivers.Agilent_EXA)\n",
    "from drivers.Agilent_EXA import *\n",
    "from drivers.Agilent_PNA_L import *\n",
    "from drivers.znb import *\n",
    "# reload(drivers.KeysightAWG)\n",
    "from drivers.KeysightAWG import KeysightAWG, WaveformType\n",
    "from drivers.Tektronix_AWG5014 import *\n",
    "from drivers.IQAWG import *\n",
    "from drivers.E8257D import MXG, EXG"
   ]
  },
  {
   "cell_type": "code",
   "execution_count": 8,
   "metadata": {
    "collapsed": true,
    "scrolled": true
   },
   "outputs": [],
   "source": [
    "exa = Agilent_EXA_N9010A(\"EXA\")\n",
    "# ro_awg = KeysightAWG(\"AWG3\")\n",
    "# q_awg = KeysightAWG(\"AWG2\")\n",
    "# ro_lo = EXG(\"PSG\")"
   ]
  },
  {
   "cell_type": "code",
   "execution_count": 9,
   "metadata": {
    "collapsed": false
   },
   "outputs": [],
   "source": [
    "# awg._visainstrument.close()\n",
    "awg3 = KeysightAWG(\"AWG3\")\n",
    "awg2 = KeysightAWG(\"AWG2\")\n",
    "ro_awg = IQAWG(AWGChannel(awg3, 1), AWGChannel(awg3, 2))\n",
    "q_awg = IQAWG(AWGChannel(awg2, 1), AWGChannel(awg2, 2))"
   ]
  },
  {
   "cell_type": "code",
   "execution_count": 10,
   "metadata": {
    "collapsed": true
   },
   "outputs": [],
   "source": [
    "q_lo = MXG(\"MXG\")"
   ]
  },
  {
   "cell_type": "code",
   "execution_count": 11,
   "metadata": {
    "collapsed": true
   },
   "outputs": [],
   "source": [
    "ro_lo = Agilent_PNA_L(\"PNA-L1\")\n",
    "ro_lo.set_frequency = ro_lo.set_center\n",
    "ro_lo.set_output_state = lambda x: x\n",
    "ro_lo.set_span(0)\n",
    "ro_lo.set_nop(1)\n",
    "ro_lo.sweep_continuous()"
   ]
  },
  {
   "cell_type": "code",
   "execution_count": 9,
   "metadata": {
    "collapsed": true
   },
   "outputs": [],
   "source": [
    "ro_lo = Znb(\"ZNB\")\n",
    "ro_lo.set_frequency = ro_lo.set_center\n",
    "ro_lo.set_output_state = lambda x: x\n",
    "ro_lo.set_nop(1)\n",
    "ro_lo.sweep_continuous()"
   ]
  },
  {
   "cell_type": "code",
   "execution_count": 12,
   "metadata": {
    "collapsed": true
   },
   "outputs": [],
   "source": [
    "# reload(lib.iq_mixer_calibration)\n",
    "from lib.iq_mixer_calibration import *"
   ]
  },
  {
   "cell_type": "markdown",
   "metadata": {},
   "source": [
    "##  Readout resonator"
   ]
  },
  {
   "cell_type": "code",
   "execution_count": 13,
   "metadata": {
    "collapsed": true
   },
   "outputs": [],
   "source": [
    "ro_resonator_frequency = 7.5351e9\n",
    "if_offset = 0"
   ]
  },
  {
   "cell_type": "code",
   "execution_count": 18,
   "metadata": {
    "collapsed": false,
    "scrolled": false
   },
   "outputs": [
    {
     "name": "stdout",
     "output_type": "stream",
     "text": [
      "Calibration data for mixer Xmons_Nb_bandage_res_mixer_to_-10_2\n",
      "Mixer parameters: {'mixer_id': 'Xmons_Nb_bandage_res_mixer_to_-10_2', 'iq_attenuation': -10}\n",
      "Radiation parameters: {'lo_frequency': 7535100000.0, 'lo_power': 7, 'if_frequency': 0, 'ssb_power': -45, 'waveform_resolution': 1}\n",
      "Optimization results: {'dc': -113.74695587158203, 'dc_open': [-45.00151824951172]}\n",
      "Optimization parameters {'dc_offsets': array([ 0.02353586, -0.04700055]), 'dc_offsets_open': array([ 1.39526561,  1.39523778]), 'if_offsets': None, 'if_amplitudes': None, 'if_phase': None}\n",
      "Optimization time: 0 h 0 m 26.47 s\n",
      "Finished at: 2017-08-11 14:19:48.764824\n"
     ]
    }
   ],
   "source": [
    "cal = IQCalibrator(ro_awg, exa, ro_lo, \"Xmons_Nb_bandage_res_mixer_to_-10_2\", -10)\n",
    "res = cal.calibrate(lo_frequency=ro_resonator_frequency, if_frequency=if_offset, lo_power=7,\n",
    "                    ssb_power=-45, waveform_resolution=1, iterations=7, minimize_iterlimit=20,sa_res_bandwidth=200,)\n",
    "#                     initial_guess=res.get_optimization_results()[0])\n",
    "#                     initial_guess = {'dc_offsets': array([ 0.1,  .1]),\n",
    "#                                     'dc_offsets_open': array([ 1  ,  1]),\n",
    "#                                     'if_amplitudes': None,\n",
    "#                                     'if_offsets': None,\n",
    "#                                     'if_phase': None})\n",
    "print(res)"
   ]
  },
  {
   "cell_type": "code",
   "execution_count": 19,
   "metadata": {
    "collapsed": true
   },
   "outputs": [],
   "source": [
    "dm.save_IQMX_calibration(res)"
   ]
  },
  {
   "cell_type": "code",
   "execution_count": 15,
   "metadata": {
    "collapsed": true
   },
   "outputs": [],
   "source": [
    "calibrations=dm.load_IQMX_calibration_database(\"Xmons_Nb_bandage_res_mixer_to_-10\", -10)\n",
    "res = calibrations.get(frozenset(dict(lo_power=10, ssb_power=-10, lo_frequency=7.535e9, \n",
    "                                      if_frequency=50e6, waveform_resolution=1).items()))"
   ]
  },
  {
   "cell_type": "code",
   "execution_count": 16,
   "metadata": {
    "collapsed": false
   },
   "outputs": [
    {
     "data": {
      "text/plain": [
       "{frozenset({('if_frequency', 0),\n",
       "            ('lo_frequency', 7535100000.0),\n",
       "            ('lo_power', 7),\n",
       "            ('ssb_power', -10),\n",
       "            ('waveform_resolution',\n",
       "             1)}): <lib.iq_mixer_calibration.IQCalibrationData at 0xa19b0b8>}"
      ]
     },
     "execution_count": 16,
     "metadata": {},
     "output_type": "execute_result"
    }
   ],
   "source": [
    "calibrations"
   ]
  },
  {
   "cell_type": "markdown",
   "metadata": {},
   "source": [
    "## Qubit"
   ]
  },
  {
   "cell_type": "code",
   "execution_count": 37,
   "metadata": {
    "collapsed": true
   },
   "outputs": [],
   "source": [
    "qubit_frequency = 6.164e9\n",
    "if_frequency = 73e6"
   ]
  },
  {
   "cell_type": "code",
   "execution_count": 39,
   "metadata": {
    "collapsed": false
   },
   "outputs": [
    {
     "name": "stdout",
     "output_type": "stream",
     "text": [
      "Calibration data for mixer Xmons_Nb_bandage_qub_mixer_to_-10_2\n",
      "Mixer parameters: {'mixer_id': 'Xmons_Nb_bandage_qub_mixer_to_-10_2', 'iq_attenuation': -6}\n",
      "Radiation parameters: {'lo_frequency': 6237000000.0, 'lo_power': 10, 'if_frequency': 73000000.0, 'ssb_power': -10, 'waveform_resolution': 1}\n",
      "Optimization results: {'dc': -8.1549501419067383, 'if': [-9.92733097076416, -67.26168823242188, -77.41122436523438]}\n",
      "Optimization parameters {'dc_offsets': array([ 1.20663958, -0.02515221]), 'dc_offsets_open': None, 'if_offsets': array([ 0.03638988, -0.02140058]), 'if_amplitudes': array([ 0.52581602,  0.50277418]), 'if_phase': array([-1.52201727])}\n",
      "Optimization time: 0 h 1 m 50.82 s\n",
      "Finished at: 2017-08-10 20:05:01.549581\n"
     ]
    }
   ],
   "source": [
    "cal = IQCalibrator(q_awg, exa, q_lo, \"Xmons_Nb_bandage_qub_mixer_to_-10_2\", -6)\n",
    "res = cal.calibrate(lo_frequency=qubit_frequency+if_frequency, if_frequency=if_frequency, lo_power=10,\n",
    "                    ssb_power=-10, waveform_resolution=1, iterations=5, minimize_iterlimit=20,sa_res_bandwidth=300,)\n",
    "#                     initial_guess=res.get_optimization_results()[0])}\n",
    "print(res)"
   ]
  },
  {
   "cell_type": "code",
   "execution_count": 40,
   "metadata": {
    "collapsed": true
   },
   "outputs": [],
   "source": [
    "dm.save_IQMX_calibration(res)"
   ]
  },
  {
   "cell_type": "code",
   "execution_count": 20,
   "metadata": {
    "collapsed": true
   },
   "outputs": [],
   "source": [
    "q_lo._visainstrument.close()"
   ]
  },
  {
   "cell_type": "code",
   "execution_count": 31,
   "metadata": {
    "collapsed": true
   },
   "outputs": [],
   "source": [
    "awg._visainstrument.close()"
   ]
  },
  {
   "cell_type": "code",
   "execution_count": null,
   "metadata": {
    "collapsed": false
   },
   "outputs": [],
   "source": [
    "q_awg.get_1st_delay()"
   ]
  },
  {
   "cell_type": "code",
   "execution_count": null,
   "metadata": {
    "collapsed": false
   },
   "outputs": [],
   "source": [
    "exa.set_singlesweep_mode()"
   ]
  },
  {
   "cell_type": "code",
   "execution_count": null,
   "metadata": {
    "collapsed": false
   },
   "outputs": [],
   "source": [
    "exa.set_centerfreq(6e9)"
   ]
  },
  {
   "cell_type": "code",
   "execution_count": null,
   "metadata": {
    "collapsed": false
   },
   "outputs": [],
   "source": [
    "data_u = exa.make_sweep_get_data()\n",
    "freqs_u = exa.get_freqpoints()"
   ]
  },
  {
   "cell_type": "code",
   "execution_count": null,
   "metadata": {
    "collapsed": false
   },
   "outputs": [],
   "source": [
    "plt.plot(freqs_u,data_u)\n",
    "fig = matplotlib.pyplot.gcf()\n",
    "fig.set_size_inches(6.5, 4.5)\n",
    "plt.annotate('$P_{LO}= 7$ dBm\\n'+'$P_{SB}=-15$ dBm\\n'+'Uncalibrated', xy=(0.7, 0.75), xycoords='axes fraction', fontsize=16)\n",
    "plt.grid()\n",
    "plt.savefig('./cal_pictures/uncal2.pdf', dpi=300)"
   ]
  },
  {
   "cell_type": "code",
   "execution_count": null,
   "metadata": {
    "collapsed": false
   },
   "outputs": [],
   "source": [
    "q_awg.output_continuous_wave(frequency=50e6, amplitude=1, phase=0, offset=0,\n",
    "                                 waveform_resolution=1, channel=1)\n",
    "q_awg.output_continuous_wave(frequency=50e6, amplitude=1, phase=0, offset=0,\n",
    "                                 waveform_resolution=1, channel=2)"
   ]
  },
  {
   "cell_type": "code",
   "execution_count": null,
   "metadata": {
    "collapsed": false
   },
   "outputs": [],
   "source": [
    "matplotlib.rcParams['mathtext.fontset'] = 'stix'\n",
    "matplotlib.rcParams['font.family'] = 'STIXGeneral'\n",
    "matplotlib.rcParams['xtick.labelsize'] = 16\n",
    "matplotlib.rcParams['ytick.labelsize'] = 16"
   ]
  },
  {
   "cell_type": "code",
   "execution_count": null,
   "metadata": {
    "collapsed": true
   },
   "outputs": [],
   "source": [
    "q_lo.set_power(7)"
   ]
  },
  {
   "cell_type": "code",
   "execution_count": null,
   "metadata": {
    "collapsed": false
   },
   "outputs": [],
   "source": [
    "l = [1,2,3]\n",
    "d = [4,5,6]"
   ]
  },
  {
   "cell_type": "code",
   "execution_count": null,
   "metadata": {
    "collapsed": false
   },
   "outputs": [],
   "source": [
    "l+[len(d)]"
   ]
  },
  {
   "cell_type": "code",
   "execution_count": null,
   "metadata": {
    "collapsed": false
   },
   "outputs": [],
   "source": [
    "for i,j in zip(l,d):\n",
    "    print(i,j)"
   ]
  },
  {
   "cell_type": "code",
   "execution_count": null,
   "metadata": {
    "collapsed": true
   },
   "outputs": [],
   "source": [
    "import numpy as np"
   ]
  },
  {
   "cell_type": "code",
   "execution_count": null,
   "metadata": {
    "collapsed": false
   },
   "outputs": [],
   "source": [
    "np.product([[1,1,1],[1,1,1]])"
   ]
  },
  {
   "cell_type": "code",
   "execution_count": null,
   "metadata": {
    "collapsed": true
   },
   "outputs": [],
   "source": []
  }
 ],
 "metadata": {
  "kernelspec": {
   "display_name": "Python 3",
   "language": "python",
   "name": "python3"
  },
  "language_info": {
   "codemirror_mode": {
    "name": "ipython",
    "version": 3
   },
   "file_extension": ".py",
   "mimetype": "text/x-python",
   "name": "python",
   "nbconvert_exporter": "python",
   "pygments_lexer": "ipython3",
   "version": "3.6.0"
  }
 },
 "nbformat": 4,
 "nbformat_minor": 1
}
