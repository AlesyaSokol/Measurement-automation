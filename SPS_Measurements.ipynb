{
 "cells": [
  {
   "cell_type": "markdown",
   "metadata": {},
   "source": [
    "# Loading libraries and modules"
   ]
  },
  {
   "cell_type": "code",
   "execution_count": 1,
   "metadata": {
    "collapsed": false
   },
   "outputs": [
    {
     "name": "stdout",
     "output_type": "stream",
     "text": [
      "Populating the interactive namespace from numpy and matplotlib\n"
     ]
    }
   ],
   "source": [
    "%pylab qt5"
   ]
  },
  {
   "cell_type": "code",
   "execution_count": 2,
   "metadata": {
    "collapsed": true
   },
   "outputs": [],
   "source": [
    "mpl.rcParams['grid.color'] = 'k'\n",
    "mpl.rcParams['grid.linestyle'] = ':'\n",
    "mpl.rcParams['grid.linewidth'] = 0.5"
   ]
  },
  {
   "cell_type": "code",
   "execution_count": 3,
   "metadata": {
    "collapsed": false
   },
   "outputs": [],
   "source": [
    "import drivers\n",
    "#reload(drivers.Agilent_EXA)"
   ]
  },
  {
   "cell_type": "code",
   "execution_count": 4,
   "metadata": {
    "collapsed": false
   },
   "outputs": [],
   "source": [
    "from importlib import reload\n",
    "import lib2\n",
    "from lib2.Measurement import *\n",
    "from lib2.SingleToneSpectroscopy import *\n",
    "from lib2 import MeasurementResult\n",
    "from lib2.FourWaveMixingBase import *"
   ]
  },
  {
   "cell_type": "markdown",
   "metadata": {},
   "source": [
    "# Single-Tone Spectroscopy\n"
   ]
  },
  {
   "cell_type": "code",
   "execution_count": null,
   "metadata": {
    "collapsed": false
   },
   "outputs": [],
   "source": [
    "STS = SingleToneSpectroscopy(\"II-qubit_search\", \"SPS_old_5-0.5 fF\", vna = 'vna2', src = 'yok1')\n",
    "vna_parameters = {\"bandwidth\":50, \"freq_limits\":(4000e6, 5000e6), \"nop\":401, \"power\":-35, \"averages\":1}\n",
    "STS.set_fixed_parameters(vna_parameters)\n",
    "STS.set_swept_parameters({'current': (STS._src.set_current, linspace(-1e-3, 1e-3, 201))})\n",
    "result = STS.launch()\n",
    "result.visualize()"
   ]
  },
  {
   "cell_type": "code",
   "execution_count": null,
   "metadata": {
    "collapsed": false
   },
   "outputs": [],
   "source": [
    "vna2 = STS._actual_devices['vna2']"
   ]
  },
  {
   "cell_type": "code",
   "execution_count": null,
   "metadata": {
    "collapsed": false
   },
   "outputs": [],
   "source": [
    "vna2.del_all_meas()"
   ]
  },
  {
   "cell_type": "code",
   "execution_count": null,
   "metadata": {
    "collapsed": true
   },
   "outputs": [],
   "source": [
    "vna2.define_Sij(4,3)"
   ]
  },
  {
   "cell_type": "markdown",
   "metadata": {},
   "source": [
    "_______________"
   ]
  },
  {
   "cell_type": "markdown",
   "metadata": {},
   "source": [
    "## Four Wave mixing Continuous"
   ]
  },
  {
   "cell_type": "code",
   "execution_count": null,
   "metadata": {
    "collapsed": false
   },
   "outputs": [],
   "source": [
    "reload(drivers.E8257D);"
   ]
  },
  {
   "cell_type": "code",
   "execution_count": 5,
   "metadata": {
    "collapsed": false
   },
   "outputs": [],
   "source": [
    "#reload(lib2.Measurement)\n",
    "reload(lib2.FourWaveMixingBase)\n",
    "from lib2.FourWaveMixingBase import *"
   ]
  },
  {
   "cell_type": "code",
   "execution_count": 6,
   "metadata": {
    "collapsed": false,
    "scrolled": false
   },
   "outputs": [
    {
     "name": "stdout",
     "output_type": "stream",
     "text": [
      "The device exa is detected as EXA\n",
      "The device mxg is detected as MXG\n",
      "The device exg is detected as EXG\n",
      "Enter your comment: \n"
     ]
    }
   ],
   "source": [
    "WMM = FourWaveMixingBase('I-Measurement_with_2_gens', 'SPS_old', 60, exa = 'exa', src_plus = 'mxg', src_minus = 'exg')"
   ]
  },
  {
   "cell_type": "code",
   "execution_count": 7,
   "metadata": {
    "collapsed": false
   },
   "outputs": [],
   "source": [
    "exa_pars = {\"bandwidth\":1, \"nop\":2001, \"centerfreq\":4.2825e9, \"span\":100e3, \"averages\":50, \"avg_status\":1}\n",
    "WMM.set_fixed_parameters(exa_pars,delta = 1e3)"
   ]
  },
  {
   "cell_type": "code",
   "execution_count": 8,
   "metadata": {
    "collapsed": false
   },
   "outputs": [],
   "source": [
    "powers = linspace(-29,9,161)\n",
    "WMM.set_swept_parameters(WMM.powers_equal_setter_with_offset,powers)"
   ]
  },
  {
   "cell_type": "code",
   "execution_count": 9,
   "metadata": {
    "collapsed": false,
    "scrolled": true
   },
   "outputs": [
    {
     "name": "stdout",
     "output_type": "stream",
     "text": [
      "Started at:  2017-05-03 19:15:31.848889\n"
     ]
    },
    {
     "name": "stderr",
     "output_type": "stream",
     "text": [
      "C:\\ProgramData\\Anaconda3\\lib\\site-packages\\matplotlib\\backend_bases.py:2445: MatplotlibDeprecationWarning: Using default event loop until function specific to this GUI is implemented\n",
      "  warnings.warn(str, mplDeprecation)\n"
     ]
    },
    {
     "name": "stdout",
     "output_type": "stream",
     "text": [
      "\r",
      "Time left: 4 h 30 m 52.45 s, powers at $\\omega_{p}$: -2.90e+01]: , average cycle time: 101.58 s       "
     ]
    },
    {
     "name": "stderr",
     "output_type": "stream",
     "text": [
      "C:\\Users\\PAINMASTER\\Measurement\\lib2\\FourWaveMixingBase.py:214: VisibleDeprecationWarning: using a non-integer number instead of an integer will result in an error in the future\n",
      "  peaks_data = [power_data[:,i] for i in self._peaks_indices]\n"
     ]
    },
    {
     "name": "stdout",
     "output_type": "stream",
     "text": [
      "Time left: 0 h 5 m 12.03 s, powers at $\\omega_{p}$: 8.29e+00]: , average cycle time: 104.01 s         Error: power must be between -20 and 19 dBm\n",
      "Time left: 0 h 3 m 28.03 s, powers at $\\omega_{p}$: 8.52e+00]: , average cycle time: 104.02 s       Error: power must be between -20 and 19 dBm\n",
      "Time left: 0 h 1 m 44.02 s, powers at $\\omega_{p}$: 8.76e+00]: , average cycle time: 104.02 s       Error: power must be between -20 and 19 dBm\n",
      "Time left: 0 h 0 m 0.0 s, powers at $\\omega_{p}$: 9.00e+00]: , average cycle time: 104.02 s       "
     ]
    }
   ],
   "source": [
    "result = WMM.launch()"
   ]
  },
  {
   "cell_type": "markdown",
   "metadata": {},
   "source": [
    "________________"
   ]
  },
  {
   "cell_type": "code",
   "execution_count": null,
   "metadata": {
    "collapsed": false
   },
   "outputs": [],
   "source": [
    "WMM.close_devs(['exa','mxg','exg'])"
   ]
  },
  {
   "cell_type": "markdown",
   "metadata": {},
   "source": [
    "_________________"
   ]
  },
  {
   "cell_type": "markdown",
   "metadata": {},
   "source": [
    "### Result actions:"
   ]
  },
  {
   "cell_type": "code",
   "execution_count": 101,
   "metadata": {
    "collapsed": false
   },
   "outputs": [],
   "source": [
    "last_data = result.get_data()"
   ]
  },
  {
   "cell_type": "code",
   "execution_count": 107,
   "metadata": {
    "collapsed": false
   },
   "outputs": [
    {
     "name": "stderr",
     "output_type": "stream",
     "text": [
      "C:\\Users\\PAINMASTER\\Measurement\\lib2\\FourWaveMixingBase.py:204: VisibleDeprecationWarning: using a non-integer number instead of an integer will result in an error in the future\n",
      "  XX, YY = generate_mesh(data[self._parameter_name], data[\"frequency\"]/1e3)\n"
     ]
    }
   ],
   "source": [
    "plt.plot(result._prepare_data_for_plot(last_data)[3])\n",
    "plt.show()"
   ]
  },
  {
   "cell_type": "code",
   "execution_count": 62,
   "metadata": {
    "collapsed": false
   },
   "outputs": [
    {
     "data": {
      "text/plain": [
       "{'exa': {'averages': 3,\n",
       "  'avg_status': 1,\n",
       "  'bandwidth': 20,\n",
       "  'centerfreq': 4282500000.0,\n",
       "  'nop': 501,\n",
       "  'span': 50000.0},\n",
       " 'src_minus': {'frequency': 4282499000.0},\n",
       " 'src_plus': {'frequency': 4282501000.0}}"
      ]
     },
     "execution_count": 62,
     "metadata": {},
     "output_type": "execute_result"
    }
   ],
   "source": [
    "result.get_context().get_equipment()"
   ]
  },
  {
   "cell_type": "code",
   "execution_count": null,
   "metadata": {
    "collapsed": true
   },
   "outputs": [],
   "source": [
    "result.save()"
   ]
  },
  {
   "cell_type": "code",
   "execution_count": 10,
   "metadata": {
    "collapsed": false
   },
   "outputs": [
    {
     "name": "stderr",
     "output_type": "stream",
     "text": [
      "C:\\Users\\PAINMASTER\\Measurement\\lib2\\FourWaveMixingBase.py:214: VisibleDeprecationWarning: using a non-integer number instead of an integer will result in an error in the future\n",
      "  peaks_data = [power_data[:,i] for i in self._peaks_indices]\n"
     ]
    }
   ],
   "source": [
    "result.visualize()"
   ]
  },
  {
   "cell_type": "markdown",
   "metadata": {},
   "source": [
    "\n",
    "______________"
   ]
  },
  {
   "cell_type": "markdown",
   "metadata": {},
   "source": [
    "______________"
   ]
  },
  {
   "cell_type": "code",
   "execution_count": 35,
   "metadata": {
    "collapsed": false
   },
   "outputs": [
    {
     "data": {
      "text/plain": [
       "1013"
      ]
     },
     "execution_count": 35,
     "metadata": {},
     "output_type": "execute_result"
    }
   ],
   "source": [
    "sys."
   ]
  },
  {
   "cell_type": "code",
   "execution_count": 32,
   "metadata": {
    "collapsed": false
   },
   "outputs": [],
   "source": [
    "x = [1,2,3,4,5,6]\n",
    "yl = [[1,2,3,4,5,6],[6,5,4,3,2,1],[3,6,9,12,15,18]]\n",
    "lines = [plt.plot(x,yl[i]) for i in range(len(yl))]"
   ]
  },
  {
   "cell_type": "code",
   "execution_count": 33,
   "metadata": {
    "collapsed": false
   },
   "outputs": [
    {
     "data": {
      "text/plain": [
       "[<matplotlib.lines.Line2D at 0x107d27b8>]"
      ]
     },
     "execution_count": 33,
     "metadata": {},
     "output_type": "execute_result"
    }
   ],
   "source": [
    "lines.pop(0)"
   ]
  },
  {
   "cell_type": "code",
   "execution_count": 35,
   "metadata": {
    "collapsed": false
   },
   "outputs": [],
   "source": [
    "plt.draw()"
   ]
  },
  {
   "cell_type": "code",
   "execution_count": null,
   "metadata": {
    "collapsed": false
   },
   "outputs": [],
   "source": [
    "vna2 = meas._actual_devices['vna2']\n",
    "yok = meas._actual_devices['yok1']"
   ]
  },
  {
   "cell_type": "code",
   "execution_count": null,
   "metadata": {
    "collapsed": false
   },
   "outputs": [],
   "source": [
    "yok.set_current_limits(-12e-3,12e-3)"
   ]
  }
 ],
 "metadata": {
  "kernelspec": {
   "display_name": "Python 3",
   "language": "python",
   "name": "python3"
  },
  "language_info": {
   "codemirror_mode": {
    "name": "ipython",
    "version": 3
   },
   "file_extension": ".py",
   "mimetype": "text/x-python",
   "name": "python",
   "nbconvert_exporter": "python",
   "pygments_lexer": "ipython3",
   "version": "3.6.0"
  }
 },
 "nbformat": 4,
 "nbformat_minor": 2
}
