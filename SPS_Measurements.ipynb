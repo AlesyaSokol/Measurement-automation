{
 "cells": [
  {
   "cell_type": "markdown",
   "metadata": {},
   "source": [
    "# Loading libraries and modules"
   ]
  },
  {
   "cell_type": "code",
   "execution_count": 13,
   "metadata": {
    "collapsed": false
   },
   "outputs": [
    {
     "name": "stdout",
     "output_type": "stream",
     "text": [
      "Populating the interactive namespace from numpy and matplotlib\n"
     ]
    }
   ],
   "source": [
    "%pylab qt5"
   ]
  },
  {
   "cell_type": "code",
   "execution_count": 2,
   "metadata": {
    "collapsed": true
   },
   "outputs": [],
   "source": [
    "mpl.rcParams['grid.color'] = 'k'\n",
    "mpl.rcParams['grid.linestyle'] = ':'\n",
    "mpl.rcParams['grid.linewidth'] = 0.5"
   ]
  },
  {
   "cell_type": "code",
   "execution_count": 3,
   "metadata": {
    "collapsed": false
   },
   "outputs": [],
   "source": [
    "import drivers\n",
    "#reload(drivers.Agilent_EXA)"
   ]
  },
  {
   "cell_type": "code",
   "execution_count": 4,
   "metadata": {
    "collapsed": false
   },
   "outputs": [],
   "source": [
    "from importlib import reload\n",
    "import lib2\n",
    "from lib2.Measurement import *\n",
    "from lib2.SingleToneSpectroscopy import *\n",
    "from lib2 import MeasurementResult\n",
    "from lib2.FourWaveMixingBase import *"
   ]
  },
  {
   "cell_type": "markdown",
   "metadata": {},
   "source": [
    "# Single-Tone Spectroscopy\n"
   ]
  },
  {
   "cell_type": "code",
   "execution_count": 76,
   "metadata": {
    "collapsed": false
   },
   "outputs": [
    {
     "name": "stdout",
     "output_type": "stream",
     "text": [
      "vna2 is already initialized\n",
      "yok1 is already initialized\n",
      "Started at:  2017-05-05 11:05:14.750922\n"
     ]
    },
    {
     "name": "stderr",
     "output_type": "stream",
     "text": [
      "C:\\ProgramData\\Anaconda3\\lib\\site-packages\\matplotlib\\backend_bases.py:2445: MatplotlibDeprecationWarning: Using default event loop until function specific to this GUI is implemented\n",
      "  warnings.warn(str, mplDeprecation)\n"
     ]
    },
    {
     "name": "stdout",
     "output_type": "stream",
     "text": [
      "Time left: 0 h 14 m 15.42 s, current: -9.90e-04]: , average cycle time: 35.64 s       "
     ]
    }
   ],
   "source": [
    "STS = SingleToneSpectroscopy(\"II-qubit_search\", \"SPS_old_5-0.5 fF\", vna = 'vna2', src = 'yok1')\n",
    "vna_parameters = {\"bandwidth\":10, \"freq_limits\":(4000e6, 5000e6), \"nop\":401, \"power\":-35, \"averages\":1}\n",
    "STS.set_fixed_parameters(vna_parameters)\n",
    "STS.set_swept_parameters({'current': (STS._src.set_current, linspace(-1e-3, -0.75e-3, 26))})\n",
    "result = STS.launch()\n",
    "result.visualize()"
   ]
  },
  {
   "cell_type": "code",
   "execution_count": null,
   "metadata": {
    "collapsed": false
   },
   "outputs": [],
   "source": [
    "vna2 = STS._actual_devices['vna2']"
   ]
  },
  {
   "cell_type": "code",
   "execution_count": null,
   "metadata": {
    "collapsed": false
   },
   "outputs": [],
   "source": [
    "vna2.del_all_meas()"
   ]
  },
  {
   "cell_type": "code",
   "execution_count": null,
   "metadata": {
    "collapsed": true
   },
   "outputs": [],
   "source": [
    "vna2.define_Sij(4,3)"
   ]
  },
  {
   "cell_type": "code",
   "execution_count": null,
   "metadata": {
    "collapsed": true
   },
   "outputs": [],
   "source": []
  },
  {
   "cell_type": "code",
   "execution_count": null,
   "metadata": {
    "collapsed": true
   },
   "outputs": [],
   "source": [
    "exa = "
   ]
  },
  {
   "cell_type": "markdown",
   "metadata": {},
   "source": [
    "_______________"
   ]
  },
  {
   "cell_type": "markdown",
   "metadata": {},
   "source": [
    "## Four Wave mixing Continuous"
   ]
  },
  {
   "cell_type": "code",
   "execution_count": 35,
   "metadata": {
    "collapsed": false
   },
   "outputs": [],
   "source": [
    "reload(drivers.E8257D);"
   ]
  },
  {
   "cell_type": "code",
   "execution_count": 37,
   "metadata": {
    "collapsed": false
   },
   "outputs": [
    {
     "name": "stdout",
     "output_type": "stream",
     "text": [
      "\r",
      "Time left: 0 h 26 m 28.41 s, powers at $\\omega_{p}$: -2.90e+01]: , average cycle time: 9.93 s       "
     ]
    }
   ],
   "source": [
    "#reload(lib2.Measurement)\n",
    "reload(lib2.FourWaveMixingBase)\n",
    "from lib2.FourWaveMixingBase import *"
   ]
  },
  {
   "cell_type": "code",
   "execution_count": 38,
   "metadata": {
    "collapsed": false,
    "scrolled": false
   },
   "outputs": [
    {
     "name": "stdout",
     "output_type": "stream",
     "text": [
      "exa is already initialized\n",
      "mxg is already initialized\n",
      "exg is already initialized\n",
      "Enter your comment: \n"
     ]
    }
   ],
   "source": [
    "WMM = FourWaveMixingBase('I-Measurement_with_2_gens', 'SPS_old', 60, exa = 'exa', src_plus = 'mxg', src_minus = 'exg')"
   ]
  },
  {
   "cell_type": "code",
   "execution_count": 39,
   "metadata": {
    "collapsed": false
   },
   "outputs": [],
   "source": [
    "exa_pars = {\"bandwidth\":5, \"nop\":1001, \"centerfreq\":4.558e9, \"span\":200e3, \"averages\":20, \"avg_status\":1}\n",
    "WMM.set_fixed_parameters(exa_pars,delta = 5e3, power_minus=-15)"
   ]
  },
  {
   "cell_type": "code",
   "execution_count": 40,
   "metadata": {
    "collapsed": false
   },
   "outputs": [],
   "source": [
    "powers = linspace(-29,9,161)\n",
    "WMM.set_swept_parameters(WMM.powers_plus_setter,powers)"
   ]
  },
  {
   "cell_type": "code",
   "execution_count": 41,
   "metadata": {
    "collapsed": false,
    "scrolled": true
   },
   "outputs": [
    {
     "name": "stdout",
     "output_type": "stream",
     "text": [
      "Started at:  2017-05-05 15:58:48.653379\n"
     ]
    },
    {
     "name": "stderr",
     "output_type": "stream",
     "text": [
      "C:\\ProgramData\\Anaconda3\\lib\\site-packages\\matplotlib\\backend_bases.py:2445: MatplotlibDeprecationWarning: Using default event loop until function specific to this GUI is implemented\n",
      "  warnings.warn(str, mplDeprecation)\n"
     ]
    },
    {
     "name": "stdout",
     "output_type": "stream",
     "text": [
      "\r",
      "Time left: 0 h 23 m 51.12 s, powers at $\\omega_{p}$: -2.90e+01]: , average cycle time: 8.94 s       "
     ]
    },
    {
     "name": "stderr",
     "output_type": "stream",
     "text": [
      "C:\\Users\\PAINMASTER\\Measurement\\lib2\\FourWaveMixingBase.py:219: VisibleDeprecationWarning: using a non-integer number instead of an integer will result in an error in the future\n",
      "  peaks_data = [power_data[:,i] for i in self._peaks_indices]\n"
     ]
    },
    {
     "name": "stdout",
     "output_type": "stream",
     "text": [
      "Time left: 0 h 0 m 0.0 s, powers at $\\omega_{p}$: 9.00e+00]: , average cycle time: 8.86 s           "
     ]
    }
   ],
   "source": [
    "result = WMM.launch()"
   ]
  },
  {
   "cell_type": "markdown",
   "metadata": {},
   "source": [
    "________________"
   ]
  },
  {
   "cell_type": "code",
   "execution_count": 58,
   "metadata": {
    "collapsed": false
   },
   "outputs": [],
   "source": [
    "WMM._sources_off()"
   ]
  },
  {
   "cell_type": "code",
   "execution_count": 29,
   "metadata": {
    "collapsed": false
   },
   "outputs": [
    {
     "ename": "NameError",
     "evalue": "name 'WMM' is not defined",
     "output_type": "error",
     "traceback": [
      "\u001b[0;31m---------------------------------------------------------------------------\u001b[0m",
      "\u001b[0;31mNameError\u001b[0m                                 Traceback (most recent call last)",
      "\u001b[0;32m<ipython-input-29-afd81815a627>\u001b[0m in \u001b[0;36m<module>\u001b[0;34m()\u001b[0m\n\u001b[0;32m----> 1\u001b[0;31m \u001b[0mWMM\u001b[0m\u001b[1;33m.\u001b[0m\u001b[0m_actual_devices\u001b[0m\u001b[1;33m[\u001b[0m\u001b[1;34m\"exa\"\u001b[0m\u001b[1;33m]\u001b[0m\u001b[1;33m\u001b[0m\u001b[0m\n\u001b[0m",
      "\u001b[0;31mNameError\u001b[0m: name 'WMM' is not defined"
     ]
    }
   ],
   "source": [
    "WMM._actual_devices[\"exa\"]"
   ]
  },
  {
   "cell_type": "code",
   "execution_count": 59,
   "metadata": {
    "collapsed": false
   },
   "outputs": [
    {
     "ename": "TypeError",
     "evalue": "close_devs() missing 1 required positional argument: 'devs_to_close'",
     "output_type": "error",
     "traceback": [
      "\u001b[0;31m---------------------------------------------------------------------------\u001b[0m",
      "\u001b[0;31mTypeError\u001b[0m                                 Traceback (most recent call last)",
      "\u001b[0;32m<ipython-input-59-395db25b8150>\u001b[0m in \u001b[0;36m<module>\u001b[0;34m()\u001b[0m\n\u001b[0;32m----> 1\u001b[0;31m \u001b[0mWMM\u001b[0m\u001b[1;33m.\u001b[0m\u001b[0mclose_devs\u001b[0m\u001b[1;33m(\u001b[0m\u001b[1;33m)\u001b[0m\u001b[1;33m\u001b[0m\u001b[0m\n\u001b[0m",
      "\u001b[0;31mTypeError\u001b[0m: close_devs() missing 1 required positional argument: 'devs_to_close'"
     ]
    }
   ],
   "source": [
    "WMM.close_devs([])"
   ]
  },
  {
   "cell_type": "markdown",
   "metadata": {},
   "source": [
    "_________________"
   ]
  },
  {
   "cell_type": "markdown",
   "metadata": {},
   "source": [
    "### Result actions:"
   ]
  },
  {
   "cell_type": "code",
   "execution_count": 101,
   "metadata": {
    "collapsed": false
   },
   "outputs": [],
   "source": [
    "last_data = result.get_data()"
   ]
  },
  {
   "cell_type": "code",
   "execution_count": 107,
   "metadata": {
    "collapsed": false
   },
   "outputs": [
    {
     "name": "stderr",
     "output_type": "stream",
     "text": [
      "C:\\Users\\PAINMASTER\\Measurement\\lib2\\FourWaveMixingBase.py:204: VisibleDeprecationWarning: using a non-integer number instead of an integer will result in an error in the future\n",
      "  XX, YY = generate_mesh(data[self._parameter_name], data[\"frequency\"]/1e3)\n"
     ]
    }
   ],
   "source": [
    "plt.plot(result._prepare_data_for_plot(last_data)[3])\n",
    "plt.show()"
   ]
  },
  {
   "cell_type": "code",
   "execution_count": 62,
   "metadata": {
    "collapsed": false
   },
   "outputs": [
    {
     "data": {
      "text/plain": [
       "{'exa': {'averages': 3,\n",
       "  'avg_status': 1,\n",
       "  'bandwidth': 20,\n",
       "  'centerfreq': 4282500000.0,\n",
       "  'nop': 501,\n",
       "  'span': 50000.0},\n",
       " 'src_minus': {'frequency': 4282499000.0},\n",
       " 'src_plus': {'frequency': 4282501000.0}}"
      ]
     },
     "execution_count": 62,
     "metadata": {},
     "output_type": "execute_result"
    }
   ],
   "source": [
    "result.get_context().get_equipment()"
   ]
  },
  {
   "cell_type": "code",
   "execution_count": 52,
   "metadata": {
    "collapsed": false
   },
   "outputs": [
    {
     "data": {
      "text/plain": [
       "{'data': array([[-109.22088623+0.j, -112.54631805+0.j, -110.81224060+0.j, ...,\n",
       "         -111.82388306+0.j, -110.62974548+0.j, -111.90089417+0.j],\n",
       "        [-110.30791473+0.j, -111.17034912+0.j, -111.27483368+0.j, ...,\n",
       "         -111.80966949+0.j, -111.47522736+0.j, -110.94252014+0.j],\n",
       "        [-110.71948242+0.j, -113.45018005+0.j, -111.07409668+0.j, ...,\n",
       "         -111.46545410+0.j, -110.37467957+0.j, -111.52845764+0.j],\n",
       "        ..., \n",
       "        [-111.91103363+0.j, -111.07156372+0.j, -110.87885284+0.j, ...,\n",
       "         -111.53218842+0.j, -110.81587982+0.j, -111.06202698+0.j],\n",
       "        [-111.78394318+0.j, -113.48889923+0.j, -111.31215668+0.j, ...,\n",
       "         -112.06949615+0.j, -112.62942505+0.j, -112.19381714+0.j],\n",
       "        [-111.90762329+0.j, -111.92087555+0.j, -110.05377197+0.j, ...,\n",
       "         -111.67778778+0.j, -112.68290710+0.j, -110.56620026+0.j]]),\n",
       " 'frequency': array([  4.55790000e+09,   4.55790020e+09,   4.55790040e+09, ...,\n",
       "          4.55809960e+09,   4.55809980e+09,   4.55810000e+09]),\n",
       " 'powers at $\\\\omega_{p}$': array([ -2.90000000e+01,  -2.87625000e+01,  -2.85250000e+01,\n",
       "         -2.82875000e+01,  -2.80500000e+01,  -2.78125000e+01,\n",
       "         -2.75750000e+01,  -2.73375000e+01,  -2.71000000e+01,\n",
       "         -2.68625000e+01,  -2.66250000e+01,  -2.63875000e+01,\n",
       "         -2.61500000e+01,  -2.59125000e+01,  -2.56750000e+01,\n",
       "         -2.54375000e+01,  -2.52000000e+01,  -2.49625000e+01,\n",
       "         -2.47250000e+01,  -2.44875000e+01,  -2.42500000e+01,\n",
       "         -2.40125000e+01,  -2.37750000e+01,  -2.35375000e+01,\n",
       "         -2.33000000e+01,  -2.30625000e+01,  -2.28250000e+01,\n",
       "         -2.25875000e+01,  -2.23500000e+01,  -2.21125000e+01,\n",
       "         -2.18750000e+01,  -2.16375000e+01,  -2.14000000e+01,\n",
       "         -2.11625000e+01,  -2.09250000e+01,  -2.06875000e+01,\n",
       "         -2.04500000e+01,  -2.02125000e+01,  -1.99750000e+01,\n",
       "         -1.97375000e+01,  -1.95000000e+01,  -1.92625000e+01,\n",
       "         -1.90250000e+01,  -1.87875000e+01,  -1.85500000e+01,\n",
       "         -1.83125000e+01,  -1.80750000e+01,  -1.78375000e+01,\n",
       "         -1.76000000e+01,  -1.73625000e+01,  -1.71250000e+01,\n",
       "         -1.68875000e+01,  -1.66500000e+01,  -1.64125000e+01,\n",
       "         -1.61750000e+01,  -1.59375000e+01,  -1.57000000e+01,\n",
       "         -1.54625000e+01,  -1.52250000e+01,  -1.49875000e+01,\n",
       "         -1.47500000e+01,  -1.45125000e+01,  -1.42750000e+01,\n",
       "         -1.40375000e+01,  -1.38000000e+01,  -1.35625000e+01,\n",
       "         -1.33250000e+01,  -1.30875000e+01,  -1.28500000e+01,\n",
       "         -1.26125000e+01,  -1.23750000e+01,  -1.21375000e+01,\n",
       "         -1.19000000e+01,  -1.16625000e+01,  -1.14250000e+01,\n",
       "         -1.11875000e+01,  -1.09500000e+01,  -1.07125000e+01,\n",
       "         -1.04750000e+01,  -1.02375000e+01,  -1.00000000e+01,\n",
       "         -9.76250000e+00,  -9.52500000e+00,  -9.28750000e+00,\n",
       "         -9.05000000e+00,  -8.81250000e+00,  -8.57500000e+00,\n",
       "         -8.33750000e+00,  -8.10000000e+00,  -7.86250000e+00,\n",
       "         -7.62500000e+00,  -7.38750000e+00,  -7.15000000e+00,\n",
       "         -6.91250000e+00,  -6.67500000e+00,  -6.43750000e+00,\n",
       "         -6.20000000e+00,  -5.96250000e+00,  -5.72500000e+00,\n",
       "         -5.48750000e+00,  -5.25000000e+00,  -5.01250000e+00,\n",
       "         -4.77500000e+00,  -4.53750000e+00,  -4.30000000e+00,\n",
       "         -4.06250000e+00,  -3.82500000e+00,  -3.58750000e+00,\n",
       "         -3.35000000e+00,  -3.11250000e+00,  -2.87500000e+00,\n",
       "         -2.63750000e+00,  -2.40000000e+00,  -2.16250000e+00,\n",
       "         -1.92500000e+00,  -1.68750000e+00,  -1.45000000e+00,\n",
       "         -1.21250000e+00,  -9.75000000e-01,  -7.37500000e-01,\n",
       "         -5.00000000e-01,  -2.62500000e-01,  -2.50000000e-02,\n",
       "          2.12500000e-01,   4.50000000e-01,   6.87500000e-01,\n",
       "          9.25000000e-01,   1.16250000e+00,   1.40000000e+00,\n",
       "          1.63750000e+00,   1.87500000e+00,   2.11250000e+00,\n",
       "          2.35000000e+00,   2.58750000e+00,   2.82500000e+00,\n",
       "          3.06250000e+00,   3.30000000e+00,   3.53750000e+00,\n",
       "          3.77500000e+00,   4.01250000e+00,   4.25000000e+00,\n",
       "          4.48750000e+00,   4.72500000e+00,   4.96250000e+00,\n",
       "          5.20000000e+00,   5.43750000e+00,   5.67500000e+00,\n",
       "          5.91250000e+00,   6.15000000e+00,   6.38750000e+00,\n",
       "          6.62500000e+00,   6.86250000e+00,   7.10000000e+00,\n",
       "          7.33750000e+00,   7.57500000e+00,   7.81250000e+00,\n",
       "          8.05000000e+00,   8.28750000e+00,   8.52500000e+00,\n",
       "          8.76250000e+00,   9.00000000e+00])}"
      ]
     },
     "execution_count": 52,
     "metadata": {},
     "output_type": "execute_result"
    }
   ],
   "source": [
    "D = result.get_data()\n",
    "D"
   ]
  },
  {
   "cell_type": "code",
   "execution_count": 42,
   "metadata": {
    "collapsed": false
   },
   "outputs": [
    {
     "name": "stderr",
     "output_type": "stream",
     "text": [
      "C:\\Users\\PAINMASTER\\Measurement\\lib2\\FourWaveMixingBase.py:219: VisibleDeprecationWarning: using a non-integer number instead of an integer will result in an error in the future\n",
      "  peaks_data = [power_data[:,i] for i in self._peaks_indices]\n"
     ]
    }
   ],
   "source": [
    "result.visualize()"
   ]
  },
  {
   "cell_type": "markdown",
   "metadata": {},
   "source": [
    "\n",
    "______________"
   ]
  },
  {
   "cell_type": "markdown",
   "metadata": {},
   "source": [
    "## Rabi oscillations IQ mixer"
   ]
  },
  {
   "cell_type": "code",
   "execution_count": 1,
   "metadata": {
    "collapsed": true
   },
   "outputs": [],
   "source": [
    "import drivers\n",
    "from importlib import reload\n",
    "from lib import data_management as dm"
   ]
  },
  {
   "cell_type": "code",
   "execution_count": 255,
   "metadata": {
    "collapsed": false
   },
   "outputs": [
    {
     "data": {
      "text/plain": [
       "<module 'drivers.KeysightAWG' from 'C:\\\\Users\\\\PAINMASTER\\\\Measurement\\\\drivers\\\\KeysightAWG.py'>"
      ]
     },
     "execution_count": 255,
     "metadata": {},
     "output_type": "execute_result"
    }
   ],
   "source": [
    "reload(drivers.KeysightAWG)"
   ]
  },
  {
   "cell_type": "code",
   "execution_count": 256,
   "metadata": {
    "collapsed": true
   },
   "outputs": [],
   "source": [
    "from drivers.KeysightAWG import *"
   ]
  },
  {
   "cell_type": "code",
   "execution_count": 30,
   "metadata": {
    "collapsed": true
   },
   "outputs": [],
   "source": [
    "from drivers import *"
   ]
  },
  {
   "cell_type": "code",
   "execution_count": 31,
   "metadata": {
    "collapsed": true
   },
   "outputs": [],
   "source": [
    "exa = Agilent_EXA.Agilent_EXA_N9010A(\"EXA\")"
   ]
  },
  {
   "cell_type": "code",
   "execution_count": 32,
   "metadata": {
    "collapsed": false
   },
   "outputs": [
    {
     "data": {
      "text/plain": [
       "<drivers.Agilent_EXA.Agilent_EXA_N9010A at 0xb904198>"
      ]
     },
     "execution_count": 32,
     "metadata": {},
     "output_type": "execute_result"
    }
   ],
   "source": []
  },
  {
   "cell_type": "code",
   "execution_count": 257,
   "metadata": {
    "collapsed": false
   },
   "outputs": [],
   "source": [
    "if_freq = 200e6\n",
    "q_freq = 4.558e9\n",
    "calibrations = (dm.load_IQMX_calibration_database(\"SPS_mixer1\", -6))\n",
    "cal = calibrations.get(frozenset(dict(lo_power=15, ssb_power=-40, lo_frequency=q_freq+if_freq, \n",
    "                                      if_frequency=if_freq, waveform_resolution=0.1).items()))\n",
    "pb = PulseBuilder(cal)"
   ]
  },
  {
   "cell_type": "code",
   "execution_count": 129,
   "metadata": {
    "collapsed": false
   },
   "outputs": [],
   "source": [
    "awg = KeysightAWG.KeysightAWG(\"AWG2\")"
   ]
  },
  {
   "cell_type": "code",
   "execution_count": 168,
   "metadata": {
    "collapsed": false
   },
   "outputs": [
    {
     "data": {
      "text/plain": [
       "({'dc_offsets': array([-0.00572362, -0.0149987 ]),\n",
       "  'dc_offsets_open': None,\n",
       "  'if_amplitudes': array([-1.12361941,  1.08115163]),\n",
       "  'if_offsets': array([-0.00572362, -0.01736287]),\n",
       "  'if_phase': array([ 1.70583871])},\n",
       " {'dc': -102.0552978515625,\n",
       "  'if': [-39.952842712402344, -73.05088806152344, -102.57215118408203]})"
      ]
     },
     "execution_count": 168,
     "metadata": {},
     "output_type": "execute_result"
    }
   ],
   "source": [
    "cal.get_optimization_results()"
   ]
  },
  {
   "cell_type": "code",
   "execution_count": 258,
   "metadata": {
    "collapsed": true
   },
   "outputs": [],
   "source": [
    "pulse_seq = pb.add_sine_pulse(1.2, 0).add_zero_pulse(48.8).build()\n",
    "awg.output_pulse_sequence(pulse_seq)"
   ]
  },
  {
   "cell_type": "code",
   "execution_count": 259,
   "metadata": {
    "collapsed": true
   },
   "outputs": [],
   "source": [
    "pulse_seq.plot()"
   ]
  },
  {
   "cell_type": "code",
   "execution_count": 260,
   "metadata": {
    "collapsed": false
   },
   "outputs": [
    {
     "data": {
      "text/plain": [
       "501"
      ]
     },
     "execution_count": 260,
     "metadata": {},
     "output_type": "execute_result"
    }
   ],
   "source": [
    "len(pulse_seq.get_I_waveform())"
   ]
  },
  {
   "cell_type": "code",
   "execution_count": 247,
   "metadata": {
    "collapsed": false
   },
   "outputs": [
    {
     "data": {
      "text/plain": [
       "12"
      ]
     },
     "execution_count": 247,
     "metadata": {},
     "output_type": "execute_result"
    }
   ],
   "source": [
    "round(1.2/0.1)"
   ]
  },
  {
   "cell_type": "code",
   "execution_count": 82,
   "metadata": {
    "collapsed": true
   },
   "outputs": [],
   "source": [
    "from time import sleep"
   ]
  },
  {
   "cell_type": "code",
   "execution_count": 171,
   "metadata": {
    "collapsed": true
   },
   "outputs": [],
   "source": [
    "exa.setup_swept_sa(center_freq=q_freq,span=100e6,nop=1001,rbw=10e3)"
   ]
  },
  {
   "cell_type": "code",
   "execution_count": 263,
   "metadata": {
    "collapsed": false
   },
   "outputs": [
    {
     "name": "stdout",
     "output_type": "stream",
     "text": [
      "\r",
      "-54.0378189087"
     ]
    },
    {
     "name": "stderr",
     "output_type": "stream",
     "text": [
      "C:\\ProgramData\\Anaconda3\\lib\\site-packages\\matplotlib\\backend_bases.py:2445: MatplotlibDeprecationWarning: Using default event loop until function specific to this GUI is implemented\n",
      "  warnings.warn(str, mplDeprecation)\n"
     ]
    },
    {
     "name": "stdout",
     "output_type": "stream",
     "text": [
      "-36.2010459956"
     ]
    }
   ],
   "source": [
    "plt.ion()\n",
    "plt.clf()\n",
    "exa.setup_swept_sa(center_freq=q_freq,span=10e3,nop=2001,rbw=3)\n",
    "exa.set_averages(3)\n",
    "exa.set_average(1)\n",
    "for dur in linspace(5,46,201):\n",
    "    pulse_seq = pb.add_sine_pulse(dur, 0).add_zero_pulse(100-dur).build()\n",
    "    awg.output_pulse_sequence(pulse_seq)\n",
    "    #sleep(1)\n",
    "    intens = exa.make_sweep_get_data()\n",
    "    print('\\r'+str(max(intens)), flush=True,end='')\n",
    "    plot([dur], [intens[1000]], \"go\")\n",
    "    plt.show()\n",
    "    plt.pause(0.1)"
   ]
  },
  {
   "cell_type": "code",
   "execution_count": 45,
   "metadata": {
    "collapsed": false
   },
   "outputs": [
    {
     "data": {
      "text/plain": [
       "[-92.46448516845703]"
      ]
     },
     "execution_count": 45,
     "metadata": {},
     "output_type": "execute_result"
    }
   ],
   "source": [
    "intens"
   ]
  },
  {
   "cell_type": "code",
   "execution_count": 63,
   "metadata": {
    "collapsed": true
   },
   "outputs": [],
   "source": [
    "exa.setup_swept_sa(q_freq, 10e3,1001,10)"
   ]
  },
  {
   "cell_type": "markdown",
   "metadata": {},
   "source": [
    "______________"
   ]
  }
 ],
 "metadata": {
  "kernelspec": {
   "display_name": "Python 3",
   "language": "python",
   "name": "python3"
  },
  "language_info": {
   "codemirror_mode": {
    "name": "ipython",
    "version": 3
   },
   "file_extension": ".py",
   "mimetype": "text/x-python",
   "name": "python",
   "nbconvert_exporter": "python",
   "pygments_lexer": "ipython3",
   "version": "3.6.0"
  }
 },
 "nbformat": 4,
 "nbformat_minor": 2
}
