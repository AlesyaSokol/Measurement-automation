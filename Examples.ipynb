{
 "cells": [
  {
   "cell_type": "code",
   "execution_count": 1,
   "metadata": {},
   "outputs": [
    {
     "name": "stdout",
     "output_type": "stream",
     "text": [
      "Populating the interactive namespace from numpy and matplotlib\n"
     ]
    }
   ],
   "source": [
    "%pylab qt5\n",
    "from unittest.mock import MagicMock, Mock\n",
    "from time import sleep\n",
    "#from qutip import *\n",
    "class DataGen:\n",
    "    \n",
    "    def __init__(self):\n",
    "        self._counter = 0\n",
    "        self._nop = 1\n",
    "        self._freq = 0.1\n",
    "        \n",
    "    def fun(self, x):\n",
    "        return [cos(self._freq*x) + 1j*cos(self._freq*x)]*self._nop\n",
    "    \n",
    "    def get_sdata(self):\n",
    "        retval = self.fun(self._counter)\n",
    "        self._counter += 1\n",
    "        sleep(0.2)\n",
    "        return retval\n",
    "    \n",
    "    def get_frequencies(self):\n",
    "        return linspace(self._freq_limits[0], self._freq_limits[1], self._nop)\n",
    "    \n",
    "    def set_parameters(self, params):\n",
    "        self._nop = params[\"nop\"]\n",
    "        self._freq_limits = params[\"freq_limits\"]\n",
    "    \n",
    "    def set_freq_limits(self, *limits):\n",
    "        self._freq_limits = limits\n",
    "        \n",
    "    def set_nop(self, nop):\n",
    "        self._nop = nop\n",
    "        \n",
    "    def detect(self):\n",
    "        return 5.9e9, 0, 0\n",
    "    \n",
    "dg = DataGen()\n",
    "vna = Mock()\n",
    "cur_src = Mock()\n",
    "q_lo = Mock()\n",
    "q_awg = Mock()\n",
    "ro_awg = MagicMock()\n",
    "q_z_awg = Mock()\n",
    "q_lo_2 = Mock()\n",
    "q_awg_2 = Mock()\n",
    "ro_awg_2 = MagicMock()\n",
    "mw_src = Mock()\n",
    "RD = Mock()\n",
    "RD.detect = dg.detect\n",
    "vna.get_sdata = dg.get_sdata\n",
    "vna.set_parameters = dg.set_parameters\n",
    "vna.get_frequencies = dg.get_frequencies\n",
    "vna.set_freq_limits = dg.set_freq_limits\n",
    "vna.set_nop = dg.set_nop\n"
   ]
  },
  {
   "cell_type": "markdown",
   "metadata": {},
   "source": [
    "# CZ tests"
   ]
  },
  {
   "cell_type": "code",
   "execution_count": 2,
   "metadata": {},
   "outputs": [
    {
     "data": {
      "text/plain": [
       "[<matplotlib.lines.Line2D at 0x87c7dd8>]"
      ]
     },
     "execution_count": 2,
     "metadata": {},
     "output_type": "execute_result"
    }
   ],
   "source": [
    "params = [1, -0.09, 0]\n",
    "duration = 150\n",
    "waveform_resolution = 1\n",
    "offset_voltage = 5\n",
    "zero_offset = 1\n",
    "\n",
    "offset = zero_offset + offset_voltage\n",
    "N_time_steps = int(round(duration / waveform_resolution))\n",
    "\n",
    "X = linspace(0, duration, N_time_steps + 1)\n",
    "components = [params[n] * (1 - cos(2*pi*X*(n+1)/duration)) for n in range(len(params))]\n",
    "waveform = sum(components, axis=0) * offset_voltage\n",
    "waveform -= min(abs(waveform)) * sign(offset_voltage)\n",
    "waveform += zero_offset\n",
    "plt.plot(waveform)"
   ]
  },
  {
   "cell_type": "markdown",
   "metadata": {
    "toc-hr-collapsed": false
   },
   "source": [
    "# Tomo Joint"
   ]
  },
  {
   "cell_type": "code",
   "execution_count": 2,
   "metadata": {},
   "outputs": [],
   "source": [
    "from lib2.DispersiveJointTomography import *\n",
    "prep_pulses = [[\"-X/2\",\"-X/2\",\"+Z/2\"],\n",
    "               [\"-X/2\",\"-X/2\",\"+Z/2\"]\n",
    "              ]\n",
    "DJT = DispersiveJointTomography('tomo joint', 'lol', \n",
    "                        vna=[vna], q_lo=[q_lo, q_lo], q_awg=[q_awg, q_awg], ro_awg=[ro_awg], q_z_awg=[q_z_awg, q_z_awg])\n",
    "vna_parameters = {\"bandwidth\":10, \"freq_limits\":[6e9]*2, \"nop\":20, \"averages\":1}\n",
    "exc_frequency = 5e9\n",
    "q_freq = 5e9\n",
    "hpi = 1\n",
    "sequence_parameters = {\"awg_trigger_reaction_delay\":0, \"readout_duration\":3e3,\n",
    "                       \"repetition_period\": 15000, \"modulating_window\":\"rectangular\", \"pulse_length\": 200,\n",
    "                       \"pulse_pi_amplitudes\": [hpi*2, hpi*2], 'padding':10, \"tomo_delay\": 10,\n",
    "                       \"prep_pulses\":prep_pulses, \"z_pulse_offset_voltages\": [.1, .1], \"z_pulse_duration\": 17.4, \n",
    "                       \"z_smoothing_coefficient\":2}\n",
    "ro_awg_params =  {\"calibration\":MagicMock()}\n",
    "q_awg_params = {\"calibration\":MagicMock()}\n",
    "q_z_awg_params = {\"calibration\":MagicMock()}\n",
    "q_lo_params = {'power':-10, 'frequency':q_freq + 100e6}\n",
    "dev_params = {'vna':[vna_parameters], \n",
    "              'ro_awg':[ro_awg_params], \n",
    "              'q_awg':[q_awg_params, q_awg_params],\n",
    "              'q_z_awg':[q_z_awg_params, q_z_awg_params],\n",
    "              'q_lo':[q_lo_params, q_lo_params]}\n",
    "\n",
    "tomo_local_rotations = [('+I', '+I'),\n",
    "                        ('+I', '+X/2'),\n",
    "                        ('+I', '+Y/2'),\n",
    "                        ('+I', '+X'),\n",
    "                        ('+X/2', '+X/2'),\n",
    "                        ('+Y/2', '+Y/2'),\n",
    "                        ('+X', '+X')\n",
    "                        ,('+X/7','+X')\n",
    "                       ]\n",
    "betas = (10,2,2,7)\n",
    "\n",
    "DJT.set_fixed_parameters(sequence_parameters, betas, **dev_params)\n",
    "DJT.set_swept_parameters(tomo_local_rotations)\n",
    "DJT.set_basis((1 + 1j,-1 - 1j))"
   ]
  },
  {
   "cell_type": "code",
   "execution_count": 3,
   "metadata": {},
   "outputs": [
    {
     "name": "stdout",
     "output_type": "stream",
     "text": [
      "Started at:  2018-12-10 16:19:59.817717\n",
      "Time left: 0 h 0 m 0.0 s, [tomo_local_rotations: ('+X/7', '+X')], average cycle time: 0.21 s       \n",
      "Elapsed time: 0 h 0 m 1.69 s\n"
     ]
    }
   ],
   "source": [
    "djt_result = DJT.launch()"
   ]
  },
  {
   "cell_type": "code",
   "execution_count": 4,
   "metadata": {},
   "outputs": [
    {
     "data": {
      "text/plain": [
       "(<Figure size 1500x700 with 4 Axes>,\n",
       " array([<matplotlib.axes._subplots.AxesSubplot object at 0x000002BAAC397978>,\n",
       "        <matplotlib.axes._subplots.AxesSubplot object at 0x000002BAAC3B9FD0>],\n",
       "       dtype=object),\n",
       " (<matplotlib.axes._axes.Axes at 0x2baa5a2a668>,\n",
       "  <matplotlib.axes._axes.Axes at 0x2baa5a51cc0>))"
      ]
     },
     "execution_count": 4,
     "metadata": {},
     "output_type": "execute_result"
    }
   ],
   "source": [
    "djt_result.visualize()"
   ]
  },
  {
   "cell_type": "code",
   "execution_count": 9,
   "metadata": {},
   "outputs": [
    {
     "data": {
      "application/vnd.jupyter.widget-view+json": {
       "model_id": "54102d1319df42c29c0210ad51443be7",
       "version_major": 2,
       "version_minor": 0
      },
      "text/plain": [
       "HBox(children=(IntProgress(value=0, description='Tomography: Likelihood minimization', layout=Layout(flex='2')…"
      ]
     },
     "metadata": {},
     "output_type": "display_data"
    },
    {
     "name": "stdout",
     "output_type": "stream",
     "text": [
      "\n"
     ]
    },
    {
     "data": {
      "text/latex": [
       "Quantum object: dims = [[2, 2], [2, 2]], shape = (4, 4), type = oper, isherm = True\\begin{equation*}\\left(\\begin{array}{*{11}c}0.029 & (0.048-0.023j) & (0.016-0.011j) & (0.057+0.010j)\\\\(0.048+0.023j) & 0.336 & (-0.201+0.099j) & (0.207-0.046j)\\\\(0.016+0.011j) & (-0.201-0.099j) & 0.308 & (-0.160+0.070j)\\\\(0.057-0.010j) & (0.207+0.046j) & (-0.160-0.070j) & 0.327\\\\\\end{array}\\right)\\end{equation*}"
      ],
      "text/plain": [
       "Quantum object: dims = [[2, 2], [2, 2]], shape = (4, 4), type = oper, isherm = True\n",
       "Qobj data =\n",
       "[[ 0.02872426+0.j          0.04841591-0.02287527j  0.01629032-0.01115953j\n",
       "   0.0571445 +0.00958143j]\n",
       " [ 0.04841591+0.02287527j  0.33630763+0.j         -0.20123284+0.09893419j\n",
       "   0.20657014-0.04623547j]\n",
       " [ 0.01629032+0.01115953j -0.20123284-0.09893419j  0.30790656+0.j\n",
       "  -0.16046615+0.06953321j]\n",
       " [ 0.0571445 -0.00958143j  0.20657014+0.04623547j -0.16046615-0.06953321j\n",
       "   0.32706156+0.j        ]]"
      ]
     },
     "execution_count": 9,
     "metadata": {},
     "output_type": "execute_result"
    }
   ],
   "source": [
    "djt_result.find_density_matrix()"
   ]
  },
  {
   "cell_type": "markdown",
   "metadata": {},
   "source": [
    "## plotting tests"
   ]
  },
  {
   "cell_type": "code",
   "execution_count": 13,
   "metadata": {},
   "outputs": [
    {
     "data": {
      "text/plain": [
       "['+I', '+X/2', '+Y/2', '+X', '+X/7']"
      ]
     },
     "execution_count": 13,
     "metadata": {},
     "output_type": "execute_result"
    }
   ],
   "source": [
    "keys1"
   ]
  },
  {
   "cell_type": "code",
   "execution_count": 7,
   "metadata": {},
   "outputs": [
    {
     "data": {
      "text/plain": [
       "{'+I': {'+I': (0.11757890635775581+0.11757890635775581j),\n",
       "  '+X/2': (0.1516466453264173+0.1516466453264173j),\n",
       "  '+Y/2': (0.1891950158646678+0.1891950158646678j),\n",
       "  '+X': (0.22984884706593012+0.22984884706593012j)},\n",
       " '+X/2': {'+I': None,\n",
       "  '+X/2': (0.2732019392872113+0.2732019392872113j),\n",
       "  '+Y/2': None,\n",
       "  '+X': None},\n",
       " '+Y/2': {'+I': None,\n",
       "  '+X/2': None,\n",
       "  '+Y/2': (0.3188211227616633+0.3188211227616633j),\n",
       "  '+X': None},\n",
       " '+X': {'+I': None,\n",
       "  '+X/2': None,\n",
       "  '+Y/2': None,\n",
       "  '+X': (0.3662505856877063+0.3662505856877063j)},\n",
       " '+X/7': {'+I': None,\n",
       "  '+X/2': None,\n",
       "  '+Y/2': None,\n",
       "  '+X': (0.4150164285498796+0.4150164285498796j)}}"
      ]
     },
     "execution_count": 7,
     "metadata": {},
     "output_type": "execute_result"
    }
   ],
   "source": [
    "all_data = djt_result.get_data()\n",
    "keys1 = [x[0] for x in all_data['tomo_local_rotations']]\n",
    "keys2 = [x[1] for x in all_data['tomo_local_rotations']]\n",
    "data_dict = dict.fromkeys(keys1)\n",
    "for key in data_dict.keys():\n",
    "    data_dict[key] = dict.fromkeys(keys2)\n",
    "keys1 = list(data_dict.keys())\n",
    "keys2 = list(data_dict[keys1[0]].keys())\n",
    "list(zip(all_data['tomo_local_rotations'], all_data['data']))\n",
    "for ((rot1, rot2), res) in zip(all_data['tomo_local_rotations'], all_data['data']):\n",
    "    data_dict[rot1][rot2] = res\n",
    "data_dict"
   ]
  },
  {
   "cell_type": "code",
   "execution_count": 9,
   "metadata": {},
   "outputs": [],
   "source": [
    "fig, axes = plt.subplots(1,2)\n",
    "data_matrix = [[data_dict[k1][k2] if data_dict[k1][k2] is not None else 0\n",
    "                                      for k2 in keys2] for k1 in keys1]\n",
    "axes[0].imshow(abs(data_matrix))\n",
    "axes[0].set_title('Real')\n",
    "axes[1].imshow(angle(data_matrix))\n",
    "axes[1].set_title('Imag')\n",
    "for ax in axes:\n",
    "    ax.set_xlabel('Qubit 1 local rotations')\n",
    "    ax.set_ylabel('Qubit 2 local rotations')\n",
    "    ax.set_xticks(range(len(keys2)))\n",
    "    ax.set_yticks(range(len(keys1)))\n",
    "    ax.set_xticklabels(keys2)\n",
    "    ax.set_yticklabels(keys1)\n",
    "    for i in range(len(keys1)):\n",
    "        for j in range(len(keys2)):\n",
    "            if data_dict[keys1[i]][keys2[j]] is None:\n",
    "                ax.text(j, i, 'No data', ha=\"center\", va=\"center\", color=\"w\")"
   ]
  },
  {
   "cell_type": "markdown",
   "metadata": {},
   "source": [
    "# Tomo 1q"
   ]
  },
  {
   "cell_type": "code",
   "execution_count": 2,
   "metadata": {},
   "outputs": [],
   "source": [
    "from lib2.DispersiveRadialTomography import *\n",
    "prep_pulse = [\"-X/2\",\"-X/2\",\"+Z/2\"]\n",
    "s_prep = [pulse.replace('/','_') for pulse in prep_pulse]\n",
    "DRT = DispersiveRadialTomography('tomo 1q'.join(s_prep), 'lol', \n",
    "                        vna=[vna], q_lo=[q_lo], q_awg=[q_awg], ro_awg=[ro_awg], q_z_awg=[q_z_awg])\n",
    "vna_parameters = {\"bandwidth\":10, \"freq_limits\":[6e9]*2, \"nop\":20, \"averages\":1}\n",
    "exc_frequency = 5e9\n",
    "q_freq = 5e9\n",
    "hpi = 1\n",
    "exc_amplitudes = linspace(0, 1, 11)*hpi\n",
    "tomo_phases = linspace(0, 2*pi, 22, endpoint=False)\n",
    "sequence_parameters = {\"awg_trigger_reaction_delay\":0, \"readout_duration\":3e3,\n",
    "                       \"repetition_period\": 15000, \"modulating_window\":\"rectangular\", \"pulse_length\": 200,\n",
    "                       \"prep_pulse_pi_amplitude\": hpi*2, 'padding':10, \"tomo_delay\": 10,\n",
    "                       \"prep_pulse\":prep_pulse, \"z_pulse_offset_voltage\": .1, \"z_pulse_duration\": 17.4, \n",
    "                       \"z_smoothing_coefficient\":2}\n",
    "ro_awg_params =  {\"calibration\":MagicMock()}\n",
    "q_awg_params = {\"calibration\":MagicMock()}\n",
    "q_z_awg_params = {\"calibration\":MagicMock()}\n",
    "q_lo_params = {'power':-10, 'frequency':q_freq + 100e6}\n",
    "dev_params = {'vna':[vna_parameters], \n",
    "              'ro_awg':[ro_awg_params], \n",
    "              'q_awg':[q_awg_params],\n",
    "              'q_z_awg':[q_z_awg_params],\n",
    "              'q_lo':[q_lo_params]}\n",
    "\n",
    "DRT.set_fixed_parameters(sequence_parameters, **dev_params)\n",
    "DRT.set_swept_parameters(tomo_phases, exc_amplitudes)\n",
    "DRT.set_basis((1 + 1j,-1 - 1j))"
   ]
  },
  {
   "cell_type": "code",
   "execution_count": 3,
   "metadata": {},
   "outputs": [
    {
     "name": "stdout",
     "output_type": "stream",
     "text": [
      "Started at:  2018-11-24 14:07:43.408387\n",
      "Time left: 0 h 0 m 0.0 s, [tomo_pulse_amplitude: 1.00e+00, tomo_phase: 6.00e+00], average cycle time: 0.11 s       \n",
      "Elapsed time: 0 h 0 m 26.64 s\n"
     ]
    }
   ],
   "source": [
    "drt_result = DRT.launch()"
   ]
  },
  {
   "cell_type": "code",
   "execution_count": null,
   "metadata": {},
   "outputs": [],
   "source": []
  },
  {
   "cell_type": "markdown",
   "metadata": {},
   "source": [
    "# Tomo 1q"
   ]
  },
  {
   "cell_type": "code",
   "execution_count": 5,
   "metadata": {},
   "outputs": [],
   "source": [
    "from lib2.DispersiveRadialTomography import *\n",
    "prep_pulse = [\"-X/2\",\"-X/2\",\"+Z/2\"]\n",
    "s_prep = [pulse.replace('/','_') for pulse in prep_pulse]\n",
    "DRT = DispersiveRadialTomography('tomo 1q'.join(s_prep), 'lol', \n",
    "                        vna=[vna], q_lo=[q_lo], q_awg=[q_awg], ro_awg=[ro_awg], q_z_awg=[q_z_awg])\n",
    "vna_parameters = {\"bandwidth\":10, \"freq_limits\":[6e9]*2, \"nop\":20, \"averages\":1}\n",
    "exc_frequency = 5e9\n",
    "q_freq = 5e9\n",
    "hpi = 1\n",
    "exc_amplitudes = linspace(0, 1, 11)*hpi\n",
    "tomo_phases = linspace(0, 2*pi, 22, endpoint=False)\n",
    "sequence_parameters = {\"awg_trigger_reaction_delay\":0, \"readout_duration\":3e3,\n",
    "                       \"repetition_period\": 15000, \"modulating_window\":\"rectangular\", \"pulse_length\": 200,\n",
    "                       \"prep_pulse_pi_amplitude\": hpi*2, 'padding':10, \"tomo_delay\": 10,\n",
    "                       \"prep_pulse\":prep_pulse, \"z_pulse_offset_voltage\": .1, \"z_pulse_duration\": 17.4, \n",
    "                       \"z_smoothing_coefficient\":2}\n",
    "ro_awg_params =  {\"calibration\":MagicMock()}\n",
    "q_awg_params = {\"calibration\":MagicMock()}\n",
    "q_z_awg_params = {\"calibration\":MagicMock()}\n",
    "q_lo_params = {'power':-10, 'frequency':q_freq + 100e6}\n",
    "dev_params = {'vna':[vna_parameters], \n",
    "              'ro_awg':[ro_awg_params], \n",
    "              'q_awg':[q_awg_params],\n",
    "              'q_z_awg':[q_z_awg_params],\n",
    "              'q_lo':[q_lo_params]}\n",
    "\n",
    "DRT.set_fixed_parameters(sequence_parameters, **dev_params)\n",
    "DRT.set_swept_parameters(tomo_phases, exc_amplitudes)\n",
    "DRT.set_basis((1 + 1j,-1 - 1j))"
   ]
  },
  {
   "cell_type": "code",
   "execution_count": 6,
   "metadata": {},
   "outputs": [
    {
     "name": "stdout",
     "output_type": "stream",
     "text": [
      "Started at:  2018-11-26 18:29:22.466149\n",
      "Time left: 0 h 0 m 22.21 s, [tomo_pulse_amplitude: 1.00e-01, tomo_phase: 3.14e+00], average cycle time: 0.11 s       "
     ]
    }
   ],
   "source": [
    "drt_result = DRT.launch()"
   ]
  },
  {
   "cell_type": "code",
   "execution_count": 7,
   "metadata": {},
   "outputs": [
    {
     "name": "stdout",
     "output_type": "stream",
     "text": [
      "Measurement was interrupted! \n",
      "\n",
      "Time left: 0 h 0 m 22.07 s, [tomo_pulse_amplitude: 1.00e-01, tomo_phase: 3.43e+00], average cycle time: 0.11 s       "
     ]
    }
   ],
   "source": [
    "DRT.stop()"
   ]
  },
  {
   "cell_type": "markdown",
   "metadata": {},
   "source": [
    "# Echo"
   ]
  },
  {
   "cell_type": "code",
   "execution_count": 2,
   "metadata": {},
   "outputs": [],
   "source": [
    "from lib2.DispersiveHahnEcho import *\n",
    "DHE = DispersiveHahnEcho(\"hahn-echo\", 'lol',\n",
    "                         vna=[vna], q_lo=[q_lo], q_awg=[q_awg], ro_awg=[ro_awg])\n",
    "vna_parameters= {\"bandwidth\":10, \"freq_limits\":[6e9]*2, \"nop\":10, \"averages\":1}\n",
    "q_freq = 5e9\n",
    "echo_delays = linspace(0, 20000, 201)\n",
    "sequence_parameters = {\"awg_trigger_reaction_delay\":0, \"readout_duration\":3000, \n",
    "                            \"repetition_period\":30000, \"half_pi_pulse_duration\":100/2}\n",
    "ro_awg_params =  {\"calibration\":MagicMock()}\n",
    "q_awg_params = {\"calibration\":MagicMock()}\n",
    "q_lo_params = {'power':-10, 'frequency':q_freq + 100e6}\n",
    "dev_params = {'vna':[vna_parameters], \n",
    "              'ro_awg':[ro_awg_params], \n",
    "              'q_awg':[q_awg_params],\n",
    "              'q_lo':[q_lo_params]}\n",
    "DHE.set_fixed_parameters(sequence_parameters, **dev_params)\n",
    "DHE.set_swept_parameters(echo_delays)\n",
    "# DHE.set_ult_calib(True)\n",
    "# DHE.set_basis(basis)"
   ]
  },
  {
   "cell_type": "code",
   "execution_count": 3,
   "metadata": {},
   "outputs": [
    {
     "name": "stdout",
     "output_type": "stream",
     "text": [
      "Started at:  2018-11-26 18:36:56.214881\n",
      "Time left: 0 h 0 m 8.78 s, [echo_delay: 1.15e+04], average cycle time: 0.1 s       "
     ]
    }
   ],
   "source": [
    "dhe_result = DHE.launch()"
   ]
  },
  {
   "cell_type": "markdown",
   "metadata": {},
   "source": [
    "# Decay"
   ]
  },
  {
   "cell_type": "code",
   "execution_count": 30,
   "metadata": {},
   "outputs": [],
   "source": [
    "from lib2.DispersiveDecay import *\n",
    "DD = DispersiveDecay(\"decay\", 'lol',\n",
    "                     vna=[vna], q_lo=[q_lo], q_awg=[q_awg], ro_awg=[ro_awg])\n",
    "vna_parameters= {\"bandwidth\":10, \"freq_limits\":[6e9]*2, \"nop\":10, \"averages\":1}\n",
    "q_freq = 5e9\n",
    "readout_delays = linspace(0, 20000, 51)\n",
    "decay_sequence_parameters = {\"awg_trigger_reaction_delay\":0, \"readout_duration\":3000, \n",
    "                            \"repetition_period\":30000, \"pi_pulse_duration\":100}\n",
    "ro_awg_params =  {\"calibration\":MagicMock()}\n",
    "q_awg_params = {\"calibration\":MagicMock()}\n",
    "q_lo_params = {'power':-10, 'frequency':q_freq + 100e6}\n",
    "dev_params = {'vna':[vna_parameters], \n",
    "              'ro_awg':[ro_awg_params], \n",
    "              'q_awg':[q_awg_params],\n",
    "              'q_lo':[q_lo_params]}\n",
    "DD.set_fixed_parameters(decay_sequence_parameters, **dev_params)\n",
    "DD.set_swept_parameters(readout_delays)\n",
    "#DD.set_basis(basis)"
   ]
  },
  {
   "cell_type": "code",
   "execution_count": 31,
   "metadata": {},
   "outputs": [
    {
     "name": "stdout",
     "output_type": "stream",
     "text": [
      "Started at:  2019-01-31 14:31:48.812158\n"
     ]
    },
    {
     "data": {
      "application/javascript": [
       "/* Put everything inside the global mpl namespace */\n",
       "window.mpl = {};\n",
       "\n",
       "\n",
       "mpl.get_websocket_type = function() {\n",
       "    if (typeof(WebSocket) !== 'undefined') {\n",
       "        return WebSocket;\n",
       "    } else if (typeof(MozWebSocket) !== 'undefined') {\n",
       "        return MozWebSocket;\n",
       "    } else {\n",
       "        alert('Your browser does not have WebSocket support.' +\n",
       "              'Please try Chrome, Safari or Firefox ≥ 6. ' +\n",
       "              'Firefox 4 and 5 are also supported but you ' +\n",
       "              'have to enable WebSockets in about:config.');\n",
       "    };\n",
       "}\n",
       "\n",
       "mpl.figure = function(figure_id, websocket, ondownload, parent_element) {\n",
       "    this.id = figure_id;\n",
       "\n",
       "    this.ws = websocket;\n",
       "\n",
       "    this.supports_binary = (this.ws.binaryType != undefined);\n",
       "\n",
       "    if (!this.supports_binary) {\n",
       "        var warnings = document.getElementById(\"mpl-warnings\");\n",
       "        if (warnings) {\n",
       "            warnings.style.display = 'block';\n",
       "            warnings.textContent = (\n",
       "                \"This browser does not support binary websocket messages. \" +\n",
       "                    \"Performance may be slow.\");\n",
       "        }\n",
       "    }\n",
       "\n",
       "    this.imageObj = new Image();\n",
       "\n",
       "    this.context = undefined;\n",
       "    this.message = undefined;\n",
       "    this.canvas = undefined;\n",
       "    this.rubberband_canvas = undefined;\n",
       "    this.rubberband_context = undefined;\n",
       "    this.format_dropdown = undefined;\n",
       "\n",
       "    this.image_mode = 'full';\n",
       "\n",
       "    this.root = $('<div/>');\n",
       "    this._root_extra_style(this.root)\n",
       "    this.root.attr('style', 'display: inline-block');\n",
       "\n",
       "    $(parent_element).append(this.root);\n",
       "\n",
       "    this._init_header(this);\n",
       "    this._init_canvas(this);\n",
       "    this._init_toolbar(this);\n",
       "\n",
       "    var fig = this;\n",
       "\n",
       "    this.waiting = false;\n",
       "\n",
       "    this.ws.onopen =  function () {\n",
       "            fig.send_message(\"supports_binary\", {value: fig.supports_binary});\n",
       "            fig.send_message(\"send_image_mode\", {});\n",
       "            if (mpl.ratio != 1) {\n",
       "                fig.send_message(\"set_dpi_ratio\", {'dpi_ratio': mpl.ratio});\n",
       "            }\n",
       "            fig.send_message(\"refresh\", {});\n",
       "        }\n",
       "\n",
       "    this.imageObj.onload = function() {\n",
       "            if (fig.image_mode == 'full') {\n",
       "                // Full images could contain transparency (where diff images\n",
       "                // almost always do), so we need to clear the canvas so that\n",
       "                // there is no ghosting.\n",
       "                fig.context.clearRect(0, 0, fig.canvas.width, fig.canvas.height);\n",
       "            }\n",
       "            fig.context.drawImage(fig.imageObj, 0, 0);\n",
       "        };\n",
       "\n",
       "    this.imageObj.onunload = function() {\n",
       "        fig.ws.close();\n",
       "    }\n",
       "\n",
       "    this.ws.onmessage = this._make_on_message_function(this);\n",
       "\n",
       "    this.ondownload = ondownload;\n",
       "}\n",
       "\n",
       "mpl.figure.prototype._init_header = function() {\n",
       "    var titlebar = $(\n",
       "        '<div class=\"ui-dialog-titlebar ui-widget-header ui-corner-all ' +\n",
       "        'ui-helper-clearfix\"/>');\n",
       "    var titletext = $(\n",
       "        '<div class=\"ui-dialog-title\" style=\"width: 100%; ' +\n",
       "        'text-align: center; padding: 3px;\"/>');\n",
       "    titlebar.append(titletext)\n",
       "    this.root.append(titlebar);\n",
       "    this.header = titletext[0];\n",
       "}\n",
       "\n",
       "\n",
       "\n",
       "mpl.figure.prototype._canvas_extra_style = function(canvas_div) {\n",
       "\n",
       "}\n",
       "\n",
       "\n",
       "mpl.figure.prototype._root_extra_style = function(canvas_div) {\n",
       "\n",
       "}\n",
       "\n",
       "mpl.figure.prototype._init_canvas = function() {\n",
       "    var fig = this;\n",
       "\n",
       "    var canvas_div = $('<div/>');\n",
       "\n",
       "    canvas_div.attr('style', 'position: relative; clear: both; outline: 0');\n",
       "\n",
       "    function canvas_keyboard_event(event) {\n",
       "        return fig.key_event(event, event['data']);\n",
       "    }\n",
       "\n",
       "    canvas_div.keydown('key_press', canvas_keyboard_event);\n",
       "    canvas_div.keyup('key_release', canvas_keyboard_event);\n",
       "    this.canvas_div = canvas_div\n",
       "    this._canvas_extra_style(canvas_div)\n",
       "    this.root.append(canvas_div);\n",
       "\n",
       "    var canvas = $('<canvas/>');\n",
       "    canvas.addClass('mpl-canvas');\n",
       "    canvas.attr('style', \"left: 0; top: 0; z-index: 0; outline: 0\")\n",
       "\n",
       "    this.canvas = canvas[0];\n",
       "    this.context = canvas[0].getContext(\"2d\");\n",
       "\n",
       "    var backingStore = this.context.backingStorePixelRatio ||\n",
       "\tthis.context.webkitBackingStorePixelRatio ||\n",
       "\tthis.context.mozBackingStorePixelRatio ||\n",
       "\tthis.context.msBackingStorePixelRatio ||\n",
       "\tthis.context.oBackingStorePixelRatio ||\n",
       "\tthis.context.backingStorePixelRatio || 1;\n",
       "\n",
       "    mpl.ratio = (window.devicePixelRatio || 1) / backingStore;\n",
       "\n",
       "    var rubberband = $('<canvas/>');\n",
       "    rubberband.attr('style', \"position: absolute; left: 0; top: 0; z-index: 1;\")\n",
       "\n",
       "    var pass_mouse_events = true;\n",
       "\n",
       "    canvas_div.resizable({\n",
       "        start: function(event, ui) {\n",
       "            pass_mouse_events = false;\n",
       "        },\n",
       "        resize: function(event, ui) {\n",
       "            fig.request_resize(ui.size.width, ui.size.height);\n",
       "        },\n",
       "        stop: function(event, ui) {\n",
       "            pass_mouse_events = true;\n",
       "            fig.request_resize(ui.size.width, ui.size.height);\n",
       "        },\n",
       "    });\n",
       "\n",
       "    function mouse_event_fn(event) {\n",
       "        if (pass_mouse_events)\n",
       "            return fig.mouse_event(event, event['data']);\n",
       "    }\n",
       "\n",
       "    rubberband.mousedown('button_press', mouse_event_fn);\n",
       "    rubberband.mouseup('button_release', mouse_event_fn);\n",
       "    // Throttle sequential mouse events to 1 every 20ms.\n",
       "    rubberband.mousemove('motion_notify', mouse_event_fn);\n",
       "\n",
       "    rubberband.mouseenter('figure_enter', mouse_event_fn);\n",
       "    rubberband.mouseleave('figure_leave', mouse_event_fn);\n",
       "\n",
       "    canvas_div.on(\"wheel\", function (event) {\n",
       "        event = event.originalEvent;\n",
       "        event['data'] = 'scroll'\n",
       "        if (event.deltaY < 0) {\n",
       "            event.step = 1;\n",
       "        } else {\n",
       "            event.step = -1;\n",
       "        }\n",
       "        mouse_event_fn(event);\n",
       "    });\n",
       "\n",
       "    canvas_div.append(canvas);\n",
       "    canvas_div.append(rubberband);\n",
       "\n",
       "    this.rubberband = rubberband;\n",
       "    this.rubberband_canvas = rubberband[0];\n",
       "    this.rubberband_context = rubberband[0].getContext(\"2d\");\n",
       "    this.rubberband_context.strokeStyle = \"#000000\";\n",
       "\n",
       "    this._resize_canvas = function(width, height) {\n",
       "        // Keep the size of the canvas, canvas container, and rubber band\n",
       "        // canvas in synch.\n",
       "        canvas_div.css('width', width)\n",
       "        canvas_div.css('height', height)\n",
       "\n",
       "        canvas.attr('width', width * mpl.ratio);\n",
       "        canvas.attr('height', height * mpl.ratio);\n",
       "        canvas.attr('style', 'width: ' + width + 'px; height: ' + height + 'px;');\n",
       "\n",
       "        rubberband.attr('width', width);\n",
       "        rubberband.attr('height', height);\n",
       "    }\n",
       "\n",
       "    // Set the figure to an initial 600x600px, this will subsequently be updated\n",
       "    // upon first draw.\n",
       "    this._resize_canvas(600, 600);\n",
       "\n",
       "    // Disable right mouse context menu.\n",
       "    $(this.rubberband_canvas).bind(\"contextmenu\",function(e){\n",
       "        return false;\n",
       "    });\n",
       "\n",
       "    function set_focus () {\n",
       "        canvas.focus();\n",
       "        canvas_div.focus();\n",
       "    }\n",
       "\n",
       "    window.setTimeout(set_focus, 100);\n",
       "}\n",
       "\n",
       "mpl.figure.prototype._init_toolbar = function() {\n",
       "    var fig = this;\n",
       "\n",
       "    var nav_element = $('<div/>')\n",
       "    nav_element.attr('style', 'width: 100%');\n",
       "    this.root.append(nav_element);\n",
       "\n",
       "    // Define a callback function for later on.\n",
       "    function toolbar_event(event) {\n",
       "        return fig.toolbar_button_onclick(event['data']);\n",
       "    }\n",
       "    function toolbar_mouse_event(event) {\n",
       "        return fig.toolbar_button_onmouseover(event['data']);\n",
       "    }\n",
       "\n",
       "    for(var toolbar_ind in mpl.toolbar_items) {\n",
       "        var name = mpl.toolbar_items[toolbar_ind][0];\n",
       "        var tooltip = mpl.toolbar_items[toolbar_ind][1];\n",
       "        var image = mpl.toolbar_items[toolbar_ind][2];\n",
       "        var method_name = mpl.toolbar_items[toolbar_ind][3];\n",
       "\n",
       "        if (!name) {\n",
       "            // put a spacer in here.\n",
       "            continue;\n",
       "        }\n",
       "        var button = $('<button/>');\n",
       "        button.addClass('ui-button ui-widget ui-state-default ui-corner-all ' +\n",
       "                        'ui-button-icon-only');\n",
       "        button.attr('role', 'button');\n",
       "        button.attr('aria-disabled', 'false');\n",
       "        button.click(method_name, toolbar_event);\n",
       "        button.mouseover(tooltip, toolbar_mouse_event);\n",
       "\n",
       "        var icon_img = $('<span/>');\n",
       "        icon_img.addClass('ui-button-icon-primary ui-icon');\n",
       "        icon_img.addClass(image);\n",
       "        icon_img.addClass('ui-corner-all');\n",
       "\n",
       "        var tooltip_span = $('<span/>');\n",
       "        tooltip_span.addClass('ui-button-text');\n",
       "        tooltip_span.html(tooltip);\n",
       "\n",
       "        button.append(icon_img);\n",
       "        button.append(tooltip_span);\n",
       "\n",
       "        nav_element.append(button);\n",
       "    }\n",
       "\n",
       "    var fmt_picker_span = $('<span/>');\n",
       "\n",
       "    var fmt_picker = $('<select/>');\n",
       "    fmt_picker.addClass('mpl-toolbar-option ui-widget ui-widget-content');\n",
       "    fmt_picker_span.append(fmt_picker);\n",
       "    nav_element.append(fmt_picker_span);\n",
       "    this.format_dropdown = fmt_picker[0];\n",
       "\n",
       "    for (var ind in mpl.extensions) {\n",
       "        var fmt = mpl.extensions[ind];\n",
       "        var option = $(\n",
       "            '<option/>', {selected: fmt === mpl.default_extension}).html(fmt);\n",
       "        fmt_picker.append(option)\n",
       "    }\n",
       "\n",
       "    // Add hover states to the ui-buttons\n",
       "    $( \".ui-button\" ).hover(\n",
       "        function() { $(this).addClass(\"ui-state-hover\");},\n",
       "        function() { $(this).removeClass(\"ui-state-hover\");}\n",
       "    );\n",
       "\n",
       "    var status_bar = $('<span class=\"mpl-message\"/>');\n",
       "    nav_element.append(status_bar);\n",
       "    this.message = status_bar[0];\n",
       "}\n",
       "\n",
       "mpl.figure.prototype.request_resize = function(x_pixels, y_pixels) {\n",
       "    // Request matplotlib to resize the figure. Matplotlib will then trigger a resize in the client,\n",
       "    // which will in turn request a refresh of the image.\n",
       "    this.send_message('resize', {'width': x_pixels, 'height': y_pixels});\n",
       "}\n",
       "\n",
       "mpl.figure.prototype.send_message = function(type, properties) {\n",
       "    properties['type'] = type;\n",
       "    properties['figure_id'] = this.id;\n",
       "    this.ws.send(JSON.stringify(properties));\n",
       "}\n",
       "\n",
       "mpl.figure.prototype.send_draw_message = function() {\n",
       "    if (!this.waiting) {\n",
       "        this.waiting = true;\n",
       "        this.ws.send(JSON.stringify({type: \"draw\", figure_id: this.id}));\n",
       "    }\n",
       "}\n",
       "\n",
       "\n",
       "mpl.figure.prototype.handle_save = function(fig, msg) {\n",
       "    var format_dropdown = fig.format_dropdown;\n",
       "    var format = format_dropdown.options[format_dropdown.selectedIndex].value;\n",
       "    fig.ondownload(fig, format);\n",
       "}\n",
       "\n",
       "\n",
       "mpl.figure.prototype.handle_resize = function(fig, msg) {\n",
       "    var size = msg['size'];\n",
       "    if (size[0] != fig.canvas.width || size[1] != fig.canvas.height) {\n",
       "        fig._resize_canvas(size[0], size[1]);\n",
       "        fig.send_message(\"refresh\", {});\n",
       "    };\n",
       "}\n",
       "\n",
       "mpl.figure.prototype.handle_rubberband = function(fig, msg) {\n",
       "    var x0 = msg['x0'] / mpl.ratio;\n",
       "    var y0 = (fig.canvas.height - msg['y0']) / mpl.ratio;\n",
       "    var x1 = msg['x1'] / mpl.ratio;\n",
       "    var y1 = (fig.canvas.height - msg['y1']) / mpl.ratio;\n",
       "    x0 = Math.floor(x0) + 0.5;\n",
       "    y0 = Math.floor(y0) + 0.5;\n",
       "    x1 = Math.floor(x1) + 0.5;\n",
       "    y1 = Math.floor(y1) + 0.5;\n",
       "    var min_x = Math.min(x0, x1);\n",
       "    var min_y = Math.min(y0, y1);\n",
       "    var width = Math.abs(x1 - x0);\n",
       "    var height = Math.abs(y1 - y0);\n",
       "\n",
       "    fig.rubberband_context.clearRect(\n",
       "        0, 0, fig.canvas.width, fig.canvas.height);\n",
       "\n",
       "    fig.rubberband_context.strokeRect(min_x, min_y, width, height);\n",
       "}\n",
       "\n",
       "mpl.figure.prototype.handle_figure_label = function(fig, msg) {\n",
       "    // Updates the figure title.\n",
       "    fig.header.textContent = msg['label'];\n",
       "}\n",
       "\n",
       "mpl.figure.prototype.handle_cursor = function(fig, msg) {\n",
       "    var cursor = msg['cursor'];\n",
       "    switch(cursor)\n",
       "    {\n",
       "    case 0:\n",
       "        cursor = 'pointer';\n",
       "        break;\n",
       "    case 1:\n",
       "        cursor = 'default';\n",
       "        break;\n",
       "    case 2:\n",
       "        cursor = 'crosshair';\n",
       "        break;\n",
       "    case 3:\n",
       "        cursor = 'move';\n",
       "        break;\n",
       "    }\n",
       "    fig.rubberband_canvas.style.cursor = cursor;\n",
       "}\n",
       "\n",
       "mpl.figure.prototype.handle_message = function(fig, msg) {\n",
       "    fig.message.textContent = msg['message'];\n",
       "}\n",
       "\n",
       "mpl.figure.prototype.handle_draw = function(fig, msg) {\n",
       "    // Request the server to send over a new figure.\n",
       "    fig.send_draw_message();\n",
       "}\n",
       "\n",
       "mpl.figure.prototype.handle_image_mode = function(fig, msg) {\n",
       "    fig.image_mode = msg['mode'];\n",
       "}\n",
       "\n",
       "mpl.figure.prototype.updated_canvas_event = function() {\n",
       "    // Called whenever the canvas gets updated.\n",
       "    this.send_message(\"ack\", {});\n",
       "}\n",
       "\n",
       "// A function to construct a web socket function for onmessage handling.\n",
       "// Called in the figure constructor.\n",
       "mpl.figure.prototype._make_on_message_function = function(fig) {\n",
       "    return function socket_on_message(evt) {\n",
       "        if (evt.data instanceof Blob) {\n",
       "            /* FIXME: We get \"Resource interpreted as Image but\n",
       "             * transferred with MIME type text/plain:\" errors on\n",
       "             * Chrome.  But how to set the MIME type?  It doesn't seem\n",
       "             * to be part of the websocket stream */\n",
       "            evt.data.type = \"image/png\";\n",
       "\n",
       "            /* Free the memory for the previous frames */\n",
       "            if (fig.imageObj.src) {\n",
       "                (window.URL || window.webkitURL).revokeObjectURL(\n",
       "                    fig.imageObj.src);\n",
       "            }\n",
       "\n",
       "            fig.imageObj.src = (window.URL || window.webkitURL).createObjectURL(\n",
       "                evt.data);\n",
       "            fig.updated_canvas_event();\n",
       "            fig.waiting = false;\n",
       "            return;\n",
       "        }\n",
       "        else if (typeof evt.data === 'string' && evt.data.slice(0, 21) == \"data:image/png;base64\") {\n",
       "            fig.imageObj.src = evt.data;\n",
       "            fig.updated_canvas_event();\n",
       "            fig.waiting = false;\n",
       "            return;\n",
       "        }\n",
       "\n",
       "        var msg = JSON.parse(evt.data);\n",
       "        var msg_type = msg['type'];\n",
       "\n",
       "        // Call the  \"handle_{type}\" callback, which takes\n",
       "        // the figure and JSON message as its only arguments.\n",
       "        try {\n",
       "            var callback = fig[\"handle_\" + msg_type];\n",
       "        } catch (e) {\n",
       "            console.log(\"No handler for the '\" + msg_type + \"' message type: \", msg);\n",
       "            return;\n",
       "        }\n",
       "\n",
       "        if (callback) {\n",
       "            try {\n",
       "                // console.log(\"Handling '\" + msg_type + \"' message: \", msg);\n",
       "                callback(fig, msg);\n",
       "            } catch (e) {\n",
       "                console.log(\"Exception inside the 'handler_\" + msg_type + \"' callback:\", e, e.stack, msg);\n",
       "            }\n",
       "        }\n",
       "    };\n",
       "}\n",
       "\n",
       "// from http://stackoverflow.com/questions/1114465/getting-mouse-location-in-canvas\n",
       "mpl.findpos = function(e) {\n",
       "    //this section is from http://www.quirksmode.org/js/events_properties.html\n",
       "    var targ;\n",
       "    if (!e)\n",
       "        e = window.event;\n",
       "    if (e.target)\n",
       "        targ = e.target;\n",
       "    else if (e.srcElement)\n",
       "        targ = e.srcElement;\n",
       "    if (targ.nodeType == 3) // defeat Safari bug\n",
       "        targ = targ.parentNode;\n",
       "\n",
       "    // jQuery normalizes the pageX and pageY\n",
       "    // pageX,Y are the mouse positions relative to the document\n",
       "    // offset() returns the position of the element relative to the document\n",
       "    var x = e.pageX - $(targ).offset().left;\n",
       "    var y = e.pageY - $(targ).offset().top;\n",
       "\n",
       "    return {\"x\": x, \"y\": y};\n",
       "};\n",
       "\n",
       "/*\n",
       " * return a copy of an object with only non-object keys\n",
       " * we need this to avoid circular references\n",
       " * http://stackoverflow.com/a/24161582/3208463\n",
       " */\n",
       "function simpleKeys (original) {\n",
       "  return Object.keys(original).reduce(function (obj, key) {\n",
       "    if (typeof original[key] !== 'object')\n",
       "        obj[key] = original[key]\n",
       "    return obj;\n",
       "  }, {});\n",
       "}\n",
       "\n",
       "mpl.figure.prototype.mouse_event = function(event, name) {\n",
       "    var canvas_pos = mpl.findpos(event)\n",
       "\n",
       "    if (name === 'button_press')\n",
       "    {\n",
       "        this.canvas.focus();\n",
       "        this.canvas_div.focus();\n",
       "    }\n",
       "\n",
       "    var x = canvas_pos.x * mpl.ratio;\n",
       "    var y = canvas_pos.y * mpl.ratio;\n",
       "\n",
       "    this.send_message(name, {x: x, y: y, button: event.button,\n",
       "                             step: event.step,\n",
       "                             guiEvent: simpleKeys(event)});\n",
       "\n",
       "    /* This prevents the web browser from automatically changing to\n",
       "     * the text insertion cursor when the button is pressed.  We want\n",
       "     * to control all of the cursor setting manually through the\n",
       "     * 'cursor' event from matplotlib */\n",
       "    event.preventDefault();\n",
       "    return false;\n",
       "}\n",
       "\n",
       "mpl.figure.prototype._key_event_extra = function(event, name) {\n",
       "    // Handle any extra behaviour associated with a key event\n",
       "}\n",
       "\n",
       "mpl.figure.prototype.key_event = function(event, name) {\n",
       "\n",
       "    // Prevent repeat events\n",
       "    if (name == 'key_press')\n",
       "    {\n",
       "        if (event.which === this._key)\n",
       "            return;\n",
       "        else\n",
       "            this._key = event.which;\n",
       "    }\n",
       "    if (name == 'key_release')\n",
       "        this._key = null;\n",
       "\n",
       "    var value = '';\n",
       "    if (event.ctrlKey && event.which != 17)\n",
       "        value += \"ctrl+\";\n",
       "    if (event.altKey && event.which != 18)\n",
       "        value += \"alt+\";\n",
       "    if (event.shiftKey && event.which != 16)\n",
       "        value += \"shift+\";\n",
       "\n",
       "    value += 'k';\n",
       "    value += event.which.toString();\n",
       "\n",
       "    this._key_event_extra(event, name);\n",
       "\n",
       "    this.send_message(name, {key: value,\n",
       "                             guiEvent: simpleKeys(event)});\n",
       "    return false;\n",
       "}\n",
       "\n",
       "mpl.figure.prototype.toolbar_button_onclick = function(name) {\n",
       "    if (name == 'download') {\n",
       "        this.handle_save(this, null);\n",
       "    } else {\n",
       "        this.send_message(\"toolbar_button\", {name: name});\n",
       "    }\n",
       "};\n",
       "\n",
       "mpl.figure.prototype.toolbar_button_onmouseover = function(tooltip) {\n",
       "    this.message.textContent = tooltip;\n",
       "};\n",
       "mpl.toolbar_items = [[\"Home\", \"Reset original view\", \"fa fa-home icon-home\", \"home\"], [\"Back\", \"Back to  previous view\", \"fa fa-arrow-left icon-arrow-left\", \"back\"], [\"Forward\", \"Forward to next view\", \"fa fa-arrow-right icon-arrow-right\", \"forward\"], [\"\", \"\", \"\", \"\"], [\"Pan\", \"Pan axes with left mouse, zoom with right\", \"fa fa-arrows icon-move\", \"pan\"], [\"Zoom\", \"Zoom to rectangle\", \"fa fa-square-o icon-check-empty\", \"zoom\"], [\"\", \"\", \"\", \"\"], [\"Download\", \"Download plot\", \"fa fa-floppy-o icon-save\", \"download\"]];\n",
       "\n",
       "mpl.extensions = [\"eps\", \"jpeg\", \"pdf\", \"png\", \"ps\", \"raw\", \"svg\", \"tif\"];\n",
       "\n",
       "mpl.default_extension = \"png\";var comm_websocket_adapter = function(comm) {\n",
       "    // Create a \"websocket\"-like object which calls the given IPython comm\n",
       "    // object with the appropriate methods. Currently this is a non binary\n",
       "    // socket, so there is still some room for performance tuning.\n",
       "    var ws = {};\n",
       "\n",
       "    ws.close = function() {\n",
       "        comm.close()\n",
       "    };\n",
       "    ws.send = function(m) {\n",
       "        //console.log('sending', m);\n",
       "        comm.send(m);\n",
       "    };\n",
       "    // Register the callback with on_msg.\n",
       "    comm.on_msg(function(msg) {\n",
       "        //console.log('receiving', msg['content']['data'], msg);\n",
       "        // Pass the mpl event to the overridden (by mpl) onmessage function.\n",
       "        ws.onmessage(msg['content']['data'])\n",
       "    });\n",
       "    return ws;\n",
       "}\n",
       "\n",
       "mpl.mpl_figure_comm = function(comm, msg) {\n",
       "    // This is the function which gets called when the mpl process\n",
       "    // starts-up an IPython Comm through the \"matplotlib\" channel.\n",
       "\n",
       "    var id = msg.content.data.id;\n",
       "    // Get hold of the div created by the display call when the Comm\n",
       "    // socket was opened in Python.\n",
       "    var element = $(\"#\" + id);\n",
       "    var ws_proxy = comm_websocket_adapter(comm)\n",
       "\n",
       "    function ondownload(figure, format) {\n",
       "        window.open(figure.imageObj.src);\n",
       "    }\n",
       "\n",
       "    var fig = new mpl.figure(id, ws_proxy,\n",
       "                           ondownload,\n",
       "                           element.get(0));\n",
       "\n",
       "    // Call onopen now - mpl needs it, as it is assuming we've passed it a real\n",
       "    // web socket which is closed, not our websocket->open comm proxy.\n",
       "    ws_proxy.onopen();\n",
       "\n",
       "    fig.parent_element = element.get(0);\n",
       "    fig.cell_info = mpl.find_output_cell(\"<div id='\" + id + \"'></div>\");\n",
       "    if (!fig.cell_info) {\n",
       "        console.error(\"Failed to find cell for figure\", id, fig);\n",
       "        return;\n",
       "    }\n",
       "\n",
       "    var output_index = fig.cell_info[2]\n",
       "    var cell = fig.cell_info[0];\n",
       "\n",
       "};\n",
       "\n",
       "mpl.figure.prototype.handle_close = function(fig, msg) {\n",
       "    var width = fig.canvas.width/mpl.ratio\n",
       "    fig.root.unbind('remove')\n",
       "\n",
       "    // Update the output cell to use the data from the current canvas.\n",
       "    fig.push_to_output();\n",
       "    var dataURL = fig.canvas.toDataURL();\n",
       "    // Re-enable the keyboard manager in IPython - without this line, in FF,\n",
       "    // the notebook keyboard shortcuts fail.\n",
       "    IPython.keyboard_manager.enable()\n",
       "    $(fig.parent_element).html('<img src=\"' + dataURL + '\" width=\"' + width + '\">');\n",
       "    fig.close_ws(fig, msg);\n",
       "}\n",
       "\n",
       "mpl.figure.prototype.close_ws = function(fig, msg){\n",
       "    fig.send_message('closing', msg);\n",
       "    // fig.ws.close()\n",
       "}\n",
       "\n",
       "mpl.figure.prototype.push_to_output = function(remove_interactive) {\n",
       "    // Turn the data on the canvas into data in the output cell.\n",
       "    var width = this.canvas.width/mpl.ratio\n",
       "    var dataURL = this.canvas.toDataURL();\n",
       "    this.cell_info[1]['text/html'] = '<img src=\"' + dataURL + '\" width=\"' + width + '\">';\n",
       "}\n",
       "\n",
       "mpl.figure.prototype.updated_canvas_event = function() {\n",
       "    // Tell IPython that the notebook contents must change.\n",
       "    IPython.notebook.set_dirty(true);\n",
       "    this.send_message(\"ack\", {});\n",
       "    var fig = this;\n",
       "    // Wait a second, then push the new image to the DOM so\n",
       "    // that it is saved nicely (might be nice to debounce this).\n",
       "    setTimeout(function () { fig.push_to_output() }, 1000);\n",
       "}\n",
       "\n",
       "mpl.figure.prototype._init_toolbar = function() {\n",
       "    var fig = this;\n",
       "\n",
       "    var nav_element = $('<div/>')\n",
       "    nav_element.attr('style', 'width: 100%');\n",
       "    this.root.append(nav_element);\n",
       "\n",
       "    // Define a callback function for later on.\n",
       "    function toolbar_event(event) {\n",
       "        return fig.toolbar_button_onclick(event['data']);\n",
       "    }\n",
       "    function toolbar_mouse_event(event) {\n",
       "        return fig.toolbar_button_onmouseover(event['data']);\n",
       "    }\n",
       "\n",
       "    for(var toolbar_ind in mpl.toolbar_items){\n",
       "        var name = mpl.toolbar_items[toolbar_ind][0];\n",
       "        var tooltip = mpl.toolbar_items[toolbar_ind][1];\n",
       "        var image = mpl.toolbar_items[toolbar_ind][2];\n",
       "        var method_name = mpl.toolbar_items[toolbar_ind][3];\n",
       "\n",
       "        if (!name) { continue; };\n",
       "\n",
       "        var button = $('<button class=\"btn btn-default\" href=\"#\" title=\"' + name + '\"><i class=\"fa ' + image + ' fa-lg\"></i></button>');\n",
       "        button.click(method_name, toolbar_event);\n",
       "        button.mouseover(tooltip, toolbar_mouse_event);\n",
       "        nav_element.append(button);\n",
       "    }\n",
       "\n",
       "    // Add the status bar.\n",
       "    var status_bar = $('<span class=\"mpl-message\" style=\"text-align:right; float: right;\"/>');\n",
       "    nav_element.append(status_bar);\n",
       "    this.message = status_bar[0];\n",
       "\n",
       "    // Add the close button to the window.\n",
       "    var buttongrp = $('<div class=\"btn-group inline pull-right\"></div>');\n",
       "    var button = $('<button class=\"btn btn-mini btn-primary\" href=\"#\" title=\"Stop Interaction\"><i class=\"fa fa-power-off icon-remove icon-large\"></i></button>');\n",
       "    button.click(function (evt) { fig.handle_close(fig, {}); } );\n",
       "    button.mouseover('Stop Interaction', toolbar_mouse_event);\n",
       "    buttongrp.append(button);\n",
       "    var titlebar = this.root.find($('.ui-dialog-titlebar'));\n",
       "    titlebar.prepend(buttongrp);\n",
       "}\n",
       "\n",
       "mpl.figure.prototype._root_extra_style = function(el){\n",
       "    var fig = this\n",
       "    el.on(\"remove\", function(){\n",
       "\tfig.close_ws(fig, {});\n",
       "    });\n",
       "}\n",
       "\n",
       "mpl.figure.prototype._canvas_extra_style = function(el){\n",
       "    // this is important to make the div 'focusable\n",
       "    el.attr('tabindex', 0)\n",
       "    // reach out to IPython and tell the keyboard manager to turn it's self\n",
       "    // off when our div gets focus\n",
       "\n",
       "    // location in version 3\n",
       "    if (IPython.notebook.keyboard_manager) {\n",
       "        IPython.notebook.keyboard_manager.register_events(el);\n",
       "    }\n",
       "    else {\n",
       "        // location in version 2\n",
       "        IPython.keyboard_manager.register_events(el);\n",
       "    }\n",
       "\n",
       "}\n",
       "\n",
       "mpl.figure.prototype._key_event_extra = function(event, name) {\n",
       "    var manager = IPython.notebook.keyboard_manager;\n",
       "    if (!manager)\n",
       "        manager = IPython.keyboard_manager;\n",
       "\n",
       "    // Check for shift+enter\n",
       "    if (event.shiftKey && event.which == 13) {\n",
       "        this.canvas_div.blur();\n",
       "        event.shiftKey = false;\n",
       "        // Send a \"J\" for go to next cell\n",
       "        event.which = 74;\n",
       "        event.keyCode = 74;\n",
       "        manager.command_mode();\n",
       "        manager.handle_keydown(event);\n",
       "    }\n",
       "}\n",
       "\n",
       "mpl.figure.prototype.handle_save = function(fig, msg) {\n",
       "    fig.ondownload(fig, null);\n",
       "}\n",
       "\n",
       "\n",
       "mpl.find_output_cell = function(html_output) {\n",
       "    // Return the cell and output element which can be found *uniquely* in the notebook.\n",
       "    // Note - this is a bit hacky, but it is done because the \"notebook_saving.Notebook\"\n",
       "    // IPython event is triggered only after the cells have been serialised, which for\n",
       "    // our purposes (turning an active figure into a static one), is too late.\n",
       "    var cells = IPython.notebook.get_cells();\n",
       "    var ncells = cells.length;\n",
       "    for (var i=0; i<ncells; i++) {\n",
       "        var cell = cells[i];\n",
       "        if (cell.cell_type === 'code'){\n",
       "            for (var j=0; j<cell.output_area.outputs.length; j++) {\n",
       "                var data = cell.output_area.outputs[j];\n",
       "                if (data.data) {\n",
       "                    // IPython >= 3 moved mimebundle to data attribute of output\n",
       "                    data = data.data;\n",
       "                }\n",
       "                if (data['text/html'] == html_output) {\n",
       "                    return [cell, data, j];\n",
       "                }\n",
       "            }\n",
       "        }\n",
       "    }\n",
       "}\n",
       "\n",
       "// Register the function which deals with the matplotlib target/channel.\n",
       "// The kernel may be null if the page has been refreshed.\n",
       "if (IPython.notebook.kernel != null) {\n",
       "    IPython.notebook.kernel.comm_manager.register_target('matplotlib', mpl.mpl_figure_comm);\n",
       "}\n"
      ],
      "text/plain": [
       "<IPython.core.display.Javascript object>"
      ]
     },
     "metadata": {},
     "output_type": "display_data"
    },
    {
     "data": {
      "text/html": [
       "<img src=\"data:image/png;base64,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\" width=\"999.6190476190476\">"
      ],
      "text/plain": [
       "<IPython.core.display.HTML object>"
      ]
     },
     "metadata": {},
     "output_type": "display_data"
    }
   ],
   "source": [
    "dd_result = DD.launch()"
   ]
  },
  {
   "cell_type": "code",
   "execution_count": 878,
   "metadata": {},
   "outputs": [],
   "source": [
    "dd_result.visualize();"
   ]
  },
  {
   "cell_type": "markdown",
   "metadata": {},
   "source": [
    "# Ramsey"
   ]
  },
  {
   "cell_type": "code",
   "execution_count": 2,
   "metadata": {},
   "outputs": [],
   "source": [
    "from lib2.DispersiveRamsey import *\n",
    "DR = DispersiveRamsey(\"ramsey\", \"lol\", \n",
    "                      vna=[vna], q_lo=[q_lo], q_awg=[q_awg], ro_awg=[ro_awg])\n",
    "vna_parameters= {\"bandwidth\":10, \"freq_limits\":[6e9]*2, \"nop\":10, \"averages\":1}\n",
    "ramsey_delays = linspace(0, 10000, 201)\n",
    "q_freq = 5e9\n",
    "exc_frequency = q_freq - 1e6\n",
    "pulse_sequence_parameters = {\"awg_trigger_reaction_delay\":0, \"readout_duration\":3000, \n",
    "                                \"repetition_period\":15000, \"half_pi_pulse_duration\":100/2}\n",
    "\n",
    "ro_awg_params =  {\"calibration\":MagicMock()}\n",
    "q_awg_params = {\"calibration\":MagicMock()}\n",
    "q_lo_params = {'power':-10, 'frequency':exc_frequency + 100e6}\n",
    "dev_params = {'vna':[vna_parameters], \n",
    "              'ro_awg':[ro_awg_params], \n",
    "              'q_awg':[q_awg_params],\n",
    "              'q_lo':[q_lo_params]}\n",
    "\n",
    "DR.set_fixed_parameters(pulse_sequence_parameters, **dev_params)\n",
    "DR.set_swept_parameters(ramsey_delays)\n",
    "DR.set_basis((1 + 1j,-1 - 1j))\n",
    "# DR.set_ult_calib(True)"
   ]
  },
  {
   "cell_type": "code",
   "execution_count": 3,
   "metadata": {},
   "outputs": [
    {
     "name": "stdout",
     "output_type": "stream",
     "text": [
      "Started at:  2018-11-21 16:53:19.454638\n",
      "Time left: 0 h 0 m 21.47 s, [ramsey_delay: 5.50e+02], average cycle time: 0.11 s       "
     ]
    },
    {
     "name": "stderr",
     "output_type": "stream",
     "text": [
      "C:\\Users\\pogor\\AppData\\Local\\Continuum\\anaconda3\\lib\\site-packages\\scipy\\optimize\\minpack.py:794: OptimizeWarning: Covariance of the parameters could not be estimated\n",
      "  category=OptimizeWarning)\n"
     ]
    },
    {
     "name": "stdout",
     "output_type": "stream",
     "text": [
      "Time left: 0 h 0 m 0.0 s, [ramsey_delay: 1.00e+04], average cycle time: 0.11 s       \n",
      "Elapsed time: 0 h 0 m 21.41 s\n"
     ]
    }
   ],
   "source": [
    "dr_result = DR.launch()"
   ]
  },
  {
   "cell_type": "markdown",
   "metadata": {},
   "source": [
    "# FFTTS"
   ]
  },
  {
   "cell_type": "code",
   "execution_count": 2,
   "metadata": {},
   "outputs": [],
   "source": [
    "from resonator_tools import *"
   ]
  },
  {
   "cell_type": "code",
   "execution_count": 3,
   "metadata": {},
   "outputs": [],
   "source": [
    "import pyvisa"
   ]
  },
  {
   "cell_type": "code",
   "execution_count": 8,
   "metadata": {},
   "outputs": [],
   "source": [
    "from importlib import reload"
   ]
  },
  {
   "cell_type": "code",
   "execution_count": 9,
   "metadata": {},
   "outputs": [],
   "source": [
    "import lib2"
   ]
  },
  {
   "cell_type": "code",
   "execution_count": 20,
   "metadata": {},
   "outputs": [
    {
     "data": {
      "text/plain": [
       "<module 'lib2.FastTwoToneSpectroscopyBase' from 'C:\\\\Users\\\\User\\\\Measurement-automation\\\\lib2\\\\FastTwoToneSpectroscopyBase.py'>"
      ]
     },
     "execution_count": 20,
     "metadata": {},
     "output_type": "execute_result"
    }
   ],
   "source": [
    "reload(lib2.FastTwoToneSpectroscopyBase)"
   ]
  },
  {
   "cell_type": "code",
   "execution_count": 21,
   "metadata": {},
   "outputs": [
    {
     "data": {
      "text/plain": [
       "<module 'lib2.FastTwoToneSpectroscopy' from 'C:\\\\Users\\\\User\\\\Measurement-automation\\\\lib2\\\\FastTwoToneSpectroscopy.py'>"
      ]
     },
     "execution_count": 21,
     "metadata": {},
     "output_type": "execute_result"
    }
   ],
   "source": [
    "reload(lib2.FastTwoToneSpectroscopy)"
   ]
  },
  {
   "cell_type": "code",
   "execution_count": 19,
   "metadata": {},
   "outputs": [],
   "source": [
    "dev_params = {'vna': [vna_parameters],\n",
    "              'mw_src': [mw_src_parameters]}"
   ]
  },
  {
   "cell_type": "code",
   "execution_count": 31,
   "metadata": {},
   "outputs": [
    {
     "data": {
      "text/plain": [
       "{'bandwidth': 250,\n",
       " 'freq_limits': [4000000000.0, 6000000000.0],\n",
       " 'nop': 10,\n",
       " 'power': -15,\n",
       " 'averages': 1}"
      ]
     },
     "execution_count": 31,
     "metadata": {},
     "output_type": "execute_result"
    }
   ],
   "source": [
    "dev_params['vna'][0]"
   ]
  },
  {
   "cell_type": "code",
   "execution_count": 22,
   "metadata": {},
   "outputs": [],
   "source": [
    "from lib2.FastTwoToneSpectroscopy import *\n",
    "TTS = FastFluxTwoToneSpectroscopy('TTS', 'lol', \n",
    "                              vna =[vna], mw_src=[mw_src], current_src=[cur_src])\n",
    "res_limits = [4e9, 6e9]\n",
    "vna_parameters = {\"bandwidth\":250, \"freq_limits\":res_limits, \"nop\":10, \"power\":-15, \"averages\":1}\n",
    "TTS._resonator_detector = RD\n",
    "mw_src_frequencies = linspace(8.5e9, 9.2e9, 51)\n",
    "mw_src_parameters = {\"power\":0, 'freq_limits': mw_src_frequencies} \n",
    "\n",
    "center = 0\n",
    "sweet_spot = 0\n",
    "period = 1\n",
    "currents = linspace(sweet_spot - period/8, sweet_spot + period/8, 51) # comment out to use fluxes from STS\n",
    "#voltages = linspace(0, 0.9, 51) # comment out to use voltages from STS\n",
    "#sweet_spot_current = None\n",
    "dev_params = {'vna': [vna_parameters],\n",
    "              'mw_src': [mw_src_parameters]}\n",
    "TTS.set_fixed_parameters(adaptive=True, **dev_params)\n",
    "#TTS.set_swept_parameters(mw_src_frequencies, voltage_values = voltages)\n",
    "TTS.set_swept_parameters(current_values = currents)\n",
    "TTS._measurement_result._unwrap_phase = True"
   ]
  },
  {
   "cell_type": "code",
   "execution_count": null,
   "metadata": {},
   "outputs": [],
   "source": []
  },
  {
   "cell_type": "code",
   "execution_count": 23,
   "metadata": {},
   "outputs": [
    {
     "name": "stdout",
     "output_type": "stream",
     "text": [
      "Started at:  2019-01-31 17:27:15.539384\n",
      "Time left: 0 h 0 m 0.0 s, [Current [A]: 1.25e-01], average cycle time: 0.42 s          \n",
      "Elapsed time: 0 h 0 m 21.39 s\n"
     ]
    }
   ],
   "source": [
    "tts_result = TTS.launch()"
   ]
  },
  {
   "cell_type": "code",
   "execution_count": null,
   "metadata": {},
   "outputs": [],
   "source": []
  },
  {
   "cell_type": "code",
   "execution_count": null,
   "metadata": {},
   "outputs": [],
   "source": []
  },
  {
   "cell_type": "markdown",
   "metadata": {},
   "source": [
    "# TTS"
   ]
  },
  {
   "cell_type": "code",
   "execution_count": 5,
   "metadata": {},
   "outputs": [
    {
     "name": "stdout",
     "output_type": "stream",
     "text": [
      "Detecting a resonator within provided frequency range of the VNA [4000000000.0, 6000000000.0]                             at 0.00 mA\n",
      "Detected frequency is 5.90000 GHz, at 0.00 mU and 0.00 degrees\n"
     ]
    }
   ],
   "source": [
    "from lib2.TwoToneSpectroscopy import *\n",
    "TTS = FluxTwoToneSpectroscopy('TTS', 'lol', \n",
    "                              vna =[vna], mw_src=[mw_src], current_src=[cur_src])\n",
    "TTS._resonator_detector = RD\n",
    "res_limits = [4e9, 6e9]\n",
    "vna_parameters = {\"bandwidth\":250, \"freq_limits\":res_limits, \"nop\":10, \"power\":-15, \"averages\":1}\n",
    "mw_src_parameters = {\"power\":0}\n",
    "mw_src_frequencies = linspace(8.5e9, 9.2e9, 51)\n",
    "center = 0\n",
    "sweet_spot = 0\n",
    "period = 1\n",
    "currents = linspace(sweet_spot - period/8, sweet_spot + period/8, 51) # comment out to use fluxes from STS\n",
    "#voltages = linspace(0, 0.9, 51) # comment out to use voltages from STS\n",
    "#sweet_spot_current = None\n",
    "dev_params = {'vna': [vna_parameters],\n",
    "              'mw_src': [mw_src_parameters]}\n",
    "TTS.set_fixed_parameters(sweet_spot_current=mean(currents), adaptive=False, **dev_params)\n",
    "#TTS.set_swept_parameters(mw_src_frequencies, voltage_values = voltages)\n",
    "TTS.set_swept_parameters(mw_src_frequencies, current_values = currents)\n",
    "TTS._measurement_result._unwrap_phase = True"
   ]
  },
  {
   "cell_type": "code",
   "execution_count": 6,
   "metadata": {},
   "outputs": [
    {
     "name": "stdout",
     "output_type": "stream",
     "text": [
      "Started at:  2019-02-07 14:01:40.531400\n",
      "Time left: 0 h 8 m 45.39 s, [Current [A]: -1.25e-01, Frequency [Hz]: 8.67e+09], average cycle time: 0.2 s        \n",
      "Plot has been closed, aborting!\n",
      "Time left: 0 h 8 m 44.82 s, [Current [A]: -1.25e-01, Frequency [Hz]: 8.68e+09], average cycle time: 0.2 s       "
     ]
    }
   ],
   "source": [
    "tts_result = TTS.launch()"
   ]
  },
  {
   "cell_type": "code",
   "execution_count": 4,
   "metadata": {},
   "outputs": [
    {
     "name": "stdout",
     "output_type": "stream",
     "text": [
      "Measurement was interrupted! \n",
      "\n"
     ]
    }
   ],
   "source": [
    "TTS.stop()"
   ]
  },
  {
   "cell_type": "markdown",
   "metadata": {},
   "source": [
    "# STS"
   ]
  },
  {
   "cell_type": "code",
   "execution_count": 3,
   "metadata": {},
   "outputs": [
    {
     "name": "stdout",
     "output_type": "stream",
     "text": [
      "Started at:  2019-02-07 13:38:48.849944\n",
      "Time left: 0 h 0 m 0.0 s, [Current [A]: 7.50e-05], average cycle time: 0.2 s           \n",
      "Elapsed time: 0 h 0 m 20.52 s\n"
     ]
    }
   ],
   "source": [
    "from lib2.SingleToneSpectroscopy import *\n",
    "currents = linspace(-.75e-4, .75e-4, 101)\n",
    "voltages = linspace(-.75,1, 101)\n",
    "res_limits = [4e9, 6e9]\n",
    "\n",
    "STS = SingleToneSpectroscopy('STS', 'lol', plot_update_interval = 1, vna = [vna], src = [cur_src])\n",
    "vna_parameters = {\"bandwidth\":500, \"freq_limits\":res_limits, \"nop\":101, \"power\":-20, \"averages\":1}\n",
    "dev_params = {'vna': [vna_parameters]}\n",
    "\n",
    "STS.set_fixed_parameters(**dev_params)\n",
    "STS._src[0].set_current(currents[0])\n",
    "sleep(1)\n",
    "STS.set_swept_parameters({'Current [A]': (STS._src[0].set_current, currents)})\n",
    "# STS.set_swept_parameters({'AWG voltage [V]': (voltage_awg.set_voltage, voltages)})\n",
    "\n",
    "sts_result = STS.launch()"
   ]
  },
  {
   "cell_type": "code",
   "execution_count": 5,
   "metadata": {},
   "outputs": [
    {
     "name": "stdout",
     "output_type": "stream",
     "text": [
      "Measurement was interrupted! \n",
      "\n",
      "Time left: 0 h 0 m 6.86 s, [Current [A]: 2.40e-05], average cycle time: 0.2 s       "
     ]
    }
   ],
   "source": [
    "STS.stop()"
   ]
  },
  {
   "cell_type": "code",
   "execution_count": 5,
   "metadata": {},
   "outputs": [],
   "source": [
    "sts_result.visualize();"
   ]
  },
  {
   "cell_type": "code",
   "execution_count": 15,
   "metadata": {},
   "outputs": [],
   "source": [
    "from lib2.DispersiveRabiOscillations import *\n",
    "\n",
    "DRO = DispersiveRabiOscillations(\"rabi\", \"lol\", plot_update_interval=0.5,\n",
    "            vna=[vna], q_lo=[q_lo], q_awg=[q_awg], ro_awg=[ro_awg])\n",
    "vna_parameters = {\"bandwidth\":10, \"freq_limits\":[5e9]*2, \"nop\":10, \"averages\":1}\n",
    "exc_frequency = 6e9\n",
    "excitation_durations = linspace(0, 2000, 201)\n",
    "\n",
    "rabi_sequence_parameters = pulse_sequence_parameters= {\"awg_trigger_reaction_delay\":0, \"excitation_amplitude\":1,\n",
    "                                                \"readout_duration\":3000, \"repetition_period\":15000}\n",
    "ro_awg_params =  {\"calibration\":MagicMock()}\n",
    "q_awg_params = {\"calibration\":MagicMock()}\n",
    "q_lo_params = {'power':-10, 'frequency':exc_frequency + 100e6}\n",
    "dev_params = {'vna':[vna_parameters], \n",
    "              'ro_awg':[ro_awg_params], \n",
    "              'q_awg':[q_awg_params],\n",
    "              'q_lo':[q_lo_params]}\n",
    "DRO.set_fixed_parameters(rabi_sequence_parameters, **dev_params)\n",
    "DRO.set_swept_parameters(excitation_durations)\n",
    "#DRO.set_basis(basis)\n",
    "DRO.set_ult_calib(False)"
   ]
  },
  {
   "cell_type": "code",
   "execution_count": 16,
   "metadata": {},
   "outputs": [
    {
     "name": "stdout",
     "output_type": "stream",
     "text": [
      "Started at:  2018-11-20 17:46:46.153761\n",
      "Time left: 0 h 0 m 39.97 s, [excitation_duration: 6.00e+01], average cycle time: 0.21 s       "
     ]
    },
    {
     "name": "stderr",
     "output_type": "stream",
     "text": [
      "C:\\Users\\pogor\\AppData\\Local\\Continuum\\anaconda3\\lib\\site-packages\\scipy\\optimize\\minpack.py:794: OptimizeWarning: Covariance of the parameters could not be estimated\n",
      "  category=OptimizeWarning)\n"
     ]
    },
    {
     "name": "stdout",
     "output_type": "stream",
     "text": [
      "Time left: 0 h 0 m 0.0 s, [excitation_duration: 2.00e+03], average cycle time: 0.21 s       \n",
      "Elapsed time: 0 h 0 m 41.53 s\n"
     ]
    }
   ],
   "source": [
    "result = DRO.launch()"
   ]
  },
  {
   "cell_type": "code",
   "execution_count": 18,
   "metadata": {},
   "outputs": [],
   "source": [
    "basis = result.get_basis()"
   ]
  },
  {
   "cell_type": "markdown",
   "metadata": {},
   "source": [
    "# Joint Rabi"
   ]
  },
  {
   "cell_type": "code",
   "execution_count": 2,
   "metadata": {},
   "outputs": [],
   "source": [
    "from lib2.DispersiveRabiOscillationsJoint import *\n",
    "\n",
    "DROJ = DispersiveRabiOscillationsJoint(\"rabi\", \"lol\",\n",
    "            vna=[vna], q_lo=[q_lo, q_lo_2], q_awg=[q_awg, q_awg_2], ro_awg=[ro_awg], plot_update_interval=0.5, easy_fit=True)\n",
    "vna_parameters = {\"bandwidth\":10, \"freq_limits\":[5e9]*2, \"nop\":10, \"averages\":1}\n",
    "exc_frequency = 6e9\n",
    "excitation_durations = linspace(0, 2000, 201)\n",
    "\n",
    "rabi_sequence_parameters = pulse_sequence_parameters= {\"awg_trigger_reaction_delay\":0, \"excitation_amplitude\":1,\n",
    "                                                \"readout_duration\":3000, \"repetition_period\":15000}\n",
    "ro_awg_params =  {\"calibration\":MagicMock()}\n",
    "q_awg_params = {\"calibration\":MagicMock()}\n",
    "q_lo_params = {'power':-10, 'frequency':exc_frequency + 100e6}\n",
    "dev_params = {'vna':[vna_parameters], \n",
    "              'ro_awg':[ro_awg_params], \n",
    "              'q_awg':[q_awg_params, q_awg_params],\n",
    "              'q_lo':[q_lo_params, q_lo_params]}\n",
    "DROJ.set_fixed_parameters(rabi_sequence_parameters, **dev_params)\n",
    "DROJ.set_swept_parameters(excitation_durations)\n",
    "#DRO.set_basis(basis)\n",
    "DROJ.set_ult_calib(False)"
   ]
  },
  {
   "cell_type": "code",
   "execution_count": 4,
   "metadata": {},
   "outputs": [
    {
     "data": {
      "text/plain": [
       "((-7.584621733423947e-09+3.4596915328470114e-09j),\n",
       " (0.5000586655083248+0.5000598562870332j),\n",
       " (0.49994139917905517+0.4999402040342642j),\n",
       " (-9.304001906805738e-11+3.943796090626318e-09j))"
      ]
     },
     "execution_count": 4,
     "metadata": {},
     "output_type": "execute_result"
    }
   ],
   "source": [
    "droj_result.get_betas()"
   ]
  },
  {
   "cell_type": "code",
   "execution_count": null,
   "metadata": {},
   "outputs": [],
   "source": [
    "DROJ.stop()"
   ]
  },
  {
   "cell_type": "code",
   "execution_count": 5,
   "metadata": {},
   "outputs": [
    {
     "data": {
      "text/plain": [
       "(<Figure size 1500x700 with 2 Axes>,\n",
       " array([<matplotlib.axes._subplots.AxesSubplot object at 0x000002BC61E36668>,\n",
       "        <matplotlib.axes._subplots.AxesSubplot object at 0x000002BC61E4FBA8>],\n",
       "       dtype=object),\n",
       " (None, None))"
      ]
     },
     "execution_count": 5,
     "metadata": {},
     "output_type": "execute_result"
    },
    {
     "name": "stderr",
     "output_type": "stream",
     "text": [
      "Traceback (most recent call last):\n",
      "  File \"C:\\Users\\Ultmessia\\Anaconda3\\lib\\site-packages\\matplotlib\\mathtext.py\", line 2515, in parse\n",
      "    result = self._expression.parseString(s)\n",
      "  File \"C:\\Users\\Ultmessia\\Anaconda3\\lib\\site-packages\\pyparsing.py\", line 1632, in parseString\n",
      "    raise exc\n",
      "  File \"C:\\Users\\Ultmessia\\Anaconda3\\lib\\site-packages\\pyparsing.py\", line 1622, in parseString\n",
      "    loc, tokens = self._parse( instring, 0 )\n",
      "  File \"C:\\Users\\Ultmessia\\Anaconda3\\lib\\site-packages\\pyparsing.py\", line 1529, in _parseCache\n",
      "    value = self._parseNoCache(instring, loc, doActions, callPreParse)\n",
      "  File \"C:\\Users\\Ultmessia\\Anaconda3\\lib\\site-packages\\pyparsing.py\", line 1379, in _parseNoCache\n",
      "    loc,tokens = self.parseImpl( instring, preloc, doActions )\n",
      "  File \"C:\\Users\\Ultmessia\\Anaconda3\\lib\\site-packages\\pyparsing.py\", line 3717, in parseImpl\n",
      "    return self.expr._parse( instring, loc, doActions, callPreParse=False )\n",
      "  File \"C:\\Users\\Ultmessia\\Anaconda3\\lib\\site-packages\\pyparsing.py\", line 1529, in _parseCache\n",
      "    value = self._parseNoCache(instring, loc, doActions, callPreParse)\n",
      "  File \"C:\\Users\\Ultmessia\\Anaconda3\\lib\\site-packages\\pyparsing.py\", line 1379, in _parseNoCache\n",
      "    loc,tokens = self.parseImpl( instring, preloc, doActions )\n",
      "  File \"C:\\Users\\Ultmessia\\Anaconda3\\lib\\site-packages\\pyparsing.py\", line 3395, in parseImpl\n",
      "    loc, exprtokens = e._parse( instring, loc, doActions )\n",
      "  File \"C:\\Users\\Ultmessia\\Anaconda3\\lib\\site-packages\\pyparsing.py\", line 1529, in _parseCache\n",
      "    value = self._parseNoCache(instring, loc, doActions, callPreParse)\n",
      "  File \"C:\\Users\\Ultmessia\\Anaconda3\\lib\\site-packages\\pyparsing.py\", line 1383, in _parseNoCache\n",
      "    loc,tokens = self.parseImpl( instring, preloc, doActions )\n",
      "  File \"C:\\Users\\Ultmessia\\Anaconda3\\lib\\site-packages\\pyparsing.py\", line 3183, in parseImpl\n",
      "    raise ParseException(instring, loc, self.errmsg, self)\n",
      "pyparsing.ParseException: Expected end of text (at char 0), (line:1, col:1)\n",
      "\n",
      "During handling of the above exception, another exception occurred:\n",
      "\n",
      "Traceback (most recent call last):\n",
      "  File \"C:\\Users\\Ultmessia\\Anaconda3\\lib\\site-packages\\matplotlib\\backends\\backend_qt5.py\", line 519, in _draw_idle\n",
      "    self.draw()\n",
      "  File \"C:\\Users\\Ultmessia\\Anaconda3\\lib\\site-packages\\matplotlib\\backends\\backend_agg.py\", line 437, in draw\n",
      "    self.figure.draw(self.renderer)\n",
      "  File \"C:\\Users\\Ultmessia\\Anaconda3\\lib\\site-packages\\matplotlib\\artist.py\", line 55, in draw_wrapper\n",
      "    return draw(artist, renderer, *args, **kwargs)\n",
      "  File \"C:\\Users\\Ultmessia\\Anaconda3\\lib\\site-packages\\matplotlib\\figure.py\", line 1493, in draw\n",
      "    renderer, self, artists, self.suppressComposite)\n",
      "  File \"C:\\Users\\Ultmessia\\Anaconda3\\lib\\site-packages\\matplotlib\\image.py\", line 141, in _draw_list_compositing_images\n",
      "    a.draw(renderer)\n",
      "  File \"C:\\Users\\Ultmessia\\Anaconda3\\lib\\site-packages\\matplotlib\\artist.py\", line 55, in draw_wrapper\n",
      "    return draw(artist, renderer, *args, **kwargs)\n",
      "  File \"C:\\Users\\Ultmessia\\Anaconda3\\lib\\site-packages\\matplotlib\\axes\\_base.py\", line 2635, in draw\n",
      "    mimage._draw_list_compositing_images(renderer, self, artists)\n",
      "  File \"C:\\Users\\Ultmessia\\Anaconda3\\lib\\site-packages\\matplotlib\\image.py\", line 141, in _draw_list_compositing_images\n",
      "    a.draw(renderer)\n",
      "  File \"C:\\Users\\Ultmessia\\Anaconda3\\lib\\site-packages\\matplotlib\\artist.py\", line 55, in draw_wrapper\n",
      "    return draw(artist, renderer, *args, **kwargs)\n",
      "  File \"C:\\Users\\Ultmessia\\Anaconda3\\lib\\site-packages\\matplotlib\\text.py\", line 2292, in draw\n",
      "    self.update_bbox_position_size(renderer)\n",
      "  File \"C:\\Users\\Ultmessia\\Anaconda3\\lib\\site-packages\\matplotlib\\text.py\", line 499, in update_bbox_position_size\n",
      "    x_box, y_box, w_box, h_box = _get_textbox(self, renderer)\n",
      "  File \"C:\\Users\\Ultmessia\\Anaconda3\\lib\\site-packages\\matplotlib\\text.py\", line 97, in _get_textbox\n",
      "    _, parts, d = text._get_layout(renderer)\n",
      "  File \"C:\\Users\\Ultmessia\\Anaconda3\\lib\\site-packages\\matplotlib\\text.py\", line 309, in _get_layout\n",
      "    ismath=ismath)\n",
      "  File \"C:\\Users\\Ultmessia\\Anaconda3\\lib\\site-packages\\matplotlib\\backends\\backend_agg.py\", line 241, in get_text_width_height_descent\n",
      "    self.mathtext_parser.parse(s, self.dpi, prop)\n",
      "  File \"C:\\Users\\Ultmessia\\Anaconda3\\lib\\site-packages\\matplotlib\\mathtext.py\", line 3293, in parse\n",
      "    box = self._parser.parse(s, font_output, fontsize, dpi)\n",
      "  File \"C:\\Users\\Ultmessia\\Anaconda3\\lib\\site-packages\\matplotlib\\mathtext.py\", line 2521, in parse\n",
      "    six.text_type(err)]))\n",
      "ValueError: \n",
      "eta_{II} = 0.00 + -0.00 i$\n",
      "^\n",
      "Expected end of text (at char 0), (line:1, col:1)\n",
      "Traceback (most recent call last):\n",
      "  File \"C:\\Users\\Ultmessia\\Anaconda3\\lib\\site-packages\\matplotlib\\mathtext.py\", line 2515, in parse\n",
      "    result = self._expression.parseString(s)\n",
      "  File \"C:\\Users\\Ultmessia\\Anaconda3\\lib\\site-packages\\pyparsing.py\", line 1632, in parseString\n",
      "    raise exc\n",
      "  File \"C:\\Users\\Ultmessia\\Anaconda3\\lib\\site-packages\\pyparsing.py\", line 1622, in parseString\n",
      "    loc, tokens = self._parse( instring, 0 )\n",
      "  File \"C:\\Users\\Ultmessia\\Anaconda3\\lib\\site-packages\\pyparsing.py\", line 1529, in _parseCache\n",
      "    value = self._parseNoCache(instring, loc, doActions, callPreParse)\n",
      "  File \"C:\\Users\\Ultmessia\\Anaconda3\\lib\\site-packages\\pyparsing.py\", line 1379, in _parseNoCache\n",
      "    loc,tokens = self.parseImpl( instring, preloc, doActions )\n",
      "  File \"C:\\Users\\Ultmessia\\Anaconda3\\lib\\site-packages\\pyparsing.py\", line 3717, in parseImpl\n",
      "    return self.expr._parse( instring, loc, doActions, callPreParse=False )\n",
      "  File \"C:\\Users\\Ultmessia\\Anaconda3\\lib\\site-packages\\pyparsing.py\", line 1529, in _parseCache\n",
      "    value = self._parseNoCache(instring, loc, doActions, callPreParse)\n",
      "  File \"C:\\Users\\Ultmessia\\Anaconda3\\lib\\site-packages\\pyparsing.py\", line 1379, in _parseNoCache\n",
      "    loc,tokens = self.parseImpl( instring, preloc, doActions )\n",
      "  File \"C:\\Users\\Ultmessia\\Anaconda3\\lib\\site-packages\\pyparsing.py\", line 3395, in parseImpl\n",
      "    loc, exprtokens = e._parse( instring, loc, doActions )\n",
      "  File \"C:\\Users\\Ultmessia\\Anaconda3\\lib\\site-packages\\pyparsing.py\", line 1529, in _parseCache\n",
      "    value = self._parseNoCache(instring, loc, doActions, callPreParse)\n",
      "  File \"C:\\Users\\Ultmessia\\Anaconda3\\lib\\site-packages\\pyparsing.py\", line 1383, in _parseNoCache\n",
      "    loc,tokens = self.parseImpl( instring, preloc, doActions )\n",
      "  File \"C:\\Users\\Ultmessia\\Anaconda3\\lib\\site-packages\\pyparsing.py\", line 3183, in parseImpl\n",
      "    raise ParseException(instring, loc, self.errmsg, self)\n",
      "pyparsing.ParseException: Expected end of text (at char 0), (line:1, col:1)\n",
      "\n",
      "During handling of the above exception, another exception occurred:\n",
      "\n",
      "Traceback (most recent call last):\n",
      "  File \"C:\\Users\\Ultmessia\\Anaconda3\\lib\\site-packages\\matplotlib\\backends\\backend_qt5.py\", line 519, in _draw_idle\n",
      "    self.draw()\n",
      "  File \"C:\\Users\\Ultmessia\\Anaconda3\\lib\\site-packages\\matplotlib\\backends\\backend_agg.py\", line 437, in draw\n",
      "    self.figure.draw(self.renderer)\n",
      "  File \"C:\\Users\\Ultmessia\\Anaconda3\\lib\\site-packages\\matplotlib\\artist.py\", line 55, in draw_wrapper\n",
      "    return draw(artist, renderer, *args, **kwargs)\n",
      "  File \"C:\\Users\\Ultmessia\\Anaconda3\\lib\\site-packages\\matplotlib\\figure.py\", line 1493, in draw\n",
      "    renderer, self, artists, self.suppressComposite)\n",
      "  File \"C:\\Users\\Ultmessia\\Anaconda3\\lib\\site-packages\\matplotlib\\image.py\", line 141, in _draw_list_compositing_images\n",
      "    a.draw(renderer)\n",
      "  File \"C:\\Users\\Ultmessia\\Anaconda3\\lib\\site-packages\\matplotlib\\artist.py\", line 55, in draw_wrapper\n",
      "    return draw(artist, renderer, *args, **kwargs)\n",
      "  File \"C:\\Users\\Ultmessia\\Anaconda3\\lib\\site-packages\\matplotlib\\axes\\_base.py\", line 2635, in draw\n",
      "    mimage._draw_list_compositing_images(renderer, self, artists)\n",
      "  File \"C:\\Users\\Ultmessia\\Anaconda3\\lib\\site-packages\\matplotlib\\image.py\", line 141, in _draw_list_compositing_images\n",
      "    a.draw(renderer)\n",
      "  File \"C:\\Users\\Ultmessia\\Anaconda3\\lib\\site-packages\\matplotlib\\artist.py\", line 55, in draw_wrapper\n",
      "    return draw(artist, renderer, *args, **kwargs)\n",
      "  File \"C:\\Users\\Ultmessia\\Anaconda3\\lib\\site-packages\\matplotlib\\text.py\", line 2292, in draw\n",
      "    self.update_bbox_position_size(renderer)\n",
      "  File \"C:\\Users\\Ultmessia\\Anaconda3\\lib\\site-packages\\matplotlib\\text.py\", line 499, in update_bbox_position_size\n",
      "    x_box, y_box, w_box, h_box = _get_textbox(self, renderer)\n",
      "  File \"C:\\Users\\Ultmessia\\Anaconda3\\lib\\site-packages\\matplotlib\\text.py\", line 97, in _get_textbox\n",
      "    _, parts, d = text._get_layout(renderer)\n",
      "  File \"C:\\Users\\Ultmessia\\Anaconda3\\lib\\site-packages\\matplotlib\\text.py\", line 309, in _get_layout\n",
      "    ismath=ismath)\n",
      "  File \"C:\\Users\\Ultmessia\\Anaconda3\\lib\\site-packages\\matplotlib\\backends\\backend_agg.py\", line 241, in get_text_width_height_descent\n",
      "    self.mathtext_parser.parse(s, self.dpi, prop)\n",
      "  File \"C:\\Users\\Ultmessia\\Anaconda3\\lib\\site-packages\\matplotlib\\mathtext.py\", line 3293, in parse\n",
      "    box = self._parser.parse(s, font_output, fontsize, dpi)\n",
      "  File \"C:\\Users\\Ultmessia\\Anaconda3\\lib\\site-packages\\matplotlib\\mathtext.py\", line 2521, in parse\n",
      "    six.text_type(err)]))\n",
      "ValueError: \n",
      "eta_{II} = 0.00 + -0.00 i$\n",
      "^\n",
      "Expected end of text (at char 0), (line:1, col:1)\n"
     ]
    }
   ],
   "source": [
    "droj_result.visualize()"
   ]
  },
  {
   "cell_type": "code",
   "execution_count": 3,
   "metadata": {},
   "outputs": [
    {
     "name": "stdout",
     "output_type": "stream",
     "text": [
      "Started at:  2018-12-10 15:52:28.775716\n",
      "Time left: 0 h 0 m 37.53 s, [excitation_duration: 2.50e+02], average cycle time: 0.21 s       Fit failed unexpectedly: Singular matrix\n",
      "[0.04946950299855734, 0.04946950299855734, 0.04946950299855734, 0.04946950299855734, 0.04946950299855734, 0.04946950299855734, 0.04946950299855734, 0.04946950299855734, 0.7390481805386263, 0.7390481805386263, 46.435766692581026, 0.7390481805386263, 0.7390481805386263, 46.435766692581026] ([-0.09893900599711468, -0.09893900599711468, -0.09893900599711468, -0.09893900599711468, -0.09893900599711468, -0.09893900599711468, -0.09893900599711468, -0.09893900599711468, 1e-07, 1e-07, 6.283185307179586e-06, 1e-07, 1e-07, 6.283185307179586e-06], [0.09893900599711468, 0.09893900599711468, 0.09893900599711468, 0.09893900599711468, 0.09893900599711468, 0.09893900599711468, 0.09893900599711468, 0.09893900599711468, 1.0, 1.0, 62.83185307179586, 1.0, 1.0, 62.83185307179586])\n",
      "Fit failed unexpectedly: Singular matrix\n"
     ]
    },
    {
     "name": "stderr",
     "output_type": "stream",
     "text": [
      "C:\\Users\\pogor\\YandexDisk\\Ustinov internship\\Measurement-automation\\lib2\\DispersiveRabiOscillationsJoint.py:45: RuntimeWarning: invalid value encountered in sqrt\n",
      "  omega_r_2 = sqrt(omega_r ** 2 - (1 / tau_r) ** 2)\n"
     ]
    },
    {
     "name": "stdout",
     "output_type": "stream",
     "text": [
      "Time left: 0 h 0 m 36.97 s, [excitation_duration: 2.90e+02], average cycle time: 0.22 s       Fit failed unexpectedly: Singular matrix\n",
      "[-3.81999541e-06 -3.81999536e-06  5.00471419e-01  5.00470544e-01\n",
      "  4.99529281e-01  4.99538745e-01 -3.76352622e-07 -1.95874487e-06\n",
      "  7.68426472e-06  7.68426472e-06  1.00116682e+01  1.06114991e-05\n",
      "  1.06114991e-05  9.98827288e+00] ([-1.8768887533689473, -1.8768887533689473, -1.8768887533689473, -1.8768887533689473, -1.8768887533689473, -1.8768887533689473, -1.8768887533689473, -1.8768887533689473, 1e-07, 1e-07, 6.283185307179586e-06, 1e-07, 1e-07, 6.283185307179586e-06], [1.8768887533689473, 1.8768887533689473, 1.8768887533689473, 1.8768887533689473, 1.8768887533689473, 1.8768887533689473, 1.8768887533689473, 1.8768887533689473, 1.0, 1.0, 62.83185307179586, 1.0, 1.0, 62.83185307179586])\n",
      "Fit failed unexpectedly: Singular matrix\n",
      "Time left: 0 h 0 m 36.5 s, [excitation_duration: 3.10e+02], average cycle time: 0.22 s       Fit failed unexpectedly: Singular matrix\n",
      "[ 6.96891203e-02  6.96891202e-02 -3.63658384e-03 -3.64551711e-03\n",
      " -1.80624297e-02 -1.23265240e-02  9.78874708e-01  9.74718642e-01\n",
      "  1.00045041e-07  1.00045041e-07  5.17455494e+01  1.00342794e-07\n",
      "  1.00342794e-07  6.28318531e+01] ([-2.009992496600445, -2.009992496600445, -2.009992496600445, -2.009992496600445, -2.009992496600445, -2.009992496600445, -2.009992496600445, -2.009992496600445, 1e-07, 1e-07, 6.283185307179586e-06, 1e-07, 1e-07, 6.283185307179586e-06], [2.009992496600445, 2.009992496600445, 2.009992496600445, 2.009992496600445, 2.009992496600445, 2.009992496600445, 2.009992496600445, 2.009992496600445, 1.0, 1.0, 62.83185307179586, 1.0, 1.0, 62.83185307179586])\n",
      "Fit failed unexpectedly: Singular matrix\n",
      "Time left: 0 h 0 m 35.76 s, [excitation_duration: 3.40e+02], average cycle time: 0.22 s       Fit failed unexpectedly: Singular matrix\n",
      "[-7.02122040e-06 -7.02122072e-06  4.98656599e-01  4.98654972e-01\n",
      "  5.01355710e-01  5.01353517e-01 -2.53078866e-06 -4.10487812e-06\n",
      "  5.53847323e-05  5.53847323e-05  9.98929706e+00  4.04813247e-05\n",
      "  4.04813247e-05  1.00106165e+01] ([-2.0191351502732795, -2.0191351502732795, -2.0191351502732795, -2.0191351502732795, -2.0191351502732795, -2.0191351502732795, -2.0191351502732795, -2.0191351502732795, 1e-07, 1e-07, 6.283185307179586e-06, 1e-07, 1e-07, 6.283185307179586e-06], [2.0191351502732795, 2.0191351502732795, 2.0191351502732795, 2.0191351502732795, 2.0191351502732795, 2.0191351502732795, 2.0191351502732795, 2.0191351502732795, 1.0, 1.0, 62.83185307179586, 1.0, 1.0, 62.83185307179586])\n",
      "Fit failed unexpectedly: Singular matrix\n",
      "Time left: 0 h 0 m 31.71 s, [excitation_duration: 5.40e+02], average cycle time: 0.22 s       Fit failed unexpectedly: Singular matrix\n",
      "[1.0095675751366397, 1.0095675751366397, 1.0095675751366397, 1.0095675751366397, 1.0095675751366397, 1.0095675751366397, 1.0095675751366397, 1.0095675751366397, 0.3954765432593807, 0.3954765432593807, 24.84852405941513, 0.3954765432593807, 0.3954765432593807, 24.84852405941513] ([-2.0191351502732795, -2.0191351502732795, -2.0191351502732795, -2.0191351502732795, -2.0191351502732795, -2.0191351502732795, -2.0191351502732795, -2.0191351502732795, 1e-07, 1e-07, 6.283185307179586e-06, 1e-07, 1e-07, 6.283185307179586e-06], [2.0191351502732795, 2.0191351502732795, 2.0191351502732795, 2.0191351502732795, 2.0191351502732795, 2.0191351502732795, 2.0191351502732795, 2.0191351502732795, 1.0, 1.0, 62.83185307179586, 1.0, 1.0, 62.83185307179586])\n",
      "Fit failed unexpectedly: Singular matrix\n",
      "Time left: 0 h 0 m 30.59 s, [excitation_duration: 5.90e+02], average cycle time: 0.22 s       Fit failed unexpectedly: Singular matrix\n",
      "[ 6.66081259e-10  6.66268646e-10 -1.47723012e-06  6.22074723e-07\n",
      "  1.00000055e+00  1.00000031e+00  6.06599935e-07 -6.06147758e-07\n",
      "  2.53116778e-01  2.53116778e-01  1.00014819e+01  1.00000977e-07\n",
      "  1.00000983e-07  1.00000000e+01] ([-2.0191351502732795, -2.0191351502732795, -2.0191351502732795, -2.0191351502732795, -2.0191351502732795, -2.0191351502732795, -2.0191351502732795, -2.0191351502732795, 1e-07, 1e-07, 6.283185307179586e-06, 1e-07, 1e-07, 6.283185307179586e-06], [2.0191351502732795, 2.0191351502732795, 2.0191351502732795, 2.0191351502732795, 2.0191351502732795, 2.0191351502732795, 2.0191351502732795, 2.0191351502732795, 1.0, 1.0, 62.83185307179586, 1.0, 1.0, 62.83185307179586])\n",
      "Fit failed unexpectedly: Singular matrix\n",
      "Time left: 0 h 0 m 29.88 s, [excitation_duration: 6.20e+02], average cycle time: 0.22 s       Fit failed unexpectedly: Singular matrix\n",
      "[-3.87567425e-02 -3.87567425e-02 -1.86059960e-02 -1.86252707e-02\n",
      " -4.56558066e-02 -4.56560787e-02  1.06402956e+00  1.06402557e+00\n",
      "  2.53173230e-01  2.53173230e-01  3.72550453e+01  1.91890563e-06\n",
      "  1.91890563e-06  2.69736134e+01] ([-2.0191351502732795, -2.0191351502732795, -2.0191351502732795, -2.0191351502732795, -2.0191351502732795, -2.0191351502732795, -2.0191351502732795, -2.0191351502732795, 1e-07, 1e-07, 6.283185307179586e-06, 1e-07, 1e-07, 6.283185307179586e-06], [2.0191351502732795, 2.0191351502732795, 2.0191351502732795, 2.0191351502732795, 2.0191351502732795, 2.0191351502732795, 2.0191351502732795, 2.0191351502732795, 1.0, 1.0, 62.83185307179586, 1.0, 1.0, 62.83185307179586])\n",
      "Fit failed unexpectedly: Singular matrix\n",
      "Time left: 0 h 0 m 29.65 s, [excitation_duration: 6.30e+02], average cycle time: 0.22 s       Fit failed unexpectedly: Singular matrix\n",
      "[-0.10578573 -0.10578572 -1.97438016 -1.97445177  2.01913506  2.01913506\n",
      "  0.34549969  0.34568425  1.          1.         40.63915115  1.\n",
      "  1.         40.9121026 ] ([-2.0191351502732795, -2.0191351502732795, -2.0191351502732795, -2.0191351502732795, -2.0191351502732795, -2.0191351502732795, -2.0191351502732795, -2.0191351502732795, 1e-07, 1e-07, 6.283185307179586e-06, 1e-07, 1e-07, 6.283185307179586e-06], [2.0191351502732795, 2.0191351502732795, 2.0191351502732795, 2.0191351502732795, 2.0191351502732795, 2.0191351502732795, 2.0191351502732795, 2.0191351502732795, 1.0, 1.0, 62.83185307179586, 1.0, 1.0, 62.83185307179586])\n",
      "Fit failed unexpectedly: Singular matrix\n",
      "Time left: 0 h 0 m 27.68 s, [excitation_duration: 7.20e+02], average cycle time: 0.22 s       Fit failed unexpectedly: Singular matrix\n",
      "[-8.60593026e-09 -8.60689596e-09  4.99338572e-01  4.99338504e-01\n",
      "  5.00661507e-01  5.00661480e-01  1.17776449e-08  3.03534827e-09\n",
      "  1.08161359e-07  1.08161359e-07  9.99998805e+00  1.07862156e-07\n",
      "  1.07862156e-07  1.00000120e+01] ([-2.0191351502732795, -2.0191351502732795, -2.0191351502732795, -2.0191351502732795, -2.0191351502732795, -2.0191351502732795, -2.0191351502732795, -2.0191351502732795, 1e-07, 1e-07, 6.283185307179586e-06, 1e-07, 1e-07, 6.283185307179586e-06], [2.0191351502732795, 2.0191351502732795, 2.0191351502732795, 2.0191351502732795, 2.0191351502732795, 2.0191351502732795, 2.0191351502732795, 2.0191351502732795, 1.0, 1.0, 62.83185307179586, 1.0, 1.0, 62.83185307179586])\n",
      "Fit failed unexpectedly: Singular matrix\n",
      "Time left: 0 h 0 m 26.57 s, [excitation_duration: 7.70e+02], average cycle time: 0.22 s       Fit failed unexpectedly: Singular matrix\n",
      "[ 1.59155032e-01  1.59155032e-01 -2.53429581e-02 -2.53427862e-02\n",
      "  1.05717293e-01  1.05717233e-01 -3.21116829e-01 -3.21116715e-01\n",
      "  7.62013880e-06  7.62013880e-06  2.31439715e+01  1.56702382e-06\n",
      "  1.56702382e-06  1.98833545e+01] ([-2.0191351502732795, -2.0191351502732795, -2.0191351502732795, -2.0191351502732795, -2.0191351502732795, -2.0191351502732795, -2.0191351502732795, -2.0191351502732795, 1e-07, 1e-07, 6.283185307179586e-06, 1e-07, 1e-07, 6.283185307179586e-06], [2.0191351502732795, 2.0191351502732795, 2.0191351502732795, 2.0191351502732795, 2.0191351502732795, 2.0191351502732795, 2.0191351502732795, 2.0191351502732795, 1.0, 1.0, 62.83185307179586, 1.0, 1.0, 62.83185307179586])\n",
      "Fit failed unexpectedly: Singular matrix\n",
      "Time left: 0 h 0 m 25.49 s, [excitation_duration: 8.20e+02], average cycle time: 0.22 s       Fit failed unexpectedly: Singular matrix\n",
      "[ 1.62777854e-01  1.62777854e-01 -6.00950885e-03 -6.00783784e-03\n",
      "  2.34753982e-02  2.34756755e-02 -3.22383964e-01 -3.22382895e-01\n",
      "  6.11969421e-06  6.11969421e-06  4.24151718e+01  3.36433888e-06\n",
      "  3.36433888e-06  3.89667373e+01] ([-2.0191351502732795, -2.0191351502732795, -2.0191351502732795, -2.0191351502732795, -2.0191351502732795, -2.0191351502732795, -2.0191351502732795, -2.0191351502732795, 1e-07, 1e-07, 6.283185307179586e-06, 1e-07, 1e-07, 6.283185307179586e-06], [2.0191351502732795, 2.0191351502732795, 2.0191351502732795, 2.0191351502732795, 2.0191351502732795, 2.0191351502732795, 2.0191351502732795, 2.0191351502732795, 1.0, 1.0, 62.83185307179586, 1.0, 1.0, 62.83185307179586])\n",
      "Fit failed unexpectedly: Singular matrix\n",
      "Time left: 0 h 0 m 24.2 s, [excitation_duration: 8.80e+02], average cycle time: 0.22 s       Fit failed unexpectedly: Singular matrix\n",
      "[ 1.47413841e-01  1.47413841e-01  1.69866909e-01  1.69867360e-01\n",
      " -2.09983681e-01 -2.09983607e-01 -2.26205132e-01 -2.26205389e-01\n",
      "  6.56085647e-05  6.56085647e-05  1.93269234e+01  1.00000000e-07\n",
      "  1.00000000e-07  1.62014316e+01] ([-2.0191351502732795, -2.0191351502732795, -2.0191351502732795, -2.0191351502732795, -2.0191351502732795, -2.0191351502732795, -2.0191351502732795, -2.0191351502732795, 1e-07, 1e-07, 6.283185307179586e-06, 1e-07, 1e-07, 6.283185307179586e-06], [2.0191351502732795, 2.0191351502732795, 2.0191351502732795, 2.0191351502732795, 2.0191351502732795, 2.0191351502732795, 2.0191351502732795, 2.0191351502732795, 1.0, 1.0, 62.83185307179586, 1.0, 1.0, 62.83185307179586])\n",
      "Fit failed unexpectedly: Singular matrix\n",
      "Time left: 0 h 0 m 23.78 s, [excitation_duration: 9.00e+02], average cycle time: 0.22 s       Fit failed unexpectedly: Singular matrix\n",
      "[-1.00000006e+00 -9.99999980e-01  1.50390780e-03  1.50356014e-03\n",
      " -1.50358865e-03 -1.50413727e-03  2.00000016e+00  2.00000016e+00\n",
      "  1.11234491e-07  1.11234491e-07  4.99997685e+00  1.10851952e-07\n",
      "  1.10851952e-07  5.00002312e+00] ([-2.0191351502732795, -2.0191351502732795, -2.0191351502732795, -2.0191351502732795, -2.0191351502732795, -2.0191351502732795, -2.0191351502732795, -2.0191351502732795, 1e-07, 1e-07, 6.283185307179586e-06, 1e-07, 1e-07, 6.283185307179586e-06], [2.0191351502732795, 2.0191351502732795, 2.0191351502732795, 2.0191351502732795, 2.0191351502732795, 2.0191351502732795, 2.0191351502732795, 2.0191351502732795, 1.0, 1.0, 62.83185307179586, 1.0, 1.0, 62.83185307179586])\n",
      "Fit failed unexpectedly: Singular matrix\n",
      "Time left: 0 h 0 m 23.35 s, [excitation_duration: 9.20e+02], average cycle time: 0.22 s       Fit failed unexpectedly: Singular matrix\n",
      "[ 1.08231547e-02  1.08231548e-02 -1.84824437e+00 -1.84799165e+00\n",
      "  2.01913515e+00  2.01913515e+00  1.41848530e-01  1.41895015e-01\n",
      "  6.95454752e-01  6.95454752e-01  4.35087170e+01  1.00000000e+00\n",
      "  1.00000000e+00  4.35451661e+01] ([-2.0191351502732795, -2.0191351502732795, -2.0191351502732795, -2.0191351502732795, -2.0191351502732795, -2.0191351502732795, -2.0191351502732795, -2.0191351502732795, 1e-07, 1e-07, 6.283185307179586e-06, 1e-07, 1e-07, 6.283185307179586e-06], [2.0191351502732795, 2.0191351502732795, 2.0191351502732795, 2.0191351502732795, 2.0191351502732795, 2.0191351502732795, 2.0191351502732795, 2.0191351502732795, 1.0, 1.0, 62.83185307179586, 1.0, 1.0, 62.83185307179586])\n",
      "Fit failed unexpectedly: Singular matrix\n",
      "Time left: 0 h 0 m 23.12 s, [excitation_duration: 9.30e+02], average cycle time: 0.22 s       Fit failed unexpectedly: Singular matrix\n",
      "[-3.75945437e-02 -3.75945437e-02 -1.98387062e+00 -1.98386682e+00\n",
      "  2.01912760e+00  2.01912760e+00  2.73080159e-01  2.69351483e-01\n",
      "  1.00000000e+00  1.00000000e+00  5.39225227e+01  1.00000000e+00\n",
      "  1.00000000e+00  5.38350105e+01] ([-2.0191351502732795, -2.0191351502732795, -2.0191351502732795, -2.0191351502732795, -2.0191351502732795, -2.0191351502732795, -2.0191351502732795, -2.0191351502732795, 1e-07, 1e-07, 6.283185307179586e-06, 1e-07, 1e-07, 6.283185307179586e-06], [2.0191351502732795, 2.0191351502732795, 2.0191351502732795, 2.0191351502732795, 2.0191351502732795, 2.0191351502732795, 2.0191351502732795, 2.0191351502732795, 1.0, 1.0, 62.83185307179586, 1.0, 1.0, 62.83185307179586])\n",
      "Fit failed unexpectedly: Singular matrix\n",
      "Time left: 0 h 0 m 22.9 s, [excitation_duration: 9.40e+02], average cycle time: 0.22 s       Fit failed unexpectedly: Singular matrix\n",
      "[-0.0541042  -0.0541042   2.01912762  2.01912754 -1.97882489 -1.97886614\n",
      "  0.30260104  0.30237664  1.          1.         39.88808816  1.\n",
      "  1.         40.01003172] ([-2.0191351502732795, -2.0191351502732795, -2.0191351502732795, -2.0191351502732795, -2.0191351502732795, -2.0191351502732795, -2.0191351502732795, -2.0191351502732795, 1e-07, 1e-07, 6.283185307179586e-06, 1e-07, 1e-07, 6.283185307179586e-06], [2.0191351502732795, 2.0191351502732795, 2.0191351502732795, 2.0191351502732795, 2.0191351502732795, 2.0191351502732795, 2.0191351502732795, 2.0191351502732795, 1.0, 1.0, 62.83185307179586, 1.0, 1.0, 62.83185307179586])\n",
      "Fit failed unexpectedly: Singular matrix\n",
      "Time left: 0 h 0 m 22.46 s, [excitation_duration: 9.60e+02], average cycle time: 0.22 s       "
     ]
    },
    {
     "name": "stderr",
     "output_type": "stream",
     "text": [
      "C:\\Users\\pogor\\YandexDisk\\Ustinov internship\\Measurement-automation\\lib2\\VNATimeResolvedDispersiveMeasurement1D.py:81: RuntimeWarning: invalid value encountered in sqrt\n",
      "  return result, sqrt(diag(sigma ** 2 * inv(result.jac.T.dot(result.jac))))\n"
     ]
    },
    {
     "name": "stdout",
     "output_type": "stream",
     "text": [
      "Time left: 0 h 0 m 22.23 s, [excitation_duration: 9.70e+02], average cycle time: 0.22 s       Fit failed unexpectedly: Singular matrix\n",
      "[-0.10292136 -0.10292136 -0.35111605 -0.35068272  0.38818663  0.3878914\n",
      "  0.38696925  0.39532228  1.          1.         45.40813002  1.\n",
      "  1.         44.92723444] ([-2.0196930420352066, -2.0196930420352066, -2.0196930420352066, -2.0196930420352066, -2.0196930420352066, -2.0196930420352066, -2.0196930420352066, -2.0196930420352066, 1e-07, 1e-07, 6.283185307179586e-06, 1e-07, 1e-07, 6.283185307179586e-06], [2.0196930420352066, 2.0196930420352066, 2.0196930420352066, 2.0196930420352066, 2.0196930420352066, 2.0196930420352066, 2.0196930420352066, 2.0196930420352066, 1.0, 1.0, 62.83185307179586, 1.0, 1.0, 62.83185307179586])\n",
      "Fit failed unexpectedly: Singular matrix\n",
      "Time left: 0 h 0 m 22.01 s, [excitation_duration: 9.80e+02], average cycle time: 0.22 s       Fit failed unexpectedly: Singular matrix\n",
      "[-0.11331603 -0.11331603  0.21358723  0.21359434 -0.17713868 -0.17713562\n",
      "  0.41451963  0.41449918  1.          1.         44.2795387   1.\n",
      "  1.         45.12785721] ([-2.0196930420352066, -2.0196930420352066, -2.0196930420352066, -2.0196930420352066, -2.0196930420352066, -2.0196930420352066, -2.0196930420352066, -2.0196930420352066, 1e-07, 1e-07, 6.283185307179586e-06, 1e-07, 1e-07, 6.283185307179586e-06], [2.0196930420352066, 2.0196930420352066, 2.0196930420352066, 2.0196930420352066, 2.0196930420352066, 2.0196930420352066, 2.0196930420352066, 2.0196930420352066, 1.0, 1.0, 62.83185307179586, 1.0, 1.0, 62.83185307179586])\n",
      "Fit failed unexpectedly: Singular matrix\n",
      "Time left: 0 h 0 m 21.57 s, [excitation_duration: 1.00e+03], average cycle time: 0.22 s       Fit failed unexpectedly: Singular matrix\n",
      "[-0.13232332 -0.13232332  0.09524394  0.09539408 -0.06451952 -0.06458487\n",
      "  0.45751485  0.45620594  1.          1.         55.70367231  1.\n",
      "  1.         56.93706763] ([-2.0196930420352066, -2.0196930420352066, -2.0196930420352066, -2.0196930420352066, -2.0196930420352066, -2.0196930420352066, -2.0196930420352066, -2.0196930420352066, 1e-07, 1e-07, 6.283185307179586e-06, 1e-07, 1e-07, 6.283185307179586e-06], [2.0196930420352066, 2.0196930420352066, 2.0196930420352066, 2.0196930420352066, 2.0196930420352066, 2.0196930420352066, 2.0196930420352066, 2.0196930420352066, 1.0, 1.0, 62.83185307179586, 1.0, 1.0, 62.83185307179586])\n",
      "Fit failed unexpectedly: Singular matrix\n",
      "Time left: 0 h 0 m 20.69 s, [excitation_duration: 1.04e+03], average cycle time: 0.22 s       Fit failed unexpectedly: Singular matrix\n",
      "[-2.46254331e-02 -2.46254349e-02  7.15215149e-03  7.22587150e-03\n",
      "  9.19567487e-03  7.78617539e-03  1.01320386e+00  1.03088949e+00\n",
      "  1.00000000e-07  1.00000000e-07  3.15382792e+01  1.00000000e-07\n",
      "  1.00000000e-07  4.15604399e+01] ([-2.0196930420352066, -2.0196930420352066, -2.0196930420352066, -2.0196930420352066, -2.0196930420352066, -2.0196930420352066, -2.0196930420352066, -2.0196930420352066, 1e-07, 1e-07, 6.283185307179586e-06, 1e-07, 1e-07, 6.283185307179586e-06], [2.0196930420352066, 2.0196930420352066, 2.0196930420352066, 2.0196930420352066, 2.0196930420352066, 2.0196930420352066, 2.0196930420352066, 2.0196930420352066, 1.0, 1.0, 62.83185307179586, 1.0, 1.0, 62.83185307179586])\n",
      "Fit failed unexpectedly: Singular matrix\n",
      "Time left: 0 h 0 m 18.54 s, [excitation_duration: 1.14e+03], average cycle time: 0.22 s       Fit failed unexpectedly: Singular matrix\n",
      "[-3.87896683e-02 -3.87897099e-02 -3.46439819e-02  4.15528960e-02\n",
      "  1.17037531e-02  9.06653399e-03  1.07461610e+00  9.51665056e-01\n",
      "  1.00000000e-07  1.00000000e-07  5.81047935e+01  1.00000000e-07\n",
      "  1.00000000e-07  4.81373162e+01] ([-2.0196930420352066, -2.0196930420352066, -2.0196930420352066, -2.0196930420352066, -2.0196930420352066, -2.0196930420352066, -2.0196930420352066, -2.0196930420352066, 1e-07, 1e-07, 6.283185307179586e-06, 1e-07, 1e-07, 6.283185307179586e-06], [2.0196930420352066, 2.0196930420352066, 2.0196930420352066, 2.0196930420352066, 2.0196930420352066, 2.0196930420352066, 2.0196930420352066, 2.0196930420352066, 1.0, 1.0, 62.83185307179586, 1.0, 1.0, 62.83185307179586])\n",
      "Fit failed unexpectedly: Singular matrix\n",
      "Time left: 0 h 0 m 17.88 s, [excitation_duration: 1.17e+03], average cycle time: 0.22 s       Fit failed unexpectedly: Singular matrix\n",
      "[-5.08536844e-02 -5.08536688e-02  1.70331000e-02  3.78492329e-02\n",
      " -7.16625978e-03 -8.10992225e-03  1.14792935e+00  9.70789417e-01\n",
      "  1.00000000e-07  1.00000000e-07  2.31666071e+01  1.46694052e-01\n",
      "  1.46694052e-01  3.31063636e+01] ([-2.0196930420352066, -2.0196930420352066, -2.0196930420352066, -2.0196930420352066, -2.0196930420352066, -2.0196930420352066, -2.0196930420352066, -2.0196930420352066, 1e-07, 1e-07, 6.283185307179586e-06, 1e-07, 1e-07, 6.283185307179586e-06], [2.0196930420352066, 2.0196930420352066, 2.0196930420352066, 2.0196930420352066, 2.0196930420352066, 2.0196930420352066, 2.0196930420352066, 2.0196930420352066, 1.0, 1.0, 62.83185307179586, 1.0, 1.0, 62.83185307179586])\n",
      "Fit failed unexpectedly: Singular matrix\n",
      "Time left: 0 h 0 m 17.46 s, [excitation_duration: 1.19e+03], average cycle time: 0.22 s       Fit failed unexpectedly: Singular matrix\n",
      "[-4.90397459e-08 -4.90224456e-08 -1.67638628e-04  1.67684904e-04\n",
      "  1.00000014e+00  1.00000152e+00  6.88588278e-04 -6.89759315e-04\n",
      "  9.99999968e-01  9.99999968e-01  1.69010908e+01  1.45169663e-06\n",
      "  1.45169663e-06  1.00000001e+01] ([-2.0196930420352066, -2.0196930420352066, -2.0196930420352066, -2.0196930420352066, -2.0196930420352066, -2.0196930420352066, -2.0196930420352066, -2.0196930420352066, 1e-07, 1e-07, 6.283185307179586e-06, 1e-07, 1e-07, 6.283185307179586e-06], [2.0196930420352066, 2.0196930420352066, 2.0196930420352066, 2.0196930420352066, 2.0196930420352066, 2.0196930420352066, 2.0196930420352066, 2.0196930420352066, 1.0, 1.0, 62.83185307179586, 1.0, 1.0, 62.83185307179586])\n",
      "Fit failed unexpectedly: Singular matrix\n",
      "Time left: 0 h 0 m 17.02 s, [excitation_duration: 1.21e+03], average cycle time: 0.22 s       Fit failed unexpectedly: Singular matrix\n",
      "[ 1.64960917e+00  1.64961113e+00  2.01969296e+00  2.01969296e+00\n",
      " -1.93299589e+00 -1.93299652e+00 -1.90911009e+00 -1.90912456e+00\n",
      "  1.00000000e-07  1.00000000e-07  3.28845936e+00  1.00000000e-07\n",
      "  1.00000000e-07  1.54941935e+00] ([-2.0196930420352066, -2.0196930420352066, -2.0196930420352066, -2.0196930420352066, -2.0196930420352066, -2.0196930420352066, -2.0196930420352066, -2.0196930420352066, 1e-07, 1e-07, 6.283185307179586e-06, 1e-07, 1e-07, 6.283185307179586e-06], [2.0196930420352066, 2.0196930420352066, 2.0196930420352066, 2.0196930420352066, 2.0196930420352066, 2.0196930420352066, 2.0196930420352066, 2.0196930420352066, 1.0, 1.0, 62.83185307179586, 1.0, 1.0, 62.83185307179586])\n",
      "Fit failed unexpectedly: Singular matrix\n",
      "Time left: 0 h 0 m 16.14 s, [excitation_duration: 1.25e+03], average cycle time: 0.22 s       Fit failed unexpectedly: Singular matrix\n",
      "[-1.93889707e-02 -1.93889704e-02 -7.27468476e-03 -1.35236368e-02\n",
      " -1.76256156e-02  1.21925838e-02  1.80773137e+00  2.50276923e-01\n",
      "  1.00000000e-07  1.00000000e-07  4.95644527e+01  6.81260862e-02\n",
      "  6.81260862e-02  5.96110643e+01] ([-2.0196930420352066, -2.0196930420352066, -2.0196930420352066, -2.0196930420352066, -2.0196930420352066, -2.0196930420352066, -2.0196930420352066, -2.0196930420352066, 1e-07, 1e-07, 6.283185307179586e-06, 1e-07, 1e-07, 6.283185307179586e-06], [2.0196930420352066, 2.0196930420352066, 2.0196930420352066, 2.0196930420352066, 2.0196930420352066, 2.0196930420352066, 2.0196930420352066, 2.0196930420352066, 1.0, 1.0, 62.83185307179586, 1.0, 1.0, 62.83185307179586])\n",
      "Fit failed unexpectedly: Singular matrix\n",
      "Time left: 0 h 0 m 0.0 s, [excitation_duration: 2.00e+03], average cycle time: 0.21 s       \n",
      "Elapsed time: 0 h 0 m 42.98 s\n"
     ]
    }
   ],
   "source": [
    "droj_result = DROJ.launch()"
   ]
  },
  {
   "cell_type": "code",
   "execution_count": 17,
   "metadata": {},
   "outputs": [
    {
     "name": "stdout",
     "output_type": "stream",
     "text": [
      "Measurement was interrupted! \n",
      "\n",
      "Time left: 0 h 5 m 40.08 s, [excitation_duration: 3.20e+02], average cycle time: 2.02 s       "
     ]
    }
   ],
   "source": []
  }
 ],
 "metadata": {
  "kernelspec": {
   "display_name": "Python 3",
   "language": "python",
   "name": "python3"
  },
  "language_info": {
   "codemirror_mode": {
    "name": "ipython",
    "version": 3
   },
   "file_extension": ".py",
   "mimetype": "text/x-python",
   "name": "python",
   "nbconvert_exporter": "python",
   "pygments_lexer": "ipython3",
   "version": "3.7.1"
  }
 },
 "nbformat": 4,
 "nbformat_minor": 2
}
