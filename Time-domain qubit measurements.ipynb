{
 "cells": [
  {
   "cell_type": "code",
   "execution_count": 2,
   "metadata": {
    "collapsed": false
   },
   "outputs": [
    {
     "name": "stdout",
     "output_type": "stream",
     "text": [
      "Populating the interactive namespace from numpy and matplotlib\n"
     ]
    }
   ],
   "source": [
    "%pylab inline"
   ]
  },
  {
   "cell_type": "code",
   "execution_count": 3,
   "metadata": {
    "collapsed": true
   },
   "outputs": [],
   "source": [
    "import drivers\n",
    "from importlib import  reload\n",
    "from lib import data_management as dm"
   ]
  },
  {
   "cell_type": "code",
   "execution_count": 291,
   "metadata": {
    "collapsed": true
   },
   "outputs": [],
   "source": [
    "from scipy.fftpack import fft, fftshift"
   ]
  },
  {
   "cell_type": "code",
   "execution_count": 326,
   "metadata": {
    "collapsed": false
   },
   "outputs": [],
   "source": [
    "# reload(drivers.Agilent_EXA)\n",
    "from drivers.Agilent_EXA import *\n",
    "reload(drivers.KeysightAWG)\n",
    "from drivers.KeysightAWG import *\n",
    "from drivers.E8257D import E8257D"
   ]
  },
  {
   "cell_type": "code",
   "execution_count": 327,
   "metadata": {
    "collapsed": false
   },
   "outputs": [],
   "source": [
    "awg = KeysightAWG(\"AWG2\")"
   ]
  },
  {
   "cell_type": "code",
   "execution_count": 420,
   "metadata": {
    "collapsed": false
   },
   "outputs": [],
   "source": [
    "calibrations=list(dm.load_IQMX_calibration_database(\"TEST\", -20).values())"
   ]
  },
  {
   "cell_type": "code",
   "execution_count": 423,
   "metadata": {
    "collapsed": false
   },
   "outputs": [
    {
     "name": "stdout",
     "output_type": "stream",
     "text": [
      "Calibration data for mixer TEST\n",
      "Mixer parameters: {'iq_attenuation': -20, 'mixer_id': 'TEST'}\n",
      "Radiation parameters: {'lo_power': 10, 'ssb_power': -20, 'lo_frequency': 7000000000.0, 'if_frequency': 100000000.0}\n",
      "Optimization results: {'if': [-19.982526779174805, -72.50257873535156, -97.51728057861328], 'dc': -95.853744506835938}\n",
      "Optimization time: 0 h 0 m 29.18 s\n"
     ]
    }
   ],
   "source": [
    "print(calibrations[0])"
   ]
  },
  {
   "cell_type": "code",
   "execution_count": 424,
   "metadata": {
    "collapsed": false
   },
   "outputs": [
    {
     "data": {
      "text/plain": [
       "{'dc_offsets': array([-0.21647701,  0.06030723]),\n",
       " 'if_amplitudes': array([ 1.0493314 ,  1.06509741]),\n",
       " 'if_offsets': array([-0.20835912,  0.05540727]),\n",
       " 'if_phase': array([ 3.82731852])}"
      ]
     },
     "execution_count": 424,
     "metadata": {},
     "output_type": "execute_result"
    }
   ],
   "source": [
    "calibrations[0].get_optimization_results()[0]"
   ]
  },
  {
   "cell_type": "code",
   "execution_count": 425,
   "metadata": {
    "collapsed": false
   },
   "outputs": [],
   "source": [
    "pb = PulseBuilder(calibrations[0], 0.1)"
   ]
  },
  {
   "cell_type": "code",
   "execution_count": 438,
   "metadata": {
    "collapsed": false
   },
   "outputs": [],
   "source": [
    "pulse = pb.add_sine_pulse(1000, 0).modulate_gauss(0.5,20).add_zero_pulse(100)\\\n",
    "                .add_sine_pulse(50, pi/2).modulate_rectangle(0.3).add_zero_pulse(100).build()\n",
    "# pulse = pb.add_sine_pulse(10,0).build()\n",
    "for i in range(1):\n",
    "    pb = pb.add_sine_pulse(10,0)#.add_zero_pulse(10)\n",
    "pulse = pb.build()"
   ]
  },
  {
   "cell_type": "code",
   "execution_count": 439,
   "metadata": {
    "collapsed": false
   },
   "outputs": [
    {
     "data": {
      "text/plain": [
       "(0, 20)"
      ]
     },
     "execution_count": 439,
     "metadata": {},
     "output_type": "execute_result"
    },
    {
     "data": {
      "image/png": "[encoded data removed]",
      "text/plain": [
       "<matplotlib.figure.Figure at 0xd5757b8>"
      ]
     },
     "metadata": {},
     "output_type": "display_data"
    }
   ],
   "source": [
    "pulse.plot(marker=\"\")\n",
    "plt.legend(framealpha=0.5)\n",
    "plt.grid()\n",
    "plt.xlim(0,20)"
   ]
  },
  {
   "cell_type": "code",
   "execution_count": 440,
   "metadata": {
    "collapsed": false
   },
   "outputs": [],
   "source": [
    "awg.output_pulse_sequence(pulse)"
   ]
  },
  {
   "cell_type": "code",
   "execution_count": null,
   "metadata": {
    "collapsed": true
   },
   "outputs": [],
   "source": [
    "awg._visainstrument.query(\"\")"
   ]
  },
  {
   "cell_type": "code",
   "execution_count": 98,
   "metadata": {
    "collapsed": false
   },
   "outputs": [
    {
     "data": {
      "text/plain": [
       "({'dc_offsets': array([-0.21063726,  0.05947935]),\n",
       "  'if_amplitudes': array([ 1.04905322,  1.06968917]),\n",
       "  'if_offsets': array([-0.19716182,  0.06110995]),\n",
       "  'if_phase': array([ 4.34076806])},\n",
       " {'dc': -93.298728942871094,\n",
       "  'if': [-19.990764617919922, -61.904273986816406, -79.66572570800781]})"
      ]
     },
     "execution_count": 98,
     "metadata": {},
     "output_type": "execute_result"
    }
   ],
   "source": [
    "calibrations[2].get_optimization_results()"
   ]
  },
  {
   "cell_type": "code",
   "execution_count": null,
   "metadata": {
    "collapsed": false,
    "scrolled": true
   },
   "outputs": [],
   "source": [
    "waveform_array = pulse.get_I_waveform()\n",
    "awg._visainstrument.write_binary_values(\":DATA1:DAC VOLATILE,\",np.around(waveform_array*8191).astype(int), datatype=\"h\")\n",
    "waveform_array = pulse.get_Q_waveform()\n",
    "awg._visainstrument.write_binary_values(\":DATA2:DAC VOLATILE,\",np.around(waveform_array*8191).astype(int), datatype=\"h\")"
   ]
  },
  {
   "cell_type": "code",
   "execution_count": null,
   "metadata": {
    "collapsed": true
   },
   "outputs": [],
   "source": [
    "def test_load_wf(wf, channel):\n",
    "    wf = np.around(wf*8191).astype(int)\n",
    "    array_string = \"\".join([str(num)+\", \" for num in wf])[:-2]\n",
    "    awg._visainstrument.write(\":DATA%d:DAC VOLATILE, %s\"%(channel, array_string))\n",
    "    print(\":DATA%d:DAC VOLATILE, %s\"%(channel, array_string))"
   ]
  },
  {
   "cell_type": "code",
   "execution_count": null,
   "metadata": {
    "collapsed": false
   },
   "outputs": [],
   "source": [
    "binary_repr(-10, 4)"
   ]
  },
  {
   "cell_type": "code",
   "execution_count": null,
   "metadata": {
    "collapsed": true
   },
   "outputs": [],
   "source": [
    "def test_load_wf_ascii(wf, channel):\n",
    "    wf = np.around(wf*8191).astype(int)\n",
    "#     array_string = \"\".join([str(num)+\", \" for num in wf])[:-2]\n",
    "    awg._visainstrument.write_ascii_values(\":DATA%d:DAC VOLATILE,\"%(channel), wf, \"d\")\n",
    "#     print(\":DATA%d:DAC VOLATILE, %s\"%(channel, array_string))"
   ]
  },
  {
   "cell_type": "code",
   "execution_count": null,
   "metadata": {
    "collapsed": true
   },
   "outputs": [],
   "source": [
    "def test_load_wf_bin(wf, channel):\n",
    "    wf = np.around(wf*8191/5).astype(int)\n",
    "#     bin_incorrect = util.to_ieee_block(wf, 'h')\n",
    "#     print(bin_incorrect)\n",
    "#     header_start = int(bin_incorrect.find(b\"#\"))\n",
    "#     bin_correct =bin_incorrect[int(bin_incorrect[1:2])+2:]\n",
    "#     print(bin_correct)\n",
    "#     message=(\":DATA%d:DAC VOLATILE, %%%dhb\\n\"%(channel,len(wf))).encode(\"ASCII\")+bin_correct\n",
    "#     awg._visainstrument.write_raw(message)\n",
    "#     awg._visainstrument.write_raw(bin_correct)\n",
    "#     print(message)\n",
    "    awg._visainstrument.write_binary_values(\":DATA%d:DAC VOLATILE,\"%channel, wf, \"h\")"
   ]
  },
  {
   "cell_type": "code",
   "execution_count": null,
   "metadata": {
    "collapsed": false
   },
   "outputs": [],
   "source": [
    "test_load_wf_bin(pulse.get_I_waveform()*0.0005, 1)\n",
    "test_load_wf_bin(pulse.get_Q_waveform()*0.0005, 2)"
   ]
  },
  {
   "cell_type": "code",
   "execution_count": null,
   "metadata": {
    "collapsed": false
   },
   "outputs": [],
   "source": [
    "test_load_wf_ascii(pulse.get_I_waveform()*0.1, 1)\n",
    "test_load_wf_ascii(pulse.get_Q_waveform()*1, 2)"
   ]
  },
  {
   "cell_type": "code",
   "execution_count": null,
   "metadata": {
    "collapsed": false
   },
   "outputs": [],
   "source": [
    "from pyvisa import util"
   ]
  },
  {
   "cell_type": "code",
   "execution_count": null,
   "metadata": {
    "collapsed": false
   },
   "outputs": [],
   "source": [
    "\":DATA%d:DAC VOLATILE, %s\".encode()"
   ]
  },
  {
   "cell_type": "code",
   "execution_count": null,
   "metadata": {
    "collapsed": false
   },
   "outputs": [],
   "source": [
    "util.to_ieee_block(around(pulse.get_I_waveform()*8191).astype(int), \"h\")"
   ]
  },
  {
   "cell_type": "code",
   "execution_count": null,
   "metadata": {
    "collapsed": true
   },
   "outputs": [],
   "source": []
  },
  {
   "cell_type": "code",
   "execution_count": null,
   "metadata": {
    "collapsed": false
   },
   "outputs": [],
   "source": [
    "plt.plot(util.from_ieee_block(_, \"h\"))"
   ]
  },
  {
   "cell_type": "code",
   "execution_count": null,
   "metadata": {
    "collapsed": false
   },
   "outputs": [],
   "source": [
    "util.to_ascii_block(pulse.get_I_waveform()*8191, \"d\",\",\").encode(\"ASCII\")+b\"lol\""
   ]
  },
  {
   "cell_type": "code",
   "execution_count": null,
   "metadata": {
    "collapsed": false
   },
   "outputs": [],
   "source": [
    "awg._visainstrument.write(\":DATA:DAC VOLATILE, #1899999999\")"
   ]
  },
  {
   "cell_type": "code",
   "execution_count": null,
   "metadata": {
    "collapsed": false
   },
   "outputs": [],
   "source": [
    "awg.set_outp2(1)"
   ]
  },
  {
   "cell_type": "code",
   "execution_count": null,
   "metadata": {
    "collapsed": true
   },
   "outputs": [],
   "source": []
  }
 ],
 "metadata": {
  "kernelspec": {
   "display_name": "Python 3",
   "language": "python",
   "name": "python3"
  },
  "language_info": {
   "codemirror_mode": {
    "name": "ipython",
    "version": 3
   },
   "file_extension": ".py",
   "mimetype": "text/x-python",
   "name": "python",
   "nbconvert_exporter": "python",
   "pygments_lexer": "ipython3",
   "version": "3.5.2"
  }
 },
 "nbformat": 4,
 "nbformat_minor": 0
}
