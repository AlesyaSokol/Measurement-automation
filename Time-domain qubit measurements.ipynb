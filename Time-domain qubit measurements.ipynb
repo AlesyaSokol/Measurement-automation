{
 "cells": [
  {
   "cell_type": "code",
   "execution_count": 1,
   "metadata": {
    "collapsed": false
   },
   "outputs": [
    {
     "name": "stdout",
     "output_type": "stream",
     "text": [
      "Populating the interactive namespace from numpy and matplotlib\n"
     ]
    }
   ],
   "source": [
    "%pylab inline"
   ]
  },
  {
   "cell_type": "code",
   "execution_count": 2,
   "metadata": {
    "collapsed": true
   },
   "outputs": [],
   "source": [
    "import drivers\n",
    "from importlib import  reload\n",
    "from lib import data_management as dm"
   ]
  },
  {
   "cell_type": "code",
   "execution_count": 3,
   "metadata": {
    "collapsed": false
   },
   "outputs": [],
   "source": [
    "# reload(drivers.Agilent_EXA)\n",
    "from drivers.Agilent_EXA import *\n",
    "# reload(drivers.KeysightAWG)\n",
    "from drivers.KeysightAWG import *\n",
    "from drivers.E8257D import E8257D\n",
    "from scipy.fftpack import fft, fftshift"
   ]
  },
  {
   "cell_type": "code",
   "execution_count": 4,
   "metadata": {
    "collapsed": false
   },
   "outputs": [],
   "source": [
    "awg = KeysightAWG(\"AWG2\")"
   ]
  },
  {
   "cell_type": "code",
   "execution_count": 33,
   "metadata": {
    "collapsed": false
   },
   "outputs": [
    {
     "name": "stdout",
     "output_type": "stream",
     "text": [
      "Calibration data for mixer TEST\n",
      "Mixer parameters: {'mixer_id': 'TEST', 'iq_attenuation': -20}\n",
      "Radiation parameters: {'waveform_resolution': 0.1, 'if_frequency': 10000000.0, 'lo_frequency': 7000000000.0, 'lo_power': 10, 'ssb_power': -20}\n",
      "Optimization results: {'dc': -85.744186401367188, 'if': [-19.944990158081055, -83.9659423828125, -104.69873809814453]}\n",
      "Optimization parameters {'if_phase': array([ 1.58753583]), 'dc_offsets': array([-0.2171467 ,  0.03779126]), 'if_amplitudes': array([ 1.08774103,  1.10904942]), 'if_offsets': array([-0.21710412,  0.04083596])}\n",
      "Optimization time: 0 h 0 m 42.73 s\n",
      "Finished at: 2016-12-27 19:30:16.686737\n"
     ]
    }
   ],
   "source": [
    "calibrations=(dm.load_IQMX_calibration_database(\"TEST\", -20))\n",
    "cal = calibrations.get(frozenset(dict(lo_power=10, ssb_power=-20, lo_frequency=7e9, \n",
    "                                      if_frequency=10e6, waveform_resolution=0.1).items()))\n",
    "print(cal)"
   ]
  },
  {
   "cell_type": "code",
   "execution_count": 34,
   "metadata": {
    "collapsed": false
   },
   "outputs": [],
   "source": [
    "pb = PulseBuilder(cal)"
   ]
  },
  {
   "cell_type": "code",
   "execution_count": 37,
   "metadata": {
    "collapsed": false
   },
   "outputs": [],
   "source": [
    "pulse = pb.add_sine_pulse(1000, 0).modulate_gauss(0.5,20).add_zero_pulse(100)\\\n",
    "                .add_sine_pulse(50, pi/2).modulate_rectangle(0.3).add_zero_pulse(100).build()\n",
    "for i in range(1):\n",
    "#     pb = pb.add_sine_pulse(1000,0).add_zero_pulse(1000)\n",
    "#     pb = pb.add_sine_pulse(1000,0).modulate_hamming().add_zero_pulse(1000)\n",
    "#     pb = pb.add_sine_pulse(1000,0).modulate_gauss(1, 250).add_zero_pulse(1000)\n",
    "#      pb = pb.add_sine_pulse(1000,0).modulate_chebwin(100).add_zero_pulse(1000)\n",
    "      pb = pb.add_sine_pulse(100,0)\n",
    "\n",
    "pulse = pb.build()"
   ]
  },
  {
   "cell_type": "code",
   "execution_count": 38,
   "metadata": {
    "collapsed": false
   },
   "outputs": [
    {
     "data": {
      "image/png": "[encoded data removed]",
      "text/plain": [
       "<matplotlib.figure.Figure at 0x91a5be0>"
      ]
     },
     "metadata": {},
     "output_type": "display_data"
    }
   ],
   "source": [
    "pulse.plot(marker=\".\")\n",
    "plt.legend(framealpha=0.5)\n",
    "plt.grid()\n",
    "plt.gcf().set_size_inches(16,3)\n",
    "# plt.xlim(0,10)"
   ]
  },
  {
   "cell_type": "code",
   "execution_count": 39,
   "metadata": {
    "collapsed": false
   },
   "outputs": [
    {
     "data": {
      "image/png": "[encoded data removed]",
      "text/plain": [
       "<matplotlib.figure.Figure at 0x93dcfd0>"
      ]
     },
     "metadata": {},
     "output_type": "display_data"
    }
   ],
   "source": [
    "N = len(pulse.get_I_waveform())*10\n",
    "plot(fftshift(fftfreq(N, 0.1e-9)), abs(fftshift(fft(pulse.get_I_waveform(), n=N))), marker=\".\")\n",
    "# plt.xlim(0e6,200e6)\n",
    "plt.yscale(\"log\")\n",
    "plt.ylim(1e-2, 5e2)\n",
    "plt.gcf().set_size_inches(16,3)\n",
    "plt.grid()"
   ]
  },
  {
   "cell_type": "code",
   "execution_count": 40,
   "metadata": {
    "collapsed": false
   },
   "outputs": [],
   "source": [
    "awg.output_pulse_sequence(pulse)"
   ]
  },
  {
   "cell_type": "code",
   "execution_count": null,
   "metadata": {
    "collapsed": true
   },
   "outputs": [],
   "source": [
    "awg.load_arbitrary_waveform_to_volatile_memory(pulse.get_I_waveform()[:])"
   ]
  },
  {
   "cell_type": "code",
   "execution_count": null,
   "metadata": {
    "collapsed": false
   },
   "outputs": [],
   "source": [
    "awg.set_outp1(1)"
   ]
  },
  {
   "cell_type": "code",
   "execution_count": 19,
   "metadata": {
    "collapsed": false
   },
   "outputs": [],
   "source": [
    "ifo1, ifo2 = cal.get_optimization_results()[0][\"if_offsets\"]\n",
    "am1, am2 = cal.get_optimization_results()[0][\"if_amplitudes\"]\n",
    "phase = cal.get_optimization_results()[0][\"if_phase\"]\n",
    "\n",
    "awg.output_continuous_wave(frequency=100e6, amplitude=am1, phase=phase, offset=ifo1, waveform_resolution=0.5, channel=1)\n",
    "awg.output_continuous_wave(frequency=100e6, amplitude=am2, phase=0, offset=ifo2,  waveform_resolution=0.5, channel=2)"
   ]
  },
  {
   "cell_type": "code",
   "execution_count": null,
   "metadata": {
    "collapsed": true
   },
   "outputs": [],
   "source": [
    "awg.output_continuous_wave(frequency=100e6, amplitude=1, phase=0, offset=0, channel=1)\n",
    "awg.output_continuous_wave(frequency=100e6, amplitude=1, phase=0, offset=0, channel=2)"
   ]
  },
  {
   "cell_type": "code",
   "execution_count": 12,
   "metadata": {
    "collapsed": true
   },
   "outputs": [],
   "source": [
    "exa = Agilent_EXA_N9010A(\"EXA\", \"EXA\")"
   ]
  },
  {
   "cell_type": "code",
   "execution_count": 14,
   "metadata": {
    "collapsed": false
   },
   "outputs": [],
   "source": [
    "exa.setup_swept_sa(7e9, 500e6, 1001, 1e4)"
   ]
  },
  {
   "cell_type": "code",
   "execution_count": null,
   "metadata": {
    "collapsed": false
   },
   "outputs": [],
   "source": [
    "exa.set_continuous(True)"
   ]
  },
  {
   "cell_type": "code",
   "execution_count": null,
   "metadata": {
    "collapsed": true
   },
   "outputs": [],
   "source": [
    "exa.sweep_single()"
   ]
  },
  {
   "cell_type": "code",
   "execution_count": null,
   "metadata": {
    "collapsed": false
   },
   "outputs": [],
   "source": [
    "result_no_cal = exa.get_tracedata()"
   ]
  },
  {
   "cell_type": "code",
   "execution_count": null,
   "metadata": {
    "collapsed": false
   },
   "outputs": [],
   "source": [
    "rect=exa.get_tracedata()"
   ]
  },
  {
   "cell_type": "code",
   "execution_count": null,
   "metadata": {
    "collapsed": true
   },
   "outputs": [],
   "source": [
    "hamming = exa.get_tracedata()"
   ]
  },
  {
   "cell_type": "code",
   "execution_count": null,
   "metadata": {
    "collapsed": true
   },
   "outputs": [],
   "source": [
    "gauss = exa.get_tracedata()"
   ]
  },
  {
   "cell_type": "code",
   "execution_count": null,
   "metadata": {
    "collapsed": true
   },
   "outputs": [],
   "source": [
    "chebwin = exa.get_tracedata()"
   ]
  },
  {
   "cell_type": "code",
   "execution_count": null,
   "metadata": {
    "collapsed": true
   },
   "outputs": [],
   "source": [
    "wins = [rect, hamming, gauss, chebwin]\n",
    "labels = [\"Rectangular\", \"Hamming\", \"Gauss\", \"Chebwin\"]"
   ]
  },
  {
   "cell_type": "code",
   "execution_count": null,
   "metadata": {
    "collapsed": false
   },
   "outputs": [],
   "source": [
    "fig, axes = plt.subplots(2,2, figsize=(10,5))\n",
    "for win, ax, label in zip(wins,axes.ravel(), labels):\n",
    "    ax.plot(win, label=label)\n",
    "    ax.legend()\n",
    "    ax.set_ylim(-90, -10)"
   ]
  },
  {
   "cell_type": "code",
   "execution_count": null,
   "metadata": {
    "collapsed": true
   },
   "outputs": [],
   "source": [
    "plots = [result, result20, result_no_cal]\n",
    "labels = ['-40 dBm ssb', '-20 dBm ssb', 'no cal']"
   ]
  },
  {
   "cell_type": "code",
   "execution_count": null,
   "metadata": {
    "collapsed": false
   },
   "outputs": [],
   "source": [
    "fig, axes = plt.subplots(2,2, figsize=(10,5))\n",
    "for win, ax, label in zip(plots,axes.ravel(), labels):\n",
    "    ax.plot(win, label=label)\n",
    "    ax.legend()\n",
    "    ax.set_ylim(-90, -10)"
   ]
  },
  {
   "cell_type": "code",
   "execution_count": null,
   "metadata": {
    "collapsed": true
   },
   "outputs": [],
   "source": [
    "awg."
   ]
  }
 ],
 "metadata": {
  "kernelspec": {
   "display_name": "Python 3",
   "language": "python",
   "name": "python3"
  },
  "language_info": {
   "codemirror_mode": {
    "name": "ipython",
    "version": 3
   },
   "file_extension": ".py",
   "mimetype": "text/x-python",
   "name": "python",
   "nbconvert_exporter": "python",
   "pygments_lexer": "ipython3",
   "version": "3.5.2"
  }
 },
 "nbformat": 4,
 "nbformat_minor": 0
}
