{
 "cells": [
  {
   "cell_type": "code",
   "execution_count": 1,
   "metadata": {
    "collapsed": false
   },
   "outputs": [
    {
     "name": "stdout",
     "output_type": "stream",
     "text": [
      "Populating the interactive namespace from numpy and matplotlib\n"
     ]
    }
   ],
   "source": [
    "%pylab qt5"
   ]
  },
  {
   "cell_type": "code",
   "execution_count": 2,
   "metadata": {
    "collapsed": true
   },
   "outputs": [],
   "source": [
    "mpl.rcParams['grid.color'] = 'k'\n",
    "mpl.rcParams['grid.linestyle'] = ':'\n",
    "mpl.rcParams['grid.linewidth'] = 0.5"
   ]
  },
  {
   "cell_type": "code",
   "execution_count": 3,
   "metadata": {
    "collapsed": true
   },
   "outputs": [],
   "source": [
    "from importlib import reload\n",
    "import lib2"
   ]
  },
  {
   "cell_type": "code",
   "execution_count": 4,
   "metadata": {
    "collapsed": true
   },
   "outputs": [],
   "source": [
    "from lib import data_management as dm"
   ]
  },
  {
   "cell_type": "code",
   "execution_count": 5,
   "metadata": {
    "collapsed": false
   },
   "outputs": [],
   "source": [
    "if_freq = 50e6\n",
    "\n",
    "calibrations = (dm.load_IQMX_calibration_database(\"TEST\", -20))\n",
    "ro_cal = calibrations.get(frozenset(dict(lo_power=0, ssb_power=-30, lo_frequency=7.047e9, \n",
    "                                      if_frequency=0, waveform_resolution=1).items()))\n",
    "# ro_pb = PulseBuilder(ro_cal)\n",
    "\n",
    "calibrations = (dm.load_IQMX_calibration_database(\"TESTQ\", -6))\n",
    "q_cal = calibrations.get(frozenset(dict(lo_power=15, ssb_power=-10, lo_frequency=7.9e9+if_freq, \n",
    "                                      if_frequency=if_freq, waveform_resolution=0.1).items()))\n",
    "# q_pb = PulseBuilder(q_cal)"
   ]
  },
  {
   "cell_type": "markdown",
   "metadata": {},
   "source": [
    "# Spectroscopy"
   ]
  },
  {
   "cell_type": "markdown",
   "metadata": {},
   "source": [
    "## Single-tone spectroscopy"
   ]
  },
  {
   "cell_type": "code",
   "execution_count": 38,
   "metadata": {
    "collapsed": false
   },
   "outputs": [
    {
     "data": {
      "text/plain": [
       "<module 'lib2.Measurement' from 'C:\\\\Users\\\\PAINMASTER\\\\Measurement\\\\lib2\\\\Measurement.py'>"
      ]
     },
     "execution_count": 38,
     "metadata": {},
     "output_type": "execute_result"
    }
   ],
   "source": [
    "reload(lib2.Measurement)"
   ]
  },
  {
   "cell_type": "code",
   "execution_count": 10,
   "metadata": {
    "collapsed": false
   },
   "outputs": [],
   "source": [
    "# reload(lib2.SingleToneSpectroscopy)\n",
    "from lib2.SingleToneSpectroscopy import *"
   ]
  },
  {
   "cell_type": "markdown",
   "metadata": {},
   "source": [
    "#### No mixer "
   ]
  },
  {
   "cell_type": "code",
   "execution_count": null,
   "metadata": {
    "collapsed": false
   },
   "outputs": [],
   "source": [
    "STS = SingleToneSpectroscopy(\"IV-anticrossing\", \"Xmon Al BMSTU S444 2\", vna, \"current\", current_src.set_current, 0)\n",
    "vna_parameters = {\"bandwidth\":250, \"freq_limits\":(7030e6, 7070e6), \"nop\":101, \"power\":-40, \"averages\":1}\n",
    "STS.setup_control_parameters(vna_parameters, linspace(-1e-3, 1e-3, 100))\n",
    "result = STS.launch()\n",
    "result.visualize()"
   ]
  },
  {
   "cell_type": "code",
   "execution_count": null,
   "metadata": {
    "collapsed": true
   },
   "outputs": [],
   "source": [
    "result.visualize()"
   ]
  },
  {
   "cell_type": "code",
   "execution_count": null,
   "metadata": {
    "collapsed": false
   },
   "outputs": [],
   "source": [
    "result.save()"
   ]
  },
  {
   "cell_type": "markdown",
   "metadata": {},
   "source": [
    "#### Through mixer"
   ]
  },
  {
   "cell_type": "code",
   "execution_count": 30,
   "metadata": {
    "collapsed": false
   },
   "outputs": [],
   "source": [
    "ro_awg.output_pulse_sequence(ro_pb.add_dc_pulse(100).build())"
   ]
  },
  {
   "cell_type": "code",
   "execution_count": 31,
   "metadata": {
    "collapsed": false
   },
   "outputs": [
    {
     "name": "stdout",
     "output_type": "stream",
     "text": [
      "The device vna2 is detected as PNA-L2\n",
      "Started at:  2017-04-25 21:05:38.633681\n",
      "Time left: 0 h 0 m 40.99 s, current: 1.000e-04, average cycle time: 0.41 s          "
     ]
    },
    {
     "name": "stderr",
     "output_type": "stream",
     "text": [
      "C:\\ProgramData\\Anaconda3\\lib\\site-packages\\matplotlib\\backend_bases.py:2445: MatplotlibDeprecationWarning: Using default event loop until function specific to this GUI is implemented\n",
      "  warnings.warn(str, mplDeprecation)\n"
     ]
    },
    {
     "name": "stdout",
     "output_type": "stream",
     "text": [
      "Time left: 0 h 0 m 0.0 s, current: 2.000e-03, average cycle time: 0.29 s            "
     ]
    }
   ],
   "source": [
    "STS = SingleToneSpectroscopy(\"IV-anticrossing-through-mixer\", \"Xmon Al BMSTU S444 2\", \"current\", current_src.set_current)\n",
    "vna_parameters = {\"bandwidth\":500, \"freq_limits\":(7030e6, 7070e6), \"nop\":101, \"power\":-10, \"averages\":1}\n",
    "currents = linspace(0.1e-3, 2e-3, 100)\n",
    "STS.setup_control_parameters(vna_parameters, currents)\n",
    "result = STS.launch()\n",
    "current_src.set_current(0)\n",
    "result.visualize()"
   ]
  },
  {
   "cell_type": "code",
   "execution_count": 31,
   "metadata": {
    "collapsed": true
   },
   "outputs": [],
   "source": [
    "result.visualize()"
   ]
  },
  {
   "cell_type": "code",
   "execution_count": 33,
   "metadata": {
    "collapsed": true
   },
   "outputs": [],
   "source": [
    "result.save()"
   ]
  },
  {
   "cell_type": "markdown",
   "metadata": {},
   "source": [
    "## Two-tone spectroscopy"
   ]
  },
  {
   "cell_type": "code",
   "execution_count": 10,
   "metadata": {
    "collapsed": false
   },
   "outputs": [],
   "source": [
    "# reload(lib2.Measurement)\n",
    "# reload(lib2.TwoToneSpectroscopyBase)\n",
    "# reload(lib2.TwoToneSpectroscopy)\n",
    "from lib2.TwoToneSpectroscopy import *"
   ]
  },
  {
   "cell_type": "code",
   "execution_count": 16,
   "metadata": {
    "collapsed": false
   },
   "outputs": [],
   "source": [
    "q_awg.output_pulse_sequence(q_pb.add_dc_pulse(100,5).build())"
   ]
  },
  {
   "cell_type": "markdown",
   "metadata": {},
   "source": [
    "#### Qubit spectrum"
   ]
  },
  {
   "cell_type": "code",
   "execution_count": 13,
   "metadata": {
    "collapsed": false
   },
   "outputs": [
    {
     "name": "stdout",
     "output_type": "stream",
     "text": [
      "Detecting a resonator within provided frequency range of the VNA (7040000000.0, 7052500000.0)                    at qubit's sweet spot (1.04 mA)\n",
      "Detected frequency is 7.04713 GHz, at 0.23 mU and 42.82 degrees\n"
     ]
    }
   ],
   "source": [
    "TTS = FluxTwoToneSpectroscopy(\"VI-2tone\", \"Xmon Al BMSTU S444 2\")\n",
    "vna_parameters = {\"bandwidth\":10, \"freq_limits\":(7040e6, 7052.5e6), \"nop\":1, \"power\":-10, \"averages\":1}\n",
    "mw_src_parameters = {\"power\":-5, \"frequency\":1j}\n",
    "mw_src_frequencies = linspace(7e9, 8.5e9, 100)\n",
    "currents = linspace(0.507e-3, 1.57e-3, 100)\n",
    "TTS.setup_control_parameters(vna_parameters, mw_src_parameters, mw_src_frequencies, currents)"
   ]
  },
  {
   "cell_type": "code",
   "execution_count": 14,
   "metadata": {
    "collapsed": false,
    "scrolled": true
   },
   "outputs": [
    {
     "name": "stdout",
     "output_type": "stream",
     "text": [
      "Started at:  2017-04-25 22:07:43.336722\n",
      "Time left: 0 h 27 m 16.94 s, parameter value: 5.070e-04, average cycle time: 0.16 s          "
     ]
    },
    {
     "name": "stderr",
     "output_type": "stream",
     "text": [
      "C:\\ProgramData\\Anaconda3\\lib\\site-packages\\matplotlib\\backend_bases.py:2445: MatplotlibDeprecationWarning: Using default event loop until function specific to this GUI is implemented\n",
      "  warnings.warn(str, mplDeprecation)\n"
     ]
    },
    {
     "name": "stdout",
     "output_type": "stream",
     "text": [
      "Time left: 0 h 20 m 1.3 s, parameter value: 6.895e-04, average cycle time: 0.15 s            "
     ]
    }
   ],
   "source": [
    "result = TTS.launch()"
   ]
  },
  {
   "cell_type": "code",
   "execution_count": 15,
   "metadata": {
    "collapsed": false
   },
   "outputs": [],
   "source": [
    "result.visualize()"
   ]
  },
  {
   "cell_type": "code",
   "execution_count": 91,
   "metadata": {
    "collapsed": false
   },
   "outputs": [],
   "source": [
    "result.save()"
   ]
  },
  {
   "cell_type": "markdown",
   "metadata": {},
   "source": [
    "#### Linewidth from excitation power"
   ]
  },
  {
   "cell_type": "code",
   "execution_count": 16,
   "metadata": {
    "collapsed": false
   },
   "outputs": [
    {
     "name": "stdout",
     "output_type": "stream",
     "text": [
      "Detecting a resonator within provided frequency range of the VNA (7040000000.0, 7052500000.0)                    at current of 1.04 mA\n",
      "Detected frequency is 7.04700 GHz, at 0.20 mU and 44.41 degrees\n"
     ]
    }
   ],
   "source": [
    "PTS = PowerTwoToneSpectroscopy(\"VI-powerscan\", \"Xmon Al BMSTU S444 2\")\n",
    "vna_parameters = {\"bandwidth\":10, \"freq_limits\":(7040e6, 7052.5e6), \"nop\":1, \"power\":-20, \"averages\":1}\n",
    "mw_src_parameters = {\"power\":-1, \"frequency\":-1}\n",
    "mw_src_frequencies = linspace(7.88e9, 7.92e9,200)\n",
    "mw_src_powers = linspace(-20, 15, 41)\n",
    "current = 1.04e-3\n",
    "PTS.setup_control_parameters(vna_parameters, mw_src_parameters, mw_src_frequencies, mw_src_powers, current)\n",
    "PTS._measurement_result.set_phase_units(\"deg\")"
   ]
  },
  {
   "cell_type": "code",
   "execution_count": 17,
   "metadata": {
    "collapsed": false
   },
   "outputs": [
    {
     "name": "stdout",
     "output_type": "stream",
     "text": [
      "Started at:  2017-04-25 22:12:39.898684\n",
      "Time left: 0 h 23 m 17.5 s, parameter value: -2.000e+01, average cycle time: 0.17 s           "
     ]
    },
    {
     "name": "stderr",
     "output_type": "stream",
     "text": [
      "C:\\ProgramData\\Anaconda3\\lib\\site-packages\\matplotlib\\backend_bases.py:2445: MatplotlibDeprecationWarning: Using default event loop until function specific to this GUI is implemented\n",
      "  warnings.warn(str, mplDeprecation)\n"
     ]
    },
    {
     "name": "stdout",
     "output_type": "stream",
     "text": [
      "Time left: 0 h 18 m 41.69 s, parameter value: -1.825e+01, average cycle time: 0.15 s          "
     ]
    }
   ],
   "source": [
    "result = PTS.launch()"
   ]
  },
  {
   "cell_type": "code",
   "execution_count": null,
   "metadata": {
    "collapsed": true
   },
   "outputs": [],
   "source": [
    "vna.set_parameters(PTS._pre_measurement_vna_parameters)"
   ]
  },
  {
   "cell_type": "code",
   "execution_count": 106,
   "metadata": {
    "collapsed": true
   },
   "outputs": [],
   "source": [
    "result.visualize()"
   ]
  },
  {
   "cell_type": "code",
   "execution_count": 103,
   "metadata": {
    "collapsed": true
   },
   "outputs": [],
   "source": [
    "result.save()"
   ]
  },
  {
   "cell_type": "code",
   "execution_count": null,
   "metadata": {
    "collapsed": true
   },
   "outputs": [],
   "source": [
    "mxg.set_frequency(7.898e9)\n",
    "mxg.set_power(-30)\n",
    "mxg.set_output_state(\"OFF\")\n",
    "vna.prepare_for_stb(); vna.sweep_single(); vna.wait_for_stb()\n",
    "ground_state_sdata = vna.get_sdata()\n",
    "\n",
    "mxg.set_output_state(\"ON\")\n",
    "vna.prepare_for_stb(); vna.sweep_single(); vna.wait_for_stb()\n",
    "mixed_state_sdata = vna.get_sdata()"
   ]
  },
  {
   "cell_type": "code",
   "execution_count": null,
   "metadata": {
    "collapsed": false
   },
   "outputs": [],
   "source": [
    "plot(abs(ground_state_sdata))\n",
    "plot(abs(mixed_state_sdata))\n",
    "plot((abs(ground_state_sdata)[10:]+abs(ground_state_sdata)[:-10])/2)"
   ]
  },
  {
   "cell_type": "markdown",
   "metadata": {},
   "source": [
    "#### AC Stark"
   ]
  },
  {
   "cell_type": "code",
   "execution_count": 20,
   "metadata": {
    "collapsed": false
   },
   "outputs": [
    {
     "name": "stdout",
     "output_type": "stream",
     "text": [
      "Detecting a resonator within provided frequency range of the VNA (7040000000.0, 7052500000.0)                    at current of 1.04 mA\n",
      "Detected frequency is 7.04713 GHz, at 0.23 mU and 45.58 degrees\n"
     ]
    }
   ],
   "source": [
    "ASTS = AcStarkTwoToneSpectroscopy(\"VI-ac-stark\", \"Xmon Al BMSTU S444 2\")\n",
    "vna_parameters = {\"bandwidth\":1000, \"freq_limits\":(7040e6, 7052.5e6), \"nop\":1, \"power\":-10, \"averages\":100}\n",
    "mw_src_parameters = {\"power\":-15, \"frequency\":-1}\n",
    "mw_src_frequencies = linspace(7.85e9, 7.9e9, 100)\n",
    "vna_powers = linspace(-30, 0, 31)\n",
    "current = 1.04e-3\n",
    "ASTS.setup_control_parameters(vna_parameters, mw_src_parameters, mw_src_frequencies, vna_powers, current)"
   ]
  },
  {
   "cell_type": "code",
   "execution_count": 21,
   "metadata": {
    "collapsed": false
   },
   "outputs": [
    {
     "name": "stdout",
     "output_type": "stream",
     "text": [
      "Started at:  2017-04-25 22:15:13.034443\n",
      "Time left: 0 h 27 m 19.46 s, parameter value: -3.000e+01, average cycle time: 0.53 s          "
     ]
    },
    {
     "name": "stderr",
     "output_type": "stream",
     "text": [
      "C:\\ProgramData\\Anaconda3\\lib\\site-packages\\matplotlib\\backend_bases.py:2445: MatplotlibDeprecationWarning: Using default event loop until function specific to this GUI is implemented\n",
      "  warnings.warn(str, mplDeprecation)\n"
     ]
    },
    {
     "name": "stdout",
     "output_type": "stream",
     "text": [
      "Time left: 0 h 0 m 0.0 s, parameter value: 0.000e+00, average cycle time: 0.16 s              "
     ]
    }
   ],
   "source": [
    "result = ASTS.launch()"
   ]
  },
  {
   "cell_type": "code",
   "execution_count": 22,
   "metadata": {
    "collapsed": false
   },
   "outputs": [],
   "source": [
    "result.visualize()"
   ]
  },
  {
   "cell_type": "code",
   "execution_count": 23,
   "metadata": {
    "collapsed": true
   },
   "outputs": [],
   "source": [
    "result.save()"
   ]
  },
  {
   "cell_type": "markdown",
   "metadata": {},
   "source": [
    "__________________________"
   ]
  },
  {
   "cell_type": "markdown",
   "metadata": {},
   "source": [
    "# Time-domain measurements"
   ]
  },
  {
   "cell_type": "markdown",
   "metadata": {},
   "source": [
    "#### Check mixers:"
   ]
  },
  {
   "cell_type": "code",
   "execution_count": 175,
   "metadata": {
    "collapsed": false
   },
   "outputs": [],
   "source": [
    "q_lo = mxg\n",
    "q_lo.set_output_state(\"ON\")\n",
    "q_lo.set_power(15)"
   ]
  },
  {
   "cell_type": "code",
   "execution_count": 176,
   "metadata": {
    "collapsed": true
   },
   "outputs": [],
   "source": [
    "vna.set_nop(1)\n",
    "vna.set_center(7.04720e9)\n",
    "vna.sweep_continuous()"
   ]
  },
  {
   "cell_type": "code",
   "execution_count": 178,
   "metadata": {
    "collapsed": true
   },
   "outputs": [],
   "source": [
    "q_awg.output_pulse_sequence(q_pb.add_zero_pulse(20).build())\n",
    "ro_awg.output_pulse_sequence(ro_pb.add_zero_pulse(20).build())"
   ]
  },
  {
   "cell_type": "code",
   "execution_count": 182,
   "metadata": {
    "collapsed": true
   },
   "outputs": [],
   "source": [
    "q_awg.output_pulse_sequence(q_pb.add_sine_pulse(20,0).build())\n",
    "ro_awg.output_pulse_sequence(ro_pb.add_dc_pulse(20,5).build())"
   ]
  },
  {
   "cell_type": "markdown",
   "metadata": {},
   "source": [
    "### Rabi "
   ]
  },
  {
   "cell_type": "code",
   "execution_count": 10,
   "metadata": {
    "collapsed": false
   },
   "outputs": [],
   "source": [
    "# reload(lib2.Measurement)\n",
    "reload(lib2.TimeResolvedMeasurement)\n",
    "from lib2.TimeResolvedMeasurement import DispersiveRabiOscillations"
   ]
  },
  {
   "cell_type": "code",
   "execution_count": 8,
   "metadata": {
    "collapsed": false
   },
   "outputs": [],
   "source": [
    "# Measurement._actual_devices.keys()"
   ]
  },
  {
   "cell_type": "code",
   "execution_count": 11,
   "metadata": {
    "collapsed": false,
    "scrolled": true
   },
   "outputs": [
    {
     "name": "stdout",
     "output_type": "stream",
     "text": [
      "Detecting a resonator within provided frequency range of the VNA (7040000000.0, 7052500000.0)                    at current of 1.04 mA\n",
      "Detected frequency is 7.04704 GHz, at 0.04 mU and 24.85 degrees\n"
     ]
    }
   ],
   "source": [
    "DRO = DispersiveRabiOscillations(\"VI-ac-stark\", \"Xmon Al BMSTU S444 2\",\n",
    "            vna_name=\"vna2\", ro_awg_name=\"awg3\", q_awg_name=\"awg2\", q_lo_name='mxg', current_src_name='yok3')\n",
    "vna_parameters = {\"bandwidth\":1, \"freq_limits\":(7040e6, 7052.5e6), \"nop\":1, \"averages\":1}\n",
    "q_lo_parameters = {}\n",
    "current = 1.04e-3\n",
    "q_frequency = 7.9e9\n",
    "excitation_durations = linspace(1, 1000, 100)\n",
    "rabi_sequence_parameters = {\"awg_trigger_reaction_delay\":400, \"readout_duration\":1000, \"repetition_period\":8000}\n",
    "DRO.setup_control_parameters(vna_parameters, q_lo_parameters, ro_cal, q_cal, \n",
    "                             q_frequency, current, rabi_sequence_parameters, excitation_durations)"
   ]
  },
  {
   "cell_type": "code",
   "execution_count": 12,
   "metadata": {
    "collapsed": false
   },
   "outputs": [
    {
     "name": "stdout",
     "output_type": "stream",
     "text": [
      "Started at:  2017-04-26 09:14:29.125922\n"
     ]
    },
    {
     "name": "stderr",
     "output_type": "stream",
     "text": [
      "C:\\ProgramData\\Anaconda3\\lib\\site-packages\\matplotlib\\backend_bases.py:2445: MatplotlibDeprecationWarning: Using default event loop until function specific to this GUI is implemented\n",
      "  warnings.warn(str, mplDeprecation)\n"
     ]
    },
    {
     "name": "stdout",
     "output_type": "stream",
     "text": [
      "Time left: 0 h 2 m 14.69 s, excitation duration: 3.441e+02 ns       "
     ]
    },
    {
     "data": {
      "text/plain": [
       "<lib2.TimeResolvedMeasurement.DispersiveRabiOscillationsResult at 0x29c8630>"
      ]
     },
     "execution_count": 12,
     "metadata": {},
     "output_type": "execute_result"
    }
   ],
   "source": [
    "DRO.launch()"
   ]
  },
  {
   "cell_type": "code",
   "execution_count": 22,
   "metadata": {
    "collapsed": true
   },
   "outputs": [],
   "source": [
    "result.visualize()"
   ]
  },
  {
   "cell_type": "code",
   "execution_count": null,
   "metadata": {
    "collapsed": true
   },
   "outputs": [],
   "source": []
  },
  {
   "cell_type": "code",
   "execution_count": 48,
   "metadata": {
    "collapsed": false
   },
   "outputs": [
    {
     "ename": "NameError",
     "evalue": "name 'dso' is not defined",
     "output_type": "error",
     "traceback": [
      "\u001b[0;31m---------------------------------------------------------------------------\u001b[0m",
      "\u001b[0;31mNameError\u001b[0m                                 Traceback (most recent call last)",
      "\u001b[0;32m<ipython-input-48-e639f355852c>\u001b[0m in \u001b[0;36m<module>\u001b[0;34m()\u001b[0m\n\u001b[0;32m----> 1\u001b[0;31m \u001b[0mdso\u001b[0m\u001b[1;33m.\u001b[0m\u001b[0mset_time_range\u001b[0m\u001b[1;33m(\u001b[0m\u001b[1;36m10e-6\u001b[0m\u001b[1;33m)\u001b[0m\u001b[1;33m\u001b[0m\u001b[0m\n\u001b[0m\u001b[1;32m      2\u001b[0m \u001b[0mdso\u001b[0m\u001b[1;33m.\u001b[0m\u001b[0mset_time_offset\u001b[0m\u001b[1;33m(\u001b[0m\u001b[1;36m1e-6\u001b[0m\u001b[1;33m)\u001b[0m\u001b[1;33m\u001b[0m\u001b[0m\n\u001b[1;32m      3\u001b[0m \u001b[0mdso\u001b[0m\u001b[1;33m.\u001b[0m\u001b[0mdigitize\u001b[0m\u001b[1;33m(\u001b[0m\u001b[1;33m)\u001b[0m\u001b[1;33m\u001b[0m\u001b[0m\n\u001b[1;32m      4\u001b[0m \u001b[0mtimes\u001b[0m\u001b[1;33m,\u001b[0m \u001b[0mchannel_data\u001b[0m \u001b[1;33m=\u001b[0m \u001b[0mdso\u001b[0m\u001b[1;33m.\u001b[0m\u001b[0mget_data\u001b[0m\u001b[1;33m(\u001b[0m\u001b[0mChannel\u001b[0m\u001b[1;33m.\u001b[0m\u001b[0mONE\u001b[0m\u001b[1;33m,\u001b[0m \u001b[0mChannel\u001b[0m\u001b[1;33m.\u001b[0m\u001b[0mTWO\u001b[0m\u001b[1;33m)\u001b[0m\u001b[1;33m\u001b[0m\u001b[0m\n\u001b[1;32m      5\u001b[0m \u001b[0maxes\u001b[0m \u001b[1;33m=\u001b[0m \u001b[0mflatten\u001b[0m\u001b[1;33m(\u001b[0m\u001b[0mplt\u001b[0m\u001b[1;33m.\u001b[0m\u001b[0msubplots\u001b[0m\u001b[1;33m(\u001b[0m\u001b[1;36m2\u001b[0m\u001b[1;33m,\u001b[0m\u001b[1;36m1\u001b[0m\u001b[1;33m,\u001b[0m \u001b[0msharex\u001b[0m\u001b[1;33m=\u001b[0m\u001b[1;32mTrue\u001b[0m\u001b[1;33m,\u001b[0m \u001b[0mfigsize\u001b[0m\u001b[1;33m=\u001b[0m\u001b[1;33m(\u001b[0m\u001b[1;36m13\u001b[0m\u001b[1;33m,\u001b[0m\u001b[1;36m5\u001b[0m\u001b[1;33m)\u001b[0m\u001b[1;33m)\u001b[0m\u001b[1;33m[\u001b[0m\u001b[1;36m1\u001b[0m\u001b[1;33m]\u001b[0m\u001b[1;33m)\u001b[0m\u001b[1;33m\u001b[0m\u001b[0m\n",
      "\u001b[0;31mNameError\u001b[0m: name 'dso' is not defined"
     ]
    }
   ],
   "source": [
    "dso.set_time_range(10e-6)\n",
    "dso.set_time_offset(1e-6)\n",
    "dso.digitize()\n",
    "times, channel_data = dso.get_data(Channel.ONE, Channel.TWO)\n",
    "axes = flatten(plt.subplots(2,1, sharex=True, figsize=(13,5))[1])\n",
    "colors = [\"C0\", \"C1\", \"C2\", \"C3\"]\n",
    "for idx, ax in enumerate(axes):\n",
    "    ax.plot(times, channel_data[idx], color=colors[idx])\n",
    "    ax.minorticks_on()\n",
    "    ax.grid(which=\"both\")\n",
    "    ax.ticklabel_format(style='sci', axis='x', scilimits=(0,0))\n",
    "plt.tight_layout()"
   ]
  },
  {
   "cell_type": "code",
   "execution_count": 355,
   "metadata": {
    "collapsed": false
   },
   "outputs": [
    {
     "name": "stdout",
     "output_type": "stream",
     "text": [
      "Started at 2017-04-25 10:47:28.472245\n",
      "2.00000% Time: 1500 ns, freq: 7.88500 GHz. Time left: 1 h 30 m 43.77 s    "
     ]
    },
    {
     "name": "stderr",
     "output_type": "stream",
     "text": [
      "C:\\ProgramData\\Anaconda3\\lib\\site-packages\\matplotlib\\backend_bases.py:2445: MatplotlibDeprecationWarning: Using default event loop until function specific to this GUI is implemented\n",
      "  warnings.warn(str, mplDeprecation)\n"
     ]
    },
    {
     "name": "stdout",
     "output_type": "stream",
     "text": [
      "100.00000% Time: 1500 ns, freq: 7.91500 GHz. Time left: 0 h 0 m 0.0 s      "
     ]
    }
   ],
   "source": [
    "q_frequency = 7.9e9\n",
    "excitation_times = linspace(1, 1500, 50)\n",
    "excitation_freqs = linspace(q_frequency-15e6, q_frequency+15e6, 50)#[q_frequency]#\n",
    "\n",
    "start_time = dt.now()\n",
    "print(\"Started at\", start_time)\n",
    "\n",
    "rabi_shevrons = []\n",
    "phases = []\n",
    "for i, excitation_freq in enumerate(excitation_freqs):\n",
    "    q_lo.set_frequency(excitation_freq+if_freq)\n",
    "    z_data = []\n",
    "    for j, t in enumerate(excitation_times):\n",
    "        \n",
    "        generate_pulses_rabi(t)\n",
    "#         sleep(0.5)\n",
    "        vna.avg_clear()\n",
    "        vna.prepare_for_stb()\n",
    "        vna.sweep_single()\n",
    "        vna.wait_for_stb()\n",
    "        s_data = vna.get_sdata()\n",
    "        z_data.append(mean(s_data))\n",
    "        phases.append(median(angle(s_data)))\n",
    "        \n",
    "        part_complete = (i*len(excitation_times)+j+1)/len(excitation_times)/len(excitation_freqs)\n",
    "        elapsed_time = (dt.now() - start_time).total_seconds()\n",
    "        time_left = format_time_delta(elapsed_time/part_complete-elapsed_time)\n",
    "#         cla()\n",
    "#         plot(excitation_times[:j+1], absolute(z_data))\n",
    "#         plt.pause(0.01)\n",
    "        print(\"\\r%.5f%% Time: %d ns, freq: %.5f GHz. Time left: %s    \"%(part_complete*100, t,\n",
    "                excitation_freq/1e9, time_left), end=\"\")\n",
    "    rabi_shevrons.append(z_data)\n",
    "    pcolormesh(absolute(rabi_shevrons).T)\n",
    "    plt.pause(0.01)\n",
    "\n",
    "rabi_shevrons = array(rabi_shevrons)"
   ]
  },
  {
   "cell_type": "code",
   "execution_count": 372,
   "metadata": {
    "collapsed": false
   },
   "outputs": [
    {
     "data": {
      "text/plain": [
       "<matplotlib.collections.QuadMesh at 0x2eb40978>"
      ]
     },
     "execution_count": 372,
     "metadata": {},
     "output_type": "execute_result"
    }
   ],
   "source": [
    "pcolormesh(excitation_freqs, excitation_times, absolute(rabi_shevrons).T)"
   ]
  },
  {
   "cell_type": "code",
   "execution_count": 339,
   "metadata": {
    "collapsed": true
   },
   "outputs": [],
   "source": [
    "def theoretical_rabi(t, A, gamma_R, Omega_R, offset):\n",
    "    return A*exp(-gamma_R*t)*cos(Omega_R*t)+offset"
   ]
  },
  {
   "cell_type": "code",
   "execution_count": 340,
   "metadata": {
    "collapsed": false
   },
   "outputs": [
    {
     "data": {
      "text/plain": [
       "array([ -4.66659262e-05,   5.67426473e-04,   4.72207804e-02,\n",
       "         1.43297208e-04])"
      ]
     },
     "execution_count": 340,
     "metadata": {},
     "output_type": "execute_result"
    }
   ],
   "source": [
    "opt_params = curve_fit(theoretical_rabi, excitation_times[:], abs(rabi_shevrons)[0][:], (.1, 1.5e-3, 5e-2, -0.96))[0]\n",
    "opt_params"
   ]
  },
  {
   "cell_type": "code",
   "execution_count": 371,
   "metadata": {
    "collapsed": false
   },
   "outputs": [
    {
     "data": {
      "text/plain": [
       "<matplotlib.text.Annotation at 0x2e583e10>"
      ]
     },
     "execution_count": 371,
     "metadata": {},
     "output_type": "execute_result"
    }
   ],
   "source": [
    "plot(excitation_times, abs(rabi_shevrons)[0])\n",
    "plot(excitation_times, theoretical_rabi(excitation_times, *opt_params))\n",
    "xlabel(\"Excitation time [ns]\")\n",
    "ylabel(\"VNA amplitude [a.u.]\")\n",
    "bbox_props = dict(boxstyle=\"round\", fc=\"white\", ec=\"black\", lw=1)\n",
    "annotate(\"$T_R=%.2f\\ \\mu$s\\n$\\Omega_R/2\\pi = %.2f$ MHz\"%(1/opt_params[1]/1e3, opt_params[2]*1e3/2/pi),\n",
    "             (mean(gca().get_xlim()),  abs(rabi_shevrons)[0][0]), bbox=bbox_props, ha=\"center\")"
   ]
  },
  {
   "cell_type": "code",
   "execution_count": 360,
   "metadata": {
    "collapsed": true
   },
   "outputs": [],
   "source": [
    "from scipy.fftpack import fft, fftshift, fftfreq"
   ]
  },
  {
   "cell_type": "code",
   "execution_count": 384,
   "metadata": {
    "collapsed": false
   },
   "outputs": [
    {
     "data": {
      "text/plain": [
       "<matplotlib.collections.QuadMesh at 0x308ee160>"
      ]
     },
     "execution_count": 384,
     "metadata": {},
     "output_type": "execute_result"
    }
   ],
   "source": [
    "start = 33\n",
    "freqs = fftshift(fftfreq(len(excitation_times), excitation_times[1]-excitation_times[0]))[start:]\n",
    "pcolormesh(freqs*1e3, excitation_freqs, fftshift(abs(fft(abs(rabi_shevrons))), axes=1)[:,start:])\n"
   ]
  },
  {
   "cell_type": "code",
   "execution_count": 298,
   "metadata": {
    "collapsed": true
   },
   "outputs": [],
   "source": [
    "import pickle"
   ]
  },
  {
   "cell_type": "code",
   "execution_count": 357,
   "metadata": {
    "collapsed": false
   },
   "outputs": [],
   "source": [
    "with open(\"data/Xmon Al BMSTU S444 2/rabi-higher-shevrons.pkl\", \"wb\") as f:\n",
    "    pickle.dump((excitation_freqs, excitation_times, rabi_shevrons), f)"
   ]
  },
  {
   "cell_type": "markdown",
   "metadata": {},
   "source": [
    "### Decay"
   ]
  },
  {
   "cell_type": "code",
   "execution_count": 304,
   "metadata": {
    "collapsed": true
   },
   "outputs": [],
   "source": [
    "t_pi = 206"
   ]
  },
  {
   "cell_type": "code",
   "execution_count": 306,
   "metadata": {
    "collapsed": true
   },
   "outputs": [],
   "source": [
    "delay = 5000\n",
    "def generate_pulses(delay):\n",
    "    q_pb.add_zero_pulse(400).add_sine_pulse(t_pi, 5).add_zero_pulse(1000).add_zero_pulse(10000-1000-t_pi-400)\n",
    "    q_awg.output_pulse_sequence(q_pb.build())\n",
    "\n",
    "    ro_pb.add_zero_pulse(t_pi+delay).add_dc_pulse(1000,5).add_zero_pulse(1)\n",
    "    ro_awg.output_pulse_sequence(ro_pb.build())\n",
    "generate_pulses(delay)"
   ]
  },
  {
   "cell_type": "code",
   "execution_count": 308,
   "metadata": {
    "collapsed": true
   },
   "outputs": [],
   "source": [
    "dso.set_time_range(10e-6)\n",
    "dso.set_time_offset(1e-6)\n",
    "dso.digitize()\n",
    "times, channel_data = dso.get_data(Channel.ONE, Channel.TWO)\n",
    "axes = flatten(plt.subplots(2,1, sharex=True, figsize=(13,5))[1])\n",
    "colors = [\"C0\", \"C1\", \"C2\", \"C3\"]\n",
    "for idx, ax in enumerate(axes):\n",
    "    ax.plot(times, channel_data[idx], color=colors[idx])\n",
    "    ax.minorticks_on()\n",
    "    ax.grid(which=\"both\")\n",
    "    ax.ticklabel_format(style='sci', axis='x', scilimits=(0,0))\n",
    "plt.tight_layout()"
   ]
  },
  {
   "cell_type": "code",
   "execution_count": 310,
   "metadata": {
    "collapsed": false
   },
   "outputs": [
    {
     "name": "stdout",
     "output_type": "stream",
     "text": [
      "Started at 2017-04-24 19:42:56.095042\n"
     ]
    },
    {
     "name": "stderr",
     "output_type": "stream",
     "text": [
      "C:\\ProgramData\\Anaconda3\\lib\\site-packages\\matplotlib\\backend_bases.py:2445: MatplotlibDeprecationWarning: Using default event loop until function specific to this GUI is implemented\n",
      "  warnings.warn(str, mplDeprecation)\n"
     ]
    },
    {
     "name": "stdout",
     "output_type": "stream",
     "text": [
      "100.00000% Time: 7500 ns, freq: 7.89874 GHz. Time left: 0 h 0 m 0.0 s     "
     ]
    }
   ],
   "source": [
    "delays = linspace(0, 7500, 75)\n",
    "\n",
    "start_time = dt.now()\n",
    "print(\"Started at\", start_time)\n",
    "\n",
    "z_data = []\n",
    "for j, delay in enumerate(delays):\n",
    "    \n",
    "    generate_pulses(delay)\n",
    "    \n",
    "    vna.avg_clear()\n",
    "    vna.prepare_for_stb()\n",
    "    vna.sweep_single()\n",
    "    vna.wait_for_stb()\n",
    "    z_data.append(median(abs(vna.get_sdata())))\n",
    "\n",
    "    part_complete = (j+1)/len(delays)\n",
    "    elapsed_time = (dt.now() - start_time).total_seconds()\n",
    "    time_left = format_time_delta(elapsed_time/part_complete-elapsed_time)\n",
    "    plt.cla()\n",
    "    plot(delays[:j+1],z_data)\n",
    "    plt.pause(0.01)\n",
    "    print(\"\\r%.5f%% Time: %d ns, freq: %.5f GHz. Time left: %s    \"%(part_complete*100, delay,\n",
    "            excitation_freq/1e9, time_left), end=\"\")\n",
    "\n",
    "z_data = array(z_data)"
   ]
  },
  {
   "cell_type": "code",
   "execution_count": 311,
   "metadata": {
    "collapsed": true
   },
   "outputs": [],
   "source": [
    "def theoretical_decay(t, gamma, A, offset):\n",
    "    return A*exp(-gamma*t) + offset"
   ]
  },
  {
   "cell_type": "code",
   "execution_count": 322,
   "metadata": {
    "collapsed": true
   },
   "outputs": [],
   "source": [
    "opt_params = curve_fit(theoretical_decay, delays[:], z_data[:], p0=(0.001, 1, -0.8))[0]"
   ]
  },
  {
   "cell_type": "code",
   "execution_count": 323,
   "metadata": {
    "collapsed": false
   },
   "outputs": [
    {
     "data": {
      "text/plain": [
       "<matplotlib.text.Annotation at 0xe53f438>"
      ]
     },
     "execution_count": 323,
     "metadata": {},
     "output_type": "execute_result"
    }
   ],
   "source": [
    "plot(delays, z_data)\n",
    "plot(delays, theoretical_decay(delays, *opt_params))\n",
    "xlabel(\"Readout delay [ns]\")\n",
    "ylabel(\"VNA amplitude [a.u.]\")\n",
    "bbox_props = dict(boxstyle=\"round\", fc=\"white\", ec=\"black\", lw=1)\n",
    "annotate(\"$T_1=%.2f\\ \\mu$s\"%(1/opt_params[0]/1e3), (mean(gca().get_xlim()), z_data[0]*1.01), bbox=bbox_props, ha=\"center\")"
   ]
  },
  {
   "cell_type": "code",
   "execution_count": 314,
   "metadata": {
    "collapsed": true
   },
   "outputs": [],
   "source": [
    "with open(\"./data/Xmon Al BMSTU S444 2/decay-VI\", \"w+b\") as f:\n",
    "    pickle.dump((delays, z_data), f)"
   ]
  },
  {
   "cell_type": "code",
   "execution_count": 324,
   "metadata": {
    "collapsed": true
   },
   "outputs": [],
   "source": [
    "q_lo.visa_instr.close()"
   ]
  },
  {
   "cell_type": "markdown",
   "metadata": {},
   "source": [
    "## Loading"
   ]
  },
  {
   "cell_type": "code",
   "execution_count": null,
   "metadata": {
    "collapsed": false
   },
   "outputs": [],
   "source": [
    "result = MeasurementResult.load(\"Xmon Al BMSTU S444 2\", \"VI-powerscan\")"
   ]
  },
  {
   "cell_type": "code",
   "execution_count": null,
   "metadata": {
    "collapsed": true
   },
   "outputs": [],
   "source": [
    "result.set_phase_units(\"deg\")"
   ]
  },
  {
   "cell_type": "code",
   "execution_count": null,
   "metadata": {
    "collapsed": false
   },
   "outputs": [],
   "source": [
    "result.visualize()"
   ]
  },
  {
   "cell_type": "markdown",
   "metadata": {},
   "source": [
    "## Measurement class testing"
   ]
  },
  {
   "cell_type": "code",
   "execution_count": 392,
   "metadata": {
    "collapsed": true
   },
   "outputs": [],
   "source": [
    "from importlib import reload"
   ]
  },
  {
   "cell_type": "code",
   "execution_count": 405,
   "metadata": {
    "collapsed": false
   },
   "outputs": [],
   "source": [
    "reload(lib2.Measurement)\n",
    "from lib2.Measurement import *"
   ]
  },
  {
   "cell_type": "code",
   "execution_count": 408,
   "metadata": {
    "collapsed": false
   },
   "outputs": [
    {
     "name": "stdout",
     "output_type": "stream",
     "text": [
      "The device vna2 is detected as PNA-L2\n"
     ]
    }
   ],
   "source": [
    "meas = Measurement(\"TEST\", \"TEST\", ['vna2'])"
   ]
  },
  {
   "cell_type": "code",
   "execution_count": 409,
   "metadata": {
    "collapsed": false
   },
   "outputs": [
    {
     "data": {
      "text/plain": [
       "<drivers.Agilent_PNA_L.Agilent_PNA_L at 0x2db3cbe0>"
      ]
     },
     "execution_count": 409,
     "metadata": {},
     "output_type": "execute_result"
    }
   ],
   "source": [
    "meas._actual_devices[\"vna2\"]"
   ]
  },
  {
   "cell_type": "code",
   "execution_count": 75,
   "metadata": {
    "collapsed": false
   },
   "outputs": [],
   "source": [
    "meas._mxg.visa_instr.close()"
   ]
  },
  {
   "cell_type": "code",
   "execution_count": 12,
   "metadata": {
    "collapsed": false
   },
   "outputs": [
    {
     "data": {
      "text/plain": [
       "0.0"
      ]
     },
     "execution_count": 12,
     "metadata": {},
     "output_type": "execute_result"
    }
   ],
   "source": [
    "meas._vna2.get_power()"
   ]
  },
  {
   "cell_type": "code",
   "execution_count": 410,
   "metadata": {
    "collapsed": false
   },
   "outputs": [],
   "source": [
    "q_lo.visa_instr.close()"
   ]
  },
  {
   "cell_type": "code",
   "execution_count": 59,
   "metadata": {
    "collapsed": false
   },
   "outputs": [
    {
     "ename": "NameError",
     "evalue": "name 'Agilent_EXA' is not defined",
     "output_type": "error",
     "traceback": [
      "\u001b[0;31m---------------------------------------------------------------------------\u001b[0m",
      "\u001b[0;31mNameError\u001b[0m                                 Traceback (most recent call last)",
      "\u001b[0;32m<ipython-input-59-c5e41062a008>\u001b[0m in \u001b[0;36m<module>\u001b[0;34m()\u001b[0m\n\u001b[0;32m----> 1\u001b[0;31m \u001b[0mAgilent_EXA\u001b[0m\u001b[1;33m\u001b[0m\u001b[0m\n\u001b[0m",
      "\u001b[0;31mNameError\u001b[0m: name 'Agilent_EXA' is not defined"
     ]
    }
   ],
   "source": [
    "Agilent_EXA"
   ]
  },
  {
   "cell_type": "code",
   "execution_count": null,
   "metadata": {
    "collapsed": false
   },
   "outputs": [],
   "source": [
    "from drivers import Agilent_PNA_L"
   ]
  },
  {
   "cell_type": "code",
   "execution_count": 57,
   "metadata": {
    "collapsed": false
   },
   "outputs": [
    {
     "ename": "TypeError",
     "evalue": "__repr__ returned non-string (type TCPIPInstrument)",
     "output_type": "error",
     "traceback": [
      "\u001b[0;31m---------------------------------------------------------------------------\u001b[0m",
      "\u001b[0;31mTypeError\u001b[0m                                 Traceback (most recent call last)",
      "\u001b[0;32mC:\\ProgramData\\Anaconda3\\lib\\site-packages\\IPython\\core\\formatters.py\u001b[0m in \u001b[0;36m__call__\u001b[0;34m(self, obj)\u001b[0m\n\u001b[1;32m    670\u001b[0m                 \u001b[0mtype_pprinters\u001b[0m\u001b[1;33m=\u001b[0m\u001b[0mself\u001b[0m\u001b[1;33m.\u001b[0m\u001b[0mtype_printers\u001b[0m\u001b[1;33m,\u001b[0m\u001b[1;33m\u001b[0m\u001b[0m\n\u001b[1;32m    671\u001b[0m                 deferred_pprinters=self.deferred_printers)\n\u001b[0;32m--> 672\u001b[0;31m             \u001b[0mprinter\u001b[0m\u001b[1;33m.\u001b[0m\u001b[0mpretty\u001b[0m\u001b[1;33m(\u001b[0m\u001b[0mobj\u001b[0m\u001b[1;33m)\u001b[0m\u001b[1;33m\u001b[0m\u001b[0m\n\u001b[0m\u001b[1;32m    673\u001b[0m             \u001b[0mprinter\u001b[0m\u001b[1;33m.\u001b[0m\u001b[0mflush\u001b[0m\u001b[1;33m(\u001b[0m\u001b[1;33m)\u001b[0m\u001b[1;33m\u001b[0m\u001b[0m\n\u001b[1;32m    674\u001b[0m             \u001b[1;32mreturn\u001b[0m \u001b[0mstream\u001b[0m\u001b[1;33m.\u001b[0m\u001b[0mgetvalue\u001b[0m\u001b[1;33m(\u001b[0m\u001b[1;33m)\u001b[0m\u001b[1;33m\u001b[0m\u001b[0m\n",
      "\u001b[0;32mC:\\ProgramData\\Anaconda3\\lib\\site-packages\\IPython\\lib\\pretty.py\u001b[0m in \u001b[0;36mpretty\u001b[0;34m(self, obj)\u001b[0m\n\u001b[1;32m    381\u001b[0m                             \u001b[1;32mif\u001b[0m \u001b[0mcallable\u001b[0m\u001b[1;33m(\u001b[0m\u001b[0mmeth\u001b[0m\u001b[1;33m)\u001b[0m\u001b[1;33m:\u001b[0m\u001b[1;33m\u001b[0m\u001b[0m\n\u001b[1;32m    382\u001b[0m                                 \u001b[1;32mreturn\u001b[0m \u001b[0mmeth\u001b[0m\u001b[1;33m(\u001b[0m\u001b[0mobj\u001b[0m\u001b[1;33m,\u001b[0m \u001b[0mself\u001b[0m\u001b[1;33m,\u001b[0m \u001b[0mcycle\u001b[0m\u001b[1;33m)\u001b[0m\u001b[1;33m\u001b[0m\u001b[0m\n\u001b[0;32m--> 383\u001b[0;31m             \u001b[1;32mreturn\u001b[0m \u001b[0m_default_pprint\u001b[0m\u001b[1;33m(\u001b[0m\u001b[0mobj\u001b[0m\u001b[1;33m,\u001b[0m \u001b[0mself\u001b[0m\u001b[1;33m,\u001b[0m \u001b[0mcycle\u001b[0m\u001b[1;33m)\u001b[0m\u001b[1;33m\u001b[0m\u001b[0m\n\u001b[0m\u001b[1;32m    384\u001b[0m         \u001b[1;32mfinally\u001b[0m\u001b[1;33m:\u001b[0m\u001b[1;33m\u001b[0m\u001b[0m\n\u001b[1;32m    385\u001b[0m             \u001b[0mself\u001b[0m\u001b[1;33m.\u001b[0m\u001b[0mend_group\u001b[0m\u001b[1;33m(\u001b[0m\u001b[1;33m)\u001b[0m\u001b[1;33m\u001b[0m\u001b[0m\n",
      "\u001b[0;32mC:\\ProgramData\\Anaconda3\\lib\\site-packages\\IPython\\lib\\pretty.py\u001b[0m in \u001b[0;36m_default_pprint\u001b[0;34m(obj, p, cycle)\u001b[0m\n\u001b[1;32m    501\u001b[0m     \u001b[1;32mif\u001b[0m \u001b[0m_safe_getattr\u001b[0m\u001b[1;33m(\u001b[0m\u001b[0mklass\u001b[0m\u001b[1;33m,\u001b[0m \u001b[1;34m'__repr__'\u001b[0m\u001b[1;33m,\u001b[0m \u001b[1;32mNone\u001b[0m\u001b[1;33m)\u001b[0m \u001b[1;32mnot\u001b[0m \u001b[1;32min\u001b[0m \u001b[0m_baseclass_reprs\u001b[0m\u001b[1;33m:\u001b[0m\u001b[1;33m\u001b[0m\u001b[0m\n\u001b[1;32m    502\u001b[0m         \u001b[1;31m# A user-provided repr. Find newlines and replace them with p.break_()\u001b[0m\u001b[1;33m\u001b[0m\u001b[1;33m\u001b[0m\u001b[0m\n\u001b[0;32m--> 503\u001b[0;31m         \u001b[0m_repr_pprint\u001b[0m\u001b[1;33m(\u001b[0m\u001b[0mobj\u001b[0m\u001b[1;33m,\u001b[0m \u001b[0mp\u001b[0m\u001b[1;33m,\u001b[0m \u001b[0mcycle\u001b[0m\u001b[1;33m)\u001b[0m\u001b[1;33m\u001b[0m\u001b[0m\n\u001b[0m\u001b[1;32m    504\u001b[0m         \u001b[1;32mreturn\u001b[0m\u001b[1;33m\u001b[0m\u001b[0m\n\u001b[1;32m    505\u001b[0m     \u001b[0mp\u001b[0m\u001b[1;33m.\u001b[0m\u001b[0mbegin_group\u001b[0m\u001b[1;33m(\u001b[0m\u001b[1;36m1\u001b[0m\u001b[1;33m,\u001b[0m \u001b[1;34m'<'\u001b[0m\u001b[1;33m)\u001b[0m\u001b[1;33m\u001b[0m\u001b[0m\n",
      "\u001b[0;32mC:\\ProgramData\\Anaconda3\\lib\\site-packages\\IPython\\lib\\pretty.py\u001b[0m in \u001b[0;36m_repr_pprint\u001b[0;34m(obj, p, cycle)\u001b[0m\n\u001b[1;32m    699\u001b[0m     \u001b[1;34m\"\"\"A pprint that just redirects to the normal repr function.\"\"\"\u001b[0m\u001b[1;33m\u001b[0m\u001b[0m\n\u001b[1;32m    700\u001b[0m     \u001b[1;31m# Find newlines and replace them with p.break_()\u001b[0m\u001b[1;33m\u001b[0m\u001b[1;33m\u001b[0m\u001b[0m\n\u001b[0;32m--> 701\u001b[0;31m     \u001b[0moutput\u001b[0m \u001b[1;33m=\u001b[0m \u001b[0mrepr\u001b[0m\u001b[1;33m(\u001b[0m\u001b[0mobj\u001b[0m\u001b[1;33m)\u001b[0m\u001b[1;33m\u001b[0m\u001b[0m\n\u001b[0m\u001b[1;32m    702\u001b[0m     \u001b[1;32mfor\u001b[0m \u001b[0midx\u001b[0m\u001b[1;33m,\u001b[0m\u001b[0moutput_line\u001b[0m \u001b[1;32min\u001b[0m \u001b[0menumerate\u001b[0m\u001b[1;33m(\u001b[0m\u001b[0moutput\u001b[0m\u001b[1;33m.\u001b[0m\u001b[0msplitlines\u001b[0m\u001b[1;33m(\u001b[0m\u001b[1;33m)\u001b[0m\u001b[1;33m)\u001b[0m\u001b[1;33m:\u001b[0m\u001b[1;33m\u001b[0m\u001b[0m\n\u001b[1;32m    703\u001b[0m         \u001b[1;32mif\u001b[0m \u001b[0midx\u001b[0m\u001b[1;33m:\u001b[0m\u001b[1;33m\u001b[0m\u001b[0m\n",
      "\u001b[0;31mTypeError\u001b[0m: __repr__ returned non-string (type TCPIPInstrument)"
     ]
    }
   ],
   "source": [
    "mxg"
   ]
  },
  {
   "cell_type": "code",
   "execution_count": null,
   "metadata": {
    "collapsed": true
   },
   "outputs": [],
   "source": [
    "import drivers"
   ]
  },
  {
   "cell_type": "code",
   "execution_count": null,
   "metadata": {
    "collapsed": false
   },
   "outputs": [],
   "source": [
    "drivers."
   ]
  },
  {
   "cell_type": "code",
   "execution_count": null,
   "metadata": {
    "collapsed": false
   },
   "outputs": [],
   "source": [
    "from drivers import *"
   ]
  },
  {
   "cell_type": "code",
   "execution_count": null,
   "metadata": {
    "collapsed": false
   },
   "outputs": [],
   "source": [
    "ю"
   ]
  },
  {
   "cell_type": "code",
   "execution_count": null,
   "metadata": {
    "collapsed": false
   },
   "outputs": [],
   "source": [
    "./"
   ]
  },
  {
   "cell_type": "code",
   "execution_count": null,
   "metadata": {
    "collapsed": true
   },
   "outputs": [],
   "source": [
    "from drivers import *"
   ]
  },
  {
   "cell_type": "code",
   "execution_count": null,
   "metadata": {
    "collapsed": true
   },
   "outputs": [],
   "source": []
  },
  {
   "cell_type": "code",
   "execution_count": 391,
   "metadata": {
    "collapsed": false
   },
   "outputs": [
    {
     "ename": "AttributeError",
     "evalue": "module 'lib2' has no attribute 'Measurement'",
     "output_type": "error",
     "traceback": [
      "\u001b[0;31m---------------------------------------------------------------------------\u001b[0m",
      "\u001b[0;31mAttributeError\u001b[0m                            Traceback (most recent call last)",
      "\u001b[0;32m<ipython-input-391-55a79e6081e9>\u001b[0m in \u001b[0;36m<module>\u001b[0;34m()\u001b[0m\n\u001b[0;32m----> 1\u001b[0;31m \u001b[0mreload\u001b[0m\u001b[1;33m(\u001b[0m\u001b[0mlib2\u001b[0m\u001b[1;33m.\u001b[0m\u001b[0mMeasurement\u001b[0m\u001b[1;33m)\u001b[0m\u001b[1;33m\u001b[0m\u001b[0m\n\u001b[0m",
      "\u001b[0;31mAttributeError\u001b[0m: module 'lib2' has no attribute 'Measurement'"
     ]
    }
   ],
   "source": [
    "reload(lib2.Measurement)"
   ]
  },
  {
   "cell_type": "code",
   "execution_count": null,
   "metadata": {
    "collapsed": false
   },
   "outputs": [],
   "source": [
    "Agilent_EXA"
   ]
  },
  {
   "cell_type": "code",
   "execution_count": 386,
   "metadata": {
    "collapsed": true
   },
   "outputs": [],
   "source": [
    "import pyvisa"
   ]
  },
  {
   "cell_type": "code",
   "execution_count": 387,
   "metadata": {
    "collapsed": false
   },
   "outputs": [],
   "source": [
    "rm = pyvisa.ResourceManager()\n",
    "temp_list = list(rm.list_resources_info().values())\n",
    "\n",
    "devs_info = \\\n",
    "                [(list(temp_list)[i])[3:5] for i in range(len(temp_list))]"
   ]
  },
  {
   "cell_type": "code",
   "execution_count": 389,
   "metadata": {
    "collapsed": false
   },
   "outputs": [
    {
     "data": {
      "text/plain": [
       "('TCPIP0::10.55.70.46::hislip0::INSTR', 'PNA-L1')"
      ]
     },
     "execution_count": 389,
     "metadata": {},
     "output_type": "execute_result"
    }
   ],
   "source": [
    "devs_info[1]"
   ]
  },
  {
   "cell_type": "code",
   "execution_count": null,
   "metadata": {
    "collapsed": true
   },
   "outputs": [],
   "source": []
  }
 ],
 "metadata": {
  "kernelspec": {
   "display_name": "Python 3",
   "language": "python",
   "name": "python3"
  },
  "language_info": {
   "codemirror_mode": {
    "name": "ipython",
    "version": 3
   },
   "file_extension": ".py",
   "mimetype": "text/x-python",
   "name": "python",
   "nbconvert_exporter": "python",
   "pygments_lexer": "ipython3",
   "version": "3.6.0"
  }
 },
 "nbformat": 4,
 "nbformat_minor": 2
}
