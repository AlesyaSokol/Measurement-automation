{
 "cells": [
  {
   "cell_type": "code",
   "execution_count": 1,
   "metadata": {
    "collapsed": false,
    "scrolled": true
   },
   "outputs": [
    {
     "name": "stdout",
     "output_type": "stream",
     "text": [
      "Populating the interactive namespace from numpy and matplotlib\n"
     ]
    }
   ],
   "source": [
    "%pylab qt5"
   ]
  },
  {
   "cell_type": "code",
   "execution_count": 2,
   "metadata": {
    "collapsed": true
   },
   "outputs": [],
   "source": [
    "mpl.rcParams['grid.color'] = 'k'\n",
    "mpl.rcParams['grid.linestyle'] = ':'\n",
    "mpl.rcParams['grid.linewidth'] = 0.5"
   ]
  },
  {
   "cell_type": "code",
   "execution_count": 3,
   "metadata": {
    "collapsed": true
   },
   "outputs": [],
   "source": [
    "from importlib import reload\n",
    "import lib2"
   ]
  },
  {
   "cell_type": "code",
   "execution_count": 4,
   "metadata": {
    "collapsed": true
   },
   "outputs": [],
   "source": [
    "from lib import data_management as dm"
   ]
  },
  {
   "cell_type": "code",
   "execution_count": 5,
   "metadata": {
    "collapsed": false
   },
   "outputs": [],
   "source": [
    "if_freq = 50e6\n",
    "\n",
    "calibrations = (dm.load_IQMX_calibration_database(\"TEST\", -20))\n",
    "ro_cal = calibrations.get(frozenset(dict(lo_power=0, ssb_power=-30, lo_frequency=7.047e9, \n",
    "                                      if_frequency=0, waveform_resolution=1).items()))\n",
    "# ro_pb = PulseBuilder(ro_cal)\n",
    "\n",
    "calibrations = (dm.load_IQMX_calibration_database(\"TESTQ\", -6))\n",
    "q_cal = calibrations.get(frozenset(dict(lo_power=15, ssb_power=-10, lo_frequency=7.9e9+if_freq, \n",
    "                                      if_frequency=if_freq, waveform_resolution=0.1).items()))\n",
    "# q_pb = PulseBuilder(q_cal)"
   ]
  },
  {
   "cell_type": "markdown",
   "metadata": {},
   "source": [
    "# Spectroscopy"
   ]
  },
  {
   "cell_type": "markdown",
   "metadata": {},
   "source": [
    "## Single-tone spectroscopy"
   ]
  },
  {
   "cell_type": "code",
   "execution_count": 38,
   "metadata": {
    "collapsed": false
   },
   "outputs": [
    {
     "data": {
      "text/plain": [
       "<module 'lib2.Measurement' from 'C:\\\\Users\\\\PAINMASTER\\\\Measurement\\\\lib2\\\\Measurement.py'>"
      ]
     },
     "execution_count": 38,
     "metadata": {},
     "output_type": "execute_result"
    }
   ],
   "source": [
    "reload(lib2.Measurement)"
   ]
  },
  {
   "cell_type": "code",
   "execution_count": 10,
   "metadata": {
    "collapsed": false
   },
   "outputs": [],
   "source": [
    "# reload(lib2.SingleToneSpectroscopy)\n",
    "from lib2.SingleToneSpectroscopy import *"
   ]
  },
  {
   "cell_type": "markdown",
   "metadata": {},
   "source": [
    "#### No mixer "
   ]
  },
  {
   "cell_type": "code",
   "execution_count": 59,
   "metadata": {
    "collapsed": false
   },
   "outputs": [
    {
     "name": "stdout",
     "output_type": "stream",
     "text": [
      "vna2 is already initialized\n",
      "yok1 is already initialized\n",
      "Started at:  2017-04-29 14:30:46.256788\n"
     ]
    },
    {
     "name": "stderr",
     "output_type": "stream",
     "text": [
      "C:\\ProgramData\\Anaconda3\\lib\\site-packages\\matplotlib\\backend_bases.py:2445: MatplotlibDeprecationWarning: Using default event loop until function specific to this GUI is implemented\n",
      "  warnings.warn(str, mplDeprecation)\n"
     ]
    },
    {
     "name": "stdout",
     "output_type": "stream",
     "text": [
      "Time left: 0 h 0 m 0.0 s, current: 1.00e-03]: , average cycle time: 1.34 s          "
     ]
    }
   ],
   "source": [
    "STS = SingleToneSpectroscopy(\"IV-anticrossing\", \"Xmon Al BMSTU S444 2\", vna = 'vna2', src = 'yok1')\n",
    "vna_parameters = {\"bandwidth\":300, \"freq_limits\":(4000e6, 6000e6), \"nop\":401, \"power\":-40, \"averages\":1}\n",
    "STS.set_fixed_parameters(vna_parameters)\n",
    "STS.set_swept_parameters({'current': (STS._src.set_current, linspace(-1e-3, 1e-3, 100))})\n",
    "result = STS.launch()\n",
    "result.visualize()"
   ]
  },
  {
   "cell_type": "code",
   "execution_count": null,
   "metadata": {
    "collapsed": true
   },
   "outputs": [],
   "source": [
    "result.visualize()"
   ]
  },
  {
   "cell_type": "code",
   "execution_count": 35,
   "metadata": {
    "collapsed": false
   },
   "outputs": [],
   "source": [
    "result.save()"
   ]
  },
  {
   "cell_type": "markdown",
   "metadata": {},
   "source": [
    "#### Through mixer"
   ]
  },
  {
   "cell_type": "code",
   "execution_count": 30,
   "metadata": {
    "collapsed": false
   },
   "outputs": [],
   "source": [
    "ro_awg.output_pulse_sequence(ro_pb.add_dc_pulse(100).build())"
   ]
  },
  {
   "cell_type": "code",
   "execution_count": 31,
   "metadata": {
    "collapsed": false
   },
   "outputs": [
    {
     "name": "stdout",
     "output_type": "stream",
     "text": [
      "The device vna2 is detected as PNA-L2\n",
      "Started at:  2017-04-25 21:05:38.633681\n",
      "Time left: 0 h 0 m 40.99 s, current: 1.000e-04, average cycle time: 0.41 s          "
     ]
    },
    {
     "name": "stderr",
     "output_type": "stream",
     "text": [
      "C:\\ProgramData\\Anaconda3\\lib\\site-packages\\matplotlib\\backend_bases.py:2445: MatplotlibDeprecationWarning: Using default event loop until function specific to this GUI is implemented\n",
      "  warnings.warn(str, mplDeprecation)\n"
     ]
    },
    {
     "name": "stdout",
     "output_type": "stream",
     "text": [
      "Time left: 0 h 0 m 0.0 s, current: 2.000e-03, average cycle time: 0.29 s            "
     ]
    }
   ],
   "source": [
    "STS = SingleToneSpectroscopy(\"IV-anticrossing-through-mixer\", \"Xmon Al BMSTU S444 2\", \"current\", current_src.set_current)\n",
    "vna_parameters = {\"bandwidth\":500, \"freq_limits\":(7030e6, 7070e6), \"nop\":101, \"power\":-10, \"averages\":1}\n",
    "currents = linspace(0.1e-3, 2e-3, 100)\n",
    "STS.setup_control_parameters(vna_parameters, currents)\n",
    "result = STS.launch()\n",
    "current_src.set_current(0)\n",
    "result.visualize()"
   ]
  },
  {
   "cell_type": "code",
   "execution_count": 57,
   "metadata": {
    "collapsed": false
   },
   "outputs": [
    {
     "data": {
      "text/plain": [
       "{'current': array([ -1.00000000e-03,  -9.79797980e-04,  -9.59595960e-04,\n",
       "         -9.39393939e-04,  -9.19191919e-04,  -8.98989899e-04,\n",
       "         -8.78787879e-04,  -8.58585859e-04,  -8.38383838e-04,\n",
       "         -8.18181818e-04,  -7.97979798e-04,  -7.77777778e-04,\n",
       "         -7.57575758e-04,  -7.37373737e-04,  -7.17171717e-04,\n",
       "         -6.96969697e-04,  -6.76767677e-04,  -6.56565657e-04,\n",
       "         -6.36363636e-04,  -6.16161616e-04,  -5.95959596e-04,\n",
       "         -5.75757576e-04,  -5.55555556e-04,  -5.35353535e-04,\n",
       "         -5.15151515e-04,  -4.94949495e-04,  -4.74747475e-04,\n",
       "         -4.54545455e-04,  -4.34343434e-04,  -4.14141414e-04,\n",
       "         -3.93939394e-04,  -3.73737374e-04,  -3.53535354e-04,\n",
       "         -3.33333333e-04,  -3.13131313e-04,  -2.92929293e-04,\n",
       "         -2.72727273e-04,  -2.52525253e-04,  -2.32323232e-04,\n",
       "         -2.12121212e-04,  -1.91919192e-04,  -1.71717172e-04,\n",
       "         -1.51515152e-04,  -1.31313131e-04,  -1.11111111e-04,\n",
       "         -9.09090909e-05,  -7.07070707e-05,  -5.05050505e-05,\n",
       "         -3.03030303e-05,  -1.01010101e-05,   1.01010101e-05,\n",
       "          3.03030303e-05,   5.05050505e-05,   7.07070707e-05,\n",
       "          9.09090909e-05,   1.11111111e-04,   1.31313131e-04,\n",
       "          1.51515152e-04,   1.71717172e-04,   1.91919192e-04,\n",
       "          2.12121212e-04,   2.32323232e-04,   2.52525253e-04,\n",
       "          2.72727273e-04,   2.92929293e-04,   3.13131313e-04,\n",
       "          3.33333333e-04,   3.53535354e-04,   3.73737374e-04,\n",
       "          3.93939394e-04,   4.14141414e-04,   4.34343434e-04,\n",
       "          4.54545455e-04,   4.74747475e-04,   4.94949495e-04,\n",
       "          5.15151515e-04,   5.35353535e-04,   5.55555556e-04,\n",
       "          5.75757576e-04,   5.95959596e-04,   6.16161616e-04,\n",
       "          6.36363636e-04,   6.56565657e-04,   6.76767677e-04,\n",
       "          6.96969697e-04,   7.17171717e-04,   7.37373737e-04,\n",
       "          7.57575758e-04,   7.77777778e-04,   7.97979798e-04,\n",
       "          8.18181818e-04,   8.38383838e-04,   8.58585859e-04,\n",
       "          8.78787879e-04,   8.98989899e-04,   9.19191919e-04,\n",
       "          9.39393939e-04,   9.59595960e-04,   9.79797980e-04,\n",
       "          1.00000000e-03]),\n",
       " 'data': array([[ 0.00091045-0.00998143j, -0.00222850+0.00944246j,\n",
       "          0.00038160-0.00068974j, ...,  0.00128603-0.00470938j,\n",
       "          0.00352043+0.00648182j, -0.00303384+0.00171539j],\n",
       "        [-0.00062465-0.0002766j ,  0.00295713+0.00106927j,\n",
       "          0.00816980+0.00269194j, ...,  0.00465935+0.00415844j,\n",
       "          0.00823706+0.00347776j, -0.00671913-0.00353826j],\n",
       "        [-0.00279686-0.00079558j,  0.00423785+0.00367367j,\n",
       "          0.00999494-0.00265347j, ...,  0.00672719-0.0024835j ,\n",
       "          0.00572337+0.00384535j, -0.00080613+0.00285033j],\n",
       "        ..., \n",
       "        [ 0.00337351-0.00619667j, -0.00081170-0.00038413j,\n",
       "         -0.00662424-0.00310813j, ...,  0.00347529+0.00071574j,\n",
       "         -0.00209935-0.00118525j, -0.00519055+0.00594424j],\n",
       "        [ 0.00041820+0.00010323j, -0.00229794+0.00150857j,\n",
       "          0.00211744-0.00293381j, ...,  0.00125932+0.00223833j,\n",
       "          0.00564682-0.00170727j, -0.00118868-0.00537612j],\n",
       "        [ 0.00355900+0.00596973j, -0.00934037+0.00153126j,\n",
       "         -0.00368172-0.00160129j, ...,  0.00635481-0.00273155j,\n",
       "         -0.00148298+0.00915895j, -0.00026131+0.00051714j]]),\n",
       " 'frequency': array([  4.00000000e+09,   4.01000000e+09,   4.02000000e+09,\n",
       "          4.03000000e+09,   4.04000000e+09,   4.05000000e+09,\n",
       "          4.06000000e+09,   4.07000000e+09,   4.08000000e+09,\n",
       "          4.09000000e+09,   4.10000000e+09,   4.11000000e+09,\n",
       "          4.12000000e+09,   4.13000000e+09,   4.14000000e+09,\n",
       "          4.15000000e+09,   4.16000000e+09,   4.17000000e+09,\n",
       "          4.18000000e+09,   4.19000000e+09,   4.20000000e+09,\n",
       "          4.21000000e+09,   4.22000000e+09,   4.23000000e+09,\n",
       "          4.24000000e+09,   4.25000000e+09,   4.26000000e+09,\n",
       "          4.27000000e+09,   4.28000000e+09,   4.29000000e+09,\n",
       "          4.30000000e+09,   4.31000000e+09,   4.32000000e+09,\n",
       "          4.33000000e+09,   4.34000000e+09,   4.35000000e+09,\n",
       "          4.36000000e+09,   4.37000000e+09,   4.38000000e+09,\n",
       "          4.39000000e+09,   4.40000000e+09,   4.41000000e+09,\n",
       "          4.42000000e+09,   4.43000000e+09,   4.44000000e+09,\n",
       "          4.45000000e+09,   4.46000000e+09,   4.47000000e+09,\n",
       "          4.48000000e+09,   4.49000000e+09,   4.50000000e+09,\n",
       "          4.51000000e+09,   4.52000000e+09,   4.53000000e+09,\n",
       "          4.54000000e+09,   4.55000000e+09,   4.56000000e+09,\n",
       "          4.57000000e+09,   4.58000000e+09,   4.59000000e+09,\n",
       "          4.60000000e+09,   4.61000000e+09,   4.62000000e+09,\n",
       "          4.63000000e+09,   4.64000000e+09,   4.65000000e+09,\n",
       "          4.66000000e+09,   4.67000000e+09,   4.68000000e+09,\n",
       "          4.69000000e+09,   4.70000000e+09,   4.71000000e+09,\n",
       "          4.72000000e+09,   4.73000000e+09,   4.74000000e+09,\n",
       "          4.75000000e+09,   4.76000000e+09,   4.77000000e+09,\n",
       "          4.78000000e+09,   4.79000000e+09,   4.80000000e+09,\n",
       "          4.81000000e+09,   4.82000000e+09,   4.83000000e+09,\n",
       "          4.84000000e+09,   4.85000000e+09,   4.86000000e+09,\n",
       "          4.87000000e+09,   4.88000000e+09,   4.89000000e+09,\n",
       "          4.90000000e+09,   4.91000000e+09,   4.92000000e+09,\n",
       "          4.93000000e+09,   4.94000000e+09,   4.95000000e+09,\n",
       "          4.96000000e+09,   4.97000000e+09,   4.98000000e+09,\n",
       "          4.99000000e+09,   5.00000000e+09,   5.01000000e+09,\n",
       "          5.02000000e+09,   5.03000000e+09,   5.04000000e+09,\n",
       "          5.05000000e+09,   5.06000000e+09,   5.07000000e+09,\n",
       "          5.08000000e+09,   5.09000000e+09,   5.10000000e+09,\n",
       "          5.11000000e+09,   5.12000000e+09,   5.13000000e+09,\n",
       "          5.14000000e+09,   5.15000000e+09,   5.16000000e+09,\n",
       "          5.17000000e+09,   5.18000000e+09,   5.19000000e+09,\n",
       "          5.20000000e+09,   5.21000000e+09,   5.22000000e+09,\n",
       "          5.23000000e+09,   5.24000000e+09,   5.25000000e+09,\n",
       "          5.26000000e+09,   5.27000000e+09,   5.28000000e+09,\n",
       "          5.29000000e+09,   5.30000000e+09,   5.31000000e+09,\n",
       "          5.32000000e+09,   5.33000000e+09,   5.34000000e+09,\n",
       "          5.35000000e+09,   5.36000000e+09,   5.37000000e+09,\n",
       "          5.38000000e+09,   5.39000000e+09,   5.40000000e+09,\n",
       "          5.41000000e+09,   5.42000000e+09,   5.43000000e+09,\n",
       "          5.44000000e+09,   5.45000000e+09,   5.46000000e+09,\n",
       "          5.47000000e+09,   5.48000000e+09,   5.49000000e+09,\n",
       "          5.50000000e+09,   5.51000000e+09,   5.52000000e+09,\n",
       "          5.53000000e+09,   5.54000000e+09,   5.55000000e+09,\n",
       "          5.56000000e+09,   5.57000000e+09,   5.58000000e+09,\n",
       "          5.59000000e+09,   5.60000000e+09,   5.61000000e+09,\n",
       "          5.62000000e+09,   5.63000000e+09,   5.64000000e+09,\n",
       "          5.65000000e+09,   5.66000000e+09,   5.67000000e+09,\n",
       "          5.68000000e+09,   5.69000000e+09,   5.70000000e+09,\n",
       "          5.71000000e+09,   5.72000000e+09,   5.73000000e+09,\n",
       "          5.74000000e+09,   5.75000000e+09,   5.76000000e+09,\n",
       "          5.77000000e+09,   5.78000000e+09,   5.79000000e+09,\n",
       "          5.80000000e+09,   5.81000000e+09,   5.82000000e+09,\n",
       "          5.83000000e+09,   5.84000000e+09,   5.85000000e+09,\n",
       "          5.86000000e+09,   5.87000000e+09,   5.88000000e+09,\n",
       "          5.89000000e+09,   5.90000000e+09,   5.91000000e+09,\n",
       "          5.92000000e+09,   5.93000000e+09,   5.94000000e+09,\n",
       "          5.95000000e+09,   5.96000000e+09,   5.97000000e+09,\n",
       "          5.98000000e+09,   5.99000000e+09,   6.00000000e+09,\n",
       "          6.01000000e+09,   6.02000000e+09,   6.03000000e+09,\n",
       "          6.04000000e+09,   6.05000000e+09,   6.06000000e+09,\n",
       "          6.07000000e+09,   6.08000000e+09,   6.09000000e+09,\n",
       "          6.10000000e+09,   6.11000000e+09,   6.12000000e+09,\n",
       "          6.13000000e+09,   6.14000000e+09,   6.15000000e+09,\n",
       "          6.16000000e+09,   6.17000000e+09,   6.18000000e+09,\n",
       "          6.19000000e+09,   6.20000000e+09,   6.21000000e+09,\n",
       "          6.22000000e+09,   6.23000000e+09,   6.24000000e+09,\n",
       "          6.25000000e+09,   6.26000000e+09,   6.27000000e+09,\n",
       "          6.28000000e+09,   6.29000000e+09,   6.30000000e+09,\n",
       "          6.31000000e+09,   6.32000000e+09,   6.33000000e+09,\n",
       "          6.34000000e+09,   6.35000000e+09,   6.36000000e+09,\n",
       "          6.37000000e+09,   6.38000000e+09,   6.39000000e+09,\n",
       "          6.40000000e+09,   6.41000000e+09,   6.42000000e+09,\n",
       "          6.43000000e+09,   6.44000000e+09,   6.45000000e+09,\n",
       "          6.46000000e+09,   6.47000000e+09,   6.48000000e+09,\n",
       "          6.49000000e+09,   6.50000000e+09,   6.51000000e+09,\n",
       "          6.52000000e+09,   6.53000000e+09,   6.54000000e+09,\n",
       "          6.55000000e+09,   6.56000000e+09,   6.57000000e+09,\n",
       "          6.58000000e+09,   6.59000000e+09,   6.60000000e+09,\n",
       "          6.61000000e+09,   6.62000000e+09,   6.63000000e+09,\n",
       "          6.64000000e+09,   6.65000000e+09,   6.66000000e+09,\n",
       "          6.67000000e+09,   6.68000000e+09,   6.69000000e+09,\n",
       "          6.70000000e+09,   6.71000000e+09,   6.72000000e+09,\n",
       "          6.73000000e+09,   6.74000000e+09,   6.75000000e+09,\n",
       "          6.76000000e+09,   6.77000000e+09,   6.78000000e+09,\n",
       "          6.79000000e+09,   6.80000000e+09,   6.81000000e+09,\n",
       "          6.82000000e+09,   6.83000000e+09,   6.84000000e+09,\n",
       "          6.85000000e+09,   6.86000000e+09,   6.87000000e+09,\n",
       "          6.88000000e+09,   6.89000000e+09,   6.90000000e+09,\n",
       "          6.91000000e+09,   6.92000000e+09,   6.93000000e+09,\n",
       "          6.94000000e+09,   6.95000000e+09,   6.96000000e+09,\n",
       "          6.97000000e+09,   6.98000000e+09,   6.99000000e+09,\n",
       "          7.00000000e+09,   7.01000000e+09,   7.02000000e+09,\n",
       "          7.03000000e+09,   7.04000000e+09,   7.05000000e+09,\n",
       "          7.06000000e+09,   7.07000000e+09,   7.08000000e+09,\n",
       "          7.09000000e+09,   7.10000000e+09,   7.11000000e+09,\n",
       "          7.12000000e+09,   7.13000000e+09,   7.14000000e+09,\n",
       "          7.15000000e+09,   7.16000000e+09,   7.17000000e+09,\n",
       "          7.18000000e+09,   7.19000000e+09,   7.20000000e+09,\n",
       "          7.21000000e+09,   7.22000000e+09,   7.23000000e+09,\n",
       "          7.24000000e+09,   7.25000000e+09,   7.26000000e+09,\n",
       "          7.27000000e+09,   7.28000000e+09,   7.29000000e+09,\n",
       "          7.30000000e+09,   7.31000000e+09,   7.32000000e+09,\n",
       "          7.33000000e+09,   7.34000000e+09,   7.35000000e+09,\n",
       "          7.36000000e+09,   7.37000000e+09,   7.38000000e+09,\n",
       "          7.39000000e+09,   7.40000000e+09,   7.41000000e+09,\n",
       "          7.42000000e+09,   7.43000000e+09,   7.44000000e+09,\n",
       "          7.45000000e+09,   7.46000000e+09,   7.47000000e+09,\n",
       "          7.48000000e+09,   7.49000000e+09,   7.50000000e+09,\n",
       "          7.51000000e+09,   7.52000000e+09,   7.53000000e+09,\n",
       "          7.54000000e+09,   7.55000000e+09,   7.56000000e+09,\n",
       "          7.57000000e+09,   7.58000000e+09,   7.59000000e+09,\n",
       "          7.60000000e+09,   7.61000000e+09,   7.62000000e+09,\n",
       "          7.63000000e+09,   7.64000000e+09,   7.65000000e+09,\n",
       "          7.66000000e+09,   7.67000000e+09,   7.68000000e+09,\n",
       "          7.69000000e+09,   7.70000000e+09,   7.71000000e+09,\n",
       "          7.72000000e+09,   7.73000000e+09,   7.74000000e+09,\n",
       "          7.75000000e+09,   7.76000000e+09,   7.77000000e+09,\n",
       "          7.78000000e+09,   7.79000000e+09,   7.80000000e+09,\n",
       "          7.81000000e+09,   7.82000000e+09,   7.83000000e+09,\n",
       "          7.84000000e+09,   7.85000000e+09,   7.86000000e+09,\n",
       "          7.87000000e+09,   7.88000000e+09,   7.89000000e+09,\n",
       "          7.90000000e+09,   7.91000000e+09,   7.92000000e+09,\n",
       "          7.93000000e+09,   7.94000000e+09,   7.95000000e+09,\n",
       "          7.96000000e+09,   7.97000000e+09,   7.98000000e+09,\n",
       "          7.99000000e+09,   8.00000000e+09])}"
      ]
     },
     "execution_count": 57,
     "metadata": {},
     "output_type": "execute_result"
    }
   ],
   "source": [
    "result.get_data()"
   ]
  },
  {
   "cell_type": "code",
   "execution_count": 31,
   "metadata": {
    "collapsed": true
   },
   "outputs": [],
   "source": [
    "result.visualize()"
   ]
  },
  {
   "cell_type": "code",
   "execution_count": 33,
   "metadata": {
    "collapsed": true
   },
   "outputs": [],
   "source": [
    "result.save()"
   ]
  },
  {
   "cell_type": "markdown",
   "metadata": {},
   "source": [
    "## Two-tone spectroscopy"
   ]
  },
  {
   "cell_type": "code",
   "execution_count": 10,
   "metadata": {
    "collapsed": false
   },
   "outputs": [],
   "source": [
    "# reload(lib2.Measurement)\n",
    "# reload(lib2.TwoToneSpectroscopyBase)\n",
    "# reload(lib2.TwoToneSpectroscopy)\n",
    "from lib2.TwoToneSpectroscopy import *"
   ]
  },
  {
   "cell_type": "code",
   "execution_count": 16,
   "metadata": {
    "collapsed": false
   },
   "outputs": [],
   "source": [
    "q_awg.output_pulse_sequence(q_pb.add_dc_pulse(100,5).build())"
   ]
  },
  {
   "cell_type": "markdown",
   "metadata": {},
   "source": [
    "#### Qubit spectrum"
   ]
  },
  {
   "cell_type": "code",
   "execution_count": 13,
   "metadata": {
    "collapsed": false
   },
   "outputs": [
    {
     "name": "stdout",
     "output_type": "stream",
     "text": [
      "Detecting a resonator within provided frequency range of the VNA (7040000000.0, 7052500000.0)                    at qubit's sweet spot (1.04 mA)\n",
      "Detected frequency is 7.04713 GHz, at 0.23 mU and 42.82 degrees\n"
     ]
    }
   ],
   "source": [
    "TTS = FluxTwoToneSpectroscopy(\"VI-2tone\", \"Xmon Al BMSTU S444 2\")\n",
    "vna_parameters = {\"bandwidth\":10, \"freq_limits\":(7040e6, 7052.5e6), \"nop\":1, \"power\":-10, \"averages\":1}\n",
    "mw_src_parameters = {\"power\":-5, \"frequency\":1j}\n",
    "mw_src_frequencies = linspace(7e9, 8.5e9, 100)\n",
    "currents = linspace(0.507e-3, 1.57e-3, 100)\n",
    "TTS.setup_control_parameters(vna_parameters, mw_src_parameters, mw_src_frequencies, currents)"
   ]
  },
  {
   "cell_type": "code",
   "execution_count": 14,
   "metadata": {
    "collapsed": false,
    "scrolled": true
   },
   "outputs": [
    {
     "name": "stdout",
     "output_type": "stream",
     "text": [
      "Started at:  2017-04-25 22:07:43.336722\n",
      "Time left: 0 h 27 m 16.94 s, parameter value: 5.070e-04, average cycle time: 0.16 s          "
     ]
    },
    {
     "name": "stderr",
     "output_type": "stream",
     "text": [
      "C:\\ProgramData\\Anaconda3\\lib\\site-packages\\matplotlib\\backend_bases.py:2445: MatplotlibDeprecationWarning: Using default event loop until function specific to this GUI is implemented\n",
      "  warnings.warn(str, mplDeprecation)\n"
     ]
    },
    {
     "name": "stdout",
     "output_type": "stream",
     "text": [
      "Time left: 0 h 20 m 1.3 s, parameter value: 6.895e-04, average cycle time: 0.15 s            "
     ]
    }
   ],
   "source": [
    "result = TTS.launch()"
   ]
  },
  {
   "cell_type": "code",
   "execution_count": 15,
   "metadata": {
    "collapsed": false
   },
   "outputs": [],
   "source": [
    "result.visualize()"
   ]
  },
  {
   "cell_type": "code",
   "execution_count": 91,
   "metadata": {
    "collapsed": false
   },
   "outputs": [],
   "source": [
    "result.save()"
   ]
  },
  {
   "cell_type": "markdown",
   "metadata": {},
   "source": [
    "#### Linewidth from excitation power"
   ]
  },
  {
   "cell_type": "code",
   "execution_count": 16,
   "metadata": {
    "collapsed": false
   },
   "outputs": [
    {
     "name": "stdout",
     "output_type": "stream",
     "text": [
      "Detecting a resonator within provided frequency range of the VNA (7040000000.0, 7052500000.0)                    at current of 1.04 mA\n",
      "Detected frequency is 7.04700 GHz, at 0.20 mU and 44.41 degrees\n"
     ]
    }
   ],
   "source": [
    "PTS = PowerTwoToneSpectroscopy(\"VI-powerscan\", \"Xmon Al BMSTU S444 2\")\n",
    "vna_parameters = {\"bandwidth\":10, \"freq_limits\":(7040e6, 7052.5e6), \"nop\":1, \"power\":-20, \"averages\":1}\n",
    "mw_src_parameters = {\"power\":-1, \"frequency\":-1}\n",
    "mw_src_frequencies = linspace(7.88e9, 7.92e9,200)\n",
    "mw_src_powers = linspace(-20, 15, 41)\n",
    "current = 1.04e-3\n",
    "PTS.setup_control_parameters(vna_parameters, mw_src_parameters, mw_src_frequencies, mw_src_powers, current)\n",
    "PTS._measurement_result.set_phase_units(\"deg\")"
   ]
  },
  {
   "cell_type": "code",
   "execution_count": 17,
   "metadata": {
    "collapsed": false
   },
   "outputs": [
    {
     "name": "stdout",
     "output_type": "stream",
     "text": [
      "Started at:  2017-04-25 22:12:39.898684\n",
      "Time left: 0 h 23 m 17.5 s, parameter value: -2.000e+01, average cycle time: 0.17 s           "
     ]
    },
    {
     "name": "stderr",
     "output_type": "stream",
     "text": [
      "C:\\ProgramData\\Anaconda3\\lib\\site-packages\\matplotlib\\backend_bases.py:2445: MatplotlibDeprecationWarning: Using default event loop until function specific to this GUI is implemented\n",
      "  warnings.warn(str, mplDeprecation)\n"
     ]
    },
    {
     "name": "stdout",
     "output_type": "stream",
     "text": [
      "Time left: 0 h 18 m 41.69 s, parameter value: -1.825e+01, average cycle time: 0.15 s          "
     ]
    }
   ],
   "source": [
    "result = PTS.launch()"
   ]
  },
  {
   "cell_type": "code",
   "execution_count": null,
   "metadata": {
    "collapsed": true
   },
   "outputs": [],
   "source": [
    "vna.set_parameters(PTS._pre_measurement_vna_parameters)"
   ]
  },
  {
   "cell_type": "code",
   "execution_count": 106,
   "metadata": {
    "collapsed": true
   },
   "outputs": [],
   "source": [
    "result.visualize()"
   ]
  },
  {
   "cell_type": "code",
   "execution_count": 103,
   "metadata": {
    "collapsed": true
   },
   "outputs": [],
   "source": [
    "result.save()"
   ]
  },
  {
   "cell_type": "code",
   "execution_count": null,
   "metadata": {
    "collapsed": true
   },
   "outputs": [],
   "source": [
    "mxg.set_frequency(7.898e9)\n",
    "mxg.set_power(-30)\n",
    "mxg.set_output_state(\"OFF\")\n",
    "vna.prepare_for_stb(); vna.sweep_single(); vna.wait_for_stb()\n",
    "ground_state_sdata = vna.get_sdata()\n",
    "\n",
    "mxg.set_output_state(\"ON\")\n",
    "vna.prepare_for_stb(); vna.sweep_single(); vna.wait_for_stb()\n",
    "mixed_state_sdata = vna.get_sdata()"
   ]
  },
  {
   "cell_type": "code",
   "execution_count": null,
   "metadata": {
    "collapsed": false
   },
   "outputs": [],
   "source": [
    "plot(abs(ground_state_sdata))\n",
    "plot(abs(mixed_state_sdata))\n",
    "plot((abs(ground_state_sdata)[10:]+abs(ground_state_sdata)[:-10])/2)"
   ]
  },
  {
   "cell_type": "markdown",
   "metadata": {},
   "source": [
    "#### AC Stark"
   ]
  },
  {
   "cell_type": "code",
   "execution_count": 20,
   "metadata": {
    "collapsed": false
   },
   "outputs": [
    {
     "name": "stdout",
     "output_type": "stream",
     "text": [
      "Detecting a resonator within provided frequency range of the VNA (7040000000.0, 7052500000.0)                    at current of 1.04 mA\n",
      "Detected frequency is 7.04713 GHz, at 0.23 mU and 45.58 degrees\n"
     ]
    }
   ],
   "source": [
    "ASTS = AcStarkTwoToneSpectroscopy(\"VI-ac-stark\", \"Xmon Al BMSTU S444 2\")\n",
    "vna_parameters = {\"bandwidth\":1000, \"freq_limits\":(7040e6, 7052.5e6), \"nop\":1, \"power\":-10, \"averages\":100}\n",
    "mw_src_parameters = {\"power\":-15, \"frequency\":-1}\n",
    "mw_src_frequencies = linspace(7.85e9, 7.9e9, 100)\n",
    "vna_powers = linspace(-30, 0, 31)\n",
    "current = 1.04e-3\n",
    "ASTS.setup_control_parameters(vna_parameters, mw_src_parameters, mw_src_frequencies, vna_powers, current)"
   ]
  },
  {
   "cell_type": "code",
   "execution_count": 21,
   "metadata": {
    "collapsed": false
   },
   "outputs": [
    {
     "name": "stdout",
     "output_type": "stream",
     "text": [
      "Started at:  2017-04-25 22:15:13.034443\n",
      "Time left: 0 h 27 m 19.46 s, parameter value: -3.000e+01, average cycle time: 0.53 s          "
     ]
    },
    {
     "name": "stderr",
     "output_type": "stream",
     "text": [
      "C:\\ProgramData\\Anaconda3\\lib\\site-packages\\matplotlib\\backend_bases.py:2445: MatplotlibDeprecationWarning: Using default event loop until function specific to this GUI is implemented\n",
      "  warnings.warn(str, mplDeprecation)\n"
     ]
    },
    {
     "name": "stdout",
     "output_type": "stream",
     "text": [
      "Time left: 0 h 0 m 0.0 s, parameter value: 0.000e+00, average cycle time: 0.16 s              "
     ]
    }
   ],
   "source": [
    "result = ASTS.launch()"
   ]
  },
  {
   "cell_type": "code",
   "execution_count": 22,
   "metadata": {
    "collapsed": false
   },
   "outputs": [],
   "source": [
    "result.visualize()"
   ]
  },
  {
   "cell_type": "code",
   "execution_count": 23,
   "metadata": {
    "collapsed": true
   },
   "outputs": [],
   "source": [
    "result.save()"
   ]
  },
  {
   "cell_type": "markdown",
   "metadata": {},
   "source": [
    "__________________________"
   ]
  },
  {
   "cell_type": "markdown",
   "metadata": {},
   "source": [
    "# Time-domain measurements"
   ]
  },
  {
   "cell_type": "markdown",
   "metadata": {},
   "source": [
    "#### Check mixers:"
   ]
  },
  {
   "cell_type": "code",
   "execution_count": 175,
   "metadata": {
    "collapsed": false
   },
   "outputs": [],
   "source": [
    "q_lo = mxg\n",
    "q_lo.set_output_state(\"ON\")\n",
    "q_lo.set_power(15)"
   ]
  },
  {
   "cell_type": "code",
   "execution_count": 176,
   "metadata": {
    "collapsed": true
   },
   "outputs": [],
   "source": [
    "vna.set_nop(1)\n",
    "vna.set_center(7.04720e9)\n",
    "vna.sweep_continuous()"
   ]
  },
  {
   "cell_type": "code",
   "execution_count": 178,
   "metadata": {
    "collapsed": true
   },
   "outputs": [],
   "source": [
    "q_awg.output_pulse_sequence(q_pb.add_zero_pulse(20).build())\n",
    "ro_awg.output_pulse_sequence(ro_pb.add_zero_pulse(20).build())"
   ]
  },
  {
   "cell_type": "code",
   "execution_count": 182,
   "metadata": {
    "collapsed": true
   },
   "outputs": [],
   "source": [
    "q_awg.output_pulse_sequence(q_pb.add_sine_pulse(20,0).build())\n",
    "ro_awg.output_pulse_sequence(ro_pb.add_dc_pulse(20,5).build())"
   ]
  },
  {
   "cell_type": "markdown",
   "metadata": {},
   "source": [
    "### Rabi "
   ]
  },
  {
   "cell_type": "code",
   "execution_count": 10,
   "metadata": {
    "collapsed": false
   },
   "outputs": [],
   "source": [
    "# reload(lib2.Measurement)\n",
    "reload(lib2.TimeResolvedMeasurement)\n",
    "from lib2.TimeResolvedMeasurement import DispersiveRabiOscillations"
   ]
  },
  {
   "cell_type": "code",
   "execution_count": 8,
   "metadata": {
    "collapsed": false
   },
   "outputs": [],
   "source": [
    "# Measurement._actual_devices.keys()"
   ]
  },
  {
   "cell_type": "code",
   "execution_count": 11,
   "metadata": {
    "collapsed": false,
    "scrolled": true
   },
   "outputs": [
    {
     "name": "stdout",
     "output_type": "stream",
     "text": [
      "Detecting a resonator within provided frequency range of the VNA (7040000000.0, 7052500000.0)                    at current of 1.04 mA\n",
      "Detected frequency is 7.04704 GHz, at 0.04 mU and 24.85 degrees\n"
     ]
    }
   ],
   "source": [
    "DRO = DispersiveRabiOscillations(\"VI-ac-stark\", \"Xmon Al BMSTU S444 2\",\n",
    "            vna_name=\"vna2\", ro_awg_name=\"awg3\", q_awg_name=\"awg2\", q_lo_name='mxg', current_src_name='yok3')\n",
    "vna_parameters = {\"bandwidth\":1, \"freq_limits\":(7040e6, 7052.5e6), \"nop\":1, \"averages\":1}\n",
    "q_lo_parameters = {}\n",
    "current = 1.04e-3\n",
    "q_frequency = 7.9e9\n",
    "excitation_durations = linspace(1, 1000, 100)\n",
    "rabi_sequence_parameters = {\"awg_trigger_reaction_delay\":400, \"readout_duration\":1000, \"repetition_period\":8000}\n",
    "DRO.setup_control_parameters(vna_parameters, q_lo_parameters, ro_cal, q_cal, \n",
    "                             q_frequency, current, rabi_sequence_parameters, excitation_durations)"
   ]
  },
  {
   "cell_type": "code",
   "execution_count": 12,
   "metadata": {
    "collapsed": false
   },
   "outputs": [
    {
     "name": "stdout",
     "output_type": "stream",
     "text": [
      "Started at:  2017-04-26 09:14:29.125922\n"
     ]
    },
    {
     "name": "stderr",
     "output_type": "stream",
     "text": [
      "C:\\ProgramData\\Anaconda3\\lib\\site-packages\\matplotlib\\backend_bases.py:2445: MatplotlibDeprecationWarning: Using default event loop until function specific to this GUI is implemented\n",
      "  warnings.warn(str, mplDeprecation)\n"
     ]
    },
    {
     "name": "stdout",
     "output_type": "stream",
     "text": [
      "Time left: 0 h 2 m 14.69 s, excitation duration: 3.441e+02 ns       "
     ]
    },
    {
     "data": {
      "text/plain": [
       "<lib2.TimeResolvedMeasurement.DispersiveRabiOscillationsResult at 0x29c8630>"
      ]
     },
     "execution_count": 12,
     "metadata": {},
     "output_type": "execute_result"
    }
   ],
   "source": [
    "DRO.launch()"
   ]
  },
  {
   "cell_type": "code",
   "execution_count": 22,
   "metadata": {
    "collapsed": true
   },
   "outputs": [],
   "source": [
    "result.visualize()"
   ]
  },
  {
   "cell_type": "code",
   "execution_count": null,
   "metadata": {
    "collapsed": true
   },
   "outputs": [],
   "source": []
  },
  {
   "cell_type": "code",
   "execution_count": 48,
   "metadata": {
    "collapsed": false
   },
   "outputs": [
    {
     "ename": "NameError",
     "evalue": "name 'dso' is not defined",
     "output_type": "error",
     "traceback": [
      "\u001b[0;31m---------------------------------------------------------------------------\u001b[0m",
      "\u001b[0;31mNameError\u001b[0m                                 Traceback (most recent call last)",
      "\u001b[0;32m<ipython-input-48-e639f355852c>\u001b[0m in \u001b[0;36m<module>\u001b[0;34m()\u001b[0m\n\u001b[0;32m----> 1\u001b[0;31m \u001b[0mdso\u001b[0m\u001b[1;33m.\u001b[0m\u001b[0mset_time_range\u001b[0m\u001b[1;33m(\u001b[0m\u001b[1;36m10e-6\u001b[0m\u001b[1;33m)\u001b[0m\u001b[1;33m\u001b[0m\u001b[0m\n\u001b[0m\u001b[1;32m      2\u001b[0m \u001b[0mdso\u001b[0m\u001b[1;33m.\u001b[0m\u001b[0mset_time_offset\u001b[0m\u001b[1;33m(\u001b[0m\u001b[1;36m1e-6\u001b[0m\u001b[1;33m)\u001b[0m\u001b[1;33m\u001b[0m\u001b[0m\n\u001b[1;32m      3\u001b[0m \u001b[0mdso\u001b[0m\u001b[1;33m.\u001b[0m\u001b[0mdigitize\u001b[0m\u001b[1;33m(\u001b[0m\u001b[1;33m)\u001b[0m\u001b[1;33m\u001b[0m\u001b[0m\n\u001b[1;32m      4\u001b[0m \u001b[0mtimes\u001b[0m\u001b[1;33m,\u001b[0m \u001b[0mchannel_data\u001b[0m \u001b[1;33m=\u001b[0m \u001b[0mdso\u001b[0m\u001b[1;33m.\u001b[0m\u001b[0mget_data\u001b[0m\u001b[1;33m(\u001b[0m\u001b[0mChannel\u001b[0m\u001b[1;33m.\u001b[0m\u001b[0mONE\u001b[0m\u001b[1;33m,\u001b[0m \u001b[0mChannel\u001b[0m\u001b[1;33m.\u001b[0m\u001b[0mTWO\u001b[0m\u001b[1;33m)\u001b[0m\u001b[1;33m\u001b[0m\u001b[0m\n\u001b[1;32m      5\u001b[0m \u001b[0maxes\u001b[0m \u001b[1;33m=\u001b[0m \u001b[0mflatten\u001b[0m\u001b[1;33m(\u001b[0m\u001b[0mplt\u001b[0m\u001b[1;33m.\u001b[0m\u001b[0msubplots\u001b[0m\u001b[1;33m(\u001b[0m\u001b[1;36m2\u001b[0m\u001b[1;33m,\u001b[0m\u001b[1;36m1\u001b[0m\u001b[1;33m,\u001b[0m \u001b[0msharex\u001b[0m\u001b[1;33m=\u001b[0m\u001b[1;32mTrue\u001b[0m\u001b[1;33m,\u001b[0m \u001b[0mfigsize\u001b[0m\u001b[1;33m=\u001b[0m\u001b[1;33m(\u001b[0m\u001b[1;36m13\u001b[0m\u001b[1;33m,\u001b[0m\u001b[1;36m5\u001b[0m\u001b[1;33m)\u001b[0m\u001b[1;33m)\u001b[0m\u001b[1;33m[\u001b[0m\u001b[1;36m1\u001b[0m\u001b[1;33m]\u001b[0m\u001b[1;33m)\u001b[0m\u001b[1;33m\u001b[0m\u001b[0m\n",
      "\u001b[0;31mNameError\u001b[0m: name 'dso' is not defined"
     ]
    }
   ],
   "source": [
    "dso.set_time_range(10e-6)\n",
    "dso.set_time_offset(1e-6)\n",
    "dso.digitize()\n",
    "times, channel_data = dso.get_data(Channel.ONE, Channel.TWO)\n",
    "axes = flatten(plt.subplots(2,1, sharex=True, figsize=(13,5))[1])\n",
    "colors = [\"C0\", \"C1\", \"C2\", \"C3\"]\n",
    "for idx, ax in enumerate(axes):\n",
    "    ax.plot(times, channel_data[idx], color=colors[idx])\n",
    "    ax.minorticks_on()\n",
    "    ax.grid(which=\"both\")\n",
    "    ax.ticklabel_format(style='sci', axis='x', scilimits=(0,0))\n",
    "plt.tight_layout()"
   ]
  },
  {
   "cell_type": "code",
   "execution_count": 355,
   "metadata": {
    "collapsed": false
   },
   "outputs": [
    {
     "name": "stdout",
     "output_type": "stream",
     "text": [
      "Started at 2017-04-25 10:47:28.472245\n",
      "2.00000% Time: 1500 ns, freq: 7.88500 GHz. Time left: 1 h 30 m 43.77 s    "
     ]
    },
    {
     "name": "stderr",
     "output_type": "stream",
     "text": [
      "C:\\ProgramData\\Anaconda3\\lib\\site-packages\\matplotlib\\backend_bases.py:2445: MatplotlibDeprecationWarning: Using default event loop until function specific to this GUI is implemented\n",
      "  warnings.warn(str, mplDeprecation)\n"
     ]
    },
    {
     "name": "stdout",
     "output_type": "stream",
     "text": [
      "100.00000% Time: 1500 ns, freq: 7.91500 GHz. Time left: 0 h 0 m 0.0 s      "
     ]
    }
   ],
   "source": [
    "q_frequency = 7.9e9\n",
    "excitation_times = linspace(1, 1500, 50)\n",
    "excitation_freqs = linspace(q_frequency-15e6, q_frequency+15e6, 50)#[q_frequency]#\n",
    "\n",
    "start_time = dt.now()\n",
    "print(\"Started at\", start_time)\n",
    "\n",
    "rabi_shevrons = []\n",
    "phases = []\n",
    "for i, excitation_freq in enumerate(excitation_freqs):\n",
    "    q_lo.set_frequency(excitation_freq+if_freq)\n",
    "    z_data = []\n",
    "    for j, t in enumerate(excitation_times):\n",
    "        \n",
    "        generate_pulses_rabi(t)\n",
    "#         sleep(0.5)\n",
    "        vna.avg_clear()\n",
    "        vna.prepare_for_stb()\n",
    "        vna.sweep_single()\n",
    "        vna.wait_for_stb()\n",
    "        s_data = vna.get_sdata()\n",
    "        z_data.append(mean(s_data))\n",
    "        phases.append(median(angle(s_data)))\n",
    "        \n",
    "        part_complete = (i*len(excitation_times)+j+1)/len(excitation_times)/len(excitation_freqs)\n",
    "        elapsed_time = (dt.now() - start_time).total_seconds()\n",
    "        time_left = format_time_delta(elapsed_time/part_complete-elapsed_time)\n",
    "#         cla()\n",
    "#         plot(excitation_times[:j+1], absolute(z_data))\n",
    "#         plt.pause(0.01)\n",
    "        print(\"\\r%.5f%% Time: %d ns, freq: %.5f GHz. Time left: %s    \"%(part_complete*100, t,\n",
    "                excitation_freq/1e9, time_left), end=\"\")\n",
    "    rabi_shevrons.append(z_data)\n",
    "    pcolormesh(absolute(rabi_shevrons).T)\n",
    "    plt.pause(0.01)\n",
    "\n",
    "rabi_shevrons = array(rabi_shevrons)"
   ]
  },
  {
   "cell_type": "code",
   "execution_count": 372,
   "metadata": {
    "collapsed": false
   },
   "outputs": [
    {
     "data": {
      "text/plain": [
       "<matplotlib.collections.QuadMesh at 0x2eb40978>"
      ]
     },
     "execution_count": 372,
     "metadata": {},
     "output_type": "execute_result"
    }
   ],
   "source": [
    "pcolormesh(excitation_freqs, excitation_times, absolute(rabi_shevrons).T)"
   ]
  },
  {
   "cell_type": "code",
   "execution_count": 339,
   "metadata": {
    "collapsed": true
   },
   "outputs": [],
   "source": [
    "def theoretical_rabi(t, A, gamma_R, Omega_R, offset):\n",
    "    return A*exp(-gamma_R*t)*cos(Omega_R*t)+offset"
   ]
  },
  {
   "cell_type": "code",
   "execution_count": 340,
   "metadata": {
    "collapsed": false
   },
   "outputs": [
    {
     "data": {
      "text/plain": [
       "array([ -4.66659262e-05,   5.67426473e-04,   4.72207804e-02,\n",
       "         1.43297208e-04])"
      ]
     },
     "execution_count": 340,
     "metadata": {},
     "output_type": "execute_result"
    }
   ],
   "source": [
    "opt_params = curve_fit(theoretical_rabi, excitation_times[:], abs(rabi_shevrons)[0][:], (.1, 1.5e-3, 5e-2, -0.96))[0]\n",
    "opt_params"
   ]
  },
  {
   "cell_type": "code",
   "execution_count": 371,
   "metadata": {
    "collapsed": false
   },
   "outputs": [
    {
     "data": {
      "text/plain": [
       "<matplotlib.text.Annotation at 0x2e583e10>"
      ]
     },
     "execution_count": 371,
     "metadata": {},
     "output_type": "execute_result"
    }
   ],
   "source": [
    "plot(excitation_times, abs(rabi_shevrons)[0])\n",
    "plot(excitation_times, theoretical_rabi(excitation_times, *opt_params))\n",
    "xlabel(\"Excitation time [ns]\")\n",
    "ylabel(\"VNA amplitude [a.u.]\")\n",
    "bbox_props = dict(boxstyle=\"round\", fc=\"white\", ec=\"black\", lw=1)\n",
    "annotate(\"$T_R=%.2f\\ \\mu$s\\n$\\Omega_R/2\\pi = %.2f$ MHz\"%(1/opt_params[1]/1e3, opt_params[2]*1e3/2/pi),\n",
    "             (mean(gca().get_xlim()),  abs(rabi_shevrons)[0][0]), bbox=bbox_props, ha=\"center\")"
   ]
  },
  {
   "cell_type": "code",
   "execution_count": 360,
   "metadata": {
    "collapsed": true
   },
   "outputs": [],
   "source": [
    "from scipy.fftpack import fft, fftshift, fftfreq"
   ]
  },
  {
   "cell_type": "code",
   "execution_count": 384,
   "metadata": {
    "collapsed": false
   },
   "outputs": [
    {
     "data": {
      "text/plain": [
       "<matplotlib.collections.QuadMesh at 0x308ee160>"
      ]
     },
     "execution_count": 384,
     "metadata": {},
     "output_type": "execute_result"
    }
   ],
   "source": [
    "start = 33\n",
    "freqs = fftshift(fftfreq(len(excitation_times), excitation_times[1]-excitation_times[0]))[start:]\n",
    "pcolormesh(freqs*1e3, excitation_freqs, fftshift(abs(fft(abs(rabi_shevrons))), axes=1)[:,start:])\n"
   ]
  },
  {
   "cell_type": "code",
   "execution_count": 298,
   "metadata": {
    "collapsed": true
   },
   "outputs": [],
   "source": [
    "import pickle"
   ]
  },
  {
   "cell_type": "code",
   "execution_count": 357,
   "metadata": {
    "collapsed": false
   },
   "outputs": [],
   "source": [
    "with open(\"data/Xmon Al BMSTU S444 2/rabi-higher-shevrons.pkl\", \"wb\") as f:\n",
    "    pickle.dump((excitation_freqs, excitation_times, rabi_shevrons), f)"
   ]
  },
  {
   "cell_type": "markdown",
   "metadata": {},
   "source": [
    "### Decay"
   ]
  },
  {
   "cell_type": "code",
   "execution_count": 304,
   "metadata": {
    "collapsed": true
   },
   "outputs": [],
   "source": [
    "t_pi = 206"
   ]
  },
  {
   "cell_type": "code",
   "execution_count": 306,
   "metadata": {
    "collapsed": true
   },
   "outputs": [],
   "source": [
    "delay = 5000\n",
    "def generate_pulses(delay):\n",
    "    q_pb.add_zero_pulse(400).add_sine_pulse(t_pi, 5).add_zero_pulse(1000).add_zero_pulse(10000-1000-t_pi-400)\n",
    "    q_awg.output_pulse_sequence(q_pb.build())\n",
    "\n",
    "    ro_pb.add_zero_pulse(t_pi+delay).add_dc_pulse(1000,5).add_zero_pulse(1)\n",
    "    ro_awg.output_pulse_sequence(ro_pb.build())\n",
    "generate_pulses(delay)"
   ]
  },
  {
   "cell_type": "code",
   "execution_count": 308,
   "metadata": {
    "collapsed": true
   },
   "outputs": [],
   "source": [
    "dso.set_time_range(10e-6)\n",
    "dso.set_time_offset(1e-6)\n",
    "dso.digitize()\n",
    "times, channel_data = dso.get_data(Channel.ONE, Channel.TWO)\n",
    "axes = flatten(plt.subplots(2,1, sharex=True, figsize=(13,5))[1])\n",
    "colors = [\"C0\", \"C1\", \"C2\", \"C3\"]\n",
    "for idx, ax in enumerate(axes):\n",
    "    ax.plot(times, channel_data[idx], color=colors[idx])\n",
    "    ax.minorticks_on()\n",
    "    ax.grid(which=\"both\")\n",
    "    ax.ticklabel_format(style='sci', axis='x', scilimits=(0,0))\n",
    "plt.tight_layout()"
   ]
  },
  {
   "cell_type": "code",
   "execution_count": 310,
   "metadata": {
    "collapsed": false
   },
   "outputs": [
    {
     "name": "stdout",
     "output_type": "stream",
     "text": [
      "Started at 2017-04-24 19:42:56.095042\n"
     ]
    },
    {
     "name": "stderr",
     "output_type": "stream",
     "text": [
      "C:\\ProgramData\\Anaconda3\\lib\\site-packages\\matplotlib\\backend_bases.py:2445: MatplotlibDeprecationWarning: Using default event loop until function specific to this GUI is implemented\n",
      "  warnings.warn(str, mplDeprecation)\n"
     ]
    },
    {
     "name": "stdout",
     "output_type": "stream",
     "text": [
      "100.00000% Time: 7500 ns, freq: 7.89874 GHz. Time left: 0 h 0 m 0.0 s     "
     ]
    }
   ],
   "source": [
    "delays = linspace(0, 7500, 75)\n",
    "\n",
    "start_time = dt.now()\n",
    "print(\"Started at\", start_time)\n",
    "\n",
    "z_data = []\n",
    "for j, delay in enumerate(delays):\n",
    "    \n",
    "    generate_pulses(delay)\n",
    "    \n",
    "    vna.avg_clear()\n",
    "    vna.prepare_for_stb()\n",
    "    vna.sweep_single()\n",
    "    vna.wait_for_stb()\n",
    "    z_data.append(median(abs(vna.get_sdata())))\n",
    "\n",
    "    part_complete = (j+1)/len(delays)\n",
    "    elapsed_time = (dt.now() - start_time).total_seconds()\n",
    "    time_left = format_time_delta(elapsed_time/part_complete-elapsed_time)\n",
    "    plt.cla()\n",
    "    plot(delays[:j+1],z_data)\n",
    "    plt.pause(0.01)\n",
    "    print(\"\\r%.5f%% Time: %d ns, freq: %.5f GHz. Time left: %s    \"%(part_complete*100, delay,\n",
    "            excitation_freq/1e9, time_left), end=\"\")\n",
    "\n",
    "z_data = array(z_data)"
   ]
  },
  {
   "cell_type": "code",
   "execution_count": 311,
   "metadata": {
    "collapsed": true
   },
   "outputs": [],
   "source": [
    "def theoretical_decay(t, gamma, A, offset):\n",
    "    return A*exp(-gamma*t) + offset"
   ]
  },
  {
   "cell_type": "code",
   "execution_count": 322,
   "metadata": {
    "collapsed": true
   },
   "outputs": [],
   "source": [
    "opt_params = curve_fit(theoretical_decay, delays[:], z_data[:], p0=(0.001, 1, -0.8))[0]"
   ]
  },
  {
   "cell_type": "code",
   "execution_count": 323,
   "metadata": {
    "collapsed": false
   },
   "outputs": [
    {
     "data": {
      "text/plain": [
       "<matplotlib.text.Annotation at 0xe53f438>"
      ]
     },
     "execution_count": 323,
     "metadata": {},
     "output_type": "execute_result"
    }
   ],
   "source": [
    "plot(delays, z_data)\n",
    "plot(delays, theoretical_decay(delays, *opt_params))\n",
    "xlabel(\"Readout delay [ns]\")\n",
    "ylabel(\"VNA amplitude [a.u.]\")\n",
    "bbox_props = dict(boxstyle=\"round\", fc=\"white\", ec=\"black\", lw=1)\n",
    "annotate(\"$T_1=%.2f\\ \\mu$s\"%(1/opt_params[0]/1e3), (mean(gca().get_xlim()), z_data[0]*1.01), bbox=bbox_props, ha=\"center\")"
   ]
  },
  {
   "cell_type": "code",
   "execution_count": 314,
   "metadata": {
    "collapsed": true
   },
   "outputs": [],
   "source": [
    "with open(\"./data/Xmon Al BMSTU S444 2/decay-VI\", \"w+b\") as f:\n",
    "    pickle.dump((delays, z_data), f)"
   ]
  },
  {
   "cell_type": "code",
   "execution_count": 324,
   "metadata": {
    "collapsed": true
   },
   "outputs": [],
   "source": [
    "q_lo.visa_instr.close()"
   ]
  },
  {
   "cell_type": "markdown",
   "metadata": {},
   "source": [
    "## Loading"
   ]
  },
  {
   "cell_type": "code",
   "execution_count": null,
   "metadata": {
    "collapsed": false
   },
   "outputs": [],
   "source": [
    "result = MeasurementResult.load(\"Xmon Al BMSTU S444 2\", \"VI-powerscan\")"
   ]
  },
  {
   "cell_type": "code",
   "execution_count": null,
   "metadata": {
    "collapsed": true
   },
   "outputs": [],
   "source": [
    "result.set_phase_units(\"deg\")"
   ]
  },
  {
   "cell_type": "code",
   "execution_count": null,
   "metadata": {
    "collapsed": false
   },
   "outputs": [],
   "source": [
    "result.visualize()"
   ]
  },
  {
   "cell_type": "markdown",
   "metadata": {},
   "source": [
    "## Measurement class testing"
   ]
  },
  {
   "cell_type": "code",
   "execution_count": 392,
   "metadata": {
    "collapsed": true
   },
   "outputs": [],
   "source": [
    "from importlib import reload"
   ]
  },
  {
   "cell_type": "code",
   "execution_count": 405,
   "metadata": {
    "collapsed": false
   },
   "outputs": [],
   "source": [
    "reload(lib2.Measurement)\n",
    "from lib2.Measurement import *"
   ]
  },
  {
   "cell_type": "code",
   "execution_count": 408,
   "metadata": {
    "collapsed": false
   },
   "outputs": [
    {
     "name": "stdout",
     "output_type": "stream",
     "text": [
      "The device vna2 is detected as PNA-L2\n"
     ]
    }
   ],
   "source": [
    "meas = Measurement(\"TEST\", \"TEST\", ['vna2'])"
   ]
  },
  {
   "cell_type": "code",
   "execution_count": 409,
   "metadata": {
    "collapsed": false
   },
   "outputs": [
    {
     "data": {
      "text/plain": [
       "<drivers.Agilent_PNA_L.Agilent_PNA_L at 0x2db3cbe0>"
      ]
     },
     "execution_count": 409,
     "metadata": {},
     "output_type": "execute_result"
    }
   ],
   "source": [
    "meas._actual_devices[\"vna2\"]"
   ]
  },
  {
   "cell_type": "code",
   "execution_count": 75,
   "metadata": {
    "collapsed": false
   },
   "outputs": [],
   "source": [
    "meas._mxg.visa_instr.close()"
   ]
  },
  {
   "cell_type": "code",
   "execution_count": 12,
   "metadata": {
    "collapsed": false
   },
   "outputs": [
    {
     "data": {
      "text/plain": [
       "0.0"
      ]
     },
     "execution_count": 12,
     "metadata": {},
     "output_type": "execute_result"
    }
   ],
   "source": [
    "meas._vna2.get_power()"
   ]
  },
  {
   "cell_type": "code",
   "execution_count": 410,
   "metadata": {
    "collapsed": false
   },
   "outputs": [],
   "source": [
    "q_lo.visa_instr.close()"
   ]
  },
  {
   "cell_type": "code",
   "execution_count": 59,
   "metadata": {
    "collapsed": false
   },
   "outputs": [
    {
     "ename": "NameError",
     "evalue": "name 'Agilent_EXA' is not defined",
     "output_type": "error",
     "traceback": [
      "\u001b[0;31m---------------------------------------------------------------------------\u001b[0m",
      "\u001b[0;31mNameError\u001b[0m                                 Traceback (most recent call last)",
      "\u001b[0;32m<ipython-input-59-c5e41062a008>\u001b[0m in \u001b[0;36m<module>\u001b[0;34m()\u001b[0m\n\u001b[0;32m----> 1\u001b[0;31m \u001b[0mAgilent_EXA\u001b[0m\u001b[1;33m\u001b[0m\u001b[0m\n\u001b[0m",
      "\u001b[0;31mNameError\u001b[0m: name 'Agilent_EXA' is not defined"
     ]
    }
   ],
   "source": [
    "Agilent_EXA"
   ]
  },
  {
   "cell_type": "code",
   "execution_count": null,
   "metadata": {
    "collapsed": false
   },
   "outputs": [],
   "source": [
    "from drivers import Agilent_PNA_L"
   ]
  },
  {
   "cell_type": "code",
   "execution_count": 57,
   "metadata": {
    "collapsed": false
   },
   "outputs": [
    {
     "ename": "TypeError",
     "evalue": "__repr__ returned non-string (type TCPIPInstrument)",
     "output_type": "error",
     "traceback": [
      "\u001b[0;31m---------------------------------------------------------------------------\u001b[0m",
      "\u001b[0;31mTypeError\u001b[0m                                 Traceback (most recent call last)",
      "\u001b[0;32mC:\\ProgramData\\Anaconda3\\lib\\site-packages\\IPython\\core\\formatters.py\u001b[0m in \u001b[0;36m__call__\u001b[0;34m(self, obj)\u001b[0m\n\u001b[1;32m    670\u001b[0m                 \u001b[0mtype_pprinters\u001b[0m\u001b[1;33m=\u001b[0m\u001b[0mself\u001b[0m\u001b[1;33m.\u001b[0m\u001b[0mtype_printers\u001b[0m\u001b[1;33m,\u001b[0m\u001b[1;33m\u001b[0m\u001b[0m\n\u001b[1;32m    671\u001b[0m                 deferred_pprinters=self.deferred_printers)\n\u001b[0;32m--> 672\u001b[0;31m             \u001b[0mprinter\u001b[0m\u001b[1;33m.\u001b[0m\u001b[0mpretty\u001b[0m\u001b[1;33m(\u001b[0m\u001b[0mobj\u001b[0m\u001b[1;33m)\u001b[0m\u001b[1;33m\u001b[0m\u001b[0m\n\u001b[0m\u001b[1;32m    673\u001b[0m             \u001b[0mprinter\u001b[0m\u001b[1;33m.\u001b[0m\u001b[0mflush\u001b[0m\u001b[1;33m(\u001b[0m\u001b[1;33m)\u001b[0m\u001b[1;33m\u001b[0m\u001b[0m\n\u001b[1;32m    674\u001b[0m             \u001b[1;32mreturn\u001b[0m \u001b[0mstream\u001b[0m\u001b[1;33m.\u001b[0m\u001b[0mgetvalue\u001b[0m\u001b[1;33m(\u001b[0m\u001b[1;33m)\u001b[0m\u001b[1;33m\u001b[0m\u001b[0m\n",
      "\u001b[0;32mC:\\ProgramData\\Anaconda3\\lib\\site-packages\\IPython\\lib\\pretty.py\u001b[0m in \u001b[0;36mpretty\u001b[0;34m(self, obj)\u001b[0m\n\u001b[1;32m    381\u001b[0m                             \u001b[1;32mif\u001b[0m \u001b[0mcallable\u001b[0m\u001b[1;33m(\u001b[0m\u001b[0mmeth\u001b[0m\u001b[1;33m)\u001b[0m\u001b[1;33m:\u001b[0m\u001b[1;33m\u001b[0m\u001b[0m\n\u001b[1;32m    382\u001b[0m                                 \u001b[1;32mreturn\u001b[0m \u001b[0mmeth\u001b[0m\u001b[1;33m(\u001b[0m\u001b[0mobj\u001b[0m\u001b[1;33m,\u001b[0m \u001b[0mself\u001b[0m\u001b[1;33m,\u001b[0m \u001b[0mcycle\u001b[0m\u001b[1;33m)\u001b[0m\u001b[1;33m\u001b[0m\u001b[0m\n\u001b[0;32m--> 383\u001b[0;31m             \u001b[1;32mreturn\u001b[0m \u001b[0m_default_pprint\u001b[0m\u001b[1;33m(\u001b[0m\u001b[0mobj\u001b[0m\u001b[1;33m,\u001b[0m \u001b[0mself\u001b[0m\u001b[1;33m,\u001b[0m \u001b[0mcycle\u001b[0m\u001b[1;33m)\u001b[0m\u001b[1;33m\u001b[0m\u001b[0m\n\u001b[0m\u001b[1;32m    384\u001b[0m         \u001b[1;32mfinally\u001b[0m\u001b[1;33m:\u001b[0m\u001b[1;33m\u001b[0m\u001b[0m\n\u001b[1;32m    385\u001b[0m             \u001b[0mself\u001b[0m\u001b[1;33m.\u001b[0m\u001b[0mend_group\u001b[0m\u001b[1;33m(\u001b[0m\u001b[1;33m)\u001b[0m\u001b[1;33m\u001b[0m\u001b[0m\n",
      "\u001b[0;32mC:\\ProgramData\\Anaconda3\\lib\\site-packages\\IPython\\lib\\pretty.py\u001b[0m in \u001b[0;36m_default_pprint\u001b[0;34m(obj, p, cycle)\u001b[0m\n\u001b[1;32m    501\u001b[0m     \u001b[1;32mif\u001b[0m \u001b[0m_safe_getattr\u001b[0m\u001b[1;33m(\u001b[0m\u001b[0mklass\u001b[0m\u001b[1;33m,\u001b[0m \u001b[1;34m'__repr__'\u001b[0m\u001b[1;33m,\u001b[0m \u001b[1;32mNone\u001b[0m\u001b[1;33m)\u001b[0m \u001b[1;32mnot\u001b[0m \u001b[1;32min\u001b[0m \u001b[0m_baseclass_reprs\u001b[0m\u001b[1;33m:\u001b[0m\u001b[1;33m\u001b[0m\u001b[0m\n\u001b[1;32m    502\u001b[0m         \u001b[1;31m# A user-provided repr. Find newlines and replace them with p.break_()\u001b[0m\u001b[1;33m\u001b[0m\u001b[1;33m\u001b[0m\u001b[0m\n\u001b[0;32m--> 503\u001b[0;31m         \u001b[0m_repr_pprint\u001b[0m\u001b[1;33m(\u001b[0m\u001b[0mobj\u001b[0m\u001b[1;33m,\u001b[0m \u001b[0mp\u001b[0m\u001b[1;33m,\u001b[0m \u001b[0mcycle\u001b[0m\u001b[1;33m)\u001b[0m\u001b[1;33m\u001b[0m\u001b[0m\n\u001b[0m\u001b[1;32m    504\u001b[0m         \u001b[1;32mreturn\u001b[0m\u001b[1;33m\u001b[0m\u001b[0m\n\u001b[1;32m    505\u001b[0m     \u001b[0mp\u001b[0m\u001b[1;33m.\u001b[0m\u001b[0mbegin_group\u001b[0m\u001b[1;33m(\u001b[0m\u001b[1;36m1\u001b[0m\u001b[1;33m,\u001b[0m \u001b[1;34m'<'\u001b[0m\u001b[1;33m)\u001b[0m\u001b[1;33m\u001b[0m\u001b[0m\n",
      "\u001b[0;32mC:\\ProgramData\\Anaconda3\\lib\\site-packages\\IPython\\lib\\pretty.py\u001b[0m in \u001b[0;36m_repr_pprint\u001b[0;34m(obj, p, cycle)\u001b[0m\n\u001b[1;32m    699\u001b[0m     \u001b[1;34m\"\"\"A pprint that just redirects to the normal repr function.\"\"\"\u001b[0m\u001b[1;33m\u001b[0m\u001b[0m\n\u001b[1;32m    700\u001b[0m     \u001b[1;31m# Find newlines and replace them with p.break_()\u001b[0m\u001b[1;33m\u001b[0m\u001b[1;33m\u001b[0m\u001b[0m\n\u001b[0;32m--> 701\u001b[0;31m     \u001b[0moutput\u001b[0m \u001b[1;33m=\u001b[0m \u001b[0mrepr\u001b[0m\u001b[1;33m(\u001b[0m\u001b[0mobj\u001b[0m\u001b[1;33m)\u001b[0m\u001b[1;33m\u001b[0m\u001b[0m\n\u001b[0m\u001b[1;32m    702\u001b[0m     \u001b[1;32mfor\u001b[0m \u001b[0midx\u001b[0m\u001b[1;33m,\u001b[0m\u001b[0moutput_line\u001b[0m \u001b[1;32min\u001b[0m \u001b[0menumerate\u001b[0m\u001b[1;33m(\u001b[0m\u001b[0moutput\u001b[0m\u001b[1;33m.\u001b[0m\u001b[0msplitlines\u001b[0m\u001b[1;33m(\u001b[0m\u001b[1;33m)\u001b[0m\u001b[1;33m)\u001b[0m\u001b[1;33m:\u001b[0m\u001b[1;33m\u001b[0m\u001b[0m\n\u001b[1;32m    703\u001b[0m         \u001b[1;32mif\u001b[0m \u001b[0midx\u001b[0m\u001b[1;33m:\u001b[0m\u001b[1;33m\u001b[0m\u001b[0m\n",
      "\u001b[0;31mTypeError\u001b[0m: __repr__ returned non-string (type TCPIPInstrument)"
     ]
    }
   ],
   "source": [
    "mxg"
   ]
  },
  {
   "cell_type": "code",
   "execution_count": null,
   "metadata": {
    "collapsed": true
   },
   "outputs": [],
   "source": [
    "import drivers"
   ]
  },
  {
   "cell_type": "code",
   "execution_count": null,
   "metadata": {
    "collapsed": false
   },
   "outputs": [],
   "source": [
    "drivers."
   ]
  },
  {
   "cell_type": "code",
   "execution_count": null,
   "metadata": {
    "collapsed": false
   },
   "outputs": [],
   "source": [
    "from drivers import *"
   ]
  },
  {
   "cell_type": "code",
   "execution_count": null,
   "metadata": {
    "collapsed": false
   },
   "outputs": [],
   "source": [
    "ю"
   ]
  },
  {
   "cell_type": "code",
   "execution_count": null,
   "metadata": {
    "collapsed": false
   },
   "outputs": [],
   "source": [
    "./"
   ]
  },
  {
   "cell_type": "code",
   "execution_count": null,
   "metadata": {
    "collapsed": true
   },
   "outputs": [],
   "source": [
    "from drivers import *"
   ]
  },
  {
   "cell_type": "code",
   "execution_count": null,
   "metadata": {
    "collapsed": true
   },
   "outputs": [],
   "source": []
  },
  {
   "cell_type": "code",
   "execution_count": 391,
   "metadata": {
    "collapsed": false
   },
   "outputs": [
    {
     "ename": "AttributeError",
     "evalue": "module 'lib2' has no attribute 'Measurement'",
     "output_type": "error",
     "traceback": [
      "\u001b[0;31m---------------------------------------------------------------------------\u001b[0m",
      "\u001b[0;31mAttributeError\u001b[0m                            Traceback (most recent call last)",
      "\u001b[0;32m<ipython-input-391-55a79e6081e9>\u001b[0m in \u001b[0;36m<module>\u001b[0;34m()\u001b[0m\n\u001b[0;32m----> 1\u001b[0;31m \u001b[0mreload\u001b[0m\u001b[1;33m(\u001b[0m\u001b[0mlib2\u001b[0m\u001b[1;33m.\u001b[0m\u001b[0mMeasurement\u001b[0m\u001b[1;33m)\u001b[0m\u001b[1;33m\u001b[0m\u001b[0m\n\u001b[0m",
      "\u001b[0;31mAttributeError\u001b[0m: module 'lib2' has no attribute 'Measurement'"
     ]
    }
   ],
   "source": [
    "reload(lib2.Measurement)"
   ]
  },
  {
   "cell_type": "code",
   "execution_count": null,
   "metadata": {
    "collapsed": false
   },
   "outputs": [],
   "source": [
    "Agilent_EXA"
   ]
  },
  {
   "cell_type": "code",
   "execution_count": 386,
   "metadata": {
    "collapsed": true
   },
   "outputs": [],
   "source": [
    "import pyvisa"
   ]
  },
  {
   "cell_type": "code",
   "execution_count": 387,
   "metadata": {
    "collapsed": false
   },
   "outputs": [],
   "source": [
    "rm = pyvisa.ResourceManager()\n",
    "temp_list = list(rm.list_resources_info().values())\n",
    "\n",
    "devs_info = \\\n",
    "                [(list(temp_list)[i])[3:5] for i in range(len(temp_list))]"
   ]
  },
  {
   "cell_type": "code",
   "execution_count": 389,
   "metadata": {
    "collapsed": false
   },
   "outputs": [
    {
     "data": {
      "text/plain": [
       "('TCPIP0::10.55.70.46::hislip0::INSTR', 'PNA-L1')"
      ]
     },
     "execution_count": 389,
     "metadata": {},
     "output_type": "execute_result"
    }
   ],
   "source": [
    "devs_info[1]"
   ]
  },
  {
   "cell_type": "code",
   "execution_count": 13,
   "metadata": {
    "collapsed": false
   },
   "outputs": [
    {
     "ename": "NameError",
     "evalue": "name 'result' is not defined",
     "output_type": "error",
     "traceback": [
      "\u001b[0;31m---------------------------------------------------------------------------\u001b[0m",
      "\u001b[0;31mNameError\u001b[0m                                 Traceback (most recent call last)",
      "\u001b[0;32m<ipython-input-13-a5b1e83cd027>\u001b[0m in \u001b[0;36m<module>\u001b[0;34m()\u001b[0m\n\u001b[0;32m----> 1\u001b[0;31m \u001b[0mresult\u001b[0m\u001b[1;33m\u001b[0m\u001b[0m\n\u001b[0m",
      "\u001b[0;31mNameError\u001b[0m: name 'result' is not defined"
     ]
    }
   ],
   "source": []
  },
  {
   "cell_type": "code",
   "execution_count": 73,
   "metadata": {
    "collapsed": false
   },
   "outputs": [
    {
     "data": {
      "text/plain": [
       "<matplotlib.text.Text at 0xe48b0f0>"
      ]
     },
     "execution_count": 73,
     "metadata": {},
     "output_type": "execute_result"
    }
   ],
   "source": [
    "fig = plt.figure(figsize = (18,6))\n",
    "ax_trace = plt.subplot2grid((4, 8), (0, 0), colspan = 4, rowspan = 1)\n",
    "ax_map = plt.subplot2grid((4, 8), (1, 0), colspan = 4, rowspan = 3)\n",
    "ax_peaks = plt.subplot2grid((4, 8), (0, 4), colspan = 4, rowspan = 4)\n",
    "plt.tight_layout()\n",
    "cax, kw = colorbar.make_axes(ax_map, fraction=0.05)\n",
    "cax.set_title(\"$P$,dBm\")\n",
    "\n"
   ]
  },
  {
   "cell_type": "code",
   "execution_count": 77,
   "metadata": {
    "collapsed": false
   },
   "outputs": [],
   "source": [
    "peaks = []\n",
    "for i in range(-7,9,2):\n",
    "    peaks.append(i)"
   ]
  },
  {
   "cell_type": "code",
   "execution_count": 78,
   "metadata": {
    "collapsed": false
   },
   "outputs": [
    {
     "data": {
      "text/plain": [
       "[-7, -5, -3, -1, 1, 3, 5, 7]"
      ]
     },
     "execution_count": 78,
     "metadata": {},
     "output_type": "execute_result"
    }
   ],
   "source": [
    "peaks"
   ]
  },
  {
   "cell_type": "code",
   "execution_count": 79,
   "metadata": {
    "collapsed": true
   },
   "outputs": [],
   "source": [
    "a = [1,2,3,4,5,6,7,8,9,0]"
   ]
  },
  {
   "cell_type": "code",
   "execution_count": 83,
   "metadata": {
    "collapsed": false
   },
   "outputs": [
    {
     "data": {
      "text/plain": [
       "[4, 6, 8, 0, 2, 4, 6, 8]"
      ]
     },
     "execution_count": 83,
     "metadata": {},
     "output_type": "execute_result"
    }
   ],
   "source": [
    "[a[i] for i in peaks]"
   ]
  },
  {
   "cell_type": "code",
   "execution_count": 96,
   "metadata": {
    "collapsed": true
   },
   "outputs": [],
   "source": [
    "a = array([[i+j for i in range(10)] for j in range(10)])"
   ]
  },
  {
   "cell_type": "code",
   "execution_count": 97,
   "metadata": {
    "collapsed": false
   },
   "outputs": [
    {
     "data": {
      "text/plain": [
       "array([ 1,  2,  3,  4,  5,  6,  7,  8,  9,  1,  2,  3,  4,  5,  6,  7,  8,\n",
       "        9, 10,  2,  3,  4,  5,  6,  7,  8,  9, 10, 11,  3,  4,  5,  6,  7,\n",
       "        8,  9, 10, 11, 12,  4,  5,  6,  7,  8,  9, 10, 11, 12, 13,  5,  6,\n",
       "        7,  8,  9, 10, 11, 12, 13, 14,  6,  7,  8,  9, 10, 11, 12, 13, 14,\n",
       "       15,  7,  8,  9, 10, 11, 12, 13, 14, 15, 16,  8,  9, 10, 11, 12, 13,\n",
       "       14, 15, 16, 17,  9, 10, 11, 12, 13, 14, 15, 16, 17, 18])"
      ]
     },
     "execution_count": 97,
     "metadata": {},
     "output_type": "execute_result"
    }
   ],
   "source": [
    "a[nonzero(a)]"
   ]
  },
  {
   "cell_type": "code",
   "execution_count": 99,
   "metadata": {
    "collapsed": false
   },
   "outputs": [
    {
     "data": {
      "text/plain": [
       "array([ 1,  2,  3,  4,  5,  6,  7,  8,  9,  1,  2,  3,  4,  5,  6,  7,  8,\n",
       "        9, 10,  2,  3,  4,  5,  6,  7,  8,  9, 10, 11,  3,  4,  5,  6,  7,\n",
       "        8,  9, 10, 11, 12,  4,  5,  6,  7,  8,  9, 10, 11, 12, 13,  5,  6,\n",
       "        7,  8,  9, 10, 11, 12, 13, 14,  6,  7,  8,  9, 10, 11, 12, 13, 14,\n",
       "       15,  7,  8,  9, 10, 11, 12, 13, 14, 15, 16,  8,  9, 10, 11, 12, 13,\n",
       "       14, 15, 16, 17,  9, 10, 11, 12, 13, 14, 15, 16, 17, 18])"
      ]
     },
     "execution_count": 99,
     "metadata": {},
     "output_type": "execute_result"
    }
   ],
   "source": [
    "a[nonzero(a)]"
   ]
  },
  {
   "cell_type": "code",
   "execution_count": null,
   "metadata": {
    "collapsed": true
   },
   "outputs": [],
   "source": []
  }
 ],
 "metadata": {
  "kernelspec": {
   "display_name": "Python 3",
   "language": "python",
   "name": "python3"
  },
  "language_info": {
   "codemirror_mode": {
    "name": "ipython",
    "version": 3
   },
   "file_extension": ".py",
   "mimetype": "text/x-python",
   "name": "python",
   "nbconvert_exporter": "python",
   "pygments_lexer": "ipython3",
   "version": "3.6.0"
  }
 },
 "nbformat": 4,
 "nbformat_minor": 2
}
