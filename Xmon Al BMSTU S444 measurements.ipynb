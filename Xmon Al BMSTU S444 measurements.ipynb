{
 "cells": [
  {
   "cell_type": "code",
   "execution_count": 1,
   "metadata": {
    "collapsed": false,
    "scrolled": true
   },
   "outputs": [
    {
     "name": "stdout",
     "output_type": "stream",
     "text": [
      "Populating the interactive namespace from numpy and matplotlib\n"
     ]
    }
   ],
   "source": [
    "%pylab qt5"
   ]
  },
  {
   "cell_type": "code",
   "execution_count": 2,
   "metadata": {
    "collapsed": true
   },
   "outputs": [],
   "source": [
    "mpl.rcParams['grid.color'] = 'k'\n",
    "mpl.rcParams['grid.linestyle'] = ':'\n",
    "mpl.rcParams['grid.linewidth'] = 0.5"
   ]
  },
  {
   "cell_type": "code",
   "execution_count": 3,
   "metadata": {
    "collapsed": true
   },
   "outputs": [],
   "source": [
    "warnings.filterwarnings(\"ignore\",\".*GUI is implemented.*\")"
   ]
  },
  {
   "cell_type": "code",
   "execution_count": 4,
   "metadata": {
    "collapsed": true
   },
   "outputs": [],
   "source": [
    "from importlib import reload\n",
    "import lib2"
   ]
  },
  {
   "cell_type": "code",
   "execution_count": 5,
   "metadata": {
    "collapsed": true
   },
   "outputs": [],
   "source": [
    "from time import sleep"
   ]
  },
  {
   "cell_type": "code",
   "execution_count": 6,
   "metadata": {
    "collapsed": true
   },
   "outputs": [],
   "source": [
    "from lib import data_management as dm"
   ]
  },
  {
   "cell_type": "code",
   "execution_count": 7,
   "metadata": {
    "collapsed": true
   },
   "outputs": [],
   "source": [
    "import drivers"
   ]
  },
  {
   "cell_type": "code",
   "execution_count": 8,
   "metadata": {
    "collapsed": false
   },
   "outputs": [],
   "source": [
    "# reload(drivers.KeysightAWG)\n",
    "from drivers.KeysightAWG import *"
   ]
  },
  {
   "cell_type": "code",
   "execution_count": 9,
   "metadata": {
    "collapsed": false
   },
   "outputs": [],
   "source": [
    "if_freq = 50e6\n",
    "\n",
    "calibrations = (dm.load_IQMX_calibration_database(\"TEST\", -6))\n",
    "ro_cal = calibrations.get(frozenset(dict(lo_power=0, ssb_power=-30, lo_frequency=7.047e9, \n",
    "                                      if_frequency=0, waveform_resolution=1).items()))\n",
    "ro_pb = PulseBuilder(ro_cal)\n",
    "\n",
    "calibrations = (dm.load_IQMX_calibration_database(\"TESTQ\", -6))\n",
    "q_cal = calibrations.get(frozenset(dict(lo_power=15, ssb_power=-10, lo_frequency=7.9e9+if_freq, \n",
    "                                      if_frequency=if_freq, waveform_resolution=0.1).items()))\n",
    "q_pb = PulseBuilder(q_cal)"
   ]
  },
  {
   "cell_type": "code",
   "execution_count": 114,
   "metadata": {
    "collapsed": true
   },
   "outputs": [],
   "source": [
    "ro_awg = KeysightAWG(\"AWG3\")"
   ]
  },
  {
   "cell_type": "code",
   "execution_count": 115,
   "metadata": {
    "collapsed": false
   },
   "outputs": [],
   "source": [
    "q_awg = KeysightAWG(\"AWG2\")"
   ]
  },
  {
   "cell_type": "code",
   "execution_count": 46,
   "metadata": {
    "collapsed": true
   },
   "outputs": [],
   "source": [
    "from drivers.Keysight_DSOX2014 import *"
   ]
  },
  {
   "cell_type": "code",
   "execution_count": 48,
   "metadata": {
    "collapsed": false
   },
   "outputs": [],
   "source": [
    "dso = Keysight_DSOX2014(\"DSO2014\")"
   ]
  },
  {
   "cell_type": "markdown",
   "metadata": {},
   "source": [
    "# Spectroscopy"
   ]
  },
  {
   "cell_type": "markdown",
   "metadata": {},
   "source": [
    "## Single-tone spectroscopy"
   ]
  },
  {
   "cell_type": "code",
   "execution_count": 7,
   "metadata": {
    "collapsed": true
   },
   "outputs": [],
   "source": [
    "# reload(lib2.Measurement)"
   ]
  },
  {
   "cell_type": "code",
   "execution_count": 10,
   "metadata": {
    "collapsed": false
   },
   "outputs": [],
   "source": [
    "# reload(lib2.SingleToneSpectroscopy)\n",
    "from lib2.SingleToneSpectroscopy import *"
   ]
  },
  {
   "cell_type": "code",
   "execution_count": 55,
   "metadata": {
    "collapsed": true
   },
   "outputs": [],
   "source": [
    "ro_awg.output_pulse_sequence(ro_pb.add_dc_pulse(100, 5).build())"
   ]
  },
  {
   "cell_type": "code",
   "execution_count": 66,
   "metadata": {
    "collapsed": false
   },
   "outputs": [
    {
     "name": "stdout",
     "output_type": "stream",
     "text": [
      "vna2 is already initialized\n",
      "yok3 is already initialized\n",
      "Started at:  2017-05-10 19:40:54.585609\n"
     ]
    },
    {
     "name": "stderr",
     "output_type": "stream",
     "text": [
      "C:\\ProgramData\\Anaconda3\\lib\\site-packages\\matplotlib\\backend_bases.py:2445: MatplotlibDeprecationWarning: Using default event loop until function specific to this GUI is implemented\n",
      "  warnings.warn(str, mplDeprecation)\n"
     ]
    },
    {
     "name": "stdout",
     "output_type": "stream",
     "text": [
      "Time left: 0 h 0 m 0.0 s, current: 7.50e-04]: , average cycle time: 0.47 s          "
     ]
    }
   ],
   "source": [
    "STS = SingleToneSpectroscopy(\"VI-anticrossing\", \"Xmon Al BMSTU S444 2\", vna = 'vna2', src = 'yok3')\n",
    "vna_parameters = {\"bandwidth\":500, \"freq_limits\":(7.04e9, 7.06e9), \"nop\":201, \"power\":-20, \"averages\":1}\n",
    "STS.set_fixed_parameters(vna_parameters)\n",
    "currents = linspace(-0.9e-3, 0.75e-3, 100)\n",
    "STS._src.set_current(currents[0])\n",
    "sleep(1)\n",
    "STS.set_swept_parameters({'current': (STS._src.set_current, currents)})\n",
    "result = STS.launch()\n",
    "STS._src.set_current(0);"
   ]
  },
  {
   "cell_type": "code",
   "execution_count": 65,
   "metadata": {
    "collapsed": true
   },
   "outputs": [],
   "source": [
    "result.visualize()"
   ]
  },
  {
   "cell_type": "code",
   "execution_count": 44,
   "metadata": {
    "collapsed": true
   },
   "outputs": [],
   "source": [
    "result.save()"
   ]
  },
  {
   "cell_type": "markdown",
   "metadata": {},
   "source": [
    "## Two-tone spectroscopy"
   ]
  },
  {
   "cell_type": "code",
   "execution_count": 34,
   "metadata": {
    "collapsed": true
   },
   "outputs": [],
   "source": [
    "# reload(lib2.Measurement)\n",
    "# reload(lib2.TwoToneSpectroscopyBase)\n",
    "# reload(lib2.TwoToneSpectroscopy)\n",
    "from lib2.TwoToneSpectroscopy import *"
   ]
  },
  {
   "cell_type": "code",
   "execution_count": 54,
   "metadata": {
    "collapsed": false
   },
   "outputs": [],
   "source": [
    "q_awg.output_pulse_sequence(q_pb.add_dc_pulse(100,5).build())"
   ]
  },
  {
   "cell_type": "markdown",
   "metadata": {},
   "source": [
    "#### Qubit spectrum"
   ]
  },
  {
   "cell_type": "code",
   "execution_count": 14,
   "metadata": {
    "collapsed": false
   },
   "outputs": [
    {
     "data": {
      "text/plain": [
       "dict_keys(['vna3', 'yok4'])"
      ]
     },
     "execution_count": 14,
     "metadata": {},
     "output_type": "execute_result"
    }
   ],
   "source": [
    "Measurement._actual_devices.keys()"
   ]
  },
  {
   "cell_type": "code",
   "execution_count": 81,
   "metadata": {
    "collapsed": false
   },
   "outputs": [
    {
     "name": "stdout",
     "output_type": "stream",
     "text": [
      "vna2 is already initialized\n",
      "mxg is already initialized\n",
      "yok3 is already initialized\n",
      "Detecting a resonator within provided frequency range of the VNA (7040000000.0, 7060000000.0)                    at qubit's sweet spot (-0.10 mA)\n",
      "Detected frequency is 7.04673 GHz, at 0.70 mU and 5.02 degrees\n"
     ]
    }
   ],
   "source": [
    "TTS = FluxTwoToneSpectroscopy(\"VI-two-tone\", \"Xmon Al BMSTU S444 2\", vna_name=\"vna2\", \n",
    "                              mw_src_name=\"mxg\", current_src_name=\"yok3\")\n",
    "vna_parameters = {\"bandwidth\":50, \"freq_limits\":(7.04e9, 7.06e9), \"nop\":1, \"power\":-20, \"averages\":1}\n",
    "mw_src_parameters = {\"power\":0}\n",
    "mw_src_frequencies = linspace(7.8e9, 7.95e9, 50)\n",
    "currents = linspace(-0.4e-3, 0.2e-3, 50)\n",
    "TTS.setup_control_parameters(vna_parameters, mw_src_parameters, mw_src_frequencies, currents)"
   ]
  },
  {
   "cell_type": "code",
   "execution_count": 82,
   "metadata": {
    "collapsed": false,
    "scrolled": true
   },
   "outputs": [
    {
     "name": "stdout",
     "output_type": "stream",
     "text": [
      "Started at:  2017-05-10 19:57:51.319763\n",
      "Time left: 0 h 3 m 21.59 s, parameter value: -4.000e-04, average cycle time: 0.08 s          "
     ]
    },
    {
     "name": "stderr",
     "output_type": "stream",
     "text": [
      "C:\\ProgramData\\Anaconda3\\lib\\site-packages\\matplotlib\\backend_bases.py:2445: MatplotlibDeprecationWarning: Using default event loop until function specific to this GUI is implemented\n",
      "  warnings.warn(str, mplDeprecation)\n"
     ]
    },
    {
     "name": "stdout",
     "output_type": "stream",
     "text": [
      "Time left: 0 h 0 m 0.0 s, parameter value: 2.000e-04, average cycle time: 0.06 s             "
     ]
    }
   ],
   "source": [
    "result = TTS.launch()"
   ]
  },
  {
   "cell_type": "code",
   "execution_count": 43,
   "metadata": {
    "collapsed": true
   },
   "outputs": [],
   "source": [
    "result.visualize()"
   ]
  },
  {
   "cell_type": "code",
   "execution_count": 83,
   "metadata": {
    "collapsed": true
   },
   "outputs": [],
   "source": [
    "result.save()"
   ]
  },
  {
   "cell_type": "code",
   "execution_count": 20,
   "metadata": {
    "collapsed": true
   },
   "outputs": [],
   "source": [
    "result._name = \"5.5GHz-two-tone-w-loop_-0.5mA-and-coil\""
   ]
  },
  {
   "cell_type": "code",
   "execution_count": 46,
   "metadata": {
    "collapsed": true
   },
   "outputs": [],
   "source": [
    "TTS._mw_src.set_output_state(\"OFF\")"
   ]
  },
  {
   "cell_type": "markdown",
   "metadata": {},
   "source": [
    "#### Linewidth from excitation power"
   ]
  },
  {
   "cell_type": "code",
   "execution_count": 185,
   "metadata": {
    "collapsed": false
   },
   "outputs": [],
   "source": [
    "ro_awg.output_pulse_sequence(ro_pb.add_dc_pulse(100).build())\n",
    "q_awg.output_pulse_sequence(q_pb.add_dc_pulse(100, 5).build())"
   ]
  },
  {
   "cell_type": "code",
   "execution_count": 183,
   "metadata": {
    "collapsed": false
   },
   "outputs": [
    {
     "name": "stdout",
     "output_type": "stream",
     "text": [
      "vna2 is already initialized\n",
      "mxg is already initialized\n",
      "yok3 is already initialized\n",
      "Detecting a resonator within provided frequency range of the VNA (7040000000.0, 7052500000.0)                    at current of -0.11 mA\n",
      "Detected frequency is 7.04716 GHz, at 0.10 mU and 33.83 degrees\n"
     ]
    }
   ],
   "source": [
    "PTS = PowerTwoToneSpectroscopy(\"VI-powerscan\", \"Xmon Al BMSTU S444 2\")\n",
    "vna_parameters = {\"bandwidth\":10, \"freq_limits\":(7040e6, 7052.5e6), \"nop\":1, \"power\":0, \"averages\":1}\n",
    "mw_src_parameters = {}\n",
    "mw_src_frequencies = linspace(7.88e9, 7.92e9,200)\n",
    "mw_src_powers = linspace(-20, 15, 21)\n",
    "current = -0.11e-3\n",
    "PTS.setup_control_parameters(vna_parameters, mw_src_parameters, mw_src_frequencies, mw_src_powers, current)\n",
    "PTS._measurement_result.set_phase_units(\"deg\")"
   ]
  },
  {
   "cell_type": "code",
   "execution_count": 187,
   "metadata": {
    "collapsed": false
   },
   "outputs": [
    {
     "name": "stdout",
     "output_type": "stream",
     "text": [
      "Started at:  2017-05-10 21:15:08.685005\n",
      "Time left: 0 h 10 m 10.55 s, parameter value: -2.000e+01, average cycle time: 0.15 s          "
     ]
    },
    {
     "name": "stderr",
     "output_type": "stream",
     "text": [
      "C:\\ProgramData\\Anaconda3\\lib\\site-packages\\matplotlib\\backend_bases.py:2445: MatplotlibDeprecationWarning: Using default event loop until function specific to this GUI is implemented\n",
      "  warnings.warn(str, mplDeprecation)\n"
     ]
    },
    {
     "name": "stdout",
     "output_type": "stream",
     "text": [
      "Time left: 0 h 9 m 25.8 s, parameter value: -2.000e+01, average cycle time: 0.14 s           "
     ]
    }
   ],
   "source": [
    "result = PTS.launch()"
   ]
  },
  {
   "cell_type": "code",
   "execution_count": null,
   "metadata": {
    "collapsed": true
   },
   "outputs": [],
   "source": [
    "vna.set_parameters(PTS._pre_measurement_vna_parameters)"
   ]
  },
  {
   "cell_type": "code",
   "execution_count": 106,
   "metadata": {
    "collapsed": true
   },
   "outputs": [],
   "source": [
    "result.visualize()"
   ]
  },
  {
   "cell_type": "code",
   "execution_count": 103,
   "metadata": {
    "collapsed": true
   },
   "outputs": [],
   "source": [
    "result.save()"
   ]
  },
  {
   "cell_type": "code",
   "execution_count": null,
   "metadata": {
    "collapsed": true
   },
   "outputs": [],
   "source": [
    "mxg.set_frequency(7.898e9)\n",
    "mxg.set_power(-30)\n",
    "mxg.set_output_state(\"OFF\")\n",
    "vna.prepare_for_stb(); vna.sweep_single(); vna.wait_for_stb()\n",
    "ground_state_sdata = vna.get_sdata()\n",
    "\n",
    "mxg.set_output_state(\"ON\")\n",
    "vna.prepare_for_stb(); vna.sweep_single(); vna.wait_for_stb()\n",
    "mixed_state_sdata = vna.get_sdata()"
   ]
  },
  {
   "cell_type": "code",
   "execution_count": null,
   "metadata": {
    "collapsed": true
   },
   "outputs": [],
   "source": [
    "plot(abs(ground_state_sdata))\n",
    "plot(abs(mixed_state_sdata))\n",
    "plot((abs(ground_state_sdata)[10:]+abs(ground_state_sdata)[:-10])/2)"
   ]
  },
  {
   "cell_type": "markdown",
   "metadata": {},
   "source": [
    "#### AC Stark"
   ]
  },
  {
   "cell_type": "code",
   "execution_count": 206,
   "metadata": {
    "collapsed": true
   },
   "outputs": [],
   "source": [
    "ro_awg.output_pulse_sequence(ro_pb.add_dc_pulse(100).build())\n",
    "q_awg.output_pulse_sequence(q_pb.add_dc_pulse(100, 5).build())"
   ]
  },
  {
   "cell_type": "code",
   "execution_count": 208,
   "metadata": {
    "collapsed": false
   },
   "outputs": [
    {
     "name": "stdout",
     "output_type": "stream",
     "text": [
      "vna2 is already initialized\n",
      "mxg is already initialized\n",
      "yok3 is already initialized\n",
      "Detecting a resonator within provided frequency range of the VNA (7040000000.0, 7052500000.0)                    at current of -0.11 mA\n",
      "Detected frequency is 7.04716 GHz, at 0.25 mU and 33.57 degrees\n"
     ]
    }
   ],
   "source": [
    "ASTS = AcStarkTwoToneSpectroscopy(\"VI-ac-stark\", \"Xmon Al BMSTU S444 2\")\n",
    "vna_parameters = {\"bandwidth\":1000, \"freq_limits\":(7040e6, 7052.5e6), \"nop\":1, \"power\":-10, \"averages\":100}\n",
    "mw_src_parameters = {\"power\":-15, \"frequency\":-1}\n",
    "mw_src_frequencies = linspace(7.85e9, 7.9e9, 100)\n",
    "vna_powers = linspace(-30, 0, 31)\n",
    "current = -0.11e-3\n",
    "ASTS.setup_control_parameters(vna_parameters, mw_src_parameters, mw_src_frequencies, vna_powers, current)"
   ]
  },
  {
   "cell_type": "code",
   "execution_count": 21,
   "metadata": {
    "collapsed": false
   },
   "outputs": [
    {
     "name": "stdout",
     "output_type": "stream",
     "text": [
      "Started at:  2017-04-25 22:15:13.034443\n",
      "Time left: 0 h 27 m 19.46 s, parameter value: -3.000e+01, average cycle time: 0.53 s          "
     ]
    },
    {
     "name": "stderr",
     "output_type": "stream",
     "text": [
      "C:\\ProgramData\\Anaconda3\\lib\\site-packages\\matplotlib\\backend_bases.py:2445: MatplotlibDeprecationWarning: Using default event loop until function specific to this GUI is implemented\n",
      "  warnings.warn(str, mplDeprecation)\n"
     ]
    },
    {
     "name": "stdout",
     "output_type": "stream",
     "text": [
      "Time left: 0 h 0 m 0.0 s, parameter value: 0.000e+00, average cycle time: 0.16 s              "
     ]
    }
   ],
   "source": [
    "result = ASTS.launch()"
   ]
  },
  {
   "cell_type": "code",
   "execution_count": 112,
   "metadata": {
    "collapsed": true
   },
   "outputs": [],
   "source": [
    "result.visualize()"
   ]
  },
  {
   "cell_type": "code",
   "execution_count": 12,
   "metadata": {
    "collapsed": true
   },
   "outputs": [],
   "source": [
    "result.save()"
   ]
  },
  {
   "cell_type": "code",
   "execution_count": 88,
   "metadata": {
    "collapsed": false
   },
   "outputs": [],
   "source": [
    "TTS.close_devs(\"mxg\")"
   ]
  },
  {
   "cell_type": "markdown",
   "metadata": {},
   "source": [
    "__________________________"
   ]
  },
  {
   "cell_type": "markdown",
   "metadata": {},
   "source": [
    "# Time-domain measurements"
   ]
  },
  {
   "cell_type": "markdown",
   "metadata": {},
   "source": [
    "#### Check mixers:"
   ]
  },
  {
   "cell_type": "code",
   "execution_count": 175,
   "metadata": {
    "collapsed": true
   },
   "outputs": [],
   "source": [
    "q_lo = mxg\n",
    "q_lo.set_output_state(\"ON\")\n",
    "q_lo.set_power(15)"
   ]
  },
  {
   "cell_type": "code",
   "execution_count": 96,
   "metadata": {
    "collapsed": false
   },
   "outputs": [],
   "source": [
    "TTS._vna.set_nop(1)\n",
    "TTS._vna.set_center(7.04720e9)\n",
    "TTS._vna.sweep_continuous()"
   ]
  },
  {
   "cell_type": "code",
   "execution_count": 109,
   "metadata": {
    "collapsed": true
   },
   "outputs": [],
   "source": [
    "q_awg.output_pulse_sequence(q_pb.add_zero_pulse(20).build())\n",
    "ro_awg.output_pulse_sequence(ro_pb.add_zero_pulse(20).build())"
   ]
  },
  {
   "cell_type": "code",
   "execution_count": 150,
   "metadata": {
    "collapsed": true
   },
   "outputs": [],
   "source": [
    "q_awg.output_pulse_sequence(q_pb.add_sine_pulse(20,0).build())\n",
    "ro_awg.output_pulse_sequence(ro_pb.add_dc_pulse(20).build())"
   ]
  },
  {
   "cell_type": "code",
   "execution_count": 170,
   "metadata": {
    "collapsed": false,
    "scrolled": true
   },
   "outputs": [
    {
     "name": "stdout",
     "output_type": "stream",
     "text": [
      "Calibration data for mixer TEST\n",
      "Mixer parameters: {'mixer_id': 'TEST', 'iq_attenuation': -6}\n",
      "Radiation parameters: {'lo_frequency': 7047000000.0, 'lo_power': 0, 'if_frequency': 0, 'ssb_power': -40, 'waveform_resolution': 1}\n",
      "Optimization results: {'dc': -87.92120361328125, 'dc_open': [-40.00850296020508]}\n",
      "Optimization parameters {'dc_offsets': array([ 0.00884471, -0.06675995]), 'dc_offsets_open': array([ 0.10280304,  0.1024881 ]), 'if_offsets': None, 'if_amplitudes': None, 'if_phase': None}\n",
      "Optimization time: 0 h 0 m 13.31 s\n",
      "Finished at: 2017-05-10 21:07:10.849674\n"
     ]
    }
   ],
   "source": [
    "print(ro_cal)"
   ]
  },
  {
   "cell_type": "markdown",
   "metadata": {},
   "source": [
    "### Rabi "
   ]
  },
  {
   "cell_type": "code",
   "execution_count": 10,
   "metadata": {
    "collapsed": false
   },
   "outputs": [],
   "source": [
    "# reload(lib2.VNATimeResolvedMeasurement)\n",
    "# reload(lib2.DispersiveRabiOscillations)\n",
    "from lib2.DispersiveRabiOscillations import DispersiveRabiOscillations"
   ]
  },
  {
   "cell_type": "code",
   "execution_count": 14,
   "metadata": {
    "collapsed": false,
    "scrolled": true
   },
   "outputs": [
    {
     "name": "stdout",
     "output_type": "stream",
     "text": [
      "vna2 is already initialized\n",
      "awg3 is already initialized\n",
      "awg2 is already initialized\n",
      "mxg is already initialized\n",
      "yok3 is already initialized\n",
      "Detecting a resonator within provided frequency range of the VNA (7040000000.0, 7052500000.0)                    at current of -0.11 mA\n",
      "Detected frequency is 7.04710 GHz, at 0.04 mU and 13.13 degrees\n"
     ]
    }
   ],
   "source": [
    "DRO = DispersiveRabiOscillations(\"VI-rabi\", \"Xmon Al BMSTU S444 2\",\n",
    "            vna_name=\"vna2\", ro_awg_name=\"awg3\", q_awg_name=\"awg2\", q_lo_name='mxg', current_src_name='yok3')\n",
    "vna_parameters = {\"bandwidth\":10, \"freq_limits\":(7040e6, 7052.5e6), \"nop\":10, \"averages\":2}\n",
    "current = -0.11e-3\n",
    "q_frequency = 7.897e9\n",
    "excitation_durations = linspace(1, 150, 38)\n",
    "rabi_sequence_parameters = {\"awg_trigger_reaction_delay\":400, \"readout_duration\":1000, \"repetition_period\":8000}\n",
    "DRO.set_fixed_parameters(vna_parameters, ro_cal, q_cal, q_frequency, current, rabi_sequence_parameters)\n",
    "DRO.set_swept_parameters(excitation_durations)"
   ]
  },
  {
   "cell_type": "code",
   "execution_count": 15,
   "metadata": {
    "collapsed": false
   },
   "outputs": [
    {
     "name": "stdout",
     "output_type": "stream",
     "text": [
      "Started at:  2017-05-12 12:53:23.876306\n",
      "Time left: 0 h 1 m 39.23 s, [excitation_duration: 1.71e+01]: , average cycle time: 3.01 s       "
     ]
    },
    {
     "name": "stderr",
     "output_type": "stream",
     "text": [
      "C:\\ProgramData\\Anaconda3\\lib\\site-packages\\scipy\\optimize\\minpack.py:715: OptimizeWarning: Covariance of the parameters could not be estimated\n",
      "  category=OptimizeWarning)\n"
     ]
    },
    {
     "name": "stdout",
     "output_type": "stream",
     "text": [
      "Time left: 0 h 0 m 0.0 s, [excitation_duration: 1.50e+02]: , average cycle time: 3.06 s         "
     ]
    }
   ],
   "source": [
    "result = DRO.launch()"
   ]
  },
  {
   "cell_type": "code",
   "execution_count": 18,
   "metadata": {
    "collapsed": false
   },
   "outputs": [
    {
     "data": {
      "text/plain": [
       "(<matplotlib.figure.Figure at 0xf00dfd0>,\n",
       " array([<matplotlib.axes._subplots.AxesSubplot object at 0x000000000B47C2E8>,\n",
       "        <matplotlib.axes._subplots.AxesSubplot object at 0x000000000996A320>,\n",
       "        <matplotlib.axes._subplots.AxesSubplot object at 0x000000000ED9CEF0>,\n",
       "        <matplotlib.axes._subplots.AxesSubplot object at 0x000000000B42D4E0>], dtype=object),\n",
       " (None, None))"
      ]
     },
     "execution_count": 18,
     "metadata": {},
     "output_type": "execute_result"
    }
   ],
   "source": [
    "result.visualize()"
   ]
  },
  {
   "cell_type": "code",
   "execution_count": 22,
   "metadata": {
    "collapsed": false
   },
   "outputs": [],
   "source": [
    "result.save()"
   ]
  },
  {
   "cell_type": "code",
   "execution_count": 43,
   "metadata": {
    "collapsed": false
   },
   "outputs": [],
   "source": [
    "from lib2.MeasurementResult import *\n",
    "result = MeasurementResult.load(\"Xmon Al BMSTU S444 2\",\"VI-ramsey\")"
   ]
  },
  {
   "cell_type": "code",
   "execution_count": 44,
   "metadata": {
    "collapsed": false
   },
   "outputs": [
    {
     "data": {
      "text/plain": [
       "(<matplotlib.figure.Figure at 0x9dfea58>,\n",
       " array([<matplotlib.axes._subplots.AxesSubplot object at 0x000000001180D9B0>,\n",
       "        <matplotlib.axes._subplots.AxesSubplot object at 0x000000000A0820F0>,\n",
       "        <matplotlib.axes._subplots.AxesSubplot object at 0x000000001019CEB8>,\n",
       "        <matplotlib.axes._subplots.AxesSubplot object at 0x0000000009D7C4A8>], dtype=object),\n",
       " (None, None))"
      ]
     },
     "execution_count": 44,
     "metadata": {},
     "output_type": "execute_result"
    }
   ],
   "source": [
    "result.visualize()"
   ]
  },
  {
   "cell_type": "code",
   "execution_count": 16,
   "metadata": {
    "collapsed": false
   },
   "outputs": [
    {
     "data": {
      "text/plain": [
       "74.508759194533937"
      ]
     },
     "execution_count": 16,
     "metadata": {},
     "output_type": "execute_result"
    }
   ],
   "source": [
    "pi_pulse_duration = result.get_pi_pulse_duration()*1e3\n",
    "pi_pulse_duration"
   ]
  },
  {
   "cell_type": "markdown",
   "metadata": {},
   "source": [
    "### Decay"
   ]
  },
  {
   "cell_type": "code",
   "execution_count": 17,
   "metadata": {
    "collapsed": true
   },
   "outputs": [],
   "source": [
    "# reload(lib2.VNATimeResolvedMeasurement)\n",
    "# reload(lib2.DispersiveDecay)\n",
    "from lib2.DispersiveDecay import *"
   ]
  },
  {
   "cell_type": "code",
   "execution_count": 19,
   "metadata": {
    "collapsed": false
   },
   "outputs": [
    {
     "name": "stdout",
     "output_type": "stream",
     "text": [
      "vna2 is already initialized\n",
      "awg3 is already initialized\n",
      "awg2 is already initialized\n",
      "mxg is already initialized\n",
      "yok3 is already initialized\n",
      "Detecting a resonator within provided frequency range of the VNA (7040000000.0, 7052500000.0)                    at current of -0.11 mA\n",
      "Detected frequency is 7.04710 GHz, at 0.04 mU and 11.61 degrees\n"
     ]
    }
   ],
   "source": [
    "DD = DispersiveDecay(\"VI-decay\", \"Xmon Al BMSTU S444 2\",\n",
    "            vna_name=\"vna2\", ro_awg_name=\"awg3\", q_awg_name=\"awg2\", q_lo_name='mxg', current_src_name='yok3')\n",
    "vna_parameters = {\"bandwidth\":10, \"freq_limits\":(7040e6, 7052.5e6), \"nop\":10, \"averages\":2}\n",
    "current = -0.11e-3\n",
    "q_frequency = 7.897e9\n",
    "readout_delays = linspace(0, 1, 100)\n",
    "rabi_sequence_parameters = {\"awg_trigger_reaction_delay\":400, \"readout_duration\":1000, \n",
    "                            \"repetition_period\":8000, \"pi_pulse_duration\":pi_pulse_duration}\n",
    "DD.set_fixed_parameters(vna_parameters, ro_cal, q_cal, q_frequency, current, rabi_sequence_parameters)\n",
    "DD.set_swept_parameters(readout_delays)"
   ]
  },
  {
   "cell_type": "code",
   "execution_count": 20,
   "metadata": {
    "collapsed": false
   },
   "outputs": [
    {
     "name": "stdout",
     "output_type": "stream",
     "text": [
      "Started at:  2017-05-12 12:55:52.840826\n",
      "Time left: 0 h 4 m 43.46 s, [readout_delay: 4.04e-02]: , average cycle time: 2.98 s       "
     ]
    }
   ],
   "source": [
    "dd_result = DD.launch()"
   ]
  },
  {
   "cell_type": "code",
   "execution_count": 55,
   "metadata": {
    "collapsed": false
   },
   "outputs": [
    {
     "data": {
      "text/plain": [
       "(<matplotlib.figure.Figure at 0x11283b70>,\n",
       " array([<matplotlib.axes._subplots.AxesSubplot object at 0x000000000E3C70B8>,\n",
       "        <matplotlib.axes._subplots.AxesSubplot object at 0x000000000E4047B8>,\n",
       "        <matplotlib.axes._subplots.AxesSubplot object at 0x00000000113C14E0>,\n",
       "        <matplotlib.axes._subplots.AxesSubplot object at 0x000000000F228DA0>], dtype=object),\n",
       " (None, None))"
      ]
     },
     "execution_count": 55,
     "metadata": {},
     "output_type": "execute_result"
    }
   ],
   "source": [
    "dd_result.visualize()"
   ]
  },
  {
   "cell_type": "code",
   "execution_count": 28,
   "metadata": {
    "collapsed": false
   },
   "outputs": [
    {
     "name": "stdout",
     "output_type": "stream",
     "text": [
      "\r",
      "Time left: 0 h 7 m 13.22 s, [readout_delay: 2.83e+03]: , average cycle time: 10.07 s       "
     ]
    }
   ],
   "source": [
    "dd_result.save()"
   ]
  },
  {
   "cell_type": "markdown",
   "metadata": {
    "collapsed": true
   },
   "source": [
    "### Ramsey"
   ]
  },
  {
   "cell_type": "code",
   "execution_count": 42,
   "metadata": {
    "collapsed": false
   },
   "outputs": [],
   "source": [
    "reload(lib2.DispersiveRamsey)\n",
    "from lib2.DispersiveRamsey import *"
   ]
  },
  {
   "cell_type": "code",
   "execution_count": 34,
   "metadata": {
    "collapsed": false
   },
   "outputs": [
    {
     "name": "stdout",
     "output_type": "stream",
     "text": [
      "vna2 is already initialized\n",
      "awg3 is already initialized\n",
      "awg2 is already initialized\n",
      "mxg is already initialized\n",
      "yok3 is already initialized\n",
      "Detecting a resonator within provided frequency range of the VNA (7040000000.0, 7052500000.0)                    at current of -0.11 mA\n",
      "Detected frequency is 7.04716 GHz, at 0.04 mU and 14.64 degrees\n"
     ]
    }
   ],
   "source": [
    "DR = DispersiveRamsey(\"VI-ramsey\", \"Xmon Al BMSTU S444 2\",\n",
    "            vna_name=\"vna2\", ro_awg_name=\"awg3\", q_awg_name=\"awg2\", q_lo_name='mxg', current_src_name='yok3')\n",
    "vna_parameters = {\"bandwidth\":10, \"freq_limits\":(7040e6, 7052.5e6), \"nop\":10, \"averages\":2}\n",
    "current = -0.11e-3\n",
    "q_frequency = 7.897e9\n",
    "readout_delays = linspace(0, 2000, 100)\n",
    "rabi_sequence_parameters = {\"awg_trigger_reaction_delay\":400, \"readout_duration\":1000, \n",
    "                            \"repetition_period\":8000, \"half_pi_pulse_duration\":pi_pulse_duration/2}\n",
    "DR.set_fixed_parameters(vna_parameters, ro_cal, q_cal, q_frequency, current, rabi_sequence_parameters)\n",
    "DR.set_swept_parameters(readout_delays)"
   ]
  },
  {
   "cell_type": "code",
   "execution_count": 35,
   "metadata": {
    "collapsed": false
   },
   "outputs": [
    {
     "name": "stdout",
     "output_type": "stream",
     "text": [
      "Started at:  2017-05-12 13:36:29.933220\n",
      "Time left: 0 h 4 m 43.55 s, [ramsey_delay: 8.08e+01]: , average cycle time: 2.98 s       "
     ]
    },
    {
     "name": "stderr",
     "output_type": "stream",
     "text": [
      "C:\\ProgramData\\Anaconda3\\lib\\site-packages\\scipy\\optimize\\minpack.py:715: OptimizeWarning: Covariance of the parameters could not be estimated\n",
      "  category=OptimizeWarning)\n"
     ]
    },
    {
     "name": "stdout",
     "output_type": "stream",
     "text": [
      "Time left: 0 h 0 m 0.0 s, [ramsey_delay: 2.00e+03]: , average cycle time: 3.06 s         "
     ]
    }
   ],
   "source": [
    "dr_result = DR.launch()"
   ]
  },
  {
   "cell_type": "code",
   "execution_count": 38,
   "metadata": {
    "collapsed": false
   },
   "outputs": [
    {
     "data": {
      "text/plain": [
       "(<matplotlib.figure.Figure at 0xe15d668>,\n",
       " array([<matplotlib.axes._subplots.AxesSubplot object at 0x000000000E0EAE10>,\n",
       "        <matplotlib.axes._subplots.AxesSubplot object at 0x000000000EF25550>,\n",
       "        <matplotlib.axes._subplots.AxesSubplot object at 0x0000000011B5C518>,\n",
       "        <matplotlib.axes._subplots.AxesSubplot object at 0x00000000118679E8>], dtype=object),\n",
       " (None, None))"
      ]
     },
     "execution_count": 38,
     "metadata": {},
     "output_type": "execute_result"
    }
   ],
   "source": [
    "dr_result.visualize()"
   ]
  },
  {
   "cell_type": "code",
   "execution_count": 37,
   "metadata": {
    "collapsed": true
   },
   "outputs": [],
   "source": [
    "dr_result.save()"
   ]
  },
  {
   "cell_type": "code",
   "execution_count": null,
   "metadata": {
    "collapsed": true
   },
   "outputs": [],
   "source": []
  },
  {
   "cell_type": "code",
   "execution_count": 161,
   "metadata": {
    "collapsed": true
   },
   "outputs": [],
   "source": [
    "q_pb = PulseBuilder(q_cal)"
   ]
  },
  {
   "cell_type": "code",
   "execution_count": 39,
   "metadata": {
    "collapsed": false
   },
   "outputs": [
    {
     "data": {
      "text/plain": [
       "38.552901565627764"
      ]
     },
     "execution_count": 39,
     "metadata": {},
     "output_type": "execute_result"
    }
   ],
   "source": [
    "pi_pulse_duration/2"
   ]
  },
  {
   "cell_type": "code",
   "execution_count": 130,
   "metadata": {
    "collapsed": false
   },
   "outputs": [],
   "source": [
    "ramsey_delay = 0\n",
    "half_pi_pulse_duration = pi_pulse_duration/2\n",
    "ramsey_seq = q_pb.add_zero_pulse(1)\\\n",
    "            .add_sine_pulse(half_pi_pulse_duration, 0)\\\n",
    "            .add_zero_pulse(ramsey_delay)\\\n",
    "            .add_sine_pulse(half_pi_pulse_duration, time_offset = half_pi_pulse_duration+ramsey_delay)\\\n",
    "            .add_zero_until(200).build()\n",
    "decay_seq = q_pb.add_zero_pulse(1)\\\n",
    "            .add_sine_pulse(2*half_pi_pulse_duration, 0).add_zero_until(200).build()\\\n",
    "            \n",
    "#         self._q_awg.output_pulse_sequence(self._q_pb.build())"
   ]
  },
  {
   "cell_type": "code",
   "execution_count": 131,
   "metadata": {
    "collapsed": false
   },
   "outputs": [
    {
     "data": {
      "text/plain": [
       "386.0"
      ]
     },
     "execution_count": 131,
     "metadata": {},
     "output_type": "execute_result"
    }
   ],
   "source": [
    "round(half_pi_pulse_duration/0.1)"
   ]
  },
  {
   "cell_type": "code",
   "execution_count": 132,
   "metadata": {
    "collapsed": false
   },
   "outputs": [
    {
     "data": {
      "text/plain": [
       "386.0"
      ]
     },
     "execution_count": 132,
     "metadata": {},
     "output_type": "execute_result"
    }
   ],
   "source": [
    "round(half_pi_pulse_duration/0.1)"
   ]
  },
  {
   "cell_type": "code",
   "execution_count": 133,
   "metadata": {
    "collapsed": false
   },
   "outputs": [],
   "source": [
    "ramsey_seq.plot()\n",
    "decay_seq.plot()\n",
    "plt.grid()"
   ]
  },
  {
   "cell_type": "code",
   "execution_count": 129,
   "metadata": {
    "collapsed": false
   },
   "outputs": [
    {
     "data": {
      "text/plain": [
       "2001"
      ]
     },
     "execution_count": 129,
     "metadata": {},
     "output_type": "execute_result"
    }
   ],
   "source": [
    "len(ramsey_seq.get_I_waveform())"
   ]
  },
  {
   "cell_type": "code",
   "execution_count": 136,
   "metadata": {
    "collapsed": false
   },
   "outputs": [],
   "source": [
    "DR._q_awg.output_pulse_sequence(decay_seq)"
   ]
  },
  {
   "cell_type": "code",
   "execution_count": 156,
   "metadata": {
    "collapsed": false
   },
   "outputs": [
    {
     "data": {
      "text/plain": [
       "(339.0, 33.852893886313765)"
      ]
     },
     "execution_count": 156,
     "metadata": {},
     "output_type": "execute_result"
    }
   ],
   "source": [
    "round(pi_pulse_duration/2/0.1), pi_pulse_duration/2"
   ]
  },
  {
   "cell_type": "code",
   "execution_count": 153,
   "metadata": {
    "collapsed": false
   },
   "outputs": [
    {
     "data": {
      "text/plain": [
       "2000.0057877726274"
      ]
     },
     "execution_count": 153,
     "metadata": {},
     "output_type": "execute_result"
    }
   ],
   "source": [
    "round((2000-1-1000-pi_pulse_duration-400)/0.1)/10+1000+pi_pulse_duration+1+400"
   ]
  },
  {
   "cell_type": "code",
   "execution_count": null,
   "metadata": {
    "collapsed": true
   },
   "outputs": [],
   "source": []
  },
  {
   "cell_type": "code",
   "execution_count": 53,
   "metadata": {
    "collapsed": true
   },
   "outputs": [],
   "source": [
    "dso.set_time_range(1e-6)\n",
    "dso.set_time_offset(.1e-6)\n",
    "dso.digitize()\n",
    "times, channel_data = dso.get_data(Channel.ONE, Channel.TWO)\n",
    "axes = flatten(plt.subplots(2,1, sharex=True, figsize=(13,5))[1])\n",
    "colors = [\"C0\", \"C1\", \"C2\", \"C3\"]\n",
    "for idx, ax in enumerate(axes):\n",
    "    ax.plot(times, channel_data[idx], color=colors[idx])\n",
    "    ax.minorticks_on()\n",
    "    ax.grid(which=\"both\")\n",
    "    ax.ticklabel_format(style='sci', axis='x', scilimits=(0,0))\n",
    "plt.tight_layout()"
   ]
  },
  {
   "cell_type": "code",
   "execution_count": null,
   "metadata": {
    "collapsed": true
   },
   "outputs": [],
   "source": []
  }
 ],
 "metadata": {
  "kernelspec": {
   "display_name": "Python 3",
   "language": "python",
   "name": "python3"
  },
  "language_info": {
   "codemirror_mode": {
    "name": "ipython",
    "version": 3
   },
   "file_extension": ".py",
   "mimetype": "text/x-python",
   "name": "python",
   "nbconvert_exporter": "python",
   "pygments_lexer": "ipython3",
   "version": "3.6.0"
  }
 },
 "nbformat": 4,
 "nbformat_minor": 2
}
