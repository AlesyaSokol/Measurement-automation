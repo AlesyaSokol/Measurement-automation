{
 "cells": [
  {
   "cell_type": "code",
   "execution_count": 1,
   "metadata": {
    "collapsed": false,
    "scrolled": true
   },
   "outputs": [
    {
     "name": "stdout",
     "output_type": "stream",
     "text": [
      "Populating the interactive namespace from numpy and matplotlib\n"
     ]
    }
   ],
   "source": [
    "%pylab qt5"
   ]
  },
  {
   "cell_type": "code",
   "execution_count": 2,
   "metadata": {
    "collapsed": true
   },
   "outputs": [],
   "source": [
    "import scipy"
   ]
  },
  {
   "cell_type": "code",
   "execution_count": 3,
   "metadata": {
    "collapsed": false
   },
   "outputs": [],
   "source": [
    "from importlib import reload\n",
    "import lib2\n",
    "from IPython.display import clear_output\n",
    "from lib import data_management as dm\n",
    "from time import sleep\n",
    "import drivers\n",
    "from lib2.IQPulseSequence import *\n",
    "from drivers.KeysightAWG import *\n",
    "from drivers.IQAWG import *\n",
    "warnings.filterwarnings(\"ignore\",\".*GUI is implemented.*\")\n",
    "mpl.rcParams['grid.color'] = 'k'\n",
    "mpl.rcParams['grid.linestyle'] = ':'\n",
    "mpl.rcParams['grid.linewidth'] = 0.5"
   ]
  },
  {
   "cell_type": "code",
   "execution_count": 4,
   "metadata": {
    "collapsed": false
   },
   "outputs": [],
   "source": [
    "if_freq = 50e6\n",
    "\n",
    "calibrations = (dm.load_IQMX_calibration_database(\"Xmons_Nb_bandage_res_mixer_to_-10_2\", -10))\n",
    "ro_cal = calibrations.get(frozenset(dict(lo_power=7, ssb_power=-45, lo_frequency=7.5351e9, \n",
    "                                      if_frequency=0, waveform_resolution=1).items()))\n",
    "ro_pb = PulseBuilder(ro_cal)\n",
    "\n",
    "calibrations = (dm.load_IQMX_calibration_database(\"Xmons_Nb_bandage_qub_mixer_to_-10\", -6))\n",
    "q_cal = calibrations.get(frozenset(dict(lo_power=10, ssb_power=-10, lo_frequency=6.163e9+if_freq, \n",
    "                                      if_frequency=if_freq, waveform_resolution=1).items()))\n",
    "q_pb = PulseBuilder(q_cal)"
   ]
  },
  {
   "cell_type": "code",
   "execution_count": 5,
   "metadata": {
    "collapsed": false
   },
   "outputs": [],
   "source": [
    "ro_awg = KeysightAWG(\"AWG3\")"
   ]
  },
  {
   "cell_type": "code",
   "execution_count": 6,
   "metadata": {
    "collapsed": true
   },
   "outputs": [],
   "source": [
    "q_awg = KeysightAWG(\"AWG2\")"
   ]
  },
  {
   "cell_type": "code",
   "execution_count": 7,
   "metadata": {
    "collapsed": false
   },
   "outputs": [],
   "source": [
    "ro_iqawg = IQAWG(AWGChannel(ro_awg, 1), AWGChannel(ro_awg, 2))\n",
    "q_iqawg = IQAWG(AWGChannel(q_awg, 1), AWGChannel(q_awg, 2))"
   ]
  },
  {
   "cell_type": "code",
   "execution_count": 358,
   "metadata": {
    "collapsed": true
   },
   "outputs": [],
   "source": [
    "from drivers.Keysight_DSOX2014 import *"
   ]
  },
  {
   "cell_type": "code",
   "execution_count": 359,
   "metadata": {
    "collapsed": true
   },
   "outputs": [],
   "source": [
    "dso = Keysight_DSOX2014(\"DSO2014\")"
   ]
  },
  {
   "cell_type": "markdown",
   "metadata": {},
   "source": [
    "______________"
   ]
  },
  {
   "cell_type": "markdown",
   "metadata": {},
   "source": [
    "### Resonators scan areas"
   ]
  },
  {
   "cell_type": "code",
   "execution_count": 30,
   "metadata": {
    "collapsed": true
   },
   "outputs": [],
   "source": [
    "scan_areas = [(7529945247.2623634, 7579945247.2623634),\n",
    "  (7541330816.5408268, 7591330816.5408268),\n",
    "  (7552773888.6944351, 7602773888.6944351),\n",
    "  (7564561978.0989046, 7614561978.0989046),\n",
    "  (7574164958.2479124, 7624164958.2479124)]"
   ]
  },
  {
   "cell_type": "code",
   "execution_count": 31,
   "metadata": {
    "collapsed": false
   },
   "outputs": [
    {
     "data": {
      "text/plain": [
       "[(7529945247.262363, 7579945247.262363),\n",
       " (7541330816.540827, 7591330816.540827),\n",
       " (7552773888.694435, 7602773888.694435),\n",
       " (7564561978.098905, 7614561978.098905),\n",
       " (7574164958.247912, 7624164958.247912)]"
      ]
     },
     "execution_count": 31,
     "metadata": {},
     "output_type": "execute_result"
    }
   ],
   "source": [
    "scan_areas"
   ]
  },
  {
   "cell_type": "markdown",
   "metadata": {},
   "source": [
    "# Spectroscopy"
   ]
  },
  {
   "cell_type": "markdown",
   "metadata": {},
   "source": [
    "## Single-tone spectroscopy"
   ]
  },
  {
   "cell_type": "code",
   "execution_count": 8,
   "metadata": {
    "collapsed": true
   },
   "outputs": [],
   "source": [
    "#reload(lib2.SingleToneSpectroscopy)\n",
    "from lib2.SingleToneSpectroscopy import *"
   ]
  },
  {
   "cell_type": "code",
   "execution_count": 10,
   "metadata": {
    "collapsed": false
   },
   "outputs": [],
   "source": [
    "ro_iqawg.output_pulse_sequence(ro_pb.add_dc_pulse(800,2).build())"
   ]
  },
  {
   "cell_type": "code",
   "execution_count": 9,
   "metadata": {
    "collapsed": false
   },
   "outputs": [
    {
     "name": "stdout",
     "output_type": "stream",
     "text": [
      "The device vna1 is detected as PNA-L1\n",
      "The device yok3 is detected as GS210_3\n",
      "Started at:  2017-08-11 14:56:45.434610\n",
      "Time left: 0 h 0 m 38.62 s, [current: 1.31e-03]: , average cycle time: 2.03 s       "
     ]
    }
   ],
   "source": [
    "STS = SingleToneSpectroscopy(\"III-anticrossing\", \"Xmons_Nb_bandage\", vna = 'vna1', src = 'yok3')\n",
    "vna_parameters = {\"bandwidth\":500, \"freq_limits\":(7.52e9, 7.55e9), \"nop\":1001, \"sweep_type\": \"LIN\", \"power\":7, \"averages\":1}\n",
    "STS.set_fixed_parameters(vna_parameters)\n",
    "currents = linspace(1.2e-3, 1.5e-3, 31)\n",
    "STS._src.set_current(currents[0])\n",
    "sleep(1)\n",
    "STS.set_swept_parameters({'current': (STS._src.set_current, currents)})\n",
    "result = STS.launch()\n",
    "STS._src.set_current(0);\n",
    "result.visualize();"
   ]
  },
  {
   "cell_type": "code",
   "execution_count": 27,
   "metadata": {
    "collapsed": true
   },
   "outputs": [],
   "source": [
    "result.visualize();"
   ]
  },
  {
   "cell_type": "code",
   "execution_count": 13,
   "metadata": {
    "collapsed": true
   },
   "outputs": [],
   "source": [
    "result.save()"
   ]
  },
  {
   "cell_type": "markdown",
   "metadata": {},
   "source": [
    "## Two-tone spectroscopy"
   ]
  },
  {
   "cell_type": "code",
   "execution_count": 10,
   "metadata": {
    "collapsed": false
   },
   "outputs": [],
   "source": [
    "# reload(lib2.Measurement)\n",
    "#reload(lib2.TwoToneSpectroscopyBase)\n",
    "#reload(lib2.TwoToneSpectroscopy)\n",
    "from lib2.TwoToneSpectroscopy import *"
   ]
  },
  {
   "cell_type": "code",
   "execution_count": 12,
   "metadata": {
    "collapsed": false
   },
   "outputs": [],
   "source": [
    "q_iqawg.output_pulse_sequence(q_pb.add_dc_pulse(800,2).build())\n",
    "ro_iqawg.output_pulse_sequence(ro_pb.add_dc_pulse(800,2).build())"
   ]
  },
  {
   "cell_type": "code",
   "execution_count": 16,
   "metadata": {
    "collapsed": false
   },
   "outputs": [
    {
     "data": {
      "text/plain": [
       "(16, <StatusCode.success: 0>)"
      ]
     },
     "execution_count": 16,
     "metadata": {},
     "output_type": "execute_result"
    }
   ],
   "source": [
    "ro_awg._visainstrument.write(\":ARM:SOUR1 IMM\")"
   ]
  },
  {
   "cell_type": "markdown",
   "metadata": {},
   "source": [
    "#### Qubit spectrum"
   ]
  },
  {
   "cell_type": "code",
   "execution_count": 21,
   "metadata": {
    "collapsed": false,
    "scrolled": false
   },
   "outputs": [
    {
     "name": "stdout",
     "output_type": "stream",
     "text": [
      "vna1 is already initialized\n",
      "mxg is already initialized\n",
      "yok3 is already initialized\n",
      "Detecting a resonator within provided frequency range of the VNA (7525000000.0, 7545678000.0)                    at qubit's sweet spot (1.35 mA)\n",
      "Detected frequency is 7.53511 GHz, at 12.24 mU and -18.04 degrees\n"
     ]
    }
   ],
   "source": [
    "TTS = FluxTwoToneSpectroscopy(\"I-two-tone\", \"Xmons_Nb_bandage\", vna_name=\"vna1\", \n",
    "                              mw_src_name=\"mxg\", current_src_name=\"yok3\")\n",
    "vna_parameters = {\"bandwidth\":50, \"freq_limits\":(7.525e9, 7.545678e9), \"nop\":20, \"sweep_type\":\"LIN\", \"power\":-12, \"averages\":1}\n",
    "mw_src_parameters = {\"power\":0}\n",
    "mw_src_frequencies = linspace(5.8e9, 6.3e9, 101)\n",
    "currents = linspace(1.2e-3, 1.5e-3, 31)\n",
    "TTS.setup_control_parameters(vna_parameters, mw_src_parameters, mw_src_frequencies, currents)"
   ]
  },
  {
   "cell_type": "code",
   "execution_count": null,
   "metadata": {
    "collapsed": false,
    "scrolled": true
   },
   "outputs": [
    {
     "name": "stdout",
     "output_type": "stream",
     "text": [
      "Started at:  2017-08-11 15:03:52.973064\n",
      "Time left: 0 h 20 m 27.97 s, parameter value: 1.210e-03, average cycle time: 0.41 s          "
     ]
    }
   ],
   "source": [
    "result = TTS.launch()"
   ]
  },
  {
   "cell_type": "code",
   "execution_count": 14,
   "metadata": {
    "collapsed": true
   },
   "outputs": [],
   "source": [
    "result.visualize();"
   ]
  },
  {
   "cell_type": "code",
   "execution_count": 186,
   "metadata": {
    "collapsed": true
   },
   "outputs": [],
   "source": [
    "result.save()"
   ]
  },
  {
   "cell_type": "markdown",
   "metadata": {},
   "source": [
    "##### TTS result processing and fitting"
   ]
  },
  {
   "cell_type": "code",
   "execution_count": 72,
   "metadata": {
    "collapsed": false
   },
   "outputs": [],
   "source": [
    "angles = np.angle(result.get_data()['data'])\n",
    "curs = result.get_data()['Current [A]']\n",
    "freqs = result.get_data()['frequency']"
   ]
  },
  {
   "cell_type": "code",
   "execution_count": 76,
   "metadata": {
    "collapsed": false
   },
   "outputs": [],
   "source": [
    "TTS_pts = []\n",
    "for i,ang_slice in enumerate(angles[:]):\n",
    "    TTS_pts.append(freqs[np.argmax(ang_slice)])"
   ]
  },
  {
   "cell_type": "code",
   "execution_count": 237,
   "metadata": {
    "collapsed": true
   },
   "outputs": [],
   "source": [
    "def f_spectr(x, x0, A, delt):\n",
    "    return (-1*np.sqrt((A*(x-x0))**2 + (delt)**2)) + 2*delt"
   ]
  },
  {
   "cell_type": "code",
   "execution_count": 243,
   "metadata": {
    "collapsed": false
   },
   "outputs": [],
   "source": [
    "plt.plot(curs, f_spectr(np.array(curs), 1.35e-3, 1e14, 6e9));"
   ]
  },
  {
   "cell_type": "code",
   "execution_count": 248,
   "metadata": {
    "collapsed": false
   },
   "outputs": [],
   "source": [
    "popt, pcov = scipy.optimize.curve_fit(f_spectr, curs[1:-2], np.array(TTS_pts[1:-2]), p0=[1.35e-3, 1e14, 6.15e9]);\n",
    "plt.plot(curs[1:-2], np.array(TTS_pts[1:-2]), 'o', curs[1:-2], f_spectr(curs[1:-2], *popt));\n",
    "plt.grid(True)"
   ]
  },
  {
   "cell_type": "markdown",
   "metadata": {},
   "source": [
    "___________________"
   ]
  },
  {
   "cell_type": "code",
   "execution_count": null,
   "metadata": {
    "collapsed": true
   },
   "outputs": [],
   "source": [
    "result._name = \"5.5GHz-two-tone-w-loop_-0.5mA-and-coil\""
   ]
  },
  {
   "cell_type": "code",
   "execution_count": null,
   "metadata": {
    "collapsed": true
   },
   "outputs": [],
   "source": [
    "TTS._mw_src.set_output_state(\"OFF\")"
   ]
  },
  {
   "cell_type": "markdown",
   "metadata": {},
   "source": [
    "#### Linewidth from excitation power"
   ]
  },
  {
   "cell_type": "code",
   "execution_count": 283,
   "metadata": {
    "collapsed": false
   },
   "outputs": [],
   "source": [
    "ro_iqawg.output_pulse_sequence(ro_pb.add_dc_pulse(1000, 1).build())\n",
    "q_iqawg.output_pulse_sequence(q_pb.add_dc_pulse(1000, 1).build())"
   ]
  },
  {
   "cell_type": "code",
   "execution_count": 58,
   "metadata": {
    "collapsed": false,
    "scrolled": true
   },
   "outputs": [
    {
     "name": "stdout",
     "output_type": "stream",
     "text": [
      "vna1 is already initialized\n",
      "mxg is already initialized\n",
      "yok3 is already initialized\n",
      "Detecting a resonator within provided frequency range of the VNA (7520000000.0, 7550000000.0)                    at current of 1.36 mA\n",
      "Detected frequency is 7.53511 GHz, at 4.53 mU and -123.33 degrees\n"
     ]
    }
   ],
   "source": [
    "PTS = PowerTwoToneSpectroscopy(\"VI-powerscan\", \"Xmons_Nb_bandage\", vna_name='vna1', mw_src_name='mxg', current_src_name='yok3')\n",
    "vna_parameters = {\"bandwidth\":200, \"freq_limits\":(7.52e9, 7.55e9), \"nop\":50, \"power\":7, \"sweep_type\":\"CW\",\"averages\":1}\n",
    "mw_src_parameters = {}\n",
    "mw_src_frequencies = linspace(6.14e9, 6.18e9,401)\n",
    "mw_src_powers = linspace(7, 7.1, 2)\n",
    "current = 1.36e-3\n",
    "PTS.setup_control_parameters(vna_parameters, mw_src_parameters, mw_src_frequencies, mw_src_powers, current)\n",
    "PTS._measurement_result.set_phase_units(\"deg\")"
   ]
  },
  {
   "cell_type": "code",
   "execution_count": 59,
   "metadata": {
    "collapsed": false,
    "scrolled": true
   },
   "outputs": [
    {
     "name": "stdout",
     "output_type": "stream",
     "text": [
      "Started at:  2017-08-08 19:45:43.804415\n",
      "Time left: 0 h 3 m 26.8 s, parameter value: 7.000e+00, average cycle time: 0.28 s           "
     ]
    }
   ],
   "source": [
    "result = PTS.launch()"
   ]
  },
  {
   "cell_type": "code",
   "execution_count": 336,
   "metadata": {
    "collapsed": false
   },
   "outputs": [],
   "source": [
    "result.set_plot_range(min_abs=0.19, max_abs=0.21, min_phas=65, max_phas=85)"
   ]
  },
  {
   "cell_type": "code",
   "execution_count": 320,
   "metadata": {
    "collapsed": false
   },
   "outputs": [],
   "source": [
    "result._plot_limits_fixed = True"
   ]
  },
  {
   "cell_type": "code",
   "execution_count": 51,
   "metadata": {
    "collapsed": false
   },
   "outputs": [],
   "source": [
    "result.visualize();"
   ]
  },
  {
   "cell_type": "code",
   "execution_count": 50,
   "metadata": {
    "collapsed": false
   },
   "outputs": [
    {
     "data": {
      "text/plain": [
       "dict_keys(['vna1', 'mxg', 'yok3', 'awg3', 'awg2'])"
      ]
     },
     "execution_count": 50,
     "metadata": {},
     "output_type": "execute_result"
    }
   ],
   "source": [
    "TTS._actual_devices.keys()"
   ]
  },
  {
   "cell_type": "code",
   "execution_count": null,
   "metadata": {
    "collapsed": false
   },
   "outputs": [],
   "source": [
    "TTS._construct_fixed_parameters()"
   ]
  },
  {
   "cell_type": "code",
   "execution_count": null,
   "metadata": {
    "collapsed": true
   },
   "outputs": [],
   "source": [
    "vna.set_parameters(PTS._pre_measurement_vna_parameters)"
   ]
  },
  {
   "cell_type": "code",
   "execution_count": 338,
   "metadata": {
    "collapsed": true
   },
   "outputs": [],
   "source": [
    "result.save()"
   ]
  },
  {
   "cell_type": "code",
   "execution_count": null,
   "metadata": {
    "collapsed": true
   },
   "outputs": [],
   "source": [
    "mxg.set_frequency(7.898e9)\n",
    "mxg.set_power(-30)\n",
    "mxg.set_output_state(\"OFF\")\n",
    "vna.prepare_for_stb(); vna.sweep_single(); vna.wait_for_stb()\n",
    "ground_state_sdata = vna.get_sdata()\n",
    "\n",
    "mxg.set_output_state(\"ON\")\n",
    "vna.prepare_for_stb(); vna.sweep_single(); vna.wait_for_stb()\n",
    "mixed_state_sdata = vna.get_sdata()"
   ]
  },
  {
   "cell_type": "code",
   "execution_count": null,
   "metadata": {
    "collapsed": true
   },
   "outputs": [],
   "source": [
    "plot(abs(ground_state_sdata))\n",
    "plot(abs(mixed_state_sdata))\n",
    "plot((abs(ground_state_sdata)[10:]+abs(ground_state_sdata)[:-10])/2)"
   ]
  },
  {
   "cell_type": "markdown",
   "metadata": {},
   "source": [
    "#### AC Stark"
   ]
  },
  {
   "cell_type": "code",
   "execution_count": 95,
   "metadata": {
    "collapsed": false
   },
   "outputs": [
    {
     "ename": "AttributeError",
     "evalue": "'KeysightAWG' object has no attribute 'output_pulse_sequence'",
     "output_type": "error",
     "traceback": [
      "\u001b[0;31m---------------------------------------------------------------------------\u001b[0m",
      "\u001b[0;31mAttributeError\u001b[0m                            Traceback (most recent call last)",
      "\u001b[0;32m<ipython-input-95-985bf991799b>\u001b[0m in \u001b[0;36m<module>\u001b[0;34m()\u001b[0m\n\u001b[0;32m----> 1\u001b[0;31m \u001b[0mro_awg\u001b[0m\u001b[1;33m.\u001b[0m\u001b[0moutput_pulse_sequence\u001b[0m\u001b[1;33m(\u001b[0m\u001b[0mro_pb\u001b[0m\u001b[1;33m.\u001b[0m\u001b[0madd_dc_pulse\u001b[0m\u001b[1;33m(\u001b[0m\u001b[1;36m100\u001b[0m\u001b[1;33m)\u001b[0m\u001b[1;33m.\u001b[0m\u001b[0mbuild\u001b[0m\u001b[1;33m(\u001b[0m\u001b[1;33m)\u001b[0m\u001b[1;33m)\u001b[0m\u001b[1;33m\u001b[0m\u001b[0m\n\u001b[0m\u001b[1;32m      2\u001b[0m \u001b[0mq_awg\u001b[0m\u001b[1;33m.\u001b[0m\u001b[0moutput_pulse_sequence\u001b[0m\u001b[1;33m(\u001b[0m\u001b[0mq_pb\u001b[0m\u001b[1;33m.\u001b[0m\u001b[0madd_dc_pulse\u001b[0m\u001b[1;33m(\u001b[0m\u001b[1;36m100\u001b[0m\u001b[1;33m,\u001b[0m \u001b[1;36m5\u001b[0m\u001b[1;33m)\u001b[0m\u001b[1;33m.\u001b[0m\u001b[0mbuild\u001b[0m\u001b[1;33m(\u001b[0m\u001b[1;33m)\u001b[0m\u001b[1;33m)\u001b[0m\u001b[1;33m\u001b[0m\u001b[0m\n",
      "\u001b[0;31mAttributeError\u001b[0m: 'KeysightAWG' object has no attribute 'output_pulse_sequence'"
     ]
    }
   ],
   "source": [
    "ro_awg.output_pulse_sequence(ro_pb.add_dc_pulse(100).build())\n",
    "q_awg.output_pulse_sequence(q_pb.add_dc_pulse(100, 5).build())"
   ]
  },
  {
   "cell_type": "code",
   "execution_count": null,
   "metadata": {
    "collapsed": false
   },
   "outputs": [],
   "source": [
    "ASTS = AcStarkTwoToneSpectroscopy(\"VI-ac-stark\", \"Xmon Al BMSTU S444 2\")\n",
    "vna_parameters = {\"bandwidth\":1000, \"freq_limits\":(7040e6, 7052.5e6), \"nop\":1, \"power\":-35, \"averages\":100}\n",
    "mw_src_parameters = {\"power\":-15, \"frequency\":-1}\n",
    "mw_src_frequencies = linspace(7.40e9, 7.46e9, 100)\n",
    "vna_powers = linspace(-30, 0, 31)\n",
    "current = 2.355e-3\n",
    "ASTS.setup_control_parameters(vna_parameters, mw_src_parameters, mw_src_frequencies, vna_powers, current)"
   ]
  },
  {
   "cell_type": "code",
   "execution_count": null,
   "metadata": {
    "collapsed": false
   },
   "outputs": [],
   "source": [
    "result = ASTS.launch()"
   ]
  },
  {
   "cell_type": "code",
   "execution_count": 87,
   "metadata": {
    "collapsed": false
   },
   "outputs": [
    {
     "data": {
      "text/plain": [
       "(<matplotlib.figure.Figure at 0x11962518>,\n",
       " array([<matplotlib.axes._subplots.AxesSubplot object at 0x0000000011B92A20>,\n",
       "        <matplotlib.axes._subplots.AxesSubplot object at 0x000000001235A898>], dtype=object),\n",
       " (<matplotlib.axes._axes.Axes at 0x123bcd30>,\n",
       "  <matplotlib.axes._axes.Axes at 0x12422160>))"
      ]
     },
     "execution_count": 87,
     "metadata": {},
     "output_type": "execute_result"
    }
   ],
   "source": [
    "result.visualize()"
   ]
  },
  {
   "cell_type": "code",
   "execution_count": 86,
   "metadata": {
    "collapsed": true
   },
   "outputs": [],
   "source": [
    "result.save()"
   ]
  },
  {
   "cell_type": "code",
   "execution_count": 274,
   "metadata": {
    "collapsed": true
   },
   "outputs": [],
   "source": [
    "TTS.close_devs(\"mxg\")"
   ]
  },
  {
   "cell_type": "markdown",
   "metadata": {},
   "source": [
    "__________________________"
   ]
  },
  {
   "cell_type": "markdown",
   "metadata": {},
   "source": [
    "# Time-domain measurements"
   ]
  },
  {
   "cell_type": "markdown",
   "metadata": {},
   "source": [
    "### Check mixer calibration"
   ]
  },
  {
   "cell_type": "code",
   "execution_count": 22,
   "metadata": {
    "collapsed": false
   },
   "outputs": [],
   "source": [
    "q_lo = TTS._mw_src\n",
    "q_lo.set_output_state(\"ON\")\n",
    "q_lo.set_frequency(6.14e9)\n",
    "q_lo.set_power(10)"
   ]
  },
  {
   "cell_type": "code",
   "execution_count": 55,
   "metadata": {
    "collapsed": true
   },
   "outputs": [],
   "source": [
    "q_lo.visa_instr.close()"
   ]
  },
  {
   "cell_type": "code",
   "execution_count": 142,
   "metadata": {
    "collapsed": true
   },
   "outputs": [],
   "source": [
    "TTS._vna.set_nop(1)\n",
    "TTS._vna.set_power(7)\n",
    "TTS._vna.set_center(7.53511e9)\n",
    "TTS._vna.sweep_continuous()"
   ]
  },
  {
   "cell_type": "code",
   "execution_count": 18,
   "metadata": {
    "collapsed": false
   },
   "outputs": [],
   "source": [
    "q_awg.output_pulse_sequence(q_pb.add_zero_pulse(20).build())\n",
    "ro_awg.output_pulse_sequence(ro_pb.add_zero_pulse(20).build())"
   ]
  },
  {
   "cell_type": "code",
   "execution_count": 19,
   "metadata": {
    "collapsed": false
   },
   "outputs": [],
   "source": [
    "q_awg.output_pulse_sequence(q_pb.add_sine_pulse(200,0).build())\n",
    "ro_awg.output_pulse_sequence(ro_pb.add_dc_pulse(200,5).build())"
   ]
  },
  {
   "cell_type": "code",
   "execution_count": 28,
   "metadata": {
    "collapsed": true,
    "scrolled": true
   },
   "outputs": [
    {
     "data": {
      "text/plain": [
       "{'if_frequency': 50000000.0,\n",
       " 'lo_frequency': 6210000000.0,\n",
       " 'lo_power': 7,\n",
       " 'ssb_power': -22,\n",
       " 'waveform_resolution': 0.1}"
      ]
     },
     "execution_count": 28,
     "metadata": {},
     "output_type": "execute_result"
    }
   ],
   "source": [
    "q_cal.get_radiation_parameters()"
   ]
  },
  {
   "cell_type": "markdown",
   "metadata": {},
   "source": [
    "### Set qubit frequency"
   ]
  },
  {
   "cell_type": "code",
   "execution_count": 23,
   "metadata": {
    "collapsed": false
   },
   "outputs": [
    {
     "data": {
      "text/plain": [
       "True"
      ]
     },
     "execution_count": 23,
     "metadata": {},
     "output_type": "execute_result"
    }
   ],
   "source": [
    "TTS._current_src.set_current(1.33e-3)"
   ]
  },
  {
   "cell_type": "code",
   "execution_count": 23,
   "metadata": {
    "collapsed": false
   },
   "outputs": [
    {
     "data": {
      "text/plain": [
       "6164000000.0"
      ]
     },
     "execution_count": 23,
     "metadata": {},
     "output_type": "execute_result"
    }
   ],
   "source": [
    "q_freq"
   ]
  },
  {
   "cell_type": "code",
   "execution_count": 27,
   "metadata": {
    "collapsed": true
   },
   "outputs": [],
   "source": [
    "q_freq = 6.164e9"
   ]
  },
  {
   "cell_type": "code",
   "execution_count": null,
   "metadata": {
    "collapsed": false
   },
   "outputs": [],
   "source": [
    "q_freq = q_freq+0.03e6\n",
    "q_freq"
   ]
  },
  {
   "cell_type": "markdown",
   "metadata": {},
   "source": [
    "### Rabi "
   ]
  },
  {
   "cell_type": "code",
   "execution_count": 29,
   "metadata": {
    "collapsed": false
   },
   "outputs": [],
   "source": [
    "# reload(lib2.VNATimeResolvedDispersiveMeasurement)\n",
    "# reload(lib2.VNATimeResolvedDispersiveMeasurement1D)\n",
    "# reload(lib2.DispersiveRabiOscillations)\n",
    "from lib2.DispersiveRabiOscillations import DispersiveRabiOscillations"
   ]
  },
  {
   "cell_type": "code",
   "execution_count": 106,
   "metadata": {
    "collapsed": true
   },
   "outputs": [],
   "source": [
    "ro_iqawg.output_pulse_sequence(ro_pb.add_dc_pulse(900, 1).add_zero_pulse(100).build())\n",
    "q_iqawg.output_pulse_sequence(q_pb.add_dc_pulse(900, 1).add_zero_pulse(100).build())"
   ]
  },
  {
   "cell_type": "code",
   "execution_count": 34,
   "metadata": {
    "collapsed": false,
    "scrolled": true
   },
   "outputs": [
    {
     "name": "stdout",
     "output_type": "stream",
     "text": [
      "vna1 is already initialized\n",
      "mxg is already initialized\n",
      "Detecting a resonator within provided frequency range of the VNA (7525000000.0, 7545010000.0)                    \n",
      "Detected frequency is 7.53506 GHz, at 3.19 mU and -139.71 degrees\n"
     ]
    }
   ],
   "source": [
    "DRO = DispersiveRabiOscillations(\"I-rabi-recal\", \"Xmons_Nb_bandage\",\n",
    "            vna_name=\"vna1\", ro_awg=ro_iqawg, q_awg=q_iqawg, q_lo_name='mxg')\n",
    "vna_parameters = {\"bandwidth\":3, \"freq_limits\":(7.525e9, 7.54501e9), \"nop\":3, \"sweep_type\":\"LIN\", \"averages\":1}\n",
    "exc_frequency = q_freq\n",
    "excitation_durations = linspace(0, 1500, 501)\n",
    "rabi_sequence_parameters = {\"awg_trigger_reaction_delay\":390, \"readout_duration\":1000, \"repetition_period\":8000}\n",
    "ro_awg_params =  {\"calibration\":ro_cal}\n",
    "q_awg_params = {\"calibration\":q_cal}\n",
    "DRO.set_fixed_parameters(vna_parameters, ro_awg_params, q_awg_params, exc_frequency, rabi_sequence_parameters)\n",
    "DRO.set_swept_parameters(excitation_durations)"
   ]
  },
  {
   "cell_type": "code",
   "execution_count": 35,
   "metadata": {
    "collapsed": false,
    "scrolled": false
   },
   "outputs": [
    {
     "name": "stdout",
     "output_type": "stream",
     "text": [
      "Started at:  2017-08-11 13:15:56.939507\n",
      "Time left: 0 h 5 m 26.93 s, [excitation_duration: 8.10e+02]: , average cycle time: 1.42 s        "
     ]
    },
    {
     "name": "stderr",
     "output_type": "stream",
     "text": [
      "Traceback (most recent call last):\n",
      "  File \"C:\\Users\\PAINMASTER\\Measurement\\lib2\\Measurement.py\", line 196, in launch\n",
      "    plt.pause(self._plot_update_interval)\n",
      "  File \"C:\\ProgramData\\Anaconda3\\lib\\site-packages\\matplotlib\\pyplot.py\", line 298, in pause\n",
      "    canvas.draw()\n",
      "  File \"C:\\ProgramData\\Anaconda3\\lib\\site-packages\\matplotlib\\backends\\backend_qt5agg.py\", line 176, in draw\n",
      "    FigureCanvasAgg.draw(self)\n",
      "  File \"C:\\ProgramData\\Anaconda3\\lib\\site-packages\\matplotlib\\backends\\backend_agg.py\", line 464, in draw\n",
      "    self.figure.draw(self.renderer)\n",
      "  File \"C:\\ProgramData\\Anaconda3\\lib\\site-packages\\matplotlib\\artist.py\", line 63, in draw_wrapper\n",
      "    draw(artist, renderer, *args, **kwargs)\n",
      "  File \"C:\\ProgramData\\Anaconda3\\lib\\site-packages\\matplotlib\\figure.py\", line 1143, in draw\n",
      "    renderer, self, dsu, self.suppressComposite)\n",
      "  File \"C:\\ProgramData\\Anaconda3\\lib\\site-packages\\matplotlib\\image.py\", line 139, in _draw_list_compositing_images\n",
      "    a.draw(renderer)\n",
      "  File \"C:\\ProgramData\\Anaconda3\\lib\\site-packages\\matplotlib\\artist.py\", line 63, in draw_wrapper\n",
      "    draw(artist, renderer, *args, **kwargs)\n",
      "  File \"C:\\ProgramData\\Anaconda3\\lib\\site-packages\\matplotlib\\axes\\_base.py\", line 2409, in draw\n",
      "    mimage._draw_list_compositing_images(renderer, self, dsu)\n",
      "  File \"C:\\ProgramData\\Anaconda3\\lib\\site-packages\\matplotlib\\image.py\", line 139, in _draw_list_compositing_images\n",
      "    a.draw(renderer)\n",
      "  File \"C:\\ProgramData\\Anaconda3\\lib\\site-packages\\matplotlib\\artist.py\", line 63, in draw_wrapper\n",
      "    draw(artist, renderer, *args, **kwargs)\n",
      "  File \"C:\\ProgramData\\Anaconda3\\lib\\site-packages\\matplotlib\\axis.py\", line 1141, in draw\n",
      "    tick.draw(renderer)\n",
      "  File \"C:\\ProgramData\\Anaconda3\\lib\\site-packages\\matplotlib\\artist.py\", line 63, in draw_wrapper\n",
      "    draw(artist, renderer, *args, **kwargs)\n",
      "  File \"C:\\ProgramData\\Anaconda3\\lib\\site-packages\\matplotlib\\axis.py\", line 257, in draw\n",
      "    self.gridline.draw(renderer)\n",
      "  File \"C:\\ProgramData\\Anaconda3\\lib\\site-packages\\matplotlib\\artist.py\", line 63, in draw_wrapper\n",
      "    draw(artist, renderer, *args, **kwargs)\n",
      "  File \"C:\\ProgramData\\Anaconda3\\lib\\site-packages\\matplotlib\\lines.py\", line 822, in draw\n",
      "    drawFunc(renderer, gc, tpath, affine.frozen())\n",
      "  File \"C:\\ProgramData\\Anaconda3\\lib\\site-packages\\matplotlib\\lines.py\", line 1267, in _draw_lines\n",
      "    self._lineFunc(renderer, gc, path, trans)\n",
      "  File \"C:\\ProgramData\\Anaconda3\\lib\\site-packages\\matplotlib\\lines.py\", line 1308, in _draw_dotted\n",
      "    renderer.draw_path(gc, path, trans)\n",
      "  File \"C:\\ProgramData\\Anaconda3\\lib\\site-packages\\matplotlib\\backends\\backend_agg.py\", line 166, in draw_path\n",
      "    self._renderer.draw_path(gc, path, transform, rgbFace)\n",
      "ValueError: object too deep for desired array\n"
     ]
    }
   ],
   "source": [
    "result = DRO.launch()"
   ]
  },
  {
   "cell_type": "code",
   "execution_count": 214,
   "metadata": {
    "collapsed": false
   },
   "outputs": [
    {
     "data": {
      "text/plain": [
       "({'dc_offsets': array([ 0.00217761, -0.02069942]),\n",
       "  'dc_offsets_open': None,\n",
       "  'if_amplitudes': array([ 0.4911197 ,  0.46191546]),\n",
       "  'if_offsets': array([ 0.00108721, -0.01972392]),\n",
       "  'if_phase': array([-1.60931904])},\n",
       " {'dc': -72.808212280273438,\n",
       "  'if': [-10.028465270996094, -36.78864288330078, -86.7591781616211]})"
      ]
     },
     "execution_count": 214,
     "metadata": {},
     "output_type": "execute_result"
    }
   ],
   "source": [
    "q_iqawg.get_calibration().get_optimization_results()"
   ]
  },
  {
   "cell_type": "code",
   "execution_count": 36,
   "metadata": {
    "collapsed": true
   },
   "outputs": [],
   "source": [
    "result.visualize();"
   ]
  },
  {
   "cell_type": "code",
   "execution_count": 37,
   "metadata": {
    "collapsed": true
   },
   "outputs": [],
   "source": [
    "result.save()"
   ]
  },
  {
   "cell_type": "code",
   "execution_count": 84,
   "metadata": {
    "collapsed": false
   },
   "outputs": [
    {
     "data": {
      "text/plain": [
       "69.272230575451886"
      ]
     },
     "execution_count": 84,
     "metadata": {},
     "output_type": "execute_result"
    }
   ],
   "source": [
    "pi_pulse_duration = result.get_pi_pulse_duration()*1e3\n",
    "pi_pulse_duration"
   ]
  },
  {
   "cell_type": "code",
   "execution_count": 20,
   "metadata": {
    "collapsed": true
   },
   "outputs": [],
   "source": [
    "pi_pulse_duration = 58.66"
   ]
  },
  {
   "cell_type": "markdown",
   "metadata": {},
   "source": [
    "### Decay"
   ]
  },
  {
   "cell_type": "code",
   "execution_count": 237,
   "metadata": {
    "collapsed": true
   },
   "outputs": [],
   "source": [
    "# reload(lib2.VNATimeResolvedMeasurement)\n",
    "# reload(lib2.DispersiveDecay)\n",
    "from lib2.DispersiveDecay import *"
   ]
  },
  {
   "cell_type": "code",
   "execution_count": 256,
   "metadata": {
    "collapsed": false
   },
   "outputs": [
    {
     "name": "stdout",
     "output_type": "stream",
     "text": [
      "vna1 is already initialized\n",
      "mxg is already initialized\n",
      "Detecting a resonator within provided frequency range of the VNA (7525000000.0, 7545000000.0)                    \n",
      "Detected frequency is 7.53505 GHz, at 0.73 mU and -65.96 degrees\n"
     ]
    }
   ],
   "source": [
    "DD = DispersiveDecay(\"I-decay\", \"Xmons_Nb_bandage\",\n",
    "            vna_name=\"vna1\", ro_awg=ro_iqawg, q_awg=q_iqawg, q_lo_name='mxg', )\n",
    "vna_parameters = {\"bandwidth\":20, \"freq_limits\":(7525e6, 7545e6), \"nop\":40, \"sweep_type\":\"CW\", \"averages\":5}\n",
    "q_frequency = q_freq\n",
    "readout_delays = linspace(0, 5000,101)\n",
    "rabi_sequence_parameters = {\"awg_trigger_reaction_delay\":390, \"readout_duration\":700, \n",
    "                            \"repetition_period\":7000, \"pi_pulse_duration\":pi_pulse_duration}\n",
    "ro_awg_params =  {\"calibration\":ro_cal}\n",
    "q_awg_params = {\"calibration\":q_cal}\n",
    "DD.set_fixed_parameters(vna_parameters, ro_awg_params, q_awg_params, q_frequency, rabi_sequence_parameters)\n",
    "DD.set_swept_parameters(readout_delays)"
   ]
  },
  {
   "cell_type": "code",
   "execution_count": 257,
   "metadata": {
    "collapsed": false
   },
   "outputs": [
    {
     "name": "stdout",
     "output_type": "stream",
     "text": [
      "Started at:  2017-08-09 20:55:19.016021\n",
      "Time left: 0 h 0 m 0.0 s, [readout_delay: 5.00e+03]: , average cycle time: 9.38 s          "
     ]
    }
   ],
   "source": [
    "dd_result = DD.launch()"
   ]
  },
  {
   "cell_type": "code",
   "execution_count": 292,
   "metadata": {
    "collapsed": true
   },
   "outputs": [],
   "source": [
    "dd_result.visualize();"
   ]
  },
  {
   "cell_type": "code",
   "execution_count": 259,
   "metadata": {
    "collapsed": true
   },
   "outputs": [],
   "source": [
    "dd_result.save()"
   ]
  },
  {
   "cell_type": "markdown",
   "metadata": {
    "collapsed": true
   },
   "source": [
    "### Ramsey"
   ]
  },
  {
   "cell_type": "code",
   "execution_count": 26,
   "metadata": {
    "collapsed": true
   },
   "outputs": [],
   "source": [
    "# reload(lib2.IQPulseSequence)\n",
    "# reload(lib2.VNATimeResolvedDispersiveMeasurement)\n",
    "# reload(lib2.VNATimeResolvedDispersiveMeasurement1D)\n",
    "# reload(lib2.DispersiveRamsey)\n",
    "from lib2.DispersiveRamsey import *"
   ]
  },
  {
   "cell_type": "code",
   "execution_count": 27,
   "metadata": {
    "collapsed": false
   },
   "outputs": [
    {
     "name": "stdout",
     "output_type": "stream",
     "text": [
      "vna1 is already initialized\n",
      "mxg is already initialized\n",
      "Detecting a resonator within provided frequency range of the VNA (7525000000.0, 7545500000.0)                    \n",
      "Detected frequency is 7.53510 GHz, at 0.87 mU and -56.44 degrees\n"
     ]
    }
   ],
   "source": [
    "DR = DispersiveRamsey(\"I-ramsey\", \"Xmons_Nb_bandage\", vna_name=\"vna1\", ro_awg=ro_iqawg, \n",
    "                                                                                  q_awg=q_iqawg, q_lo_name='mxg')\n",
    "vna_parameters = {\"bandwidth\":10, \"freq_limits\":(7525e6, 7545.5e6), \"nop\":10, \"averages\":2, \"sweep_type\":\"LIN\"}\n",
    "ramsey_delays = linspace(0, 2000, 100)\n",
    "exc_frequency = q_freq+5e6\n",
    "rabi_sequence_parameters = {\"awg_trigger_reaction_delay\":390, \"readout_duration\":800, \n",
    "                            \"repetition_period\":8000, \"half_pi_pulse_duration\":pi_pulse_duration/2}\n",
    "ro_awg_params =  {\"calibration\":ro_cal}\n",
    "q_awg_params = {\"calibration\":q_cal}\n",
    "DR.set_fixed_parameters(vna_parameters, ro_awg_params, q_awg_params, exc_frequency, rabi_sequence_parameters)\n",
    "DR.set_swept_parameters(ramsey_delays)"
   ]
  },
  {
   "cell_type": "code",
   "execution_count": 28,
   "metadata": {
    "collapsed": false
   },
   "outputs": [
    {
     "name": "stdout",
     "output_type": "stream",
     "text": [
      "Started at:  2017-08-10 10:29:46.450430\n",
      "Time left: 0 h 3 m 42.84 s, [ramsey_delay: 8.08e+01]: , average cycle time: 2.35 s       "
     ]
    },
    {
     "name": "stderr",
     "output_type": "stream",
     "text": [
      "C:\\ProgramData\\Anaconda3\\lib\\site-packages\\scipy\\optimize\\minpack.py:779: OptimizeWarning: Covariance of the parameters could not be estimated\n",
      "  category=OptimizeWarning)\n"
     ]
    },
    {
     "name": "stdout",
     "output_type": "stream",
     "text": [
      "Time left: 0 h 3 m 33.22 s, [ramsey_delay: 1.62e+02]: , average cycle time: 2.34 s       "
     ]
    }
   ],
   "source": [
    "dr_result = DR.launch()"
   ]
  },
  {
   "cell_type": "code",
   "execution_count": 305,
   "metadata": {
    "collapsed": true
   },
   "outputs": [],
   "source": [
    "dr_result.visualize();"
   ]
  },
  {
   "cell_type": "code",
   "execution_count": 306,
   "metadata": {
    "collapsed": true
   },
   "outputs": [],
   "source": [
    "dr_result.save()"
   ]
  },
  {
   "cell_type": "markdown",
   "metadata": {},
   "source": [
    "### Echo"
   ]
  },
  {
   "cell_type": "code",
   "execution_count": 80,
   "metadata": {
    "collapsed": true
   },
   "outputs": [],
   "source": [
    "# reload(lib2.VNATimeResolvedMeasurement)\n",
    "# from lib2.VNATimeResolvedMeasurement import *\n",
    "# reload(lib2.DispersiveHahnEcho)\n",
    "from lib2.DispersiveHahnEcho import *"
   ]
  },
  {
   "cell_type": "code",
   "execution_count": 89,
   "metadata": {
    "collapsed": false
   },
   "outputs": [
    {
     "name": "stdout",
     "output_type": "stream",
     "text": [
      "vna1 is already initialized\n",
      "mxg is already initialized\n",
      "Detecting a resonator within provided frequency range of the VNA (7525000000.0, 7545000000.0)                    \n",
      "Detected frequency is 7.53505 GHz, at 0.85 mU and -71.64 degrees\n"
     ]
    }
   ],
   "source": [
    "DHN = DispersiveHahnEcho(\"I-hahn-echo\", \"Xmons_Nb_bandage\",\n",
    "            vna_name=\"vna1\", ro_awg=ro_iqawg, q_awg=q_iqawg, q_lo_name='mxg')\n",
    "vna_parameters = {\"bandwidth\":10, \"freq_limits\":(7525e6, 7545e6), \"nop\":20, \"sweep_type\": \"LIN\", \"averages\":2}\n",
    "q_frequency = q_freq\n",
    "echo_delays = linspace(10, 5000, 101)\n",
    "sequence_parameters = {\"awg_trigger_reaction_delay\":390, \"readout_duration\":1000, \n",
    "                            \"repetition_period\":10000, \"half_pi_pulse_duration\":pi_pulse_duration/2}\n",
    "ro_awg_params =  {\"calibration\":ro_cal}\n",
    "q_awg_params = {\"calibration\":q_cal}\n",
    "DHN.set_fixed_parameters(vna_parameters, ro_awg_params, q_awg_params, q_frequency, sequence_parameters)\n",
    "DHN.set_swept_parameters(echo_delays)"
   ]
  },
  {
   "cell_type": "code",
   "execution_count": 90,
   "metadata": {
    "collapsed": false
   },
   "outputs": [
    {
     "name": "stdout",
     "output_type": "stream",
     "text": [
      "Started at:  2017-08-10 14:18:41.850050\n",
      "Time left: 0 h 0 m 0.0 s, [echo_delay: 5.00e+03]: , average cycle time: 4.13 s         "
     ]
    }
   ],
   "source": [
    "dhn_result = DHN.launch()"
   ]
  },
  {
   "cell_type": "code",
   "execution_count": 87,
   "metadata": {
    "collapsed": true
   },
   "outputs": [],
   "source": [
    "dhn_result.visualize();"
   ]
  },
  {
   "cell_type": "code",
   "execution_count": 88,
   "metadata": {
    "collapsed": true
   },
   "outputs": [],
   "source": [
    "dhn_result.save()"
   ]
  },
  {
   "cell_type": "code",
   "execution_count": null,
   "metadata": {
    "collapsed": true
   },
   "outputs": [],
   "source": [
    "MeasurementResult.load(\"Xmon Al BMSTU S444 2\", \"VI-hahn-echo\").visualize()"
   ]
  },
  {
   "cell_type": "markdown",
   "metadata": {},
   "source": [
    "### Ramsey fringes"
   ]
  },
  {
   "cell_type": "code",
   "execution_count": 103,
   "metadata": {
    "collapsed": true
   },
   "outputs": [],
   "source": [
    "# reload(lib2.Measurement)\n",
    "# reload(drivers.KeysightAWG)\n",
    "reload(lib2.VNATimeResolvedDispersiveMeasurement)\n",
    "reload(lib2.VNATimeResolvedDispersiveMeasurement1D)\n",
    "reload(lib2.DispersiveRamseyFringes)\n",
    "from lib2.DispersiveRamseyFringes import *"
   ]
  },
  {
   "cell_type": "code",
   "execution_count": 124,
   "metadata": {
    "collapsed": false
   },
   "outputs": [
    {
     "name": "stdout",
     "output_type": "stream",
     "text": [
      "vna1 is already initialized\n",
      "mxg is already initialized\n",
      "Detecting a resonator within provided frequency range of the VNA (7524000000.0, 7544000000.0)                    \n",
      "Detected frequency is 7.53506 GHz, at 0.81 mU and -67.34 degrees\n"
     ]
    }
   ],
   "source": [
    "DRF = DispersiveRamseyFringes(\"I-ramsey-fringes\", \"Xmons_Nb_bandage\",\n",
    "                                      vna_name=\"vna1\", ro_awg=ro_iqawg, q_awg=q_iqawg, q_lo_name='mxg')\n",
    "vna_parameters = {\"bandwidth\":10, \"freq_limits\":(7524e6, 7544e6), \"nop\":1, \"sweep_type\":\"CW\", \"averages\":3}\n",
    "q_frequency =6.1575e9\n",
    "excitation_freqs = linspace(q_frequency-5e6, q_frequency+5e6, 101)\n",
    "ramsey_delays = linspace(10, 5000, 100)\n",
    "sequence_parameters = {\"awg_trigger_reaction_delay\":400, \"readout_duration\":1000, \n",
    "                            \"repetition_period\":10000, \"half_pi_pulse_duration\":pi_pulse_duration/2}\n",
    "ro_awg_params =  {\"calibration\":ro_cal}\n",
    "q_awg_params = {\"calibration\":q_cal}\n",
    "DRF.set_fixed_parameters(vna_parameters, ro_awg_params, q_awg_params, sequence_parameters)\n",
    "DRF.set_swept_parameters(ramsey_delays, excitation_freqs)"
   ]
  },
  {
   "cell_type": "code",
   "execution_count": 125,
   "metadata": {
    "collapsed": false
   },
   "outputs": [
    {
     "name": "stdout",
     "output_type": "stream",
     "text": [
      "Started at:  2017-08-10 18:04:32.275090\n",
      "Time left: 0 h 3 m 40.02 s, [ramsey_delay: 4.70e+03, excitation_frequency: 6.16e+09]: , average cycle time: 0.33 s        "
     ]
    }
   ],
   "source": [
    "drf_result = DRF.launch()"
   ]
  },
  {
   "cell_type": "code",
   "execution_count": null,
   "metadata": {
    "collapsed": true
   },
   "outputs": [],
   "source": [
    "drf_result.visualize()"
   ]
  },
  {
   "cell_type": "code",
   "execution_count": 126,
   "metadata": {
    "collapsed": true
   },
   "outputs": [],
   "source": [
    "drf_result.save()"
   ]
  },
  {
   "cell_type": "markdown",
   "metadata": {},
   "source": [
    "### Rabi shevrons"
   ]
  },
  {
   "cell_type": "code",
   "execution_count": 71,
   "metadata": {
    "collapsed": true
   },
   "outputs": [],
   "source": [
    "# reload(lib2.VNATimeResolvedDispersiveMeasurement)\n",
    "# reload(lib2.VNATimeResolvedDispersiveMeasurement2D)\n",
    "reload(lib2.DispersiveRabiChevrons)\n",
    "from lib2.DispersiveRabiChevrons import *"
   ]
  },
  {
   "cell_type": "code",
   "execution_count": 74,
   "metadata": {
    "collapsed": false
   },
   "outputs": [
    {
     "name": "stdout",
     "output_type": "stream",
     "text": [
      "vna1 is already initialized\n",
      "mxg is already initialized\n",
      "Detecting a resonator within provided frequency range of the VNA (7525000000.0, 7545000000.0)                    \n",
      "Detected frequency is 7.53505 GHz, at 0.89 mU and -66.79 degrees\n"
     ]
    }
   ],
   "source": [
    "DRC = DispersiveRabiChevrons(\"I-rabi-shevrons\", \"Xmons_Nb_bandage\",\n",
    "                                      vna_name=\"vna1\", ro_awg=ro_iqawg, q_awg=q_iqawg, q_lo_name='mxg')\n",
    "vna_parameters = {\"bandwidth\":10, \"freq_limits\":(7525e6, 7545e6), \"nop\":4, \"averages\":2, \"sweep_type\": \"LIN\"}\n",
    "q_frequency = q_freq\n",
    "excitation_freqs = linspace(q_frequency-5e6, q_frequency+5e6, 41)\n",
    "rabi_delays = linspace(10, 3000, 200)\n",
    "sequence_parameters = {\"awg_trigger_reaction_delay\":400, \"readout_duration\":1000, \"repetition_period\":10000}\n",
    "ro_awg_params =  {\"calibration\":ro_cal}\n",
    "q_awg_params = {\"calibration\":q_cal}\n",
    "DRC.set_fixed_parameters(vna_parameters, ro_awg_params, q_awg_params, sequence_parameters)\n",
    "DRC.set_swept_parameters(rabi_delays, excitation_freqs)"
   ]
  },
  {
   "cell_type": "code",
   "execution_count": 75,
   "metadata": {
    "collapsed": false,
    "scrolled": true
   },
   "outputs": [
    {
     "name": "stdout",
     "output_type": "stream",
     "text": [
      "Started at:  2017-08-10 11:17:10.793118\n",
      "Time left: 0 h 0 m 0.0 s, [excitation_duration: 3.00e+03, excitation_frequency: 6.17e+09]: , average cycle time: 0.78 s          "
     ]
    }
   ],
   "source": [
    "drc_result = DRC.launch()"
   ]
  },
  {
   "cell_type": "code",
   "execution_count": 78,
   "metadata": {
    "collapsed": true
   },
   "outputs": [],
   "source": [
    "drc_result.visualize();"
   ]
  },
  {
   "cell_type": "code",
   "execution_count": 77,
   "metadata": {
    "collapsed": true
   },
   "outputs": [],
   "source": [
    "drc_result.save()"
   ]
  },
  {
   "cell_type": "markdown",
   "metadata": {},
   "source": [
    "### Dispersive shift measurement"
   ]
  },
  {
   "cell_type": "code",
   "execution_count": null,
   "metadata": {
    "collapsed": true
   },
   "outputs": [],
   "source": [
    "reload(lib2.VNATimeResolvedDispersiveMeasurement)\n",
    "reload(lib2.VNATimeResolvedDispersiveMeasurement2D)\n",
    "reload(lib2.TimeResolvedDispersiveShiftSpectroscopy)\n",
    "from lib2.TimeResolvedDispersiveShiftSpectroscopy import *"
   ]
  },
  {
   "cell_type": "code",
   "execution_count": null,
   "metadata": {
    "collapsed": false
   },
   "outputs": [],
   "source": [
    "DSS = TimeResolvedDispersiveShiftSpectroscopy(\"VI-rabi-dispersive-shift-exact-q-freq\", \"Xmon Al BMSTU S444 2\",\n",
    "                                      vna_name=\"vna2\", ro_awg_name=\"awg3\", q_awg_name=\"awg2\", q_lo_name='mxg')\n",
    "vna_parameters = {\"bandwidth\":10, \"freq_limits\":(7040e6, 7052.5e6), \"nop\":100, \"averages\":2}\n",
    "exc_frequency = 7.89919e9\n",
    "excitation_durations = linspace(1, 3000, 100)\n",
    "sequence_parameters = {\"awg_trigger_reaction_delay\":400, \"readout_duration\":1000, \"repetition_period\":10000}\n",
    "ro_awg_params =  {\"calibration\":ro_cal}\n",
    "q_awg_params = {\"calibration\":q_cal}\n",
    "DSS.set_fixed_parameters(vna_parameters, q_frequency, ro_awg_params, q_awg_params, sequence_parameters)\n",
    "DSS.set_swept_parameters(excitation_durations)"
   ]
  },
  {
   "cell_type": "code",
   "execution_count": null,
   "metadata": {
    "collapsed": false
   },
   "outputs": [],
   "source": [
    "dss_result = DSS.launch()"
   ]
  },
  {
   "cell_type": "code",
   "execution_count": null,
   "metadata": {
    "collapsed": true
   },
   "outputs": [],
   "source": [
    "dss_result.save()"
   ]
  },
  {
   "cell_type": "code",
   "execution_count": null,
   "metadata": {
    "collapsed": true
   },
   "outputs": [],
   "source": [
    "MeasurementResult.load(\"Xmon Al BMSTU S444 2\", \"VI-rabi-dispersive-shift\").visualize();"
   ]
  },
  {
   "cell_type": "code",
   "execution_count": null,
   "metadata": {
    "collapsed": true
   },
   "outputs": [],
   "source": [
    "dss_result.visualize();"
   ]
  },
  {
   "cell_type": "markdown",
   "metadata": {},
   "source": [
    "______________________________________________"
   ]
  },
  {
   "cell_type": "markdown",
   "metadata": {},
   "source": [
    "# Pulse optimization"
   ]
  },
  {
   "cell_type": "markdown",
   "metadata": {},
   "source": [
    "## Amplified phase error"
   ]
  },
  {
   "cell_type": "code",
   "execution_count": null,
   "metadata": {
    "collapsed": true
   },
   "outputs": [],
   "source": [
    "# reload(lib2.VNATimeResolvedDispersiveMeasurement)\n",
    "# reload(lib2.VNATimeResolvedDispersiveMeasurement1D)\n",
    "# reload(lib2.DispersiveAPE)\n",
    "from lib2.DispersiveAPE import *"
   ]
  },
  {
   "cell_type": "markdown",
   "metadata": {},
   "source": [
    "### Rectangular pulses"
   ]
  },
  {
   "cell_type": "code",
   "execution_count": null,
   "metadata": {
    "collapsed": true
   },
   "outputs": [],
   "source": [
    "for i in range(0, 11, 1):\n",
    "    print(i)\n",
    "    DAPE = DispersiveAPE(\"VI-APE-%d-pseudo-I-pulses\"%i, \"Xmon Al BMSTU S444 2\", vna_name=\"vna2\", ro_awg_name=\"awg3\", \n",
    "                                                q_awg_name=\"awg2\", q_lo_name='mxg')\n",
    "    vna_parameters = {\"bandwidth\":10, \"freq_limits\":(7040e6, 7052.5e6), \"nop\":10**(1.7*i/10), \"averages\":2}\n",
    "    ramsey_angles = linspace(-4*pi, 4*pi, 100)\n",
    "    exc_frequency = q_freq\n",
    "    ro_awg_params =  {\"calibration\":ro_cal}\n",
    "    q_awg_params = {\"calibration\":q_cal}\n",
    "    APE_sequence_parameters = {\"awg_trigger_reaction_delay\":400, \"readout_duration\":1000, \n",
    "                            \"repetition_period\":8000}\n",
    "    APE_sequence_parameters.update({\"half_pi_pulse_duration\":pi_pulse_duration/2, \n",
    "                                    \"pseudo_I_pulses_count\":i, \"modulating_window\":'rectangular',\n",
    "                                    \"excitation_amplitude\":1, \"padding\":5})\n",
    "    DAPE.set_fixed_parameters(vna_parameters, ro_awg_params, q_awg_params, exc_frequency, APE_sequence_parameters)\n",
    "    DAPE.set_swept_parameters(ramsey_angles)\n",
    "    dape_result = DAPE.launch()\n",
    "    dape_result.save()"
   ]
  },
  {
   "cell_type": "code",
   "execution_count": null,
   "metadata": {
    "collapsed": false
   },
   "outputs": [],
   "source": [
    "dape_result = DAPE.launch()"
   ]
  },
  {
   "cell_type": "code",
   "execution_count": null,
   "metadata": {
    "collapsed": true
   },
   "outputs": [],
   "source": [
    "dape_result.visualize();"
   ]
  },
  {
   "cell_type": "code",
   "execution_count": null,
   "metadata": {
    "collapsed": true
   },
   "outputs": [],
   "source": [
    "dape_result.save()"
   ]
  },
  {
   "cell_type": "markdown",
   "metadata": {},
   "source": [
    "### Gaussian pulses"
   ]
  },
  {
   "cell_type": "markdown",
   "metadata": {},
   "source": [
    "#### Rabi"
   ]
  },
  {
   "cell_type": "code",
   "execution_count": null,
   "metadata": {
    "collapsed": true
   },
   "outputs": [],
   "source": [
    "# reload(lib2.VNATimeResolvedDispersiveMeasurement)\n",
    "# reload(lib2.VNATimeResolvedDispersiveMeasurement1D)\n",
    "# reload(lib2.DispersivePiPulseAmplitudeCalibration)\n",
    "from lib2.DispersivePiPulseAmplitudeCalibration import *"
   ]
  },
  {
   "cell_type": "code",
   "execution_count": null,
   "metadata": {
    "collapsed": false
   },
   "outputs": [],
   "source": [
    "DPPAC = DispersivePiPulseAmplitudeCalibration(\"VI-pi-amp-cal\", \"Xmon Al BMSTU S444 2\",\n",
    "            vna_name=\"vna2\", ro_awg_name=\"awg3\", q_awg_name=\"awg2\", q_lo_name='mxg')\n",
    "vna_parameters = {\"bandwidth\":10, \"freq_limits\":(7040e6, 7052.5e6), \"nop\":10, \"averages\":2}\n",
    "exc_frequency = q_freq\n",
    "excitation_amps = linspace(0, 3, 20)\n",
    "sequence_parameters = {\"awg_trigger_reaction_delay\":400, \"readout_duration\":1000,\n",
    "                            \"repetition_period\":8000, \"excitation_duration\":50, \"modulating_window\":\"gaussian\"}\n",
    "ro_awg_params =  {\"calibration\":ro_cal}\n",
    "q_awg_params = {\"calibration\":q_cal}\n",
    "DPPAC.set_fixed_parameters(vna_parameters, ro_awg_params, q_awg_params, exc_frequency, sequence_parameters)\n",
    "DPPAC.set_swept_parameters(excitation_amps)"
   ]
  },
  {
   "cell_type": "code",
   "execution_count": null,
   "metadata": {
    "collapsed": false
   },
   "outputs": [],
   "source": [
    "dppac_result = DPPAC.launch()"
   ]
  },
  {
   "cell_type": "code",
   "execution_count": null,
   "metadata": {
    "collapsed": true
   },
   "outputs": [],
   "source": [
    "dppac_result.visualize();"
   ]
  },
  {
   "cell_type": "code",
   "execution_count": null,
   "metadata": {
    "collapsed": false
   },
   "outputs": [],
   "source": [
    "pi_pulse_amplitude = 2.28\n",
    "pi_pulse_amplitude"
   ]
  },
  {
   "cell_type": "markdown",
   "metadata": {},
   "source": [
    "#### Ramsey "
   ]
  },
  {
   "cell_type": "code",
   "execution_count": null,
   "metadata": {
    "collapsed": true
   },
   "outputs": [],
   "source": [
    "from lib2.DispersiveRamsey import *"
   ]
  },
  {
   "cell_type": "code",
   "execution_count": 119,
   "metadata": {
    "collapsed": false
   },
   "outputs": [
    {
     "ename": "TypeError",
     "evalue": "__init__() got an unexpected keyword argument 'ro_awg_name'",
     "output_type": "error",
     "traceback": [
      "\u001b[0;31m---------------------------------------------------------------------------\u001b[0m",
      "\u001b[0;31mTypeError\u001b[0m                                 Traceback (most recent call last)",
      "\u001b[0;32m<ipython-input-119-f8311e1c1a8e>\u001b[0m in \u001b[0;36m<module>\u001b[0;34m()\u001b[0m\n\u001b[1;32m      1\u001b[0m DR = DispersiveRamsey(\"VI-ramsey\", \"Xmon Al BMSTU S444 2\", vna_name=\"vna2\", \n\u001b[0;32m----> 2\u001b[0;31m                                           ro_awg_name=\"awg3\", q_awg_name=\"awg2\", q_lo_name='mxg')\n\u001b[0m\u001b[1;32m      3\u001b[0m \u001b[0mvna_parameters\u001b[0m \u001b[1;33m=\u001b[0m \u001b[1;33m{\u001b[0m\u001b[1;34m\"bandwidth\"\u001b[0m\u001b[1;33m:\u001b[0m\u001b[1;36m10\u001b[0m\u001b[1;33m,\u001b[0m \u001b[1;34m\"freq_limits\"\u001b[0m\u001b[1;33m:\u001b[0m\u001b[1;33m(\u001b[0m\u001b[1;36m7040e6\u001b[0m\u001b[1;33m,\u001b[0m \u001b[1;36m7052.5e6\u001b[0m\u001b[1;33m)\u001b[0m\u001b[1;33m,\u001b[0m \u001b[1;34m\"nop\"\u001b[0m\u001b[1;33m:\u001b[0m\u001b[1;36m10\u001b[0m\u001b[1;33m,\u001b[0m \u001b[1;34m\"averages\"\u001b[0m\u001b[1;33m:\u001b[0m\u001b[1;36m2\u001b[0m\u001b[1;33m}\u001b[0m\u001b[1;33m\u001b[0m\u001b[0m\n\u001b[1;32m      4\u001b[0m \u001b[0mramsey_delays\u001b[0m \u001b[1;33m=\u001b[0m \u001b[0mlinspace\u001b[0m\u001b[1;33m(\u001b[0m\u001b[1;36m0\u001b[0m\u001b[1;33m,\u001b[0m \u001b[1;36m2000\u001b[0m\u001b[1;33m,\u001b[0m \u001b[1;36m100\u001b[0m\u001b[1;33m)\u001b[0m\u001b[1;33m\u001b[0m\u001b[0m\n\u001b[1;32m      5\u001b[0m \u001b[0mexc_frequency\u001b[0m \u001b[1;33m=\u001b[0m \u001b[0mq_freq\u001b[0m\u001b[1;33m-\u001b[0m\u001b[1;36m5e6\u001b[0m\u001b[1;33m\u001b[0m\u001b[0m\n",
      "\u001b[0;31mTypeError\u001b[0m: __init__() got an unexpected keyword argument 'ro_awg_name'"
     ]
    }
   ],
   "source": [
    "DR = DispersiveRamsey(\"VI-ramsey\", \"Xmon Al BMSTU S444 2\", vna_name=\"vna2\", \n",
    "                                          ro_awg_name=\"awg3\", q_awg_name=\"awg2\", q_lo_name='mxg')\n",
    "vna_parameters = {\"bandwidth\":10, \"freq_limits\":(7040e6, 7052.5e6), \"nop\":10, \"averages\":2}\n",
    "ramsey_delays = linspace(0, 2000, 100)\n",
    "exc_frequency = q_freq-5e6\n",
    "ramsey_sequence_parameters = {\"awg_trigger_reaction_delay\":400, \"readout_duration\":1000, \n",
    "                              \"excitation_amplitude\":pi_pulse_amplitude/2, \"modulating_window\":\"gaussian\",\n",
    "                              \"repetition_period\":8000, \"half_pi_pulse_duration\":pi_pulse_duration/2}\n",
    "DR.set_fixed_parameters(vna_parameters, ro_awg_params, q_awg_params, exc_frequency, ramsey_sequence_parameters)\n",
    "DR.set_swept_parameters(ramsey_delays)"
   ]
  },
  {
   "cell_type": "code",
   "execution_count": null,
   "metadata": {
    "collapsed": false
   },
   "outputs": [],
   "source": [
    "drg_result = DR.launch()"
   ]
  },
  {
   "cell_type": "code",
   "execution_count": null,
   "metadata": {
    "collapsed": true
   },
   "outputs": [],
   "source": [
    "drg_result.visualize();"
   ]
  },
  {
   "cell_type": "markdown",
   "metadata": {},
   "source": [
    "#### APE"
   ]
  },
  {
   "cell_type": "code",
   "execution_count": null,
   "metadata": {
    "collapsed": true,
    "scrolled": true
   },
   "outputs": [],
   "source": [
    "for i in range(0, 11, 1):\n",
    "    print(i)\n",
    "    DAPE = DispersiveAPE(\"VI-APE-gaussian-%d-pseudo-I-pulses\"%i, \"Xmon Al BMSTU S444 2\", vna_name=\"vna2\", ro_awg_name=\"awg3\", \n",
    "                                                q_awg_name=\"awg2\", q_lo_name='mxg')\n",
    "    vna_parameters = {\"bandwidth\":10, \"freq_limits\":(7040e6, 7052.5e6), \"nop\":10**(1.7*i/10), \"averages\":3}\n",
    "    ramsey_angles = linspace(-4*pi, 4*pi, 100)\n",
    "    exc_frequency = q_freq\n",
    "    ro_awg_params =  {\"calibration\":ro_cal}\n",
    "    q_awg_params = {\"calibration\":q_cal}\n",
    "    APE_sequence_parameters = {\"awg_trigger_reaction_delay\":400, \"readout_duration\":1000, \n",
    "                            \"repetition_period\":8000, \"padding\":5,\n",
    "                            \"half_pi_pulse_duration\":50, \"modulating_window\":\"gaussian\",\n",
    "                            \"excitation_amplitude\":pi_pulse_amplitude/2, \"pseudo_I_pulses_count\":i}\n",
    "    DAPE.set_fixed_parameters(vna_parameters, ro_awg_params, q_awg_params, exc_frequency, APE_sequence_parameters)\n",
    "    DAPE.set_swept_parameters(ramsey_angles)\n",
    "    dape_result = DAPE.launch()\n",
    "    dape_result.save()\n",
    "    clear_output()"
   ]
  },
  {
   "cell_type": "code",
   "execution_count": null,
   "metadata": {
    "collapsed": false
   },
   "outputs": [],
   "source": [
    "dape_result.visualize()"
   ]
  },
  {
   "cell_type": "markdown",
   "metadata": {},
   "source": [
    "---------------------------"
   ]
  },
  {
   "cell_type": "code",
   "execution_count": null,
   "metadata": {
    "collapsed": true
   },
   "outputs": [],
   "source": [
    "reload(lib2.IQPulseSequence)\n",
    "from lib2.IQPulseSequence import *"
   ]
  },
  {
   "cell_type": "code",
   "execution_count": null,
   "metadata": {
    "collapsed": true
   },
   "outputs": [],
   "source": [
    "pb = PulseBuilder(q_cal)"
   ]
  },
  {
   "cell_type": "code",
   "execution_count": null,
   "metadata": {
    "collapsed": true
   },
   "outputs": [],
   "source": [
    "APE_sequence_parameters[\"ramsey_angle\"]=0\n",
    "APE_sequence_parameters[\"pseudo_I_pulses_count\"] = 1\n",
    "APE_sequence_parameters[\"excitation_amplitude\"] = 1"
   ]
  },
  {
   "cell_type": "code",
   "execution_count": null,
   "metadata": {
    "collapsed": false
   },
   "outputs": [],
   "source": [
    "APE_sequence_parameters"
   ]
  },
  {
   "cell_type": "code",
   "execution_count": null,
   "metadata": {
    "collapsed": false
   },
   "outputs": [],
   "source": [
    "PulseBuilder.build_dispersive_APE_sequences(pb, ro_pb, APE_sequence_parameters)[0].plot()\n",
    "pb.add_zero_pulse(400).add_sine_pulse(65).add_sine_pulse(50).add_zero_pulse(15).build().plot()\n",
    "plt.xlim(300,600)"
   ]
  },
  {
   "cell_type": "code",
   "execution_count": null,
   "metadata": {
    "collapsed": true
   },
   "outputs": [],
   "source": [
    "# pb.add_zero_pulse(10).add_sine_pulse(30).add_zero_pulse(10).build().plot()\n",
    "pb.add_zero_pulse(10).add_sine_pulse(50, window=(\"gaussian\", {\"amplitude\":10})).add_zero_pulse(10).build().plot()\n",
    "plt.grid()"
   ]
  },
  {
   "cell_type": "code",
   "execution_count": null,
   "metadata": {
    "collapsed": true
   },
   "outputs": [],
   "source": [
    "rect = pb.add_zero_pulse(100).add_sine_pulse(300, amplitude=1).add_zero_pulse(1000).build()"
   ]
  },
  {
   "cell_type": "code",
   "execution_count": null,
   "metadata": {
    "collapsed": true
   },
   "outputs": [],
   "source": [
    "gaus = pb.add_zero_pulse(100).add_sine_pulse(300, amplitude=1, window=\"gaussian\").add_zero_pulse(1000).build()"
   ]
  },
  {
   "cell_type": "code",
   "execution_count": null,
   "metadata": {
    "collapsed": true
   },
   "outputs": [],
   "source": [
    "rect.plot()\n",
    "gaus.plot()"
   ]
  },
  {
   "cell_type": "code",
   "execution_count": null,
   "metadata": {
    "collapsed": true
   },
   "outputs": [],
   "source": [
    "q_awg.output_pulse_sequence(gaus)"
   ]
  },
  {
   "cell_type": "code",
   "execution_count": null,
   "metadata": {
    "collapsed": false
   },
   "outputs": [],
   "source": [
    "exp(-1/8)"
   ]
  },
  {
   "cell_type": "code",
   "execution_count": null,
   "metadata": {
    "collapsed": true
   },
   "outputs": [],
   "source": [
    "X = linspace(-1,1)"
   ]
  },
  {
   "cell_type": "code",
   "execution_count": null,
   "metadata": {
    "collapsed": false
   },
   "outputs": [],
   "source": [
    "plot(X, exp(-(3*X)**2/2**2))"
   ]
  },
  {
   "cell_type": "code",
   "execution_count": null,
   "metadata": {
    "collapsed": true
   },
   "outputs": [],
   "source": [
    "from resonator_tools import circuit"
   ]
  },
  {
   "cell_type": "code",
   "execution_count": null,
   "metadata": {
    "collapsed": true
   },
   "outputs": [],
   "source": [
    "circuit.notch_port()"
   ]
  }
 ],
 "metadata": {
  "kernelspec": {
   "display_name": "Python 3",
   "language": "python",
   "name": "python3"
  },
  "language_info": {
   "codemirror_mode": {
    "name": "ipython",
    "version": 3
   },
   "file_extension": ".py",
   "mimetype": "text/x-python",
   "name": "python",
   "nbconvert_exporter": "python",
   "pygments_lexer": "ipython3",
   "version": "3.6.0"
  }
 },
 "nbformat": 4,
 "nbformat_minor": 2
}
