{
 "cells": [
  {
   "cell_type": "code",
   "execution_count": 1,
   "metadata": {
    "scrolled": true
   },
   "outputs": [
    {
     "name": "stdout",
     "output_type": "stream",
     "text": [
      "Populating the interactive namespace from numpy and matplotlib\n"
     ]
    }
   ],
   "source": [
    "%pylab qt5"
   ]
  },
  {
   "cell_type": "code",
   "execution_count": 2,
   "metadata": {
    "collapsed": true
   },
   "outputs": [],
   "source": [
    "from importlib import reload\n",
    "import lib2\n",
    "from IPython.display import clear_output\n",
    "from lib import data_management as dm\n",
    "from time import sleep\n",
    "import drivers\n",
    "from lib2.IQPulseSequence import *\n",
    "from drivers.KeysightAWG import *\n",
    "\n",
    "warnings.filterwarnings(\"ignore\",\".*GUI is implemented.*\")\n",
    "mpl.rcParams['grid.color'] = 'k'\n",
    "mpl.rcParams['grid.linestyle'] = ':'\n",
    "mpl.rcParams['grid.linewidth'] = 0.5"
   ]
  },
  {
   "cell_type": "code",
   "execution_count": 3,
   "metadata": {},
   "outputs": [
    {
     "ename": "FileNotFoundError",
     "evalue": "[Errno 2] No such file or directory: 'Data\\\\IQMXCalibration\\\\TEST.pkl'",
     "output_type": "error",
     "traceback": [
      "\u001b[1;31m---------------------------------------------------------------------------\u001b[0m",
      "\u001b[1;31mFileNotFoundError\u001b[0m                         Traceback (most recent call last)",
      "\u001b[1;32m<ipython-input-3-0dfc34bf1986>\u001b[0m in \u001b[0;36m<module>\u001b[1;34m()\u001b[0m\n\u001b[0;32m      1\u001b[0m \u001b[0mif_freq\u001b[0m \u001b[1;33m=\u001b[0m \u001b[1;36m50e6\u001b[0m\u001b[1;33m\u001b[0m\u001b[0m\n\u001b[0;32m      2\u001b[0m \u001b[1;33m\u001b[0m\u001b[0m\n\u001b[1;32m----> 3\u001b[1;33m \u001b[0mcalibrations\u001b[0m \u001b[1;33m=\u001b[0m \u001b[1;33m(\u001b[0m\u001b[0mdm\u001b[0m\u001b[1;33m.\u001b[0m\u001b[0mload_IQMX_calibration_database\u001b[0m\u001b[1;33m(\u001b[0m\u001b[1;34m\"TEST\"\u001b[0m\u001b[1;33m,\u001b[0m \u001b[1;33m-\u001b[0m\u001b[1;36m6\u001b[0m\u001b[1;33m)\u001b[0m\u001b[1;33m)\u001b[0m\u001b[1;33m\u001b[0m\u001b[0m\n\u001b[0m\u001b[0;32m      4\u001b[0m ro_cal = calibrations.get(frozenset(dict(lo_power=0, ssb_power=-30, lo_frequency=7.047e9, \n\u001b[0;32m      5\u001b[0m                                       if_frequency=0, waveform_resolution=1).items()))\n",
      "\u001b[1;32mC:\\Users\\lab128\\Measurement-automation\\lib\\data_management.py\u001b[0m in \u001b[0;36mload_IQMX_calibration_database\u001b[1;34m(mixer_id, iq_attenuation)\u001b[0m\n\u001b[0;32m     38\u001b[0m \u001b[1;33m\u001b[0m\u001b[0m\n\u001b[0;32m     39\u001b[0m         \u001b[0mfilename\u001b[0m\u001b[1;33m=\u001b[0m\u001b[0mmixer_id\u001b[0m\u001b[1;33m\u001b[0m\u001b[0m\n\u001b[1;32m---> 40\u001b[1;33m         \u001b[1;32mwith\u001b[0m \u001b[0mopen\u001b[0m\u001b[1;33m(\u001b[0m\u001b[0mdirectory\u001b[0m\u001b[1;33m+\u001b[0m\u001b[1;34m\"\\\\\"\u001b[0m\u001b[1;33m+\u001b[0m\u001b[0mfilename\u001b[0m\u001b[1;33m+\u001b[0m\u001b[1;34m'.pkl'\u001b[0m\u001b[1;33m,\u001b[0m \u001b[1;34m'rb'\u001b[0m\u001b[1;33m)\u001b[0m \u001b[1;32mas\u001b[0m \u001b[0mf\u001b[0m\u001b[1;33m:\u001b[0m\u001b[1;33m\u001b[0m\u001b[0m\n\u001b[0m\u001b[0;32m     41\u001b[0m                 \u001b[0mknown_cal_data\u001b[0m \u001b[1;33m=\u001b[0m \u001b[0mpkl\u001b[0m\u001b[1;33m.\u001b[0m\u001b[0mload\u001b[0m\u001b[1;33m(\u001b[0m\u001b[0mf\u001b[0m\u001b[1;33m)\u001b[0m\u001b[1;33m\u001b[0m\u001b[0m\n\u001b[0;32m     42\u001b[0m         \u001b[1;32mreturn\u001b[0m \u001b[0mknown_cal_data\u001b[0m\u001b[1;33m[\u001b[0m\u001b[0miq_attenuation\u001b[0m\u001b[1;33m]\u001b[0m\u001b[1;33m\u001b[0m\u001b[0m\n",
      "\u001b[1;31mFileNotFoundError\u001b[0m: [Errno 2] No such file or directory: 'Data\\\\IQMXCalibration\\\\TEST.pkl'"
     ]
    }
   ],
   "source": [
    "if_freq = 50e6\n",
    "\n",
    "calibrations = (dm.load_IQMX_calibration_database(\"TEST\", -6))\n",
    "ro_cal = calibrations.get(frozenset(dict(lo_power=0, ssb_power=-30, lo_frequency=7.047e9, \n",
    "                                      if_frequency=0, waveform_resolution=1).items()))\n",
    "ro_pb = PulseBuilder(ro_cal)\n",
    "\n",
    "calibrations = (dm.load_IQMX_calibration_database(\"TESTQ\", -6))\n",
    "q_cal = calibrations.get(frozenset(dict(lo_power=15, ssb_power=-10, lo_frequency=7.9e9+if_freq, \n",
    "                                      if_frequency=if_freq, waveform_resolution=0.1).items()))\n",
    "q_pb = PulseBuilder(q_cal)"
   ]
  },
  {
   "cell_type": "code",
   "execution_count": 94,
   "metadata": {
    "collapsed": true
   },
   "outputs": [],
   "source": [
    "ro_awg = KeysightAWG(\"AWG3\")"
   ]
  },
  {
   "cell_type": "code",
   "execution_count": 95,
   "metadata": {
    "collapsed": true
   },
   "outputs": [],
   "source": [
    "q_awg = KeysightAWG(\"AWG2\")"
   ]
  },
  {
   "cell_type": "code",
   "execution_count": 13,
   "metadata": {
    "collapsed": true
   },
   "outputs": [],
   "source": [
    "from drivers.Keysight_DSOX2014 import *"
   ]
  },
  {
   "cell_type": "code",
   "execution_count": 86,
   "metadata": {
    "collapsed": true
   },
   "outputs": [],
   "source": [
    "dso = Keysight_DSOX2014(\"DSO2014\")"
   ]
  },
  {
   "cell_type": "markdown",
   "metadata": {},
   "source": [
    "# Spectroscopy"
   ]
  },
  {
   "cell_type": "markdown",
   "metadata": {},
   "source": [
    "## Single-tone spectroscopy"
   ]
  },
  {
   "cell_type": "code",
   "execution_count": 7,
   "metadata": {
    "collapsed": true
   },
   "outputs": [],
   "source": [
    "# reload(lib2.Measurement)"
   ]
  },
  {
   "cell_type": "code",
   "execution_count": 13,
   "metadata": {
    "collapsed": true
   },
   "outputs": [],
   "source": [
    "# reload(lib2.SingleToneSpectroscopy)\n",
    "from lib2.SingleToneSpectroscopy import *"
   ]
  },
  {
   "cell_type": "code",
   "execution_count": 106,
   "metadata": {
    "collapsed": true
   },
   "outputs": [],
   "source": [
    "ro_awg.output_continuous_wave(10e6, 1, offset=0)"
   ]
  },
  {
   "cell_type": "code",
   "execution_count": 110,
   "metadata": {
    "collapsed": true
   },
   "outputs": [],
   "source": [
    "# q_pb.add_sine_pulse(100).build().plot()\n",
    "ro_awg.output_pulse_sequence(q_pb.add_sine_pulse(100).add_zero_pulse(100).build())"
   ]
  },
  {
   "cell_type": "code",
   "execution_count": 115,
   "metadata": {
    "collapsed": true
   },
   "outputs": [],
   "source": [
    "ro_awg.output_pulse_sequence(ro_pb.add_dc_pulse(100,5).build())\n",
    "q_awg.output_pulse_sequence(q_pb.add_zero_pulse(100).build())"
   ]
  },
  {
   "cell_type": "code",
   "execution_count": 116,
   "metadata": {},
   "outputs": [
    {
     "name": "stdout",
     "output_type": "stream",
     "text": [
      "vna2 is already initialized\n",
      "yok3 is already initialized\n",
      "Started at:  2017-05-22 18:10:04.088058\n",
      "Time left: 0 h 0 m 0.0 s, [current: 1.00e-03]: , average cycle time: 0.17 s          "
     ]
    }
   ],
   "source": [
    "STS = SingleToneSpectroscopy(\"III-anticrossing\", \"Xmon Al BMSTU S444 2\", vna = 'vna2', src = 'yok3')\n",
    "vna_parameters = {\"bandwidth\":2000, \"freq_limits\":(6.945e9, 6.96e9), \"nop\":201, \"power\":-20, \"averages\":1}\n",
    "STS.set_fixed_parameters(vna_parameters)\n",
    "currents = linspace(-0.7e-3, 1e-3, 100)\n",
    "STS._src.set_current(currents[0])\n",
    "sleep(1)\n",
    "STS.set_swept_parameters({'current': (STS._src.set_current, currents)})\n",
    "result = STS.launch()\n",
    "STS._src.set_current(0);\n",
    "result.visualize();"
   ]
  },
  {
   "cell_type": "code",
   "execution_count": 56,
   "metadata": {
    "collapsed": true
   },
   "outputs": [],
   "source": [
    "result.visualize();"
   ]
  },
  {
   "cell_type": "code",
   "execution_count": 44,
   "metadata": {
    "collapsed": true
   },
   "outputs": [],
   "source": [
    "result.save()"
   ]
  },
  {
   "cell_type": "markdown",
   "metadata": {},
   "source": [
    "## Two-tone spectroscopy"
   ]
  },
  {
   "cell_type": "code",
   "execution_count": 77,
   "metadata": {
    "collapsed": true
   },
   "outputs": [],
   "source": [
    "# reload(lib2.Measurement)\n",
    "# reload(lib2.TwoToneSpectroscopyBase)\n",
    "# reload(lib2.TwoToneSpectroscopy)\n",
    "from lib2.TwoToneSpectroscopy import *"
   ]
  },
  {
   "cell_type": "code",
   "execution_count": 71,
   "metadata": {
    "collapsed": true
   },
   "outputs": [],
   "source": [
    "q_pb.add_sine_pulse(100, amplitude=5).build().plot()"
   ]
  },
  {
   "cell_type": "code",
   "execution_count": 82,
   "metadata": {
    "collapsed": true
   },
   "outputs": [],
   "source": [
    "ro_awg.output_continuous_wave(50e6, 2,)"
   ]
  },
  {
   "cell_type": "code",
   "execution_count": 78,
   "metadata": {
    "collapsed": true
   },
   "outputs": [],
   "source": [
    "ro_awg.output_pulse_sequence(ro_pb.add_zero_pulse(100).add_dc_pulse(100,5).add_zero_pulse(100).build())\n",
    "q_awg.output_pulse_sequence(q_pb.add_zero_pulse(100).add_dc_pulse(500, 5).add_zero_pulse(100).build())"
   ]
  },
  {
   "cell_type": "code",
   "execution_count": 81,
   "metadata": {},
   "outputs": [
    {
     "data": {
      "text/plain": [
       "(16, <StatusCode.success: 0>)"
      ]
     },
     "execution_count": 81,
     "metadata": {},
     "output_type": "execute_result"
    }
   ],
   "source": [
    "ro_awg._visainstrument.write(\":ARM:SOUR1 IMM\")"
   ]
  },
  {
   "cell_type": "markdown",
   "metadata": {},
   "source": [
    "#### Qubit spectrum"
   ]
  },
  {
   "cell_type": "code",
   "execution_count": 81,
   "metadata": {},
   "outputs": [
    {
     "name": "stdout",
     "output_type": "stream",
     "text": [
      "vna2 is already initialized\n",
      "mxg is already initialized\n",
      "yok3 is already initialized\n",
      "Detecting a resonator within provided frequency range of the VNA (7040000000.0, 7060000000.0)                    at qubit's sweet spot (-0.25 mA)\n",
      "Detected frequency is 7.04724 GHz, at 0.70 mU and -2.71 degrees\n"
     ]
    }
   ],
   "source": [
    "TTS = FluxTwoToneSpectroscopy(\"VI-two-tone\", \"Xmon Al BMSTU S444 2\", vna_name=\"vna2\", \n",
    "                              mw_src_name=\"mxg\", current_src_name=\"yok3\")\n",
    "vna_parameters = {\"bandwidth\":25, \"freq_limits\":(7.04e9, 7.06e9), \"nop\":1, \"power\":10, \"averages\":1}\n",
    "mw_src_parameters = {\"power\":-20}\n",
    "mw_src_frequencies = linspace(7e9, 10e9, 50)\n",
    "currents = linspace(-0.7e-3, 1e-3, 100)\n",
    "TTS.setup_control_parameters(vna_parameters, mw_src_parameters, mw_src_frequencies, currents)"
   ]
  },
  {
   "cell_type": "code",
   "execution_count": 82,
   "metadata": {
    "scrolled": true
   },
   "outputs": [
    {
     "name": "stdout",
     "output_type": "stream",
     "text": [
      "Started at:  2017-05-20 20:21:58.524349\n",
      "Time left: 0 h 1 m 5.15 s, parameter value: -1.918e-04, average cycle time: 0.08 s           "
     ]
    }
   ],
   "source": [
    "result = TTS.launch()"
   ]
  },
  {
   "cell_type": "code",
   "execution_count": 113,
   "metadata": {
    "collapsed": true
   },
   "outputs": [],
   "source": [
    "result.visualize();"
   ]
  },
  {
   "cell_type": "code",
   "execution_count": 28,
   "metadata": {
    "collapsed": true
   },
   "outputs": [],
   "source": [
    "result.save()"
   ]
  },
  {
   "cell_type": "code",
   "execution_count": 20,
   "metadata": {
    "collapsed": true
   },
   "outputs": [],
   "source": [
    "result._name = \"5.5GHz-two-tone-w-loop_-0.5mA-and-coil\""
   ]
  },
  {
   "cell_type": "code",
   "execution_count": 46,
   "metadata": {
    "collapsed": true
   },
   "outputs": [],
   "source": [
    "TTS._mw_src.set_output_state(\"OFF\")"
   ]
  },
  {
   "cell_type": "markdown",
   "metadata": {},
   "source": [
    "#### Linewidth from excitation power"
   ]
  },
  {
   "cell_type": "code",
   "execution_count": 185,
   "metadata": {
    "collapsed": true
   },
   "outputs": [],
   "source": [
    "ro_awg.output_pulse_sequence(ro_pb.add_dc_pulse(100).build())\n",
    "q_awg.output_pulse_sequence(q_pb.add_dc_pulse(100, 5).build())"
   ]
  },
  {
   "cell_type": "code",
   "execution_count": 183,
   "metadata": {},
   "outputs": [
    {
     "name": "stdout",
     "output_type": "stream",
     "text": [
      "vna2 is already initialized\n",
      "mxg is already initialized\n",
      "yok3 is already initialized\n",
      "Detecting a resonator within provided frequency range of the VNA (7040000000.0, 7052500000.0)                    at current of -0.11 mA\n",
      "Detected frequency is 7.04716 GHz, at 0.10 mU and 33.83 degrees\n"
     ]
    }
   ],
   "source": [
    "PTS = PowerTwoToneSpectroscopy(\"VI-powerscan\", \"Xmon Al BMSTU S444 2\")\n",
    "vna_parameters = {\"bandwidth\":10, \"freq_limits\":(7040e6, 7052.5e6), \"nop\":1, \"power\":0, \"averages\":1}\n",
    "mw_src_parameters = {}\n",
    "mw_src_frequencies = linspace(7.88e9, 7.92e9,200)\n",
    "mw_src_powers = linspace(-20, 15, 21)\n",
    "current = -0.11e-3\n",
    "PTS.setup_control_parameters(vna_parameters, mw_src_parameters, mw_src_frequencies, mw_src_powers, current)\n",
    "PTS._measurement_result.set_phase_units(\"deg\")"
   ]
  },
  {
   "cell_type": "code",
   "execution_count": 187,
   "metadata": {},
   "outputs": [
    {
     "name": "stdout",
     "output_type": "stream",
     "text": [
      "Started at:  2017-05-10 21:15:08.685005\n",
      "Time left: 0 h 10 m 10.55 s, parameter value: -2.000e+01, average cycle time: 0.15 s          "
     ]
    },
    {
     "name": "stderr",
     "output_type": "stream",
     "text": [
      "C:\\ProgramData\\Anaconda3\\lib\\site-packages\\matplotlib\\backend_bases.py:2445: MatplotlibDeprecationWarning: Using default event loop until function specific to this GUI is implemented\n",
      "  warnings.warn(str, mplDeprecation)\n"
     ]
    },
    {
     "name": "stdout",
     "output_type": "stream",
     "text": [
      "Time left: 0 h 9 m 25.8 s, parameter value: -2.000e+01, average cycle time: 0.14 s           "
     ]
    }
   ],
   "source": [
    "result = PTS.launch()"
   ]
  },
  {
   "cell_type": "code",
   "execution_count": null,
   "metadata": {
    "collapsed": true
   },
   "outputs": [],
   "source": [
    "vna.set_parameters(PTS._pre_measurement_vna_parameters)"
   ]
  },
  {
   "cell_type": "code",
   "execution_count": 106,
   "metadata": {
    "collapsed": true
   },
   "outputs": [],
   "source": [
    "result.visualize()"
   ]
  },
  {
   "cell_type": "code",
   "execution_count": 103,
   "metadata": {
    "collapsed": true
   },
   "outputs": [],
   "source": [
    "result.save()"
   ]
  },
  {
   "cell_type": "code",
   "execution_count": null,
   "metadata": {
    "collapsed": true
   },
   "outputs": [],
   "source": [
    "mxg.set_frequency(7.898e9)\n",
    "mxg.set_power(-30)\n",
    "mxg.set_output_state(\"OFF\")\n",
    "vna.prepare_for_stb(); vna.sweep_single(); vna.wait_for_stb()\n",
    "ground_state_sdata = vna.get_sdata()\n",
    "\n",
    "mxg.set_output_state(\"ON\")\n",
    "vna.prepare_for_stb(); vna.sweep_single(); vna.wait_for_stb()\n",
    "mixed_state_sdata = vna.get_sdata()"
   ]
  },
  {
   "cell_type": "code",
   "execution_count": null,
   "metadata": {
    "collapsed": true
   },
   "outputs": [],
   "source": [
    "plot(abs(ground_state_sdata))\n",
    "plot(abs(mixed_state_sdata))\n",
    "plot((abs(ground_state_sdata)[10:]+abs(ground_state_sdata)[:-10])/2)"
   ]
  },
  {
   "cell_type": "markdown",
   "metadata": {},
   "source": [
    "#### AC Stark"
   ]
  },
  {
   "cell_type": "code",
   "execution_count": 206,
   "metadata": {
    "collapsed": true
   },
   "outputs": [],
   "source": [
    "ro_awg.output_pulse_sequence(ro_pb.add_dc_pulse(100).build())\n",
    "q_awg.output_pulse_sequence(q_pb.add_dc_pulse(100, 5).build())"
   ]
  },
  {
   "cell_type": "code",
   "execution_count": 208,
   "metadata": {},
   "outputs": [
    {
     "name": "stdout",
     "output_type": "stream",
     "text": [
      "vna2 is already initialized\n",
      "mxg is already initialized\n",
      "yok3 is already initialized\n",
      "Detecting a resonator within provided frequency range of the VNA (7040000000.0, 7052500000.0)                    at current of -0.11 mA\n",
      "Detected frequency is 7.04716 GHz, at 0.25 mU and 33.57 degrees\n"
     ]
    }
   ],
   "source": [
    "ASTS = AcStarkTwoToneSpectroscopy(\"VI-ac-stark\", \"Xmon Al BMSTU S444 2\")\n",
    "vna_parameters = {\"bandwidth\":1000, \"freq_limits\":(7040e6, 7052.5e6), \"nop\":1, \"power\":-10, \"averages\":100}\n",
    "mw_src_parameters = {\"power\":-15, \"frequency\":-1}\n",
    "mw_src_frequencies = linspace(7.85e9, 7.9e9, 100)\n",
    "vna_powers = linspace(-30, 0, 31)\n",
    "current = -0.11e-3\n",
    "ASTS.setup_control_parameters(vna_parameters, mw_src_parameters, mw_src_frequencies, vna_powers, current)"
   ]
  },
  {
   "cell_type": "code",
   "execution_count": 21,
   "metadata": {},
   "outputs": [
    {
     "name": "stdout",
     "output_type": "stream",
     "text": [
      "Started at:  2017-04-25 22:15:13.034443\n",
      "Time left: 0 h 27 m 19.46 s, parameter value: -3.000e+01, average cycle time: 0.53 s          "
     ]
    },
    {
     "name": "stderr",
     "output_type": "stream",
     "text": [
      "C:\\ProgramData\\Anaconda3\\lib\\site-packages\\matplotlib\\backend_bases.py:2445: MatplotlibDeprecationWarning: Using default event loop until function specific to this GUI is implemented\n",
      "  warnings.warn(str, mplDeprecation)\n"
     ]
    },
    {
     "name": "stdout",
     "output_type": "stream",
     "text": [
      "Time left: 0 h 0 m 0.0 s, parameter value: 0.000e+00, average cycle time: 0.16 s              "
     ]
    }
   ],
   "source": [
    "result = ASTS.launch()"
   ]
  },
  {
   "cell_type": "code",
   "execution_count": 112,
   "metadata": {
    "collapsed": true
   },
   "outputs": [],
   "source": [
    "result.visualize()"
   ]
  },
  {
   "cell_type": "code",
   "execution_count": 12,
   "metadata": {
    "collapsed": true
   },
   "outputs": [],
   "source": [
    "result.save()"
   ]
  },
  {
   "cell_type": "code",
   "execution_count": 88,
   "metadata": {
    "collapsed": true
   },
   "outputs": [],
   "source": [
    "TTS.close_devs(\"mxg\")"
   ]
  },
  {
   "cell_type": "markdown",
   "metadata": {},
   "source": [
    "__________________________"
   ]
  },
  {
   "cell_type": "markdown",
   "metadata": {},
   "source": [
    "# Time-domain measurements"
   ]
  },
  {
   "cell_type": "markdown",
   "metadata": {},
   "source": [
    "### Check mixer calibration"
   ]
  },
  {
   "cell_type": "code",
   "execution_count": 44,
   "metadata": {
    "collapsed": true
   },
   "outputs": [],
   "source": [
    "q_lo = TTS._mw_src\n",
    "q_lo.set_output_state(\"ON\")\n",
    "q_lo.set_frequency(7.94e9)\n",
    "q_lo.set_power(15)"
   ]
  },
  {
   "cell_type": "code",
   "execution_count": 56,
   "metadata": {
    "collapsed": true
   },
   "outputs": [],
   "source": [
    "q_lo.visa_instr.close()"
   ]
  },
  {
   "cell_type": "code",
   "execution_count": 49,
   "metadata": {
    "collapsed": true
   },
   "outputs": [],
   "source": [
    "TTS._vna.set_nop(1)\n",
    "TTS._vna.set_power(0)\n",
    "TTS._vna.set_center(7.04720e9)\n",
    "TTS._vna.sweep_continuous()"
   ]
  },
  {
   "cell_type": "code",
   "execution_count": 60,
   "metadata": {
    "collapsed": true
   },
   "outputs": [],
   "source": [
    "q_awg.output_pulse_sequence(q_pb.add_zero_pulse(20).build())\n",
    "ro_awg.output_pulse_sequence(ro_pb.add_zero_pulse(20).build())"
   ]
  },
  {
   "cell_type": "code",
   "execution_count": 61,
   "metadata": {
    "collapsed": true
   },
   "outputs": [],
   "source": [
    "q_awg.output_pulse_sequence(q_pb.add_sine_pulse(20,0).build())\n",
    "ro_awg.output_pulse_sequence(ro_pb.add_dc_pulse(20).build())"
   ]
  },
  {
   "cell_type": "code",
   "execution_count": 14,
   "metadata": {
    "collapsed": true,
    "scrolled": true
   },
   "outputs": [],
   "source": [
    "print(ro_cal)"
   ]
  },
  {
   "cell_type": "markdown",
   "metadata": {},
   "source": [
    "### Set qubit frequency"
   ]
  },
  {
   "cell_type": "code",
   "execution_count": 83,
   "metadata": {},
   "outputs": [
    {
     "data": {
      "text/plain": [
       "True"
      ]
     },
     "execution_count": 83,
     "metadata": {},
     "output_type": "execute_result"
    }
   ],
   "source": [
    "TTS._current_src.set_current(-2.6e-4)"
   ]
  },
  {
   "cell_type": "code",
   "execution_count": 48,
   "metadata": {},
   "outputs": [
    {
     "data": {
      "text/plain": [
       "7899180000.0"
      ]
     },
     "execution_count": 48,
     "metadata": {},
     "output_type": "execute_result"
    }
   ],
   "source": [
    "q_freq"
   ]
  },
  {
   "cell_type": "code",
   "execution_count": 6,
   "metadata": {
    "collapsed": true
   },
   "outputs": [],
   "source": [
    "q_freq = 7899210000.0"
   ]
  },
  {
   "cell_type": "code",
   "execution_count": 16,
   "metadata": {},
   "outputs": [
    {
     "data": {
      "text/plain": [
       "7899210000.0"
      ]
     },
     "execution_count": 16,
     "metadata": {},
     "output_type": "execute_result"
    }
   ],
   "source": [
    "q_freq = q_freq+0.03e6\n",
    "q_freq"
   ]
  },
  {
   "cell_type": "markdown",
   "metadata": {},
   "source": [
    "### Rabi "
   ]
  },
  {
   "cell_type": "code",
   "execution_count": 19,
   "metadata": {
    "collapsed": true
   },
   "outputs": [],
   "source": [
    "# reload(lib2.VNATimeResolvedDispersiveMeasurement)\n",
    "# reload(lib2.VNATimeResolvedDispersiveMeasurement1D)\n",
    "# reload(lib2.DispersiveRabiOscillations)\n",
    "from lib2.DispersiveRabiOscillations import DispersiveRabiOscillations"
   ]
  },
  {
   "cell_type": "code",
   "execution_count": 20,
   "metadata": {},
   "outputs": [
    {
     "name": "stdout",
     "output_type": "stream",
     "text": [
      "vna2 is already initialized\n",
      "awg3 is already initialized\n",
      "awg2 is already initialized\n",
      "mxg is already initialized\n",
      "Detecting a resonator within provided frequency range of the VNA (7040000000.0, 7052500000.0)                    \n",
      "Detected frequency is 7.04716 GHz, at 0.02 mU and -7.45 degrees\n"
     ]
    }
   ],
   "source": [
    "DRO = DispersiveRabiOscillations(\"VI-rabi\", \"Xmon Al BMSTU S444 2\",\n",
    "            vna_name=\"vna2\", ro_awg_name=\"awg3\", q_awg_name=\"awg2\", q_lo_name='mxg', )\n",
    "vna_parameters = {\"bandwidth\":10, \"freq_limits\":(7040e6, 7052.5e6), \"nop\":10, \"averages\":2}\n",
    "exc_frequency = q_freq\n",
    "excitation_durations = linspace(0, 350, 38)\n",
    "rabi_sequence_parameters = {\"awg_trigger_reaction_delay\":400, \"readout_duration\":1000, \"repetition_period\":8000}\n",
    "ro_awg_params =  {\"calibration\":ro_cal}\n",
    "q_awg_params = {\"calibration\":q_cal}\n",
    "DRO.set_fixed_parameters(vna_parameters, ro_awg_params, q_awg_params, exc_frequency, rabi_sequence_parameters)\n",
    "DRO.set_swept_parameters(excitation_durations)"
   ]
  },
  {
   "cell_type": "code",
   "execution_count": 21,
   "metadata": {},
   "outputs": [
    {
     "name": "stdout",
     "output_type": "stream",
     "text": [
      "Started at:  2017-05-21 22:58:34.576359\n",
      "Time left: 0 h 0 m 0.0 s, [excitation_duration: 3.50e+02]: , average cycle time: 2.99 s         "
     ]
    }
   ],
   "source": [
    "result = DRO.launch()"
   ]
  },
  {
   "cell_type": "code",
   "execution_count": 22,
   "metadata": {
    "collapsed": true
   },
   "outputs": [],
   "source": [
    "result.visualize();"
   ]
  },
  {
   "cell_type": "code",
   "execution_count": 107,
   "metadata": {
    "collapsed": true
   },
   "outputs": [],
   "source": [
    "result.save()"
   ]
  },
  {
   "cell_type": "code",
   "execution_count": 23,
   "metadata": {},
   "outputs": [
    {
     "data": {
      "text/plain": [
       "67.491965151142452"
      ]
     },
     "execution_count": 23,
     "metadata": {},
     "output_type": "execute_result"
    }
   ],
   "source": [
    "pi_pulse_duration = result.get_pi_pulse_duration()*1e3\n",
    "pi_pulse_duration"
   ]
  },
  {
   "cell_type": "code",
   "execution_count": 13,
   "metadata": {
    "collapsed": true
   },
   "outputs": [],
   "source": [
    "pi_pulse_duration = 67.949209045107793"
   ]
  },
  {
   "cell_type": "markdown",
   "metadata": {},
   "source": [
    "### Decay"
   ]
  },
  {
   "cell_type": "code",
   "execution_count": 146,
   "metadata": {
    "collapsed": true
   },
   "outputs": [],
   "source": [
    "# reload(lib2.VNATimeResolvedMeasurement)\n",
    "# reload(lib2.DispersiveDecay)\n",
    "from lib2.DispersiveDecay import *"
   ]
  },
  {
   "cell_type": "code",
   "execution_count": 150,
   "metadata": {},
   "outputs": [
    {
     "name": "stdout",
     "output_type": "stream",
     "text": [
      "vna2 is already initialized\n",
      "awg3 is already initialized\n",
      "awg2 is already initialized\n",
      "mxg is already initialized\n",
      "Detecting a resonator within provided frequency range of the VNA (7040000000.0, 7052500000.0)                    \n",
      "Detected frequency is 7.04710 GHz, at 0.03 mU and -8.41 degrees\n"
     ]
    }
   ],
   "source": [
    "DD = DispersiveDecay(\"VI-decay\", \"Xmon Al BMSTU S444 2\",\n",
    "            vna_name=\"vna2\", ro_awg_name=\"awg3\", q_awg_name=\"awg2\", q_lo_name='mxg', )\n",
    "vna_parameters = {\"bandwidth\":10, \"freq_limits\":(7040e6, 7052.5e6), \"nop\":10, \"averages\":2}\n",
    "q_frequency = q_freq\n",
    "readout_delays = linspace(0, 5000,20)\n",
    "rabi_sequence_parameters = {\"awg_trigger_reaction_delay\":400, \"readout_duration\":1000, \n",
    "                            \"repetition_period\":10000, \"pi_pulse_duration\":pi_pulse_duration}\n",
    "ro_awg_params =  {\"calibration\":ro_cal}\n",
    "q_awg_params = {\"calibration\":q_cal}\n",
    "DD.set_fixed_parameters(vna_parameters, ro_awg_params, q_awg_params, q_frequency, rabi_sequence_parameters)\n",
    "DD.set_swept_parameters(readout_delays)"
   ]
  },
  {
   "cell_type": "code",
   "execution_count": 151,
   "metadata": {},
   "outputs": [
    {
     "name": "stdout",
     "output_type": "stream",
     "text": [
      "Started at:  2017-05-21 22:01:42.466198\n",
      "Time left: 0 h 0 m 0.0 s, [readout_delay: 5.00e+03]: , average cycle time: 3.2 s          "
     ]
    }
   ],
   "source": [
    "dd_result = DD.launch()"
   ]
  },
  {
   "cell_type": "code",
   "execution_count": 154,
   "metadata": {
    "collapsed": true
   },
   "outputs": [],
   "source": [
    "dd_result.visualize();"
   ]
  },
  {
   "cell_type": "code",
   "execution_count": 116,
   "metadata": {
    "collapsed": true
   },
   "outputs": [],
   "source": [
    "dd_result.save()"
   ]
  },
  {
   "cell_type": "markdown",
   "metadata": {
    "collapsed": true
   },
   "source": [
    "### Ramsey"
   ]
  },
  {
   "cell_type": "code",
   "execution_count": 11,
   "metadata": {
    "collapsed": true
   },
   "outputs": [],
   "source": [
    "# reload(lib2.IQPulseSequence)\n",
    "# reload(lib2.VNATimeResolvedDispersiveMeasurement)\n",
    "# reload(lib2.VNATimeResolvedDispersiveMeasurement1D)\n",
    "# reload(lib2.DispersiveRamsey)\n",
    "from lib2.DispersiveRamsey import *"
   ]
  },
  {
   "cell_type": "code",
   "execution_count": 17,
   "metadata": {},
   "outputs": [
    {
     "name": "stdout",
     "output_type": "stream",
     "text": [
      "vna2 is already initialized\n",
      "awg3 is already initialized\n",
      "awg2 is already initialized\n",
      "mxg is already initialized\n",
      "Detecting a resonator within provided frequency range of the VNA (7040000000.0, 7052500000.0)                    \n",
      "Detected frequency is 7.04716 GHz, at 0.03 mU and -10.39 degrees\n"
     ]
    }
   ],
   "source": [
    "DR = DispersiveRamsey(\"VI-ramsey\", \"Xmon Al BMSTU S444 2\", vna_name=\"vna2\", ro_awg_name=\"awg3\", \n",
    "                                                                                  q_awg_name=\"awg2\", q_lo_name='mxg')\n",
    "vna_parameters = {\"bandwidth\":10, \"freq_limits\":(7040e6, 7052.5e6), \"nop\":10, \"averages\":2}\n",
    "ramsey_delays = linspace(0, 2000, 100)\n",
    "exc_frequency = q_freq-5e6\n",
    "rabi_sequence_parameters = {\"awg_trigger_reaction_delay\":400, \"readout_duration\":1000, \n",
    "                            \"repetition_period\":8000, \"half_pi_pulse_duration\":pi_pulse_duration/2}\n",
    "ro_awg_params =  {\"calibration\":ro_cal}\n",
    "q_awg_params = {\"calibration\":q_cal}\n",
    "DR.set_fixed_parameters(vna_parameters, ro_awg_params, q_awg_params, exc_frequency, rabi_sequence_parameters)\n",
    "DR.set_swept_parameters(ramsey_delays)"
   ]
  },
  {
   "cell_type": "code",
   "execution_count": 18,
   "metadata": {},
   "outputs": [
    {
     "name": "stdout",
     "output_type": "stream",
     "text": [
      "Started at:  2017-05-21 22:53:22.446506\n",
      "Time left: 0 h 4 m 41.84 s, [ramsey_delay: 8.08e+01]: , average cycle time: 2.97 s       "
     ]
    },
    {
     "name": "stderr",
     "output_type": "stream",
     "text": [
      "C:\\ProgramData\\Anaconda3\\lib\\site-packages\\scipy\\optimize\\minpack.py:779: OptimizeWarning: Covariance of the parameters could not be estimated\n",
      "  category=OptimizeWarning)\n"
     ]
    },
    {
     "name": "stdout",
     "output_type": "stream",
     "text": [
      "Time left: 0 h 0 m 26.92 s, [ramsey_delay: 1.82e+03]: , average cycle time: 2.99 s       "
     ]
    }
   ],
   "source": [
    "dr_result = DR.launch()"
   ]
  },
  {
   "cell_type": "code",
   "execution_count": 153,
   "metadata": {
    "collapsed": true
   },
   "outputs": [],
   "source": [
    "dr_result.visualize();"
   ]
  },
  {
   "cell_type": "code",
   "execution_count": 144,
   "metadata": {
    "collapsed": true
   },
   "outputs": [],
   "source": [
    "dr_result.save()"
   ]
  },
  {
   "cell_type": "markdown",
   "metadata": {},
   "source": [
    "### Echo"
   ]
  },
  {
   "cell_type": "code",
   "execution_count": 157,
   "metadata": {
    "collapsed": true
   },
   "outputs": [],
   "source": [
    "# reload(lib2.VNATimeResolvedMeasurement)\n",
    "# from lib2.VNATimeResolvedMeasurement import *\n",
    "# reload(lib2.DispersiveHahnEcho)\n",
    "from lib2.DispersiveHahnEcho import *"
   ]
  },
  {
   "cell_type": "code",
   "execution_count": 161,
   "metadata": {},
   "outputs": [
    {
     "name": "stdout",
     "output_type": "stream",
     "text": [
      "vna2 is already initialized\n",
      "awg3 is already initialized\n",
      "awg2 is already initialized\n",
      "mxg is already initialized\n",
      "Detecting a resonator within provided frequency range of the VNA (7040000000.0, 7052500000.0)                    \n",
      "Detected frequency is 7.04716 GHz, at 0.02 mU and -7.93 degrees\n"
     ]
    }
   ],
   "source": [
    "DHN = DispersiveHahnEcho(\"VI-hahn-echo\", \"Xmon Al BMSTU S444 2\",\n",
    "            vna_name=\"vna2\", ro_awg_name=\"awg3\", q_awg_name=\"awg2\", q_lo_name='mxg')\n",
    "vna_parameters = {\"bandwidth\":10, \"freq_limits\":(7040e6, 7052.5e6), \"nop\":20, \"averages\":2}\n",
    "q_frequency = q_freq\n",
    "echo_delays = linspace(10, 7000, 20)\n",
    "sequence_parameters = {\"awg_trigger_reaction_delay\":400, \"readout_duration\":1000, \n",
    "                            \"repetition_period\":10000, \"half_pi_pulse_duration\":pi_pulse_duration/2}\n",
    "ro_awg_params =  {\"calibration\":ro_cal}\n",
    "q_awg_params = {\"calibration\":q_cal}\n",
    "DHN.set_fixed_parameters(vna_parameters, ro_awg_params, q_awg_params, q_frequency, sequence_parameters)\n",
    "DHN.set_swept_parameters(echo_delays)"
   ]
  },
  {
   "cell_type": "code",
   "execution_count": 162,
   "metadata": {},
   "outputs": [
    {
     "name": "stdout",
     "output_type": "stream",
     "text": [
      "Started at:  2017-05-21 22:06:57.710228\n",
      "Time left: 0 h 0 m 0.0 s, [echo_delay: 7.00e+03]: , average cycle time: 5.01 s         "
     ]
    }
   ],
   "source": [
    "dhn_result = DHN.launch()"
   ]
  },
  {
   "cell_type": "code",
   "execution_count": 148,
   "metadata": {
    "collapsed": true
   },
   "outputs": [],
   "source": [
    "dhn_result.visualize();"
   ]
  },
  {
   "cell_type": "code",
   "execution_count": 151,
   "metadata": {
    "collapsed": true
   },
   "outputs": [],
   "source": [
    "dhn_result.save()"
   ]
  },
  {
   "cell_type": "code",
   "execution_count": 32,
   "metadata": {
    "collapsed": true
   },
   "outputs": [
    {
     "data": {
      "text/plain": [
       "(<matplotlib.figure.Figure at 0xd808da0>,\n",
       " array([<matplotlib.axes._subplots.AxesSubplot object at 0x000000000B1F7320>,\n",
       "        <matplotlib.axes._subplots.AxesSubplot object at 0x000000000AF5B198>,\n",
       "        <matplotlib.axes._subplots.AxesSubplot object at 0x000000000B7477F0>,\n",
       "        <matplotlib.axes._subplots.AxesSubplot object at 0x0000000011049AC8>], dtype=object),\n",
       " (None, None))"
      ]
     },
     "execution_count": 32,
     "metadata": {},
     "output_type": "execute_result"
    }
   ],
   "source": [
    "MeasurementResult.load(\"Xmon Al BMSTU S444 2\", \"VI-hahn-echo\").visualize()"
   ]
  },
  {
   "cell_type": "markdown",
   "metadata": {},
   "source": [
    "### Ramsey fringes"
   ]
  },
  {
   "cell_type": "code",
   "execution_count": 100,
   "metadata": {
    "collapsed": true
   },
   "outputs": [],
   "source": [
    "# reload(lib2.Measurement)\n",
    "# reload(drivers.KeysightAWG)\n",
    "reload(lib2.VNATimeResolvedDispersiveMeasurement)\n",
    "reload(lib2.VNATimeResolvedDispersiveMeasurement1D)\n",
    "reload(lib2.DispersiveRamseyFringes)\n",
    "from lib2.DispersiveRamseyFringes import *"
   ]
  },
  {
   "cell_type": "code",
   "execution_count": 27,
   "metadata": {
    "collapsed": true
   },
   "outputs": [
    {
     "ename": "NameError",
     "evalue": "name 'DispersiveRamseyFringes' is not defined",
     "output_type": "error",
     "traceback": [
      "\u001b[0;31m---------------------------------------------------------------------------\u001b[0m",
      "\u001b[0;31mNameError\u001b[0m                                 Traceback (most recent call last)",
      "\u001b[0;32m<ipython-input-27-cad41806b167>\u001b[0m in \u001b[0;36m<module>\u001b[0;34m()\u001b[0m\n\u001b[0;32m----> 1\u001b[0;31m DRF = DispersiveRamseyFringes(\"VI-ramsey-fringes\", \"Xmon Al BMSTU S444 2\",\n\u001b[0m\u001b[1;32m      2\u001b[0m                                       vna_name=\"vna2\", ro_awg_name=\"awg3\", q_awg_name=\"awg2\", q_lo_name='mxg')\n\u001b[1;32m      3\u001b[0m \u001b[0mvna_parameters\u001b[0m \u001b[1;33m=\u001b[0m \u001b[1;33m{\u001b[0m\u001b[1;34m\"bandwidth\"\u001b[0m\u001b[1;33m:\u001b[0m\u001b[1;36m10\u001b[0m\u001b[1;33m,\u001b[0m \u001b[1;34m\"freq_limits\"\u001b[0m\u001b[1;33m:\u001b[0m\u001b[1;33m(\u001b[0m\u001b[1;36m7040e6\u001b[0m\u001b[1;33m,\u001b[0m \u001b[1;36m7052.5e6\u001b[0m\u001b[1;33m)\u001b[0m\u001b[1;33m,\u001b[0m \u001b[1;34m\"nop\"\u001b[0m\u001b[1;33m:\u001b[0m\u001b[1;36m1\u001b[0m\u001b[1;33m,\u001b[0m \u001b[1;34m\"averages\"\u001b[0m\u001b[1;33m:\u001b[0m\u001b[1;36m2\u001b[0m\u001b[1;33m}\u001b[0m\u001b[1;33m\u001b[0m\u001b[0m\n\u001b[1;32m      4\u001b[0m \u001b[0mq_frequency\u001b[0m \u001b[1;33m=\u001b[0m \u001b[1;36m7.89939e9\u001b[0m\u001b[1;33m\u001b[0m\u001b[0m\n\u001b[1;32m      5\u001b[0m \u001b[0mexcitation_freqs\u001b[0m \u001b[1;33m=\u001b[0m \u001b[0mlinspace\u001b[0m\u001b[1;33m(\u001b[0m\u001b[0mq_frequency\u001b[0m\u001b[1;33m-\u001b[0m\u001b[1;36m10e6\u001b[0m\u001b[1;33m,\u001b[0m \u001b[0mq_frequency\u001b[0m\u001b[1;33m+\u001b[0m\u001b[1;36m10e6\u001b[0m\u001b[1;33m,\u001b[0m \u001b[1;36m200\u001b[0m\u001b[1;33m)\u001b[0m\u001b[1;33m\u001b[0m\u001b[0m\n",
      "\u001b[0;31mNameError\u001b[0m: name 'DispersiveRamseyFringes' is not defined"
     ]
    }
   ],
   "source": [
    "DRF = DispersiveRamseyFringes(\"VI-ramsey-fringes\", \"Xmon Al BMSTU S444 2\",\n",
    "                                      vna_name=\"vna2\", ro_awg_name=\"awg3\", q_awg_name=\"awg2\", q_lo_name='mxg')\n",
    "vna_parameters = {\"bandwidth\":10, \"freq_limits\":(7040e6, 7052.5e6), \"nop\":1, \"averages\":2}\n",
    "q_frequency = 7.89939e9\n",
    "excitation_freqs = linspace(q_frequency-10e6, q_frequency+10e6, 200)\n",
    "ramsey_delays = linspace(10, 5000, 200)\n",
    "sequence_parameters = {\"awg_trigger_reaction_delay\":400, \"readout_duration\":1000, \n",
    "                            \"repetition_period\":10000, \"half_pi_pulse_duration\":pi_pulse_duration/2}\n",
    "ro_awg_params =  {\"calibration\":ro_cal}\n",
    "q_awg_params = {\"calibration\":q_cal}\n",
    "DRF.set_fixed_parameters(vna_parameters, ro_awg_params, q_awg_params, sequence_parameters)\n",
    "DRF.set_swept_parameters(ramsey_delays, excitation_freqs)"
   ]
  },
  {
   "cell_type": "code",
   "execution_count": 28,
   "metadata": {
    "collapsed": true
   },
   "outputs": [
    {
     "ename": "NameError",
     "evalue": "name 'DRF' is not defined",
     "output_type": "error",
     "traceback": [
      "\u001b[0;31m---------------------------------------------------------------------------\u001b[0m",
      "\u001b[0;31mNameError\u001b[0m                                 Traceback (most recent call last)",
      "\u001b[0;32m<ipython-input-28-2bca5b6ef668>\u001b[0m in \u001b[0;36m<module>\u001b[0;34m()\u001b[0m\n\u001b[0;32m----> 1\u001b[0;31m \u001b[0mdrf_result\u001b[0m \u001b[1;33m=\u001b[0m \u001b[0mDRF\u001b[0m\u001b[1;33m.\u001b[0m\u001b[0mlaunch\u001b[0m\u001b[1;33m(\u001b[0m\u001b[1;33m)\u001b[0m\u001b[1;33m\u001b[0m\u001b[0m\n\u001b[0m",
      "\u001b[0;31mNameError\u001b[0m: name 'DRF' is not defined"
     ]
    }
   ],
   "source": [
    "drf_result = DRF.launch()"
   ]
  },
  {
   "cell_type": "code",
   "execution_count": 67,
   "metadata": {
    "collapsed": true
   },
   "outputs": [
    {
     "data": {
      "text/plain": [
       "(<matplotlib.figure.Figure at 0x48ba0e48>,\n",
       " array([<matplotlib.axes._subplots.AxesSubplot object at 0x0000000050AFB860>,\n",
       "        <matplotlib.axes._subplots.AxesSubplot object at 0x000000001A76A630>,\n",
       "        <matplotlib.axes._subplots.AxesSubplot object at 0x000000001A7D5828>,\n",
       "        <matplotlib.axes._subplots.AxesSubplot object at 0x000000001A82A550>], dtype=object),\n",
       " [<matplotlib.axes._axes.Axes at 0x1a7b5940>,\n",
       "  <matplotlib.axes._axes.Axes at 0x1a8fdc50>,\n",
       "  <matplotlib.axes._axes.Axes at 0x50b54f60>,\n",
       "  <matplotlib.axes._axes.Axes at 0x50bf0390>])"
      ]
     },
     "execution_count": 67,
     "metadata": {},
     "output_type": "execute_result"
    }
   ],
   "source": [
    "drf_result.visualize()"
   ]
  },
  {
   "cell_type": "code",
   "execution_count": 68,
   "metadata": {
    "collapsed": true
   },
   "outputs": [],
   "source": [
    "drf_result.save()"
   ]
  },
  {
   "cell_type": "markdown",
   "metadata": {},
   "source": [
    "### Rabi shevrons"
   ]
  },
  {
   "cell_type": "code",
   "execution_count": 139,
   "metadata": {
    "collapsed": true
   },
   "outputs": [],
   "source": [
    "# reload(lib2.VNATimeResolvedDispersiveMeasurement)\n",
    "# reload(lib2.VNATimeResolvedDispersiveMeasurement2D)\n",
    "# reload(lib2.DispersiveRabiChevrons)\n",
    "from lib2.DispersiveRabiChevrons import *"
   ]
  },
  {
   "cell_type": "code",
   "execution_count": 104,
   "metadata": {},
   "outputs": [
    {
     "name": "stdout",
     "output_type": "stream",
     "text": [
      "vna2 is already initialized\n",
      "awg3 is already initialized\n",
      "awg2 is already initialized\n",
      "mxg is already initialized\n",
      "Detecting a resonator within provided frequency range of the VNA (7040000000.0, 7052500000.0)                    \n",
      "Detected frequency is 7.04710 GHz, at 0.03 mU and 8.89 degrees\n"
     ]
    }
   ],
   "source": [
    "DRC = DispersiveRabiChevrons(\"VI-rabi-shevrons\", \"Xmon Al BMSTU S444 2\",\n",
    "                                      vna_name=\"vna2\", ro_awg_name=\"awg3\", q_awg_name=\"awg2\", q_lo_name='mxg')\n",
    "vna_parameters = {\"bandwidth\":10, \"freq_limits\":(7040e6, 7052.5e6), \"nop\":1, \"averages\":2}\n",
    "q_frequency = 7.89939e9\n",
    "excitation_freqs = linspace(q_frequency-10e6, q_frequency+10e6, 200)\n",
    "ramsey_delays = linspace(10, 5000, 200)\n",
    "sequence_parameters = {\"awg_trigger_reaction_delay\":400, \"readout_duration\":1000, \"repetition_period\":10000}\n",
    "ro_awg_params =  {\"calibration\":ro_cal}\n",
    "q_awg_params = {\"calibration\":q_cal}\n",
    "DRC.set_fixed_parameters(vna_parameters, ro_awg_params, q_awg_params, sequence_parameters)\n",
    "DRC.set_swept_parameters(ramsey_delays, excitation_freqs)"
   ]
  },
  {
   "cell_type": "code",
   "execution_count": 105,
   "metadata": {},
   "outputs": [
    {
     "name": "stdout",
     "output_type": "stream",
     "text": [
      "Started at:  2017-05-13 15:27:30.841761\n",
      "Time left: 0 h 0 m 0.0 s, [excitation_duration: 5.00e+03, excitation_frequency: 7.91e+09]: , average cycle time: 0.24 s           "
     ]
    }
   ],
   "source": [
    "drc_result = DRC.launch()"
   ]
  },
  {
   "cell_type": "code",
   "execution_count": 106,
   "metadata": {
    "collapsed": true
   },
   "outputs": [],
   "source": [
    "drc_result.visualize();"
   ]
  },
  {
   "cell_type": "code",
   "execution_count": 108,
   "metadata": {
    "collapsed": true
   },
   "outputs": [],
   "source": [
    "drc_result.save()"
   ]
  },
  {
   "cell_type": "markdown",
   "metadata": {},
   "source": [
    "### Dispersive shift measurement"
   ]
  },
  {
   "cell_type": "code",
   "execution_count": 75,
   "metadata": {
    "collapsed": true
   },
   "outputs": [],
   "source": [
    "reload(lib2.VNATimeResolvedDispersiveMeasurement)\n",
    "reload(lib2.VNATimeResolvedDispersiveMeasurement2D)\n",
    "reload(lib2.TimeResolvedDispersiveShiftSpectroscopy)\n",
    "from lib2.TimeResolvedDispersiveShiftSpectroscopy import *"
   ]
  },
  {
   "cell_type": "code",
   "execution_count": 94,
   "metadata": {},
   "outputs": [
    {
     "name": "stdout",
     "output_type": "stream",
     "text": [
      "vna2 is already initialized\n",
      "awg3 is already initialized\n",
      "awg2 is already initialized\n",
      "mxg is already initialized\n"
     ]
    }
   ],
   "source": [
    "DSS = TimeResolvedDispersiveShiftSpectroscopy(\"VI-rabi-dispersive-shift-exact-q-freq\", \"Xmon Al BMSTU S444 2\",\n",
    "                                      vna_name=\"vna2\", ro_awg_name=\"awg3\", q_awg_name=\"awg2\", q_lo_name='mxg')\n",
    "vna_parameters = {\"bandwidth\":10, \"freq_limits\":(7040e6, 7052.5e6), \"nop\":100, \"averages\":2}\n",
    "exc_frequency = 7.89919e9\n",
    "excitation_durations = linspace(1, 3000, 100)\n",
    "sequence_parameters = {\"awg_trigger_reaction_delay\":400, \"readout_duration\":1000, \"repetition_period\":10000}\n",
    "ro_awg_params =  {\"calibration\":ro_cal}\n",
    "q_awg_params = {\"calibration\":q_cal}\n",
    "DSS.set_fixed_parameters(vna_parameters, q_frequency, ro_awg_params, q_awg_params, sequence_parameters)\n",
    "DSS.set_swept_parameters(excitation_durations)"
   ]
  },
  {
   "cell_type": "code",
   "execution_count": 95,
   "metadata": {},
   "outputs": [
    {
     "name": "stdout",
     "output_type": "stream",
     "text": [
      "Started at:  2017-05-14 22:48:05.121530\n",
      "Time left: 0 h 0 m 0.0 s, [excitation_duration: 3.00e+03]: , average cycle time: 19.14 s          "
     ]
    }
   ],
   "source": [
    "dss_result = DSS.launch()"
   ]
  },
  {
   "cell_type": "code",
   "execution_count": 97,
   "metadata": {
    "collapsed": true
   },
   "outputs": [],
   "source": [
    "dss_result.save()"
   ]
  },
  {
   "cell_type": "code",
   "execution_count": 76,
   "metadata": {
    "collapsed": true
   },
   "outputs": [],
   "source": [
    "MeasurementResult.load(\"Xmon Al BMSTU S444 2\", \"VI-rabi-dispersive-shift\").visualize();"
   ]
  },
  {
   "cell_type": "code",
   "execution_count": 96,
   "metadata": {
    "collapsed": true
   },
   "outputs": [
    {
     "data": {
      "text/plain": [
       "(<matplotlib.figure.Figure at 0x9f0f0b8>,\n",
       " array([<matplotlib.axes._subplots.AxesSubplot object at 0x000000000D2A8208>,\n",
       "        <matplotlib.axes._subplots.AxesSubplot object at 0x000000001046CBE0>,\n",
       "        <matplotlib.axes._subplots.AxesSubplot object at 0x000000000E67A828>,\n",
       "        <matplotlib.axes._subplots.AxesSubplot object at 0x000000000F1CE160>], dtype=object),\n",
       " [<matplotlib.axes._axes.Axes at 0xf325a58>,\n",
       "  <matplotlib.axes._axes.Axes at 0x9d6e908>,\n",
       "  <matplotlib.axes._axes.Axes at 0xf325e10>,\n",
       "  <matplotlib.axes._axes.Axes at 0xe73a6a0>])"
      ]
     },
     "execution_count": 96,
     "metadata": {},
     "output_type": "execute_result"
    }
   ],
   "source": [
    "dss_result.visualize();"
   ]
  },
  {
   "cell_type": "markdown",
   "metadata": {},
   "source": [
    "______________________________________________"
   ]
  },
  {
   "cell_type": "markdown",
   "metadata": {},
   "source": [
    "# Pulse optimization"
   ]
  },
  {
   "cell_type": "markdown",
   "metadata": {},
   "source": [
    "## Amplified phase error"
   ]
  },
  {
   "cell_type": "code",
   "execution_count": 9,
   "metadata": {
    "collapsed": true
   },
   "outputs": [],
   "source": [
    "# reload(lib2.VNATimeResolvedDispersiveMeasurement)\n",
    "# reload(lib2.VNATimeResolvedDispersiveMeasurement1D)\n",
    "# reload(lib2.DispersiveAPE)\n",
    "from lib2.DispersiveAPE import *"
   ]
  },
  {
   "cell_type": "markdown",
   "metadata": {},
   "source": [
    "### Rectangular pulses"
   ]
  },
  {
   "cell_type": "code",
   "execution_count": 36,
   "metadata": {
    "collapsed": true
   },
   "outputs": [
    {
     "name": "stdout",
     "output_type": "stream",
     "text": [
      "0\n",
      "vna2 is already initialized\n",
      "awg3 is already initialized\n",
      "awg2 is already initialized\n",
      "mxg is already initialized\n",
      "Detecting a resonator within provided frequency range of the VNA (7040000000.0, 7052500000.0)                    \n",
      "Detected frequency is 7.04710 GHz, at 0.02 mU and -13.45 degrees\n",
      "Started at:  2017-05-21 23:02:08.364587\n",
      "Time left: 0 h 0 m 0.0 s, [ramsey_angle: 1.26e+01]: , average cycle time: 1.38 s          1\n",
      "vna2 is already initialized\n",
      "awg3 is already initialized\n",
      "awg2 is already initialized\n",
      "mxg is already initialized\n",
      "Detecting a resonator within provided frequency range of the VNA (7040000000.0, 7052500000.0)                    \n",
      "Detected frequency is 7.04716 GHz, at 0.02 mU and -9.30 degrees\n",
      "Started at:  2017-05-21 23:04:33.375881\n",
      "Time left: 0 h 0 m 0.0 s, [ramsey_angle: 1.26e+01]: , average cycle time: 1.38 s          2\n",
      "vna2 is already initialized\n",
      "awg3 is already initialized\n",
      "awg2 is already initialized\n",
      "mxg is already initialized\n",
      "Detecting a resonator within provided frequency range of the VNA (7040000000.0, 7052500000.0)                    \n",
      "Detected frequency is 7.04710 GHz, at 0.02 mU and -8.09 degrees\n",
      "Started at:  2017-05-21 23:06:57.291113\n",
      "Time left: 0 h 0 m 0.0 s, [ramsey_angle: 1.26e+01]: , average cycle time: 1.55 s          3\n",
      "vna2 is already initialized\n",
      "awg3 is already initialized\n",
      "awg2 is already initialized\n",
      "mxg is already initialized\n",
      "Detecting a resonator within provided frequency range of the VNA (7040000000.0, 7052500000.0)                    \n",
      "Detected frequency is 7.04710 GHz, at 0.02 mU and -5.51 degrees\n",
      "Started at:  2017-05-21 23:09:38.278321\n",
      "Time left: 0 h 0 m 0.0 s, [ramsey_angle: 1.26e+01]: , average cycle time: 1.73 s          4\n",
      "vna2 is already initialized\n",
      "awg3 is already initialized\n",
      "awg2 is already initialized\n",
      "mxg is already initialized\n",
      "Detecting a resonator within provided frequency range of the VNA (7040000000.0, 7052500000.0)                    \n",
      "Detected frequency is 7.04710 GHz, at 0.02 mU and -8.18 degrees\n",
      "Started at:  2017-05-21 23:12:38.397623\n",
      "Time left: 0 h 0 m 0.0 s, [ramsey_angle: 1.26e+01]: , average cycle time: 1.92 s          5\n",
      "vna2 is already initialized\n",
      "awg3 is already initialized\n",
      "awg2 is already initialized\n",
      "mxg is already initialized\n",
      "Detecting a resonator within provided frequency range of the VNA (7040000000.0, 7052500000.0)                    \n",
      "Detected frequency is 7.04716 GHz, at 0.03 mU and -2.91 degrees\n",
      "Started at:  2017-05-21 23:15:56.678964\n",
      "Time left: 0 h 0 m 0.0 s, [ramsey_angle: 1.26e+01]: , average cycle time: 2.44 s          6\n",
      "vna2 is already initialized\n",
      "awg3 is already initialized\n",
      "awg2 is already initialized\n",
      "mxg is already initialized\n",
      "Detecting a resonator within provided frequency range of the VNA (7040000000.0, 7052500000.0)                    \n",
      "Detected frequency is 7.04716 GHz, at 0.03 mU and -5.45 degrees\n",
      "Started at:  2017-05-21 23:20:07.008282\n",
      "Time left: 0 h 0 m 0.0 s, [ramsey_angle: 1.26e+01]: , average cycle time: 2.97 s          7\n",
      "vna2 is already initialized\n",
      "awg3 is already initialized\n",
      "awg2 is already initialized\n",
      "mxg is already initialized\n",
      "Detecting a resonator within provided frequency range of the VNA (7040000000.0, 7052500000.0)                    \n",
      "Detected frequency is 7.04716 GHz, at 0.02 mU and -1.35 degrees\n",
      "Started at:  2017-05-21 23:25:10.284628\n",
      "Time left: 0 h 0 m 0.0 s, [ramsey_angle: 1.26e+01]: , average cycle time: 3.86 s          8\n",
      "vna2 is already initialized\n",
      "awg3 is already initialized\n",
      "awg2 is already initialized\n",
      "mxg is already initialized\n",
      "Detecting a resonator within provided frequency range of the VNA (7040000000.0, 7052500000.0)                    \n",
      "Detected frequency is 7.04704 GHz, at 0.03 mU and -2.83 degrees\n",
      "Started at:  2017-05-21 23:31:43.049093\n",
      "Time left: 0 h 0 m 0.0 s, [ramsey_angle: 1.26e+01]: , average cycle time: 5.11 s          9\n",
      "vna2 is already initialized\n",
      "awg3 is already initialized\n",
      "awg2 is already initialized\n",
      "mxg is already initialized\n",
      "Detecting a resonator within provided frequency range of the VNA (7040000000.0, 7052500000.0)                    \n",
      "Detected frequency is 7.04710 GHz, at 0.03 mU and -3.17 degrees\n",
      "Started at:  2017-05-21 23:40:19.840652\n",
      "Time left: 0 h 0 m 0.0 s, [ramsey_angle: 1.26e+01]: , average cycle time: 7.06 s           10\n",
      "vna2 is already initialized\n",
      "awg3 is already initialized\n",
      "awg2 is already initialized\n",
      "mxg is already initialized\n",
      "Detecting a resonator within provided frequency range of the VNA (7040000000.0, 7052500000.0)                    \n",
      "Detected frequency is 7.04710 GHz, at 0.03 mU and 0.54 degrees\n",
      "Started at:  2017-05-21 23:52:12.051388\n",
      "Time left: 0 h 0 m 0.0 s, [ramsey_angle: 1.26e+01]: , average cycle time: 10.06 s           "
     ]
    }
   ],
   "source": [
    "for i in range(0, 11, 1):\n",
    "    print(i)\n",
    "    DAPE = DispersiveAPE(\"VI-APE-%d-pseudo-I-pulses\"%i, \"Xmon Al BMSTU S444 2\", vna_name=\"vna2\", ro_awg_name=\"awg3\", \n",
    "                                                q_awg_name=\"awg2\", q_lo_name='mxg')\n",
    "    vna_parameters = {\"bandwidth\":10, \"freq_limits\":(7040e6, 7052.5e6), \"nop\":10**(1.7*i/10), \"averages\":2}\n",
    "    ramsey_angles = linspace(-4*pi, 4*pi, 100)\n",
    "    exc_frequency = q_freq\n",
    "    ro_awg_params =  {\"calibration\":ro_cal}\n",
    "    q_awg_params = {\"calibration\":q_cal}\n",
    "    APE_sequence_parameters = {\"awg_trigger_reaction_delay\":400, \"readout_duration\":1000, \n",
    "                            \"repetition_period\":8000}\n",
    "    APE_sequence_parameters.update({\"half_pi_pulse_duration\":pi_pulse_duration/2, \n",
    "                                    \"pseudo_I_pulses_count\":i, \"modulating_window\":'rectangular',\n",
    "                                    \"excitation_amplitude\":1, \"padding\":5})\n",
    "    DAPE.set_fixed_parameters(vna_parameters, ro_awg_params, q_awg_params, exc_frequency, APE_sequence_parameters)\n",
    "    DAPE.set_swept_parameters(ramsey_angles)\n",
    "    dape_result = DAPE.launch()\n",
    "    dape_result.save()"
   ]
  },
  {
   "cell_type": "code",
   "execution_count": 125,
   "metadata": {},
   "outputs": [
    {
     "name": "stdout",
     "output_type": "stream",
     "text": [
      "Started at:  2017-05-19 20:46:07.693439\n",
      "Time left: 0 h 0 m 0.0 s, [ramsey_angle: 1.26e+01]: , average cycle time: 2.96 s          "
     ]
    }
   ],
   "source": [
    "dape_result = DAPE.launch()"
   ]
  },
  {
   "cell_type": "code",
   "execution_count": 54,
   "metadata": {
    "collapsed": true
   },
   "outputs": [],
   "source": [
    "dape_result.visualize();"
   ]
  },
  {
   "cell_type": "code",
   "execution_count": 126,
   "metadata": {
    "collapsed": true
   },
   "outputs": [],
   "source": [
    "dape_result.save()"
   ]
  },
  {
   "cell_type": "markdown",
   "metadata": {},
   "source": [
    "### Gaussian pulses"
   ]
  },
  {
   "cell_type": "markdown",
   "metadata": {},
   "source": [
    "#### Rabi"
   ]
  },
  {
   "cell_type": "code",
   "execution_count": 37,
   "metadata": {
    "collapsed": true
   },
   "outputs": [],
   "source": [
    "# reload(lib2.VNATimeResolvedDispersiveMeasurement)\n",
    "# reload(lib2.VNATimeResolvedDispersiveMeasurement1D)\n",
    "# reload(lib2.DispersivePiPulseAmplitudeCalibration)\n",
    "from lib2.DispersivePiPulseAmplitudeCalibration import *"
   ]
  },
  {
   "cell_type": "code",
   "execution_count": 40,
   "metadata": {},
   "outputs": [
    {
     "name": "stdout",
     "output_type": "stream",
     "text": [
      "vna2 is already initialized\n",
      "awg3 is already initialized\n",
      "awg2 is already initialized\n",
      "mxg is already initialized\n",
      "Detecting a resonator within provided frequency range of the VNA (7040000000.0, 7052500000.0)                    \n",
      "Detected frequency is 7.04704 GHz, at 0.03 mU and 3.02 degrees\n"
     ]
    }
   ],
   "source": [
    "DPPAC = DispersivePiPulseAmplitudeCalibration(\"VI-pi-amp-cal\", \"Xmon Al BMSTU S444 2\",\n",
    "            vna_name=\"vna2\", ro_awg_name=\"awg3\", q_awg_name=\"awg2\", q_lo_name='mxg')\n",
    "vna_parameters = {\"bandwidth\":10, \"freq_limits\":(7040e6, 7052.5e6), \"nop\":10, \"averages\":2}\n",
    "exc_frequency = q_freq\n",
    "excitation_amps = linspace(0, 3, 20)\n",
    "sequence_parameters = {\"awg_trigger_reaction_delay\":400, \"readout_duration\":1000,\n",
    "                            \"repetition_period\":8000, \"excitation_duration\":50, \"modulating_window\":\"gaussian\"}\n",
    "ro_awg_params =  {\"calibration\":ro_cal}\n",
    "q_awg_params = {\"calibration\":q_cal}\n",
    "DPPAC.set_fixed_parameters(vna_parameters, ro_awg_params, q_awg_params, exc_frequency, sequence_parameters)\n",
    "DPPAC.set_swept_parameters(excitation_amps)"
   ]
  },
  {
   "cell_type": "code",
   "execution_count": 41,
   "metadata": {},
   "outputs": [
    {
     "name": "stdout",
     "output_type": "stream",
     "text": [
      "Started at:  2017-05-22 00:20:07.788235\n",
      "Time left: 0 h 0 m 0.0 s, [excitation_amplitude: 3.00e+00]: , average cycle time: 2.96 s         "
     ]
    }
   ],
   "source": [
    "dppac_result = DPPAC.launch()"
   ]
  },
  {
   "cell_type": "code",
   "execution_count": 42,
   "metadata": {
    "collapsed": true
   },
   "outputs": [],
   "source": [
    "dppac_result.visualize();"
   ]
  },
  {
   "cell_type": "code",
   "execution_count": 7,
   "metadata": {},
   "outputs": [
    {
     "data": {
      "text/plain": [
       "2.28"
      ]
     },
     "execution_count": 7,
     "metadata": {},
     "output_type": "execute_result"
    }
   ],
   "source": [
    "pi_pulse_amplitude = 2.28\n",
    "pi_pulse_amplitude"
   ]
  },
  {
   "cell_type": "markdown",
   "metadata": {},
   "source": [
    "#### Ramsey "
   ]
  },
  {
   "cell_type": "code",
   "execution_count": 110,
   "metadata": {
    "collapsed": true
   },
   "outputs": [],
   "source": [
    "from lib2.DispersiveRamsey import *"
   ]
  },
  {
   "cell_type": "code",
   "execution_count": 44,
   "metadata": {},
   "outputs": [
    {
     "name": "stdout",
     "output_type": "stream",
     "text": [
      "vna2 is already initialized\n",
      "awg3 is already initialized\n",
      "awg2 is already initialized\n",
      "mxg is already initialized\n",
      "Detecting a resonator within provided frequency range of the VNA (7040000000.0, 7052500000.0)                    \n",
      "Detected frequency is 7.04710 GHz, at 0.03 mU and 4.10 degrees\n"
     ]
    }
   ],
   "source": [
    "DR = DispersiveRamsey(\"VI-ramsey\", \"Xmon Al BMSTU S444 2\", vna_name=\"vna2\", \n",
    "                                          ro_awg_name=\"awg3\", q_awg_name=\"awg2\", q_lo_name='mxg')\n",
    "vna_parameters = {\"bandwidth\":10, \"freq_limits\":(7040e6, 7052.5e6), \"nop\":10, \"averages\":2}\n",
    "ramsey_delays = linspace(0, 2000, 100)\n",
    "exc_frequency = q_freq-5e6\n",
    "ramsey_sequence_parameters = {\"awg_trigger_reaction_delay\":400, \"readout_duration\":1000, \n",
    "                              \"excitation_amplitude\":pi_pulse_amplitude/2, \"modulating_window\":\"gaussian\",\n",
    "                              \"repetition_period\":8000, \"half_pi_pulse_duration\":50}\n",
    "DR.set_fixed_parameters(vna_parameters, ro_awg_params, q_awg_params, exc_frequency, ramsey_sequence_parameters)\n",
    "DR.set_swept_parameters(ramsey_delays)"
   ]
  },
  {
   "cell_type": "code",
   "execution_count": 45,
   "metadata": {},
   "outputs": [
    {
     "name": "stdout",
     "output_type": "stream",
     "text": [
      "Started at:  2017-05-22 00:21:44.582771\n",
      "Time left: 0 h 4 m 44.01 s, [ramsey_delay: 8.08e+01]: , average cycle time: 2.99 s       "
     ]
    },
    {
     "name": "stderr",
     "output_type": "stream",
     "text": [
      "C:\\ProgramData\\Anaconda3\\lib\\site-packages\\scipy\\optimize\\minpack.py:779: OptimizeWarning: Covariance of the parameters could not be estimated\n",
      "  category=OptimizeWarning)\n"
     ]
    },
    {
     "name": "stdout",
     "output_type": "stream",
     "text": [
      "Time left: 0 h 2 m 11.51 s, [ramsey_delay: 1.11e+03]: , average cycle time: 2.99 s       "
     ]
    },
    {
     "name": "stderr",
     "output_type": "stream",
     "text": [
      "Exception ignored in: <function WeakValueDictionary.__init__.<locals>.remove at 0x000000000F666378>\n",
      "Traceback (most recent call last):\n",
      "  File \"C:\\ProgramData\\Anaconda3\\lib\\weakref.py\", line 109, in remove\n",
      "    self = selfref()\n",
      "KeyboardInterrupt\n"
     ]
    },
    {
     "name": "stdout",
     "output_type": "stream",
     "text": [
      "\r",
      "Time left: 0 h 2 m 8.5 s, [ramsey_delay: 1.13e+03]: , average cycle time: 2.99 s       "
     ]
    }
   ],
   "source": [
    "drg_result = DR.launch()"
   ]
  },
  {
   "cell_type": "code",
   "execution_count": 132,
   "metadata": {
    "collapsed": true
   },
   "outputs": [],
   "source": [
    "drg_result.visualize();"
   ]
  },
  {
   "cell_type": "markdown",
   "metadata": {},
   "source": [
    "#### APE"
   ]
  },
  {
   "cell_type": "code",
   "execution_count": 10,
   "metadata": {
    "collapsed": true,
    "scrolled": true
   },
   "outputs": [],
   "source": [
    "for i in range(0, 11, 1):\n",
    "    print(i)\n",
    "    DAPE = DispersiveAPE(\"VI-APE-gaussian-%d-pseudo-I-pulses\"%i, \"Xmon Al BMSTU S444 2\", vna_name=\"vna2\", ro_awg_name=\"awg3\", \n",
    "                                                q_awg_name=\"awg2\", q_lo_name='mxg')\n",
    "    vna_parameters = {\"bandwidth\":10, \"freq_limits\":(7040e6, 7052.5e6), \"nop\":10**(1.7*i/10), \"averages\":3}\n",
    "    ramsey_angles = linspace(-4*pi, 4*pi, 100)\n",
    "    exc_frequency = q_freq\n",
    "    ro_awg_params =  {\"calibration\":ro_cal}\n",
    "    q_awg_params = {\"calibration\":q_cal}\n",
    "    APE_sequence_parameters = {\"awg_trigger_reaction_delay\":400, \"readout_duration\":1000, \n",
    "                            \"repetition_period\":8000, \"padding\":5,\n",
    "                            \"half_pi_pulse_duration\":50, \"modulating_window\":\"gaussian\",\n",
    "                            \"excitation_amplitude\":pi_pulse_amplitude/2, \"pseudo_I_pulses_count\":i}\n",
    "    DAPE.set_fixed_parameters(vna_parameters, ro_awg_params, q_awg_params, exc_frequency, APE_sequence_parameters)\n",
    "    DAPE.set_swept_parameters(ramsey_angles)\n",
    "    dape_result = DAPE.launch()\n",
    "    dape_result.save()\n",
    "    clear_output()"
   ]
  },
  {
   "cell_type": "code",
   "execution_count": 98,
   "metadata": {},
   "outputs": [
    {
     "data": {
      "text/plain": [
       "(<matplotlib.figure.Figure at 0xbbba160>,\n",
       " array([<matplotlib.axes._subplots.AxesSubplot object at 0x000000000DF7E630>,\n",
       "        <matplotlib.axes._subplots.AxesSubplot object at 0x000000000E255DA0>,\n",
       "        <matplotlib.axes._subplots.AxesSubplot object at 0x000000000E144710>,\n",
       "        <matplotlib.axes._subplots.AxesSubplot object at 0x000000000DF34898>], dtype=object),\n",
       " (None, None))"
      ]
     },
     "execution_count": 98,
     "metadata": {},
     "output_type": "execute_result"
    }
   ],
   "source": [
    "dape_result.visualize()"
   ]
  },
  {
   "cell_type": "markdown",
   "metadata": {},
   "source": [
    "---------------------------"
   ]
  },
  {
   "cell_type": "code",
   "execution_count": 68,
   "metadata": {
    "collapsed": true
   },
   "outputs": [],
   "source": [
    "reload(lib2.IQPulseSequence)\n",
    "from lib2.IQPulseSequence import *"
   ]
  },
  {
   "cell_type": "code",
   "execution_count": 35,
   "metadata": {
    "collapsed": true
   },
   "outputs": [],
   "source": [
    "pb = PulseBuilder(q_cal)"
   ]
  },
  {
   "cell_type": "code",
   "execution_count": 53,
   "metadata": {
    "collapsed": true
   },
   "outputs": [],
   "source": [
    "APE_sequence_parameters[\"ramsey_angle\"]=0\n",
    "APE_sequence_parameters[\"pseudo_I_pulses_count\"] = 1\n",
    "APE_sequence_parameters[\"excitation_amplitude\"] = 1"
   ]
  },
  {
   "cell_type": "code",
   "execution_count": 54,
   "metadata": {},
   "outputs": [
    {
     "data": {
      "text/plain": [
       "{'awg_trigger_reaction_delay': 400,\n",
       " 'excitation_amplitude': 1,\n",
       " 'half_pi_pulse_duration': 50,\n",
       " 'modulating_window': 'gaussian',\n",
       " 'padding': 15,\n",
       " 'pseudo_I_pulses_count': 1,\n",
       " 'ramsey_angle': 0,\n",
       " 'readout_duration': 1000,\n",
       " 'repetition_period': 8000}"
      ]
     },
     "execution_count": 54,
     "metadata": {},
     "output_type": "execute_result"
    }
   ],
   "source": [
    "APE_sequence_parameters"
   ]
  },
  {
   "cell_type": "code",
   "execution_count": 58,
   "metadata": {},
   "outputs": [
    {
     "data": {
      "text/plain": [
       "(300, 600)"
      ]
     },
     "execution_count": 58,
     "metadata": {},
     "output_type": "execute_result"
    }
   ],
   "source": [
    "PulseBuilder.build_dispersive_APE_sequences(pb, ro_pb, APE_sequence_parameters)[0].plot()\n",
    "pb.add_zero_pulse(400).add_sine_pulse(65).add_sine_pulse(50).add_zero_pulse(15).build().plot()\n",
    "plt.xlim(300,600)"
   ]
  },
  {
   "cell_type": "code",
   "execution_count": 63,
   "metadata": {
    "collapsed": true
   },
   "outputs": [],
   "source": [
    "# pb.add_zero_pulse(10).add_sine_pulse(30).add_zero_pulse(10).build().plot()\n",
    "pb.add_zero_pulse(10).add_sine_pulse(50, window=(\"gaussian\", {\"amplitude\":10})).add_zero_pulse(10).build().plot()\n",
    "plt.grid()"
   ]
  },
  {
   "cell_type": "code",
   "execution_count": 56,
   "metadata": {
    "collapsed": true
   },
   "outputs": [],
   "source": [
    "rect = pb.add_zero_pulse(100).add_sine_pulse(300, amplitude=1).add_zero_pulse(1000).build()"
   ]
  },
  {
   "cell_type": "code",
   "execution_count": 57,
   "metadata": {
    "collapsed": true
   },
   "outputs": [],
   "source": [
    "gaus = pb.add_zero_pulse(100).add_sine_pulse(300, amplitude=1, window=\"gaussian\").add_zero_pulse(1000).build()"
   ]
  },
  {
   "cell_type": "code",
   "execution_count": 58,
   "metadata": {
    "collapsed": true
   },
   "outputs": [],
   "source": [
    "rect.plot()\n",
    "gaus.plot()"
   ]
  },
  {
   "cell_type": "code",
   "execution_count": 66,
   "metadata": {
    "collapsed": true
   },
   "outputs": [],
   "source": [
    "q_awg.output_pulse_sequence(gaus)"
   ]
  },
  {
   "cell_type": "code",
   "execution_count": 195,
   "metadata": {},
   "outputs": [
    {
     "data": {
      "text/plain": [
       "0.88249690258459546"
      ]
     },
     "execution_count": 195,
     "metadata": {},
     "output_type": "execute_result"
    }
   ],
   "source": [
    "exp(-1/8)"
   ]
  },
  {
   "cell_type": "code",
   "execution_count": 196,
   "metadata": {
    "collapsed": true
   },
   "outputs": [],
   "source": [
    "X = linspace(-1,1)"
   ]
  },
  {
   "cell_type": "code",
   "execution_count": 202,
   "metadata": {},
   "outputs": [
    {
     "data": {
      "text/plain": [
       "[<matplotlib.lines.Line2D at 0xda9ea20>]"
      ]
     },
     "execution_count": 202,
     "metadata": {},
     "output_type": "execute_result"
    }
   ],
   "source": [
    "plot(X, exp(-(3*X)**2/2**2))"
   ]
  },
  {
   "cell_type": "code",
   "execution_count": null,
   "metadata": {
    "collapsed": true
   },
   "outputs": [],
   "source": []
  }
 ],
 "metadata": {
  "kernelspec": {
   "display_name": "Python 3",
   "language": "python",
   "name": "python3"
  },
  "language_info": {
   "codemirror_mode": {
    "name": "ipython",
    "version": 3
   },
   "file_extension": ".py",
   "mimetype": "text/x-python",
   "name": "python",
   "nbconvert_exporter": "python",
   "pygments_lexer": "ipython3",
   "version": "3.6.1"
  }
 },
 "nbformat": 4,
 "nbformat_minor": 2
}
