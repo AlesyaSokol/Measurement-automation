{
 "cells": [
  {
   "cell_type": "code",
   "execution_count": 1,
   "metadata": {
    "collapsed": false,
    "scrolled": true
   },
   "outputs": [
    {
     "name": "stdout",
     "output_type": "stream",
     "text": [
      "Populating the interactive namespace from numpy and matplotlib\n"
     ]
    }
   ],
   "source": [
    "%pylab qt5"
   ]
  },
  {
   "cell_type": "code",
   "execution_count": 2,
   "metadata": {
    "collapsed": true
   },
   "outputs": [],
   "source": [
    "mpl.rcParams['grid.color'] = 'k'\n",
    "mpl.rcParams['grid.linestyle'] = ':'\n",
    "mpl.rcParams['grid.linewidth'] = 0.5"
   ]
  },
  {
   "cell_type": "code",
   "execution_count": 3,
   "metadata": {
    "collapsed": true
   },
   "outputs": [],
   "source": [
    "warnings.filterwarnings(\"ignore\",\".*GUI is implemented.*\")"
   ]
  },
  {
   "cell_type": "code",
   "execution_count": 4,
   "metadata": {
    "collapsed": true
   },
   "outputs": [],
   "source": [
    "from importlib import reload\n",
    "import lib2"
   ]
  },
  {
   "cell_type": "code",
   "execution_count": 5,
   "metadata": {
    "collapsed": true
   },
   "outputs": [],
   "source": [
    "from time import sleep"
   ]
  },
  {
   "cell_type": "code",
   "execution_count": 6,
   "metadata": {
    "collapsed": true
   },
   "outputs": [],
   "source": [
    "from lib import data_management as dm"
   ]
  },
  {
   "cell_type": "code",
   "execution_count": 7,
   "metadata": {
    "collapsed": true
   },
   "outputs": [],
   "source": [
    "import drivers"
   ]
  },
  {
   "cell_type": "code",
   "execution_count": 8,
   "metadata": {
    "collapsed": false
   },
   "outputs": [],
   "source": [
    "from lib2.IQPulseSequence import *"
   ]
  },
  {
   "cell_type": "code",
   "execution_count": 9,
   "metadata": {
    "collapsed": false
   },
   "outputs": [],
   "source": [
    "from drivers.KeysightAWG import *"
   ]
  },
  {
   "cell_type": "code",
   "execution_count": 10,
   "metadata": {
    "collapsed": false
   },
   "outputs": [],
   "source": [
    "if_freq = 50e6\n",
    "\n",
    "calibrations = (dm.load_IQMX_calibration_database(\"TEST\", -6))\n",
    "ro_cal = calibrations.get(frozenset(dict(lo_power=0, ssb_power=-30, lo_frequency=7.047e9, \n",
    "                                      if_frequency=0, waveform_resolution=1).items()))\n",
    "ro_pb = PulseBuilder(ro_cal)\n",
    "\n",
    "calibrations = (dm.load_IQMX_calibration_database(\"TESTQ\", -6))\n",
    "q_cal = calibrations.get(frozenset(dict(lo_power=15, ssb_power=-10, lo_frequency=7.9e9+if_freq, \n",
    "                                      if_frequency=if_freq, waveform_resolution=0.1).items()))\n",
    "q_pb = PulseBuilder(q_cal)"
   ]
  },
  {
   "cell_type": "code",
   "execution_count": 22,
   "metadata": {
    "collapsed": true
   },
   "outputs": [],
   "source": [
    "ro_awg = KeysightAWG(\"AWG3\")"
   ]
  },
  {
   "cell_type": "code",
   "execution_count": 17,
   "metadata": {
    "collapsed": false
   },
   "outputs": [],
   "source": [
    "q_awg = KeysightAWG(\"AWG2\")"
   ]
  },
  {
   "cell_type": "code",
   "execution_count": 85,
   "metadata": {
    "collapsed": true
   },
   "outputs": [],
   "source": [
    "from drivers.Keysight_DSOX2014 import *"
   ]
  },
  {
   "cell_type": "code",
   "execution_count": 86,
   "metadata": {
    "collapsed": false
   },
   "outputs": [],
   "source": [
    "dso = Keysight_DSOX2014(\"DSO2014\")"
   ]
  },
  {
   "cell_type": "markdown",
   "metadata": {},
   "source": [
    "# Spectroscopy"
   ]
  },
  {
   "cell_type": "markdown",
   "metadata": {},
   "source": [
    "## Single-tone spectroscopy"
   ]
  },
  {
   "cell_type": "code",
   "execution_count": 7,
   "metadata": {
    "collapsed": true
   },
   "outputs": [],
   "source": [
    "# reload(lib2.Measurement)"
   ]
  },
  {
   "cell_type": "code",
   "execution_count": 10,
   "metadata": {
    "collapsed": false
   },
   "outputs": [],
   "source": [
    "# reload(lib2.SingleToneSpectroscopy)\n",
    "from lib2.SingleToneSpectroscopy import *"
   ]
  },
  {
   "cell_type": "code",
   "execution_count": 97,
   "metadata": {
    "collapsed": true
   },
   "outputs": [],
   "source": [
    "ro_awg.output_pulse_sequence(ro_pb.add_dc_pulse(100, 5).build())"
   ]
  },
  {
   "cell_type": "code",
   "execution_count": 66,
   "metadata": {
    "collapsed": false
   },
   "outputs": [
    {
     "name": "stdout",
     "output_type": "stream",
     "text": [
      "vna2 is already initialized\n",
      "yok3 is already initialized\n",
      "Started at:  2017-05-10 19:40:54.585609\n"
     ]
    },
    {
     "name": "stderr",
     "output_type": "stream",
     "text": [
      "C:\\ProgramData\\Anaconda3\\lib\\site-packages\\matplotlib\\backend_bases.py:2445: MatplotlibDeprecationWarning: Using default event loop until function specific to this GUI is implemented\n",
      "  warnings.warn(str, mplDeprecation)\n"
     ]
    },
    {
     "name": "stdout",
     "output_type": "stream",
     "text": [
      "Time left: 0 h 0 m 0.0 s, current: 7.50e-04]: , average cycle time: 0.47 s          "
     ]
    }
   ],
   "source": [
    "STS = SingleToneSpectroscopy(\"VI-anticrossing\", \"Xmon Al BMSTU S444 2\", vna = 'vna2', src = 'yok3')\n",
    "vna_parameters = {\"bandwidth\":500, \"freq_limits\":(7.04e9, 7.06e9), \"nop\":201, \"power\":-20, \"averages\":1}\n",
    "STS.set_fixed_parameters(vna_parameters)\n",
    "currents = linspace(-0.9e-3, 0.75e-3, 100)\n",
    "STS._src.set_current(currents[0])\n",
    "sleep(1)\n",
    "STS.set_swept_parameters({'current': (STS._src.set_current, currents)})\n",
    "result = STS.launch()\n",
    "STS._src.set_current(0);"
   ]
  },
  {
   "cell_type": "code",
   "execution_count": 65,
   "metadata": {
    "collapsed": true
   },
   "outputs": [],
   "source": [
    "result.visualize()"
   ]
  },
  {
   "cell_type": "code",
   "execution_count": 44,
   "metadata": {
    "collapsed": true
   },
   "outputs": [],
   "source": [
    "result.save()"
   ]
  },
  {
   "cell_type": "markdown",
   "metadata": {},
   "source": [
    "## Two-tone spectroscopy"
   ]
  },
  {
   "cell_type": "code",
   "execution_count": 100,
   "metadata": {
    "collapsed": true
   },
   "outputs": [],
   "source": [
    "# reload(lib2.Measurement)\n",
    "reload(lib2.TwoToneSpectroscopyBase)\n",
    "reload(lib2.TwoToneSpectroscopy)\n",
    "from lib2.TwoToneSpectroscopy import *"
   ]
  },
  {
   "cell_type": "code",
   "execution_count": 98,
   "metadata": {
    "collapsed": false
   },
   "outputs": [],
   "source": [
    "q_awg.output_pulse_sequence(q_pb.add_dc_pulse(100,5).build())"
   ]
  },
  {
   "cell_type": "markdown",
   "metadata": {},
   "source": [
    "#### Qubit spectrum"
   ]
  },
  {
   "cell_type": "code",
   "execution_count": 14,
   "metadata": {
    "collapsed": false
   },
   "outputs": [
    {
     "data": {
      "text/plain": [
       "dict_keys(['vna3', 'yok4'])"
      ]
     },
     "execution_count": 14,
     "metadata": {},
     "output_type": "execute_result"
    }
   ],
   "source": [
    "Measurement._actual_devices.keys()"
   ]
  },
  {
   "cell_type": "code",
   "execution_count": 101,
   "metadata": {
    "collapsed": false
   },
   "outputs": [
    {
     "name": "stdout",
     "output_type": "stream",
     "text": [
      "vna2 is already initialized\n",
      "mxg is already initialized\n",
      "yok3 is already initialized\n",
      "Detecting a resonator within provided frequency range of the VNA (7040000000.0, 7060000000.0)                    at qubit's sweet spot (-0.12 mA)\n",
      "Detected frequency is 7.04724 GHz, at 0.67 mU and 4.87 degrees\n"
     ]
    }
   ],
   "source": [
    "TTS = FluxTwoToneSpectroscopy(\"VI-two-tone\", \"Xmon Al BMSTU S444 2\", vna_name=\"vna2\", \n",
    "                              mw_src_name=\"mxg\", current_src_name=\"yok3\")\n",
    "vna_parameters = {\"bandwidth\":50, \"freq_limits\":(7.04e9, 7.06e9), \"nop\":1, \"power\":-20, \"averages\":1}\n",
    "mw_src_parameters = {\"power\":-20}\n",
    "mw_src_frequencies = linspace(7.88e9, 7.91e9, 50)\n",
    "currents = linspace(-0.3e-3, 0.05e-3, 50)\n",
    "TTS.setup_control_parameters(vna_parameters, mw_src_parameters, mw_src_frequencies, currents)"
   ]
  },
  {
   "cell_type": "code",
   "execution_count": 102,
   "metadata": {
    "collapsed": false,
    "scrolled": true
   },
   "outputs": [
    {
     "name": "stdout",
     "output_type": "stream",
     "text": [
      "Started at:  2017-05-19 11:34:08.852049\n",
      "Time left: 0 h 1 m 1.02 s, parameter value: -7.857e-05, average cycle time: 0.07 s           "
     ]
    }
   ],
   "source": [
    "result = TTS.launch()"
   ]
  },
  {
   "cell_type": "code",
   "execution_count": 104,
   "metadata": {
    "collapsed": false
   },
   "outputs": [],
   "source": [
    "result.visualize();"
   ]
  },
  {
   "cell_type": "code",
   "execution_count": 28,
   "metadata": {
    "collapsed": true
   },
   "outputs": [],
   "source": [
    "result.save()"
   ]
  },
  {
   "cell_type": "code",
   "execution_count": 20,
   "metadata": {
    "collapsed": true
   },
   "outputs": [],
   "source": [
    "result._name = \"5.5GHz-two-tone-w-loop_-0.5mA-and-coil\""
   ]
  },
  {
   "cell_type": "code",
   "execution_count": 46,
   "metadata": {
    "collapsed": true
   },
   "outputs": [],
   "source": [
    "TTS._mw_src.set_output_state(\"OFF\")"
   ]
  },
  {
   "cell_type": "markdown",
   "metadata": {},
   "source": [
    "#### Linewidth from excitation power"
   ]
  },
  {
   "cell_type": "code",
   "execution_count": 185,
   "metadata": {
    "collapsed": false
   },
   "outputs": [],
   "source": [
    "ro_awg.output_pulse_sequence(ro_pb.add_dc_pulse(100).build())\n",
    "q_awg.output_pulse_sequence(q_pb.add_dc_pulse(100, 5).build())"
   ]
  },
  {
   "cell_type": "code",
   "execution_count": 183,
   "metadata": {
    "collapsed": false
   },
   "outputs": [
    {
     "name": "stdout",
     "output_type": "stream",
     "text": [
      "vna2 is already initialized\n",
      "mxg is already initialized\n",
      "yok3 is already initialized\n",
      "Detecting a resonator within provided frequency range of the VNA (7040000000.0, 7052500000.0)                    at current of -0.11 mA\n",
      "Detected frequency is 7.04716 GHz, at 0.10 mU and 33.83 degrees\n"
     ]
    }
   ],
   "source": [
    "PTS = PowerTwoToneSpectroscopy(\"VI-powerscan\", \"Xmon Al BMSTU S444 2\")\n",
    "vna_parameters = {\"bandwidth\":10, \"freq_limits\":(7040e6, 7052.5e6), \"nop\":1, \"power\":0, \"averages\":1}\n",
    "mw_src_parameters = {}\n",
    "mw_src_frequencies = linspace(7.88e9, 7.92e9,200)\n",
    "mw_src_powers = linspace(-20, 15, 21)\n",
    "current = -0.11e-3\n",
    "PTS.setup_control_parameters(vna_parameters, mw_src_parameters, mw_src_frequencies, mw_src_powers, current)\n",
    "PTS._measurement_result.set_phase_units(\"deg\")"
   ]
  },
  {
   "cell_type": "code",
   "execution_count": 187,
   "metadata": {
    "collapsed": false
   },
   "outputs": [
    {
     "name": "stdout",
     "output_type": "stream",
     "text": [
      "Started at:  2017-05-10 21:15:08.685005\n",
      "Time left: 0 h 10 m 10.55 s, parameter value: -2.000e+01, average cycle time: 0.15 s          "
     ]
    },
    {
     "name": "stderr",
     "output_type": "stream",
     "text": [
      "C:\\ProgramData\\Anaconda3\\lib\\site-packages\\matplotlib\\backend_bases.py:2445: MatplotlibDeprecationWarning: Using default event loop until function specific to this GUI is implemented\n",
      "  warnings.warn(str, mplDeprecation)\n"
     ]
    },
    {
     "name": "stdout",
     "output_type": "stream",
     "text": [
      "Time left: 0 h 9 m 25.8 s, parameter value: -2.000e+01, average cycle time: 0.14 s           "
     ]
    }
   ],
   "source": [
    "result = PTS.launch()"
   ]
  },
  {
   "cell_type": "code",
   "execution_count": null,
   "metadata": {
    "collapsed": true
   },
   "outputs": [],
   "source": [
    "vna.set_parameters(PTS._pre_measurement_vna_parameters)"
   ]
  },
  {
   "cell_type": "code",
   "execution_count": 106,
   "metadata": {
    "collapsed": true
   },
   "outputs": [],
   "source": [
    "result.visualize()"
   ]
  },
  {
   "cell_type": "code",
   "execution_count": 103,
   "metadata": {
    "collapsed": true
   },
   "outputs": [],
   "source": [
    "result.save()"
   ]
  },
  {
   "cell_type": "code",
   "execution_count": null,
   "metadata": {
    "collapsed": true
   },
   "outputs": [],
   "source": [
    "mxg.set_frequency(7.898e9)\n",
    "mxg.set_power(-30)\n",
    "mxg.set_output_state(\"OFF\")\n",
    "vna.prepare_for_stb(); vna.sweep_single(); vna.wait_for_stb()\n",
    "ground_state_sdata = vna.get_sdata()\n",
    "\n",
    "mxg.set_output_state(\"ON\")\n",
    "vna.prepare_for_stb(); vna.sweep_single(); vna.wait_for_stb()\n",
    "mixed_state_sdata = vna.get_sdata()"
   ]
  },
  {
   "cell_type": "code",
   "execution_count": null,
   "metadata": {
    "collapsed": true
   },
   "outputs": [],
   "source": [
    "plot(abs(ground_state_sdata))\n",
    "plot(abs(mixed_state_sdata))\n",
    "plot((abs(ground_state_sdata)[10:]+abs(ground_state_sdata)[:-10])/2)"
   ]
  },
  {
   "cell_type": "markdown",
   "metadata": {},
   "source": [
    "#### AC Stark"
   ]
  },
  {
   "cell_type": "code",
   "execution_count": 206,
   "metadata": {
    "collapsed": true
   },
   "outputs": [],
   "source": [
    "ro_awg.output_pulse_sequence(ro_pb.add_dc_pulse(100).build())\n",
    "q_awg.output_pulse_sequence(q_pb.add_dc_pulse(100, 5).build())"
   ]
  },
  {
   "cell_type": "code",
   "execution_count": 208,
   "metadata": {
    "collapsed": false
   },
   "outputs": [
    {
     "name": "stdout",
     "output_type": "stream",
     "text": [
      "vna2 is already initialized\n",
      "mxg is already initialized\n",
      "yok3 is already initialized\n",
      "Detecting a resonator within provided frequency range of the VNA (7040000000.0, 7052500000.0)                    at current of -0.11 mA\n",
      "Detected frequency is 7.04716 GHz, at 0.25 mU and 33.57 degrees\n"
     ]
    }
   ],
   "source": [
    "ASTS = AcStarkTwoToneSpectroscopy(\"VI-ac-stark\", \"Xmon Al BMSTU S444 2\")\n",
    "vna_parameters = {\"bandwidth\":1000, \"freq_limits\":(7040e6, 7052.5e6), \"nop\":1, \"power\":-10, \"averages\":100}\n",
    "mw_src_parameters = {\"power\":-15, \"frequency\":-1}\n",
    "mw_src_frequencies = linspace(7.85e9, 7.9e9, 100)\n",
    "vna_powers = linspace(-30, 0, 31)\n",
    "current = -0.11e-3\n",
    "ASTS.setup_control_parameters(vna_parameters, mw_src_parameters, mw_src_frequencies, vna_powers, current)"
   ]
  },
  {
   "cell_type": "code",
   "execution_count": 21,
   "metadata": {
    "collapsed": false
   },
   "outputs": [
    {
     "name": "stdout",
     "output_type": "stream",
     "text": [
      "Started at:  2017-04-25 22:15:13.034443\n",
      "Time left: 0 h 27 m 19.46 s, parameter value: -3.000e+01, average cycle time: 0.53 s          "
     ]
    },
    {
     "name": "stderr",
     "output_type": "stream",
     "text": [
      "C:\\ProgramData\\Anaconda3\\lib\\site-packages\\matplotlib\\backend_bases.py:2445: MatplotlibDeprecationWarning: Using default event loop until function specific to this GUI is implemented\n",
      "  warnings.warn(str, mplDeprecation)\n"
     ]
    },
    {
     "name": "stdout",
     "output_type": "stream",
     "text": [
      "Time left: 0 h 0 m 0.0 s, parameter value: 0.000e+00, average cycle time: 0.16 s              "
     ]
    }
   ],
   "source": [
    "result = ASTS.launch()"
   ]
  },
  {
   "cell_type": "code",
   "execution_count": 112,
   "metadata": {
    "collapsed": true
   },
   "outputs": [],
   "source": [
    "result.visualize()"
   ]
  },
  {
   "cell_type": "code",
   "execution_count": 12,
   "metadata": {
    "collapsed": true
   },
   "outputs": [],
   "source": [
    "result.save()"
   ]
  },
  {
   "cell_type": "code",
   "execution_count": 88,
   "metadata": {
    "collapsed": false
   },
   "outputs": [],
   "source": [
    "TTS.close_devs(\"mxg\")"
   ]
  },
  {
   "cell_type": "markdown",
   "metadata": {},
   "source": [
    "__________________________"
   ]
  },
  {
   "cell_type": "markdown",
   "metadata": {},
   "source": [
    "# Time-domain measurements"
   ]
  },
  {
   "cell_type": "markdown",
   "metadata": {},
   "source": [
    "#### Check mixers:"
   ]
  },
  {
   "cell_type": "code",
   "execution_count": 44,
   "metadata": {
    "collapsed": false
   },
   "outputs": [],
   "source": [
    "q_lo = TTS._mw_src\n",
    "q_lo.set_output_state(\"ON\")\n",
    "q_lo.set_frequency(7.94e9)\n",
    "q_lo.set_power(15)"
   ]
  },
  {
   "cell_type": "code",
   "execution_count": 56,
   "metadata": {
    "collapsed": true
   },
   "outputs": [],
   "source": [
    "q_lo.visa_instr.close()"
   ]
  },
  {
   "cell_type": "code",
   "execution_count": 49,
   "metadata": {
    "collapsed": false
   },
   "outputs": [],
   "source": [
    "TTS._vna.set_nop(1)\n",
    "TTS._vna.set_power(0)\n",
    "TTS._vna.set_center(7.04720e9)\n",
    "TTS._vna.sweep_continuous()"
   ]
  },
  {
   "cell_type": "code",
   "execution_count": 60,
   "metadata": {
    "collapsed": true
   },
   "outputs": [],
   "source": [
    "q_awg.output_pulse_sequence(q_pb.add_zero_pulse(20).build())\n",
    "ro_awg.output_pulse_sequence(ro_pb.add_zero_pulse(20).build())"
   ]
  },
  {
   "cell_type": "code",
   "execution_count": 61,
   "metadata": {
    "collapsed": true
   },
   "outputs": [],
   "source": [
    "q_awg.output_pulse_sequence(q_pb.add_sine_pulse(20,0).build())\n",
    "ro_awg.output_pulse_sequence(ro_pb.add_dc_pulse(20).build())"
   ]
  },
  {
   "cell_type": "code",
   "execution_count": 52,
   "metadata": {
    "collapsed": false,
    "scrolled": true
   },
   "outputs": [
    {
     "name": "stdout",
     "output_type": "stream",
     "text": [
      "Calibration data for mixer TEST\n",
      "Mixer parameters: {'mixer_id': 'TEST', 'iq_attenuation': -6}\n",
      "Radiation parameters: {'lo_frequency': 7047000000.0, 'lo_power': 0, 'if_frequency': 0, 'ssb_power': -30, 'waveform_resolution': 1}\n",
      "Optimization results: {'dc': -91.583229064941406, 'dc_open': [-29.993877410888672]}\n",
      "Optimization parameters {'dc_offsets': array([ 0.00531541, -0.06928231]), 'dc_offsets_open': array([ 0.33584961,  0.33543945]), 'if_offsets': None, 'if_amplitudes': None, 'if_phase': None}\n",
      "Optimization time: 0 h 0 m 17.55 s\n",
      "Finished at: 2017-05-19 10:45:38.947612\n"
     ]
    }
   ],
   "source": [
    "print(ro_cal)"
   ]
  },
  {
   "cell_type": "markdown",
   "metadata": {},
   "source": [
    "### Set qubit frequency"
   ]
  },
  {
   "cell_type": "code",
   "execution_count": 105,
   "metadata": {
    "collapsed": false
   },
   "outputs": [
    {
     "data": {
      "text/plain": [
       "True"
      ]
     },
     "execution_count": 105,
     "metadata": {},
     "output_type": "execute_result"
    }
   ],
   "source": [
    "TTS._current_src.set_current(-0.111e-3)"
   ]
  },
  {
   "cell_type": "markdown",
   "metadata": {},
   "source": [
    "### Rabi "
   ]
  },
  {
   "cell_type": "code",
   "execution_count": 11,
   "metadata": {
    "collapsed": false
   },
   "outputs": [],
   "source": [
    "# reload(lib2.VNATimeResolvedDispersiveMeasurement)\n",
    "# reload(lib2.VNATimeResolvedDispersiveMeasurement1D)\n",
    "# reload(lib2.DispersiveRabiOscillations)\n",
    "from lib2.DispersiveRabiOscillations import DispersiveRabiOscillations"
   ]
  },
  {
   "cell_type": "code",
   "execution_count": 12,
   "metadata": {
    "collapsed": false
   },
   "outputs": [
    {
     "name": "stdout",
     "output_type": "stream",
     "text": [
      "The device vna2 is detected as PNA-L2\n",
      "The device awg3 is detected as AWG3\n",
      "The device awg2 is detected as AWG2\n",
      "The device mxg is detected as MXG\n",
      "Detecting a resonator within provided frequency range of the VNA (7040000000.0, 7052500000.0)                    \n",
      "Detected frequency is 7.04710 GHz, at 0.03 mU and 21.46 degrees\n"
     ]
    }
   ],
   "source": [
    "DRO = DispersiveRabiOscillations(\"VI-rabi\", \"Xmon Al BMSTU S444 2\",\n",
    "            vna_name=\"vna2\", ro_awg_name=\"awg3\", q_awg_name=\"awg2\", q_lo_name='mxg', )\n",
    "vna_parameters = {\"bandwidth\":10, \"freq_limits\":(7040e6, 7052.5e6), \"nop\":10, \"averages\":2}\n",
    "exc_frequency = 7.89919e9\n",
    "excitation_durations = linspace(1, 350, 38)\n",
    "rabi_sequence_parameters = {\"awg_trigger_reaction_delay\":400, \"readout_duration\":1000, \"repetition_period\":8000}\n",
    "ro_awg_params =  {\"calibration\":ro_cal}\n",
    "q_awg_params = {\"calibration\":q_cal}\n",
    "DRO.set_fixed_parameters(vna_parameters, ro_awg_params, q_awg_params, exc_frequency, rabi_sequence_parameters)\n",
    "DRO.set_swept_parameters(excitation_durations)"
   ]
  },
  {
   "cell_type": "code",
   "execution_count": 13,
   "metadata": {
    "collapsed": false
   },
   "outputs": [
    {
     "name": "stdout",
     "output_type": "stream",
     "text": [
      "Started at:  2017-05-19 14:06:30.282909\n",
      "Time left: 0 h 1 m 37.95 s, [excitation_duration: 3.87e+01]: , average cycle time: 2.97 s       "
     ]
    },
    {
     "name": "stderr",
     "output_type": "stream",
     "text": [
      "C:\\ProgramData\\Anaconda3\\lib\\site-packages\\scipy\\optimize\\minpack.py:779: OptimizeWarning: Covariance of the parameters could not be estimated\n",
      "  category=OptimizeWarning)\n"
     ]
    },
    {
     "name": "stdout",
     "output_type": "stream",
     "text": [
      "Time left: 0 h 0 m 0.0 s, [excitation_duration: 3.50e+02]: , average cycle time: 2.98 s         "
     ]
    }
   ],
   "source": [
    "result = DRO.launch()"
   ]
  },
  {
   "cell_type": "code",
   "execution_count": 110,
   "metadata": {
    "collapsed": false
   },
   "outputs": [],
   "source": [
    "result.visualize();"
   ]
  },
  {
   "cell_type": "code",
   "execution_count": 107,
   "metadata": {
    "collapsed": false
   },
   "outputs": [],
   "source": [
    "result.save()"
   ]
  },
  {
   "cell_type": "code",
   "execution_count": 43,
   "metadata": {
    "collapsed": false
   },
   "outputs": [],
   "source": [
    "from lib2.MeasurementResult import *\n",
    "result = MeasurementResult.load(\"Xmon Al BMSTU S444 2\",\"VI-ramsey\")"
   ]
  },
  {
   "cell_type": "code",
   "execution_count": 44,
   "metadata": {
    "collapsed": false
   },
   "outputs": [
    {
     "data": {
      "text/plain": [
       "(<matplotlib.figure.Figure at 0x9dfea58>,\n",
       " array([<matplotlib.axes._subplots.AxesSubplot object at 0x000000001180D9B0>,\n",
       "        <matplotlib.axes._subplots.AxesSubplot object at 0x000000000A0820F0>,\n",
       "        <matplotlib.axes._subplots.AxesSubplot object at 0x000000001019CEB8>,\n",
       "        <matplotlib.axes._subplots.AxesSubplot object at 0x0000000009D7C4A8>], dtype=object),\n",
       " (None, None))"
      ]
     },
     "execution_count": 44,
     "metadata": {},
     "output_type": "execute_result"
    }
   ],
   "source": [
    "result.visualize()"
   ]
  },
  {
   "cell_type": "code",
   "execution_count": 15,
   "metadata": {
    "collapsed": false
   },
   "outputs": [
    {
     "data": {
      "text/plain": [
       "68.414655278229148"
      ]
     },
     "execution_count": 15,
     "metadata": {},
     "output_type": "execute_result"
    }
   ],
   "source": [
    "pi_pulse_duration = result.get_pi_pulse_duration()*1e3\n",
    "pi_pulse_duration"
   ]
  },
  {
   "cell_type": "code",
   "execution_count": 16,
   "metadata": {
    "collapsed": true
   },
   "outputs": [],
   "source": [
    "pi_pulse_duration = 68.414655278229148"
   ]
  },
  {
   "cell_type": "markdown",
   "metadata": {},
   "source": [
    "### Decay"
   ]
  },
  {
   "cell_type": "code",
   "execution_count": 17,
   "metadata": {
    "collapsed": true
   },
   "outputs": [],
   "source": [
    "# reload(lib2.VNATimeResolvedMeasurement)\n",
    "# reload(lib2.DispersiveDecay)\n",
    "from lib2.DispersiveDecay import *"
   ]
  },
  {
   "cell_type": "code",
   "execution_count": 31,
   "metadata": {
    "collapsed": false
   },
   "outputs": [
    {
     "name": "stdout",
     "output_type": "stream",
     "text": [
      "vna2 is already initialized\n",
      "awg3 is already initialized\n",
      "awg2 is already initialized\n",
      "mxg is already initialized\n",
      "Detecting a resonator within provided frequency range of the VNA (7040000000.0, 7052500000.0)                    \n",
      "Detected frequency is 7.04710 GHz, at 0.04 mU and 9.98 degrees\n"
     ]
    }
   ],
   "source": [
    "DD = DispersiveDecay(\"VI-decay\", \"Xmon Al BMSTU S444 2\",\n",
    "            vna_name=\"vna2\", ro_awg_name=\"awg3\", q_awg_name=\"awg2\", q_lo_name='mxg', )\n",
    "vna_parameters = {\"bandwidth\":10, \"freq_limits\":(7040e6, 7052.5e6), \"nop\":10, \"averages\":2}\n",
    "q_frequency = 7.89939e9\n",
    "readout_delays = linspace(0, 3000, 100)\n",
    "rabi_sequence_parameters = {\"awg_trigger_reaction_delay\":400, \"readout_duration\":1000, \n",
    "                            \"repetition_period\":8000, \"pi_pulse_duration\":pi_pulse_duration}\n",
    "ro_awg_params =  {\"calibration\":ro_cal}\n",
    "q_awg_params = {\"calibration\":q_cal}\n",
    "DD.set_fixed_parameters(vna_parameters, ro_awg_params, q_awg_params, q_frequency, rabi_sequence_parameters)\n",
    "DD.set_swept_parameters(readout_delays)"
   ]
  },
  {
   "cell_type": "code",
   "execution_count": 32,
   "metadata": {
    "collapsed": false
   },
   "outputs": [
    {
     "name": "stdout",
     "output_type": "stream",
     "text": [
      "Started at:  2017-05-14 12:53:53.472372\n",
      "Time left: 0 h 3 m 43.43 s, [readout_delay: 7.27e+02]: , average cycle time: 2.98 s       "
     ]
    }
   ],
   "source": [
    "dd_result = DD.launch()"
   ]
  },
  {
   "cell_type": "code",
   "execution_count": 115,
   "metadata": {
    "collapsed": true
   },
   "outputs": [
    {
     "data": {
      "text/plain": [
       "(<matplotlib.figure.Figure at 0x14fafe48>,\n",
       " array([<matplotlib.axes._subplots.AxesSubplot object at 0x000000001524CCF8>,\n",
       "        <matplotlib.axes._subplots.AxesSubplot object at 0x0000000016174908>,\n",
       "        <matplotlib.axes._subplots.AxesSubplot object at 0x0000000015457828>,\n",
       "        <matplotlib.axes._subplots.AxesSubplot object at 0x0000000015EC2630>], dtype=object),\n",
       " (None, None))"
      ]
     },
     "execution_count": 115,
     "metadata": {},
     "output_type": "execute_result"
    }
   ],
   "source": [
    "dd_result.visualize();"
   ]
  },
  {
   "cell_type": "code",
   "execution_count": 116,
   "metadata": {
    "collapsed": false
   },
   "outputs": [],
   "source": [
    "dd_result.save()"
   ]
  },
  {
   "cell_type": "markdown",
   "metadata": {
    "collapsed": true
   },
   "source": [
    "### Ramsey"
   ]
  },
  {
   "cell_type": "code",
   "execution_count": 18,
   "metadata": {
    "collapsed": false
   },
   "outputs": [],
   "source": [
    "# reload(lib2.IQPulseSequence)\n",
    "# reload(lib2.VNATimeResolvedDispersiveMeasurement)\n",
    "# reload(lib2.VNATimeResolvedDispersiveMeasurement1D)\n",
    "# reload(lib2.DispersiveRamsey)\n",
    "from lib2.DispersiveRamsey import *"
   ]
  },
  {
   "cell_type": "code",
   "execution_count": 19,
   "metadata": {
    "collapsed": false
   },
   "outputs": [
    {
     "name": "stdout",
     "output_type": "stream",
     "text": [
      "vna2 is already initialized\n",
      "awg3 is already initialized\n",
      "awg2 is already initialized\n",
      "mxg is already initialized\n",
      "Detecting a resonator within provided frequency range of the VNA (7040000000.0, 7052500000.0)                    \n",
      "Detected frequency is 7.04710 GHz, at 0.03 mU and 24.02 degrees\n"
     ]
    }
   ],
   "source": [
    "DR = DispersiveRamsey(\"VI-ramsey\", \"Xmon Al BMSTU S444 2\", vna_name=\"vna2\", ro_awg_name=\"awg3\", \n",
    "                                                                                  q_awg_name=\"awg2\", q_lo_name='mxg')\n",
    "vna_parameters = {\"bandwidth\":10, \"freq_limits\":(7040e6, 7052.5e6), \"nop\":10, \"averages\":2}\n",
    "ramsey_delays = linspace(0, 2000, 100)\n",
    "rabi_sequence_parameters = {\"awg_trigger_reaction_delay\":400, \"readout_duration\":1000, \n",
    "                            \"repetition_period\":8000, \"half_pi_pulse_duration\":pi_pulse_duration/2}\n",
    "ro_awg_params =  {\"calibration\":ro_cal}\n",
    "q_awg_params = {\"calibration\":q_cal}\n",
    "DR.set_fixed_parameters(vna_parameters, ro_awg_params, q_awg_params, exc_frequency-5e6, rabi_sequence_parameters)\n",
    "DR.set_swept_parameters(ramsey_delays)"
   ]
  },
  {
   "cell_type": "code",
   "execution_count": 20,
   "metadata": {
    "collapsed": false
   },
   "outputs": [
    {
     "name": "stdout",
     "output_type": "stream",
     "text": [
      "Started at:  2017-05-19 14:08:50.986957\n",
      "Time left: 0 h 4 m 43.63 s, [ramsey_delay: 8.08e+01]: , average cycle time: 2.99 s       "
     ]
    },
    {
     "name": "stderr",
     "output_type": "stream",
     "text": [
      "C:\\ProgramData\\Anaconda3\\lib\\site-packages\\scipy\\optimize\\minpack.py:779: OptimizeWarning: Covariance of the parameters could not be estimated\n",
      "  category=OptimizeWarning)\n"
     ]
    },
    {
     "name": "stdout",
     "output_type": "stream",
     "text": [
      "Time left: 0 h 0 m 0.0 s, [ramsey_delay: 2.00e+03]: , average cycle time: 2.99 s         "
     ]
    }
   ],
   "source": [
    "dr_result = DR.launch()"
   ]
  },
  {
   "cell_type": "code",
   "execution_count": 21,
   "metadata": {
    "collapsed": false
   },
   "outputs": [],
   "source": [
    "dr_result.visualize();"
   ]
  },
  {
   "cell_type": "code",
   "execution_count": 22,
   "metadata": {
    "collapsed": true
   },
   "outputs": [],
   "source": [
    "dr_result.save()"
   ]
  },
  {
   "cell_type": "markdown",
   "metadata": {},
   "source": [
    "### Echo"
   ]
  },
  {
   "cell_type": "code",
   "execution_count": 145,
   "metadata": {
    "collapsed": false
   },
   "outputs": [],
   "source": [
    "# reload(lib2.VNATimeResolvedMeasurement)\n",
    "# from lib2.VNATimeResolvedMeasurement import *\n",
    "reload(lib2.DispersiveHahnEcho)\n",
    "from lib2.DispersiveHahnEcho import *"
   ]
  },
  {
   "cell_type": "code",
   "execution_count": 149,
   "metadata": {
    "collapsed": false
   },
   "outputs": [
    {
     "name": "stdout",
     "output_type": "stream",
     "text": [
      "vna2 is already initialized\n",
      "awg3 is already initialized\n",
      "awg2 is already initialized\n",
      "mxg is already initialized\n",
      "yok3 is already initialized\n",
      "Detecting a resonator within provided frequency range of the VNA (7040000000.0, 7052500000.0)                    at current of -0.11 mA\n",
      "Detected frequency is 7.04710 GHz, at 0.04 mU and 15.04 degrees\n"
     ]
    }
   ],
   "source": [
    "DHN = DispersiveHahnEcho(\"VI-hahn-echo\", \"Xmon Al BMSTU S444 2\",\n",
    "            vna_name=\"vna2\", ro_awg_name=\"awg3\", q_awg_name=\"awg2\", q_lo_name='mxg', current_src_name='yok3')\n",
    "vna_parameters = {\"bandwidth\":10, \"freq_limits\":(7040e6, 7052.5e6), \"nop\":50, \"averages\":2}\n",
    "current = -0.11e-3\n",
    "q_frequency = 7.89939e9\n",
    "echo_delays = linspace(10, 7000, 100)\n",
    "rabi_sequence_parameters = {\"awg_trigger_reaction_delay\":400, \"readout_duration\":1000, \n",
    "                            \"repetition_period\":10000, \"half_pi_pulse_duration\":pi_pulse_duration/2}\n",
    "DHN.set_fixed_parameters(vna_parameters, ro_cal, q_cal, q_frequency, current, rabi_sequence_parameters)\n",
    "DHN.set_swept_parameters(echo_delays)"
   ]
  },
  {
   "cell_type": "code",
   "execution_count": 150,
   "metadata": {
    "collapsed": false
   },
   "outputs": [
    {
     "name": "stdout",
     "output_type": "stream",
     "text": [
      "Started at:  2017-05-12 20:43:45.974751\n",
      "Time left: 0 h 0 m 0.0 s, [echo_delay: 7.00e+03]: , average cycle time: 10.3 s           "
     ]
    }
   ],
   "source": [
    "dhn_result = DHN.launch()"
   ]
  },
  {
   "cell_type": "code",
   "execution_count": 148,
   "metadata": {
    "collapsed": false
   },
   "outputs": [],
   "source": [
    "dhn_result.visualize();"
   ]
  },
  {
   "cell_type": "code",
   "execution_count": 151,
   "metadata": {
    "collapsed": true
   },
   "outputs": [],
   "source": [
    "dhn_result.save()"
   ]
  },
  {
   "cell_type": "code",
   "execution_count": 32,
   "metadata": {
    "collapsed": true
   },
   "outputs": [
    {
     "data": {
      "text/plain": [
       "(<matplotlib.figure.Figure at 0xd808da0>,\n",
       " array([<matplotlib.axes._subplots.AxesSubplot object at 0x000000000B1F7320>,\n",
       "        <matplotlib.axes._subplots.AxesSubplot object at 0x000000000AF5B198>,\n",
       "        <matplotlib.axes._subplots.AxesSubplot object at 0x000000000B7477F0>,\n",
       "        <matplotlib.axes._subplots.AxesSubplot object at 0x0000000011049AC8>], dtype=object),\n",
       " (None, None))"
      ]
     },
     "execution_count": 32,
     "metadata": {},
     "output_type": "execute_result"
    }
   ],
   "source": [
    "MeasurementResult.load(\"Xmon Al BMSTU S444 2\", \"VI-hahn-echo\").visualize()"
   ]
  },
  {
   "cell_type": "markdown",
   "metadata": {},
   "source": [
    "### Ramsey fringes"
   ]
  },
  {
   "cell_type": "code",
   "execution_count": 69,
   "metadata": {
    "collapsed": false
   },
   "outputs": [],
   "source": [
    "# reload(lib2.Measurement)\n",
    "# reload(drivers.KeysightAWG)\n",
    "# reload(lib2.VNATimeResolvedDispersiveMeasurement1D)\n",
    "reload(lib2.DispersiveRamseyFringes)\n",
    "from lib2.DispersiveRamseyFringes import *"
   ]
  },
  {
   "cell_type": "code",
   "execution_count": 65,
   "metadata": {
    "collapsed": false
   },
   "outputs": [
    {
     "name": "stdout",
     "output_type": "stream",
     "text": [
      "vna2 is already initialized\n",
      "awg3 is already initialized\n",
      "awg2 is already initialized\n",
      "mxg is already initialized\n",
      "Detecting a resonator within provided frequency range of the VNA (7040000000.0, 7052500000.0)                    \n",
      "Detected frequency is 7.04710 GHz, at 0.03 mU and 7.84 degrees\n"
     ]
    }
   ],
   "source": [
    "DRF = DispersiveRamseyFringes(\"VI-ramsey-fringes\", \"Xmon Al BMSTU S444 2\",\n",
    "                                      vna_name=\"vna2\", ro_awg_name=\"awg3\", q_awg_name=\"awg2\", q_lo_name='mxg')\n",
    "vna_parameters = {\"bandwidth\":10, \"freq_limits\":(7040e6, 7052.5e6), \"nop\":1, \"averages\":2}\n",
    "q_frequency = 7.89939e9\n",
    "excitation_freqs = linspace(q_frequency-10e6, q_frequency+10e6, 200)\n",
    "ramsey_delays = linspace(10, 5000, 200)\n",
    "sequence_parameters = {\"awg_trigger_reaction_delay\":400, \"readout_duration\":1000, \n",
    "                            \"repetition_period\":10000, \"half_pi_pulse_duration\":pi_pulse_duration/2}\n",
    "ro_awg_params =  {\"calibration\":ro_cal}\n",
    "q_awg_params = {\"calibration\":q_cal}\n",
    "DRF.set_fixed_parameters(vna_parameters, ro_awg_params, q_awg_params, sequence_parameters)\n",
    "DRF.set_swept_parameters(ramsey_delays, excitation_freqs)"
   ]
  },
  {
   "cell_type": "code",
   "execution_count": 66,
   "metadata": {
    "collapsed": false
   },
   "outputs": [
    {
     "name": "stdout",
     "output_type": "stream",
     "text": [
      "Started at:  2017-05-13 10:36:36.093113\n",
      "Time left: 0 h 0 m 0.0 s, [ramsey_delay: 5.00e+03, excitation_frequency: 7.96e+09]: , average cycle time: 0.24 s           "
     ]
    }
   ],
   "source": [
    "drf_result = DRF.launch()"
   ]
  },
  {
   "cell_type": "code",
   "execution_count": 67,
   "metadata": {
    "collapsed": false
   },
   "outputs": [
    {
     "data": {
      "text/plain": [
       "(<matplotlib.figure.Figure at 0x48ba0e48>,\n",
       " array([<matplotlib.axes._subplots.AxesSubplot object at 0x0000000050AFB860>,\n",
       "        <matplotlib.axes._subplots.AxesSubplot object at 0x000000001A76A630>,\n",
       "        <matplotlib.axes._subplots.AxesSubplot object at 0x000000001A7D5828>,\n",
       "        <matplotlib.axes._subplots.AxesSubplot object at 0x000000001A82A550>], dtype=object),\n",
       " [<matplotlib.axes._axes.Axes at 0x1a7b5940>,\n",
       "  <matplotlib.axes._axes.Axes at 0x1a8fdc50>,\n",
       "  <matplotlib.axes._axes.Axes at 0x50b54f60>,\n",
       "  <matplotlib.axes._axes.Axes at 0x50bf0390>])"
      ]
     },
     "execution_count": 67,
     "metadata": {},
     "output_type": "execute_result"
    }
   ],
   "source": [
    "drf_result.visualize()"
   ]
  },
  {
   "cell_type": "code",
   "execution_count": 68,
   "metadata": {
    "collapsed": true
   },
   "outputs": [],
   "source": [
    "drf_result.save()"
   ]
  },
  {
   "cell_type": "code",
   "execution_count": 70,
   "metadata": {
    "collapsed": true
   },
   "outputs": [
    {
     "name": "stdout",
     "output_type": "stream",
     "text": [
      "0 data/Xmon Al BMSTU S444 2\\May 13 2017\\09-53-46 - VI-ramsey-fringes\\VI-ramsey-fringes.pkl\n",
      "1 data/Xmon Al BMSTU S444 2\\May 13 2017\\10-36-36 - VI-ramsey-fringes\\VI-ramsey-fringes.pkl\n",
      "More than one file found. Enter an index from listed above:\n",
      "1\n"
     ]
    },
    {
     "data": {
      "text/plain": [
       "(<matplotlib.figure.Figure at 0x57b1d668>,\n",
       " array([<matplotlib.axes._subplots.AxesSubplot object at 0x0000000057B79B70>,\n",
       "        <matplotlib.axes._subplots.AxesSubplot object at 0x00000000582DB710>,\n",
       "        <matplotlib.axes._subplots.AxesSubplot object at 0x00000000576FCBE0>,\n",
       "        <matplotlib.axes._subplots.AxesSubplot object at 0x0000000057792E80>], dtype=object),\n",
       " [<matplotlib.axes._axes.Axes at 0x577495c0>,\n",
       "  <matplotlib.axes._axes.Axes at 0x5786de80>,\n",
       "  <matplotlib.axes._axes.Axes at 0x5786ddd8>,\n",
       "  <matplotlib.axes._axes.Axes at 0x57930668>])"
      ]
     },
     "execution_count": 70,
     "metadata": {},
     "output_type": "execute_result"
    }
   ],
   "source": [
    "MeasurementResult.load(\"Xmon Al BMSTU S444 2\", \"VI-ramsey-fringes\").visualize()"
   ]
  },
  {
   "cell_type": "markdown",
   "metadata": {},
   "source": [
    "### Rabi shevrons"
   ]
  },
  {
   "cell_type": "code",
   "execution_count": 103,
   "metadata": {
    "collapsed": false
   },
   "outputs": [],
   "source": [
    "reload(lib2.VNATimeResolvedDispersiveMeasurement)\n",
    "reload(lib2.VNATimeResolvedDispersiveMeasurement2D)\n",
    "reload(lib2.DispersiveRabiChevrons)\n",
    "from lib2.DispersiveRabiChevrons import *"
   ]
  },
  {
   "cell_type": "code",
   "execution_count": 104,
   "metadata": {
    "collapsed": false
   },
   "outputs": [
    {
     "name": "stdout",
     "output_type": "stream",
     "text": [
      "vna2 is already initialized\n",
      "awg3 is already initialized\n",
      "awg2 is already initialized\n",
      "mxg is already initialized\n",
      "Detecting a resonator within provided frequency range of the VNA (7040000000.0, 7052500000.0)                    \n",
      "Detected frequency is 7.04710 GHz, at 0.03 mU and 8.89 degrees\n"
     ]
    }
   ],
   "source": [
    "DRC = DispersiveRabiChevrons(\"VI-rabi-shevrons\", \"Xmon Al BMSTU S444 2\",\n",
    "                                      vna_name=\"vna2\", ro_awg_name=\"awg3\", q_awg_name=\"awg2\", q_lo_name='mxg')\n",
    "vna_parameters = {\"bandwidth\":10, \"freq_limits\":(7040e6, 7052.5e6), \"nop\":1, \"averages\":2}\n",
    "q_frequency = 7.89939e9\n",
    "excitation_freqs = linspace(q_frequency-10e6, q_frequency+10e6, 200)\n",
    "ramsey_delays = linspace(10, 5000, 200)\n",
    "sequence_parameters = {\"awg_trigger_reaction_delay\":400, \"readout_duration\":1000, \"repetition_period\":10000}\n",
    "ro_awg_params =  {\"calibration\":ro_cal}\n",
    "q_awg_params = {\"calibration\":q_cal}\n",
    "DRC.set_fixed_parameters(vna_parameters, ro_awg_params, q_awg_params, sequence_parameters)\n",
    "DRC.set_swept_parameters(ramsey_delays, excitation_freqs)"
   ]
  },
  {
   "cell_type": "code",
   "execution_count": 105,
   "metadata": {
    "collapsed": false
   },
   "outputs": [
    {
     "name": "stdout",
     "output_type": "stream",
     "text": [
      "Started at:  2017-05-13 15:27:30.841761\n",
      "Time left: 0 h 0 m 0.0 s, [excitation_duration: 5.00e+03, excitation_frequency: 7.91e+09]: , average cycle time: 0.24 s           "
     ]
    }
   ],
   "source": [
    "drc_result = DRC.launch()"
   ]
  },
  {
   "cell_type": "code",
   "execution_count": 106,
   "metadata": {
    "collapsed": false
   },
   "outputs": [],
   "source": [
    "drc_result.visualize();"
   ]
  },
  {
   "cell_type": "code",
   "execution_count": 108,
   "metadata": {
    "collapsed": false
   },
   "outputs": [],
   "source": [
    "drc_result.save()"
   ]
  },
  {
   "cell_type": "markdown",
   "metadata": {},
   "source": [
    "### Dispersive shift measurement"
   ]
  },
  {
   "cell_type": "code",
   "execution_count": 75,
   "metadata": {
    "collapsed": false
   },
   "outputs": [],
   "source": [
    "reload(lib2.VNATimeResolvedDispersiveMeasurement)\n",
    "reload(lib2.VNATimeResolvedDispersiveMeasurement2D)\n",
    "reload(lib2.TimeResolvedDispersiveShiftSpectroscopy)\n",
    "from lib2.TimeResolvedDispersiveShiftSpectroscopy import *"
   ]
  },
  {
   "cell_type": "code",
   "execution_count": 94,
   "metadata": {
    "collapsed": false
   },
   "outputs": [
    {
     "name": "stdout",
     "output_type": "stream",
     "text": [
      "vna2 is already initialized\n",
      "awg3 is already initialized\n",
      "awg2 is already initialized\n",
      "mxg is already initialized\n"
     ]
    }
   ],
   "source": [
    "DSS = TimeResolvedDispersiveShiftSpectroscopy(\"VI-rabi-dispersive-shift-exact-q-freq\", \"Xmon Al BMSTU S444 2\",\n",
    "                                      vna_name=\"vna2\", ro_awg_name=\"awg3\", q_awg_name=\"awg2\", q_lo_name='mxg')\n",
    "vna_parameters = {\"bandwidth\":10, \"freq_limits\":(7040e6, 7052.5e6), \"nop\":100, \"averages\":2}\n",
    "exc_frequency = 7.89919e9\n",
    "excitation_durations = linspace(1, 3000, 100)\n",
    "sequence_parameters = {\"awg_trigger_reaction_delay\":400, \"readout_duration\":1000, \"repetition_period\":10000}\n",
    "ro_awg_params =  {\"calibration\":ro_cal}\n",
    "q_awg_params = {\"calibration\":q_cal}\n",
    "DSS.set_fixed_parameters(vna_parameters, q_frequency, ro_awg_params, q_awg_params, sequence_parameters)\n",
    "DSS.set_swept_parameters(excitation_durations)"
   ]
  },
  {
   "cell_type": "code",
   "execution_count": 95,
   "metadata": {
    "collapsed": false
   },
   "outputs": [
    {
     "name": "stdout",
     "output_type": "stream",
     "text": [
      "Started at:  2017-05-14 22:48:05.121530\n",
      "Time left: 0 h 0 m 0.0 s, [excitation_duration: 3.00e+03]: , average cycle time: 19.14 s          "
     ]
    }
   ],
   "source": [
    "dss_result = DSS.launch()"
   ]
  },
  {
   "cell_type": "code",
   "execution_count": 97,
   "metadata": {
    "collapsed": true
   },
   "outputs": [],
   "source": [
    "dss_result.save()"
   ]
  },
  {
   "cell_type": "code",
   "execution_count": 76,
   "metadata": {
    "collapsed": false
   },
   "outputs": [],
   "source": [
    "MeasurementResult.load(\"Xmon Al BMSTU S444 2\", \"VI-rabi-dispersive-shift\").visualize();"
   ]
  },
  {
   "cell_type": "code",
   "execution_count": 96,
   "metadata": {
    "collapsed": true
   },
   "outputs": [
    {
     "data": {
      "text/plain": [
       "(<matplotlib.figure.Figure at 0x9f0f0b8>,\n",
       " array([<matplotlib.axes._subplots.AxesSubplot object at 0x000000000D2A8208>,\n",
       "        <matplotlib.axes._subplots.AxesSubplot object at 0x000000001046CBE0>,\n",
       "        <matplotlib.axes._subplots.AxesSubplot object at 0x000000000E67A828>,\n",
       "        <matplotlib.axes._subplots.AxesSubplot object at 0x000000000F1CE160>], dtype=object),\n",
       " [<matplotlib.axes._axes.Axes at 0xf325a58>,\n",
       "  <matplotlib.axes._axes.Axes at 0x9d6e908>,\n",
       "  <matplotlib.axes._axes.Axes at 0xf325e10>,\n",
       "  <matplotlib.axes._axes.Axes at 0xe73a6a0>])"
      ]
     },
     "execution_count": 96,
     "metadata": {},
     "output_type": "execute_result"
    }
   ],
   "source": [
    "dss_result.visualize();"
   ]
  },
  {
   "cell_type": "markdown",
   "metadata": {},
   "source": [
    "______________________________________________"
   ]
  },
  {
   "cell_type": "markdown",
   "metadata": {},
   "source": [
    "## Pulse optimization"
   ]
  },
  {
   "cell_type": "markdown",
   "metadata": {},
   "source": [
    "### Angular Ramsey ($0^{th}$ order APE) "
   ]
  },
  {
   "cell_type": "code",
   "execution_count": 2,
   "metadata": {
    "collapsed": false
   },
   "outputs": [],
   "source": [
    "from lib2.DispersiveAngularRamsey import *"
   ]
  },
  {
   "cell_type": "code",
   "execution_count": null,
   "metadata": {
    "collapsed": true
   },
   "outputs": [],
   "source": [
    "DAR = DispersiveAngularRamsey(\"VI-angular-ramsey\", \"Xmon Al BMSTU S444 2\", vna_name=\"vna2\", ro_awg_name=\"awg3\", \n",
    "                                            q_awg_name=\"awg2\", q_lo_name='mxg')\n",
    "vna_parameters = {\"bandwidth\":10, \"freq_limits\":(7040e6, 7052.5e6), \"nop\":10, \"averages\":2}\n",
    "ramsey_angles = linspace(0, 2*pi, 100)\n",
    "APE_sequence_parameters = {\"awg_trigger_reaction_delay\":400, \"readout_duration\":1000, \n",
    "                    \"repetition_period\":8000, \"half_pi_pulse_duration\":pi_pulse_duration/2}\n",
    "ro_awg_params =  {\"calibration\":ro_cal}\n",
    "q_awg_params = {\"calibration\":q_cal}\n",
    "DR.set_fixed_parameters(vna_parameters, ro_awg_params, q_awg_params, exc_frequency, rabi_sequence_parameters)\n",
    "DR.set_swept_parameters(ramsey_angles)"
   ]
  }
 ],
 "metadata": {
  "kernelspec": {
   "display_name": "Python 3",
   "language": "python",
   "name": "python3"
  },
  "language_info": {
   "codemirror_mode": {
    "name": "ipython",
    "version": 3
   },
   "file_extension": ".py",
   "mimetype": "text/x-python",
   "name": "python",
   "nbconvert_exporter": "python",
   "pygments_lexer": "ipython3",
   "version": "3.6.0"
  }
 },
 "nbformat": 4,
 "nbformat_minor": 2
}
