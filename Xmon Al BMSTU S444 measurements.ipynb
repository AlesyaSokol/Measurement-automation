{
 "cells": [
  {
   "cell_type": "code",
   "execution_count": 1,
   "metadata": {
    "collapsed": false,
    "scrolled": true
   },
   "outputs": [
    {
     "name": "stdout",
     "output_type": "stream",
     "text": [
      "Populating the interactive namespace from numpy and matplotlib\n"
     ]
    }
   ],
   "source": [
    "%pylab qt5"
   ]
  },
  {
   "cell_type": "code",
   "execution_count": 2,
   "metadata": {
    "collapsed": true
   },
   "outputs": [],
   "source": [
    "import scipy"
   ]
  },
  {
   "cell_type": "code",
   "execution_count": 3,
   "metadata": {
    "collapsed": false
   },
   "outputs": [],
   "source": [
    "from importlib import reload\n",
    "import lib2\n",
    "from IPython.display import clear_output\n",
    "from lib import data_management as dm\n",
    "from time import sleep\n",
    "import drivers\n",
    "from lib2.IQPulseSequence import *\n",
    "from drivers.KeysightAWG import *\n",
    "from drivers.IQAWG import *\n",
    "warnings.filterwarnings(\"ignore\",\".*GUI is implemented.*\")\n",
    "mpl.rcParams['grid.color'] = 'k'\n",
    "mpl.rcParams['grid.linestyle'] = ':'\n",
    "mpl.rcParams['grid.linewidth'] = 0.5"
   ]
  },
  {
   "cell_type": "code",
   "execution_count": 218,
   "metadata": {
    "collapsed": false
   },
   "outputs": [],
   "source": [
    "if_freq = 100e6\n",
    "\n",
    "calibrations_ro = (dm.load_IQMX_calibration_database(\"Xmons_Nb_bandage_res_mixer_5\", -10))\n",
    "ro_cal = calibrations_ro.get(frozenset(dict(lo_power=7, ssb_power=-35, lo_frequency=7.535e9, \n",
    "                                      if_frequency=0, waveform_resolution=1).items()))\n",
    "ro_pb = PulseBuilder(ro_cal)\n",
    "\n",
    "calibrations_q = (dm.load_IQMX_calibration_database(\"Xmons_Nb_bandage_qub_mixer_5\", -6))\n",
    "q_cal = calibrations_q.get(frozenset(dict(lo_power=8, ssb_power=-17, lo_frequency=6.163e9+if_freq, \n",
    "                                      if_frequency=if_freq, waveform_resolution=.5).items()))\n",
    "q_pb = PulseBuilder(q_cal)"
   ]
  },
  {
   "cell_type": "code",
   "execution_count": 219,
   "metadata": {
    "collapsed": false
   },
   "outputs": [
    {
     "name": "stdout",
     "output_type": "stream",
     "text": [
      "Calibration data for mixer Xmons_Nb_bandage_qub_mixer_5\n",
      "Mixer parameters: {'mixer_id': 'Xmons_Nb_bandage_qub_mixer_5', 'iq_attenuation': -6}\n",
      "Radiation parameters: {'lo_frequency': 6263000000.0, 'lo_power': 8, 'if_frequency': 100000000.0, 'ssb_power': -17, 'waveform_resolution': 0.5}\n",
      "Optimization results: {'dc': -77.934364318847656, 'if': [-16.656984329223633, -46.59967041015625, -122.78775024414062]}\n",
      "Optimization parameters {'dc_offsets': array([ 0.00379474, -0.016923  ]), 'dc_offsets_open': None, 'if_offsets': array([ 0.00398447, -0.02057001]), 'if_amplitudes': array([ 0.44026808,  0.46053226]), 'if_phase': array([-1.49267587])}\n",
      "Optimization time: 0 h 2 m 34.77 s\n",
      "Finished at: 2017-08-22 11:57:42.644058\n"
     ]
    }
   ],
   "source": [
    "print(q_cal)"
   ]
  },
  {
   "cell_type": "code",
   "execution_count": 10,
   "metadata": {
    "collapsed": false
   },
   "outputs": [],
   "source": [
    "ro_awg = KeysightAWG(\"AWG3\")"
   ]
  },
  {
   "cell_type": "code",
   "execution_count": 11,
   "metadata": {
    "collapsed": false
   },
   "outputs": [],
   "source": [
    "q_awg = KeysightAWG(\"AWG2\")"
   ]
  },
  {
   "cell_type": "code",
   "execution_count": 30,
   "metadata": {
    "collapsed": false
   },
   "outputs": [],
   "source": [
    "ro_iqawg = IQAWG(AWGChannel(ro_awg, 1), AWGChannel(ro_awg, 2))\n",
    "q_iqawg = IQAWG(AWGChannel(q_awg, 1), AWGChannel(q_awg, 2))"
   ]
  },
  {
   "cell_type": "code",
   "execution_count": 94,
   "metadata": {
    "collapsed": true
   },
   "outputs": [],
   "source": [
    "from drivers.Keysight_DSOX2014 import *"
   ]
  },
  {
   "cell_type": "code",
   "execution_count": 95,
   "metadata": {
    "collapsed": false
   },
   "outputs": [],
   "source": [
    "dso = Keysight_DSOX2014(\"DSO2014\")"
   ]
  },
  {
   "cell_type": "code",
   "execution_count": null,
   "metadata": {
    "collapsed": true
   },
   "outputs": [],
   "source": [
    "dso.set_time_range(1e-5)\n",
    "dso.set_time_offset(1e-6)\n",
    "dso.digitize()\n",
    "times, channel_data = dso.get_data(*Channel.ALL)\n",
    "axes = flatten(plt.subplots(4,1, sharex=True, figsize=(15,5))[1])\n",
    "colors = [\"C0\", \"C1\", \"C2\", \"C3\"]\n",
    "for idx, ax in enumerate(axes):\n",
    "    ax.plot(times, channel_data[idx], color=colors[idx])\n",
    "    ax.minorticks_on()\n",
    "    ax.grid(which=\"both\")\n",
    "    ax.ticklabel_format(style='sci', axis='x', scilimits=(0,0))\n",
    "plt.tight_layout()"
   ]
  },
  {
   "cell_type": "markdown",
   "metadata": {},
   "source": [
    "______________"
   ]
  },
  {
   "cell_type": "markdown",
   "metadata": {},
   "source": [
    "### Resonators scan areas"
   ]
  },
  {
   "cell_type": "code",
   "execution_count": 163,
   "metadata": {
    "collapsed": false
   },
   "outputs": [],
   "source": [
    "scan_areas = [(7529945247.2623634, 7579945247.2623634),\n",
    "  (7541330816.5408268, 7591330816.5408268),\n",
    "  (7552773888.6944351, 7602773888.6944351),\n",
    "  (7564561978.0989046, 7614561978.0989046),\n",
    "  (7574164958.2479124, 7624164958.2479124)]"
   ]
  },
  {
   "cell_type": "code",
   "execution_count": 164,
   "metadata": {
    "collapsed": false
   },
   "outputs": [
    {
     "data": {
      "text/plain": [
       "[(7529945247.262363, 7579945247.262363),\n",
       " (7541330816.540827, 7591330816.540827),\n",
       " (7552773888.694435, 7602773888.694435),\n",
       " (7564561978.098905, 7614561978.098905),\n",
       " (7574164958.247912, 7624164958.247912)]"
      ]
     },
     "execution_count": 164,
     "metadata": {},
     "output_type": "execute_result"
    }
   ],
   "source": [
    "scan_areas"
   ]
  },
  {
   "cell_type": "markdown",
   "metadata": {},
   "source": [
    "# Spectroscopy"
   ]
  },
  {
   "cell_type": "markdown",
   "metadata": {},
   "source": [
    "## Single-tone spectroscopy"
   ]
  },
  {
   "cell_type": "code",
   "execution_count": 8,
   "metadata": {
    "collapsed": true
   },
   "outputs": [],
   "source": [
    "#reload(lib2.SingleToneSpectroscopy)\n",
    "from lib2.SingleToneSpectroscopy import *"
   ]
  },
  {
   "cell_type": "code",
   "execution_count": 254,
   "metadata": {
    "collapsed": false
   },
   "outputs": [],
   "source": [
    "ro_iqawg.output_pulse_sequence(ro_pb.add_dc_pulse(800,2).build())"
   ]
  },
  {
   "cell_type": "code",
   "execution_count": 165,
   "metadata": {
    "collapsed": false
   },
   "outputs": [],
   "source": [
    "res_limits = scan_areas[0]"
   ]
  },
  {
   "cell_type": "code",
   "execution_count": 255,
   "metadata": {
    "collapsed": false
   },
   "outputs": [
    {
     "name": "stdout",
     "output_type": "stream",
     "text": [
      "vna1 is already initialized\n",
      "yok3 is already initialized\n",
      "Started at:  2017-08-15 17:22:54.291988\n",
      "Time left: 0 h 0 m 19.64 s, [current: 1.64e-03]: , average cycle time: 2.18 s       "
     ]
    }
   ],
   "source": [
    "STS = SingleToneSpectroscopy(\"IV-STS\", \"Xmons_Nb_bandage\", vna = 'vna1', src = 'yok3')\n",
    "vna_parameters = {\"bandwidth\":1000, \"freq_limits\":res_limits, \"nop\":2001, \"sweep_type\": \"LIN\", \"power\":-20, \"averages\":1}\n",
    "STS.set_fixed_parameters(vna_parameters)\n",
    "currents = linspace(0e-3, 2e-3, 51)\n",
    "STS._src.set_current(currents[0])\n",
    "sleep(1)\n",
    "STS.set_swept_parameters({'current': (STS._src.set_current, currents)})\n",
    "result = STS.launch()\n",
    "STS._src.set_current(0);\n",
    "result.visualize();"
   ]
  },
  {
   "cell_type": "code",
   "execution_count": 257,
   "metadata": {
    "collapsed": true
   },
   "outputs": [],
   "source": [
    "result.visualize();"
   ]
  },
  {
   "cell_type": "code",
   "execution_count": 256,
   "metadata": {
    "collapsed": true
   },
   "outputs": [],
   "source": [
    "result.save();"
   ]
  },
  {
   "cell_type": "code",
   "execution_count": 300,
   "metadata": {
    "collapsed": false
   },
   "outputs": [
    {
     "data": {
      "text/plain": [
       "True"
      ]
     },
     "execution_count": 300,
     "metadata": {},
     "output_type": "execute_result"
    }
   ],
   "source": [
    "STS._src.set_appropriate_range(0.01)"
   ]
  },
  {
   "cell_type": "markdown",
   "metadata": {},
   "source": [
    "## Two-tone spectroscopy"
   ]
  },
  {
   "cell_type": "code",
   "execution_count": 13,
   "metadata": {
    "collapsed": false
   },
   "outputs": [],
   "source": [
    "# reload(lib2.Measurement)\n",
    "# reload(lib2.TwoToneSpectroscopyBase)\n",
    "# reload(lib2.TwoToneSpectroscopy)\n",
    "from lib2.TwoToneSpectroscopy import *"
   ]
  },
  {
   "cell_type": "code",
   "execution_count": 14,
   "metadata": {
    "collapsed": false
   },
   "outputs": [],
   "source": [
    "q_iqawg.output_pulse_sequence(q_pb.add_dc_pulse(800,2).build())\n",
    "ro_iqawg.output_pulse_sequence(ro_pb.add_dc_pulse(800,2).build())"
   ]
  },
  {
   "cell_type": "code",
   "execution_count": 15,
   "metadata": {
    "collapsed": false
   },
   "outputs": [
    {
     "data": {
      "text/plain": [
       "(16, <StatusCode.success: 0>)"
      ]
     },
     "execution_count": 15,
     "metadata": {},
     "output_type": "execute_result"
    }
   ],
   "source": [
    "ro_awg._visainstrument.write(\":ARM:SOUR1 IMM\")"
   ]
  },
  {
   "cell_type": "code",
   "execution_count": 17,
   "metadata": {
    "collapsed": true
   },
   "outputs": [],
   "source": [
    "res_limits = (7525e6, 7545e6)"
   ]
  },
  {
   "cell_type": "markdown",
   "metadata": {},
   "source": [
    "#### Qubit spectrum"
   ]
  },
  {
   "cell_type": "code",
   "execution_count": 23,
   "metadata": {
    "collapsed": false,
    "scrolled": false
   },
   "outputs": [
    {
     "name": "stdout",
     "output_type": "stream",
     "text": [
      "vna1 is already initialized\n",
      "mxg is already initialized\n",
      "yok3 is already initialized\n",
      "Detecting a resonator within provided frequency range of the VNA (7525000000.0, 7545000000.0)                    at qubit's sweet spot (1.30 mA)\n",
      "Detected frequency is 7.53513 GHz, at 57.93 mU and 164.79 degrees\n"
     ]
    }
   ],
   "source": [
    "TTS = FluxTwoToneSpectroscopy(\"I-two-tone\", \"Xmons_Nb_bandage\", vna_name=\"vna1\", \n",
    "                              mw_src_name=\"mxg\", current_src_name=\"yok3\")\n",
    "vna_parameters = {\"bandwidth\":50, \"freq_limits\":res_limits, \"nop\":10, \"sweep_type\":\"LIN\", \"power\":-10, \"averages\":1}\n",
    "mw_src_parameters = {\"power\":-15}\n",
    "mw_src_frequencies = linspace(6.12e9, 6.20e9, 401)\n",
    "currents = linspace(1.29e-3, 1.32e-3, 4)\n",
    "TTS.setup_control_parameters(vna_parameters, mw_src_parameters, mw_src_frequencies, currents)\n",
    "TTS._measurement_result.set_unwrap_phase(True)"
   ]
  },
  {
   "cell_type": "code",
   "execution_count": 24,
   "metadata": {
    "collapsed": false,
    "scrolled": true
   },
   "outputs": [
    {
     "name": "stdout",
     "output_type": "stream",
     "text": [
      "Started at:  2017-08-21 15:10:07.458586\n",
      "Time left: 0 h 0 m 10.57 s, parameter value: 1.320e-03, average cycle time: 0.22 s          "
     ]
    }
   ],
   "source": [
    "result = TTS.launch()"
   ]
  },
  {
   "cell_type": "code",
   "execution_count": 20,
   "metadata": {
    "collapsed": true
   },
   "outputs": [],
   "source": [
    "result._unwrap_phase = True"
   ]
  },
  {
   "cell_type": "code",
   "execution_count": 22,
   "metadata": {
    "collapsed": true
   },
   "outputs": [],
   "source": [
    "result.visualize();"
   ]
  },
  {
   "cell_type": "code",
   "execution_count": 173,
   "metadata": {
    "collapsed": true
   },
   "outputs": [],
   "source": [
    "result.save()"
   ]
  },
  {
   "cell_type": "markdown",
   "metadata": {},
   "source": [
    "________________"
   ]
  },
  {
   "cell_type": "markdown",
   "metadata": {},
   "source": [
    "#### AC stark TTS from ro power"
   ]
  },
  {
   "cell_type": "code",
   "execution_count": 300,
   "metadata": {
    "collapsed": false
   },
   "outputs": [
    {
     "data": {
      "text/plain": [
       "7.1803112671302305"
      ]
     },
     "execution_count": 300,
     "metadata": {},
     "output_type": "execute_result"
    }
   ],
   "source": [
    "sum(avg_factors/100*160)/60"
   ]
  },
  {
   "cell_type": "code",
   "execution_count": 301,
   "metadata": {
    "collapsed": true
   },
   "outputs": [
    {
     "name": "stdout",
     "output_type": "stream",
     "text": [
      "vna1 is already initialized\n",
      "mxg is already initialized\n",
      "yok3 is already initialized\n",
      "Detecting a resonator within provided frequency range of the VNA (7770000000.0, 7790000000.0)                    at qubit's sweet spot (0.90 mA)\n",
      "Detected frequency is 7.77972 GHz, at 575.29 mU and -43.27 degrees\n",
      "Started at:  2017-08-15 21:59:32.717364\n",
      "Time left: 0 h 0 m 0.0 s, parameter value: 1.150e-03, average cycle time: 0.47 s             vna1 is already initialized\n",
      "mxg is already initialized\n",
      "yok3 is already initialized\n",
      "Detecting a resonator within provided frequency range of the VNA (7770000000.0, 7790000000.0)                    at qubit's sweet spot (0.90 mA)\n",
      "Detected frequency is 7.77962 GHz, at 577.76 mU and -31.10 degrees\n",
      "Started at:  2017-08-16 00:39:58.267914\n",
      "Time left: 0 h 0 m 0.0 s, parameter value: 1.150e-03, average cycle time: 0.31 s             vna1 is already initialized\n",
      "mxg is already initialized\n",
      "yok3 is already initialized\n",
      "Detecting a resonator within provided frequency range of the VNA (7770000000.0, 7790000000.0)                    at qubit's sweet spot (0.90 mA)\n",
      "Detected frequency is 7.77952 GHz, at 578.66 mU and -31.32 degrees\n",
      "Started at:  2017-08-16 02:25:07.528783\n",
      "Time left: 0 h 0 m 0.0 s, parameter value: 1.150e-03, average cycle time: 0.22 s             vna1 is already initialized\n",
      "mxg is already initialized\n",
      "yok3 is already initialized\n",
      "Detecting a resonator within provided frequency range of the VNA (7770000000.0, 7790000000.0)                    at qubit's sweet spot (0.90 mA)\n",
      "Detected frequency is 7.77937 GHz, at 576.97 mU and -29.84 degrees\n",
      "Started at:  2017-08-16 03:39:14.417131\n",
      "Time left: 0 h 0 m 0.0 s, parameter value: 1.150e-03, average cycle time: 0.16 s             vna1 is already initialized\n",
      "mxg is already initialized\n",
      "yok3 is already initialized\n",
      "Detecting a resonator within provided frequency range of the VNA (7770000000.0, 7790000000.0)                    at qubit's sweet spot (0.90 mA)\n",
      "Detected frequency is 7.77922 GHz, at 579.92 mU and -25.26 degrees\n",
      "Started at:  2017-08-16 04:34:48.920853\n",
      "Time left: 0 h 0 m 0.0 s, parameter value: 1.150e-03, average cycle time: 0.13 s             vna1 is already initialized\n",
      "mxg is already initialized\n",
      "yok3 is already initialized\n",
      "Detecting a resonator within provided frequency range of the VNA (7770000000.0, 7790000000.0)                    at qubit's sweet spot (0.90 mA)\n",
      "Detected frequency is 7.77892 GHz, at 580.09 mU and -19.15 degrees\n",
      "Started at:  2017-08-16 05:18:15.852961\n",
      "Time left: 0 h 0 m 0.0 s, parameter value: 1.150e-03, average cycle time: 0.08 s             vna1 is already initialized\n",
      "mxg is already initialized\n",
      "yok3 is already initialized\n",
      "Detecting a resonator within provided frequency range of the VNA (7770000000.0, 7790000000.0)                    at qubit's sweet spot (0.90 mA)\n",
      "Detected frequency is 7.77867 GHz, at 580.06 mU and -11.81 degrees\n",
      "Started at:  2017-08-16 05:46:12.745874\n",
      "Time left: 0 h 0 m 0.0 s, parameter value: 1.150e-03, average cycle time: 0.08 s             vna1 is already initialized\n",
      "mxg is already initialized\n",
      "yok3 is already initialized\n",
      "Detecting a resonator within provided frequency range of the VNA (7770000000.0, 7790000000.0)                    at qubit's sweet spot (0.90 mA)\n",
      "Detected frequency is 7.77837 GHz, at 579.69 mU and -3.39 degrees\n",
      "Started at:  2017-08-16 06:13:57.824111\n",
      "Time left: 0 h 0 m 0.0 s, parameter value: 1.150e-03, average cycle time: 0.06 s             vna1 is already initialized\n",
      "mxg is already initialized\n",
      "yok3 is already initialized\n",
      "Detecting a resonator within provided frequency range of the VNA (7770000000.0, 7790000000.0)                    at qubit's sweet spot (0.90 mA)\n",
      "Detected frequency is 7.77802 GHz, at 576.67 mU and 5.64 degrees\n",
      "Started at:  2017-08-16 06:35:23.210631\n",
      "Time left: 0 h 0 m 0.0 s, parameter value: 1.150e-03, average cycle time: 0.06 s             vna1 is already initialized\n",
      "mxg is already initialized\n",
      "yok3 is already initialized\n",
      "Detecting a resonator within provided frequency range of the VNA (7770000000.0, 7790000000.0)                    at qubit's sweet spot (0.90 mA)\n",
      "Detected frequency is 7.77767 GHz, at 577.35 mU and 16.32 degrees\n",
      "Started at:  2017-08-16 06:56:39.931655\n",
      "Time left: 0 h 0 m 0.0 s, parameter value: 1.150e-03, average cycle time: 0.06 s             vna1 is already initialized\n",
      "mxg is already initialized\n",
      "yok3 is already initialized\n",
      "Detecting a resonator within provided frequency range of the VNA (7770000000.0, 7790000000.0)                    at qubit's sweet spot (0.90 mA)\n",
      "Detected frequency is 7.77727 GHz, at 575.51 mU and 28.30 degrees\n",
      "Started at:  2017-08-16 07:17:57.410723\n",
      "Time left: 0 h 0 m 0.0 s, parameter value: 1.150e-03, average cycle time: 0.06 s             "
     ]
    }
   ],
   "source": [
    "exec(open(\"scripts/ac_stark_tts.py\").read())"
   ]
  },
  {
   "cell_type": "markdown",
   "metadata": {},
   "source": [
    "#### Linewidth from excitation power"
   ]
  },
  {
   "cell_type": "code",
   "execution_count": 283,
   "metadata": {
    "collapsed": false
   },
   "outputs": [],
   "source": [
    "ro_iqawg.output_pulse_sequence(ro_pb.add_dc_pulse(1000, 1).build())\n",
    "q_iqawg.output_pulse_sequence(q_pb.add_dc_pulse(1000, 1).build())"
   ]
  },
  {
   "cell_type": "code",
   "execution_count": 22,
   "metadata": {
    "collapsed": true
   },
   "outputs": [
    {
     "ename": "NameError",
     "evalue": "name 'PowerTwoToneSpectroscopy' is not defined",
     "output_type": "error",
     "traceback": [
      "\u001b[0;31m---------------------------------------------------------------------------\u001b[0m",
      "\u001b[0;31mNameError\u001b[0m                                 Traceback (most recent call last)",
      "\u001b[0;32m<ipython-input-22-d003c27a4040>\u001b[0m in \u001b[0;36m<module>\u001b[0;34m()\u001b[0m\n\u001b[0;32m----> 1\u001b[0;31m \u001b[0mPTS\u001b[0m \u001b[1;33m=\u001b[0m \u001b[0mPowerTwoToneSpectroscopy\u001b[0m\u001b[1;33m(\u001b[0m\u001b[1;34m\"VI-powerscan\"\u001b[0m\u001b[1;33m,\u001b[0m \u001b[1;34m\"Xmons_Nb_bandage\"\u001b[0m\u001b[1;33m,\u001b[0m \u001b[0mvna_name\u001b[0m\u001b[1;33m=\u001b[0m\u001b[1;34m'vna1'\u001b[0m\u001b[1;33m,\u001b[0m \u001b[0mmw_src_name\u001b[0m\u001b[1;33m=\u001b[0m\u001b[1;34m'mxg'\u001b[0m\u001b[1;33m,\u001b[0m \u001b[0mcurrent_src_name\u001b[0m\u001b[1;33m=\u001b[0m\u001b[1;34m'yok3'\u001b[0m\u001b[1;33m)\u001b[0m\u001b[1;33m\u001b[0m\u001b[0m\n\u001b[0m\u001b[1;32m      2\u001b[0m \u001b[0mvna_parameters\u001b[0m \u001b[1;33m=\u001b[0m \u001b[1;33m{\u001b[0m\u001b[1;34m\"bandwidth\"\u001b[0m\u001b[1;33m:\u001b[0m\u001b[1;36m200\u001b[0m\u001b[1;33m,\u001b[0m \u001b[1;34m\"freq_limits\"\u001b[0m\u001b[1;33m:\u001b[0m\u001b[1;33m(\u001b[0m\u001b[1;36m7.52e9\u001b[0m\u001b[1;33m,\u001b[0m \u001b[1;36m7.55e9\u001b[0m\u001b[1;33m)\u001b[0m\u001b[1;33m,\u001b[0m \u001b[1;34m\"nop\"\u001b[0m\u001b[1;33m:\u001b[0m\u001b[1;36m50\u001b[0m\u001b[1;33m,\u001b[0m \u001b[1;34m\"power\"\u001b[0m\u001b[1;33m:\u001b[0m\u001b[1;36m7\u001b[0m\u001b[1;33m,\u001b[0m \u001b[1;34m\"sweep_type\"\u001b[0m\u001b[1;33m:\u001b[0m\u001b[1;34m\"CW\"\u001b[0m\u001b[1;33m,\u001b[0m\u001b[1;34m\"averages\"\u001b[0m\u001b[1;33m:\u001b[0m\u001b[1;36m1\u001b[0m\u001b[1;33m}\u001b[0m\u001b[1;33m\u001b[0m\u001b[0m\n\u001b[1;32m      3\u001b[0m \u001b[0mmw_src_parameters\u001b[0m \u001b[1;33m=\u001b[0m \u001b[1;33m{\u001b[0m\u001b[1;33m}\u001b[0m\u001b[1;33m\u001b[0m\u001b[0m\n\u001b[1;32m      4\u001b[0m \u001b[0mmw_src_frequencies\u001b[0m \u001b[1;33m=\u001b[0m \u001b[0mlinspace\u001b[0m\u001b[1;33m(\u001b[0m\u001b[1;36m6.14e9\u001b[0m\u001b[1;33m,\u001b[0m \u001b[1;36m6.18e9\u001b[0m\u001b[1;33m,\u001b[0m\u001b[1;36m401\u001b[0m\u001b[1;33m)\u001b[0m\u001b[1;33m\u001b[0m\u001b[0m\n\u001b[1;32m      5\u001b[0m \u001b[0mmw_src_powers\u001b[0m \u001b[1;33m=\u001b[0m \u001b[0mlinspace\u001b[0m\u001b[1;33m(\u001b[0m\u001b[1;36m7\u001b[0m\u001b[1;33m,\u001b[0m \u001b[1;36m7.1\u001b[0m\u001b[1;33m,\u001b[0m \u001b[1;36m2\u001b[0m\u001b[1;33m)\u001b[0m\u001b[1;33m\u001b[0m\u001b[0m\n",
      "\u001b[0;31mNameError\u001b[0m: name 'PowerTwoToneSpectroscopy' is not defined"
     ]
    }
   ],
   "source": [
    "PTS = PowerTwoToneSpectroscopy(\"VI-powerscan\", \"Xmons_Nb_bandage\", vna_name='vna1', mw_src_name='mxg', current_src_name='yok3')\n",
    "vna_parameters = {\"bandwidth\":200, \"freq_limits\":(7.52e9, 7.55e9), \"nop\":50, \"power\":7, \"sweep_type\":\"CW\",\"averages\":1}\n",
    "mw_src_parameters = {}\n",
    "mw_src_frequencies = linspace(6.14e9, 6.18e9,401)\n",
    "mw_src_powers = linspace(7, 7.1, 2)\n",
    "current = 1.36e-3\n",
    "PTS.setup_control_parameters(vna_parameters, mw_src_parameters, mw_src_frequencies, mw_src_powers, current)\n",
    "PTS._measurement_result.set_phase_units(\"deg\")"
   ]
  },
  {
   "cell_type": "code",
   "execution_count": 59,
   "metadata": {
    "collapsed": false,
    "scrolled": true
   },
   "outputs": [
    {
     "name": "stdout",
     "output_type": "stream",
     "text": [
      "Started at:  2017-08-08 19:45:43.804415\n",
      "Time left: 0 h 3 m 26.8 s, parameter value: 7.000e+00, average cycle time: 0.28 s           "
     ]
    }
   ],
   "source": [
    "result = PTS.launch()"
   ]
  },
  {
   "cell_type": "code",
   "execution_count": 51,
   "metadata": {
    "collapsed": false
   },
   "outputs": [],
   "source": [
    "result.visualize();"
   ]
  },
  {
   "cell_type": "code",
   "execution_count": 338,
   "metadata": {
    "collapsed": true
   },
   "outputs": [],
   "source": [
    "result.save()"
   ]
  },
  {
   "cell_type": "markdown",
   "metadata": {},
   "source": [
    "#### AC Stark"
   ]
  },
  {
   "cell_type": "code",
   "execution_count": null,
   "metadata": {
    "collapsed": false
   },
   "outputs": [],
   "source": [
    "ro_awg.output_pulse_sequence(ro_pb.add_dc_pulse(100).build())\n",
    "q_awg.output_pulse_sequence(q_pb.add_dc_pulse(100, 5).build())"
   ]
  },
  {
   "cell_type": "code",
   "execution_count": 15,
   "metadata": {
    "collapsed": false
   },
   "outputs": [
    {
     "name": "stdout",
     "output_type": "stream",
     "text": [
      "vna1 is already initialized\n",
      "mxg is already initialized\n",
      "yok3 is already initialized\n"
     ]
    }
   ],
   "source": [
    "ASTS = AcStarkTwoToneSpectroscopy(\"IV-ac-stark\", \"Xmons_Nb_bandage\",\n",
    "                                  vna_name='vna1', mw_src_name='mxg', current_src_name='yok3', )\n",
    "vna_parameters = {\"bandwidth\":1000, \"freq_limits\":res_limits, \"nop\":2, \"power\":-25, \"averages\":400, \"sweep_type\":\"LIN\"}\n",
    "mw_src_parameters = {\"power\":-5}\n",
    "mw_src_frequencies = linspace(6.6e9, 7.4e9, 200)\n",
    "vna_powers = linspace(-30, 0, 100)\n",
    "current = 0.9e-3\n",
    "ASTS.setup_control_parameters(vna_parameters, mw_src_parameters, mw_src_frequencies, vna_powers, current)"
   ]
  },
  {
   "cell_type": "code",
   "execution_count": 16,
   "metadata": {
    "collapsed": false
   },
   "outputs": [
    {
     "name": "stdout",
     "output_type": "stream",
     "text": [
      "Started at:  2017-08-16 15:36:59.323302\n",
      "Time left: 1 h 38 m 20.56 s, parameter value: -2.394e+01, average cycle time: 0.37 s                             "
     ]
    },
    {
     "name": "stderr",
     "output_type": "stream",
     "text": [
      "C:\\ProgramData\\Anaconda3\\lib\\site-packages\\scipy\\optimize\\minpack.py:427: RuntimeWarning: Number of calls to function has reached maxfev = 1400.\n",
      "  warnings.warn(errors[info][0], RuntimeWarning)\n"
     ]
    },
    {
     "name": "stdout",
     "output_type": "stream",
     "text": [
      "Time left: 0 h 0 m 0.0 s, parameter value: 0.000e+00, average cycle time: 0.13 s            )                    "
     ]
    }
   ],
   "source": [
    "result = ASTS.launch()"
   ]
  },
  {
   "cell_type": "code",
   "execution_count": 19,
   "metadata": {
    "collapsed": false
   },
   "outputs": [
    {
     "data": {
      "text/plain": [
       "(<matplotlib.figure.Figure at 0xe6ca898>,\n",
       " array([<matplotlib.axes._subplots.AxesSubplot object at 0x000000000E7120F0>,\n",
       "        <matplotlib.axes._subplots.AxesSubplot object at 0x000000000E7E4198>], dtype=object),\n",
       " (<matplotlib.axes._axes.Axes at 0xe83f6a0>,\n",
       "  <matplotlib.axes._axes.Axes at 0xe8fe780>))"
      ]
     },
     "execution_count": 19,
     "metadata": {},
     "output_type": "execute_result"
    }
   ],
   "source": [
    "result.visualize()"
   ]
  },
  {
   "cell_type": "code",
   "execution_count": 18,
   "metadata": {
    "collapsed": true
   },
   "outputs": [],
   "source": [
    "result.save()"
   ]
  },
  {
   "cell_type": "code",
   "execution_count": 20,
   "metadata": {
    "collapsed": true
   },
   "outputs": [],
   "source": [
    "ASTS._mw_src.set_power(-15)"
   ]
  },
  {
   "cell_type": "code",
   "execution_count": 164,
   "metadata": {
    "collapsed": false
   },
   "outputs": [],
   "source": [
    "TTS.close_devs([\"mxg\"])"
   ]
  },
  {
   "cell_type": "markdown",
   "metadata": {},
   "source": [
    "__________________________"
   ]
  },
  {
   "cell_type": "markdown",
   "metadata": {},
   "source": [
    "# Time-domain measurements"
   ]
  },
  {
   "cell_type": "markdown",
   "metadata": {},
   "source": [
    "### Check mixer calibration"
   ]
  },
  {
   "cell_type": "code",
   "execution_count": 44,
   "metadata": {
    "collapsed": false
   },
   "outputs": [],
   "source": [
    "q_lo = TTS._mw_src\n",
    "q_lo.set_output_state(\"ON\")\n",
    "q_lo.set_frequency(6.054e9)\n",
    "q_lo.set_power(10)"
   ]
  },
  {
   "cell_type": "code",
   "execution_count": 45,
   "metadata": {
    "collapsed": false
   },
   "outputs": [],
   "source": [
    "q_lo._visainstrument.close()"
   ]
  },
  {
   "cell_type": "code",
   "execution_count": 142,
   "metadata": {
    "collapsed": true
   },
   "outputs": [],
   "source": [
    "TTS._vna.set_nop(1)\n",
    "TTS._vna.set_power(7)\n",
    "TTS._vna.set_center(7.53511e9)\n",
    "TTS._vna.sweep_continuous()"
   ]
  },
  {
   "cell_type": "code",
   "execution_count": 65,
   "metadata": {
    "collapsed": false
   },
   "outputs": [],
   "source": [
    "q_iqawg.output_pulse_sequence(q_pb.add_zero_pulse(20).build())\n",
    "ro_iqawg.output_pulse_sequence(ro_pb.add_zero_pulse(20).build())"
   ]
  },
  {
   "cell_type": "code",
   "execution_count": 66,
   "metadata": {
    "collapsed": false
   },
   "outputs": [],
   "source": [
    "q_iqawg.output_pulse_sequence(q_pb.add_sine_pulse(20).build())\n",
    "ro_iqawg.output_pulse_sequence(ro_pb.add_dc_pulse(20).build())"
   ]
  },
  {
   "cell_type": "code",
   "execution_count": 28,
   "metadata": {
    "collapsed": true,
    "scrolled": true
   },
   "outputs": [
    {
     "data": {
      "text/plain": [
       "{'if_frequency': 50000000.0,\n",
       " 'lo_frequency': 6210000000.0,\n",
       " 'lo_power': 7,\n",
       " 'ssb_power': -22,\n",
       " 'waveform_resolution': 0.1}"
      ]
     },
     "execution_count": 28,
     "metadata": {},
     "output_type": "execute_result"
    }
   ],
   "source": [
    "q_cal.get_radiation_parameters()"
   ]
  },
  {
   "cell_type": "markdown",
   "metadata": {},
   "source": [
    "### Set qubit frequency"
   ]
  },
  {
   "cell_type": "code",
   "execution_count": 25,
   "metadata": {
    "collapsed": false
   },
   "outputs": [
    {
     "data": {
      "text/plain": [
       "True"
      ]
     },
     "execution_count": 25,
     "metadata": {},
     "output_type": "execute_result"
    }
   ],
   "source": [
    "TTS._current_src.set_current(1.31e-3)"
   ]
  },
  {
   "cell_type": "code",
   "execution_count": 23,
   "metadata": {
    "collapsed": false
   },
   "outputs": [
    {
     "data": {
      "text/plain": [
       "6164000000.0"
      ]
     },
     "execution_count": 23,
     "metadata": {},
     "output_type": "execute_result"
    }
   ],
   "source": [
    "q_freq"
   ]
  },
  {
   "cell_type": "code",
   "execution_count": 26,
   "metadata": {
    "collapsed": true
   },
   "outputs": [],
   "source": [
    "q_freq = 6.163e9"
   ]
  },
  {
   "cell_type": "code",
   "execution_count": 140,
   "metadata": {
    "collapsed": false
   },
   "outputs": [
    {
     "data": {
      "text/plain": [
       "6164980000.0"
      ]
     },
     "execution_count": 140,
     "metadata": {},
     "output_type": "execute_result"
    }
   ],
   "source": [
    "q_freq = q_freq+1.98e6\n",
    "q_freq"
   ]
  },
  {
   "cell_type": "markdown",
   "metadata": {},
   "source": [
    "### Rabi "
   ]
  },
  {
   "cell_type": "code",
   "execution_count": 214,
   "metadata": {
    "collapsed": false
   },
   "outputs": [],
   "source": [
    "#reload(lib2.VNATimeResolvedDispersiveMeasurement)\n",
    "#reload(lib2.VNATimeResolvedDispersiveMeasurement1D)\n",
    "#reload(lib2.DispersiveRabiOscillations)\n",
    "from lib2.DispersiveRabiOscillations import DispersiveRabiOscillations"
   ]
  },
  {
   "cell_type": "code",
   "execution_count": 220,
   "metadata": {
    "collapsed": false
   },
   "outputs": [
    {
     "data": {
      "text/plain": [
       "(16, <StatusCode.success: 0>)"
      ]
     },
     "execution_count": 220,
     "metadata": {},
     "output_type": "execute_result"
    }
   ],
   "source": [
    "ro_awg._visainstrument.write(\":ARM:SOUR1 EXT\")"
   ]
  },
  {
   "cell_type": "code",
   "execution_count": 107,
   "metadata": {
    "collapsed": false
   },
   "outputs": [],
   "source": [
    "ro_iqawg.output_pulse_sequence(ro_pb.add_dc_pulse(1000).build())\n",
    "#q_iqawg.output_pulse_sequence(q_pb.add_dc_pulse(1000).build())"
   ]
  },
  {
   "cell_type": "code",
   "execution_count": 119,
   "metadata": {
    "collapsed": false
   },
   "outputs": [
    {
     "data": {
      "text/plain": [
       "{'excitation_amplitude': 1, 'modulating_window': 'rectangular'}"
      ]
     },
     "execution_count": 119,
     "metadata": {},
     "output_type": "execute_result"
    }
   ],
   "source": [
    "DRO._pulse_sequence_parameters"
   ]
  },
  {
   "cell_type": "code",
   "execution_count": 221,
   "metadata": {
    "collapsed": false,
    "scrolled": true
   },
   "outputs": [
    {
     "name": "stdout",
     "output_type": "stream",
     "text": [
      "vna1 is already initialized\n",
      "mxg is already initialized\n",
      "Detecting a resonator within provided frequency range of the VNA (7525000000.0, 7545000000.0)                    \n",
      "Detected frequency is 7.53515 GHz, at 3.55 mU and -176.92 degrees\n"
     ]
    }
   ],
   "source": [
    "DRO = DispersiveRabiOscillations(\"I-rabi\", \"Xmons_Nb_bandage\",\n",
    "            vna_name=\"vna1\", ro_awg=ro_iqawg, q_awg=q_iqawg, q_lo_name='mxg')\n",
    "vna_parameters = {\"bandwidth\":50, \"freq_limits\":res_limits, \"nop\":4, \"sweep_type\":\"LIN\", \"averages\":4}\n",
    "exc_frequency = q_freq\n",
    "excitation_durations = linspace(0,800, 101)\n",
    "rabi_sequence_parameters = {\"awg_trigger_reaction_delay\":390, \"readout_duration\":800, \"repetition_period\":10000}\n",
    "ro_awg_params =  {\"calibration\":ro_cal}\n",
    "q_awg_params = {\"calibration\":q_cal}\n",
    "DRO.set_fixed_parameters(vna_parameters, ro_awg_params, q_awg_params, exc_frequency, rabi_sequence_parameters)\n",
    "DRO.set_swept_parameters(excitation_durations)"
   ]
  },
  {
   "cell_type": "code",
   "execution_count": 222,
   "metadata": {
    "collapsed": false,
    "scrolled": false
   },
   "outputs": [
    {
     "name": "stdout",
     "output_type": "stream",
     "text": [
      "Started at:  2017-08-22 11:58:17.815069\n",
      "Time left: 0 h 0 m 0.0 s, [excitation_duration: 8.00e+02]: , average cycle time: 0.96 s         "
     ]
    }
   ],
   "source": [
    "result = DRO.launch()"
   ]
  },
  {
   "cell_type": "code",
   "execution_count": 210,
   "metadata": {
    "collapsed": true
   },
   "outputs": [],
   "source": [
    "result.visualize();"
   ]
  },
  {
   "cell_type": "code",
   "execution_count": 224,
   "metadata": {
    "collapsed": false
   },
   "outputs": [],
   "source": [
    "result.save()"
   ]
  },
  {
   "cell_type": "code",
   "execution_count": 223,
   "metadata": {
    "collapsed": false
   },
   "outputs": [
    {
     "data": {
      "text/plain": [
       "42.069313434702629"
      ]
     },
     "execution_count": 223,
     "metadata": {},
     "output_type": "execute_result"
    }
   ],
   "source": [
    "pi_pulse_duration = result.get_pi_pulse_duration()*1e3\n",
    "pi_pulse_duration"
   ]
  },
  {
   "cell_type": "code",
   "execution_count": 216,
   "metadata": {
    "collapsed": true
   },
   "outputs": [],
   "source": [
    "pi_pulse_duration = 58.66"
   ]
  },
  {
   "cell_type": "markdown",
   "metadata": {},
   "source": [
    "### Decay"
   ]
  },
  {
   "cell_type": "code",
   "execution_count": 225,
   "metadata": {
    "collapsed": false
   },
   "outputs": [],
   "source": [
    "reload(lib2.VNATimeResolvedDispersiveMeasurement)\n",
    "reload(lib2.VNATimeResolvedDispersiveMeasurement1D)\n",
    "reload(lib2.DispersiveDecay)\n",
    "from lib2.DispersiveDecay import *"
   ]
  },
  {
   "cell_type": "code",
   "execution_count": 226,
   "metadata": {
    "collapsed": false
   },
   "outputs": [
    {
     "name": "stdout",
     "output_type": "stream",
     "text": [
      "vna1 is already initialized\n",
      "mxg is already initialized\n",
      "Detecting a resonator within provided frequency range of the VNA (7525000000.0, 7545000000.0)                    \n",
      "Detected frequency is 7.53505 GHz, at 0.80 mU and 167.87 degrees\n"
     ]
    }
   ],
   "source": [
    "DD = DispersiveDecay(\"II-decay\", \"Xmons_Nb_bandage\",\n",
    "            vna_name=\"vna1\", ro_awg=ro_iqawg, q_awg=q_iqawg, q_lo_name='mxg', )\n",
    "vna_parameters = {\"bandwidth\":20, \"freq_limits\":res_limits, \"nop\":40, \"sweep_type\":\"LIN\", \"averages\":5}\n",
    "q_frequency = q_freq\n",
    "readout_delays = linspace(0, 10000,101)\n",
    "rabi_sequence_parameters = {\"awg_trigger_reaction_delay\":390, \"readout_duration\":500, \n",
    "                            \"repetition_period\":20000, \"pi_pulse_duration\":pi_pulse_duration}\n",
    "ro_awg_params =  {\"calibration\":ro_cal}\n",
    "q_awg_params = {\"calibration\":q_cal}\n",
    "DD.set_fixed_parameters(vna_parameters, ro_awg_params, q_awg_params, q_frequency, rabi_sequence_parameters)\n",
    "DD.set_swept_parameters(readout_delays)"
   ]
  },
  {
   "cell_type": "code",
   "execution_count": null,
   "metadata": {
    "collapsed": false
   },
   "outputs": [
    {
     "name": "stdout",
     "output_type": "stream",
     "text": [
      "Started at:  2017-08-22 12:00:34.376880\n",
      "Time left: 0 h 8 m 19.06 s, [readout_delay: 4.90e+03]: , average cycle time: 9.79 s        "
     ]
    }
   ],
   "source": [
    "dd_result = DD.launch()"
   ]
  },
  {
   "cell_type": "code",
   "execution_count": 125,
   "metadata": {
    "collapsed": false
   },
   "outputs": [],
   "source": [
    "dd_result.visualize();"
   ]
  },
  {
   "cell_type": "code",
   "execution_count": 126,
   "metadata": {
    "collapsed": false
   },
   "outputs": [],
   "source": [
    "dd_result.save()"
   ]
  },
  {
   "cell_type": "markdown",
   "metadata": {},
   "source": [
    "### Rabi&Ramsey from readout_time"
   ]
  },
  {
   "cell_type": "code",
   "execution_count": 221,
   "metadata": {
    "collapsed": false
   },
   "outputs": [
    {
     "name": "stdout",
     "output_type": "stream",
     "text": [
      "\n",
      " Delay set200.0 ns;\n",
      "vna1 is already initialized\n",
      "mxg is already initialized\n",
      "Detecting a resonator within provided frequency range of the VNA (7525000000.0, 7545010000.0)                    \n",
      "Detected frequency is 7.53506 GHz, at 3.88 mU and 171.94 degrees\n",
      "Started at:  2017-08-12 18:30:53.802292\n",
      "Time left: 0 h 0 m 0.0 s, [excitation_duration: 2.00e+03]: , average cycle time: 1.46 s         vna1 is already initialized\n",
      "mxg is already initialized\n",
      "Detecting a resonator within provided frequency range of the VNA (7525000000.0, 7545500000.0)                    \n",
      "Detected frequency is 7.53510 GHz, at 1.08 mU and -179.22 degrees\n",
      "Started at:  2017-08-12 18:35:54.379484\n",
      "Time left: 0 h 3 m 47.48 s, [ramsey_delay: 8.08e+01]: , average cycle time: 2.39 s       "
     ]
    },
    {
     "name": "stderr",
     "output_type": "stream",
     "text": [
      "C:\\ProgramData\\Anaconda3\\lib\\site-packages\\scipy\\optimize\\minpack.py:779: OptimizeWarning: Covariance of the parameters could not be estimated\n",
      "  category=OptimizeWarning)\n"
     ]
    },
    {
     "name": "stdout",
     "output_type": "stream",
     "text": [
      "Time left: 0 h 0 m 0.0 s, [ramsey_delay: 2.00e+03]: , average cycle time: 2.38 s         \n",
      " Delay set300.0 ns;\n",
      "vna1 is already initialized\n",
      "mxg is already initialized\n",
      "Detecting a resonator within provided frequency range of the VNA (7525000000.0, 7545010000.0)                    \n",
      "Detected frequency is 7.53506 GHz, at 0.87 mU and 174.43 degrees\n",
      "Started at:  2017-08-12 18:39:55.660284\n",
      "Time left: 0 h 0 m 0.0 s, [excitation_duration: 2.00e+03]: , average cycle time: 1.46 s         vna1 is already initialized\n",
      "mxg is already initialized\n",
      "Detecting a resonator within provided frequency range of the VNA (7525000000.0, 7545500000.0)                    \n",
      "Detected frequency is 7.53510 GHz, at 1.80 mU and 175.63 degrees\n",
      "Started at:  2017-08-12 18:44:56.256477\n",
      "Time left: 0 h 0 m 0.0 s, [ramsey_delay: 2.00e+03]: , average cycle time: 2.4 s          \n",
      " Delay set400.0 ns;\n",
      "vna1 is already initialized\n",
      "mxg is already initialized\n",
      "Detecting a resonator within provided frequency range of the VNA (7525000000.0, 7545010000.0)                    \n",
      "Detected frequency is 7.53516 GHz, at 1.38 mU and 175.99 degrees\n",
      "Started at:  2017-08-12 18:48:59.907413\n",
      "Time left: 0 h 0 m 0.0 s, [excitation_duration: 2.00e+03]: , average cycle time: 1.46 s         vna1 is already initialized\n",
      "mxg is already initialized\n",
      "Detecting a resonator within provided frequency range of the VNA (7525000000.0, 7545500000.0)                    \n",
      "Detected frequency is 7.53510 GHz, at 2.38 mU and 179.71 degrees\n",
      "Started at:  2017-08-12 18:53:59.190531\n",
      "Time left: 0 h 0 m 0.0 s, [ramsey_delay: 2.00e+03]: , average cycle time: 2.38 s         \n",
      " Delay set500.0 ns;\n",
      "vna1 is already initialized\n",
      "mxg is already initialized\n",
      "Detecting a resonator within provided frequency range of the VNA (7525000000.0, 7545010000.0)                    \n",
      "Detected frequency is 7.53516 GHz, at 1.87 mU and -177.73 degrees\n",
      "Started at:  2017-08-12 18:58:01.388384\n",
      "Time left: 0 h 0 m 0.0 s, [excitation_duration: 2.00e+03]: , average cycle time: 1.45 s         vna1 is already initialized\n",
      "mxg is already initialized\n",
      "Detecting a resonator within provided frequency range of the VNA (7525000000.0, 7545500000.0)                    \n",
      "Detected frequency is 7.53510 GHz, at 3.00 mU and 178.12 degrees\n",
      "Started at:  2017-08-12 19:03:00.560496\n",
      "Time left: 0 h 0 m 0.0 s, [ramsey_delay: 2.00e+03]: , average cycle time: 2.39 s         \n",
      " Delay set600.0 ns;\n",
      "vna1 is already initialized\n",
      "mxg is already initialized\n",
      "Detecting a resonator within provided frequency range of the VNA (7525000000.0, 7545010000.0)                    \n",
      "Detected frequency is 7.53506 GHz, at 2.28 mU and 163.67 degrees\n",
      "Started at:  2017-08-12 19:07:02.880356\n",
      "Time left: 0 h 0 m 0.0 s, [excitation_duration: 2.00e+03]: , average cycle time: 1.47 s         vna1 is already initialized\n",
      "mxg is already initialized\n",
      "Detecting a resonator within provided frequency range of the VNA (7525000000.0, 7545500000.0)                    \n",
      "Detected frequency is 7.53510 GHz, at 3.63 mU and 175.11 degrees\n",
      "Started at:  2017-08-12 19:12:05.282652\n",
      "Time left: 0 h 0 m 0.0 s, [ramsey_delay: 2.00e+03]: , average cycle time: 2.4 s          \n",
      " Delay set700.0 ns;\n",
      "vna1 is already initialized\n",
      "mxg is already initialized\n",
      "Detecting a resonator within provided frequency range of the VNA (7525000000.0, 7545010000.0)                    \n",
      "Detected frequency is 7.53506 GHz, at 2.85 mU and 170.52 degrees\n",
      "Started at:  2017-08-12 19:16:08.957590\n",
      "Time left: 0 h 0 m 0.0 s, [excitation_duration: 2.00e+03]: , average cycle time: 1.47 s         vna1 is already initialized\n",
      "mxg is already initialized\n",
      "Detecting a resonator within provided frequency range of the VNA (7525000000.0, 7545500000.0)                    \n",
      "Detected frequency is 7.53510 GHz, at 4.21 mU and -178.12 degrees\n",
      "Started at:  2017-08-12 19:21:10.973864\n",
      "Time left: 0 h 0 m 0.0 s, [ramsey_delay: 2.00e+03]: , average cycle time: 2.38 s         \n",
      " Delay set800.0 ns;\n",
      "vna1 is already initialized\n",
      "mxg is already initialized\n",
      "Detecting a resonator within provided frequency range of the VNA (7525000000.0, 7545010000.0)                    \n",
      "Detected frequency is 7.53506 GHz, at 3.53 mU and 167.10 degrees\n",
      "Started at:  2017-08-12 19:25:12.906702\n",
      "Time left: 0 h 0 m 0.0 s, [excitation_duration: 2.00e+03]: , average cycle time: 1.46 s         vna1 is already initialized\n",
      "mxg is already initialized\n",
      "Detecting a resonator within provided frequency range of the VNA (7525000000.0, 7545500000.0)                    \n",
      "Detected frequency is 7.53510 GHz, at 4.81 mU and 174.06 degrees\n",
      "Started at:  2017-08-12 19:30:13.301884\n",
      "Time left: 0 h 0 m 0.0 s, [ramsey_delay: 2.00e+03]: , average cycle time: 2.38 s         \n",
      " Delay set900.0 ns;\n",
      "vna1 is already initialized\n",
      "mxg is already initialized\n",
      "Detecting a resonator within provided frequency range of the VNA (7525000000.0, 7545010000.0)                    \n",
      "Detected frequency is 7.53516 GHz, at 3.80 mU and -178.21 degrees\n",
      "Started at:  2017-08-12 19:34:15.037710\n",
      "Time left: 0 h 0 m 0.0 s, [excitation_duration: 2.00e+03]: , average cycle time: 1.46 s         vna1 is already initialized\n",
      "mxg is already initialized\n",
      "Detecting a resonator within provided frequency range of the VNA (7525000000.0, 7545500000.0)                    \n",
      "Detected frequency is 7.53510 GHz, at 5.45 mU and 179.39 degrees\n",
      "Started at:  2017-08-12 19:39:16.607959\n",
      "Time left: 0 h 0 m 0.0 s, [ramsey_delay: 2.00e+03]: , average cycle time: 2.39 s         \n",
      " Delay set1000.0 ns;\n",
      "vna1 is already initialized\n",
      "mxg is already initialized\n",
      "Detecting a resonator within provided frequency range of the VNA (7525000000.0, 7545010000.0)                    \n",
      "Detected frequency is 7.53506 GHz, at 4.53 mU and 171.04 degrees\n",
      "Started at:  2017-08-12 19:43:20.370901\n",
      "Time left: 0 h 0 m 0.0 s, [excitation_duration: 2.00e+03]: , average cycle time: 1.46 s         vna1 is already initialized\n",
      "mxg is already initialized\n",
      "Detecting a resonator within provided frequency range of the VNA (7525000000.0, 7545500000.0)                    \n",
      "Detected frequency is 7.53510 GHz, at 6.10 mU and 173.90 degrees\n",
      "Started at:  2017-08-12 19:48:20.765083\n",
      "Time left: 0 h 0 m 0.0 s, [ramsey_delay: 2.00e+03]: , average cycle time: 2.39 s         \n",
      " Delay set1100.0 ns;\n",
      "vna1 is already initialized\n",
      "mxg is already initialized\n",
      "Detecting a resonator within provided frequency range of the VNA (7525000000.0, 7545010000.0)                    \n",
      "Detected frequency is 7.53506 GHz, at 4.89 mU and 166.69 degrees\n",
      "Started at:  2017-08-12 19:52:23.034940\n",
      "Time left: 0 h 0 m 0.0 s, [excitation_duration: 2.00e+03]: , average cycle time: 1.46 s         vna1 is already initialized\n",
      "mxg is already initialized\n",
      "Detecting a resonator within provided frequency range of the VNA (7525000000.0, 7545500000.0)                    \n",
      "Detected frequency is 7.53510 GHz, at 6.67 mU and 177.69 degrees\n",
      "Started at:  2017-08-12 19:57:23.980153\n",
      "Time left: 0 h 0 m 0.0 s, [ramsey_delay: 2.00e+03]: , average cycle time: 2.38 s         \n",
      " Delay set1200.0 ns;\n",
      "vna1 is already initialized\n",
      "mxg is already initialized\n",
      "Detecting a resonator within provided frequency range of the VNA (7525000000.0, 7545010000.0)                    \n",
      "Detected frequency is 7.53516 GHz, at 5.16 mU and -170.58 degrees\n",
      "Started at:  2017-08-12 20:01:26.113002\n",
      "Time left: 0 h 0 m 0.0 s, [excitation_duration: 2.00e+03]: , average cycle time: 1.46 s         vna1 is already initialized\n",
      "mxg is already initialized\n",
      "Detecting a resonator within provided frequency range of the VNA (7525000000.0, 7545500000.0)                    \n",
      "Detected frequency is 7.53510 GHz, at 7.25 mU and 176.29 degrees\n",
      "Started at:  2017-08-12 20:06:25.796143\n",
      "Time left: 0 h 0 m 0.0 s, [ramsey_delay: 2.00e+03]: , average cycle time: 2.4 s          \n",
      " Delay set1300.0 ns;\n",
      "vna1 is already initialized\n",
      "mxg is already initialized\n",
      "Detecting a resonator within provided frequency range of the VNA (7525000000.0, 7545010000.0)                    \n",
      "Detected frequency is 7.53506 GHz, at 5.80 mU and 167.14 degrees\n",
      "Started at:  2017-08-12 20:10:29.210066\n",
      "Time left: 0 h 0 m 0.0 s, [excitation_duration: 2.00e+03]: , average cycle time: 1.46 s         vna1 is already initialized\n",
      "mxg is already initialized\n",
      "Detecting a resonator within provided frequency range of the VNA (7525000000.0, 7545500000.0)                    \n",
      "Detected frequency is 7.53510 GHz, at 7.87 mU and 178.77 degrees\n",
      "Started at:  2017-08-12 20:15:30.259285\n",
      "Time left: 0 h 0 m 0.0 s, [ramsey_delay: 2.00e+03]: , average cycle time: 2.42 s         \n",
      " Delay set1400.0 ns;\n",
      "vna1 is already initialized\n",
      "mxg is already initialized\n",
      "Detecting a resonator within provided frequency range of the VNA (7525000000.0, 7545010000.0)                    \n",
      "Detected frequency is 7.53506 GHz, at 6.14 mU and 172.58 degrees\n",
      "Started at:  2017-08-12 20:19:36.129348\n",
      "Time left: 0 h 0 m 0.0 s, [excitation_duration: 2.00e+03]: , average cycle time: 1.46 s         vna1 is already initialized\n",
      "mxg is already initialized\n",
      "Detecting a resonator within provided frequency range of the VNA (7525000000.0, 7545500000.0)                    \n",
      "Detected frequency is 7.53510 GHz, at 8.47 mU and 178.15 degrees\n",
      "Started at:  2017-08-12 20:24:36.585533\n",
      "Time left: 0 h 0 m 0.0 s, [ramsey_delay: 2.00e+03]: , average cycle time: 2.4 s          "
     ]
    }
   ],
   "source": [
    "for ro_delay in ro_delays:\n",
    "    print('\\n Delay set'+str(ro_delay)+' ns;')\n",
    "    # measure and save Rabi\n",
    "    DRO = DispersiveRabiOscillations(\"I-rabi-with_\"+str(ro_delay)+\"_ns_readout\", \"Xmons_Nb_bandage\",\n",
    "            vna_name=\"vna1\", ro_awg=ro_iqawg, q_awg=q_iqawg, q_lo_name='mxg')\n",
    "    vna_parameters = {\"bandwidth\":20, \"freq_limits\":(7.525e9, 7.54501e9), \"nop\":20, \"sweep_type\":\"LIN\", \"averages\":1}\n",
    "    exc_frequency = q_freq\n",
    "    excitation_durations = linspace(0,2000, 201)\n",
    "    rabi_sequence_parameters = {\"awg_trigger_reaction_delay\":390, \"readout_duration\":ro_delay, \"repetition_period\":8000}\n",
    "    ro_awg_params =  {\"calibration\":ro_cal}\n",
    "    q_awg_params = {\"calibration\":q_cal}\n",
    "    DRO.set_fixed_parameters(vna_parameters, ro_awg_params, q_awg_params, exc_frequency, rabi_sequence_parameters)\n",
    "    DRO.set_swept_parameters(excitation_durations)\n",
    "    \n",
    "    rabi_result = DRO.launch()\n",
    "    \n",
    "    rabi_result.save()\n",
    "    \n",
    "    pi_pulse_duration = rabi_result.get_pi_pulse_duration()*1e3\n",
    "    # measure and save Ramsey\n",
    "    DR = DispersiveRamsey(\"I-ramsey-with_\"+str(ro_delay)+\"_ns_readout\", \"Xmons_Nb_bandage\", vna_name=\"vna1\", ro_awg=ro_iqawg, \n",
    "                                                                                  q_awg=q_iqawg, q_lo_name='mxg')\n",
    "    vna_parameters = {\"bandwidth\":10, \"freq_limits\":(7525e6, 7545.5e6), \"nop\":10, \"averages\":2, \"sweep_type\":\"LIN\"}\n",
    "    ramsey_delays = linspace(0, 2000, 100)\n",
    "    exc_frequency = q_freq+5e6\n",
    "    rabi_sequence_parameters = {\"awg_trigger_reaction_delay\":390, \"readout_duration\":ro_delay, \n",
    "                            \"repetition_period\":10000, \"half_pi_pulse_duration\":pi_pulse_duration/2}\n",
    "    ro_awg_params =  {\"calibration\":ro_cal}\n",
    "    q_awg_params = {\"calibration\":q_cal}\n",
    "    DR.set_fixed_parameters(vna_parameters, ro_awg_params, q_awg_params, exc_frequency, rabi_sequence_parameters)\n",
    "    DR.set_swept_parameters(ramsey_delays)\n",
    "    \n",
    "    ramsey_result = DR.launch()\n",
    "    \n",
    "    ramsey_result.save()"
   ]
  },
  {
   "cell_type": "markdown",
   "metadata": {
    "collapsed": true
   },
   "source": [
    "### Ramsey"
   ]
  },
  {
   "cell_type": "code",
   "execution_count": 171,
   "metadata": {
    "collapsed": true
   },
   "outputs": [],
   "source": [
    "# reload(lib2.IQPulseSequence)\n",
    "# reload(lib2.VNATimeResolvedDispersiveMeasurement)\n",
    "# reload(lib2.VNATimeResolvedDispersiveMeasurement1D)\n",
    "reload(lib2.DispersiveRamsey)\n",
    "from lib2.DispersiveRamsey import *"
   ]
  },
  {
   "cell_type": "code",
   "execution_count": 172,
   "metadata": {
    "collapsed": false
   },
   "outputs": [
    {
     "name": "stdout",
     "output_type": "stream",
     "text": [
      "vna1 is already initialized\n",
      "mxg is already initialized\n",
      "Detecting a resonator within provided frequency range of the VNA (7525000000.0, 7545000000.0)                    \n",
      "Detected frequency is 7.53505 GHz, at 3.45 mU and 169.09 degrees\n"
     ]
    }
   ],
   "source": [
    "DR = DispersiveRamsey(\"I-ramsey\", \"Xmons_Nb_bandage\", vna_name=\"vna1\", ro_awg=ro_iqawg, \n",
    "                                                                                  q_awg=q_iqawg, q_lo_name='mxg')\n",
    "vna_parameters = {\"bandwidth\":10, \"freq_limits\":res_limits, \"nop\":1, \"averages\":2, \"sweep_type\":\"LIN\"}\n",
    "ramsey_delays = linspace(0, 1000, 201)\n",
    "exc_frequency = q_freq-10e6\n",
    "rabi_sequence_parameters = {\"awg_trigger_reaction_delay\":390, \"readout_duration\":700, \n",
    "                            \"repetition_period\":10000, \"half_pi_pulse_duration\":pi_pulse_duration/2}\n",
    "ro_awg_params =  {\"calibration\":ro_cal}\n",
    "q_awg_params = {\"calibration\":q_cal}\n",
    "DR.set_fixed_parameters(vna_parameters, ro_awg_params, q_awg_params, exc_frequency, rabi_sequence_parameters)\n",
    "DR.set_swept_parameters(ramsey_delays)"
   ]
  },
  {
   "cell_type": "code",
   "execution_count": 173,
   "metadata": {
    "collapsed": false
   },
   "outputs": [
    {
     "name": "stdout",
     "output_type": "stream",
     "text": [
      "Started at:  2017-08-21 18:53:33.508368\n",
      "Time left: 0 h 2 m 27.07 s, [ramsey_delay: 2.50e+01]: , average cycle time: 0.75 s       "
     ]
    },
    {
     "name": "stderr",
     "output_type": "stream",
     "text": [
      "C:\\ProgramData\\Anaconda3\\lib\\site-packages\\scipy\\optimize\\minpack.py:779: OptimizeWarning: Covariance of the parameters could not be estimated\n",
      "  category=OptimizeWarning)\n"
     ]
    },
    {
     "name": "stdout",
     "output_type": "stream",
     "text": [
      "Time left: 0 h 0 m 0.0 s, [ramsey_delay: 1.00e+03]: , average cycle time: 0.77 s         "
     ]
    }
   ],
   "source": [
    "dr_result = DR.launch()"
   ]
  },
  {
   "cell_type": "code",
   "execution_count": 139,
   "metadata": {
    "collapsed": true
   },
   "outputs": [],
   "source": [
    "dr_result.visualize();"
   ]
  },
  {
   "cell_type": "code",
   "execution_count": 135,
   "metadata": {
    "collapsed": true
   },
   "outputs": [],
   "source": [
    "dr_result.save()"
   ]
  },
  {
   "cell_type": "markdown",
   "metadata": {},
   "source": [
    "### Echo"
   ]
  },
  {
   "cell_type": "code",
   "execution_count": 234,
   "metadata": {
    "collapsed": true
   },
   "outputs": [],
   "source": [
    "# reload(lib2.VNATimeResolvedMeasurement)\n",
    "# from lib2.VNATimeResolvedMeasurement import *\n",
    "# reload(lib2.DispersiveHahnEcho)\n",
    "from lib2.DispersiveHahnEcho import *"
   ]
  },
  {
   "cell_type": "code",
   "execution_count": 245,
   "metadata": {
    "collapsed": false
   },
   "outputs": [
    {
     "name": "stdout",
     "output_type": "stream",
     "text": [
      "vna1 is already initialized\n",
      "mxg is already initialized\n",
      "Detecting a resonator within provided frequency range of the VNA (7685000000.0, 7700000000.0)                    \n",
      "Detected frequency is 7.69352 GHz, at 4.17 mU and -135.07 degrees\n"
     ]
    }
   ],
   "source": [
    "DHN = DispersiveHahnEcho(\"III-hahn-echo\", \"Xmons_Nb_bandage\",\n",
    "            vna_name=\"vna1\", ro_awg=ro_iqawg, q_awg=q_iqawg, q_lo_name='mxg')\n",
    "vna_parameters = {\"bandwidth\":10, \"freq_limits\":res_limits, \"nop\":20, \"sweep_type\": \"LIN\", \"averages\":2}\n",
    "q_frequency = q_freq\n",
    "echo_delays = linspace(0, 7000, 101)\n",
    "sequence_parameters = {\"awg_trigger_reaction_delay\":390, \"readout_duration\":500, \n",
    "                            \"repetition_period\":10000, \"half_pi_pulse_duration\":pi_pulse_duration/2}\n",
    "ro_awg_params =  {\"calibration\":ro_cal}\n",
    "q_awg_params = {\"calibration\":q_cal}\n",
    "DHN.set_fixed_parameters(vna_parameters, ro_awg_params, q_awg_params, q_frequency, sequence_parameters)\n",
    "DHN.set_swept_parameters(echo_delays)"
   ]
  },
  {
   "cell_type": "code",
   "execution_count": 246,
   "metadata": {
    "collapsed": false
   },
   "outputs": [
    {
     "name": "stdout",
     "output_type": "stream",
     "text": [
      "Started at:  2017-08-15 15:45:53.871079\n",
      "Time left: 0 h 0 m 0.0 s, [echo_delay: 5.00e+03]: , average cycle time: 5.06 s         "
     ]
    }
   ],
   "source": [
    "dhn_result = DHN.launch()"
   ]
  },
  {
   "cell_type": "code",
   "execution_count": 240,
   "metadata": {
    "collapsed": true
   },
   "outputs": [],
   "source": [
    "dhn_result.visualize();"
   ]
  },
  {
   "cell_type": "code",
   "execution_count": 247,
   "metadata": {
    "collapsed": true
   },
   "outputs": [],
   "source": [
    "dhn_result.save()"
   ]
  },
  {
   "cell_type": "code",
   "execution_count": null,
   "metadata": {
    "collapsed": true
   },
   "outputs": [],
   "source": [
    "MeasurementResult.load(\"Xmon Al BMSTU S444 2\", \"VI-hahn-echo\").visualize()"
   ]
  },
  {
   "cell_type": "markdown",
   "metadata": {},
   "source": [
    "### Ramsey fringes"
   ]
  },
  {
   "cell_type": "code",
   "execution_count": 150,
   "metadata": {
    "collapsed": true
   },
   "outputs": [],
   "source": [
    "# reload(lib2.Measurement)\n",
    "# reload(drivers.KeysightAWG)\n",
    "# reload(lib2.VNATimeResolvedDispersiveMeasurement)\n",
    "# reload(lib2.VNATimeResolvedDispersiveMeasurement1D)\n",
    "# reload(lib2.DispersiveRamseyFringes)\n",
    "from lib2.DispersiveRamseyFringes import *"
   ]
  },
  {
   "cell_type": "code",
   "execution_count": null,
   "metadata": {
    "collapsed": true
   },
   "outputs": [],
   "source": [
    "q_freq = q_freq-5e6"
   ]
  },
  {
   "cell_type": "code",
   "execution_count": 149,
   "metadata": {
    "collapsed": false
   },
   "outputs": [
    {
     "name": "stdout",
     "output_type": "stream",
     "text": [
      "vna1 is already initialized\n",
      "mxg is already initialized\n",
      "Detecting a resonator within provided frequency range of the VNA (7770000000.0, 7790000000.0)                    \n",
      "Detected frequency is 7.77905 GHz, at 5.94 mU and 127.23 degrees\n"
     ]
    }
   ],
   "source": [
    "DRF = DispersiveRamseyFringes(\"IV-ramsey-fringes\", \"Xmons_Nb_bandage\",\n",
    "                                      vna_name=\"vna1\", ro_awg=ro_iqawg, q_awg=q_iqawg, q_lo_name='mxg')\n",
    "vna_parameters = {\"bandwidth\":10, \"freq_limits\":res_limits, \"nop\":2, \"sweep_type\":\"LIN\", \"averages\":2}\n",
    "\n",
    "excitation_freqs = linspace(q_freq-5e6, q_freq+5e6, 101)\n",
    "ramsey_delays = linspace(10, 5000, 200)\n",
    "sequence_parameters = {\"awg_trigger_reaction_delay\":0, \"readout_duration\":800, \n",
    "                            \"repetition_period\":20000, \"half_pi_pulse_duration\":pi_pulse_duration/2}\n",
    "ro_awg_params =  {\"calibration\":ro_cal}\n",
    "q_awg_params = {\"calibration\":q_cal}\n",
    "DRF.set_fixed_parameters(vna_parameters, ro_awg_params, q_awg_params, sequence_parameters)\n",
    "DRF.set_swept_parameters(ramsey_delays, excitation_freqs)"
   ]
  },
  {
   "cell_type": "code",
   "execution_count": 150,
   "metadata": {
    "collapsed": false
   },
   "outputs": [
    {
     "name": "stdout",
     "output_type": "stream",
     "text": [
      "Started at:  2017-08-18 08:56:13.936580\n",
      "Time left: 2 h 22 m 32.85 s, [ramsey_delay: 6.02e+01, excitation_frequency: 7.30e+09]: , average cycle time: 0.43 s        "
     ]
    }
   ],
   "source": [
    "drf_result = DRF.launch()"
   ]
  },
  {
   "cell_type": "code",
   "execution_count": 146,
   "metadata": {
    "collapsed": false
   },
   "outputs": [
    {
     "data": {
      "text/plain": [
       "(<matplotlib.figure.Figure at 0xd251550>,\n",
       " array([<matplotlib.axes._subplots.AxesSubplot object at 0x000000000C492EB8>,\n",
       "        <matplotlib.axes._subplots.AxesSubplot object at 0x000000000C505B00>,\n",
       "        <matplotlib.axes._subplots.AxesSubplot object at 0x000000000A9956A0>,\n",
       "        <matplotlib.axes._subplots.AxesSubplot object at 0x0000000011A08278>], dtype=object),\n",
       " [<matplotlib.axes._axes.Axes at 0x119eec50>,\n",
       "  <matplotlib.axes._axes.Axes at 0xbec9fd0>,\n",
       "  <matplotlib.axes._axes.Axes at 0xe8e0e80>,\n",
       "  <matplotlib.axes._axes.Axes at 0x118355c0>])"
      ]
     },
     "execution_count": 146,
     "metadata": {},
     "output_type": "execute_result"
    }
   ],
   "source": [
    "drf_result.visualize()"
   ]
  },
  {
   "cell_type": "code",
   "execution_count": 232,
   "metadata": {
    "collapsed": true
   },
   "outputs": [],
   "source": [
    "drf_result.save()"
   ]
  },
  {
   "cell_type": "markdown",
   "metadata": {},
   "source": [
    "### Rabi shevrons"
   ]
  },
  {
   "cell_type": "code",
   "execution_count": 136,
   "metadata": {
    "collapsed": false
   },
   "outputs": [],
   "source": [
    "# reload(lib2.VNATimeResolvedDispersiveMeasurement)\n",
    "# reload(lib2.VNATimeResolvedDispersiveMeasurement2D)\n",
    "#reload(lib2.DispersiveRabiChevrons)\n",
    "from lib2.DispersiveRabiChevrons import *"
   ]
  },
  {
   "cell_type": "code",
   "execution_count": 147,
   "metadata": {
    "collapsed": false
   },
   "outputs": [
    {
     "name": "stdout",
     "output_type": "stream",
     "text": [
      "vna1 is already initialized\n",
      "mxg is already initialized\n",
      "Detecting a resonator within provided frequency range of the VNA (7685000000.0, 7700000000.0)                    \n",
      "Detected frequency is 7.69352 GHz, at 9.53 mU and -135.94 degrees\n"
     ]
    }
   ],
   "source": [
    "DRC = DispersiveRabiChevrons(\"I-rabi-shevrons\", \"Xmons_Nb_bandage\",\n",
    "                                      vna_name=\"vna1\", ro_awg=ro_iqawg, q_awg=q_iqawg, q_lo_name='mxg')\n",
    "vna_parameters = {\"bandwidth\":10, \"freq_limits\":res_limits, \"nop\":4, \"averages\":2, \"sweep_type\": \"LIN\"}\n",
    "q_frequency = 6.512e9\n",
    "excitation_freqs = linspace(q_frequency-10e6, q_frequency+10e6, 51)\n",
    "rabi_delays = linspace(0, 2000, 201)\n",
    "sequence_parameters = {\"awg_trigger_reaction_delay\":390, \"readout_duration\":800, \"repetition_period\":10000}\n",
    "ro_awg_params =  {\"calibration\":ro_cal}\n",
    "q_awg_params = {\"calibration\":q_cal}\n",
    "DRC.set_fixed_parameters(vna_parameters, ro_awg_params, q_awg_params, sequence_parameters)\n",
    "DRC.set_swept_parameters(rabi_delays, excitation_freqs)"
   ]
  },
  {
   "cell_type": "code",
   "execution_count": 148,
   "metadata": {
    "collapsed": false,
    "scrolled": true
   },
   "outputs": [
    {
     "name": "stdout",
     "output_type": "stream",
     "text": [
      "Started at:  2017-08-15 10:01:47.133154\n",
      "Time left: 0 h 0 m 0.0 s, [excitation_duration: 2.00e+03, excitation_frequency: 6.52e+09]: , average cycle time: 0.8 s           "
     ]
    }
   ],
   "source": [
    "drc_result = DRC.launch()"
   ]
  },
  {
   "cell_type": "code",
   "execution_count": 218,
   "metadata": {
    "collapsed": true
   },
   "outputs": [],
   "source": [
    "drc_result.visualize();"
   ]
  },
  {
   "cell_type": "code",
   "execution_count": 219,
   "metadata": {
    "collapsed": true
   },
   "outputs": [],
   "source": [
    "drc_result.save()"
   ]
  },
  {
   "cell_type": "markdown",
   "metadata": {},
   "source": [
    "### Dispersive shift measurement"
   ]
  },
  {
   "cell_type": "code",
   "execution_count": 61,
   "metadata": {
    "collapsed": false
   },
   "outputs": [],
   "source": [
    "#reload(lib2.VNATimeResolvedDispersiveMeasurement)\n",
    "#reload(lib2.VNATimeResolvedDispersiveMeasurement2D)\n",
    "#reload(lib2.TimeResolvedDispersiveShiftSpectroscopy)\n",
    "from lib2.TimeResolvedDispersiveShiftSpectroscopy import *"
   ]
  },
  {
   "cell_type": "code",
   "execution_count": 71,
   "metadata": {
    "collapsed": true
   },
   "outputs": [],
   "source": [
    "res_limits = (7.605e9, 7.630e9)"
   ]
  },
  {
   "cell_type": "code",
   "execution_count": 74,
   "metadata": {
    "collapsed": false
   },
   "outputs": [
    {
     "name": "stdout",
     "output_type": "stream",
     "text": [
      "vna1 is already initialized\n",
      "mxg is already initialized\n"
     ]
    }
   ],
   "source": [
    "DSS = TimeResolvedDispersiveShiftSpectroscopy(\"II-rabi-dispersive-shift-exact-q-freq\", \"Xmons_Nb_bandage\",\n",
    "                                      vna_name=\"vna1\", ro_awg=ro_iqawg, q_awg=q_iqawg, q_lo_name='mxg')\n",
    "vna_parameters = {\"bandwidth\":20, \"freq_limits\":res_limits, \"nop\":40, \"sweep_type\":\"LIN\",\"averages\":1}\n",
    "exc_frequency = q_freq\n",
    "excitation_durations = linspace(0, 100, 101)\n",
    "sequence_parameters = {\"awg_trigger_reaction_delay\":390, \"readout_duration\":250, \"repetition_period\":10000}\n",
    "ro_awg_params =  {\"calibration\":ro_cal}\n",
    "q_awg_params = {\"calibration\":q_cal}\n",
    "DSS.set_fixed_parameters(vna_parameters, exc_frequency, ro_awg_params, q_awg_params, sequence_parameters)\n",
    "DSS.set_swept_parameters(excitation_durations)"
   ]
  },
  {
   "cell_type": "code",
   "execution_count": 75,
   "metadata": {
    "collapsed": false
   },
   "outputs": [
    {
     "name": "stdout",
     "output_type": "stream",
     "text": [
      "Started at:  2017-08-14 18:23:51.160352\n",
      "Time left: 0 h 0 m 0.0 s, [excitation_duration: 1.00e+02]: , average cycle time: 3.28 s         "
     ]
    }
   ],
   "source": [
    "dss_result = DSS.launch()"
   ]
  },
  {
   "cell_type": "code",
   "execution_count": 70,
   "metadata": {
    "collapsed": true
   },
   "outputs": [],
   "source": [
    "dss_result.visualize();"
   ]
  },
  {
   "cell_type": "code",
   "execution_count": 69,
   "metadata": {
    "collapsed": true
   },
   "outputs": [],
   "source": [
    "dss_result.save()"
   ]
  },
  {
   "cell_type": "code",
   "execution_count": null,
   "metadata": {
    "collapsed": true
   },
   "outputs": [],
   "source": [
    "MeasurementResult.load(\"Xmon Al BMSTU S444 2\", \"VI-rabi-dispersive-shift\").visualize();"
   ]
  },
  {
   "cell_type": "markdown",
   "metadata": {},
   "source": [
    "______________________________________________"
   ]
  },
  {
   "cell_type": "markdown",
   "metadata": {},
   "source": [
    "# Pulse optimization"
   ]
  },
  {
   "cell_type": "markdown",
   "metadata": {},
   "source": [
    "## Amplified phase error"
   ]
  },
  {
   "cell_type": "code",
   "execution_count": 195,
   "metadata": {
    "collapsed": true
   },
   "outputs": [],
   "source": [
    "# reload(lib2.VNATimeResolvedDispersiveMeasurement)\n",
    "# reload(lib2.VNATimeResolvedDispersiveMeasurement1D)\n",
    "reload(lib2.DispersiveAPE)\n",
    "from lib2.DispersiveAPE import *"
   ]
  },
  {
   "cell_type": "markdown",
   "metadata": {},
   "source": [
    "### Rectangular pulses"
   ]
  },
  {
   "cell_type": "code",
   "execution_count": 204,
   "metadata": {
    "collapsed": false,
    "scrolled": true
   },
   "outputs": [
    {
     "name": "stdout",
     "output_type": "stream",
     "text": [
      "0\n",
      "vna1 is already initialized\n",
      "mxg is already initialized\n",
      "Detecting a resonator within provided frequency range of the VNA (7525000000.0, 7545000000.0)                    \n",
      "Detected frequency is 7.53505 GHz, at 2.04 mU and 160.62 degrees\n",
      "Started at:  2017-08-22 10:31:41.952883\n",
      "Time left: 0 h 0 m 0.0 s, [ramsey_angle: 1.26e+01]: , average cycle time: 1.65 s          2\n",
      "vna1 is already initialized\n",
      "mxg is already initialized\n",
      "Detecting a resonator within provided frequency range of the VNA (7525000000.0, 7545000000.0)                    \n",
      "Detected frequency is 7.53505 GHz, at 2.13 mU and 164.37 degrees\n",
      "Started at:  2017-08-22 10:34:34.873773\n",
      "Time left: 0 h 0 m 0.0 s, [ramsey_angle: 1.26e+01]: , average cycle time: 1.93 s          4\n",
      "vna1 is already initialized\n",
      "mxg is already initialized\n",
      "Detecting a resonator within provided frequency range of the VNA (7525000000.0, 7545000000.0)                    \n",
      "Detected frequency is 7.53505 GHz, at 2.02 mU and 168.73 degrees\n",
      "Started at:  2017-08-22 10:37:55.845268\n",
      "Time left: 0 h 0 m 0.0 s, [ramsey_angle: 1.26e+01]: , average cycle time: 2.45 s          6\n",
      "vna1 is already initialized\n",
      "mxg is already initialized\n",
      "Detecting a resonator within provided frequency range of the VNA (7525000000.0, 7545000000.0)                    \n",
      "Detected frequency is 7.53505 GHz, at 2.13 mU and 164.88 degrees\n",
      "Started at:  2017-08-22 10:42:08.990747\n",
      "Time left: 0 h 0 m 0.0 s, [ramsey_angle: 1.26e+01]: , average cycle time: 4.06 s          8\n",
      "vna1 is already initialized\n",
      "mxg is already initialized\n",
      "Detecting a resonator within provided frequency range of the VNA (7525000000.0, 7545000000.0)                    \n",
      "Detected frequency is 7.53515 GHz, at 2.12 mU and 173.97 degrees\n",
      "Started at:  2017-08-22 10:49:03.326446\n",
      "Time left: 0 h 0 m 0.0 s, [ramsey_angle: 1.26e+01]: , average cycle time: 7.24 s           10\n",
      "vna1 is already initialized\n",
      "mxg is already initialized\n",
      "Detecting a resonator within provided frequency range of the VNA (7525000000.0, 7545000000.0)                    \n",
      "Detected frequency is 7.53515 GHz, at 2.16 mU and 179.20 degrees\n",
      "Started at:  2017-08-22 11:01:16.031354\n",
      "Time left: 0 h 0 m 0.0 s, [ramsey_angle: 1.26e+01]: , average cycle time: 14.67 s           "
     ]
    }
   ],
   "source": [
    "for i in range(0, 11, 2):\n",
    "    print(i)\n",
    "    DAPE = DispersiveAPE(\"II-APE-%d-pseudo-I-pulses\"%i, \"Xmons_Nb_bandage\", vna_name=\"vna1\", ro_awg=ro_iqawg, \n",
    "                                                q_awg=q_iqawg, q_lo_name='mxg')\n",
    "    vna_parameters = {\"bandwidth\":10, \"freq_limits\":res_limits, \"nop\":10**(1.7*i/10), \"averages\":3, \"sweep_type\": \"LIN\"}\n",
    "    ramsey_angles = linspace(-4*pi, 4*pi, 100)\n",
    "    exc_frequency = q_freq\n",
    "    ro_awg_params =  {\"calibration\":ro_cal}\n",
    "    q_awg_params = {\"calibration\":q_cal}\n",
    "    APE_sequence_parameters = {\"awg_trigger_reaction_delay\":400, \"readout_duration\":500, \n",
    "                            \"repetition_period\":10000}\n",
    "    APE_sequence_parameters.update({\"half_pi_pulse_duration\":pi_pulse_duration/2, \n",
    "                                    \"pseudo_I_pulses_count\":i, \"modulating_window\":'rectangular',\n",
    "                                    \"excitation_amplitude\":1, \"padding\":10})\n",
    "    DAPE.set_fixed_parameters(vna_parameters, ro_awg_params, q_awg_params, exc_frequency, APE_sequence_parameters)\n",
    "    DAPE.set_swept_parameters(ramsey_angles)\n",
    "    dape_result = DAPE.launch()\n",
    "    dape_result.save()"
   ]
  },
  {
   "cell_type": "code",
   "execution_count": null,
   "metadata": {
    "collapsed": false
   },
   "outputs": [],
   "source": [
    "dape_result = DAPE.launch()"
   ]
  },
  {
   "cell_type": "code",
   "execution_count": null,
   "metadata": {
    "collapsed": true
   },
   "outputs": [],
   "source": [
    "dape_result.visualize();"
   ]
  },
  {
   "cell_type": "code",
   "execution_count": null,
   "metadata": {
    "collapsed": true
   },
   "outputs": [],
   "source": [
    "dape_result.save()"
   ]
  },
  {
   "cell_type": "markdown",
   "metadata": {},
   "source": [
    "### Gaussian pulses"
   ]
  },
  {
   "cell_type": "markdown",
   "metadata": {},
   "source": [
    "#### Rabi"
   ]
  },
  {
   "cell_type": "code",
   "execution_count": null,
   "metadata": {
    "collapsed": true
   },
   "outputs": [],
   "source": [
    "# reload(lib2.VNATimeResolvedDispersiveMeasurement)\n",
    "# reload(lib2.VNATimeResolvedDispersiveMeasurement1D)\n",
    "# reload(lib2.DispersivePiPulseAmplitudeCalibration)\n",
    "from lib2.DispersivePiPulseAmplitudeCalibration import *"
   ]
  },
  {
   "cell_type": "code",
   "execution_count": null,
   "metadata": {
    "collapsed": false
   },
   "outputs": [],
   "source": [
    "DPPAC = DispersivePiPulseAmplitudeCalibration(\"VI-pi-amp-cal\", \"Xmon Al BMSTU S444 2\",\n",
    "            vna_name=\"vna2\", ro_awg_name=\"awg3\", q_awg_name=\"awg2\", q_lo_name='mxg')\n",
    "vna_parameters = {\"bandwidth\":10, \"freq_limits\":(7040e6, 7052.5e6), \"nop\":10, \"averages\":2}\n",
    "exc_frequency = q_freq\n",
    "excitation_amps = linspace(0, 3, 20)\n",
    "sequence_parameters = {\"awg_trigger_reaction_delay\":400, \"readout_duration\":1000,\n",
    "                            \"repetition_period\":8000, \"excitation_duration\":50, \"modulating_window\":\"gaussian\"}\n",
    "ro_awg_params =  {\"calibration\":ro_cal}\n",
    "q_awg_params = {\"calibration\":q_cal}\n",
    "DPPAC.set_fixed_parameters(vna_parameters, ro_awg_params, q_awg_params, exc_frequency, sequence_parameters)\n",
    "DPPAC.set_swept_parameters(excitation_amps)"
   ]
  },
  {
   "cell_type": "code",
   "execution_count": null,
   "metadata": {
    "collapsed": false
   },
   "outputs": [],
   "source": [
    "dppac_result = DPPAC.launch()"
   ]
  },
  {
   "cell_type": "code",
   "execution_count": null,
   "metadata": {
    "collapsed": true
   },
   "outputs": [],
   "source": [
    "dppac_result.visualize();"
   ]
  },
  {
   "cell_type": "code",
   "execution_count": null,
   "metadata": {
    "collapsed": false
   },
   "outputs": [],
   "source": [
    "pi_pulse_amplitude = 2.28\n",
    "pi_pulse_amplitude"
   ]
  },
  {
   "cell_type": "markdown",
   "metadata": {},
   "source": [
    "#### Ramsey "
   ]
  },
  {
   "cell_type": "code",
   "execution_count": null,
   "metadata": {
    "collapsed": true
   },
   "outputs": [],
   "source": [
    "from lib2.DispersiveRamsey import *"
   ]
  },
  {
   "cell_type": "code",
   "execution_count": 119,
   "metadata": {
    "collapsed": false
   },
   "outputs": [
    {
     "ename": "TypeError",
     "evalue": "__init__() got an unexpected keyword argument 'ro_awg_name'",
     "output_type": "error",
     "traceback": [
      "\u001b[0;31m---------------------------------------------------------------------------\u001b[0m",
      "\u001b[0;31mTypeError\u001b[0m                                 Traceback (most recent call last)",
      "\u001b[0;32m<ipython-input-119-f8311e1c1a8e>\u001b[0m in \u001b[0;36m<module>\u001b[0;34m()\u001b[0m\n\u001b[1;32m      1\u001b[0m DR = DispersiveRamsey(\"VI-ramsey\", \"Xmon Al BMSTU S444 2\", vna_name=\"vna2\", \n\u001b[0;32m----> 2\u001b[0;31m                                           ro_awg_name=\"awg3\", q_awg_name=\"awg2\", q_lo_name='mxg')\n\u001b[0m\u001b[1;32m      3\u001b[0m \u001b[0mvna_parameters\u001b[0m \u001b[1;33m=\u001b[0m \u001b[1;33m{\u001b[0m\u001b[1;34m\"bandwidth\"\u001b[0m\u001b[1;33m:\u001b[0m\u001b[1;36m10\u001b[0m\u001b[1;33m,\u001b[0m \u001b[1;34m\"freq_limits\"\u001b[0m\u001b[1;33m:\u001b[0m\u001b[1;33m(\u001b[0m\u001b[1;36m7040e6\u001b[0m\u001b[1;33m,\u001b[0m \u001b[1;36m7052.5e6\u001b[0m\u001b[1;33m)\u001b[0m\u001b[1;33m,\u001b[0m \u001b[1;34m\"nop\"\u001b[0m\u001b[1;33m:\u001b[0m\u001b[1;36m10\u001b[0m\u001b[1;33m,\u001b[0m \u001b[1;34m\"averages\"\u001b[0m\u001b[1;33m:\u001b[0m\u001b[1;36m2\u001b[0m\u001b[1;33m}\u001b[0m\u001b[1;33m\u001b[0m\u001b[0m\n\u001b[1;32m      4\u001b[0m \u001b[0mramsey_delays\u001b[0m \u001b[1;33m=\u001b[0m \u001b[0mlinspace\u001b[0m\u001b[1;33m(\u001b[0m\u001b[1;36m0\u001b[0m\u001b[1;33m,\u001b[0m \u001b[1;36m2000\u001b[0m\u001b[1;33m,\u001b[0m \u001b[1;36m100\u001b[0m\u001b[1;33m)\u001b[0m\u001b[1;33m\u001b[0m\u001b[0m\n\u001b[1;32m      5\u001b[0m \u001b[0mexc_frequency\u001b[0m \u001b[1;33m=\u001b[0m \u001b[0mq_freq\u001b[0m\u001b[1;33m-\u001b[0m\u001b[1;36m5e6\u001b[0m\u001b[1;33m\u001b[0m\u001b[0m\n",
      "\u001b[0;31mTypeError\u001b[0m: __init__() got an unexpected keyword argument 'ro_awg_name'"
     ]
    }
   ],
   "source": [
    "DR = DispersiveRamsey(\"VI-ramsey\", \"Xmon Al BMSTU S444 2\", vna_name=\"vna2\", \n",
    "                                          ro_awg_name=\"awg3\", q_awg_name=\"awg2\", q_lo_name='mxg')\n",
    "vna_parameters = {\"bandwidth\":10, \"freq_limits\":(7040e6, 7052.5e6), \"nop\":10, \"averages\":2}\n",
    "ramsey_delays = linspace(0, 2000, 100)\n",
    "exc_frequency = q_freq-5e6\n",
    "ramsey_sequence_parameters = {\"awg_trigger_reaction_delay\":400, \"readout_duration\":1000, \n",
    "                              \"excitation_amplitude\":pi_pulse_amplitude/2, \"modulating_window\":\"gaussian\",\n",
    "                              \"repetition_period\":8000, \"half_pi_pulse_duration\":pi_pulse_duration/2}\n",
    "DR.set_fixed_parameters(vna_parameters, ro_awg_params, q_awg_params, exc_frequency, ramsey_sequence_parameters)\n",
    "DR.set_swept_parameters(ramsey_delays)"
   ]
  },
  {
   "cell_type": "code",
   "execution_count": null,
   "metadata": {
    "collapsed": false
   },
   "outputs": [],
   "source": [
    "drg_result = DR.launch()"
   ]
  },
  {
   "cell_type": "code",
   "execution_count": null,
   "metadata": {
    "collapsed": true
   },
   "outputs": [],
   "source": [
    "drg_result.visualize();"
   ]
  },
  {
   "cell_type": "markdown",
   "metadata": {},
   "source": [
    "#### APE"
   ]
  },
  {
   "cell_type": "code",
   "execution_count": null,
   "metadata": {
    "collapsed": true,
    "scrolled": true
   },
   "outputs": [],
   "source": [
    "for i in range(0, 11, 1):\n",
    "    print(i)\n",
    "    DAPE = DispersiveAPE(\"VI-APE-gaussian-%d-pseudo-I-pulses\"%i, \"Xmon Al BMSTU S444 2\", vna_name=\"vna2\", ro_awg_name=\"awg3\", \n",
    "                                                q_awg_name=\"awg2\", q_lo_name='mxg')\n",
    "    vna_parameters = {\"bandwidth\":10, \"freq_limits\":(7040e6, 7052.5e6), \"nop\":10**(1.7*i/10), \"averages\":3}\n",
    "    ramsey_angles = linspace(-4*pi, 4*pi, 100)\n",
    "    exc_frequency = q_freq\n",
    "    ro_awg_params =  {\"calibration\":ro_cal}\n",
    "    q_awg_params = {\"calibration\":q_cal}\n",
    "    APE_sequence_parameters = {\"awg_trigger_reaction_delay\":400, \"readout_duration\":1000, \n",
    "                            \"repetition_period\":8000, \"padding\":5,\n",
    "                            \"half_pi_pulse_duration\":50, \"modulating_window\":\"gaussian\",\n",
    "                            \"excitation_amplitude\":pi_pulse_amplitude/2, \"pseudo_I_pulses_count\":i}\n",
    "    DAPE.set_fixed_parameters(vna_parameters, ro_awg_params, q_awg_params, exc_frequency, APE_sequence_parameters)\n",
    "    DAPE.set_swept_parameters(ramsey_angles)\n",
    "    dape_result = DAPE.launch()\n",
    "    dape_result.save()\n",
    "    clear_output()"
   ]
  },
  {
   "cell_type": "code",
   "execution_count": null,
   "metadata": {
    "collapsed": false
   },
   "outputs": [],
   "source": [
    "dape_result.visualize()"
   ]
  },
  {
   "cell_type": "markdown",
   "metadata": {},
   "source": [
    "---------------------------"
   ]
  },
  {
   "cell_type": "code",
   "execution_count": null,
   "metadata": {
    "collapsed": true
   },
   "outputs": [],
   "source": [
    "reload(lib2.IQPulseSequence)\n",
    "from lib2.IQPulseSequence import *"
   ]
  },
  {
   "cell_type": "code",
   "execution_count": null,
   "metadata": {
    "collapsed": true
   },
   "outputs": [],
   "source": [
    "pb = PulseBuilder(q_cal)"
   ]
  },
  {
   "cell_type": "code",
   "execution_count": null,
   "metadata": {
    "collapsed": true
   },
   "outputs": [],
   "source": [
    "APE_sequence_parameters[\"ramsey_angle\"]=0\n",
    "APE_sequence_parameters[\"pseudo_I_pulses_count\"] = 1\n",
    "APE_sequence_parameters[\"excitation_amplitude\"] = 1"
   ]
  },
  {
   "cell_type": "code",
   "execution_count": null,
   "metadata": {
    "collapsed": false
   },
   "outputs": [],
   "source": [
    "APE_sequence_parameters"
   ]
  },
  {
   "cell_type": "code",
   "execution_count": null,
   "metadata": {
    "collapsed": false
   },
   "outputs": [],
   "source": [
    "PulseBuilder.build_dispersive_APE_sequences(pb, ro_pb, APE_sequence_parameters)[0].plot()\n",
    "pb.add_zero_pulse(400).add_sine_pulse(65).add_sine_pulse(50).add_zero_pulse(15).build().plot()\n",
    "plt.xlim(300,600)"
   ]
  },
  {
   "cell_type": "code",
   "execution_count": null,
   "metadata": {
    "collapsed": true
   },
   "outputs": [],
   "source": [
    "# pb.add_zero_pulse(10).add_sine_pulse(30).add_zero_pulse(10).build().plot()\n",
    "pb.add_zero_pulse(10).add_sine_pulse(50, window=(\"gaussian\", {\"amplitude\":10})).add_zero_pulse(10).build().plot()\n",
    "plt.grid()"
   ]
  },
  {
   "cell_type": "code",
   "execution_count": null,
   "metadata": {
    "collapsed": true
   },
   "outputs": [],
   "source": [
    "rect = pb.add_zero_pulse(100).add_sine_pulse(300, amplitude=1).add_zero_pulse(1000).build()"
   ]
  },
  {
   "cell_type": "code",
   "execution_count": null,
   "metadata": {
    "collapsed": true
   },
   "outputs": [],
   "source": [
    "gaus = pb.add_zero_pulse(100).add_sine_pulse(300, amplitude=1, window=\"gaussian\").add_zero_pulse(1000).build()"
   ]
  },
  {
   "cell_type": "code",
   "execution_count": null,
   "metadata": {
    "collapsed": true
   },
   "outputs": [],
   "source": [
    "rect.plot()\n",
    "gaus.plot()"
   ]
  },
  {
   "cell_type": "code",
   "execution_count": null,
   "metadata": {
    "collapsed": true
   },
   "outputs": [],
   "source": [
    "q_awg.output_pulse_sequence(gaus)"
   ]
  },
  {
   "cell_type": "code",
   "execution_count": null,
   "metadata": {
    "collapsed": false
   },
   "outputs": [],
   "source": [
    "exp(-1/8)"
   ]
  },
  {
   "cell_type": "code",
   "execution_count": null,
   "metadata": {
    "collapsed": true
   },
   "outputs": [],
   "source": [
    "X = linspace(-1,1)"
   ]
  },
  {
   "cell_type": "code",
   "execution_count": null,
   "metadata": {
    "collapsed": false
   },
   "outputs": [],
   "source": [
    "plot(X, exp(-(3*X)**2/2**2))"
   ]
  },
  {
   "cell_type": "code",
   "execution_count": null,
   "metadata": {
    "collapsed": true
   },
   "outputs": [],
   "source": [
    "from resonator_tools import circuit"
   ]
  },
  {
   "cell_type": "code",
   "execution_count": null,
   "metadata": {
    "collapsed": true
   },
   "outputs": [],
   "source": [
    "circuit.notch_port()"
   ]
  }
 ],
 "metadata": {
  "kernelspec": {
   "display_name": "Python 3",
   "language": "python",
   "name": "python3"
  },
  "language_info": {
   "codemirror_mode": {
    "name": "ipython",
    "version": 3
   },
   "file_extension": ".py",
   "mimetype": "text/x-python",
   "name": "python",
   "nbconvert_exporter": "python",
   "pygments_lexer": "ipython3",
   "version": "3.6.0"
  }
 },
 "nbformat": 4,
 "nbformat_minor": 2
}
