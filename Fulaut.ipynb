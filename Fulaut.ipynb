{
 "cells": [
  {
   "cell_type": "code",
   "execution_count": 1,
   "metadata": {},
   "outputs": [
    {
     "name": "stdout",
     "output_type": "stream",
     "text": [
      "Populating the interactive namespace from numpy and matplotlib\n"
     ]
    }
   ],
   "source": [
    "%pylab qt5\n",
    "warnings.filterwarnings(\"ignore\")\n",
    "import lib2\n",
    "from lib2.fulaut.MeasurementRunner import *\n",
    "from importlib import reload"
   ]
  },
  {
   "cell_type": "code",
   "execution_count": 7,
   "metadata": {},
   "outputs": [
    {
     "data": {
      "text/plain": [
       "<module 'lib2.fulaut.MeasurementRunner' from 'C:\\\\Users\\\\lab128\\\\Measurement-automation\\\\lib2\\\\fulaut\\\\MeasurementRunner.py'>"
      ]
     },
     "execution_count": 7,
     "metadata": {},
     "output_type": "execute_result"
    }
   ],
   "source": [
    "reload(lib2)\n",
    "reload(lib2.fulaut.MeasurementRunner)\n",
    "# reload(lib2.ful)"
   ]
  },
  {
   "cell_type": "code",
   "execution_count": 3,
   "metadata": {},
   "outputs": [],
   "source": [
    "reload(lib2.ResonatorDetector)\n",
    "from lib2.ResonatorDetector import *"
   ]
  },
  {
   "cell_type": "code",
   "execution_count": 2,
   "metadata": {
    "scrolled": true
   },
   "outputs": [
    {
     "name": "stdout",
     "output_type": "stream",
     "text": [
      "The device vna4 is detected as ZNB\n",
      "The device psg2 is detected as PSG\n",
      "The device yok6 is detected as YOK1\n"
     ]
    }
   ],
   "source": [
    "MR = MeasurementRunner(\"Xmon-1811-067-2\", \"S14\", {'vna': ['vna4'], 'mw_src': ['psg2'], 'cur_src': ['yok6']})"
   ]
  },
  {
   "cell_type": "code",
   "execution_count": null,
   "metadata": {
    "scrolled": true
   },
   "outputs": [
    {
     "name": "stderr",
     "output_type": "stream",
     "text": [
      "DEBUG:fulaut:Measurement VI-rabi init\n",
      "DEBUG:fulaut:Measurement VI-rabi devs:{'vna': [ZNB], 'q_lo': [<drivers.E8257D.EXG object at 0x00000152BAA08E48>], 'q_awg': [<drivers.IQAWG.IQAWG object at 0x00000152BB0BE0F0>], 'ro_awg': [<drivers.IQAWG.IQAWG object at 0x00000152BB0BE048>]}\n"
     ]
    },
    {
     "name": "stdout",
     "output_type": "stream",
     "text": [
      "Detecting a resonator within provided frequency range of the VNA (6964514781.0, 6974514781.0)                    \n",
      "Fit was inaccurate (try #1), retryingDetected frequency is 6.96959 GHz, at 0.16 mU and -61.15 degrees\n",
      "Started at:  2019-02-18 15:08:37.846295\n",
      "Time left: 0 h 0 m 0.0 s, [excitation_duration: 5.00e+02], average cycle time: 2.09 s         "
     ]
    },
    {
     "name": "stderr",
     "output_type": "stream",
     "text": [
      "DEBUG:fulaut:Measurement VI-ramsey init\n",
      "DEBUG:fulaut:Measurement VI-ramsey devs:{'vna': [ZNB], 'ro_awg': [<drivers.IQAWG.IQAWG object at 0x00000152BB0BE048>], 'q_awg': [<drivers.IQAWG.IQAWG object at 0x00000152BB0BE0F0>], 'q_lo': [<drivers.E8257D.EXG object at 0x00000152BAA08E48>]}\n"
     ]
    },
    {
     "name": "stdout",
     "output_type": "stream",
     "text": [
      "\n",
      "Elapsed time: 0 h 3 m 30.83 s\n",
      "Detecting a resonator within provided frequency range of the VNA (6964514781.0, 6974514781.0)                    \n",
      "Detected frequency is 6.96951 GHz, at 0.53 mU and -60.82 degrees\n",
      "Started at:  2019-02-18 15:12:13.917609\n",
      "Time left: 0 h 0 m 0.0 s, [ramsey_delay: 5.00e+02], average cycle time: 2.55 s         "
     ]
    },
    {
     "name": "stderr",
     "output_type": "stream",
     "text": [
      "DEBUG:fulaut:Measurement VI-rabi init\n",
      "DEBUG:fulaut:Measurement VI-rabi devs:{'vna': [ZNB], 'q_lo': [<drivers.E8257D.EXG object at 0x00000152BAA08E48>], 'q_awg': [<drivers.IQAWG.IQAWG object at 0x00000152BB0BE0F0>], 'ro_awg': [<drivers.IQAWG.IQAWG object at 0x00000152BB0BE048>]}\n"
     ]
    },
    {
     "name": "stdout",
     "output_type": "stream",
     "text": [
      "\n",
      "Elapsed time: 0 h 8 m 33.32 s\n",
      "Detecting a resonator within provided frequency range of the VNA (6964514781.0, 6974514781.0)                    \n",
      "Fit was inaccurate (try #1), retryingDetected frequency is 6.96958 GHz, at 0.17 mU and -58.11 degrees\n",
      "Started at:  2019-02-18 15:20:54.297127\n",
      "Time left: 0 h 0 m 0.0 s, [excitation_duration: 5.00e+02], average cycle time: 2.08 s         \n",
      "Elapsed time: 0 h 3 m 30.23 s\n"
     ]
    },
    {
     "name": "stderr",
     "output_type": "stream",
     "text": [
      "DEBUG:fulaut:Measurement VI-ramsey init\n",
      "DEBUG:fulaut:Measurement VI-ramsey devs:{'vna': [ZNB], 'ro_awg': [<drivers.IQAWG.IQAWG object at 0x00000152BB0BE048>], 'q_awg': [<drivers.IQAWG.IQAWG object at 0x00000152BB0BE0F0>], 'q_lo': [<drivers.E8257D.EXG object at 0x00000152BAA08E48>]}\n"
     ]
    },
    {
     "name": "stdout",
     "output_type": "stream",
     "text": [
      "Detecting a resonator within provided frequency range of the VNA (6964514781.0, 6974514781.0)                    \n",
      "Detected frequency is 6.96953 GHz, at 0.49 mU and -63.23 degrees\n",
      "Started at:  2019-02-18 15:24:30.806850\n",
      "Time left: 0 h 0 m 0.0 s, [ramsey_delay: 4.00e+03], average cycle time: 2.73 s         \n",
      "Elapsed time: 0 h 9 m 8.49 s\n"
     ]
    },
    {
     "name": "stderr",
     "output_type": "stream",
     "text": [
      "DEBUG:fulaut:Measurement VI-decay init\n",
      "DEBUG:fulaut:Measurement VI-decay devs:{'vna': [ZNB], 'ro_awg': [<drivers.IQAWG.IQAWG object at 0x00000152BB0BE048>], 'q_awg': [<drivers.IQAWG.IQAWG object at 0x00000152BB0BE0F0>], 'q_lo': [<drivers.E8257D.EXG object at 0x00000152BAA08E48>]}\n"
     ]
    },
    {
     "name": "stdout",
     "output_type": "stream",
     "text": [
      "Detecting a resonator within provided frequency range of the VNA (6964514781.0, 6974514781.0)                    \n",
      "Fit was inaccurate (try #1), retryingDetected frequency is 6.96955 GHz, at 0.25 mU and -57.68 degrees\n",
      "Started at:  2019-02-18 15:33:55.667709\n",
      "Time left: 0 h 6 m 56.62 s, [readout_delay: 1.95e+04], average cycle time: 6.83 s        "
     ]
    }
   ],
   "source": [
    "MR.run([5])"
   ]
  },
  {
   "cell_type": "code",
   "execution_count": 4,
   "metadata": {},
   "outputs": [
    {
     "name": "stderr",
     "output_type": "stream",
     "text": [
      "DEBUG:fulaut:Measurement VI-decay init\n",
      "DEBUG:fulaut:Measurement VI-decay devs:{'vna': [ZNB], 'ro_awg': [<drivers.IQAWG.IQAWG object at 0x000002C555D98F60>], 'q_awg': [<drivers.IQAWG.IQAWG object at 0x000002C555DAD048>], 'q_lo': [<drivers.E8257D.EXG object at 0x000002C5556F8F98>]}\n"
     ]
    },
    {
     "name": "stdout",
     "output_type": "stream",
     "text": [
      "Detecting a resonator within provided frequency range of the VNA (6964426777.0, 6974426777.0)                    \n",
      "Detected frequency is 6.96975 GHz, at 0.06 mU and -54.20 degrees\n",
      "Started at:  2019-02-15 13:53:35.594322\n",
      "Time left: 0 h 0 m 0.0 s, [readout_delay: 5.00e+04], average cycle time: 6.42 s          \n",
      "Elapsed time: 0 h 10 m 48.73 s\n"
     ]
    }
   ],
   "source": [
    "MR._perform_decay(\"VI\")"
   ]
  },
  {
   "cell_type": "code",
   "execution_count": 6,
   "metadata": {},
   "outputs": [],
   "source": [
    "MR._dd_results[\"VI\"].save()"
   ]
  },
  {
   "cell_type": "code",
   "execution_count": null,
   "metadata": {},
   "outputs": [],
   "source": [
    "MR._perform_Ramsey_oscillations(\"VI\")"
   ]
  },
  {
   "cell_type": "code",
   "execution_count": 9,
   "metadata": {},
   "outputs": [
    {
     "data": {
      "text/plain": [
       "0.5829335576853594"
      ]
     },
     "execution_count": 9,
     "metadata": {},
     "output_type": "execute_result"
    }
   ],
   "source": [
    "transmon_spectrum(*MR._tts_fit_params[\"III\"])"
   ]
  },
  {
   "cell_type": "code",
   "execution_count": 10,
   "metadata": {},
   "outputs": [
    {
     "data": {
      "text/plain": [
       "array([3.83048721e-05, 7.26083164e-06, 5.72602689e+09, 6.00450642e-01,\n",
       "       1.20063719e-01])"
      ]
     },
     "execution_count": 10,
     "metadata": {},
     "output_type": "execute_result"
    }
   ],
   "source": [
    "MR._tts_fit_params[\"III\"]"
   ]
  },
  {
   "cell_type": "code",
   "execution_count": null,
   "metadata": {},
   "outputs": [],
   "source": [
    "MR._sts_runners[\"I\"]._sts_result.visualize()"
   ]
  },
  {
   "cell_type": "code",
   "execution_count": null,
   "metadata": {},
   "outputs": [],
   "source": [
    "# mean([1,2,3,4,5])"
   ]
  },
  {
   "cell_type": "code",
   "execution_count": null,
   "metadata": {},
   "outputs": [],
   "source": [
    "MR._tts_runners[\"III\"]._tts_result.save()"
   ]
  },
  {
   "cell_type": "code",
   "execution_count": null,
   "metadata": {
    "scrolled": true
   },
   "outputs": [],
   "source": [
    "MR._sts"
   ]
  },
  {
   "cell_type": "code",
   "execution_count": null,
   "metadata": {},
   "outputs": [],
   "source": [
    "MR._tts_fit_params"
   ]
  },
  {
   "cell_type": "code",
   "execution_count": null,
   "metadata": {},
   "outputs": [],
   "source": [
    "MR._exact_qubit_freqs"
   ]
  },
  {
   "cell_type": "code",
   "execution_count": null,
   "metadata": {},
   "outputs": [],
   "source": [
    "res = MR._sts_runners[\"I\"]._sts_result\n",
    "res"
   ]
  },
  {
   "cell_type": "code",
   "execution_count": null,
   "metadata": {},
   "outputs": [],
   "source": [
    "res/1e6"
   ]
  },
  {
   "cell_type": "code",
   "execution_count": null,
   "metadata": {},
   "outputs": [],
   "source": [
    "ao = AnticrossingOracle(\"transmon\", res, True)"
   ]
  },
  {
   "cell_type": "code",
   "execution_count": null,
   "metadata": {},
   "outputs": [],
   "source": [
    "ao.find_resonator_intersections()"
   ]
  },
  {
   "cell_type": "code",
   "execution_count": null,
   "metadata": {},
   "outputs": [],
   "source": [
    "ao._res_points[1][0]-ao._res_points[21][0]"
   ]
  },
  {
   "cell_type": "code",
   "execution_count": null,
   "metadata": {},
   "outputs": [],
   "source": [
    "ao.launch()"
   ]
  },
  {
   "cell_type": "code",
   "execution_count": null,
   "metadata": {},
   "outputs": [],
   "source": [
    "data = res.get_data()"
   ]
  },
  {
   "cell_type": "code",
   "execution_count": null,
   "metadata": {},
   "outputs": [],
   "source": [
    "freqs, data = data[\"frequency\"], data[\"data\"]"
   ]
  },
  {
   "cell_type": "code",
   "execution_count": null,
   "metadata": {},
   "outputs": [],
   "source": [
    "RD = ResonatorDetector(freqs, data[5], plot=True)"
   ]
  },
  {
   "cell_type": "code",
   "execution_count": null,
   "metadata": {},
   "outputs": [],
   "source": [
    "RD.detect()"
   ]
  },
  {
   "cell_type": "code",
   "execution_count": null,
   "metadata": {},
   "outputs": [],
   "source": [
    "plot(freqs, abs(data[1]))"
   ]
  },
  {
   "cell_type": "code",
   "execution_count": null,
   "metadata": {},
   "outputs": [],
   "source": [
    "from resonator_tools.circuit import notch_port"
   ]
  },
  {
   "cell_type": "code",
   "execution_count": null,
   "metadata": {},
   "outputs": [],
   "source": [
    "NP = notch_port(freqs, data[1])"
   ]
  },
  {
   "cell_type": "code",
   "execution_count": null,
   "metadata": {},
   "outputs": [],
   "source": [
    "NP.autofit()"
   ]
  },
  {
   "cell_type": "code",
   "execution_count": null,
   "metadata": {},
   "outputs": [],
   "source": [
    "NP.plotall()"
   ]
  },
  {
   "cell_type": "code",
   "execution_count": null,
   "metadata": {},
   "outputs": [],
   "source": [
    "NP.NP._fit_skewed_lorentzian(freqs, data[1])"
   ]
  },
  {
   "cell_type": "code",
   "execution_count": null,
   "metadata": {},
   "outputs": [],
   "source": [
    "NP.fitresults"
   ]
  },
  {
   "cell_type": "code",
   "execution_count": null,
   "metadata": {},
   "outputs": [],
   "source": []
  }
 ],
 "metadata": {
  "kernelspec": {
   "display_name": "Python 3",
   "language": "python",
   "name": "python3"
  },
  "language_info": {
   "codemirror_mode": {
    "name": "ipython",
    "version": 3
   },
   "file_extension": ".py",
   "mimetype": "text/x-python",
   "name": "python",
   "nbconvert_exporter": "python",
   "pygments_lexer": "ipython3",
   "version": "3.6.8"
  }
 },
 "nbformat": 4,
 "nbformat_minor": 2
}
