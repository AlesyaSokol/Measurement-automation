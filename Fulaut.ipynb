{
 "cells": [
  {
   "cell_type": "code",
   "execution_count": 1,
   "metadata": {},
   "outputs": [
    {
     "name": "stdout",
     "output_type": "stream",
     "text": [
      "Populating the interactive namespace from numpy and matplotlib\n"
     ]
    }
   ],
   "source": [
    "%pylab qt\n",
    "warnings.filterwarnings(\"ignore\")\n",
    "import lib2\n",
    "from lib2.fulaut.MeasurementRunner import *\n",
    "from importlib import reload"
   ]
  },
  {
   "cell_type": "code",
   "execution_count": 2,
   "metadata": {},
   "outputs": [
    {
     "data": {
      "text/plain": [
       "<module 'lib2.fulaut.MeasurementRunner' from 'C:\\\\Users\\\\lab128\\\\Measurement-automation\\\\lib2\\\\fulaut\\\\MeasurementRunner.py'>"
      ]
     },
     "execution_count": 2,
     "metadata": {},
     "output_type": "execute_result"
    }
   ],
   "source": [
    "reload(lib2)\n",
    "reload(lib2.fulaut.MeasurementRunner)\n",
    "# reload(lib2.ful)"
   ]
  },
  {
   "cell_type": "code",
   "execution_count": 3,
   "metadata": {},
   "outputs": [],
   "source": [
    "reload(lib2.ResonatorDetector)\n",
    "from lib2.ResonatorDetector import *"
   ]
  },
  {
   "cell_type": "code",
   "execution_count": 11,
   "metadata": {
    "scrolled": true
   },
   "outputs": [
    {
     "name": "stdout",
     "output_type": "stream",
     "text": [
      "Device v is unknown!\n",
      "Device n is unknown!\n",
      "Device a is unknown!\n",
      "Device 4 is unknown!\n",
      "Device p is unknown!\n",
      "Device s is unknown!\n",
      "Device g is unknown!\n",
      "Device 2 is unknown!\n",
      "Device y is unknown!\n",
      "Device o is unknown!\n",
      "Device k is unknown!\n",
      "Device 6 is unknown!\n"
     ]
    },
    {
     "ename": "AttributeError",
     "evalue": "'list' object has no attribute 'set_status'",
     "output_type": "error",
     "traceback": [
      "\u001b[1;31m---------------------------------------------------------------------------\u001b[0m",
      "\u001b[1;31mAttributeError\u001b[0m                            Traceback (most recent call last)",
      "\u001b[1;32m<ipython-input-11-8b4aa1c6b3c7>\u001b[0m in \u001b[0;36m<module>\u001b[1;34m()\u001b[0m\n\u001b[1;32m----> 1\u001b[1;33m \u001b[0mMR\u001b[0m \u001b[1;33m=\u001b[0m \u001b[0mMeasurementRunner\u001b[0m\u001b[1;33m(\u001b[0m\u001b[1;34m\"Xmon-1811-067-5\"\u001b[0m\u001b[1;33m,\u001b[0m \u001b[1;34m\"S14\"\u001b[0m\u001b[1;33m,\u001b[0m \u001b[1;33m{\u001b[0m\u001b[1;34m'vna'\u001b[0m\u001b[1;33m:\u001b[0m \u001b[1;34m'vna4'\u001b[0m\u001b[1;33m,\u001b[0m \u001b[1;34m'mw_src'\u001b[0m\u001b[1;33m:\u001b[0m \u001b[1;34m'psg2'\u001b[0m\u001b[1;33m,\u001b[0m \u001b[1;34m'cur_src'\u001b[0m\u001b[1;33m:\u001b[0m \u001b[1;34m'yok6'\u001b[0m\u001b[1;33m}\u001b[0m\u001b[1;33m)\u001b[0m\u001b[1;33m\u001b[0m\u001b[0m\n\u001b[0m",
      "\u001b[1;32m~\\Measurement-automation\\lib2\\fulaut\\MeasurementRunner.py\u001b[0m in \u001b[0;36m__init__\u001b[1;34m(self, sample_name, s_parameter, devs_aliases_map)\u001b[0m\n\u001b[0;32m     52\u001b[0m         \u001b[0mself\u001b[0m\u001b[1;33m.\u001b[0m\u001b[0m_mw_src\u001b[0m \u001b[1;33m=\u001b[0m \u001b[0mm\u001b[0m\u001b[1;33m.\u001b[0m\u001b[0m_mw_src\u001b[0m\u001b[1;33m\u001b[0m\u001b[0m\n\u001b[0;32m     53\u001b[0m         \u001b[0mself\u001b[0m\u001b[1;33m.\u001b[0m\u001b[0m_cur_src\u001b[0m \u001b[1;33m=\u001b[0m \u001b[0mm\u001b[0m\u001b[1;33m.\u001b[0m\u001b[0m_cur_src\u001b[0m\u001b[1;33m\u001b[0m\u001b[0m\n\u001b[1;32m---> 54\u001b[1;33m         \u001b[0mself\u001b[0m\u001b[1;33m.\u001b[0m\u001b[0m_cur_src\u001b[0m\u001b[1;33m.\u001b[0m\u001b[0mset_status\u001b[0m\u001b[1;33m(\u001b[0m\u001b[1;36m1\u001b[0m\u001b[1;33m)\u001b[0m\u001b[1;33m\u001b[0m\u001b[0m\n\u001b[0m\u001b[0;32m     55\u001b[0m \u001b[1;33m\u001b[0m\u001b[0m\n\u001b[0;32m     56\u001b[0m         \u001b[1;32mtry\u001b[0m\u001b[1;33m:\u001b[0m\u001b[1;33m\u001b[0m\u001b[0m\n",
      "\u001b[1;31mAttributeError\u001b[0m: 'list' object has no attribute 'set_status'"
     ]
    }
   ],
   "source": [
    "MR = MeasurementRunner(\"Xmon-1811-067-5\", \"S14\", {'vna': ['vna4'], 'mw_src': ['psg2', 'cur_src': 'yok6'})"
   ]
  },
  {
   "cell_type": "code",
   "execution_count": 10,
   "metadata": {},
   "outputs": [],
   "source": [
    "MR._open_only_readout_mixer()"
   ]
  },
  {
   "cell_type": "code",
   "execution_count": 4,
   "metadata": {
    "scrolled": true
   },
   "outputs": [
    {
     "name": "stderr",
     "output_type": "stream",
     "text": [
      "DEBUG:fulaut:Measurement IV-rabi init\n",
      "DEBUG:fulaut:Measurement IV-rabi devs:{'vna': ZNB, 'q_lo': <drivers.E8257D.EXG object at 0x000001DFB533FDD8>, 'q_awg': <drivers.IQAWG.IQAWG object at 0x000001DFB54B0080>, 'ro_awg': <drivers.IQAWG.IQAWG object at 0x000001DFB533F208>, 'q_z_awg': None}\n"
     ]
    },
    {
     "name": "stdout",
     "output_type": "stream",
     "text": [
      "Detecting a resonator within provided frequency range of the VNA (6779487379.0, 6789487379.0)                    \n",
      "Fit was inaccurate (try #0), retryingDetected frequency is 6.78456 GHz, at 0.47 mU and 121.02 degrees\n",
      "Started at:  2019-01-29 17:43:05.187338\n",
      "Time left: 0 h 0 m 0.0 s, [excitation_duration: 5.00e+02], average cycle time: 2.29 s         \n",
      "Elapsed time: 0 h 9 m 33.83 s\n"
     ]
    },
    {
     "name": "stderr",
     "output_type": "stream",
     "text": [
      "DEBUG:fulaut:Measurement IV-ramsey init\n",
      "DEBUG:fulaut:Measurement IV-ramsey devs:{'vna': ZNB, 'ro_awg': <drivers.IQAWG.IQAWG object at 0x000001DFB533F208>, 'q_awg': <drivers.IQAWG.IQAWG object at 0x000001DFB54B0080>, 'q_lo': <drivers.E8257D.EXG object at 0x000001DFB533FDD8>, 'q_z_awg': None}\n"
     ]
    },
    {
     "name": "stdout",
     "output_type": "stream",
     "text": [
      "Detecting a resonator within provided frequency range of the VNA (6779487379.0, 6789487379.0)                    \n",
      "Detected frequency is 6.78458 GHz, at 1.37 mU and 123.23 degrees\n",
      "Started at:  2019-01-29 17:52:44.492474\n",
      "Time left: 0 h 0 m 0.0 s, [ramsey_delay: 5.00e+02], average cycle time: 4.81 s          \n",
      "Elapsed time: 0 h 16 m 7.04 s\n"
     ]
    },
    {
     "name": "stderr",
     "output_type": "stream",
     "text": [
      "DEBUG:fulaut:Measurement IV-rabi init\n",
      "DEBUG:fulaut:Measurement IV-rabi devs:{'vna': ZNB, 'q_lo': <drivers.E8257D.EXG object at 0x000001DFB533FDD8>, 'q_awg': <drivers.IQAWG.IQAWG object at 0x000001DFB54B0080>, 'ro_awg': <drivers.IQAWG.IQAWG object at 0x000001DFB533F208>, 'q_z_awg': None}\n"
     ]
    },
    {
     "name": "stdout",
     "output_type": "stream",
     "text": [
      "Detecting a resonator within provided frequency range of the VNA (6779487379.0, 6789487379.0)                    \n",
      "Fit was inaccurate (try #1), retryingDetected frequency is 6.78459 GHz, at 0.47 mU and 124.03 degrees\n",
      "Started at:  2019-01-29 18:09:04.787216\n",
      "Time left: 0 h 9 m 21.61 s, [excitation_duration: 8.00e+00], average cycle time: 2.28 s       Fit failed unexpectedly: Singular matrix\n",
      "[-3.57863495e-07 -1.00265818e-05  2.29174405e+00  2.36014728e+02\n",
      " -3.39064896e-04  4.45519210e-04] ([-8.021684467499995e-06, -1.2394985947500052e-05, 0.1, 0.6283185307179586, -10, -10], [8.021684467499995e-06, 1.2394985947500052e-05, 100, 314.1592653589793, 10, 10])\n",
      "Fit failed unexpectedly: Singular matrix\n",
      "Time left: 0 h 0 m 0.0 s, [excitation_duration: 5.00e+02], average cycle time: 2.29 s         \n",
      "Elapsed time: 0 h 9 m 34.27 s\n"
     ]
    },
    {
     "name": "stderr",
     "output_type": "stream",
     "text": [
      "DEBUG:fulaut:Measurement IV-ramsey init\n",
      "DEBUG:fulaut:Measurement IV-ramsey devs:{'vna': ZNB, 'ro_awg': <drivers.IQAWG.IQAWG object at 0x000001DFB533F208>, 'q_awg': <drivers.IQAWG.IQAWG object at 0x000001DFB54B0080>, 'q_lo': <drivers.E8257D.EXG object at 0x000001DFB533FDD8>, 'q_z_awg': None}\n"
     ]
    },
    {
     "name": "stdout",
     "output_type": "stream",
     "text": [
      "Detecting a resonator within provided frequency range of the VNA (6779487379.0, 6789487379.0)                    \n",
      "Detected frequency is 6.78455 GHz, at 0.47 mU and 123.42 degrees\n",
      "Started at:  2019-01-29 18:18:44.745661\n",
      "Time left: 0 h 0 m 0.0 s, [ramsey_delay: 1.00e+04], average cycle time: 4.87 s          \n",
      "Elapsed time: 0 h 16 m 18.49 s\n"
     ]
    },
    {
     "name": "stderr",
     "output_type": "stream",
     "text": [
      "DEBUG:fulaut:Measurement IV-decay init\n",
      "DEBUG:fulaut:Measurement IV-decay devs:{'vna': ZNB, 'ro_awg': <drivers.IQAWG.IQAWG object at 0x000001DFB533F208>, 'q_awg': <drivers.IQAWG.IQAWG object at 0x000001DFB54B0080>, 'q_lo': <drivers.E8257D.EXG object at 0x000001DFB533FDD8>, 'q_z_awg': None}\n"
     ]
    },
    {
     "name": "stdout",
     "output_type": "stream",
     "text": [
      "Detecting a resonator within provided frequency range of the VNA (6779487379.0, 6789487379.0)                    \n",
      "Fit was inaccurate (try #9), retrying"
     ]
    },
    {
     "ename": "TypeError",
     "evalue": "'NoneType' object is not iterable",
     "output_type": "error",
     "traceback": [
      "\u001b[1;31m---------------------------------------------------------------------------\u001b[0m",
      "\u001b[1;31mTypeError\u001b[0m                                 Traceback (most recent call last)",
      "\u001b[1;32m<ipython-input-4-fd5ca658a734>\u001b[0m in \u001b[0;36m<module>\u001b[1;34m()\u001b[0m\n\u001b[1;32m----> 1\u001b[1;33m \u001b[0mMR\u001b[0m\u001b[1;33m.\u001b[0m\u001b[0mrun\u001b[0m \u001b[1;33m(\u001b[0m\u001b[1;33m[\u001b[0m\u001b[1;36m3\u001b[0m\u001b[1;33m]\u001b[0m\u001b[1;33m)\u001b[0m\u001b[1;33m\u001b[0m\u001b[0m\n\u001b[0m",
      "\u001b[1;32m~\\Measurement-automation\\lib2\\fulaut\\MeasurementRunner.py\u001b[0m in \u001b[0;36mrun\u001b[1;34m(self, qubits_to_measure)\u001b[0m\n\u001b[0;32m    135\u001b[0m             \u001b[0mself\u001b[0m\u001b[1;33m.\u001b[0m\u001b[0m_perform_Rabi_oscillations\u001b[0m\u001b[1;33m(\u001b[0m\u001b[0mqubit_name\u001b[0m\u001b[1;33m,\u001b[0m \u001b[1;32mTrue\u001b[0m\u001b[1;33m)\u001b[0m\u001b[1;33m\u001b[0m\u001b[0m\n\u001b[0;32m    136\u001b[0m             \u001b[0mself\u001b[0m\u001b[1;33m.\u001b[0m\u001b[0m_perform_Ramsey_oscillations\u001b[0m\u001b[1;33m(\u001b[0m\u001b[0mqubit_name\u001b[0m\u001b[1;33m,\u001b[0m \u001b[1;32mTrue\u001b[0m\u001b[1;33m)\u001b[0m\u001b[1;33m\u001b[0m\u001b[0m\n\u001b[1;32m--> 137\u001b[1;33m             \u001b[0mself\u001b[0m\u001b[1;33m.\u001b[0m\u001b[0m_perform_decay\u001b[0m\u001b[1;33m(\u001b[0m\u001b[0mqubit_name\u001b[0m\u001b[1;33m,\u001b[0m \u001b[1;32mTrue\u001b[0m\u001b[1;33m)\u001b[0m\u001b[1;33m\u001b[0m\u001b[0m\n\u001b[0m\u001b[0;32m    138\u001b[0m \u001b[1;33m\u001b[0m\u001b[0m\n\u001b[0;32m    139\u001b[0m     \u001b[1;32mdef\u001b[0m \u001b[0m_perform_decay\u001b[0m\u001b[1;33m(\u001b[0m\u001b[0mself\u001b[0m\u001b[1;33m,\u001b[0m \u001b[0mqubit_name\u001b[0m\u001b[1;33m,\u001b[0m \u001b[0msave\u001b[0m\u001b[1;33m=\u001b[0m\u001b[1;32mFalse\u001b[0m\u001b[1;33m)\u001b[0m\u001b[1;33m:\u001b[0m\u001b[1;33m\u001b[0m\u001b[0m\n",
      "\u001b[1;32m~\\Measurement-automation\\lib2\\fulaut\\MeasurementRunner.py\u001b[0m in \u001b[0;36m_perform_decay\u001b[1;34m(self, qubit_name, save)\u001b[0m\n\u001b[0;32m    169\u001b[0m                                 \u001b[0mq_awg_params\u001b[0m\u001b[1;33m,\u001b[0m\u001b[1;33m\u001b[0m\u001b[0m\n\u001b[0;32m    170\u001b[0m                                 \u001b[0mexc_frequency\u001b[0m\u001b[1;33m,\u001b[0m\u001b[1;33m\u001b[0m\u001b[0m\n\u001b[1;32m--> 171\u001b[1;33m                                 pulse_sequence_parameters)\n\u001b[0m\u001b[0;32m    172\u001b[0m         \u001b[0mDD\u001b[0m\u001b[1;33m.\u001b[0m\u001b[0mset_swept_parameters\u001b[0m\u001b[1;33m(\u001b[0m\u001b[0mraadout_delays\u001b[0m\u001b[1;33m)\u001b[0m\u001b[1;33m\u001b[0m\u001b[0m\n\u001b[0;32m    173\u001b[0m         \u001b[0mMeasurementResult\u001b[0m\u001b[1;33m.\u001b[0m\u001b[0mclose_figure_by_window_name\u001b[0m\u001b[1;33m(\u001b[0m\u001b[1;34m\"Resonator fit\"\u001b[0m\u001b[1;33m)\u001b[0m\u001b[1;33m\u001b[0m\u001b[0m\n",
      "\u001b[1;32m~\\Measurement-automation\\lib2\\VNATimeResolvedDispersiveMeasurement1D.py\u001b[0m in \u001b[0;36mset_fixed_parameters\u001b[1;34m(self, vna_parameters, ro_awg_parameters, q_awg_parameters, qubit_frequency, pulse_sequence_parameters, q_z_awg_params)\u001b[0m\n\u001b[0;32m     28\u001b[0m         super().set_fixed_parameters(vna_parameters, q_lo_parameters,\n\u001b[0;32m     29\u001b[0m                                      \u001b[0mro_awg_parameters\u001b[0m\u001b[1;33m,\u001b[0m \u001b[0mq_awg_parameters\u001b[0m\u001b[1;33m,\u001b[0m \u001b[0mpulse_sequence_parameters\u001b[0m\u001b[1;33m,\u001b[0m\u001b[1;33m\u001b[0m\u001b[0m\n\u001b[1;32m---> 30\u001b[1;33m                                      q_z_awg_params=q_z_awg_params)\n\u001b[0m\u001b[0;32m     31\u001b[0m \u001b[1;33m\u001b[0m\u001b[0m\n\u001b[0;32m     32\u001b[0m     \u001b[1;32mdef\u001b[0m \u001b[0mset_swept_parameters\u001b[0m\u001b[1;33m(\u001b[0m\u001b[0mself\u001b[0m\u001b[1;33m,\u001b[0m \u001b[0mpar_name\u001b[0m\u001b[1;33m,\u001b[0m \u001b[0mpar_values\u001b[0m\u001b[1;33m)\u001b[0m\u001b[1;33m:\u001b[0m\u001b[1;33m\u001b[0m\u001b[0m\n",
      "\u001b[1;32m~\\Measurement-automation\\lib2\\VNATimeResolvedDispersiveMeasurement.py\u001b[0m in \u001b[0;36mset_fixed_parameters\u001b[1;34m(self, vna_parameters, q_lo_parameters, ro_awg_parameters, q_awg_parameters, pulse_sequence_parameters, detect_resonator, q_z_awg_params, plot_resonator_fit)\u001b[0m\n\u001b[0;32m     52\u001b[0m                                     \u001b[0mro_awg_parameters\u001b[0m\u001b[1;33m[\u001b[0m\u001b[1;34m\"calibration\"\u001b[0m\u001b[1;33m]\u001b[0m\u001b[1;33m,\u001b[0m\u001b[1;33m\u001b[0m\u001b[0m\n\u001b[0;32m     53\u001b[0m                                     \u001b[0mq_awg_parameters\u001b[0m\u001b[1;33m[\u001b[0m\u001b[1;34m\"calibration\"\u001b[0m\u001b[1;33m]\u001b[0m\u001b[1;33m,\u001b[0m\u001b[1;33m\u001b[0m\u001b[0m\n\u001b[1;32m---> 54\u001b[1;33m                                     q_z_cal, plot_resonator_fit=plot_resonator_fit)\n\u001b[0m\u001b[0;32m     55\u001b[0m             \u001b[0mvna_parameters\u001b[0m\u001b[1;33m[\u001b[0m\u001b[1;34m\"freq_limits\"\u001b[0m\u001b[1;33m]\u001b[0m \u001b[1;33m=\u001b[0m \u001b[1;33m(\u001b[0m\u001b[0mres_freq\u001b[0m\u001b[1;33m,\u001b[0m \u001b[0mres_freq\u001b[0m\u001b[1;33m)\u001b[0m\u001b[1;33m\u001b[0m\u001b[0m\n\u001b[0;32m     56\u001b[0m \u001b[1;33m\u001b[0m\u001b[0m\n",
      "\u001b[1;32m~\\Measurement-automation\\lib2\\VNATimeResolvedDispersiveMeasurement.py\u001b[0m in \u001b[0;36m_detect_resonator\u001b[1;34m(self, vna_parameters, ro_calibration, q_calibration, q_z_calibration, plot_resonator_fit)\u001b[0m\n\u001b[0;32m    137\u001b[0m             \u001b[0mself\u001b[0m\u001b[1;33m.\u001b[0m\u001b[0m_q_z_awg\u001b[0m\u001b[1;33m.\u001b[0m\u001b[0moutput_pulse_sequence\u001b[0m\u001b[1;33m(\u001b[0m\u001b[0mq_z_pb\u001b[0m\u001b[1;33m.\u001b[0m\u001b[0madd_zero_until\u001b[0m\u001b[1;33m(\u001b[0m\u001b[0mrep_period\u001b[0m\u001b[1;33m)\u001b[0m\u001b[1;33m.\u001b[0m\u001b[0mbuild\u001b[0m\u001b[1;33m(\u001b[0m\u001b[1;33m)\u001b[0m\u001b[1;33m)\u001b[0m\u001b[1;33m\u001b[0m\u001b[0m\n\u001b[0;32m    138\u001b[0m \u001b[1;33m\u001b[0m\u001b[0m\n\u001b[1;32m--> 139\u001b[1;33m         \u001b[0mres_freq\u001b[0m\u001b[1;33m,\u001b[0m \u001b[0mres_amp\u001b[0m\u001b[1;33m,\u001b[0m \u001b[0mres_phase\u001b[0m \u001b[1;33m=\u001b[0m \u001b[0msuper\u001b[0m\u001b[1;33m(\u001b[0m\u001b[1;33m)\u001b[0m\u001b[1;33m.\u001b[0m\u001b[0m_detect_resonator\u001b[0m\u001b[1;33m(\u001b[0m\u001b[0mplot_resonator_fit\u001b[0m\u001b[1;33m)\u001b[0m\u001b[1;33m\u001b[0m\u001b[0m\n\u001b[0m\u001b[0;32m    140\u001b[0m         print(\"Detected frequency is %.5f GHz, at %.2f mU and %.2f degrees\"%\\\n\u001b[0;32m    141\u001b[0m                     (res_freq/1e9, res_amp*1e3, res_phase/pi*180))\n",
      "\u001b[1;31mTypeError\u001b[0m: 'NoneType' object is not iterable"
     ]
    }
   ],
   "source": [
    "MR.run ([3])"
   ]
  },
  {
   "cell_type": "code",
   "execution_count": 7,
   "metadata": {},
   "outputs": [
    {
     "data": {
      "text/plain": [
       "(<matplotlib.figure.Figure at 0x1e9493af7f0>,\n",
       " array([<matplotlib.axes._subplots.AxesSubplot object at 0x000001E949494390>,\n",
       "        <matplotlib.axes._subplots.AxesSubplot object at 0x000001E942556860>],\n",
       "       dtype=object),\n",
       " (<matplotlib.axes._axes.Axes at 0x1e94953b518>,\n",
       "  <matplotlib.axes._axes.Axes at 0x1e9426c1a90>))"
      ]
     },
     "execution_count": 7,
     "metadata": {},
     "output_type": "execute_result"
    }
   ],
   "source": [
    "MR._sts_runners[\"I\"]._sts_result.visualize()"
   ]
  },
  {
   "cell_type": "code",
   "execution_count": null,
   "metadata": {
    "collapsed": true
   },
   "outputs": [],
   "source": [
    "MR._tts_runners[\"III\"]._tts_result.save()"
   ]
  },
  {
   "cell_type": "code",
   "execution_count": null,
   "metadata": {
    "collapsed": true,
    "scrolled": true
   },
   "outputs": [],
   "source": [
    "MR._sts"
   ]
  },
  {
   "cell_type": "code",
   "execution_count": null,
   "metadata": {
    "collapsed": true
   },
   "outputs": [],
   "source": [
    "MR._tts_fit_params"
   ]
  },
  {
   "cell_type": "code",
   "execution_count": null,
   "metadata": {
    "collapsed": true
   },
   "outputs": [],
   "source": [
    "MR._exact_qubit_freqs"
   ]
  },
  {
   "cell_type": "code",
   "execution_count": null,
   "metadata": {
    "collapsed": true
   },
   "outputs": [],
   "source": [
    "res = MR._sts_runners[\"I\"]._sts_result\n",
    "res"
   ]
  },
  {
   "cell_type": "code",
   "execution_count": null,
   "metadata": {
    "collapsed": true
   },
   "outputs": [],
   "source": [
    "res/1e6"
   ]
  },
  {
   "cell_type": "code",
   "execution_count": null,
   "metadata": {
    "collapsed": true
   },
   "outputs": [],
   "source": [
    "ao = AnticrossingOracle(\"transmon\", res, True)"
   ]
  },
  {
   "cell_type": "code",
   "execution_count": null,
   "metadata": {
    "collapsed": true
   },
   "outputs": [],
   "source": [
    "ao.find_resonator_intersections()"
   ]
  },
  {
   "cell_type": "code",
   "execution_count": null,
   "metadata": {
    "collapsed": true
   },
   "outputs": [],
   "source": [
    "ao._res_points[1][0]-ao._res_points[21][0]"
   ]
  },
  {
   "cell_type": "code",
   "execution_count": null,
   "metadata": {
    "collapsed": true
   },
   "outputs": [],
   "source": [
    "ao.launch()"
   ]
  },
  {
   "cell_type": "code",
   "execution_count": null,
   "metadata": {
    "collapsed": true
   },
   "outputs": [],
   "source": [
    "data = res.get_data()"
   ]
  },
  {
   "cell_type": "code",
   "execution_count": null,
   "metadata": {
    "collapsed": true
   },
   "outputs": [],
   "source": [
    "freqs, data = data[\"frequency\"], data[\"data\"]"
   ]
  },
  {
   "cell_type": "code",
   "execution_count": null,
   "metadata": {
    "collapsed": true
   },
   "outputs": [],
   "source": [
    "RD = ResonatorDetector(freqs, data[5], plot=True)"
   ]
  },
  {
   "cell_type": "code",
   "execution_count": null,
   "metadata": {
    "collapsed": true
   },
   "outputs": [],
   "source": [
    "RD.detect()"
   ]
  },
  {
   "cell_type": "code",
   "execution_count": null,
   "metadata": {
    "collapsed": true
   },
   "outputs": [],
   "source": [
    "plot(freqs, abs(data[1]))"
   ]
  },
  {
   "cell_type": "code",
   "execution_count": null,
   "metadata": {
    "collapsed": true
   },
   "outputs": [],
   "source": [
    "from resonator_tools.circuit import notch_port"
   ]
  },
  {
   "cell_type": "code",
   "execution_count": null,
   "metadata": {
    "collapsed": true
   },
   "outputs": [],
   "source": [
    "NP = notch_port(freqs, data[1])"
   ]
  },
  {
   "cell_type": "code",
   "execution_count": null,
   "metadata": {
    "collapsed": true
   },
   "outputs": [],
   "source": [
    "NP.autofit()"
   ]
  },
  {
   "cell_type": "code",
   "execution_count": null,
   "metadata": {
    "collapsed": true
   },
   "outputs": [],
   "source": [
    "NP.plotall()"
   ]
  },
  {
   "cell_type": "code",
   "execution_count": null,
   "metadata": {
    "collapsed": true
   },
   "outputs": [],
   "source": [
    "NP.NP._fit_skewed_lorentzian(freqs, data[1])"
   ]
  },
  {
   "cell_type": "code",
   "execution_count": null,
   "metadata": {
    "collapsed": true
   },
   "outputs": [],
   "source": [
    "NP.fitresults"
   ]
  },
  {
   "cell_type": "code",
   "execution_count": null,
   "metadata": {
    "collapsed": true
   },
   "outputs": [],
   "source": []
  }
 ],
 "metadata": {
  "kernelspec": {
   "display_name": "Python 3",
   "language": "python",
   "name": "python3"
  },
  "language_info": {
   "codemirror_mode": {
    "name": "ipython",
    "version": 3
   },
   "file_extension": ".py",
   "mimetype": "text/x-python",
   "name": "python",
   "nbconvert_exporter": "python",
   "pygments_lexer": "ipython3",
   "version": "3.6.8"
  }
 },
 "nbformat": 4,
 "nbformat_minor": 2
}
